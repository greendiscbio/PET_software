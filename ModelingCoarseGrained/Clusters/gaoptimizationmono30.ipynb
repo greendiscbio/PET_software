{
 "cells": [
  {
   "cell_type": "markdown",
   "metadata": {},
   "source": [
    "# Optimization of parameters in genetic algorithms"
   ]
  },
  {
   "cell_type": "markdown",
   "metadata": {},
   "source": [
    "This notebook gathers the results for the parameter optimization made on the mono-objective genetic algorithms, considering a binary threshold of 30."
   ]
  },
  {
   "cell_type": "markdown",
   "metadata": {
    "heading_collapsed": true
   },
   "source": [
    "### Brief explanation"
   ]
  },
  {
   "cell_type": "markdown",
   "metadata": {
    "hidden": true
   },
   "source": [
    "With the previous exploration of parameters, we were able to determine which values resulted in better performances. There was obviously not a unique configuration yielding better results so, for the optimization run, we still allowed some variation. We basically assigned different probabilities of appearence to each of the parameters' values. The parameters, their possible values and their associated probabilities are:\n",
    "\n",
    "- **Estimator**: SVM1 (c=2), SVM2 (c=10), SVM3 (c=50) ------------------------------- Probabilities: 4/9, 3/9, 2/9\n",
    "- **Annihilation**: AN1 (0.2), AN2 (0.3), AN3 (0.4) ----------------------------------------- Probabilities: 4/9, 4/9, 1/9\n",
    "- **Elite**: EL1 (0.2), EL2 (0.3), EL3 (0.4) ----------------------------------------------------- Probabilities: 4/8, 1/8, 3/8\n",
    "- **Mutation rate**: MR1 (0.05), MR2 (0.1), MR3 (0.15) ---------------------------------- Probabilities: 4/9, 4/9, 1/9\n",
    "- **Selection**: SE1 (tournament 2-1) , SE2 (tournament 5-2), SE3 (roulette) ------ Probabilities: 5/9, 2/9, 2/9\n",
    "\n",
    "For each cluster, we run 20 models whose parameters are selected according to these probabilities. The best is chosen according to accuracy and f1 score in the test dataset."
   ]
  },
  {
   "cell_type": "markdown",
   "metadata": {
    "heading_collapsed": true
   },
   "source": [
    "### Import the packages"
   ]
  },
  {
   "cell_type": "markdown",
   "metadata": {
    "hidden": true
   },
   "source": [
    "We import the packages that will be needed. In this case, everything is already contained in the gatools.py file, that loads submodules of PyWin module."
   ]
  },
  {
   "cell_type": "code",
   "execution_count": 1,
   "metadata": {
    "hidden": true
   },
   "outputs": [],
   "source": [
    "import matplotlib\n",
    "import seaborn\n",
    "import sys\n",
    "sys.path.insert(0,'../../Tools')\n",
    "from orderedlist import *\n",
    "from gatools import *\n",
    "bi = Binarization()\n",
    "mo = Models()"
   ]
  },
  {
   "cell_type": "code",
   "execution_count": 2,
   "metadata": {
    "hidden": true
   },
   "outputs": [],
   "source": [
    "pandas.set_option('display.max_rows', None)\n",
    "pandas.set_option('display.max_columns', None)\n",
    "pandas.set_option('display.width', None)\n",
    "pandas.set_option('display.max_colwidth', None)"
   ]
  },
  {
   "cell_type": "markdown",
   "metadata": {
    "heading_collapsed": true
   },
   "source": [
    "### Preparation of results"
   ]
  },
  {
   "cell_type": "markdown",
   "metadata": {},
   "source": [
    "#### General stuff"
   ]
  },
  {
   "cell_type": "code",
   "execution_count": 3,
   "metadata": {
    "hidden": true
   },
   "outputs": [],
   "source": [
    "qual_clusters = bi.get_binary(pandas.read_csv('../../Data/CoarseGrained/Y_clusters_quan_30_9.csv'),30)"
   ]
  },
  {
   "cell_type": "code",
   "execution_count": 4,
   "metadata": {},
   "outputs": [],
   "source": [
    "features = pandas.read_csv('./Optimization_mono_30/optimization_best_features.csv')\n",
    "features_all = pandas.read_csv('./Optimization_mono_30/optimization_features.csv')\n",
    "train = pandas.read_csv('./Optimization_mono_30/optimization_best_train.csv')\n",
    "test = pandas.read_csv('./Optimization_mono_30/optimization_best_test.csv')"
   ]
  },
  {
   "cell_type": "code",
   "execution_count": 5,
   "metadata": {},
   "outputs": [],
   "source": [
    "tasks_clusters = ['_'.join([i.split('_')[-2],i.split('_')[-1]]) for i in list(features['Model'])]"
   ]
  },
  {
   "cell_type": "markdown",
   "metadata": {},
   "source": [
    "#### Metrics"
   ]
  },
  {
   "cell_type": "code",
   "execution_count": 6,
   "metadata": {
    "hidden": true
   },
   "outputs": [],
   "source": [
    "pct_clusters = round(numpy.divide(numpy.sum(qual_clusters),qual_clusters.shape[0]).to_frame().transpose(),3)\n",
    "pct_clusters = pct_clusters.add_prefix('Region=')\n",
    "pct_clusters.index=['percentage_positive']"
   ]
  },
  {
   "cell_type": "code",
   "execution_count": 7,
   "metadata": {},
   "outputs": [],
   "source": [
    "metrics_clusters = pandas.DataFrame()\n",
    "for task in tasks_clusters:\n",
    "    temp_metrics = mo.evaluate_metrics(train,test,task)\n",
    "    try: metrics_clusters = pandas.concat([metrics_clusters,temp_metrics],axis=1)\n",
    "    except: metrics_clusters = temp_metrics"
   ]
  },
  {
   "cell_type": "markdown",
   "metadata": {},
   "source": [
    "#### Features"
   ]
  },
  {
   "cell_type": "code",
   "execution_count": 8,
   "metadata": {},
   "outputs": [],
   "source": [
    "features_clusters = pandas.DataFrame()\n",
    "for task in tasks_clusters:\n",
    "    temp_features = mo.evaluate_features(features,features_all,task)\n",
    "    try: features_clusters = pandas.concat([features_clusters,temp_features],axis=0)\n",
    "    except: features_clusters = temp_features"
   ]
  },
  {
   "cell_type": "code",
   "execution_count": 9,
   "metadata": {},
   "outputs": [],
   "source": [
    "map_clusters = pandas.DataFrame()\n",
    "for task in clusters_list:\n",
    "    try: \n",
    "        temp_map = mo.map_features(features_all,features_list,task)\n",
    "        try: map_clusters = pandas.concat([map_clusters,temp_map],axis=0)\n",
    "        except: map_clusters = temp_map\n",
    "    except: pass"
   ]
  },
  {
   "cell_type": "markdown",
   "metadata": {
    "heading_collapsed": true
   },
   "source": [
    "### Results"
   ]
  },
  {
   "cell_type": "markdown",
   "metadata": {
    "hidden": true
   },
   "source": [
    "Down below we show the **sorted lobes according to accuracy and f1 score**. In the second table, only test information is given (those clusters appearing at the top are the ones with better overall models)."
   ]
  },
  {
   "cell_type": "code",
   "execution_count": 10,
   "metadata": {
    "hidden": true
   },
   "outputs": [
    {
     "data": {
      "text/html": [
       "<div>\n",
       "<style scoped>\n",
       "    .dataframe tbody tr th:only-of-type {\n",
       "        vertical-align: middle;\n",
       "    }\n",
       "\n",
       "    .dataframe tbody tr th {\n",
       "        vertical-align: top;\n",
       "    }\n",
       "\n",
       "    .dataframe thead th {\n",
       "        text-align: right;\n",
       "    }\n",
       "</style>\n",
       "<table border=\"1\" class=\"dataframe\">\n",
       "  <thead>\n",
       "    <tr style=\"text-align: right;\">\n",
       "      <th></th>\n",
       "      <th>Region=cluster_4</th>\n",
       "      <th>Region=cluster_3</th>\n",
       "      <th>Region=cluster_7</th>\n",
       "      <th>Region=cluster_6</th>\n",
       "      <th>Region=cluster_8</th>\n",
       "      <th>Region=cluster_2</th>\n",
       "      <th>Region=cluster_5</th>\n",
       "      <th>Region=cluster_1</th>\n",
       "      <th>Region=cluster_0</th>\n",
       "    </tr>\n",
       "  </thead>\n",
       "  <tbody>\n",
       "    <tr>\n",
       "      <th>accuracy_test</th>\n",
       "      <td>0.803+/-0.025</td>\n",
       "      <td>0.901+/-0.037</td>\n",
       "      <td>0.794+/-0.037</td>\n",
       "      <td>0.853+/-0.041</td>\n",
       "      <td>0.691+/-0.041</td>\n",
       "      <td>0.772+/-0.047</td>\n",
       "      <td>0.865+/-0.036</td>\n",
       "      <td>0.759+/-0.045</td>\n",
       "      <td>0.839+/-0.036</td>\n",
       "    </tr>\n",
       "    <tr>\n",
       "      <th>accuracy_train</th>\n",
       "      <td>0.906+/-0.009</td>\n",
       "      <td>0.953+/-0.010</td>\n",
       "      <td>0.847+/-0.011</td>\n",
       "      <td>0.977+/-0.006</td>\n",
       "      <td>0.712+/-0.015</td>\n",
       "      <td>0.865+/-0.012</td>\n",
       "      <td>0.965+/-0.006</td>\n",
       "      <td>0.838+/-0.012</td>\n",
       "      <td>0.942+/-0.012</td>\n",
       "    </tr>\n",
       "    <tr>\n",
       "      <th>f1_test</th>\n",
       "      <td>0.722+/-0.037</td>\n",
       "      <td>0.691+/-0.106</td>\n",
       "      <td>0.715+/-0.055</td>\n",
       "      <td>0.670+/-0.079</td>\n",
       "      <td>0.717+/-0.034</td>\n",
       "      <td>0.652+/-0.054</td>\n",
       "      <td>0.594+/-0.103</td>\n",
       "      <td>0.653+/-0.058</td>\n",
       "      <td>0.502+/-0.088</td>\n",
       "    </tr>\n",
       "    <tr>\n",
       "      <th>f1_train</th>\n",
       "      <td>0.868+/-0.011</td>\n",
       "      <td>0.852+/-0.028</td>\n",
       "      <td>0.786+/-0.014</td>\n",
       "      <td>0.948+/-0.013</td>\n",
       "      <td>0.733+/-0.009</td>\n",
       "      <td>0.790+/-0.017</td>\n",
       "      <td>0.899+/-0.016</td>\n",
       "      <td>0.767+/-0.015</td>\n",
       "      <td>0.821+/-0.030</td>\n",
       "    </tr>\n",
       "    <tr>\n",
       "      <th>precision_test</th>\n",
       "      <td>0.659+/-0.043</td>\n",
       "      <td>0.619+/-0.117</td>\n",
       "      <td>0.652+/-0.060</td>\n",
       "      <td>0.650+/-0.103</td>\n",
       "      <td>0.597+/-0.035</td>\n",
       "      <td>0.583+/-0.070</td>\n",
       "      <td>0.577+/-0.108</td>\n",
       "      <td>0.605+/-0.066</td>\n",
       "      <td>0.434+/-0.090</td>\n",
       "    </tr>\n",
       "    <tr>\n",
       "      <th>precision_train</th>\n",
       "      <td>0.791+/-0.020</td>\n",
       "      <td>0.768+/-0.044</td>\n",
       "      <td>0.720+/-0.016</td>\n",
       "      <td>0.917+/-0.021</td>\n",
       "      <td>0.614+/-0.015</td>\n",
       "      <td>0.705+/-0.019</td>\n",
       "      <td>0.817+/-0.026</td>\n",
       "      <td>0.705+/-0.023</td>\n",
       "      <td>0.701+/-0.044</td>\n",
       "    </tr>\n",
       "    <tr>\n",
       "      <th>recall_test</th>\n",
       "      <td>0.804+/-0.070</td>\n",
       "      <td>0.792+/-0.119</td>\n",
       "      <td>0.796+/-0.072</td>\n",
       "      <td>0.700+/-0.088</td>\n",
       "      <td>0.900+/-0.055</td>\n",
       "      <td>0.751+/-0.080</td>\n",
       "      <td>0.637+/-0.143</td>\n",
       "      <td>0.714+/-0.075</td>\n",
       "      <td>0.609+/-0.111</td>\n",
       "    </tr>\n",
       "    <tr>\n",
       "      <th>recall_train</th>\n",
       "      <td>0.961+/-0.009</td>\n",
       "      <td>0.957+/-0.013</td>\n",
       "      <td>0.865+/-0.016</td>\n",
       "      <td>0.982+/-0.012</td>\n",
       "      <td>0.911+/-0.015</td>\n",
       "      <td>0.897+/-0.020</td>\n",
       "      <td>1.000+/-0.000</td>\n",
       "      <td>0.841+/-0.024</td>\n",
       "      <td>0.994+/-0.011</td>\n",
       "    </tr>\n",
       "    <tr>\n",
       "      <th>percentage_positive</th>\n",
       "      <td>0.319</td>\n",
       "      <td>0.139</td>\n",
       "      <td>0.325</td>\n",
       "      <td>0.211</td>\n",
       "      <td>0.434</td>\n",
       "      <td>0.283</td>\n",
       "      <td>0.157</td>\n",
       "      <td>0.316</td>\n",
       "      <td>0.133</td>\n",
       "    </tr>\n",
       "  </tbody>\n",
       "</table>\n",
       "</div>"
      ],
      "text/plain": [
       "                    Region=cluster_4 Region=cluster_3 Region=cluster_7  \\\n",
       "accuracy_test          0.803+/-0.025    0.901+/-0.037    0.794+/-0.037   \n",
       "accuracy_train         0.906+/-0.009    0.953+/-0.010    0.847+/-0.011   \n",
       "f1_test                0.722+/-0.037    0.691+/-0.106    0.715+/-0.055   \n",
       "f1_train               0.868+/-0.011    0.852+/-0.028    0.786+/-0.014   \n",
       "precision_test         0.659+/-0.043    0.619+/-0.117    0.652+/-0.060   \n",
       "precision_train        0.791+/-0.020    0.768+/-0.044    0.720+/-0.016   \n",
       "recall_test            0.804+/-0.070    0.792+/-0.119    0.796+/-0.072   \n",
       "recall_train           0.961+/-0.009    0.957+/-0.013    0.865+/-0.016   \n",
       "percentage_positive            0.319            0.139            0.325   \n",
       "\n",
       "                    Region=cluster_6 Region=cluster_8 Region=cluster_2  \\\n",
       "accuracy_test          0.853+/-0.041    0.691+/-0.041    0.772+/-0.047   \n",
       "accuracy_train         0.977+/-0.006    0.712+/-0.015    0.865+/-0.012   \n",
       "f1_test                0.670+/-0.079    0.717+/-0.034    0.652+/-0.054   \n",
       "f1_train               0.948+/-0.013    0.733+/-0.009    0.790+/-0.017   \n",
       "precision_test         0.650+/-0.103    0.597+/-0.035    0.583+/-0.070   \n",
       "precision_train        0.917+/-0.021    0.614+/-0.015    0.705+/-0.019   \n",
       "recall_test            0.700+/-0.088    0.900+/-0.055    0.751+/-0.080   \n",
       "recall_train           0.982+/-0.012    0.911+/-0.015    0.897+/-0.020   \n",
       "percentage_positive            0.211            0.434            0.283   \n",
       "\n",
       "                    Region=cluster_5 Region=cluster_1 Region=cluster_0  \n",
       "accuracy_test          0.865+/-0.036    0.759+/-0.045    0.839+/-0.036  \n",
       "accuracy_train         0.965+/-0.006    0.838+/-0.012    0.942+/-0.012  \n",
       "f1_test                0.594+/-0.103    0.653+/-0.058    0.502+/-0.088  \n",
       "f1_train               0.899+/-0.016    0.767+/-0.015    0.821+/-0.030  \n",
       "precision_test         0.577+/-0.108    0.605+/-0.066    0.434+/-0.090  \n",
       "precision_train        0.817+/-0.026    0.705+/-0.023    0.701+/-0.044  \n",
       "recall_test            0.637+/-0.143    0.714+/-0.075    0.609+/-0.111  \n",
       "recall_train           1.000+/-0.000    0.841+/-0.024    0.994+/-0.011  \n",
       "percentage_positive            0.157            0.316            0.133  "
      ]
     },
     "execution_count": 10,
     "metadata": {},
     "output_type": "execute_result"
    }
   ],
   "source": [
    "metrics_pct_clusters = pandas.concat([metrics_clusters,pct_clusters],join='inner')\n",
    "metrics_pct_clusters"
   ]
  },
  {
   "cell_type": "code",
   "execution_count": 11,
   "metadata": {
    "hidden": true
   },
   "outputs": [
    {
     "data": {
      "text/html": [
       "<div>\n",
       "<style scoped>\n",
       "    .dataframe tbody tr th:only-of-type {\n",
       "        vertical-align: middle;\n",
       "    }\n",
       "\n",
       "    .dataframe tbody tr th {\n",
       "        vertical-align: top;\n",
       "    }\n",
       "\n",
       "    .dataframe thead th {\n",
       "        text-align: right;\n",
       "    }\n",
       "</style>\n",
       "<table border=\"1\" class=\"dataframe\">\n",
       "  <thead>\n",
       "    <tr style=\"text-align: right;\">\n",
       "      <th></th>\n",
       "      <th>accuracy_test</th>\n",
       "      <th>f1_test</th>\n",
       "      <th>precision_test</th>\n",
       "      <th>recall_test</th>\n",
       "      <th>percentage_positive</th>\n",
       "    </tr>\n",
       "  </thead>\n",
       "  <tbody>\n",
       "    <tr>\n",
       "      <th>Region=cluster_4</th>\n",
       "      <td>0.803+/-0.025</td>\n",
       "      <td>0.722+/-0.037</td>\n",
       "      <td>0.659+/-0.043</td>\n",
       "      <td>0.804+/-0.070</td>\n",
       "      <td>0.319</td>\n",
       "    </tr>\n",
       "    <tr>\n",
       "      <th>Region=cluster_3</th>\n",
       "      <td>0.901+/-0.037</td>\n",
       "      <td>0.691+/-0.106</td>\n",
       "      <td>0.619+/-0.117</td>\n",
       "      <td>0.792+/-0.119</td>\n",
       "      <td>0.139</td>\n",
       "    </tr>\n",
       "    <tr>\n",
       "      <th>Region=cluster_7</th>\n",
       "      <td>0.794+/-0.037</td>\n",
       "      <td>0.715+/-0.055</td>\n",
       "      <td>0.652+/-0.060</td>\n",
       "      <td>0.796+/-0.072</td>\n",
       "      <td>0.325</td>\n",
       "    </tr>\n",
       "    <tr>\n",
       "      <th>Region=cluster_6</th>\n",
       "      <td>0.853+/-0.041</td>\n",
       "      <td>0.670+/-0.079</td>\n",
       "      <td>0.650+/-0.103</td>\n",
       "      <td>0.700+/-0.088</td>\n",
       "      <td>0.211</td>\n",
       "    </tr>\n",
       "    <tr>\n",
       "      <th>Region=cluster_8</th>\n",
       "      <td>0.691+/-0.041</td>\n",
       "      <td>0.717+/-0.034</td>\n",
       "      <td>0.597+/-0.035</td>\n",
       "      <td>0.900+/-0.055</td>\n",
       "      <td>0.434</td>\n",
       "    </tr>\n",
       "    <tr>\n",
       "      <th>Region=cluster_2</th>\n",
       "      <td>0.772+/-0.047</td>\n",
       "      <td>0.652+/-0.054</td>\n",
       "      <td>0.583+/-0.070</td>\n",
       "      <td>0.751+/-0.080</td>\n",
       "      <td>0.283</td>\n",
       "    </tr>\n",
       "    <tr>\n",
       "      <th>Region=cluster_5</th>\n",
       "      <td>0.865+/-0.036</td>\n",
       "      <td>0.594+/-0.103</td>\n",
       "      <td>0.577+/-0.108</td>\n",
       "      <td>0.637+/-0.143</td>\n",
       "      <td>0.157</td>\n",
       "    </tr>\n",
       "    <tr>\n",
       "      <th>Region=cluster_1</th>\n",
       "      <td>0.759+/-0.045</td>\n",
       "      <td>0.653+/-0.058</td>\n",
       "      <td>0.605+/-0.066</td>\n",
       "      <td>0.714+/-0.075</td>\n",
       "      <td>0.316</td>\n",
       "    </tr>\n",
       "    <tr>\n",
       "      <th>Region=cluster_0</th>\n",
       "      <td>0.839+/-0.036</td>\n",
       "      <td>0.502+/-0.088</td>\n",
       "      <td>0.434+/-0.090</td>\n",
       "      <td>0.609+/-0.111</td>\n",
       "      <td>0.133</td>\n",
       "    </tr>\n",
       "  </tbody>\n",
       "</table>\n",
       "</div>"
      ],
      "text/plain": [
       "                  accuracy_test        f1_test precision_test    recall_test  \\\n",
       "Region=cluster_4  0.803+/-0.025  0.722+/-0.037  0.659+/-0.043  0.804+/-0.070   \n",
       "Region=cluster_3  0.901+/-0.037  0.691+/-0.106  0.619+/-0.117  0.792+/-0.119   \n",
       "Region=cluster_7  0.794+/-0.037  0.715+/-0.055  0.652+/-0.060  0.796+/-0.072   \n",
       "Region=cluster_6  0.853+/-0.041  0.670+/-0.079  0.650+/-0.103  0.700+/-0.088   \n",
       "Region=cluster_8  0.691+/-0.041  0.717+/-0.034  0.597+/-0.035  0.900+/-0.055   \n",
       "Region=cluster_2  0.772+/-0.047  0.652+/-0.054  0.583+/-0.070  0.751+/-0.080   \n",
       "Region=cluster_5  0.865+/-0.036  0.594+/-0.103  0.577+/-0.108  0.637+/-0.143   \n",
       "Region=cluster_1  0.759+/-0.045  0.653+/-0.058  0.605+/-0.066  0.714+/-0.075   \n",
       "Region=cluster_0  0.839+/-0.036  0.502+/-0.088  0.434+/-0.090  0.609+/-0.111   \n",
       "\n",
       "                 percentage_positive  \n",
       "Region=cluster_4               0.319  \n",
       "Region=cluster_3               0.139  \n",
       "Region=cluster_7               0.325  \n",
       "Region=cluster_6               0.211  \n",
       "Region=cluster_8               0.434  \n",
       "Region=cluster_2               0.283  \n",
       "Region=cluster_5               0.157  \n",
       "Region=cluster_1               0.316  \n",
       "Region=cluster_0               0.133  "
      ]
     },
     "execution_count": 11,
     "metadata": {},
     "output_type": "execute_result"
    }
   ],
   "source": [
    "metrics_pct_clusters.transpose()[['accuracy_test','f1_test','precision_test','recall_test','percentage_positive']]"
   ]
  },
  {
   "cell_type": "markdown",
   "metadata": {},
   "source": [
    "Down below, we include the **selected features for the best model and the most common features in all the models**."
   ]
  },
  {
   "cell_type": "code",
   "execution_count": 12,
   "metadata": {},
   "outputs": [
    {
     "data": {
      "text/html": [
       "<div>\n",
       "<style scoped>\n",
       "    .dataframe tbody tr th:only-of-type {\n",
       "        vertical-align: middle;\n",
       "    }\n",
       "\n",
       "    .dataframe tbody tr th {\n",
       "        vertical-align: top;\n",
       "    }\n",
       "\n",
       "    .dataframe thead th {\n",
       "        text-align: right;\n",
       "    }\n",
       "</style>\n",
       "<table border=\"1\" class=\"dataframe\">\n",
       "  <thead>\n",
       "    <tr style=\"text-align: right;\">\n",
       "      <th></th>\n",
       "      <th>Features best model</th>\n",
       "      <th>Features all models</th>\n",
       "      <th>Avg#</th>\n",
       "    </tr>\n",
       "  </thead>\n",
       "  <tbody>\n",
       "    <tr>\n",
       "      <th>Region=cluster_4</th>\n",
       "      <td>[fcsrt_dif_free, current_age, fcsrt_l1, fcsrt_dif_total, rocf_recognition, rocf_30min, st_2, education_years, diagnostic_CT]</td>\n",
       "      <td>[(rocf_recognition, 0.95), (education_years, 0.95), (fcsrt_dif_total, 0.9), (diagnostic_CT, 0.9), (rocf_30min, 0.85), (fcsrt_lt, 0.55), (fcsrt_l1, 0.55), (current_age, 0.45), (st_3, 0.4), (ace3_visuospatial, 0.35), (st_2, 0.35), (diagnostic_FTD, 0.3), (diagnostic_AD, 0.25), (fcsrt_dif_free, 0.25), (mst_indirect, 0.2), (st_1, 0.15), (tmt_b, 0.15), (sdmt, 0.15), (fcsrt_total, 0.15), (rocf_3min, 0.15), (ace3_attention, 0.1), (ft_animals, 0.1), (vospt_decision, 0.05), (bnt, 0.05), (rocf_time, 0.05), (tmt_a, 0.05), (vospt_silhouette, 0.05), (rocf_copy, 0.05)]</td>\n",
       "      <td>9.45</td>\n",
       "    </tr>\n",
       "    <tr>\n",
       "      <th>Region=cluster_3</th>\n",
       "      <td>[vospt_location, vospt_silhouette, cbtt_direct, fcsrt_lt, tlt_total_correct, st_2, ace3_language, diagnostic_FTD, fcsrt_dif_free]</td>\n",
       "      <td>[(diagnostic_FTD, 0.95), (tlt_total_correct, 0.85), (vospt_silhouette, 0.8), (fcsrt_dif_free, 0.7), (ace3_language, 0.65), (cbtt_direct, 0.65), (current_age, 0.6), (vospt_location, 0.6), (fcsrt_lt, 0.6), (mst_indirect, 0.5), (tmt_b, 0.45), (fcsrt_l1, 0.45), (rocf_30min, 0.4), (fcsrt_total, 0.35), (rocf_3min, 0.35), (diagnostic_CT, 0.35), (diagnostic_AD, 0.35), (tmt_a, 0.35), (ft_animals, 0.3), (rocf_recognition, 0.3), (cbtt_indirect, 0.3), (ace3_visuospatial, 0.3), (st_3, 0.25), (ace3_attention, 0.25), (st_2, 0.25), (ace, 0.25), (st_1, 0.2), (sdmt, 0.2), (bnt, 0.2), (ace3_fluency, 0.15), (ft_formal, 0.15), (ace3_memory, 0.15), (vospt_decision, 0.1), (fcsrt_dif_total, 0.1), (rocf_copy, 0.1), (education_years, 0.1)]</td>\n",
       "      <td>13.60</td>\n",
       "    </tr>\n",
       "    <tr>\n",
       "      <th>Region=cluster_7</th>\n",
       "      <td>[ace3_attention, ace3_fluency, tlt_total_correct, diagnostic_FTD, st_3, diagnostic_AD, fcsrt_l1, diagnostic_CT, st_1]</td>\n",
       "      <td>[(st_3, 1.0), (st_1, 0.95), (fcsrt_l1, 0.95), (diagnostic_FTD, 0.7), (diagnostic_AD, 0.65), (fcsrt_dif_total, 0.55), (vospt_silhouette, 0.5), (diagnostic_CT, 0.5), (ft_animals, 0.45), (ace3_attention, 0.45), (st_2, 0.35), (rocf_recognition, 0.35), (tmt_b, 0.3), (education_years, 0.25), (rocf_30min, 0.25), (rocf_copy, 0.25), (fcsrt_total, 0.2), (ace3_fluency, 0.2), (vospt_discrimination, 0.2), (mst_indirect, 0.2), (rocf_3min, 0.2), (mst_direct, 0.15), (fcsrt_lt, 0.15), (ace3_visuospatial, 0.15), (tlt_total_correct, 0.15), (current_age, 0.1), (ft_formal, 0.05), (ace3_language, 0.05), (sdmt, 0.05), (ace, 0.05), (tmt_a, 0.05), (fcsrt_dif_free, 0.05)]</td>\n",
       "      <td>10.45</td>\n",
       "    </tr>\n",
       "    <tr>\n",
       "      <th>Region=cluster_6</th>\n",
       "      <td>[cbtt_indirect, mst_indirect, ace3_language, fcsrt_total, rocf_recognition, vospt_decision, tlt_total_correct, cbtt_direct, rocf_copy, education_years, ace3_memory, fcsrt_lt, vospt_silhouette, fcsrt_dif_free, ace3_visuospatial, st_2, diagnostic_FTD, diagnostic_CT]</td>\n",
       "      <td>[(education_years, 0.95), (cbtt_indirect, 0.85), (mst_indirect, 0.8), (vospt_silhouette, 0.75), (diagnostic_FTD, 0.75), (cbtt_direct, 0.7), (diagnostic_CT, 0.65), (diagnostic_AD, 0.65), (ace3_language, 0.6), (fcsrt_dif_free, 0.55), (tlt_total_correct, 0.55), (ace3_visuospatial, 0.45), (rocf_recognition, 0.45), (rocf_copy, 0.45), (st_2, 0.4), (current_age, 0.4), (st_3, 0.3), (ace3_memory, 0.3), (mst_direct, 0.3), (bnt, 0.2), (vospt_decision, 0.2), (ace, 0.2), (ace3_attention, 0.2), (fcsrt_lt, 0.2), (fcsrt_total, 0.15), (tmt_a, 0.15), (tmt_b, 0.15), (fcsrt_dif_total, 0.15), (st_1, 0.15), (fcsrt_l1, 0.15), (sdmt, 0.1), (ft_formal, 0.1), (rocf_3min, 0.1), (rocf_time, 0.1), (rocf_30min, 0.05), (ft_animals, 0.05)]</td>\n",
       "      <td>13.25</td>\n",
       "    </tr>\n",
       "    <tr>\n",
       "      <th>Region=cluster_8</th>\n",
       "      <td>[diagnostic_CT, ace3_language, rocf_copy, bnt, st_1, mst_indirect, ace3_visuospatial]</td>\n",
       "      <td>[(diagnostic_CT, 1.0), (rocf_copy, 0.85), (st_1, 0.65), (rocf_3min, 0.3), (st_2, 0.3), (bnt, 0.3), (mst_indirect, 0.25), (ace3_language, 0.2), (fcsrt_dif_total, 0.15), (ace3_visuospatial, 0.15), (tlt_total_correct, 0.15), (sex_female, 0.1), (fcsrt_lt, 0.1), (sex_male, 0.1), (tmt_b, 0.1), (vospt_decision, 0.1), (rocf_time, 0.1), (ft_animals, 0.05), (fcsrt_total, 0.05), (diagnostic_AD, 0.05), (fcsrt_dif_free, 0.05), (cbtt_indirect, 0.05), (current_age, 0.05), (ft_formal, 0.05), (diagnostic_FTD, 0.05)]</td>\n",
       "      <td>5.30</td>\n",
       "    </tr>\n",
       "    <tr>\n",
       "      <th>Region=cluster_2</th>\n",
       "      <td>[tmt_b, rocf_copy, vospt_location, mst_direct, fcsrt_dif_free, current_age, education_years, fcsrt_l1, sex_female, ace3_fluency, rocf_3min, ft_formal, ace, st_2, ft_animals, tlt_total_correct, fcsrt_lt, ace3_memory, fcsrt_dif_total, ace3_language]</td>\n",
       "      <td>[(tmt_b, 0.9), (ft_animals, 0.85), (vospt_location, 0.6), (current_age, 0.5), (mst_direct, 0.5), (st_2, 0.45), (fcsrt_l1, 0.45), (education_years, 0.4), (ace3_memory, 0.4), (fcsrt_dif_free, 0.4), (rocf_3min, 0.4), (st_3, 0.4), (cbtt_indirect, 0.35), (ace3_language, 0.35), (ft_formal, 0.35), (fcsrt_lt, 0.35), (ace3_fluency, 0.3), (sex_male, 0.3), (fcsrt_dif_total, 0.3), (ace, 0.3), (mst_indirect, 0.25), (fcsrt_total, 0.25), (ace3_attention, 0.2), (tlt_total_correct, 0.15), (diagnostic_CT, 0.15), (sdmt, 0.15), (st_1, 0.15), (vospt_silhouette, 0.15), (cbtt_direct, 0.15), (bnt, 0.1), (rocf_30min, 0.1), (ace3_visuospatial, 0.1), (rocf_copy, 0.1), (sex_female, 0.1), (diagnostic_AD, 0.05), (rocf_recognition, 0.05), (vospt_discrimination, 0.05), (diagnostic_FTD, 0.05), (tmt_a, 0.05)]</td>\n",
       "      <td>11.20</td>\n",
       "    </tr>\n",
       "    <tr>\n",
       "      <th>Region=cluster_5</th>\n",
       "      <td>[fcsrt_dif_total, vospt_discrimination, ft_formal, rocf_copy, fcsrt_dif_free, rocf_3min, sex_male, rocf_30min, tlt_total_correct, rocf_recognition, st_1, diagnostic_AD]</td>\n",
       "      <td>[(rocf_3min, 1.0), (vospt_discrimination, 1.0), (education_years, 0.9), (ft_formal, 0.9), (fcsrt_total, 0.75), (diagnostic_FTD, 0.75), (tlt_total_correct, 0.7), (diagnostic_AD, 0.65), (vospt_decision, 0.6), (tmt_a, 0.6), (rocf_30min, 0.6), (bnt, 0.6), (cbtt_indirect, 0.55), (fcsrt_dif_total, 0.5), (ace3_fluency, 0.5), (mst_indirect, 0.5), (ace3_visuospatial, 0.5), (st_1, 0.5), (ace, 0.45), (rocf_copy, 0.45), (rocf_time, 0.45), (mst_direct, 0.45), (sdmt, 0.45), (sex_male, 0.45), (fcsrt_dif_free, 0.45), (st_3, 0.45), (st_2, 0.4), (rocf_recognition, 0.4), (ft_animals, 0.35), (ace3_language, 0.35), (sex_female, 0.35), (current_age, 0.35), (ace3_memory, 0.3), (fcsrt_lt, 0.25), (tmt_b, 0.25), (diagnostic_CT, 0.2), (vospt_silhouette, 0.2), (cbtt_direct, 0.2), (vospt_location, 0.2), (ace3_attention, 0.15), (fcsrt_l1, 0.15)]</td>\n",
       "      <td>19.80</td>\n",
       "    </tr>\n",
       "    <tr>\n",
       "      <th>Region=cluster_1</th>\n",
       "      <td>[ft_animals, vospt_location, rocf_3min, ft_formal, tmt_b, st_3, ace3_language, rocf_copy, diagnostic_AD, rocf_recognition]</td>\n",
       "      <td>[(diagnostic_AD, 0.85), (ft_formal, 0.85), (rocf_3min, 0.8), (rocf_recognition, 0.8), (st_3, 0.8), (vospt_location, 0.7), (ft_animals, 0.65), (tmt_b, 0.6), (ace3_language, 0.5), (mst_indirect, 0.45), (vospt_silhouette, 0.4), (rocf_time, 0.3), (fcsrt_lt, 0.3), (diagnostic_FTD, 0.25), (tmt_a, 0.25), (ace3_visuospatial, 0.25), (rocf_copy, 0.25), (tlt_total_correct, 0.2), (sdmt, 0.2), (current_age, 0.2), (fcsrt_dif_total, 0.2), (sex_female, 0.15), (education_years, 0.15), (mst_direct, 0.15), (diagnostic_CT, 0.15), (cbtt_direct, 0.1), (ace3_memory, 0.1), (ace, 0.1), (st_2, 0.1), (fcsrt_l1, 0.1), (fcsrt_total, 0.1), (fcsrt_dif_free, 0.1), (rocf_30min, 0.1), (bnt, 0.05), (st_1, 0.05), (sex_male, 0.05), (ace3_attention, 0.05), (vospt_decision, 0.05), (ace3_fluency, 0.05)]</td>\n",
       "      <td>11.50</td>\n",
       "    </tr>\n",
       "    <tr>\n",
       "      <th>Region=cluster_0</th>\n",
       "      <td>[ace, fcsrt_dif_total, vospt_discrimination, education_years, tlt_total_correct, rocf_copy, current_age, sex_male, ft_formal, ft_animals, st_1, cbtt_direct, rocf_30min, fcsrt_total, tmt_a, diagnostic_FTD, rocf_recognition, sdmt, fcsrt_dif_free]</td>\n",
       "      <td>[(fcsrt_dif_total, 0.95), (cbtt_indirect, 0.95), (education_years, 0.95), (st_1, 0.9), (bnt, 0.85), (sex_male, 0.85), (diagnostic_FTD, 0.85), (fcsrt_dif_free, 0.85), (ace3_language, 0.8), (tmt_a, 0.8), (tmt_b, 0.75), (rocf_recognition, 0.75), (sex_female, 0.7), (diagnostic_AD, 0.7), (diagnostic_CT, 0.7), (ft_formal, 0.65), (rocf_30min, 0.65), (rocf_copy, 0.65), (st_3, 0.65), (fcsrt_lt, 0.65), (st_2, 0.65), (vospt_discrimination, 0.65), (ft_animals, 0.65), (ace3_memory, 0.65), (ace3_fluency, 0.6), (rocf_3min, 0.6), (ace, 0.6), (rocf_time, 0.6), (current_age, 0.55), (vospt_decision, 0.55), (cbtt_direct, 0.55), (mst_indirect, 0.55), (tlt_total_correct, 0.55), (mst_direct, 0.5), (sdmt, 0.45), (vospt_silhouette, 0.4), (ace3_visuospatial, 0.4), (ace3_attention, 0.4), (fcsrt_total, 0.4), (vospt_location, 0.3), (fcsrt_l1, 0.1)]</td>\n",
       "      <td>26.30</td>\n",
       "    </tr>\n",
       "  </tbody>\n",
       "</table>\n",
       "</div>"
      ],
      "text/plain": [
       "                                                                                                                                                                                                                                                                       Features best model  \\\n",
       "Region=cluster_4                                                                                                                                              [fcsrt_dif_free, current_age, fcsrt_l1, fcsrt_dif_total, rocf_recognition, rocf_30min, st_2, education_years, diagnostic_CT]   \n",
       "Region=cluster_3                                                                                                                                         [vospt_location, vospt_silhouette, cbtt_direct, fcsrt_lt, tlt_total_correct, st_2, ace3_language, diagnostic_FTD, fcsrt_dif_free]   \n",
       "Region=cluster_7                                                                                                                                                     [ace3_attention, ace3_fluency, tlt_total_correct, diagnostic_FTD, st_3, diagnostic_AD, fcsrt_l1, diagnostic_CT, st_1]   \n",
       "Region=cluster_6  [cbtt_indirect, mst_indirect, ace3_language, fcsrt_total, rocf_recognition, vospt_decision, tlt_total_correct, cbtt_direct, rocf_copy, education_years, ace3_memory, fcsrt_lt, vospt_silhouette, fcsrt_dif_free, ace3_visuospatial, st_2, diagnostic_FTD, diagnostic_CT]   \n",
       "Region=cluster_8                                                                                                                                                                                     [diagnostic_CT, ace3_language, rocf_copy, bnt, st_1, mst_indirect, ace3_visuospatial]   \n",
       "Region=cluster_2                   [tmt_b, rocf_copy, vospt_location, mst_direct, fcsrt_dif_free, current_age, education_years, fcsrt_l1, sex_female, ace3_fluency, rocf_3min, ft_formal, ace, st_2, ft_animals, tlt_total_correct, fcsrt_lt, ace3_memory, fcsrt_dif_total, ace3_language]   \n",
       "Region=cluster_5                                                                                                  [fcsrt_dif_total, vospt_discrimination, ft_formal, rocf_copy, fcsrt_dif_free, rocf_3min, sex_male, rocf_30min, tlt_total_correct, rocf_recognition, st_1, diagnostic_AD]   \n",
       "Region=cluster_1                                                                                                                                                [ft_animals, vospt_location, rocf_3min, ft_formal, tmt_b, st_3, ace3_language, rocf_copy, diagnostic_AD, rocf_recognition]   \n",
       "Region=cluster_0                      [ace, fcsrt_dif_total, vospt_discrimination, education_years, tlt_total_correct, rocf_copy, current_age, sex_male, ft_formal, ft_animals, st_1, cbtt_direct, rocf_30min, fcsrt_total, tmt_a, diagnostic_FTD, rocf_recognition, sdmt, fcsrt_dif_free]   \n",
       "\n",
       "                                                                                                                                                                                                                                                                                                                                                                                                                                                                                                                                                                                                                                                                                                                                                                                                                                                              Features all models  \\\n",
       "Region=cluster_4                                                                                                                                                                                                                                                                                 [(rocf_recognition, 0.95), (education_years, 0.95), (fcsrt_dif_total, 0.9), (diagnostic_CT, 0.9), (rocf_30min, 0.85), (fcsrt_lt, 0.55), (fcsrt_l1, 0.55), (current_age, 0.45), (st_3, 0.4), (ace3_visuospatial, 0.35), (st_2, 0.35), (diagnostic_FTD, 0.3), (diagnostic_AD, 0.25), (fcsrt_dif_free, 0.25), (mst_indirect, 0.2), (st_1, 0.15), (tmt_b, 0.15), (sdmt, 0.15), (fcsrt_total, 0.15), (rocf_3min, 0.15), (ace3_attention, 0.1), (ft_animals, 0.1), (vospt_decision, 0.05), (bnt, 0.05), (rocf_time, 0.05), (tmt_a, 0.05), (vospt_silhouette, 0.05), (rocf_copy, 0.05)]   \n",
       "Region=cluster_3                                                                                                              [(diagnostic_FTD, 0.95), (tlt_total_correct, 0.85), (vospt_silhouette, 0.8), (fcsrt_dif_free, 0.7), (ace3_language, 0.65), (cbtt_direct, 0.65), (current_age, 0.6), (vospt_location, 0.6), (fcsrt_lt, 0.6), (mst_indirect, 0.5), (tmt_b, 0.45), (fcsrt_l1, 0.45), (rocf_30min, 0.4), (fcsrt_total, 0.35), (rocf_3min, 0.35), (diagnostic_CT, 0.35), (diagnostic_AD, 0.35), (tmt_a, 0.35), (ft_animals, 0.3), (rocf_recognition, 0.3), (cbtt_indirect, 0.3), (ace3_visuospatial, 0.3), (st_3, 0.25), (ace3_attention, 0.25), (st_2, 0.25), (ace, 0.25), (st_1, 0.2), (sdmt, 0.2), (bnt, 0.2), (ace3_fluency, 0.15), (ft_formal, 0.15), (ace3_memory, 0.15), (vospt_decision, 0.1), (fcsrt_dif_total, 0.1), (rocf_copy, 0.1), (education_years, 0.1)]   \n",
       "Region=cluster_7                                                                                                                                                                                   [(st_3, 1.0), (st_1, 0.95), (fcsrt_l1, 0.95), (diagnostic_FTD, 0.7), (diagnostic_AD, 0.65), (fcsrt_dif_total, 0.55), (vospt_silhouette, 0.5), (diagnostic_CT, 0.5), (ft_animals, 0.45), (ace3_attention, 0.45), (st_2, 0.35), (rocf_recognition, 0.35), (tmt_b, 0.3), (education_years, 0.25), (rocf_30min, 0.25), (rocf_copy, 0.25), (fcsrt_total, 0.2), (ace3_fluency, 0.2), (vospt_discrimination, 0.2), (mst_indirect, 0.2), (rocf_3min, 0.2), (mst_direct, 0.15), (fcsrt_lt, 0.15), (ace3_visuospatial, 0.15), (tlt_total_correct, 0.15), (current_age, 0.1), (ft_formal, 0.05), (ace3_language, 0.05), (sdmt, 0.05), (ace, 0.05), (tmt_a, 0.05), (fcsrt_dif_free, 0.05)]   \n",
       "Region=cluster_6                                                                                                                    [(education_years, 0.95), (cbtt_indirect, 0.85), (mst_indirect, 0.8), (vospt_silhouette, 0.75), (diagnostic_FTD, 0.75), (cbtt_direct, 0.7), (diagnostic_CT, 0.65), (diagnostic_AD, 0.65), (ace3_language, 0.6), (fcsrt_dif_free, 0.55), (tlt_total_correct, 0.55), (ace3_visuospatial, 0.45), (rocf_recognition, 0.45), (rocf_copy, 0.45), (st_2, 0.4), (current_age, 0.4), (st_3, 0.3), (ace3_memory, 0.3), (mst_direct, 0.3), (bnt, 0.2), (vospt_decision, 0.2), (ace, 0.2), (ace3_attention, 0.2), (fcsrt_lt, 0.2), (fcsrt_total, 0.15), (tmt_a, 0.15), (tmt_b, 0.15), (fcsrt_dif_total, 0.15), (st_1, 0.15), (fcsrt_l1, 0.15), (sdmt, 0.1), (ft_formal, 0.1), (rocf_3min, 0.1), (rocf_time, 0.1), (rocf_30min, 0.05), (ft_animals, 0.05)]   \n",
       "Region=cluster_8                                                                                                                                                                                                                                                                                                                                         [(diagnostic_CT, 1.0), (rocf_copy, 0.85), (st_1, 0.65), (rocf_3min, 0.3), (st_2, 0.3), (bnt, 0.3), (mst_indirect, 0.25), (ace3_language, 0.2), (fcsrt_dif_total, 0.15), (ace3_visuospatial, 0.15), (tlt_total_correct, 0.15), (sex_female, 0.1), (fcsrt_lt, 0.1), (sex_male, 0.1), (tmt_b, 0.1), (vospt_decision, 0.1), (rocf_time, 0.1), (ft_animals, 0.05), (fcsrt_total, 0.05), (diagnostic_AD, 0.05), (fcsrt_dif_free, 0.05), (cbtt_indirect, 0.05), (current_age, 0.05), (ft_formal, 0.05), (diagnostic_FTD, 0.05)]   \n",
       "Region=cluster_2                                               [(tmt_b, 0.9), (ft_animals, 0.85), (vospt_location, 0.6), (current_age, 0.5), (mst_direct, 0.5), (st_2, 0.45), (fcsrt_l1, 0.45), (education_years, 0.4), (ace3_memory, 0.4), (fcsrt_dif_free, 0.4), (rocf_3min, 0.4), (st_3, 0.4), (cbtt_indirect, 0.35), (ace3_language, 0.35), (ft_formal, 0.35), (fcsrt_lt, 0.35), (ace3_fluency, 0.3), (sex_male, 0.3), (fcsrt_dif_total, 0.3), (ace, 0.3), (mst_indirect, 0.25), (fcsrt_total, 0.25), (ace3_attention, 0.2), (tlt_total_correct, 0.15), (diagnostic_CT, 0.15), (sdmt, 0.15), (st_1, 0.15), (vospt_silhouette, 0.15), (cbtt_direct, 0.15), (bnt, 0.1), (rocf_30min, 0.1), (ace3_visuospatial, 0.1), (rocf_copy, 0.1), (sex_female, 0.1), (diagnostic_AD, 0.05), (rocf_recognition, 0.05), (vospt_discrimination, 0.05), (diagnostic_FTD, 0.05), (tmt_a, 0.05)]   \n",
       "Region=cluster_5      [(rocf_3min, 1.0), (vospt_discrimination, 1.0), (education_years, 0.9), (ft_formal, 0.9), (fcsrt_total, 0.75), (diagnostic_FTD, 0.75), (tlt_total_correct, 0.7), (diagnostic_AD, 0.65), (vospt_decision, 0.6), (tmt_a, 0.6), (rocf_30min, 0.6), (bnt, 0.6), (cbtt_indirect, 0.55), (fcsrt_dif_total, 0.5), (ace3_fluency, 0.5), (mst_indirect, 0.5), (ace3_visuospatial, 0.5), (st_1, 0.5), (ace, 0.45), (rocf_copy, 0.45), (rocf_time, 0.45), (mst_direct, 0.45), (sdmt, 0.45), (sex_male, 0.45), (fcsrt_dif_free, 0.45), (st_3, 0.45), (st_2, 0.4), (rocf_recognition, 0.4), (ft_animals, 0.35), (ace3_language, 0.35), (sex_female, 0.35), (current_age, 0.35), (ace3_memory, 0.3), (fcsrt_lt, 0.25), (tmt_b, 0.25), (diagnostic_CT, 0.2), (vospt_silhouette, 0.2), (cbtt_direct, 0.2), (vospt_location, 0.2), (ace3_attention, 0.15), (fcsrt_l1, 0.15)]   \n",
       "Region=cluster_1                                                           [(diagnostic_AD, 0.85), (ft_formal, 0.85), (rocf_3min, 0.8), (rocf_recognition, 0.8), (st_3, 0.8), (vospt_location, 0.7), (ft_animals, 0.65), (tmt_b, 0.6), (ace3_language, 0.5), (mst_indirect, 0.45), (vospt_silhouette, 0.4), (rocf_time, 0.3), (fcsrt_lt, 0.3), (diagnostic_FTD, 0.25), (tmt_a, 0.25), (ace3_visuospatial, 0.25), (rocf_copy, 0.25), (tlt_total_correct, 0.2), (sdmt, 0.2), (current_age, 0.2), (fcsrt_dif_total, 0.2), (sex_female, 0.15), (education_years, 0.15), (mst_direct, 0.15), (diagnostic_CT, 0.15), (cbtt_direct, 0.1), (ace3_memory, 0.1), (ace, 0.1), (st_2, 0.1), (fcsrt_l1, 0.1), (fcsrt_total, 0.1), (fcsrt_dif_free, 0.1), (rocf_30min, 0.1), (bnt, 0.05), (st_1, 0.05), (sex_male, 0.05), (ace3_attention, 0.05), (vospt_decision, 0.05), (ace3_fluency, 0.05)]   \n",
       "Region=cluster_0  [(fcsrt_dif_total, 0.95), (cbtt_indirect, 0.95), (education_years, 0.95), (st_1, 0.9), (bnt, 0.85), (sex_male, 0.85), (diagnostic_FTD, 0.85), (fcsrt_dif_free, 0.85), (ace3_language, 0.8), (tmt_a, 0.8), (tmt_b, 0.75), (rocf_recognition, 0.75), (sex_female, 0.7), (diagnostic_AD, 0.7), (diagnostic_CT, 0.7), (ft_formal, 0.65), (rocf_30min, 0.65), (rocf_copy, 0.65), (st_3, 0.65), (fcsrt_lt, 0.65), (st_2, 0.65), (vospt_discrimination, 0.65), (ft_animals, 0.65), (ace3_memory, 0.65), (ace3_fluency, 0.6), (rocf_3min, 0.6), (ace, 0.6), (rocf_time, 0.6), (current_age, 0.55), (vospt_decision, 0.55), (cbtt_direct, 0.55), (mst_indirect, 0.55), (tlt_total_correct, 0.55), (mst_direct, 0.5), (sdmt, 0.45), (vospt_silhouette, 0.4), (ace3_visuospatial, 0.4), (ace3_attention, 0.4), (fcsrt_total, 0.4), (vospt_location, 0.3), (fcsrt_l1, 0.1)]   \n",
       "\n",
       "                   Avg#  \n",
       "Region=cluster_4   9.45  \n",
       "Region=cluster_3  13.60  \n",
       "Region=cluster_7  10.45  \n",
       "Region=cluster_6  13.25  \n",
       "Region=cluster_8   5.30  \n",
       "Region=cluster_2  11.20  \n",
       "Region=cluster_5  19.80  \n",
       "Region=cluster_1  11.50  \n",
       "Region=cluster_0  26.30  "
      ]
     },
     "execution_count": 12,
     "metadata": {},
     "output_type": "execute_result"
    }
   ],
   "source": [
    "features_clusters"
   ]
  },
  {
   "cell_type": "markdown",
   "metadata": {},
   "source": [
    "Down below, we include a **heatmap indicating the frequency of each feature in predicting each lobe**. The features are ordered by nature (diagnostic features, demographic features and cognitive features -ordered themselves according to the cognitive function measured-), making it easier to see patterns."
   ]
  },
  {
   "cell_type": "code",
   "execution_count": 13,
   "metadata": {},
   "outputs": [
    {
     "data": {
      "text/plain": [
       "<matplotlib.axes._subplots.AxesSubplot at 0x9b75c88>"
      ]
     },
     "execution_count": 13,
     "metadata": {},
     "output_type": "execute_result"
    },
    {
     "data": {
      "image/png": "[encoded data removed]",
      "text/plain": [
       "<Figure size 1152x288 with 2 Axes>"
      ]
     },
     "metadata": {
      "needs_background": "light"
     },
     "output_type": "display_data"
    }
   ],
   "source": [
    "matplotlib.rcParams['figure.figsize'] = (16,4)\n",
    "seaborn.heatmap(map_clusters,cmap='Greys',xticklabels=True,yticklabels=True)"
   ]
  },
  {
   "cell_type": "markdown",
   "metadata": {
    "heading_collapsed": true
   },
   "source": [
    "### Conclusions"
   ]
  },
  {
   "cell_type": "markdown",
   "metadata": {},
   "source": [
    "We can see that **grouping brain regions into clusters does not improve remarkably our predictions**. In fact, the results obtained are similar to those appearing in the best half of fine-grained prediction. What appears to be happening is that those regions which were best predicted compensate for those regions which were worst predicted. One advantage of doing the coarse-grained prediction with lobes was that differences in hypometabolism between lobes were not that pronounced. This does not happen with clusters, because similarly expressed regions tend to group together.\n",
    "\n",
    "**In comparison with the prediction by lobes, we can see a clear improvement in f1 score but a slight worsening in accuracy**. This was expected and comes to show that grouping regions based on metabolic information makes more sense than doing so based on anatomical information."
   ]
  }
 ],
 "metadata": {
  "kernelspec": {
   "display_name": "Python 3",
   "language": "python",
   "name": "python3"
  },
  "language_info": {
   "codemirror_mode": {
    "name": "ipython",
    "version": 3
   },
   "file_extension": ".py",
   "mimetype": "text/x-python",
   "name": "python",
   "nbconvert_exporter": "python",
   "pygments_lexer": "ipython3",
   "version": "3.7.6"
  }
 },
 "nbformat": 4,
 "nbformat_minor": 4
}
