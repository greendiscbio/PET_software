{
 "cells": [
  {
   "cell_type": "markdown",
   "metadata": {},
   "source": [
    "# Optimization of parameters in genetic algorithms"
   ]
  },
  {
   "cell_type": "markdown",
   "metadata": {},
   "source": [
    "This notebook gathers the results for the parameter optimization made on the multi-objective genetic algorithms, considering a binary threshold of 30."
   ]
  },
  {
   "cell_type": "markdown",
   "metadata": {
    "heading_collapsed": true
   },
   "source": [
    "### Brief explanation"
   ]
  },
  {
   "cell_type": "markdown",
   "metadata": {
    "hidden": true
   },
   "source": [
    "With the previous exploration of parameters, we were able to determine which values resulted in better performances. There was obviously not a unique configuration yielding better results so, for the optimization run, we still allowed some variation. We basically assigned different probabilities of appearence to each of the parameters' values. The parameters, their possible values and their associated probabilities are:\n",
    "\n",
    "- **Algorithm**: ALG1 (NSGA2), ALG2 (SPEA2) ----------------------------------------- Probabilities: 6/9, 3/9\n",
    "- **Estimator**: SVM1 (c=2), SVM2 (c=10), SVM3 (c=50) ------------------------------- Probabilities: 5/9, 3/9, 1/9\n",
    "- **Mutation rate**: MR1 (0.05), MR2 (0.1), MR3 (0.15) ---------------------------------- Probabilities: 7/9, 1/9, 1/9\n",
    "- **Selection**: SE1 (tournament 2-1) , SE2 (tournament 5-2), SE3 (roulette) ------ Probabilities: 5/9, 2/9, 2/9\n",
    "\n",
    "For each cluster, we run 10 models whose parameters are selected according to these probabilities. Each of the models yields a set of solutions and the best is chosen according to accuracy and f1 score in the test dataset."
   ]
  },
  {
   "cell_type": "markdown",
   "metadata": {
    "heading_collapsed": true
   },
   "source": [
    "### Import the packages"
   ]
  },
  {
   "cell_type": "markdown",
   "metadata": {
    "hidden": true
   },
   "source": [
    "We import the packages that will be needed. In this case, everything is already contained in the gatools.py file, that loads submodules of PyWin module."
   ]
  },
  {
   "cell_type": "code",
   "execution_count": 1,
   "metadata": {
    "hidden": true
   },
   "outputs": [],
   "source": [
    "import matplotlib\n",
    "import seaborn\n",
    "import sys\n",
    "sys.path.insert(0,'../../Tools')\n",
    "from orderedlist import *\n",
    "from gatools import *\n",
    "bi = Binarization()\n",
    "mo = Models()"
   ]
  },
  {
   "cell_type": "code",
   "execution_count": 2,
   "metadata": {
    "hidden": true
   },
   "outputs": [],
   "source": [
    "pandas.set_option('display.max_rows', None)\n",
    "pandas.set_option('display.max_columns', None)\n",
    "pandas.set_option('display.width', None)\n",
    "pandas.set_option('display.max_colwidth', None)"
   ]
  },
  {
   "cell_type": "markdown",
   "metadata": {
    "heading_collapsed": true
   },
   "source": [
    "### Preparation of results"
   ]
  },
  {
   "cell_type": "markdown",
   "metadata": {},
   "source": [
    "#### General stuff"
   ]
  },
  {
   "cell_type": "code",
   "execution_count": 3,
   "metadata": {
    "hidden": true
   },
   "outputs": [],
   "source": [
    "qual_clusters = bi.get_binary(pandas.read_csv('../../Data/CoarseGrained/Y_clusters_quan_30_9.csv'),30)"
   ]
  },
  {
   "cell_type": "code",
   "execution_count": 4,
   "metadata": {},
   "outputs": [],
   "source": [
    "features = pandas.read_csv('./Optimization_multi_30/optimization_best_features.csv')\n",
    "features_all = pandas.read_csv('./Optimization_multi_30/optimization_features.csv')\n",
    "train = pandas.read_csv('./Optimization_multi_30/optimization_best_train.csv')\n",
    "test = pandas.read_csv('./Optimization_multi_30/optimization_best_test.csv')"
   ]
  },
  {
   "cell_type": "code",
   "execution_count": 5,
   "metadata": {},
   "outputs": [],
   "source": [
    "tasks_clusters = ['_'.join([i.split('_')[-2],i.split('_')[-1]]) for i in list(features['Model'])]"
   ]
  },
  {
   "cell_type": "markdown",
   "metadata": {},
   "source": [
    "#### Metrics"
   ]
  },
  {
   "cell_type": "code",
   "execution_count": 6,
   "metadata": {
    "hidden": true
   },
   "outputs": [],
   "source": [
    "pct_clusters = round(numpy.divide(numpy.sum(qual_clusters),qual_clusters.shape[0]).to_frame().transpose(),3)\n",
    "pct_clusters = pct_clusters.add_prefix('Region=')\n",
    "pct_clusters.index=['percentage_positive']"
   ]
  },
  {
   "cell_type": "code",
   "execution_count": 7,
   "metadata": {},
   "outputs": [],
   "source": [
    "metrics_clusters = pandas.DataFrame()\n",
    "for task in tasks_clusters:\n",
    "    temp_metrics = mo.evaluate_metrics(train,test,task)\n",
    "    try: metrics_clusters = pandas.concat([metrics_clusters,temp_metrics],axis=1)\n",
    "    except: metrics_clusters = temp_metrics"
   ]
  },
  {
   "cell_type": "markdown",
   "metadata": {},
   "source": [
    "#### Features"
   ]
  },
  {
   "cell_type": "code",
   "execution_count": 8,
   "metadata": {},
   "outputs": [],
   "source": [
    "features_clusters = pandas.DataFrame()\n",
    "for task in tasks_clusters:\n",
    "    temp_features = mo.evaluate_features(features,features_all,task)\n",
    "    try: features_clusters = pandas.concat([features_clusters,temp_features],axis=0)\n",
    "    except: features_clusters = temp_features"
   ]
  },
  {
   "cell_type": "code",
   "execution_count": 9,
   "metadata": {},
   "outputs": [],
   "source": [
    "map_clusters = pandas.DataFrame()\n",
    "for task in clusters_list:\n",
    "    try: \n",
    "        temp_map = mo.map_features(features_all,features_list,task)\n",
    "        try: map_clusters = pandas.concat([map_clusters,temp_map],axis=0)\n",
    "        except: map_clusters = temp_map\n",
    "    except: pass"
   ]
  },
  {
   "cell_type": "markdown",
   "metadata": {
    "heading_collapsed": true
   },
   "source": [
    "### Results"
   ]
  },
  {
   "cell_type": "markdown",
   "metadata": {
    "hidden": true
   },
   "source": [
    "Down below we show the **sorted lobes according to accuracy and f1 score**. In the second table, only test information is given (those clusters appearing at the top are the ones with better overall models)."
   ]
  },
  {
   "cell_type": "code",
   "execution_count": 10,
   "metadata": {
    "hidden": true
   },
   "outputs": [
    {
     "data": {
      "text/html": [
       "<div>\n",
       "<style scoped>\n",
       "    .dataframe tbody tr th:only-of-type {\n",
       "        vertical-align: middle;\n",
       "    }\n",
       "\n",
       "    .dataframe tbody tr th {\n",
       "        vertical-align: top;\n",
       "    }\n",
       "\n",
       "    .dataframe thead th {\n",
       "        text-align: right;\n",
       "    }\n",
       "</style>\n",
       "<table border=\"1\" class=\"dataframe\">\n",
       "  <thead>\n",
       "    <tr style=\"text-align: right;\">\n",
       "      <th></th>\n",
       "      <th>Region=cluster_4</th>\n",
       "      <th>Region=cluster_3</th>\n",
       "      <th>Region=cluster_7</th>\n",
       "      <th>Region=cluster_6</th>\n",
       "      <th>Region=cluster_2</th>\n",
       "      <th>Region=cluster_8</th>\n",
       "      <th>Region=cluster_5</th>\n",
       "      <th>Region=cluster_1</th>\n",
       "      <th>Region=cluster_0</th>\n",
       "    </tr>\n",
       "  </thead>\n",
       "  <tbody>\n",
       "    <tr>\n",
       "      <th>accuracy_test</th>\n",
       "      <td>0.814+/-0.036</td>\n",
       "      <td>0.890+/-0.033</td>\n",
       "      <td>0.802+/-0.036</td>\n",
       "      <td>0.829+/-0.024</td>\n",
       "      <td>0.781+/-0.037</td>\n",
       "      <td>0.716+/-0.043</td>\n",
       "      <td>0.858+/-0.044</td>\n",
       "      <td>0.758+/-0.038</td>\n",
       "      <td>0.843+/-0.038</td>\n",
       "    </tr>\n",
       "    <tr>\n",
       "      <th>accuracy_train</th>\n",
       "      <td>0.891+/-0.008</td>\n",
       "      <td>0.919+/-0.012</td>\n",
       "      <td>0.827+/-0.012</td>\n",
       "      <td>0.892+/-0.011</td>\n",
       "      <td>0.826+/-0.011</td>\n",
       "      <td>0.745+/-0.016</td>\n",
       "      <td>0.917+/-0.012</td>\n",
       "      <td>0.832+/-0.016</td>\n",
       "      <td>0.925+/-0.012</td>\n",
       "    </tr>\n",
       "    <tr>\n",
       "      <th>f1_test</th>\n",
       "      <td>0.741+/-0.042</td>\n",
       "      <td>0.686+/-0.079</td>\n",
       "      <td>0.714+/-0.051</td>\n",
       "      <td>0.639+/-0.051</td>\n",
       "      <td>0.656+/-0.055</td>\n",
       "      <td>0.711+/-0.042</td>\n",
       "      <td>0.623+/-0.104</td>\n",
       "      <td>0.657+/-0.048</td>\n",
       "      <td>0.535+/-0.086</td>\n",
       "    </tr>\n",
       "    <tr>\n",
       "      <th>f1_train</th>\n",
       "      <td>0.847+/-0.010</td>\n",
       "      <td>0.755+/-0.030</td>\n",
       "      <td>0.751+/-0.015</td>\n",
       "      <td>0.770+/-0.019</td>\n",
       "      <td>0.724+/-0.016</td>\n",
       "      <td>0.740+/-0.014</td>\n",
       "      <td>0.781+/-0.027</td>\n",
       "      <td>0.760+/-0.020</td>\n",
       "      <td>0.770+/-0.030</td>\n",
       "    </tr>\n",
       "    <tr>\n",
       "      <th>precision_test</th>\n",
       "      <td>0.674+/-0.063</td>\n",
       "      <td>0.579+/-0.094</td>\n",
       "      <td>0.679+/-0.064</td>\n",
       "      <td>0.580+/-0.059</td>\n",
       "      <td>0.596+/-0.062</td>\n",
       "      <td>0.639+/-0.048</td>\n",
       "      <td>0.547+/-0.113</td>\n",
       "      <td>0.601+/-0.059</td>\n",
       "      <td>0.449+/-0.084</td>\n",
       "    </tr>\n",
       "    <tr>\n",
       "      <th>precision_train</th>\n",
       "      <td>0.767+/-0.016</td>\n",
       "      <td>0.652+/-0.036</td>\n",
       "      <td>0.709+/-0.022</td>\n",
       "      <td>0.702+/-0.031</td>\n",
       "      <td>0.658+/-0.021</td>\n",
       "      <td>0.664+/-0.020</td>\n",
       "      <td>0.669+/-0.035</td>\n",
       "      <td>0.695+/-0.026</td>\n",
       "      <td>0.653+/-0.043</td>\n",
       "    </tr>\n",
       "    <tr>\n",
       "      <th>recall_test</th>\n",
       "      <td>0.831+/-0.070</td>\n",
       "      <td>0.861+/-0.106</td>\n",
       "      <td>0.762+/-0.086</td>\n",
       "      <td>0.723+/-0.095</td>\n",
       "      <td>0.740+/-0.096</td>\n",
       "      <td>0.804+/-0.061</td>\n",
       "      <td>0.744+/-0.140</td>\n",
       "      <td>0.730+/-0.072</td>\n",
       "      <td>0.680+/-0.134</td>\n",
       "    </tr>\n",
       "    <tr>\n",
       "      <th>recall_train</th>\n",
       "      <td>0.946+/-0.011</td>\n",
       "      <td>0.898+/-0.026</td>\n",
       "      <td>0.799+/-0.023</td>\n",
       "      <td>0.855+/-0.022</td>\n",
       "      <td>0.806+/-0.023</td>\n",
       "      <td>0.837+/-0.026</td>\n",
       "      <td>0.937+/-0.018</td>\n",
       "      <td>0.839+/-0.022</td>\n",
       "      <td>0.940+/-0.021</td>\n",
       "    </tr>\n",
       "    <tr>\n",
       "      <th>percentage_positive</th>\n",
       "      <td>0.319</td>\n",
       "      <td>0.139</td>\n",
       "      <td>0.325</td>\n",
       "      <td>0.211</td>\n",
       "      <td>0.283</td>\n",
       "      <td>0.434</td>\n",
       "      <td>0.157</td>\n",
       "      <td>0.316</td>\n",
       "      <td>0.133</td>\n",
       "    </tr>\n",
       "  </tbody>\n",
       "</table>\n",
       "</div>"
      ],
      "text/plain": [
       "                    Region=cluster_4 Region=cluster_3 Region=cluster_7  \\\n",
       "accuracy_test          0.814+/-0.036    0.890+/-0.033    0.802+/-0.036   \n",
       "accuracy_train         0.891+/-0.008    0.919+/-0.012    0.827+/-0.012   \n",
       "f1_test                0.741+/-0.042    0.686+/-0.079    0.714+/-0.051   \n",
       "f1_train               0.847+/-0.010    0.755+/-0.030    0.751+/-0.015   \n",
       "precision_test         0.674+/-0.063    0.579+/-0.094    0.679+/-0.064   \n",
       "precision_train        0.767+/-0.016    0.652+/-0.036    0.709+/-0.022   \n",
       "recall_test            0.831+/-0.070    0.861+/-0.106    0.762+/-0.086   \n",
       "recall_train           0.946+/-0.011    0.898+/-0.026    0.799+/-0.023   \n",
       "percentage_positive            0.319            0.139            0.325   \n",
       "\n",
       "                    Region=cluster_6 Region=cluster_2 Region=cluster_8  \\\n",
       "accuracy_test          0.829+/-0.024    0.781+/-0.037    0.716+/-0.043   \n",
       "accuracy_train         0.892+/-0.011    0.826+/-0.011    0.745+/-0.016   \n",
       "f1_test                0.639+/-0.051    0.656+/-0.055    0.711+/-0.042   \n",
       "f1_train               0.770+/-0.019    0.724+/-0.016    0.740+/-0.014   \n",
       "precision_test         0.580+/-0.059    0.596+/-0.062    0.639+/-0.048   \n",
       "precision_train        0.702+/-0.031    0.658+/-0.021    0.664+/-0.020   \n",
       "recall_test            0.723+/-0.095    0.740+/-0.096    0.804+/-0.061   \n",
       "recall_train           0.855+/-0.022    0.806+/-0.023    0.837+/-0.026   \n",
       "percentage_positive            0.211            0.283            0.434   \n",
       "\n",
       "                    Region=cluster_5 Region=cluster_1 Region=cluster_0  \n",
       "accuracy_test          0.858+/-0.044    0.758+/-0.038    0.843+/-0.038  \n",
       "accuracy_train         0.917+/-0.012    0.832+/-0.016    0.925+/-0.012  \n",
       "f1_test                0.623+/-0.104    0.657+/-0.048    0.535+/-0.086  \n",
       "f1_train               0.781+/-0.027    0.760+/-0.020    0.770+/-0.030  \n",
       "precision_test         0.547+/-0.113    0.601+/-0.059    0.449+/-0.084  \n",
       "precision_train        0.669+/-0.035    0.695+/-0.026    0.653+/-0.043  \n",
       "recall_test            0.744+/-0.140    0.730+/-0.072    0.680+/-0.134  \n",
       "recall_train           0.937+/-0.018    0.839+/-0.022    0.940+/-0.021  \n",
       "percentage_positive            0.157            0.316            0.133  "
      ]
     },
     "execution_count": 10,
     "metadata": {},
     "output_type": "execute_result"
    }
   ],
   "source": [
    "metrics_pct_clusters = pandas.concat([metrics_clusters,pct_clusters],join='inner')\n",
    "metrics_pct_clusters"
   ]
  },
  {
   "cell_type": "code",
   "execution_count": 11,
   "metadata": {
    "hidden": true
   },
   "outputs": [
    {
     "data": {
      "text/html": [
       "<div>\n",
       "<style scoped>\n",
       "    .dataframe tbody tr th:only-of-type {\n",
       "        vertical-align: middle;\n",
       "    }\n",
       "\n",
       "    .dataframe tbody tr th {\n",
       "        vertical-align: top;\n",
       "    }\n",
       "\n",
       "    .dataframe thead th {\n",
       "        text-align: right;\n",
       "    }\n",
       "</style>\n",
       "<table border=\"1\" class=\"dataframe\">\n",
       "  <thead>\n",
       "    <tr style=\"text-align: right;\">\n",
       "      <th></th>\n",
       "      <th>accuracy_test</th>\n",
       "      <th>f1_test</th>\n",
       "      <th>precision_test</th>\n",
       "      <th>recall_test</th>\n",
       "      <th>percentage_positive</th>\n",
       "    </tr>\n",
       "  </thead>\n",
       "  <tbody>\n",
       "    <tr>\n",
       "      <th>Region=cluster_4</th>\n",
       "      <td>0.814+/-0.036</td>\n",
       "      <td>0.741+/-0.042</td>\n",
       "      <td>0.674+/-0.063</td>\n",
       "      <td>0.831+/-0.070</td>\n",
       "      <td>0.319</td>\n",
       "    </tr>\n",
       "    <tr>\n",
       "      <th>Region=cluster_3</th>\n",
       "      <td>0.890+/-0.033</td>\n",
       "      <td>0.686+/-0.079</td>\n",
       "      <td>0.579+/-0.094</td>\n",
       "      <td>0.861+/-0.106</td>\n",
       "      <td>0.139</td>\n",
       "    </tr>\n",
       "    <tr>\n",
       "      <th>Region=cluster_7</th>\n",
       "      <td>0.802+/-0.036</td>\n",
       "      <td>0.714+/-0.051</td>\n",
       "      <td>0.679+/-0.064</td>\n",
       "      <td>0.762+/-0.086</td>\n",
       "      <td>0.325</td>\n",
       "    </tr>\n",
       "    <tr>\n",
       "      <th>Region=cluster_6</th>\n",
       "      <td>0.829+/-0.024</td>\n",
       "      <td>0.639+/-0.051</td>\n",
       "      <td>0.580+/-0.059</td>\n",
       "      <td>0.723+/-0.095</td>\n",
       "      <td>0.211</td>\n",
       "    </tr>\n",
       "    <tr>\n",
       "      <th>Region=cluster_2</th>\n",
       "      <td>0.781+/-0.037</td>\n",
       "      <td>0.656+/-0.055</td>\n",
       "      <td>0.596+/-0.062</td>\n",
       "      <td>0.740+/-0.096</td>\n",
       "      <td>0.283</td>\n",
       "    </tr>\n",
       "    <tr>\n",
       "      <th>Region=cluster_8</th>\n",
       "      <td>0.716+/-0.043</td>\n",
       "      <td>0.711+/-0.042</td>\n",
       "      <td>0.639+/-0.048</td>\n",
       "      <td>0.804+/-0.061</td>\n",
       "      <td>0.434</td>\n",
       "    </tr>\n",
       "    <tr>\n",
       "      <th>Region=cluster_5</th>\n",
       "      <td>0.858+/-0.044</td>\n",
       "      <td>0.623+/-0.104</td>\n",
       "      <td>0.547+/-0.113</td>\n",
       "      <td>0.744+/-0.140</td>\n",
       "      <td>0.157</td>\n",
       "    </tr>\n",
       "    <tr>\n",
       "      <th>Region=cluster_1</th>\n",
       "      <td>0.758+/-0.038</td>\n",
       "      <td>0.657+/-0.048</td>\n",
       "      <td>0.601+/-0.059</td>\n",
       "      <td>0.730+/-0.072</td>\n",
       "      <td>0.316</td>\n",
       "    </tr>\n",
       "    <tr>\n",
       "      <th>Region=cluster_0</th>\n",
       "      <td>0.843+/-0.038</td>\n",
       "      <td>0.535+/-0.086</td>\n",
       "      <td>0.449+/-0.084</td>\n",
       "      <td>0.680+/-0.134</td>\n",
       "      <td>0.133</td>\n",
       "    </tr>\n",
       "  </tbody>\n",
       "</table>\n",
       "</div>"
      ],
      "text/plain": [
       "                  accuracy_test        f1_test precision_test    recall_test  \\\n",
       "Region=cluster_4  0.814+/-0.036  0.741+/-0.042  0.674+/-0.063  0.831+/-0.070   \n",
       "Region=cluster_3  0.890+/-0.033  0.686+/-0.079  0.579+/-0.094  0.861+/-0.106   \n",
       "Region=cluster_7  0.802+/-0.036  0.714+/-0.051  0.679+/-0.064  0.762+/-0.086   \n",
       "Region=cluster_6  0.829+/-0.024  0.639+/-0.051  0.580+/-0.059  0.723+/-0.095   \n",
       "Region=cluster_2  0.781+/-0.037  0.656+/-0.055  0.596+/-0.062  0.740+/-0.096   \n",
       "Region=cluster_8  0.716+/-0.043  0.711+/-0.042  0.639+/-0.048  0.804+/-0.061   \n",
       "Region=cluster_5  0.858+/-0.044  0.623+/-0.104  0.547+/-0.113  0.744+/-0.140   \n",
       "Region=cluster_1  0.758+/-0.038  0.657+/-0.048  0.601+/-0.059  0.730+/-0.072   \n",
       "Region=cluster_0  0.843+/-0.038  0.535+/-0.086  0.449+/-0.084  0.680+/-0.134   \n",
       "\n",
       "                 percentage_positive  \n",
       "Region=cluster_4               0.319  \n",
       "Region=cluster_3               0.139  \n",
       "Region=cluster_7               0.325  \n",
       "Region=cluster_6               0.211  \n",
       "Region=cluster_2               0.283  \n",
       "Region=cluster_8               0.434  \n",
       "Region=cluster_5               0.157  \n",
       "Region=cluster_1               0.316  \n",
       "Region=cluster_0               0.133  "
      ]
     },
     "execution_count": 11,
     "metadata": {},
     "output_type": "execute_result"
    }
   ],
   "source": [
    "metrics_pct_clusters.transpose()[['accuracy_test','f1_test','precision_test','recall_test','percentage_positive']]"
   ]
  },
  {
   "cell_type": "markdown",
   "metadata": {},
   "source": [
    "Down below, we include the **selected features for the best model and the most common features in all the models**."
   ]
  },
  {
   "cell_type": "code",
   "execution_count": 12,
   "metadata": {},
   "outputs": [
    {
     "data": {
      "text/html": [
       "<div>\n",
       "<style scoped>\n",
       "    .dataframe tbody tr th:only-of-type {\n",
       "        vertical-align: middle;\n",
       "    }\n",
       "\n",
       "    .dataframe tbody tr th {\n",
       "        vertical-align: top;\n",
       "    }\n",
       "\n",
       "    .dataframe thead th {\n",
       "        text-align: right;\n",
       "    }\n",
       "</style>\n",
       "<table border=\"1\" class=\"dataframe\">\n",
       "  <thead>\n",
       "    <tr style=\"text-align: right;\">\n",
       "      <th></th>\n",
       "      <th>Features best model</th>\n",
       "      <th>Features all models</th>\n",
       "      <th>Avg#</th>\n",
       "    </tr>\n",
       "  </thead>\n",
       "  <tbody>\n",
       "    <tr>\n",
       "      <th>Region=cluster_4</th>\n",
       "      <td>[fcsrt_l1, diagnostic_CT, education_years, fcsrt_dif_total, sdmt, rocf_recognition, rocf_30min, current_age, fcsrt_total]</td>\n",
       "      <td>[(rocf_30min, 0.95), (fcsrt_dif_total, 0.91), (education_years, 0.75), (rocf_recognition, 0.48), (fcsrt_lt, 0.43), (diagnostic_CT, 0.32), (fcsrt_l1, 0.14), (current_age, 0.12), (fcsrt_dif_free, 0.11), (st_3, 0.09), (st_1, 0.05), (sdmt, 0.04), (rocf_3min, 0.04), (vospt_silhouette, 0.04), (ace3_visuospatial, 0.04), (rocf_copy, 0.02), (fcsrt_total, 0.02), (cbtt_indirect, 0.02), (diagnostic_AD, 0.02), (tmt_a, 0.02), (diagnostic_FTD, 0.02), (mst_indirect, 0.02)]</td>\n",
       "      <td>4.62</td>\n",
       "    </tr>\n",
       "    <tr>\n",
       "      <th>Region=cluster_3</th>\n",
       "      <td>[diagnostic_FTD, ace, ace3_language, tmt_a, vospt_location, vospt_decision, tlt_total_correct, vospt_silhouette, fcsrt_dif_free, cbtt_direct]</td>\n",
       "      <td>[(diagnostic_FTD, 1.0), (tlt_total_correct, 0.85), (vospt_silhouette, 0.85), (ace3_language, 0.61), (cbtt_direct, 0.42), (current_age, 0.25), (fcsrt_total, 0.24), (vospt_location, 0.15), (fcsrt_dif_free, 0.14), (rocf_recognition, 0.14), (tmt_a, 0.13), (cbtt_indirect, 0.13), (fcsrt_dif_total, 0.11), (mst_indirect, 0.1), (ace, 0.07), (fcsrt_lt, 0.07), (rocf_3min, 0.06), (ace3_fluency, 0.06), (bnt, 0.04), (ace3_memory, 0.03), (st_2, 0.03), (tmt_b, 0.03), (fcsrt_l1, 0.03), (vospt_decision, 0.01), (ft_animals, 0.01), (sdmt, 0.01), (rocf_30min, 0.01), (st_1, 0.01), (ace3_visuospatial, 0.01)]</td>\n",
       "      <td>5.61</td>\n",
       "    </tr>\n",
       "    <tr>\n",
       "      <th>Region=cluster_7</th>\n",
       "      <td>[ft_animals, diagnostic_FTD, fcsrt_l1, st_1, st_3, fcsrt_total]</td>\n",
       "      <td>[(st_3, 0.98), (fcsrt_l1, 0.89), (diagnostic_FTD, 0.68), (st_1, 0.57), (fcsrt_dif_total, 0.49), (ft_animals, 0.21), (diagnostic_CT, 0.09), (diagnostic_AD, 0.09), (ace3_attention, 0.08), (rocf_30min, 0.08), (education_years, 0.08), (vospt_silhouette, 0.08), (ace3_visuospatial, 0.06), (st_2, 0.06), (rocf_3min, 0.04), (current_age, 0.04), (tlt_total_correct, 0.04), (vospt_decision, 0.02), (fcsrt_total, 0.02), (tmt_a, 0.02), (rocf_time, 0.02), (ft_formal, 0.02)]</td>\n",
       "      <td>4.62</td>\n",
       "    </tr>\n",
       "    <tr>\n",
       "      <th>Region=cluster_6</th>\n",
       "      <td>[ace3_language, cbtt_indirect, fcsrt_l1, education_years, diagnostic_FTD, vospt_silhouette]</td>\n",
       "      <td>[(diagnostic_FTD, 1.0), (education_years, 0.82), (cbtt_indirect, 0.79), (vospt_silhouette, 0.65), (ace3_language, 0.32), (cbtt_direct, 0.3), (vospt_decision, 0.19), (rocf_recognition, 0.18), (diagnostic_CT, 0.14), (tlt_total_correct, 0.12), (mst_indirect, 0.12), (st_1, 0.12), (st_3, 0.11), (bnt, 0.09), (fcsrt_dif_free, 0.09), (ace3_memory, 0.09), (ace3_visuospatial, 0.07), (rocf_copy, 0.07), (rocf_3min, 0.07), (diagnostic_AD, 0.07), (st_2, 0.05), (current_age, 0.04), (rocf_time, 0.04), (mst_direct, 0.04), (vospt_location, 0.04), (fcsrt_lt, 0.04), (fcsrt_l1, 0.02), (fcsrt_dif_total, 0.02), (ft_formal, 0.02), (ace3_attention, 0.02), (ace3_fluency, 0.02), (tmt_b, 0.02), (ace, 0.02), (tmt_a, 0.02), (fcsrt_total, 0.02), (sdmt, 0.02), (vospt_discrimination, 0.02)]</td>\n",
       "      <td>5.82</td>\n",
       "    </tr>\n",
       "    <tr>\n",
       "      <th>Region=cluster_2</th>\n",
       "      <td>[fcsrt_total, ace3_language, rocf_3min, vospt_location, st_3, fcsrt_lt, mst_indirect, st_2, ft_animals, ace3_memory, tmt_b]</td>\n",
       "      <td>[(ft_animals, 0.96), (tmt_b, 0.93), (vospt_location, 0.49), (st_3, 0.29), (current_age, 0.25), (mst_direct, 0.25), (ace3_language, 0.24), (fcsrt_l1, 0.22), (education_years, 0.2), (tlt_total_correct, 0.13), (fcsrt_total, 0.13), (rocf_3min, 0.13), (cbtt_indirect, 0.13), (ace3_memory, 0.11), (fcsrt_dif_free, 0.11), (ace3_fluency, 0.09), (fcsrt_lt, 0.09), (mst_indirect, 0.07), (sex_male, 0.05), (st_2, 0.05), (ft_formal, 0.05), (bnt, 0.05), (fcsrt_dif_total, 0.05), (sex_female, 0.04), (tmt_a, 0.04), (ace, 0.02), (ace3_attention, 0.02), (rocf_time, 0.02), (diagnostic_FTD, 0.02), (st_1, 0.02), (sdmt, 0.02), (vospt_discrimination, 0.02)]</td>\n",
       "      <td>5.29</td>\n",
       "    </tr>\n",
       "    <tr>\n",
       "      <th>Region=cluster_8</th>\n",
       "      <td>[diagnostic_CT, sex_male, ace3_fluency, current_age, mst_indirect, rocf_copy]</td>\n",
       "      <td>[(diagnostic_CT, 1.0), (rocf_copy, 0.71), (st_1, 0.6), (rocf_3min, 0.57), (sex_male, 0.14), (fcsrt_dif_total, 0.06), (ace3_visuospatial, 0.06), (mst_indirect, 0.06), (current_age, 0.06), (ace3_fluency, 0.06), (ft_animals, 0.06), (ft_formal, 0.06), (fcsrt_l1, 0.03), (fcsrt_dif_free, 0.03), (st_2, 0.03)]</td>\n",
       "      <td>3.51</td>\n",
       "    </tr>\n",
       "    <tr>\n",
       "      <th>Region=cluster_5</th>\n",
       "      <td>[education_years, ace, fcsrt_dif_free, sex_female, rocf_30min, diagnostic_AD, vospt_discrimination, rocf_3min]</td>\n",
       "      <td>[(vospt_discrimination, 1.0), (rocf_3min, 0.97), (diagnostic_AD, 0.7), (education_years, 0.47), (fcsrt_dif_free, 0.3), (ft_formal, 0.2), (ace, 0.2), (sex_male, 0.2), (ace3_fluency, 0.2), (sex_female, 0.18), (rocf_30min, 0.18), (fcsrt_l1, 0.17), (tmt_a, 0.07), (tlt_total_correct, 0.05), (cbtt_direct, 0.03), (st_1, 0.03), (ace3_visuospatial, 0.03), (rocf_recognition, 0.03), (bnt, 0.03), (rocf_copy, 0.03), (vospt_silhouette, 0.02), (diagnostic_FTD, 0.02), (fcsrt_total, 0.02), (ace3_attention, 0.02), (rocf_time, 0.02), (ace3_language, 0.02), (ace3_memory, 0.02), (fcsrt_lt, 0.02)]</td>\n",
       "      <td>5.22</td>\n",
       "    </tr>\n",
       "    <tr>\n",
       "      <th>Region=cluster_1</th>\n",
       "      <td>[fcsrt_lt, ft_animals, tmt_b, st_3, diagnostic_AD, mst_direct, ft_formal, mst_indirect, vospt_location, rocf_3min, rocf_recognition]</td>\n",
       "      <td>[(diagnostic_AD, 0.98), (st_3, 0.91), (ft_formal, 0.73), (rocf_recognition, 0.55), (vospt_location, 0.52), (ft_animals, 0.47), (rocf_3min, 0.29), (ace3_language, 0.12), (mst_indirect, 0.11), (tmt_b, 0.11), (fcsrt_lt, 0.09), (vospt_silhouette, 0.08), (vospt_discrimination, 0.08), (rocf_copy, 0.05), (fcsrt_dif_free, 0.05), (cbtt_direct, 0.03), (ace3_visuospatial, 0.03), (cbtt_indirect, 0.03), (mst_direct, 0.03), (tmt_a, 0.03), (diagnostic_CT, 0.02), (diagnostic_FTD, 0.02), (current_age, 0.02), (st_2, 0.02), (sex_male, 0.02), (ace, 0.02), (rocf_time, 0.02), (rocf_30min, 0.02)]</td>\n",
       "      <td>5.38</td>\n",
       "    </tr>\n",
       "    <tr>\n",
       "      <th>Region=cluster_0</th>\n",
       "      <td>[diagnostic_FTD, sex_female, ace3_fluency, st_1, fcsrt_dif_total, cbtt_direct, ace3_visuospatial, ace3_language, education_years, cbtt_indirect, ft_formal, tlt_total_correct, rocf_recognition, tmt_a, ace3_memory]</td>\n",
       "      <td>[(diagnostic_FTD, 0.97), (fcsrt_dif_total, 0.66), (ace3_language, 0.54), (ace3_memory, 0.51), (cbtt_indirect, 0.43), (sex_female, 0.39), (tlt_total_correct, 0.37), (st_1, 0.34), (tmt_a, 0.28), (education_years, 0.25), (rocf_recognition, 0.24), (current_age, 0.24), (sex_male, 0.24), (ace3_visuospatial, 0.24), (fcsrt_dif_free, 0.22), (rocf_copy, 0.21), (ace3_fluency, 0.21), (ft_formal, 0.19), (rocf_30min, 0.18), (cbtt_direct, 0.16), (diagnostic_CT, 0.16), (fcsrt_total, 0.15), (st_3, 0.13), (sdmt, 0.13), (bnt, 0.13), (tmt_b, 0.12), (diagnostic_AD, 0.1), (rocf_3min, 0.1), (vospt_discrimination, 0.1), (ace, 0.09), (st_2, 0.07), (fcsrt_lt, 0.06), (vospt_location, 0.06), (mst_indirect, 0.04), (vospt_decision, 0.04), (rocf_time, 0.03), (vospt_silhouette, 0.03), (ft_animals, 0.03), (ace3_attention, 0.01)]</td>\n",
       "      <td>8.51</td>\n",
       "    </tr>\n",
       "  </tbody>\n",
       "</table>\n",
       "</div>"
      ],
      "text/plain": [
       "                                                                                                                                                                                                                   Features best model  \\\n",
       "Region=cluster_4                                                                                             [fcsrt_l1, diagnostic_CT, education_years, fcsrt_dif_total, sdmt, rocf_recognition, rocf_30min, current_age, fcsrt_total]   \n",
       "Region=cluster_3                                                                         [diagnostic_FTD, ace, ace3_language, tmt_a, vospt_location, vospt_decision, tlt_total_correct, vospt_silhouette, fcsrt_dif_free, cbtt_direct]   \n",
       "Region=cluster_7                                                                                                                                                       [ft_animals, diagnostic_FTD, fcsrt_l1, st_1, st_3, fcsrt_total]   \n",
       "Region=cluster_6                                                                                                                           [ace3_language, cbtt_indirect, fcsrt_l1, education_years, diagnostic_FTD, vospt_silhouette]   \n",
       "Region=cluster_2                                                                                           [fcsrt_total, ace3_language, rocf_3min, vospt_location, st_3, fcsrt_lt, mst_indirect, st_2, ft_animals, ace3_memory, tmt_b]   \n",
       "Region=cluster_8                                                                                                                                         [diagnostic_CT, sex_male, ace3_fluency, current_age, mst_indirect, rocf_copy]   \n",
       "Region=cluster_5                                                                                                        [education_years, ace, fcsrt_dif_free, sex_female, rocf_30min, diagnostic_AD, vospt_discrimination, rocf_3min]   \n",
       "Region=cluster_1                                                                                  [fcsrt_lt, ft_animals, tmt_b, st_3, diagnostic_AD, mst_direct, ft_formal, mst_indirect, vospt_location, rocf_3min, rocf_recognition]   \n",
       "Region=cluster_0  [diagnostic_FTD, sex_female, ace3_fluency, st_1, fcsrt_dif_total, cbtt_direct, ace3_visuospatial, ace3_language, education_years, cbtt_indirect, ft_formal, tlt_total_correct, rocf_recognition, tmt_a, ace3_memory]   \n",
       "\n",
       "                                                                                                                                                                                                                                                                                                                                                                                                                                                                                                                                                                                                                                                                                                                                                                                                                                      Features all models  \\\n",
       "Region=cluster_4                                                                                                                                                                                                                                                                                                                                                            [(rocf_30min, 0.95), (fcsrt_dif_total, 0.91), (education_years, 0.75), (rocf_recognition, 0.48), (fcsrt_lt, 0.43), (diagnostic_CT, 0.32), (fcsrt_l1, 0.14), (current_age, 0.12), (fcsrt_dif_free, 0.11), (st_3, 0.09), (st_1, 0.05), (sdmt, 0.04), (rocf_3min, 0.04), (vospt_silhouette, 0.04), (ace3_visuospatial, 0.04), (rocf_copy, 0.02), (fcsrt_total, 0.02), (cbtt_indirect, 0.02), (diagnostic_AD, 0.02), (tmt_a, 0.02), (diagnostic_FTD, 0.02), (mst_indirect, 0.02)]   \n",
       "Region=cluster_3                                                                                                                                                                                                                         [(diagnostic_FTD, 1.0), (tlt_total_correct, 0.85), (vospt_silhouette, 0.85), (ace3_language, 0.61), (cbtt_direct, 0.42), (current_age, 0.25), (fcsrt_total, 0.24), (vospt_location, 0.15), (fcsrt_dif_free, 0.14), (rocf_recognition, 0.14), (tmt_a, 0.13), (cbtt_indirect, 0.13), (fcsrt_dif_total, 0.11), (mst_indirect, 0.1), (ace, 0.07), (fcsrt_lt, 0.07), (rocf_3min, 0.06), (ace3_fluency, 0.06), (bnt, 0.04), (ace3_memory, 0.03), (st_2, 0.03), (tmt_b, 0.03), (fcsrt_l1, 0.03), (vospt_decision, 0.01), (ft_animals, 0.01), (sdmt, 0.01), (rocf_30min, 0.01), (st_1, 0.01), (ace3_visuospatial, 0.01)]   \n",
       "Region=cluster_7                                                                                                                                                                                                                                                                                                                                                           [(st_3, 0.98), (fcsrt_l1, 0.89), (diagnostic_FTD, 0.68), (st_1, 0.57), (fcsrt_dif_total, 0.49), (ft_animals, 0.21), (diagnostic_CT, 0.09), (diagnostic_AD, 0.09), (ace3_attention, 0.08), (rocf_30min, 0.08), (education_years, 0.08), (vospt_silhouette, 0.08), (ace3_visuospatial, 0.06), (st_2, 0.06), (rocf_3min, 0.04), (current_age, 0.04), (tlt_total_correct, 0.04), (vospt_decision, 0.02), (fcsrt_total, 0.02), (tmt_a, 0.02), (rocf_time, 0.02), (ft_formal, 0.02)]   \n",
       "Region=cluster_6                                         [(diagnostic_FTD, 1.0), (education_years, 0.82), (cbtt_indirect, 0.79), (vospt_silhouette, 0.65), (ace3_language, 0.32), (cbtt_direct, 0.3), (vospt_decision, 0.19), (rocf_recognition, 0.18), (diagnostic_CT, 0.14), (tlt_total_correct, 0.12), (mst_indirect, 0.12), (st_1, 0.12), (st_3, 0.11), (bnt, 0.09), (fcsrt_dif_free, 0.09), (ace3_memory, 0.09), (ace3_visuospatial, 0.07), (rocf_copy, 0.07), (rocf_3min, 0.07), (diagnostic_AD, 0.07), (st_2, 0.05), (current_age, 0.04), (rocf_time, 0.04), (mst_direct, 0.04), (vospt_location, 0.04), (fcsrt_lt, 0.04), (fcsrt_l1, 0.02), (fcsrt_dif_total, 0.02), (ft_formal, 0.02), (ace3_attention, 0.02), (ace3_fluency, 0.02), (tmt_b, 0.02), (ace, 0.02), (tmt_a, 0.02), (fcsrt_total, 0.02), (sdmt, 0.02), (vospt_discrimination, 0.02)]   \n",
       "Region=cluster_2                                                                                                                                                                           [(ft_animals, 0.96), (tmt_b, 0.93), (vospt_location, 0.49), (st_3, 0.29), (current_age, 0.25), (mst_direct, 0.25), (ace3_language, 0.24), (fcsrt_l1, 0.22), (education_years, 0.2), (tlt_total_correct, 0.13), (fcsrt_total, 0.13), (rocf_3min, 0.13), (cbtt_indirect, 0.13), (ace3_memory, 0.11), (fcsrt_dif_free, 0.11), (ace3_fluency, 0.09), (fcsrt_lt, 0.09), (mst_indirect, 0.07), (sex_male, 0.05), (st_2, 0.05), (ft_formal, 0.05), (bnt, 0.05), (fcsrt_dif_total, 0.05), (sex_female, 0.04), (tmt_a, 0.04), (ace, 0.02), (ace3_attention, 0.02), (rocf_time, 0.02), (diagnostic_FTD, 0.02), (st_1, 0.02), (sdmt, 0.02), (vospt_discrimination, 0.02)]   \n",
       "Region=cluster_8                                                                                                                                                                                                                                                                                                                                                                                                                                                                                                                          [(diagnostic_CT, 1.0), (rocf_copy, 0.71), (st_1, 0.6), (rocf_3min, 0.57), (sex_male, 0.14), (fcsrt_dif_total, 0.06), (ace3_visuospatial, 0.06), (mst_indirect, 0.06), (current_age, 0.06), (ace3_fluency, 0.06), (ft_animals, 0.06), (ft_formal, 0.06), (fcsrt_l1, 0.03), (fcsrt_dif_free, 0.03), (st_2, 0.03)]   \n",
       "Region=cluster_5                                                                                                                                                                                                                                   [(vospt_discrimination, 1.0), (rocf_3min, 0.97), (diagnostic_AD, 0.7), (education_years, 0.47), (fcsrt_dif_free, 0.3), (ft_formal, 0.2), (ace, 0.2), (sex_male, 0.2), (ace3_fluency, 0.2), (sex_female, 0.18), (rocf_30min, 0.18), (fcsrt_l1, 0.17), (tmt_a, 0.07), (tlt_total_correct, 0.05), (cbtt_direct, 0.03), (st_1, 0.03), (ace3_visuospatial, 0.03), (rocf_recognition, 0.03), (bnt, 0.03), (rocf_copy, 0.03), (vospt_silhouette, 0.02), (diagnostic_FTD, 0.02), (fcsrt_total, 0.02), (ace3_attention, 0.02), (rocf_time, 0.02), (ace3_language, 0.02), (ace3_memory, 0.02), (fcsrt_lt, 0.02)]   \n",
       "Region=cluster_1                                                                                                                                                                                                                                     [(diagnostic_AD, 0.98), (st_3, 0.91), (ft_formal, 0.73), (rocf_recognition, 0.55), (vospt_location, 0.52), (ft_animals, 0.47), (rocf_3min, 0.29), (ace3_language, 0.12), (mst_indirect, 0.11), (tmt_b, 0.11), (fcsrt_lt, 0.09), (vospt_silhouette, 0.08), (vospt_discrimination, 0.08), (rocf_copy, 0.05), (fcsrt_dif_free, 0.05), (cbtt_direct, 0.03), (ace3_visuospatial, 0.03), (cbtt_indirect, 0.03), (mst_direct, 0.03), (tmt_a, 0.03), (diagnostic_CT, 0.02), (diagnostic_FTD, 0.02), (current_age, 0.02), (st_2, 0.02), (sex_male, 0.02), (ace, 0.02), (rocf_time, 0.02), (rocf_30min, 0.02)]   \n",
       "Region=cluster_0  [(diagnostic_FTD, 0.97), (fcsrt_dif_total, 0.66), (ace3_language, 0.54), (ace3_memory, 0.51), (cbtt_indirect, 0.43), (sex_female, 0.39), (tlt_total_correct, 0.37), (st_1, 0.34), (tmt_a, 0.28), (education_years, 0.25), (rocf_recognition, 0.24), (current_age, 0.24), (sex_male, 0.24), (ace3_visuospatial, 0.24), (fcsrt_dif_free, 0.22), (rocf_copy, 0.21), (ace3_fluency, 0.21), (ft_formal, 0.19), (rocf_30min, 0.18), (cbtt_direct, 0.16), (diagnostic_CT, 0.16), (fcsrt_total, 0.15), (st_3, 0.13), (sdmt, 0.13), (bnt, 0.13), (tmt_b, 0.12), (diagnostic_AD, 0.1), (rocf_3min, 0.1), (vospt_discrimination, 0.1), (ace, 0.09), (st_2, 0.07), (fcsrt_lt, 0.06), (vospt_location, 0.06), (mst_indirect, 0.04), (vospt_decision, 0.04), (rocf_time, 0.03), (vospt_silhouette, 0.03), (ft_animals, 0.03), (ace3_attention, 0.01)]   \n",
       "\n",
       "                  Avg#  \n",
       "Region=cluster_4  4.62  \n",
       "Region=cluster_3  5.61  \n",
       "Region=cluster_7  4.62  \n",
       "Region=cluster_6  5.82  \n",
       "Region=cluster_2  5.29  \n",
       "Region=cluster_8  3.51  \n",
       "Region=cluster_5  5.22  \n",
       "Region=cluster_1  5.38  \n",
       "Region=cluster_0  8.51  "
      ]
     },
     "execution_count": 12,
     "metadata": {},
     "output_type": "execute_result"
    }
   ],
   "source": [
    "features_clusters"
   ]
  },
  {
   "cell_type": "markdown",
   "metadata": {},
   "source": [
    "Down below, we include a **heatmap indicating the frequency of each feature in predicting each lobe**. The features are ordered by nature (diagnostic features, demographic features and cognitive features -ordered themselves according to the cognitive function measured-), making it easier to see patterns."
   ]
  },
  {
   "cell_type": "code",
   "execution_count": 13,
   "metadata": {},
   "outputs": [
    {
     "data": {
      "text/plain": [
       "<matplotlib.axes._subplots.AxesSubplot at 0xbd93348>"
      ]
     },
     "execution_count": 13,
     "metadata": {},
     "output_type": "execute_result"
    },
    {
     "data": {
      "image/png": "[encoded data removed]",
      "text/plain": [
       "<Figure size 1152x288 with 2 Axes>"
      ]
     },
     "metadata": {
      "needs_background": "light"
     },
     "output_type": "display_data"
    }
   ],
   "source": [
    "matplotlib.rcParams['figure.figsize'] = (16,4)\n",
    "seaborn.heatmap(map_clusters,cmap='Greys',xticklabels=True,yticklabels=True)"
   ]
  },
  {
   "cell_type": "markdown",
   "metadata": {
    "heading_collapsed": true
   },
   "source": [
    "### Conclusions"
   ]
  },
  {
   "cell_type": "markdown",
   "metadata": {},
   "source": [
    "We can see that **grouping brain regions into clusters does not improve remarkably our predictions**. In fact, the results obtained are similar to those appearing in the best half of fine-grained prediction. What appears to be happening is that those regions which were best predicted compensate for those regions which were worst predicted. One advantage of doing the coarse-grained prediction with lobes was that differences in hypometabolism between lobes were not that pronounced. This does not happen with clusters, because similarly expressed regions tend to group together.\n",
    "\n",
    "**In comparison with the prediction by lobes, we can see a clear improvement, specially in f1 score**. This was expected and comes to show that grouping regions based on metabolic information makes more sense than doing so based on anatomical information.\n",
    "\n",
    "As for the features selected in the prediction of each cluster, it is clear how **knowing whether a patient has Frontotemporal dementia is vital for predicting cluster 0, 3 and 6**, **knowing whether a patient has Alzheimer's disease is vital for predicting cluster 1** and knowing whether a patients has either of them is vital for predicting cluster 8. Some outstanding relations are those that link cluster 1 with st_3, cluster 2 with tmt_a and ft_animals, cluster 3 with vospt_decision and tlt_total_correct, cluster 4 with fcsrt_diff_total and rocf_30min, cluster 5 with rocf_3min and vospt_discrimination, cluster 6 with education_years and cbtt_indirect, cluster 7 with fcsrt_l1 and st_3."
   ]
  }
 ],
 "metadata": {
  "kernelspec": {
   "display_name": "Python 3",
   "language": "python",
   "name": "python3"
  },
  "language_info": {
   "codemirror_mode": {
    "name": "ipython",
    "version": 3
   },
   "file_extension": ".py",
   "mimetype": "text/x-python",
   "name": "python",
   "nbconvert_exporter": "python",
   "pygments_lexer": "ipython3",
   "version": "3.7.6"
  }
 },
 "nbformat": 4,
 "nbformat_minor": 4
}
