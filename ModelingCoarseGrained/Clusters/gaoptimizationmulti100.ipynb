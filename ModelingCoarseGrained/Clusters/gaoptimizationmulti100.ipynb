{
 "cells": [
  {
   "cell_type": "markdown",
   "metadata": {},
   "source": [
    "# Optimization of parameters in genetic algorithms"
   ]
  },
  {
   "cell_type": "markdown",
   "metadata": {},
   "source": [
    "This notebook gathers the results for the parameter optimization made on the multi-objective genetic algorithms, considering a binary threshold of 100."
   ]
  },
  {
   "cell_type": "markdown",
   "metadata": {
    "heading_collapsed": true
   },
   "source": [
    "### Brief explanation"
   ]
  },
  {
   "cell_type": "markdown",
   "metadata": {
    "hidden": true
   },
   "source": [
    "With the previous exploration of parameters, we were able to determine which values resulted in better performances. There was obviously not a unique configuration yielding better results so, for the optimization run, we still allowed some variation. We basically assigned different probabilities of appearence to each of the parameters' values. The parameters, their possible values and their associated probabilities are:\n",
    "\n",
    "- **Algorithm**: ALG1 (NSGA2), ALG2 (SPEA2) ----------------------------------------- Probabilities: 5/9, 4/9\n",
    "- **Estimator**: SVM1 (c=2), SVM2 (c=10), SVM3 (c=50) ------------------------------- Probabilities: 2/9, 3/9, 4/9\n",
    "- **Mutation rate**: MR1 (0.05), MR2 (0.1), MR3 (0.15) ---------------------------------- Probabilities: 4/9, 3/9, 2/9\n",
    "- **Selection**: SE1 (tournament 2-1) , SE2 (tournament 5-2), SE3 (roulette) ------ Probabilities: 1/9, 5/9, 3/9\n",
    "\n",
    "For each cluster, we run 10 models whose parameters are selected according to these probabilities. Each of the models yields a set of solutions and the best is chosen according to accuracy and f1 score in the test dataset."
   ]
  },
  {
   "cell_type": "markdown",
   "metadata": {
    "heading_collapsed": true
   },
   "source": [
    "### Import the packages"
   ]
  },
  {
   "cell_type": "markdown",
   "metadata": {
    "hidden": true
   },
   "source": [
    "We import the packages that will be needed. In this case, everything is already contained in the gatools.py file, that loads submodules of PyWin module."
   ]
  },
  {
   "cell_type": "code",
   "execution_count": 1,
   "metadata": {
    "hidden": true
   },
   "outputs": [],
   "source": [
    "import matplotlib\n",
    "import seaborn\n",
    "import sys\n",
    "sys.path.insert(0,'../../Tools')\n",
    "from orderedlist import *\n",
    "from gatools import *\n",
    "bi = Binarization()\n",
    "mo = Models()"
   ]
  },
  {
   "cell_type": "code",
   "execution_count": 2,
   "metadata": {
    "hidden": true
   },
   "outputs": [],
   "source": [
    "pandas.set_option('display.max_rows', None)\n",
    "pandas.set_option('display.max_columns', None)\n",
    "pandas.set_option('display.width', None)\n",
    "pandas.set_option('display.max_colwidth', None)"
   ]
  },
  {
   "cell_type": "markdown",
   "metadata": {
    "heading_collapsed": true
   },
   "source": [
    "### Preparation of results"
   ]
  },
  {
   "cell_type": "markdown",
   "metadata": {},
   "source": [
    "#### General stuff"
   ]
  },
  {
   "cell_type": "code",
   "execution_count": 3,
   "metadata": {
    "hidden": true
   },
   "outputs": [],
   "source": [
    "qual_clusters = bi.get_binary(pandas.read_csv('../../Data/CoarseGrained/Y_clusters_quan_100_9.csv'),100)"
   ]
  },
  {
   "cell_type": "code",
   "execution_count": 4,
   "metadata": {},
   "outputs": [],
   "source": [
    "features = pandas.read_csv('./Optimization_multi_100/optimization_best_features.csv')\n",
    "features_all = pandas.read_csv('./Optimization_multi_100/optimization_features.csv')\n",
    "train = pandas.read_csv('./Optimization_multi_100/optimization_best_train.csv')\n",
    "test = pandas.read_csv('./Optimization_multi_100/optimization_best_test.csv')"
   ]
  },
  {
   "cell_type": "code",
   "execution_count": 5,
   "metadata": {},
   "outputs": [],
   "source": [
    "tasks_clusters = ['_'.join([i.split('_')[-2],i.split('_')[-1]]) for i in list(features['Model'])]"
   ]
  },
  {
   "cell_type": "markdown",
   "metadata": {},
   "source": [
    "#### Metrics"
   ]
  },
  {
   "cell_type": "code",
   "execution_count": 6,
   "metadata": {
    "hidden": true
   },
   "outputs": [],
   "source": [
    "pct_clusters = round(numpy.divide(numpy.sum(qual_clusters),qual_clusters.shape[0]).to_frame().transpose(),3)\n",
    "pct_clusters = pct_clusters.add_prefix('Region=')\n",
    "pct_clusters.index=['percentage_positive']"
   ]
  },
  {
   "cell_type": "code",
   "execution_count": 7,
   "metadata": {},
   "outputs": [],
   "source": [
    "metrics_clusters = pandas.DataFrame()\n",
    "for task in tasks_clusters:\n",
    "    temp_metrics = mo.evaluate_metrics(train,test,task)\n",
    "    try: metrics_clusters = pandas.concat([metrics_clusters,temp_metrics],axis=1)\n",
    "    except: metrics_clusters = temp_metrics"
   ]
  },
  {
   "cell_type": "markdown",
   "metadata": {},
   "source": [
    "#### Features"
   ]
  },
  {
   "cell_type": "code",
   "execution_count": 8,
   "metadata": {},
   "outputs": [],
   "source": [
    "features_clusters = pandas.DataFrame()\n",
    "for task in tasks_clusters:\n",
    "    temp_features = mo.evaluate_features(features,features_all,task)\n",
    "    try: features_clusters = pandas.concat([features_clusters,temp_features],axis=0)\n",
    "    except: features_clusters = temp_features"
   ]
  },
  {
   "cell_type": "code",
   "execution_count": 9,
   "metadata": {},
   "outputs": [],
   "source": [
    "map_clusters = pandas.DataFrame()\n",
    "for task in clusters_list:\n",
    "    try: \n",
    "        temp_map = mo.map_features(features_all,features_list,task)\n",
    "        try: map_clusters = pandas.concat([map_clusters,temp_map],axis=0)\n",
    "        except: map_clusters = temp_map\n",
    "    except: pass"
   ]
  },
  {
   "cell_type": "markdown",
   "metadata": {
    "heading_collapsed": true
   },
   "source": [
    "### Results"
   ]
  },
  {
   "cell_type": "markdown",
   "metadata": {
    "hidden": true
   },
   "source": [
    "Down below we show the **sorted lobes according to accuracy and f1 score**. In the second table, only test information is given (those clusters appearing at the top are the ones with better overall models)."
   ]
  },
  {
   "cell_type": "code",
   "execution_count": 10,
   "metadata": {
    "hidden": true
   },
   "outputs": [
    {
     "data": {
      "text/html": [
       "<div>\n",
       "<style scoped>\n",
       "    .dataframe tbody tr th:only-of-type {\n",
       "        vertical-align: middle;\n",
       "    }\n",
       "\n",
       "    .dataframe tbody tr th {\n",
       "        vertical-align: top;\n",
       "    }\n",
       "\n",
       "    .dataframe thead th {\n",
       "        text-align: right;\n",
       "    }\n",
       "</style>\n",
       "<table border=\"1\" class=\"dataframe\">\n",
       "  <thead>\n",
       "    <tr style=\"text-align: right;\">\n",
       "      <th></th>\n",
       "      <th>Region=cluster_7</th>\n",
       "      <th>Region=cluster_2</th>\n",
       "      <th>Region=cluster_6</th>\n",
       "      <th>Region=cluster_3</th>\n",
       "      <th>Region=cluster_8</th>\n",
       "      <th>Region=cluster_4</th>\n",
       "      <th>Region=cluster_1</th>\n",
       "      <th>Region=cluster_0</th>\n",
       "      <th>Region=cluster_5</th>\n",
       "    </tr>\n",
       "  </thead>\n",
       "  <tbody>\n",
       "    <tr>\n",
       "      <th>accuracy_test</th>\n",
       "      <td>0.927+/-0.028</td>\n",
       "      <td>0.920+/-0.018</td>\n",
       "      <td>0.823+/-0.034</td>\n",
       "      <td>0.907+/-0.024</td>\n",
       "      <td>0.890+/-0.026</td>\n",
       "      <td>0.764+/-0.047</td>\n",
       "      <td>0.803+/-0.030</td>\n",
       "      <td>0.913+/-0.020</td>\n",
       "      <td>0.800+/-0.039</td>\n",
       "    </tr>\n",
       "    <tr>\n",
       "      <th>accuracy_train</th>\n",
       "      <td>0.945+/-0.007</td>\n",
       "      <td>1.000+/-0.000</td>\n",
       "      <td>0.842+/-0.013</td>\n",
       "      <td>0.928+/-0.008</td>\n",
       "      <td>0.947+/-0.008</td>\n",
       "      <td>0.877+/-0.012</td>\n",
       "      <td>0.885+/-0.009</td>\n",
       "      <td>0.994+/-0.004</td>\n",
       "      <td>0.853+/-0.019</td>\n",
       "    </tr>\n",
       "    <tr>\n",
       "      <th>f1_test</th>\n",
       "      <td>0.704+/-0.096</td>\n",
       "      <td>0.667+/-0.080</td>\n",
       "      <td>0.693+/-0.057</td>\n",
       "      <td>0.621+/-0.086</td>\n",
       "      <td>0.579+/-0.085</td>\n",
       "      <td>0.672+/-0.051</td>\n",
       "      <td>0.571+/-0.056</td>\n",
       "      <td>0.485+/-0.105</td>\n",
       "      <td>0.500+/-0.086</td>\n",
       "    </tr>\n",
       "    <tr>\n",
       "      <th>f1_train</th>\n",
       "      <td>0.780+/-0.024</td>\n",
       "      <td>1.000+/-0.000</td>\n",
       "      <td>0.728+/-0.018</td>\n",
       "      <td>0.716+/-0.024</td>\n",
       "      <td>0.810+/-0.024</td>\n",
       "      <td>0.824+/-0.015</td>\n",
       "      <td>0.759+/-0.016</td>\n",
       "      <td>0.969+/-0.019</td>\n",
       "      <td>0.635+/-0.032</td>\n",
       "    </tr>\n",
       "    <tr>\n",
       "      <th>precision_test</th>\n",
       "      <td>0.590+/-0.099</td>\n",
       "      <td>0.778+/-0.115</td>\n",
       "      <td>0.635+/-0.066</td>\n",
       "      <td>0.554+/-0.097</td>\n",
       "      <td>0.527+/-0.103</td>\n",
       "      <td>0.605+/-0.072</td>\n",
       "      <td>0.502+/-0.061</td>\n",
       "      <td>0.557+/-0.152</td>\n",
       "      <td>0.395+/-0.073</td>\n",
       "    </tr>\n",
       "    <tr>\n",
       "      <th>precision_train</th>\n",
       "      <td>0.639+/-0.032</td>\n",
       "      <td>1.000+/-0.000</td>\n",
       "      <td>0.660+/-0.026</td>\n",
       "      <td>0.616+/-0.035</td>\n",
       "      <td>0.694+/-0.034</td>\n",
       "      <td>0.746+/-0.023</td>\n",
       "      <td>0.645+/-0.020</td>\n",
       "      <td>0.940+/-0.037</td>\n",
       "      <td>0.498+/-0.037</td>\n",
       "    </tr>\n",
       "    <tr>\n",
       "      <th>recall_test</th>\n",
       "      <td>0.886+/-0.106</td>\n",
       "      <td>0.600+/-0.113</td>\n",
       "      <td>0.770+/-0.084</td>\n",
       "      <td>0.726+/-0.127</td>\n",
       "      <td>0.665+/-0.126</td>\n",
       "      <td>0.763+/-0.060</td>\n",
       "      <td>0.671+/-0.083</td>\n",
       "      <td>0.467+/-0.141</td>\n",
       "      <td>0.692+/-0.127</td>\n",
       "    </tr>\n",
       "    <tr>\n",
       "      <th>recall_train</th>\n",
       "      <td>1.000+/-0.000</td>\n",
       "      <td>1.000+/-0.000</td>\n",
       "      <td>0.812+/-0.019</td>\n",
       "      <td>0.857+/-0.032</td>\n",
       "      <td>0.974+/-0.013</td>\n",
       "      <td>0.922+/-0.019</td>\n",
       "      <td>0.922+/-0.025</td>\n",
       "      <td>1.000+/-0.000</td>\n",
       "      <td>0.878+/-0.024</td>\n",
       "    </tr>\n",
       "    <tr>\n",
       "      <th>percentage_positive</th>\n",
       "      <td>0.096</td>\n",
       "      <td>0.136</td>\n",
       "      <td>0.259</td>\n",
       "      <td>0.105</td>\n",
       "      <td>0.114</td>\n",
       "      <td>0.313</td>\n",
       "      <td>0.196</td>\n",
       "      <td>0.09</td>\n",
       "      <td>0.145</td>\n",
       "    </tr>\n",
       "  </tbody>\n",
       "</table>\n",
       "</div>"
      ],
      "text/plain": [
       "                    Region=cluster_7 Region=cluster_2 Region=cluster_6  \\\n",
       "accuracy_test          0.927+/-0.028    0.920+/-0.018    0.823+/-0.034   \n",
       "accuracy_train         0.945+/-0.007    1.000+/-0.000    0.842+/-0.013   \n",
       "f1_test                0.704+/-0.096    0.667+/-0.080    0.693+/-0.057   \n",
       "f1_train               0.780+/-0.024    1.000+/-0.000    0.728+/-0.018   \n",
       "precision_test         0.590+/-0.099    0.778+/-0.115    0.635+/-0.066   \n",
       "precision_train        0.639+/-0.032    1.000+/-0.000    0.660+/-0.026   \n",
       "recall_test            0.886+/-0.106    0.600+/-0.113    0.770+/-0.084   \n",
       "recall_train           1.000+/-0.000    1.000+/-0.000    0.812+/-0.019   \n",
       "percentage_positive            0.096            0.136            0.259   \n",
       "\n",
       "                    Region=cluster_3 Region=cluster_8 Region=cluster_4  \\\n",
       "accuracy_test          0.907+/-0.024    0.890+/-0.026    0.764+/-0.047   \n",
       "accuracy_train         0.928+/-0.008    0.947+/-0.008    0.877+/-0.012   \n",
       "f1_test                0.621+/-0.086    0.579+/-0.085    0.672+/-0.051   \n",
       "f1_train               0.716+/-0.024    0.810+/-0.024    0.824+/-0.015   \n",
       "precision_test         0.554+/-0.097    0.527+/-0.103    0.605+/-0.072   \n",
       "precision_train        0.616+/-0.035    0.694+/-0.034    0.746+/-0.023   \n",
       "recall_test            0.726+/-0.127    0.665+/-0.126    0.763+/-0.060   \n",
       "recall_train           0.857+/-0.032    0.974+/-0.013    0.922+/-0.019   \n",
       "percentage_positive            0.105            0.114            0.313   \n",
       "\n",
       "                    Region=cluster_1 Region=cluster_0 Region=cluster_5  \n",
       "accuracy_test          0.803+/-0.030    0.913+/-0.020    0.800+/-0.039  \n",
       "accuracy_train         0.885+/-0.009    0.994+/-0.004    0.853+/-0.019  \n",
       "f1_test                0.571+/-0.056    0.485+/-0.105    0.500+/-0.086  \n",
       "f1_train               0.759+/-0.016    0.969+/-0.019    0.635+/-0.032  \n",
       "precision_test         0.502+/-0.061    0.557+/-0.152    0.395+/-0.073  \n",
       "precision_train        0.645+/-0.020    0.940+/-0.037    0.498+/-0.037  \n",
       "recall_test            0.671+/-0.083    0.467+/-0.141    0.692+/-0.127  \n",
       "recall_train           0.922+/-0.025    1.000+/-0.000    0.878+/-0.024  \n",
       "percentage_positive            0.196             0.09            0.145  "
      ]
     },
     "execution_count": 10,
     "metadata": {},
     "output_type": "execute_result"
    }
   ],
   "source": [
    "metrics_pct_clusters = pandas.concat([metrics_clusters,pct_clusters],join='inner')\n",
    "metrics_pct_clusters"
   ]
  },
  {
   "cell_type": "code",
   "execution_count": 11,
   "metadata": {
    "hidden": true
   },
   "outputs": [
    {
     "data": {
      "text/html": [
       "<div>\n",
       "<style scoped>\n",
       "    .dataframe tbody tr th:only-of-type {\n",
       "        vertical-align: middle;\n",
       "    }\n",
       "\n",
       "    .dataframe tbody tr th {\n",
       "        vertical-align: top;\n",
       "    }\n",
       "\n",
       "    .dataframe thead th {\n",
       "        text-align: right;\n",
       "    }\n",
       "</style>\n",
       "<table border=\"1\" class=\"dataframe\">\n",
       "  <thead>\n",
       "    <tr style=\"text-align: right;\">\n",
       "      <th></th>\n",
       "      <th>accuracy_test</th>\n",
       "      <th>f1_test</th>\n",
       "      <th>precision_test</th>\n",
       "      <th>recall_test</th>\n",
       "      <th>percentage_positive</th>\n",
       "    </tr>\n",
       "  </thead>\n",
       "  <tbody>\n",
       "    <tr>\n",
       "      <th>Region=cluster_7</th>\n",
       "      <td>0.927+/-0.028</td>\n",
       "      <td>0.704+/-0.096</td>\n",
       "      <td>0.590+/-0.099</td>\n",
       "      <td>0.886+/-0.106</td>\n",
       "      <td>0.096</td>\n",
       "    </tr>\n",
       "    <tr>\n",
       "      <th>Region=cluster_2</th>\n",
       "      <td>0.920+/-0.018</td>\n",
       "      <td>0.667+/-0.080</td>\n",
       "      <td>0.778+/-0.115</td>\n",
       "      <td>0.600+/-0.113</td>\n",
       "      <td>0.136</td>\n",
       "    </tr>\n",
       "    <tr>\n",
       "      <th>Region=cluster_6</th>\n",
       "      <td>0.823+/-0.034</td>\n",
       "      <td>0.693+/-0.057</td>\n",
       "      <td>0.635+/-0.066</td>\n",
       "      <td>0.770+/-0.084</td>\n",
       "      <td>0.259</td>\n",
       "    </tr>\n",
       "    <tr>\n",
       "      <th>Region=cluster_3</th>\n",
       "      <td>0.907+/-0.024</td>\n",
       "      <td>0.621+/-0.086</td>\n",
       "      <td>0.554+/-0.097</td>\n",
       "      <td>0.726+/-0.127</td>\n",
       "      <td>0.105</td>\n",
       "    </tr>\n",
       "    <tr>\n",
       "      <th>Region=cluster_8</th>\n",
       "      <td>0.890+/-0.026</td>\n",
       "      <td>0.579+/-0.085</td>\n",
       "      <td>0.527+/-0.103</td>\n",
       "      <td>0.665+/-0.126</td>\n",
       "      <td>0.114</td>\n",
       "    </tr>\n",
       "    <tr>\n",
       "      <th>Region=cluster_4</th>\n",
       "      <td>0.764+/-0.047</td>\n",
       "      <td>0.672+/-0.051</td>\n",
       "      <td>0.605+/-0.072</td>\n",
       "      <td>0.763+/-0.060</td>\n",
       "      <td>0.313</td>\n",
       "    </tr>\n",
       "    <tr>\n",
       "      <th>Region=cluster_1</th>\n",
       "      <td>0.803+/-0.030</td>\n",
       "      <td>0.571+/-0.056</td>\n",
       "      <td>0.502+/-0.061</td>\n",
       "      <td>0.671+/-0.083</td>\n",
       "      <td>0.196</td>\n",
       "    </tr>\n",
       "    <tr>\n",
       "      <th>Region=cluster_0</th>\n",
       "      <td>0.913+/-0.020</td>\n",
       "      <td>0.485+/-0.105</td>\n",
       "      <td>0.557+/-0.152</td>\n",
       "      <td>0.467+/-0.141</td>\n",
       "      <td>0.09</td>\n",
       "    </tr>\n",
       "    <tr>\n",
       "      <th>Region=cluster_5</th>\n",
       "      <td>0.800+/-0.039</td>\n",
       "      <td>0.500+/-0.086</td>\n",
       "      <td>0.395+/-0.073</td>\n",
       "      <td>0.692+/-0.127</td>\n",
       "      <td>0.145</td>\n",
       "    </tr>\n",
       "  </tbody>\n",
       "</table>\n",
       "</div>"
      ],
      "text/plain": [
       "                  accuracy_test        f1_test precision_test    recall_test  \\\n",
       "Region=cluster_7  0.927+/-0.028  0.704+/-0.096  0.590+/-0.099  0.886+/-0.106   \n",
       "Region=cluster_2  0.920+/-0.018  0.667+/-0.080  0.778+/-0.115  0.600+/-0.113   \n",
       "Region=cluster_6  0.823+/-0.034  0.693+/-0.057  0.635+/-0.066  0.770+/-0.084   \n",
       "Region=cluster_3  0.907+/-0.024  0.621+/-0.086  0.554+/-0.097  0.726+/-0.127   \n",
       "Region=cluster_8  0.890+/-0.026  0.579+/-0.085  0.527+/-0.103  0.665+/-0.126   \n",
       "Region=cluster_4  0.764+/-0.047  0.672+/-0.051  0.605+/-0.072  0.763+/-0.060   \n",
       "Region=cluster_1  0.803+/-0.030  0.571+/-0.056  0.502+/-0.061  0.671+/-0.083   \n",
       "Region=cluster_0  0.913+/-0.020  0.485+/-0.105  0.557+/-0.152  0.467+/-0.141   \n",
       "Region=cluster_5  0.800+/-0.039  0.500+/-0.086  0.395+/-0.073  0.692+/-0.127   \n",
       "\n",
       "                 percentage_positive  \n",
       "Region=cluster_7               0.096  \n",
       "Region=cluster_2               0.136  \n",
       "Region=cluster_6               0.259  \n",
       "Region=cluster_3               0.105  \n",
       "Region=cluster_8               0.114  \n",
       "Region=cluster_4               0.313  \n",
       "Region=cluster_1               0.196  \n",
       "Region=cluster_0                0.09  \n",
       "Region=cluster_5               0.145  "
      ]
     },
     "execution_count": 11,
     "metadata": {},
     "output_type": "execute_result"
    }
   ],
   "source": [
    "metrics_pct_clusters.transpose()[['accuracy_test','f1_test','precision_test','recall_test','percentage_positive']]"
   ]
  },
  {
   "cell_type": "markdown",
   "metadata": {},
   "source": [
    "Down below, we include the **selected features for the best model and the most common features in all the models**."
   ]
  },
  {
   "cell_type": "code",
   "execution_count": 12,
   "metadata": {},
   "outputs": [
    {
     "data": {
      "text/html": [
       "<div>\n",
       "<style scoped>\n",
       "    .dataframe tbody tr th:only-of-type {\n",
       "        vertical-align: middle;\n",
       "    }\n",
       "\n",
       "    .dataframe tbody tr th {\n",
       "        vertical-align: top;\n",
       "    }\n",
       "\n",
       "    .dataframe thead th {\n",
       "        text-align: right;\n",
       "    }\n",
       "</style>\n",
       "<table border=\"1\" class=\"dataframe\">\n",
       "  <thead>\n",
       "    <tr style=\"text-align: right;\">\n",
       "      <th></th>\n",
       "      <th>Features best model</th>\n",
       "      <th>Features all models</th>\n",
       "      <th>Avg#</th>\n",
       "    </tr>\n",
       "  </thead>\n",
       "  <tbody>\n",
       "    <tr>\n",
       "      <th>Region=cluster_7</th>\n",
       "      <td>[current_age, bnt, rocf_3min, tmt_b, mst_direct, diagnostic_FTD, fcsrt_l1, tlt_total_correct, rocf_30min, rocf_time, ace3_memory, cbtt_indirect, vospt_silhouette]</td>\n",
       "      <td>[(diagnostic_FTD, 0.99), (current_age, 0.88), (ace3_attention, 0.79), (tlt_total_correct, 0.68), (rocf_time, 0.55), (bnt, 0.34), (vospt_silhouette, 0.3), (fcsrt_l1, 0.29), (rocf_copy, 0.23), (st_2, 0.19), (ace3_memory, 0.18), (st_1, 0.18), (rocf_recognition, 0.18), (rocf_3min, 0.17), (rocf_30min, 0.12), (mst_direct, 0.11), (tmt_a, 0.11), (education_years, 0.1), (ace3_language, 0.09), (fcsrt_total, 0.07), (fcsrt_dif_free, 0.07), (ace3_fluency, 0.07), (diagnostic_AD, 0.07), (cbtt_indirect, 0.07), (ace, 0.06), (ft_formal, 0.05), (vospt_location, 0.05), (vospt_decision, 0.05), (fcsrt_lt, 0.05), (tmt_b, 0.04), (diagnostic_CT, 0.04), (ft_animals, 0.02), (st_3, 0.02), (sdmt, 0.02), (vospt_discrimination, 0.02), (sex_female, 0.02), (cbtt_direct, 0.02), (mst_indirect, 0.01), (ace3_visuospatial, 0.01), (fcsrt_dif_total, 0.01), (sex_male, 0.01)]</td>\n",
       "      <td>7.38</td>\n",
       "    </tr>\n",
       "    <tr>\n",
       "      <th>Region=cluster_2</th>\n",
       "      <td>[fcsrt_lt, ace, cbtt_direct, diagnostic_AD, vospt_location, rocf_recognition, diagnostic_CT, rocf_3min, mst_indirect, vospt_silhouette, diagnostic_FTD, sex_male, sdmt, mst_direct, st_1, ace3_attention, rocf_time, cbtt_indirect, current_age, tmt_a]</td>\n",
       "      <td>[(current_age, 0.83), (diagnostic_FTD, 0.62), (tmt_a, 0.52), (diagnostic_AD, 0.5), (cbtt_indirect, 0.48), (cbtt_direct, 0.44), (rocf_time, 0.41), (fcsrt_l1, 0.36), (sex_male, 0.29), (rocf_recognition, 0.26), (education_years, 0.24), (fcsrt_lt, 0.24), (mst_indirect, 0.23), (ace3_visuospatial, 0.23), (rocf_copy, 0.21), (mst_direct, 0.21), (rocf_3min, 0.2), (sex_female, 0.2), (vospt_silhouette, 0.17), (diagnostic_CT, 0.17), (st_3, 0.15), (st_2, 0.15), (vospt_location, 0.14), (sdmt, 0.12), (ace, 0.11), (tmt_b, 0.09), (ace3_fluency, 0.08), (rocf_30min, 0.08), (fcsrt_dif_free, 0.08), (st_1, 0.05), (fcsrt_total, 0.05), (ace3_attention, 0.05), (bnt, 0.03), (vospt_decision, 0.03), (ace3_language, 0.03), (ace3_memory, 0.02), (fcsrt_dif_total, 0.02)]</td>\n",
       "      <td>8.05</td>\n",
       "    </tr>\n",
       "    <tr>\n",
       "      <th>Region=cluster_6</th>\n",
       "      <td>[fcsrt_l1, diagnostic_FTD, rocf_recognition, st_3]</td>\n",
       "      <td>[(st_3, 0.81), (diagnostic_FTD, 0.63), (fcsrt_l1, 0.5), (rocf_30min, 0.5), (rocf_recognition, 0.4), (ace3_visuospatial, 0.37), (fcsrt_dif_total, 0.27), (diagnostic_AD, 0.19), (bnt, 0.19), (st_2, 0.15), (fcsrt_dif_free, 0.12), (current_age, 0.1), (cbtt_direct, 0.1), (ace3_memory, 0.08), (education_years, 0.08), (diagnostic_CT, 0.08), (st_1, 0.08), (rocf_copy, 0.08), (rocf_time, 0.04), (rocf_3min, 0.04), (fcsrt_lt, 0.04), (vospt_silhouette, 0.04), (vospt_decision, 0.04), (ft_animals, 0.02), (cbtt_indirect, 0.02), (ace3_fluency, 0.02), (vospt_discrimination, 0.02), (ace, 0.02), (mst_direct, 0.02), (ft_formal, 0.02), (ace3_language, 0.02), (tlt_total_correct, 0.02), (tmt_a, 0.02), (ace3_attention, 0.02)]</td>\n",
       "      <td>5.12</td>\n",
       "    </tr>\n",
       "    <tr>\n",
       "      <th>Region=cluster_3</th>\n",
       "      <td>[diagnostic_FTD, fcsrt_dif_free, fcsrt_lt, cbtt_indirect]</td>\n",
       "      <td>[(diagnostic_FTD, 1.0), (fcsrt_dif_free, 0.57), (mst_direct, 0.46), (fcsrt_total, 0.38), (cbtt_indirect, 0.27), (fcsrt_lt, 0.19), (current_age, 0.19), (education_years, 0.16), (fcsrt_dif_total, 0.14), (tlt_total_correct, 0.14), (ace3_language, 0.14), (cbtt_direct, 0.11), (vospt_silhouette, 0.11), (st_2, 0.11), (diagnostic_AD, 0.08), (sdmt, 0.05), (ft_animals, 0.05), (tmt_a, 0.05), (bnt, 0.03), (st_1, 0.03), (ace3_visuospatial, 0.03), (ace3_fluency, 0.03), (rocf_recognition, 0.03), (rocf_3min, 0.03)]</td>\n",
       "      <td>4.35</td>\n",
       "    </tr>\n",
       "    <tr>\n",
       "      <th>Region=cluster_8</th>\n",
       "      <td>[rocf_recognition, diagnostic_FTD, cbtt_indirect, current_age, fcsrt_dif_free, st_1, mst_indirect]</td>\n",
       "      <td>[(diagnostic_FTD, 1.0), (current_age, 0.74), (rocf_recognition, 0.61), (st_1, 0.48), (mst_indirect, 0.47), (fcsrt_dif_free, 0.44), (education_years, 0.42), (fcsrt_l1, 0.34), (mst_direct, 0.29), (cbtt_indirect, 0.27), (fcsrt_dif_total, 0.19), (ace, 0.19), (rocf_copy, 0.15), (ace3_memory, 0.13), (tmt_b, 0.11), (fcsrt_lt, 0.11), (diagnostic_AD, 0.11), (ace3_visuospatial, 0.1), (diagnostic_CT, 0.1), (vospt_location, 0.1), (tmt_a, 0.1), (ft_animals, 0.1), (st_3, 0.1), (rocf_30min, 0.08), (ace3_attention, 0.08), (rocf_time, 0.06), (rocf_3min, 0.06), (bnt, 0.06), (ace3_language, 0.05), (st_2, 0.05), (vospt_decision, 0.05), (sdmt, 0.03), (vospt_discrimination, 0.03), (ace3_fluency, 0.03), (vospt_silhouette, 0.02), (tlt_total_correct, 0.02), (cbtt_direct, 0.02)]</td>\n",
       "      <td>7.29</td>\n",
       "    </tr>\n",
       "    <tr>\n",
       "      <th>Region=cluster_4</th>\n",
       "      <td>[ft_animals, rocf_3min, st_3, diagnostic_AD, diagnostic_FTD, mst_indirect, fcsrt_dif_total, ace3_language, fcsrt_lt, ft_formal, vospt_silhouette]</td>\n",
       "      <td>[(st_3, 0.76), (diagnostic_AD, 0.72), (mst_indirect, 0.55), (rocf_30min, 0.49), (diagnostic_FTD, 0.46), (ft_formal, 0.45), (diagnostic_CT, 0.45), (fcsrt_dif_total, 0.42), (vospt_silhouette, 0.21), (ft_animals, 0.18), (tlt_total_correct, 0.16), (fcsrt_lt, 0.15), (fcsrt_dif_free, 0.12), (cbtt_indirect, 0.12), (st_2, 0.12), (rocf_recognition, 0.09), (ace3_language, 0.09), (rocf_3min, 0.07), (cbtt_direct, 0.04), (fcsrt_l1, 0.03), (ace3_fluency, 0.03), (current_age, 0.03), (ace3_memory, 0.03), (ace3_visuospatial, 0.01), (tmt_a, 0.01), (sdmt, 0.01), (bnt, 0.01), (ace, 0.01), (fcsrt_total, 0.01), (sex_male, 0.01), (st_1, 0.01)]</td>\n",
       "      <td>5.90</td>\n",
       "    </tr>\n",
       "    <tr>\n",
       "      <th>Region=cluster_1</th>\n",
       "      <td>[vospt_location, fcsrt_dif_free, mst_direct, ft_formal, tlt_total_correct, ace3_language, vospt_silhouette, st_1, bnt, ft_animals, st_3, mst_indirect, tmt_b, rocf_copy, ace3_fluency, current_age]</td>\n",
       "      <td>[(current_age, 0.93), (ace3_fluency, 0.48), (st_1, 0.41), (ft_animals, 0.38), (mst_direct, 0.36), (tmt_b, 0.31), (diagnostic_FTD, 0.29), (st_3, 0.28), (education_years, 0.22), (tlt_total_correct, 0.22), (rocf_3min, 0.16), (st_2, 0.14), (bnt, 0.14), (rocf_recognition, 0.12), (vospt_silhouette, 0.12), (sex_female, 0.1), (fcsrt_lt, 0.09), (fcsrt_l1, 0.09), (ace3_language, 0.09), (vospt_discrimination, 0.09), (mst_indirect, 0.09), (ace3_memory, 0.07), (ace3_attention, 0.07), (ace, 0.05), (sdmt, 0.05), (diagnostic_CT, 0.05), (vospt_location, 0.05), (diagnostic_AD, 0.03), (cbtt_direct, 0.03), (ft_formal, 0.03), (rocf_copy, 0.03), (fcsrt_dif_total, 0.02), (tmt_a, 0.02), (sex_male, 0.02), (fcsrt_dif_free, 0.02), (rocf_30min, 0.02), (cbtt_indirect, 0.02), (fcsrt_total, 0.02)]</td>\n",
       "      <td>5.71</td>\n",
       "    </tr>\n",
       "    <tr>\n",
       "      <th>Region=cluster_0</th>\n",
       "      <td>[fcsrt_dif_total, fcsrt_l1, st_3, ace3_memory, tmt_a, st_1, diagnostic_FTD, ace3_visuospatial, sex_male, education_years, ace3_language, ace3_attention, ft_formal, vospt_silhouette, rocf_recognition, sdmt, tmt_b, mst_indirect, cbtt_direct, ace, diagnostic_AD, ace3_fluency, ft_animals]</td>\n",
       "      <td>[(diagnostic_FTD, 1.0), (st_3, 0.66), (education_years, 0.59), (fcsrt_dif_total, 0.51), (st_2, 0.44), (ft_formal, 0.39), (ace3_attention, 0.39), (mst_indirect, 0.38), (rocf_recognition, 0.34), (diagnostic_AD, 0.31), (ace3_fluency, 0.31), (fcsrt_l1, 0.3), (ft_animals, 0.28), (rocf_copy, 0.26), (st_1, 0.25), (ace, 0.23), (vospt_silhouette, 0.21), (fcsrt_lt, 0.21), (vospt_location, 0.21), (sex_female, 0.21), (vospt_discrimination, 0.2), (tlt_total_correct, 0.18), (rocf_3min, 0.18), (sex_male, 0.18), (fcsrt_dif_free, 0.18), (ace3_memory, 0.18), (rocf_30min, 0.13), (diagnostic_CT, 0.11), (bnt, 0.11), (tmt_a, 0.11), (ace3_visuospatial, 0.11), (vospt_decision, 0.11), (ace3_language, 0.1), (cbtt_direct, 0.1), (sdmt, 0.08), (tmt_b, 0.08), (rocf_time, 0.08), (fcsrt_total, 0.08), (current_age, 0.07), (mst_direct, 0.07), (cbtt_indirect, 0.05)]</td>\n",
       "      <td>10.00</td>\n",
       "    </tr>\n",
       "    <tr>\n",
       "      <th>Region=cluster_5</th>\n",
       "      <td>[sdmt, ace3_memory, current_age, vospt_silhouette, cbtt_indirect, diagnostic_FTD, rocf_recognition, tmt_a]</td>\n",
       "      <td>[(sdmt, 0.96), (rocf_recognition, 0.68), (current_age, 0.61), (rocf_3min, 0.36), (ace3_memory, 0.21), (mst_direct, 0.18), (diagnostic_FTD, 0.14), (tmt_a, 0.11), (vospt_silhouette, 0.11), (bnt, 0.11), (ft_animals, 0.11), (cbtt_indirect, 0.07), (ace, 0.07), (fcsrt_l1, 0.04), (ace3_visuospatial, 0.04), (st_2, 0.04), (diagnostic_CT, 0.04), (ft_formal, 0.04), (tmt_b, 0.04), (rocf_30min, 0.04)]</td>\n",
       "      <td>3.96</td>\n",
       "    </tr>\n",
       "  </tbody>\n",
       "</table>\n",
       "</div>"
      ],
      "text/plain": [
       "                                                                                                                                                                                                                                                                                            Features best model  \\\n",
       "Region=cluster_7                                                                                                                             [current_age, bnt, rocf_3min, tmt_b, mst_direct, diagnostic_FTD, fcsrt_l1, tlt_total_correct, rocf_30min, rocf_time, ace3_memory, cbtt_indirect, vospt_silhouette]   \n",
       "Region=cluster_2                                        [fcsrt_lt, ace, cbtt_direct, diagnostic_AD, vospt_location, rocf_recognition, diagnostic_CT, rocf_3min, mst_indirect, vospt_silhouette, diagnostic_FTD, sex_male, sdmt, mst_direct, st_1, ace3_attention, rocf_time, cbtt_indirect, current_age, tmt_a]   \n",
       "Region=cluster_6                                                                                                                                                                                                                                             [fcsrt_l1, diagnostic_FTD, rocf_recognition, st_3]   \n",
       "Region=cluster_3                                                                                                                                                                                                                                      [diagnostic_FTD, fcsrt_dif_free, fcsrt_lt, cbtt_indirect]   \n",
       "Region=cluster_8                                                                                                                                                                                             [rocf_recognition, diagnostic_FTD, cbtt_indirect, current_age, fcsrt_dif_free, st_1, mst_indirect]   \n",
       "Region=cluster_4                                                                                                                                              [ft_animals, rocf_3min, st_3, diagnostic_AD, diagnostic_FTD, mst_indirect, fcsrt_dif_total, ace3_language, fcsrt_lt, ft_formal, vospt_silhouette]   \n",
       "Region=cluster_1                                                                                            [vospt_location, fcsrt_dif_free, mst_direct, ft_formal, tlt_total_correct, ace3_language, vospt_silhouette, st_1, bnt, ft_animals, st_3, mst_indirect, tmt_b, rocf_copy, ace3_fluency, current_age]   \n",
       "Region=cluster_0  [fcsrt_dif_total, fcsrt_l1, st_3, ace3_memory, tmt_a, st_1, diagnostic_FTD, ace3_visuospatial, sex_male, education_years, ace3_language, ace3_attention, ft_formal, vospt_silhouette, rocf_recognition, sdmt, tmt_b, mst_indirect, cbtt_direct, ace, diagnostic_AD, ace3_fluency, ft_animals]   \n",
       "Region=cluster_5                                                                                                                                                                                     [sdmt, ace3_memory, current_age, vospt_silhouette, cbtt_indirect, diagnostic_FTD, rocf_recognition, tmt_a]   \n",
       "\n",
       "                                                                                                                                                                                                                                                                                                                                                                                                                                                                                                                                                                                                                                                                                                                                                                                                                                                                             Features all models  \\\n",
       "Region=cluster_7  [(diagnostic_FTD, 0.99), (current_age, 0.88), (ace3_attention, 0.79), (tlt_total_correct, 0.68), (rocf_time, 0.55), (bnt, 0.34), (vospt_silhouette, 0.3), (fcsrt_l1, 0.29), (rocf_copy, 0.23), (st_2, 0.19), (ace3_memory, 0.18), (st_1, 0.18), (rocf_recognition, 0.18), (rocf_3min, 0.17), (rocf_30min, 0.12), (mst_direct, 0.11), (tmt_a, 0.11), (education_years, 0.1), (ace3_language, 0.09), (fcsrt_total, 0.07), (fcsrt_dif_free, 0.07), (ace3_fluency, 0.07), (diagnostic_AD, 0.07), (cbtt_indirect, 0.07), (ace, 0.06), (ft_formal, 0.05), (vospt_location, 0.05), (vospt_decision, 0.05), (fcsrt_lt, 0.05), (tmt_b, 0.04), (diagnostic_CT, 0.04), (ft_animals, 0.02), (st_3, 0.02), (sdmt, 0.02), (vospt_discrimination, 0.02), (sex_female, 0.02), (cbtt_direct, 0.02), (mst_indirect, 0.01), (ace3_visuospatial, 0.01), (fcsrt_dif_total, 0.01), (sex_male, 0.01)]   \n",
       "Region=cluster_2                                                                                                   [(current_age, 0.83), (diagnostic_FTD, 0.62), (tmt_a, 0.52), (diagnostic_AD, 0.5), (cbtt_indirect, 0.48), (cbtt_direct, 0.44), (rocf_time, 0.41), (fcsrt_l1, 0.36), (sex_male, 0.29), (rocf_recognition, 0.26), (education_years, 0.24), (fcsrt_lt, 0.24), (mst_indirect, 0.23), (ace3_visuospatial, 0.23), (rocf_copy, 0.21), (mst_direct, 0.21), (rocf_3min, 0.2), (sex_female, 0.2), (vospt_silhouette, 0.17), (diagnostic_CT, 0.17), (st_3, 0.15), (st_2, 0.15), (vospt_location, 0.14), (sdmt, 0.12), (ace, 0.11), (tmt_b, 0.09), (ace3_fluency, 0.08), (rocf_30min, 0.08), (fcsrt_dif_free, 0.08), (st_1, 0.05), (fcsrt_total, 0.05), (ace3_attention, 0.05), (bnt, 0.03), (vospt_decision, 0.03), (ace3_language, 0.03), (ace3_memory, 0.02), (fcsrt_dif_total, 0.02)]   \n",
       "Region=cluster_6                                                                                                                                           [(st_3, 0.81), (diagnostic_FTD, 0.63), (fcsrt_l1, 0.5), (rocf_30min, 0.5), (rocf_recognition, 0.4), (ace3_visuospatial, 0.37), (fcsrt_dif_total, 0.27), (diagnostic_AD, 0.19), (bnt, 0.19), (st_2, 0.15), (fcsrt_dif_free, 0.12), (current_age, 0.1), (cbtt_direct, 0.1), (ace3_memory, 0.08), (education_years, 0.08), (diagnostic_CT, 0.08), (st_1, 0.08), (rocf_copy, 0.08), (rocf_time, 0.04), (rocf_3min, 0.04), (fcsrt_lt, 0.04), (vospt_silhouette, 0.04), (vospt_decision, 0.04), (ft_animals, 0.02), (cbtt_indirect, 0.02), (ace3_fluency, 0.02), (vospt_discrimination, 0.02), (ace, 0.02), (mst_direct, 0.02), (ft_formal, 0.02), (ace3_language, 0.02), (tlt_total_correct, 0.02), (tmt_a, 0.02), (ace3_attention, 0.02)]   \n",
       "Region=cluster_3                                                                                                                                                                                                                                                                                                                                                        [(diagnostic_FTD, 1.0), (fcsrt_dif_free, 0.57), (mst_direct, 0.46), (fcsrt_total, 0.38), (cbtt_indirect, 0.27), (fcsrt_lt, 0.19), (current_age, 0.19), (education_years, 0.16), (fcsrt_dif_total, 0.14), (tlt_total_correct, 0.14), (ace3_language, 0.14), (cbtt_direct, 0.11), (vospt_silhouette, 0.11), (st_2, 0.11), (diagnostic_AD, 0.08), (sdmt, 0.05), (ft_animals, 0.05), (tmt_a, 0.05), (bnt, 0.03), (st_1, 0.03), (ace3_visuospatial, 0.03), (ace3_fluency, 0.03), (rocf_recognition, 0.03), (rocf_3min, 0.03)]   \n",
       "Region=cluster_8                                                                                     [(diagnostic_FTD, 1.0), (current_age, 0.74), (rocf_recognition, 0.61), (st_1, 0.48), (mst_indirect, 0.47), (fcsrt_dif_free, 0.44), (education_years, 0.42), (fcsrt_l1, 0.34), (mst_direct, 0.29), (cbtt_indirect, 0.27), (fcsrt_dif_total, 0.19), (ace, 0.19), (rocf_copy, 0.15), (ace3_memory, 0.13), (tmt_b, 0.11), (fcsrt_lt, 0.11), (diagnostic_AD, 0.11), (ace3_visuospatial, 0.1), (diagnostic_CT, 0.1), (vospt_location, 0.1), (tmt_a, 0.1), (ft_animals, 0.1), (st_3, 0.1), (rocf_30min, 0.08), (ace3_attention, 0.08), (rocf_time, 0.06), (rocf_3min, 0.06), (bnt, 0.06), (ace3_language, 0.05), (st_2, 0.05), (vospt_decision, 0.05), (sdmt, 0.03), (vospt_discrimination, 0.03), (ace3_fluency, 0.03), (vospt_silhouette, 0.02), (tlt_total_correct, 0.02), (cbtt_direct, 0.02)]   \n",
       "Region=cluster_4                                                                                                                                                                                                                            [(st_3, 0.76), (diagnostic_AD, 0.72), (mst_indirect, 0.55), (rocf_30min, 0.49), (diagnostic_FTD, 0.46), (ft_formal, 0.45), (diagnostic_CT, 0.45), (fcsrt_dif_total, 0.42), (vospt_silhouette, 0.21), (ft_animals, 0.18), (tlt_total_correct, 0.16), (fcsrt_lt, 0.15), (fcsrt_dif_free, 0.12), (cbtt_indirect, 0.12), (st_2, 0.12), (rocf_recognition, 0.09), (ace3_language, 0.09), (rocf_3min, 0.07), (cbtt_direct, 0.04), (fcsrt_l1, 0.03), (ace3_fluency, 0.03), (current_age, 0.03), (ace3_memory, 0.03), (ace3_visuospatial, 0.01), (tmt_a, 0.01), (sdmt, 0.01), (bnt, 0.01), (ace, 0.01), (fcsrt_total, 0.01), (sex_male, 0.01), (st_1, 0.01)]   \n",
       "Region=cluster_1                                                                       [(current_age, 0.93), (ace3_fluency, 0.48), (st_1, 0.41), (ft_animals, 0.38), (mst_direct, 0.36), (tmt_b, 0.31), (diagnostic_FTD, 0.29), (st_3, 0.28), (education_years, 0.22), (tlt_total_correct, 0.22), (rocf_3min, 0.16), (st_2, 0.14), (bnt, 0.14), (rocf_recognition, 0.12), (vospt_silhouette, 0.12), (sex_female, 0.1), (fcsrt_lt, 0.09), (fcsrt_l1, 0.09), (ace3_language, 0.09), (vospt_discrimination, 0.09), (mst_indirect, 0.09), (ace3_memory, 0.07), (ace3_attention, 0.07), (ace, 0.05), (sdmt, 0.05), (diagnostic_CT, 0.05), (vospt_location, 0.05), (diagnostic_AD, 0.03), (cbtt_direct, 0.03), (ft_formal, 0.03), (rocf_copy, 0.03), (fcsrt_dif_total, 0.02), (tmt_a, 0.02), (sex_male, 0.02), (fcsrt_dif_free, 0.02), (rocf_30min, 0.02), (cbtt_indirect, 0.02), (fcsrt_total, 0.02)]   \n",
       "Region=cluster_0     [(diagnostic_FTD, 1.0), (st_3, 0.66), (education_years, 0.59), (fcsrt_dif_total, 0.51), (st_2, 0.44), (ft_formal, 0.39), (ace3_attention, 0.39), (mst_indirect, 0.38), (rocf_recognition, 0.34), (diagnostic_AD, 0.31), (ace3_fluency, 0.31), (fcsrt_l1, 0.3), (ft_animals, 0.28), (rocf_copy, 0.26), (st_1, 0.25), (ace, 0.23), (vospt_silhouette, 0.21), (fcsrt_lt, 0.21), (vospt_location, 0.21), (sex_female, 0.21), (vospt_discrimination, 0.2), (tlt_total_correct, 0.18), (rocf_3min, 0.18), (sex_male, 0.18), (fcsrt_dif_free, 0.18), (ace3_memory, 0.18), (rocf_30min, 0.13), (diagnostic_CT, 0.11), (bnt, 0.11), (tmt_a, 0.11), (ace3_visuospatial, 0.11), (vospt_decision, 0.11), (ace3_language, 0.1), (cbtt_direct, 0.1), (sdmt, 0.08), (tmt_b, 0.08), (rocf_time, 0.08), (fcsrt_total, 0.08), (current_age, 0.07), (mst_direct, 0.07), (cbtt_indirect, 0.05)]   \n",
       "Region=cluster_5                                                                                                                                                                                                                                                                                                                                                                                                                                                                         [(sdmt, 0.96), (rocf_recognition, 0.68), (current_age, 0.61), (rocf_3min, 0.36), (ace3_memory, 0.21), (mst_direct, 0.18), (diagnostic_FTD, 0.14), (tmt_a, 0.11), (vospt_silhouette, 0.11), (bnt, 0.11), (ft_animals, 0.11), (cbtt_indirect, 0.07), (ace, 0.07), (fcsrt_l1, 0.04), (ace3_visuospatial, 0.04), (st_2, 0.04), (diagnostic_CT, 0.04), (ft_formal, 0.04), (tmt_b, 0.04), (rocf_30min, 0.04)]   \n",
       "\n",
       "                   Avg#  \n",
       "Region=cluster_7   7.38  \n",
       "Region=cluster_2   8.05  \n",
       "Region=cluster_6   5.12  \n",
       "Region=cluster_3   4.35  \n",
       "Region=cluster_8   7.29  \n",
       "Region=cluster_4   5.90  \n",
       "Region=cluster_1   5.71  \n",
       "Region=cluster_0  10.00  \n",
       "Region=cluster_5   3.96  "
      ]
     },
     "execution_count": 12,
     "metadata": {},
     "output_type": "execute_result"
    }
   ],
   "source": [
    "features_clusters"
   ]
  },
  {
   "cell_type": "markdown",
   "metadata": {},
   "source": [
    "Down below, we include a **heatmap indicating the frequency of each feature in predicting each lobe**. The features are ordered by nature (diagnostic features, demographic features and cognitive features -ordered themselves according to the cognitive function measured-), making it easier to see patterns."
   ]
  },
  {
   "cell_type": "code",
   "execution_count": 13,
   "metadata": {},
   "outputs": [
    {
     "data": {
      "text/plain": [
       "<matplotlib.axes._subplots.AxesSubplot at 0xbf9e088>"
      ]
     },
     "execution_count": 13,
     "metadata": {},
     "output_type": "execute_result"
    },
    {
     "data": {
      "image/png": "[encoded data removed]",
      "text/plain": [
       "<Figure size 1152x288 with 2 Axes>"
      ]
     },
     "metadata": {
      "needs_background": "light"
     },
     "output_type": "display_data"
    }
   ],
   "source": [
    "matplotlib.rcParams['figure.figsize'] = (16,4)\n",
    "seaborn.heatmap(map_clusters,cmap='Greys',xticklabels=True,yticklabels=True)"
   ]
  },
  {
   "cell_type": "markdown",
   "metadata": {
    "heading_collapsed": true
   },
   "source": [
    "### Conclusions"
   ]
  },
  {
   "cell_type": "markdown",
   "metadata": {},
   "source": [
    "We can see that **grouping brain regions into clusters does not improve remarkably our predictions**. In fact, the results obtained are similar to those appearing in the best half of fine-grained prediction. What appears to be happening is that those regions which were best predicted compensate for those regions which were worst predicted. One advantage of doing the coarse-grained prediction with lobes was that differences in hypometabolism between lobes were not that pronounced. This does not happen with clusters, because similarly expressed regions tend to group together.\n",
    "\n",
    "**In comparison with the prediction by lobes, we can see a clear worsening**. This was unexpected as we would have thought that grouping regions based on metabolic information made more sense than doing so based on anatomical information.\n",
    "\n",
    "As for the features selected in the prediction of each cluster, it is clear how **knowing whether a patient has Frontotemporal dementia is vital for predicting cluster 0, 3, 7 and 8** Some outstanding relations are those that link cluster 1 with current_age, cluster 2 with current_age, cluster 4 with st_3 and rocf_30min, cluster 5 with sdmt, cluster 6 with st_3, cluster 7 with ace3_attention."
   ]
  }
 ],
 "metadata": {
  "kernelspec": {
   "display_name": "Python 3",
   "language": "python",
   "name": "python3"
  },
  "language_info": {
   "codemirror_mode": {
    "name": "ipython",
    "version": 3
   },
   "file_extension": ".py",
   "mimetype": "text/x-python",
   "name": "python",
   "nbconvert_exporter": "python",
   "pygments_lexer": "ipython3",
   "version": "3.7.6"
  }
 },
 "nbformat": 4,
 "nbformat_minor": 4
}
