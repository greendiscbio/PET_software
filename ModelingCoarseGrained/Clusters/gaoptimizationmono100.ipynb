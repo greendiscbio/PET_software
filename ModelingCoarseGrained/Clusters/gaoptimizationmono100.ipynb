{
 "cells": [
  {
   "cell_type": "markdown",
   "metadata": {},
   "source": [
    "# Optimization of parameters in genetic algorithms"
   ]
  },
  {
   "cell_type": "markdown",
   "metadata": {},
   "source": [
    "This notebook gathers the results for the parameter optimization made on the mono-objective genetic algorithms, considering a binary threshold of 100."
   ]
  },
  {
   "cell_type": "markdown",
   "metadata": {
    "heading_collapsed": true
   },
   "source": [
    "### Brief explanation"
   ]
  },
  {
   "cell_type": "markdown",
   "metadata": {
    "hidden": true
   },
   "source": [
    "With the previous exploration of parameters, we were able to determine which values resulted in better performances. There was obviously not a unique configuration yielding better results so, for the optimization run, we still allowed some variation. We basically assigned different probabilities of appearence to each of the parameters' values. The parameters, their possible values and their associated probabilities are:\n",
    "\n",
    "- **Estimator**: SVM1 (c=2), SVM2 (c=10), SVM3 (c=50) ------------------------------- Probabilities: 2/9, 5/9, 3/9\n",
    "- **Annihilation**: AN1 (0.2), AN2 (0.3), AN3 (0.4) ----------------------------------------- Probabilities: 4/9, 1/9, 4/9\n",
    "- **Elite**: EL1 (0.2), EL2 (0.3), EL3 (0.4) ----------------------------------------------------- Probabilities: 0, 5/9, 4/9\n",
    "- **Mutation rate**: MR1 (0.05), MR2 (0.1), MR3 (0.15) ---------------------------------- Probabilities: 6/9, 2/9, 1/9\n",
    "- **Selection**: SE1 (tournament 2-1) , SE2 (tournament 5-2), SE3 (roulette) ------ Probabilities: 5/9, 3/9, 1/9\n",
    "\n",
    "For each cluster, we run 20 models whose parameters are selected according to these probabilities. The best is chosen according to accuracy and f1 score in the test dataset."
   ]
  },
  {
   "cell_type": "markdown",
   "metadata": {
    "heading_collapsed": true
   },
   "source": [
    "### Import the packages"
   ]
  },
  {
   "cell_type": "markdown",
   "metadata": {
    "hidden": true
   },
   "source": [
    "We import the packages that will be needed. In this case, everything is already contained in the gatools.py file, that loads submodules of PyWin module."
   ]
  },
  {
   "cell_type": "code",
   "execution_count": 1,
   "metadata": {
    "hidden": true
   },
   "outputs": [],
   "source": [
    "import matplotlib\n",
    "import seaborn\n",
    "import sys\n",
    "sys.path.insert(0,'../../Tools')\n",
    "from orderedlist import *\n",
    "from gatools import *\n",
    "bi = Binarization()\n",
    "mo = Models()"
   ]
  },
  {
   "cell_type": "code",
   "execution_count": 2,
   "metadata": {
    "hidden": true
   },
   "outputs": [],
   "source": [
    "pandas.set_option('display.max_rows', None)\n",
    "pandas.set_option('display.max_columns', None)\n",
    "pandas.set_option('display.width', None)\n",
    "pandas.set_option('display.max_colwidth', None)"
   ]
  },
  {
   "cell_type": "markdown",
   "metadata": {
    "heading_collapsed": true
   },
   "source": [
    "### Preparation of results"
   ]
  },
  {
   "cell_type": "markdown",
   "metadata": {},
   "source": [
    "#### General stuff"
   ]
  },
  {
   "cell_type": "code",
   "execution_count": 3,
   "metadata": {
    "hidden": true
   },
   "outputs": [],
   "source": [
    "qual_clusters = bi.get_binary(pandas.read_csv('../../Data/CoarseGrained/Y_clusters_quan_100_9.csv'),100)"
   ]
  },
  {
   "cell_type": "code",
   "execution_count": 4,
   "metadata": {},
   "outputs": [],
   "source": [
    "features = pandas.read_csv('./Optimization_mono_100/optimization_best_features.csv')\n",
    "features_all = pandas.read_csv('./Optimization_mono_100/optimization_features.csv')\n",
    "train = pandas.read_csv('./Optimization_mono_100/optimization_best_train.csv')\n",
    "test = pandas.read_csv('./Optimization_mono_100/optimization_best_test.csv')"
   ]
  },
  {
   "cell_type": "code",
   "execution_count": 5,
   "metadata": {},
   "outputs": [],
   "source": [
    "tasks_clusters = ['_'.join([i.split('_')[-2],i.split('_')[-1]]) for i in list(features['Model'])]"
   ]
  },
  {
   "cell_type": "markdown",
   "metadata": {},
   "source": [
    "#### Metrics"
   ]
  },
  {
   "cell_type": "code",
   "execution_count": 6,
   "metadata": {
    "hidden": true
   },
   "outputs": [],
   "source": [
    "pct_clusters = round(numpy.divide(numpy.sum(qual_clusters),qual_clusters.shape[0]).to_frame().transpose(),3)\n",
    "pct_clusters = pct_clusters.add_prefix('Region=')\n",
    "pct_clusters.index=['percentage_positive']"
   ]
  },
  {
   "cell_type": "code",
   "execution_count": 7,
   "metadata": {},
   "outputs": [],
   "source": [
    "metrics_clusters = pandas.DataFrame()\n",
    "for task in tasks_clusters:\n",
    "    temp_metrics = mo.evaluate_metrics(train,test,task)\n",
    "    try: metrics_clusters = pandas.concat([metrics_clusters,temp_metrics],axis=1)\n",
    "    except: metrics_clusters = temp_metrics"
   ]
  },
  {
   "cell_type": "markdown",
   "metadata": {},
   "source": [
    "#### Features"
   ]
  },
  {
   "cell_type": "code",
   "execution_count": 8,
   "metadata": {},
   "outputs": [],
   "source": [
    "features_clusters = pandas.DataFrame()\n",
    "for task in tasks_clusters:\n",
    "    temp_features = mo.evaluate_features(features,features_all,task)\n",
    "    try: features_clusters = pandas.concat([features_clusters,temp_features],axis=0)\n",
    "    except: features_clusters = temp_features"
   ]
  },
  {
   "cell_type": "code",
   "execution_count": 9,
   "metadata": {},
   "outputs": [],
   "source": [
    "map_clusters = pandas.DataFrame()\n",
    "for task in clusters_list:\n",
    "    try: \n",
    "        temp_map = mo.map_features(features_all,features_list,task)\n",
    "        try: map_clusters = pandas.concat([map_clusters,temp_map],axis=0)\n",
    "        except: map_clusters = temp_map\n",
    "    except: pass"
   ]
  },
  {
   "cell_type": "markdown",
   "metadata": {
    "heading_collapsed": true
   },
   "source": [
    "### Results"
   ]
  },
  {
   "cell_type": "markdown",
   "metadata": {
    "hidden": true
   },
   "source": [
    "Down below we show the **sorted lobes according to accuracy and f1 score**. In the second table, only test information is given (those clusters appearing at the top are the ones with better overall models)."
   ]
  },
  {
   "cell_type": "code",
   "execution_count": 10,
   "metadata": {
    "hidden": true
   },
   "outputs": [
    {
     "data": {
      "text/html": [
       "<div>\n",
       "<style scoped>\n",
       "    .dataframe tbody tr th:only-of-type {\n",
       "        vertical-align: middle;\n",
       "    }\n",
       "\n",
       "    .dataframe tbody tr th {\n",
       "        vertical-align: top;\n",
       "    }\n",
       "\n",
       "    .dataframe thead th {\n",
       "        text-align: right;\n",
       "    }\n",
       "</style>\n",
       "<table border=\"1\" class=\"dataframe\">\n",
       "  <thead>\n",
       "    <tr style=\"text-align: right;\">\n",
       "      <th></th>\n",
       "      <th>Region=cluster_7</th>\n",
       "      <th>Region=cluster_6</th>\n",
       "      <th>Region=cluster_3</th>\n",
       "      <th>Region=cluster_2</th>\n",
       "      <th>Region=cluster_1</th>\n",
       "      <th>Region=cluster_4</th>\n",
       "      <th>Region=cluster_8</th>\n",
       "      <th>Region=cluster_0</th>\n",
       "      <th>Region=cluster_5</th>\n",
       "    </tr>\n",
       "  </thead>\n",
       "  <tbody>\n",
       "    <tr>\n",
       "      <th>accuracy_test</th>\n",
       "      <td>0.925+/-0.023</td>\n",
       "      <td>0.821+/-0.026</td>\n",
       "      <td>0.913+/-0.030</td>\n",
       "      <td>0.913+/-0.021</td>\n",
       "      <td>0.808+/-0.031</td>\n",
       "      <td>0.747+/-0.043</td>\n",
       "      <td>0.904+/-0.027</td>\n",
       "      <td>0.895+/-0.034</td>\n",
       "      <td>0.798+/-0.031</td>\n",
       "    </tr>\n",
       "    <tr>\n",
       "      <th>accuracy_train</th>\n",
       "      <td>0.960+/-0.005</td>\n",
       "      <td>0.908+/-0.010</td>\n",
       "      <td>0.936+/-0.008</td>\n",
       "      <td>1.000+/-0.000</td>\n",
       "      <td>0.942+/-0.010</td>\n",
       "      <td>0.862+/-0.013</td>\n",
       "      <td>0.983+/-0.006</td>\n",
       "      <td>0.920+/-0.011</td>\n",
       "      <td>0.818+/-0.012</td>\n",
       "    </tr>\n",
       "    <tr>\n",
       "      <th>f1_test</th>\n",
       "      <td>0.679+/-0.081</td>\n",
       "      <td>0.694+/-0.041</td>\n",
       "      <td>0.651+/-0.110</td>\n",
       "      <td>0.623+/-0.100</td>\n",
       "      <td>0.597+/-0.053</td>\n",
       "      <td>0.660+/-0.047</td>\n",
       "      <td>0.566+/-0.132</td>\n",
       "      <td>0.542+/-0.122</td>\n",
       "      <td>0.471+/-0.073</td>\n",
       "    </tr>\n",
       "    <tr>\n",
       "      <th>f1_train</th>\n",
       "      <td>0.829+/-0.017</td>\n",
       "      <td>0.846+/-0.015</td>\n",
       "      <td>0.739+/-0.031</td>\n",
       "      <td>1.000+/-0.000</td>\n",
       "      <td>0.869+/-0.019</td>\n",
       "      <td>0.809+/-0.017</td>\n",
       "      <td>0.929+/-0.023</td>\n",
       "      <td>0.654+/-0.035</td>\n",
       "      <td>0.531+/-0.020</td>\n",
       "    </tr>\n",
       "    <tr>\n",
       "      <th>precision_test</th>\n",
       "      <td>0.590+/-0.091</td>\n",
       "      <td>0.625+/-0.046</td>\n",
       "      <td>0.576+/-0.104</td>\n",
       "      <td>0.768+/-0.136</td>\n",
       "      <td>0.512+/-0.057</td>\n",
       "      <td>0.575+/-0.058</td>\n",
       "      <td>0.603+/-0.162</td>\n",
       "      <td>0.471+/-0.131</td>\n",
       "      <td>0.382+/-0.060</td>\n",
       "    </tr>\n",
       "    <tr>\n",
       "      <th>precision_train</th>\n",
       "      <td>0.709+/-0.026</td>\n",
       "      <td>0.751+/-0.022</td>\n",
       "      <td>0.651+/-0.037</td>\n",
       "      <td>1.000+/-0.000</td>\n",
       "      <td>0.779+/-0.031</td>\n",
       "      <td>0.717+/-0.021</td>\n",
       "      <td>0.880+/-0.036</td>\n",
       "      <td>0.540+/-0.044</td>\n",
       "      <td>0.424+/-0.024</td>\n",
       "    </tr>\n",
       "    <tr>\n",
       "      <th>recall_test</th>\n",
       "      <td>0.819+/-0.129</td>\n",
       "      <td>0.789+/-0.080</td>\n",
       "      <td>0.771+/-0.171</td>\n",
       "      <td>0.542+/-0.115</td>\n",
       "      <td>0.723+/-0.075</td>\n",
       "      <td>0.779+/-0.059</td>\n",
       "      <td>0.559+/-0.154</td>\n",
       "      <td>0.687+/-0.202</td>\n",
       "      <td>0.632+/-0.142</td>\n",
       "    </tr>\n",
       "    <tr>\n",
       "      <th>recall_train</th>\n",
       "      <td>1.000+/-0.000</td>\n",
       "      <td>0.969+/-0.011</td>\n",
       "      <td>0.856+/-0.033</td>\n",
       "      <td>1.000+/-0.000</td>\n",
       "      <td>0.984+/-0.013</td>\n",
       "      <td>0.929+/-0.017</td>\n",
       "      <td>0.986+/-0.016</td>\n",
       "      <td>0.833+/-0.033</td>\n",
       "      <td>0.713+/-0.032</td>\n",
       "    </tr>\n",
       "    <tr>\n",
       "      <th>percentage_positive</th>\n",
       "      <td>0.096</td>\n",
       "      <td>0.259</td>\n",
       "      <td>0.105</td>\n",
       "      <td>0.136</td>\n",
       "      <td>0.196</td>\n",
       "      <td>0.313</td>\n",
       "      <td>0.114</td>\n",
       "      <td>0.09</td>\n",
       "      <td>0.145</td>\n",
       "    </tr>\n",
       "  </tbody>\n",
       "</table>\n",
       "</div>"
      ],
      "text/plain": [
       "                    Region=cluster_7 Region=cluster_6 Region=cluster_3  \\\n",
       "accuracy_test          0.925+/-0.023    0.821+/-0.026    0.913+/-0.030   \n",
       "accuracy_train         0.960+/-0.005    0.908+/-0.010    0.936+/-0.008   \n",
       "f1_test                0.679+/-0.081    0.694+/-0.041    0.651+/-0.110   \n",
       "f1_train               0.829+/-0.017    0.846+/-0.015    0.739+/-0.031   \n",
       "precision_test         0.590+/-0.091    0.625+/-0.046    0.576+/-0.104   \n",
       "precision_train        0.709+/-0.026    0.751+/-0.022    0.651+/-0.037   \n",
       "recall_test            0.819+/-0.129    0.789+/-0.080    0.771+/-0.171   \n",
       "recall_train           1.000+/-0.000    0.969+/-0.011    0.856+/-0.033   \n",
       "percentage_positive            0.096            0.259            0.105   \n",
       "\n",
       "                    Region=cluster_2 Region=cluster_1 Region=cluster_4  \\\n",
       "accuracy_test          0.913+/-0.021    0.808+/-0.031    0.747+/-0.043   \n",
       "accuracy_train         1.000+/-0.000    0.942+/-0.010    0.862+/-0.013   \n",
       "f1_test                0.623+/-0.100    0.597+/-0.053    0.660+/-0.047   \n",
       "f1_train               1.000+/-0.000    0.869+/-0.019    0.809+/-0.017   \n",
       "precision_test         0.768+/-0.136    0.512+/-0.057    0.575+/-0.058   \n",
       "precision_train        1.000+/-0.000    0.779+/-0.031    0.717+/-0.021   \n",
       "recall_test            0.542+/-0.115    0.723+/-0.075    0.779+/-0.059   \n",
       "recall_train           1.000+/-0.000    0.984+/-0.013    0.929+/-0.017   \n",
       "percentage_positive            0.136            0.196            0.313   \n",
       "\n",
       "                    Region=cluster_8 Region=cluster_0 Region=cluster_5  \n",
       "accuracy_test          0.904+/-0.027    0.895+/-0.034    0.798+/-0.031  \n",
       "accuracy_train         0.983+/-0.006    0.920+/-0.011    0.818+/-0.012  \n",
       "f1_test                0.566+/-0.132    0.542+/-0.122    0.471+/-0.073  \n",
       "f1_train               0.929+/-0.023    0.654+/-0.035    0.531+/-0.020  \n",
       "precision_test         0.603+/-0.162    0.471+/-0.131    0.382+/-0.060  \n",
       "precision_train        0.880+/-0.036    0.540+/-0.044    0.424+/-0.024  \n",
       "recall_test            0.559+/-0.154    0.687+/-0.202    0.632+/-0.142  \n",
       "recall_train           0.986+/-0.016    0.833+/-0.033    0.713+/-0.032  \n",
       "percentage_positive            0.114             0.09            0.145  "
      ]
     },
     "execution_count": 10,
     "metadata": {},
     "output_type": "execute_result"
    }
   ],
   "source": [
    "metrics_pct_clusters = pandas.concat([metrics_clusters,pct_clusters],join='inner')\n",
    "metrics_pct_clusters"
   ]
  },
  {
   "cell_type": "code",
   "execution_count": 11,
   "metadata": {
    "hidden": true
   },
   "outputs": [
    {
     "data": {
      "text/html": [
       "<div>\n",
       "<style scoped>\n",
       "    .dataframe tbody tr th:only-of-type {\n",
       "        vertical-align: middle;\n",
       "    }\n",
       "\n",
       "    .dataframe tbody tr th {\n",
       "        vertical-align: top;\n",
       "    }\n",
       "\n",
       "    .dataframe thead th {\n",
       "        text-align: right;\n",
       "    }\n",
       "</style>\n",
       "<table border=\"1\" class=\"dataframe\">\n",
       "  <thead>\n",
       "    <tr style=\"text-align: right;\">\n",
       "      <th></th>\n",
       "      <th>accuracy_test</th>\n",
       "      <th>f1_test</th>\n",
       "      <th>precision_test</th>\n",
       "      <th>recall_test</th>\n",
       "      <th>percentage_positive</th>\n",
       "    </tr>\n",
       "  </thead>\n",
       "  <tbody>\n",
       "    <tr>\n",
       "      <th>Region=cluster_7</th>\n",
       "      <td>0.925+/-0.023</td>\n",
       "      <td>0.679+/-0.081</td>\n",
       "      <td>0.590+/-0.091</td>\n",
       "      <td>0.819+/-0.129</td>\n",
       "      <td>0.096</td>\n",
       "    </tr>\n",
       "    <tr>\n",
       "      <th>Region=cluster_6</th>\n",
       "      <td>0.821+/-0.026</td>\n",
       "      <td>0.694+/-0.041</td>\n",
       "      <td>0.625+/-0.046</td>\n",
       "      <td>0.789+/-0.080</td>\n",
       "      <td>0.259</td>\n",
       "    </tr>\n",
       "    <tr>\n",
       "      <th>Region=cluster_3</th>\n",
       "      <td>0.913+/-0.030</td>\n",
       "      <td>0.651+/-0.110</td>\n",
       "      <td>0.576+/-0.104</td>\n",
       "      <td>0.771+/-0.171</td>\n",
       "      <td>0.105</td>\n",
       "    </tr>\n",
       "    <tr>\n",
       "      <th>Region=cluster_2</th>\n",
       "      <td>0.913+/-0.021</td>\n",
       "      <td>0.623+/-0.100</td>\n",
       "      <td>0.768+/-0.136</td>\n",
       "      <td>0.542+/-0.115</td>\n",
       "      <td>0.136</td>\n",
       "    </tr>\n",
       "    <tr>\n",
       "      <th>Region=cluster_1</th>\n",
       "      <td>0.808+/-0.031</td>\n",
       "      <td>0.597+/-0.053</td>\n",
       "      <td>0.512+/-0.057</td>\n",
       "      <td>0.723+/-0.075</td>\n",
       "      <td>0.196</td>\n",
       "    </tr>\n",
       "    <tr>\n",
       "      <th>Region=cluster_4</th>\n",
       "      <td>0.747+/-0.043</td>\n",
       "      <td>0.660+/-0.047</td>\n",
       "      <td>0.575+/-0.058</td>\n",
       "      <td>0.779+/-0.059</td>\n",
       "      <td>0.313</td>\n",
       "    </tr>\n",
       "    <tr>\n",
       "      <th>Region=cluster_8</th>\n",
       "      <td>0.904+/-0.027</td>\n",
       "      <td>0.566+/-0.132</td>\n",
       "      <td>0.603+/-0.162</td>\n",
       "      <td>0.559+/-0.154</td>\n",
       "      <td>0.114</td>\n",
       "    </tr>\n",
       "    <tr>\n",
       "      <th>Region=cluster_0</th>\n",
       "      <td>0.895+/-0.034</td>\n",
       "      <td>0.542+/-0.122</td>\n",
       "      <td>0.471+/-0.131</td>\n",
       "      <td>0.687+/-0.202</td>\n",
       "      <td>0.09</td>\n",
       "    </tr>\n",
       "    <tr>\n",
       "      <th>Region=cluster_5</th>\n",
       "      <td>0.798+/-0.031</td>\n",
       "      <td>0.471+/-0.073</td>\n",
       "      <td>0.382+/-0.060</td>\n",
       "      <td>0.632+/-0.142</td>\n",
       "      <td>0.145</td>\n",
       "    </tr>\n",
       "  </tbody>\n",
       "</table>\n",
       "</div>"
      ],
      "text/plain": [
       "                  accuracy_test        f1_test precision_test    recall_test  \\\n",
       "Region=cluster_7  0.925+/-0.023  0.679+/-0.081  0.590+/-0.091  0.819+/-0.129   \n",
       "Region=cluster_6  0.821+/-0.026  0.694+/-0.041  0.625+/-0.046  0.789+/-0.080   \n",
       "Region=cluster_3  0.913+/-0.030  0.651+/-0.110  0.576+/-0.104  0.771+/-0.171   \n",
       "Region=cluster_2  0.913+/-0.021  0.623+/-0.100  0.768+/-0.136  0.542+/-0.115   \n",
       "Region=cluster_1  0.808+/-0.031  0.597+/-0.053  0.512+/-0.057  0.723+/-0.075   \n",
       "Region=cluster_4  0.747+/-0.043  0.660+/-0.047  0.575+/-0.058  0.779+/-0.059   \n",
       "Region=cluster_8  0.904+/-0.027  0.566+/-0.132  0.603+/-0.162  0.559+/-0.154   \n",
       "Region=cluster_0  0.895+/-0.034  0.542+/-0.122  0.471+/-0.131  0.687+/-0.202   \n",
       "Region=cluster_5  0.798+/-0.031  0.471+/-0.073  0.382+/-0.060  0.632+/-0.142   \n",
       "\n",
       "                 percentage_positive  \n",
       "Region=cluster_7               0.096  \n",
       "Region=cluster_6               0.259  \n",
       "Region=cluster_3               0.105  \n",
       "Region=cluster_2               0.136  \n",
       "Region=cluster_1               0.196  \n",
       "Region=cluster_4               0.313  \n",
       "Region=cluster_8               0.114  \n",
       "Region=cluster_0                0.09  \n",
       "Region=cluster_5               0.145  "
      ]
     },
     "execution_count": 11,
     "metadata": {},
     "output_type": "execute_result"
    }
   ],
   "source": [
    "metrics_pct_clusters.transpose()[['accuracy_test','f1_test','precision_test','recall_test','percentage_positive']]"
   ]
  },
  {
   "cell_type": "markdown",
   "metadata": {},
   "source": [
    "Down below, we include the **selected features for the best model and the most common features in all the models**."
   ]
  },
  {
   "cell_type": "code",
   "execution_count": 12,
   "metadata": {},
   "outputs": [
    {
     "data": {
      "text/html": [
       "<div>\n",
       "<style scoped>\n",
       "    .dataframe tbody tr th:only-of-type {\n",
       "        vertical-align: middle;\n",
       "    }\n",
       "\n",
       "    .dataframe tbody tr th {\n",
       "        vertical-align: top;\n",
       "    }\n",
       "\n",
       "    .dataframe thead th {\n",
       "        text-align: right;\n",
       "    }\n",
       "</style>\n",
       "<table border=\"1\" class=\"dataframe\">\n",
       "  <thead>\n",
       "    <tr style=\"text-align: right;\">\n",
       "      <th></th>\n",
       "      <th>Features best model</th>\n",
       "      <th>Features all models</th>\n",
       "      <th>Avg#</th>\n",
       "    </tr>\n",
       "  </thead>\n",
       "  <tbody>\n",
       "    <tr>\n",
       "      <th>Region=cluster_7</th>\n",
       "      <td>[ace3_visuospatial, diagnostic_FTD, diagnostic_AD, tlt_total_correct, ace3_attention, tmt_a, rocf_time, bnt, ace3_memory, rocf_3min, fcsrt_l1, current_age]</td>\n",
       "      <td>[(tlt_total_correct, 0.95), (diagnostic_FTD, 0.95), (current_age, 0.9), (rocf_time, 0.9), (tmt_a, 0.85), (fcsrt_l1, 0.8), (diagnostic_AD, 0.65), (bnt, 0.6), (rocf_30min, 0.6), (diagnostic_CT, 0.6), (vospt_silhouette, 0.6), (ace3_attention, 0.6), (st_1, 0.55), (rocf_copy, 0.5), (rocf_recognition, 0.5), (ace3_fluency, 0.5), (education_years, 0.45), (rocf_3min, 0.45), (tmt_b, 0.45), (ace3_memory, 0.45), (st_3, 0.45), (st_2, 0.45), (ace3_language, 0.4), (fcsrt_total, 0.4), (mst_direct, 0.4), (ace3_visuospatial, 0.4), (fcsrt_dif_free, 0.35), (vospt_discrimination, 0.35), (fcsrt_dif_total, 0.35), (sex_male, 0.3), (cbtt_indirect, 0.25), (ace, 0.25), (sex_female, 0.25), (fcsrt_lt, 0.25), (ft_formal, 0.25), (sdmt, 0.25), (vospt_decision, 0.2), (ft_animals, 0.2), (cbtt_direct, 0.2), (mst_indirect, 0.15), (vospt_location, 0.05)]</td>\n",
       "      <td>19.00</td>\n",
       "    </tr>\n",
       "    <tr>\n",
       "      <th>Region=cluster_6</th>\n",
       "      <td>[rocf_3min, st_1, education_years, rocf_recognition, ace, fcsrt_lt, st_2, rocf_30min, tlt_total_correct, ace3_language, st_3, current_age, diagnostic_CT]</td>\n",
       "      <td>[(st_3, 0.9), (rocf_30min, 0.8), (rocf_recognition, 0.75), (ace3_visuospatial, 0.7), (fcsrt_l1, 0.6), (st_2, 0.6), (fcsrt_dif_total, 0.5), (diagnostic_AD, 0.5), (current_age, 0.5), (diagnostic_FTD, 0.5), (st_1, 0.45), (education_years, 0.45), (diagnostic_CT, 0.45), (ace3_memory, 0.4), (fcsrt_lt, 0.35), (vospt_silhouette, 0.3), (ft_animals, 0.25), (ace3_language, 0.2), (rocf_time, 0.2), (tlt_total_correct, 0.15), (mst_indirect, 0.1), (ace3_fluency, 0.1), (fcsrt_dif_free, 0.1), (vospt_decision, 0.1), (vospt_discrimination, 0.05), (tmt_b, 0.05), (ft_formal, 0.05), (rocf_3min, 0.05), (ace, 0.05), (rocf_copy, 0.05), (ace3_attention, 0.05), (bnt, 0.05)]</td>\n",
       "      <td>10.35</td>\n",
       "    </tr>\n",
       "    <tr>\n",
       "      <th>Region=cluster_3</th>\n",
       "      <td>[cbtt_indirect, diagnostic_FTD, fcsrt_lt, fcsrt_total, fcsrt_dif_free]</td>\n",
       "      <td>[(diagnostic_FTD, 1.0), (fcsrt_dif_free, 0.75), (fcsrt_total, 0.6), (cbtt_indirect, 0.6), (mst_direct, 0.45), (fcsrt_lt, 0.4), (education_years, 0.2), (fcsrt_dif_total, 0.15), (tlt_total_correct, 0.15), (diagnostic_AD, 0.15), (cbtt_direct, 0.15), (ace3_language, 0.15), (bnt, 0.1), (current_age, 0.1), (rocf_recognition, 0.1), (ft_animals, 0.1), (mst_indirect, 0.1), (tmt_b, 0.1), (sdmt, 0.05), (tmt_a, 0.05), (vospt_silhouette, 0.05), (st_1, 0.05), (ace3_memory, 0.05), (rocf_time, 0.05), (ace, 0.05), (ace3_attention, 0.05), (rocf_30min, 0.05), (vospt_decision, 0.05), (diagnostic_CT, 0.05)]</td>\n",
       "      <td>5.90</td>\n",
       "    </tr>\n",
       "    <tr>\n",
       "      <th>Region=cluster_2</th>\n",
       "      <td>[ace, ft_formal, ace3_memory, rocf_recognition, vospt_location, diagnostic_CT, fcsrt_dif_free, cbtt_indirect, st_3, st_2, mst_direct, sex_female, ace3_visuospatial, tmt_a, tlt_total_correct, tmt_b, fcsrt_dif_total, cbtt_direct, ace3_fluency, diagnostic_FTD, rocf_3min, vospt_silhouette, bnt, sdmt, st_1, current_age, fcsrt_lt]</td>\n",
       "      <td>[(cbtt_direct, 1.0), (current_age, 1.0), (cbtt_indirect, 1.0), (tmt_a, 1.0), (ft_formal, 0.9), (st_3, 0.9), (diagnostic_FTD, 0.9), (mst_direct, 0.9), (sex_female, 0.9), (rocf_recognition, 0.9), (rocf_time, 0.9), (rocf_3min, 0.85), (fcsrt_lt, 0.85), (st_1, 0.8), (mst_indirect, 0.8), (diagnostic_CT, 0.75), (sdmt, 0.75), (vospt_location, 0.7), (vospt_silhouette, 0.7), (ace3_language, 0.7), (education_years, 0.7), (sex_male, 0.7), (tmt_b, 0.7), (ace3_visuospatial, 0.7), (vospt_decision, 0.65), (rocf_30min, 0.6), (fcsrt_dif_free, 0.55), (diagnostic_AD, 0.55), (fcsrt_l1, 0.55), (fcsrt_total, 0.5), (fcsrt_dif_total, 0.5), (ace, 0.5), (ace3_fluency, 0.45), (tlt_total_correct, 0.45), (ace3_attention, 0.4), (st_2, 0.4), (bnt, 0.4), (ace3_memory, 0.3), (rocf_copy, 0.25), (vospt_discrimination, 0.15), (ft_animals, 0.1)]</td>\n",
       "      <td>27.30</td>\n",
       "    </tr>\n",
       "    <tr>\n",
       "      <th>Region=cluster_1</th>\n",
       "      <td>[diagnostic_CT, bnt, current_age, st_3, sex_male, mst_direct, st_1, st_2, tmt_b, diagnostic_FTD]</td>\n",
       "      <td>[(current_age, 1.0), (mst_direct, 0.7), (st_2, 0.7), (st_1, 0.65), (diagnostic_FTD, 0.6), (ft_animals, 0.55), (tlt_total_correct, 0.55), (diagnostic_CT, 0.5), (bnt, 0.5), (tmt_b, 0.5), (st_3, 0.4), (sex_male, 0.35), (education_years, 0.35), (rocf_recognition, 0.25), (diagnostic_AD, 0.2), (ace3_language, 0.2), (fcsrt_l1, 0.2), (rocf_30min, 0.15), (rocf_3min, 0.15), (fcsrt_dif_total, 0.15), (ace3_fluency, 0.15), (ace3_memory, 0.15), (vospt_discrimination, 0.15), (ace3_attention, 0.15), (fcsrt_lt, 0.15), (tmt_a, 0.15), (fcsrt_dif_free, 0.1), (rocf_copy, 0.1), (ace, 0.1), (ft_formal, 0.1), (fcsrt_total, 0.1), (vospt_decision, 0.05), (cbtt_direct, 0.05), (sex_female, 0.05), (vospt_location, 0.05), (mst_indirect, 0.05), (ace3_visuospatial, 0.05)]</td>\n",
       "      <td>10.35</td>\n",
       "    </tr>\n",
       "    <tr>\n",
       "      <th>Region=cluster_4</th>\n",
       "      <td>[st_2, rocf_recognition, diagnostic_FTD, diagnostic_AD, vospt_silhouette, fcsrt_dif_total, st_3, ft_formal, ft_animals, mst_indirect, fcsrt_lt]</td>\n",
       "      <td>[(st_3, 0.95), (mst_indirect, 0.95), (diagnostic_FTD, 0.9), (ft_formal, 0.85), (fcsrt_dif_total, 0.8), (diagnostic_AD, 0.75), (vospt_silhouette, 0.6), (diagnostic_CT, 0.55), (fcsrt_dif_free, 0.5), (rocf_recognition, 0.45), (rocf_30min, 0.45), (st_2, 0.4), (ft_animals, 0.35), (fcsrt_lt, 0.35), (cbtt_direct, 0.35), (ace3_language, 0.35), (rocf_time, 0.1), (rocf_3min, 0.1), (fcsrt_total, 0.05), (st_1, 0.05), (ace3_memory, 0.05), (current_age, 0.05), (cbtt_indirect, 0.05)]</td>\n",
       "      <td>10.00</td>\n",
       "    </tr>\n",
       "    <tr>\n",
       "      <th>Region=cluster_8</th>\n",
       "      <td>[ft_animals, vospt_silhouette, ace3_memory, rocf_recognition, fcsrt_l1, ace3_fluency, st_2, rocf_copy, ace, tlt_total_correct, diagnostic_AD, diagnostic_FTD, ace3_visuospatial, current_age, ace3_language, fcsrt_dif_free, mst_direct]</td>\n",
       "      <td>[(diagnostic_FTD, 1.0), (current_age, 0.8), (fcsrt_dif_free, 0.6), (rocf_recognition, 0.55), (mst_direct, 0.5), (mst_indirect, 0.45), (education_years, 0.45), (fcsrt_l1, 0.4), (st_1, 0.4), (diagnostic_CT, 0.35), (cbtt_direct, 0.35), (cbtt_indirect, 0.35), (ace3_language, 0.35), (ace3_memory, 0.35), (vospt_silhouette, 0.3), (tmt_a, 0.3), (st_3, 0.3), (ace, 0.3), (fcsrt_lt, 0.3), (ft_animals, 0.3), (st_2, 0.3), (ace3_attention, 0.25), (ace3_fluency, 0.25), (vospt_location, 0.2), (bnt, 0.2), (ace3_visuospatial, 0.2), (rocf_30min, 0.2), (fcsrt_total, 0.2), (tmt_b, 0.2), (sdmt, 0.2), (tlt_total_correct, 0.15), (ft_formal, 0.15), (diagnostic_AD, 0.15), (rocf_time, 0.1), (rocf_copy, 0.1), (rocf_3min, 0.1), (vospt_decision, 0.1), (fcsrt_dif_total, 0.1)]</td>\n",
       "      <td>11.85</td>\n",
       "    </tr>\n",
       "    <tr>\n",
       "      <th>Region=cluster_0</th>\n",
       "      <td>[fcsrt_l1, fcsrt_total, mst_indirect, diagnostic_FTD, st_3, ace3_fluency]</td>\n",
       "      <td>[(mst_indirect, 0.95), (diagnostic_FTD, 0.95), (diagnostic_AD, 0.95), (fcsrt_l1, 0.95), (fcsrt_dif_total, 0.95), (st_3, 0.9), (rocf_recognition, 0.85), (vospt_discrimination, 0.85), (education_years, 0.85), (st_2, 0.85), (ace3_attention, 0.85), (vospt_location, 0.85), (ft_formal, 0.85), (ace3_memory, 0.8), (fcsrt_total, 0.8), (sex_male, 0.8), (fcsrt_dif_free, 0.8), (rocf_time, 0.8), (ace3_fluency, 0.8), (st_1, 0.75), (vospt_decision, 0.75), (diagnostic_CT, 0.75), (ace, 0.75), (sex_female, 0.75), (rocf_30min, 0.75), (current_age, 0.7), (tlt_total_correct, 0.7), (ft_animals, 0.65), (cbtt_indirect, 0.65), (bnt, 0.65), (fcsrt_lt, 0.65), (ace3_visuospatial, 0.65), (rocf_3min, 0.65), (cbtt_direct, 0.65), (vospt_silhouette, 0.6), (mst_direct, 0.6), (ace3_language, 0.6), (tmt_b, 0.55), (tmt_a, 0.45), (rocf_copy, 0.45), (sdmt, 0.45)]</td>\n",
       "      <td>30.55</td>\n",
       "    </tr>\n",
       "    <tr>\n",
       "      <th>Region=cluster_5</th>\n",
       "      <td>[rocf_recognition, sdmt]</td>\n",
       "      <td>[(rocf_recognition, 1.0), (sdmt, 0.95), (vospt_silhouette, 0.15), (current_age, 0.15), (diagnostic_FTD, 0.1), (cbtt_indirect, 0.1), (ace3_memory, 0.1), (tmt_a, 0.1), (tmt_b, 0.05), (fcsrt_l1, 0.05), (st_2, 0.05), (diagnostic_AD, 0.05), (rocf_copy, 0.05)]</td>\n",
       "      <td>2.90</td>\n",
       "    </tr>\n",
       "  </tbody>\n",
       "</table>\n",
       "</div>"
      ],
      "text/plain": [
       "                                                                                                                                                                                                                                                                                                                                     Features best model  \\\n",
       "Region=cluster_7                                                                                                                                                                             [ace3_visuospatial, diagnostic_FTD, diagnostic_AD, tlt_total_correct, ace3_attention, tmt_a, rocf_time, bnt, ace3_memory, rocf_3min, fcsrt_l1, current_age]   \n",
       "Region=cluster_6                                                                                                                                                                               [rocf_3min, st_1, education_years, rocf_recognition, ace, fcsrt_lt, st_2, rocf_30min, tlt_total_correct, ace3_language, st_3, current_age, diagnostic_CT]   \n",
       "Region=cluster_3                                                                                                                                                                                                                                                                  [cbtt_indirect, diagnostic_FTD, fcsrt_lt, fcsrt_total, fcsrt_dif_free]   \n",
       "Region=cluster_2  [ace, ft_formal, ace3_memory, rocf_recognition, vospt_location, diagnostic_CT, fcsrt_dif_free, cbtt_indirect, st_3, st_2, mst_direct, sex_female, ace3_visuospatial, tmt_a, tlt_total_correct, tmt_b, fcsrt_dif_total, cbtt_direct, ace3_fluency, diagnostic_FTD, rocf_3min, vospt_silhouette, bnt, sdmt, st_1, current_age, fcsrt_lt]   \n",
       "Region=cluster_1                                                                                                                                                                                                                                        [diagnostic_CT, bnt, current_age, st_3, sex_male, mst_direct, st_1, st_2, tmt_b, diagnostic_FTD]   \n",
       "Region=cluster_4                                                                                                                                                                                         [st_2, rocf_recognition, diagnostic_FTD, diagnostic_AD, vospt_silhouette, fcsrt_dif_total, st_3, ft_formal, ft_animals, mst_indirect, fcsrt_lt]   \n",
       "Region=cluster_8                                                                                                [ft_animals, vospt_silhouette, ace3_memory, rocf_recognition, fcsrt_l1, ace3_fluency, st_2, rocf_copy, ace, tlt_total_correct, diagnostic_AD, diagnostic_FTD, ace3_visuospatial, current_age, ace3_language, fcsrt_dif_free, mst_direct]   \n",
       "Region=cluster_0                                                                                                                                                                                                                                                               [fcsrt_l1, fcsrt_total, mst_indirect, diagnostic_FTD, st_3, ace3_fluency]   \n",
       "Region=cluster_5                                                                                                                                                                                                                                                                                                                [rocf_recognition, sdmt]   \n",
       "\n",
       "                                                                                                                                                                                                                                                                                                                                                                                                                                                                                                                                                                                                                                                                                                                                                                                                                                                                   Features all models  \\\n",
       "Region=cluster_7         [(tlt_total_correct, 0.95), (diagnostic_FTD, 0.95), (current_age, 0.9), (rocf_time, 0.9), (tmt_a, 0.85), (fcsrt_l1, 0.8), (diagnostic_AD, 0.65), (bnt, 0.6), (rocf_30min, 0.6), (diagnostic_CT, 0.6), (vospt_silhouette, 0.6), (ace3_attention, 0.6), (st_1, 0.55), (rocf_copy, 0.5), (rocf_recognition, 0.5), (ace3_fluency, 0.5), (education_years, 0.45), (rocf_3min, 0.45), (tmt_b, 0.45), (ace3_memory, 0.45), (st_3, 0.45), (st_2, 0.45), (ace3_language, 0.4), (fcsrt_total, 0.4), (mst_direct, 0.4), (ace3_visuospatial, 0.4), (fcsrt_dif_free, 0.35), (vospt_discrimination, 0.35), (fcsrt_dif_total, 0.35), (sex_male, 0.3), (cbtt_indirect, 0.25), (ace, 0.25), (sex_female, 0.25), (fcsrt_lt, 0.25), (ft_formal, 0.25), (sdmt, 0.25), (vospt_decision, 0.2), (ft_animals, 0.2), (cbtt_direct, 0.2), (mst_indirect, 0.15), (vospt_location, 0.05)]   \n",
       "Region=cluster_6                                                                                                                                                                                       [(st_3, 0.9), (rocf_30min, 0.8), (rocf_recognition, 0.75), (ace3_visuospatial, 0.7), (fcsrt_l1, 0.6), (st_2, 0.6), (fcsrt_dif_total, 0.5), (diagnostic_AD, 0.5), (current_age, 0.5), (diagnostic_FTD, 0.5), (st_1, 0.45), (education_years, 0.45), (diagnostic_CT, 0.45), (ace3_memory, 0.4), (fcsrt_lt, 0.35), (vospt_silhouette, 0.3), (ft_animals, 0.25), (ace3_language, 0.2), (rocf_time, 0.2), (tlt_total_correct, 0.15), (mst_indirect, 0.1), (ace3_fluency, 0.1), (fcsrt_dif_free, 0.1), (vospt_decision, 0.1), (vospt_discrimination, 0.05), (tmt_b, 0.05), (ft_formal, 0.05), (rocf_3min, 0.05), (ace, 0.05), (rocf_copy, 0.05), (ace3_attention, 0.05), (bnt, 0.05)]   \n",
       "Region=cluster_3                                                                                                                                                                                                                                                     [(diagnostic_FTD, 1.0), (fcsrt_dif_free, 0.75), (fcsrt_total, 0.6), (cbtt_indirect, 0.6), (mst_direct, 0.45), (fcsrt_lt, 0.4), (education_years, 0.2), (fcsrt_dif_total, 0.15), (tlt_total_correct, 0.15), (diagnostic_AD, 0.15), (cbtt_direct, 0.15), (ace3_language, 0.15), (bnt, 0.1), (current_age, 0.1), (rocf_recognition, 0.1), (ft_animals, 0.1), (mst_indirect, 0.1), (tmt_b, 0.1), (sdmt, 0.05), (tmt_a, 0.05), (vospt_silhouette, 0.05), (st_1, 0.05), (ace3_memory, 0.05), (rocf_time, 0.05), (ace, 0.05), (ace3_attention, 0.05), (rocf_30min, 0.05), (vospt_decision, 0.05), (diagnostic_CT, 0.05)]   \n",
       "Region=cluster_2                   [(cbtt_direct, 1.0), (current_age, 1.0), (cbtt_indirect, 1.0), (tmt_a, 1.0), (ft_formal, 0.9), (st_3, 0.9), (diagnostic_FTD, 0.9), (mst_direct, 0.9), (sex_female, 0.9), (rocf_recognition, 0.9), (rocf_time, 0.9), (rocf_3min, 0.85), (fcsrt_lt, 0.85), (st_1, 0.8), (mst_indirect, 0.8), (diagnostic_CT, 0.75), (sdmt, 0.75), (vospt_location, 0.7), (vospt_silhouette, 0.7), (ace3_language, 0.7), (education_years, 0.7), (sex_male, 0.7), (tmt_b, 0.7), (ace3_visuospatial, 0.7), (vospt_decision, 0.65), (rocf_30min, 0.6), (fcsrt_dif_free, 0.55), (diagnostic_AD, 0.55), (fcsrt_l1, 0.55), (fcsrt_total, 0.5), (fcsrt_dif_total, 0.5), (ace, 0.5), (ace3_fluency, 0.45), (tlt_total_correct, 0.45), (ace3_attention, 0.4), (st_2, 0.4), (bnt, 0.4), (ace3_memory, 0.3), (rocf_copy, 0.25), (vospt_discrimination, 0.15), (ft_animals, 0.1)]   \n",
       "Region=cluster_1                                                                                        [(current_age, 1.0), (mst_direct, 0.7), (st_2, 0.7), (st_1, 0.65), (diagnostic_FTD, 0.6), (ft_animals, 0.55), (tlt_total_correct, 0.55), (diagnostic_CT, 0.5), (bnt, 0.5), (tmt_b, 0.5), (st_3, 0.4), (sex_male, 0.35), (education_years, 0.35), (rocf_recognition, 0.25), (diagnostic_AD, 0.2), (ace3_language, 0.2), (fcsrt_l1, 0.2), (rocf_30min, 0.15), (rocf_3min, 0.15), (fcsrt_dif_total, 0.15), (ace3_fluency, 0.15), (ace3_memory, 0.15), (vospt_discrimination, 0.15), (ace3_attention, 0.15), (fcsrt_lt, 0.15), (tmt_a, 0.15), (fcsrt_dif_free, 0.1), (rocf_copy, 0.1), (ace, 0.1), (ft_formal, 0.1), (fcsrt_total, 0.1), (vospt_decision, 0.05), (cbtt_direct, 0.05), (sex_female, 0.05), (vospt_location, 0.05), (mst_indirect, 0.05), (ace3_visuospatial, 0.05)]   \n",
       "Region=cluster_4                                                                                                                                                                                                                                                                                                                                                                             [(st_3, 0.95), (mst_indirect, 0.95), (diagnostic_FTD, 0.9), (ft_formal, 0.85), (fcsrt_dif_total, 0.8), (diagnostic_AD, 0.75), (vospt_silhouette, 0.6), (diagnostic_CT, 0.55), (fcsrt_dif_free, 0.5), (rocf_recognition, 0.45), (rocf_30min, 0.45), (st_2, 0.4), (ft_animals, 0.35), (fcsrt_lt, 0.35), (cbtt_direct, 0.35), (ace3_language, 0.35), (rocf_time, 0.1), (rocf_3min, 0.1), (fcsrt_total, 0.05), (st_1, 0.05), (ace3_memory, 0.05), (current_age, 0.05), (cbtt_indirect, 0.05)]   \n",
       "Region=cluster_8                                                                                   [(diagnostic_FTD, 1.0), (current_age, 0.8), (fcsrt_dif_free, 0.6), (rocf_recognition, 0.55), (mst_direct, 0.5), (mst_indirect, 0.45), (education_years, 0.45), (fcsrt_l1, 0.4), (st_1, 0.4), (diagnostic_CT, 0.35), (cbtt_direct, 0.35), (cbtt_indirect, 0.35), (ace3_language, 0.35), (ace3_memory, 0.35), (vospt_silhouette, 0.3), (tmt_a, 0.3), (st_3, 0.3), (ace, 0.3), (fcsrt_lt, 0.3), (ft_animals, 0.3), (st_2, 0.3), (ace3_attention, 0.25), (ace3_fluency, 0.25), (vospt_location, 0.2), (bnt, 0.2), (ace3_visuospatial, 0.2), (rocf_30min, 0.2), (fcsrt_total, 0.2), (tmt_b, 0.2), (sdmt, 0.2), (tlt_total_correct, 0.15), (ft_formal, 0.15), (diagnostic_AD, 0.15), (rocf_time, 0.1), (rocf_copy, 0.1), (rocf_3min, 0.1), (vospt_decision, 0.1), (fcsrt_dif_total, 0.1)]   \n",
       "Region=cluster_0  [(mst_indirect, 0.95), (diagnostic_FTD, 0.95), (diagnostic_AD, 0.95), (fcsrt_l1, 0.95), (fcsrt_dif_total, 0.95), (st_3, 0.9), (rocf_recognition, 0.85), (vospt_discrimination, 0.85), (education_years, 0.85), (st_2, 0.85), (ace3_attention, 0.85), (vospt_location, 0.85), (ft_formal, 0.85), (ace3_memory, 0.8), (fcsrt_total, 0.8), (sex_male, 0.8), (fcsrt_dif_free, 0.8), (rocf_time, 0.8), (ace3_fluency, 0.8), (st_1, 0.75), (vospt_decision, 0.75), (diagnostic_CT, 0.75), (ace, 0.75), (sex_female, 0.75), (rocf_30min, 0.75), (current_age, 0.7), (tlt_total_correct, 0.7), (ft_animals, 0.65), (cbtt_indirect, 0.65), (bnt, 0.65), (fcsrt_lt, 0.65), (ace3_visuospatial, 0.65), (rocf_3min, 0.65), (cbtt_direct, 0.65), (vospt_silhouette, 0.6), (mst_direct, 0.6), (ace3_language, 0.6), (tmt_b, 0.55), (tmt_a, 0.45), (rocf_copy, 0.45), (sdmt, 0.45)]   \n",
       "Region=cluster_5                                                                                                                                                                                                                                                                                                                                                                                                                                                                                                                                                                                                        [(rocf_recognition, 1.0), (sdmt, 0.95), (vospt_silhouette, 0.15), (current_age, 0.15), (diagnostic_FTD, 0.1), (cbtt_indirect, 0.1), (ace3_memory, 0.1), (tmt_a, 0.1), (tmt_b, 0.05), (fcsrt_l1, 0.05), (st_2, 0.05), (diagnostic_AD, 0.05), (rocf_copy, 0.05)]   \n",
       "\n",
       "                   Avg#  \n",
       "Region=cluster_7  19.00  \n",
       "Region=cluster_6  10.35  \n",
       "Region=cluster_3   5.90  \n",
       "Region=cluster_2  27.30  \n",
       "Region=cluster_1  10.35  \n",
       "Region=cluster_4  10.00  \n",
       "Region=cluster_8  11.85  \n",
       "Region=cluster_0  30.55  \n",
       "Region=cluster_5   2.90  "
      ]
     },
     "execution_count": 12,
     "metadata": {},
     "output_type": "execute_result"
    }
   ],
   "source": [
    "features_clusters"
   ]
  },
  {
   "cell_type": "markdown",
   "metadata": {},
   "source": [
    "Down below, we include a **heatmap indicating the frequency of each feature in predicting each lobe**. The features are ordered by nature (diagnostic features, demographic features and cognitive features -ordered themselves according to the cognitive function measured-), making it easier to see patterns."
   ]
  },
  {
   "cell_type": "code",
   "execution_count": 13,
   "metadata": {},
   "outputs": [
    {
     "data": {
      "text/plain": [
       "<matplotlib.axes._subplots.AxesSubplot at 0xbcdc708>"
      ]
     },
     "execution_count": 13,
     "metadata": {},
     "output_type": "execute_result"
    },
    {
     "data": {
      "image/png": "[encoded data removed]",
      "text/plain": [
       "<Figure size 1152x288 with 2 Axes>"
      ]
     },
     "metadata": {
      "needs_background": "light"
     },
     "output_type": "display_data"
    }
   ],
   "source": [
    "matplotlib.rcParams['figure.figsize'] = (16,4)\n",
    "seaborn.heatmap(map_clusters,cmap='Greys',xticklabels=True,yticklabels=True)"
   ]
  },
  {
   "cell_type": "markdown",
   "metadata": {
    "heading_collapsed": true
   },
   "source": [
    "### Conclusions"
   ]
  },
  {
   "cell_type": "markdown",
   "metadata": {},
   "source": [
    "We can see that **grouping brain regions into clusters does not improve remarkably our predictions**. In fact, the results obtained are similar to those appearing in the best half of fine-grained prediction. What appears to be happening is that those regions which were best predicted compensate for those regions which were worst predicted. One advantage of doing the coarse-grained prediction with lobes was that differences in hypometabolism between lobes were not that pronounced. This does not happen with clusters, because similarly expressed regions tend to group together.\n",
    "\n",
    "**In comparison with the prediction by lobes, we can see a slight worsening, specially in the accuracy**. This was unexpected as we would have thought that grouping regions based on metabolic information made more sense than doing so based on anatomical information."
   ]
  }
 ],
 "metadata": {
  "kernelspec": {
   "display_name": "Python 3",
   "language": "python",
   "name": "python3"
  },
  "language_info": {
   "codemirror_mode": {
    "name": "ipython",
    "version": 3
   },
   "file_extension": ".py",
   "mimetype": "text/x-python",
   "name": "python",
   "nbconvert_exporter": "python",
   "pygments_lexer": "ipython3",
   "version": "3.7.6"
  }
 },
 "nbformat": 4,
 "nbformat_minor": 4
}
