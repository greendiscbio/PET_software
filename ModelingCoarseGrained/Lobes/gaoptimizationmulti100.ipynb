{
 "cells": [
  {
   "cell_type": "markdown",
   "metadata": {},
   "source": [
    "# Optimization of parameters in genetic algorithms"
   ]
  },
  {
   "cell_type": "markdown",
   "metadata": {},
   "source": [
    "This notebook gathers the results for the parameter optimization made on the multi-objective genetic algorithms, considering a binary threshold of 100."
   ]
  },
  {
   "cell_type": "markdown",
   "metadata": {
    "heading_collapsed": true
   },
   "source": [
    "### Brief explanation"
   ]
  },
  {
   "cell_type": "markdown",
   "metadata": {
    "hidden": true
   },
   "source": [
    "With the previous exploration of parameters, we were able to determine which values resulted in better performances. There was obviously not a unique configuration yielding better results so, for the optimization run, we still allowed some variation. We basically assigned different probabilities of appearence to each of the parameters' values. The parameters, their possible values and their associated probabilities are:\n",
    "\n",
    "- **Algorithm**: ALG1 (NSGA2), ALG2 (SPEA2) ----------------------------------------- Probabilities: 3/4, 1/4\n",
    "- **Estimator**: SVM1 (c=2), SVM2 (c=10), SVM3 (c=50) ------------------------------- Probabilities: 1/3, 1/3, 1/3\n",
    "- **Mutation rate**: MR1 (0.05), MR2 (0.1), MR3 (0.15) ---------------------------------- Probabilities: 4/6, 1/6, 1/6\n",
    "- **Selection**: SE1 (tournament 2-1) , SE2 (tournament 5-2), SE3 (roulette) ------ Probabilities: 2/4, 1/4, 1/4\n",
    "\n",
    "For each lobe, we run 10 models whose parameters are selected according to these probabilities. Each of the models yields a set of solutions and the best is chosen according to accuracy and f1 score in the test dataset."
   ]
  },
  {
   "cell_type": "markdown",
   "metadata": {
    "heading_collapsed": true
   },
   "source": [
    "### Import the packages"
   ]
  },
  {
   "cell_type": "markdown",
   "metadata": {
    "hidden": true
   },
   "source": [
    "We import the packages that will be needed. In this case, everything is already contained in the gatools.py file, that loads submodules of PyWin module."
   ]
  },
  {
   "cell_type": "code",
   "execution_count": 1,
   "metadata": {
    "hidden": true
   },
   "outputs": [],
   "source": [
    "import matplotlib\n",
    "import seaborn\n",
    "import sys\n",
    "sys.path.insert(0,'../../Tools')\n",
    "from orderedlist import *\n",
    "from gatools import *\n",
    "bi = Binarization()\n",
    "mo = Models()"
   ]
  },
  {
   "cell_type": "code",
   "execution_count": 2,
   "metadata": {
    "hidden": true
   },
   "outputs": [],
   "source": [
    "pandas.set_option('display.max_rows', None)\n",
    "pandas.set_option('display.max_columns', None)\n",
    "pandas.set_option('display.width', None)\n",
    "pandas.set_option('display.max_colwidth', None)"
   ]
  },
  {
   "cell_type": "markdown",
   "metadata": {
    "heading_collapsed": true
   },
   "source": [
    "### Preparation of results"
   ]
  },
  {
   "cell_type": "markdown",
   "metadata": {},
   "source": [
    "#### General stuff"
   ]
  },
  {
   "cell_type": "code",
   "execution_count": 3,
   "metadata": {
    "hidden": true
   },
   "outputs": [],
   "source": [
    "qual_lobes = bi.get_binary(pandas.read_csv('../../Data/CoarseGrained/Y_lobes_quan.csv'),100)"
   ]
  },
  {
   "cell_type": "code",
   "execution_count": 4,
   "metadata": {},
   "outputs": [],
   "source": [
    "features = pandas.read_csv('./Optimization_multi_100/optimization_best_features.csv')\n",
    "features_all = pandas.read_csv('./Optimization_multi_100/optimization_features.csv')\n",
    "train = pandas.read_csv('./Optimization_multi_100/optimization_best_train.csv')\n",
    "test = pandas.read_csv('./Optimization_multi_100/optimization_best_test.csv')"
   ]
  },
  {
   "cell_type": "code",
   "execution_count": 5,
   "metadata": {},
   "outputs": [],
   "source": [
    "tasks_lobes = ['_'.join([i.split('_')[-2],i.split('_')[-1]]) for i in list(features['Model'])]"
   ]
  },
  {
   "cell_type": "markdown",
   "metadata": {},
   "source": [
    "#### Metrics"
   ]
  },
  {
   "cell_type": "code",
   "execution_count": 6,
   "metadata": {
    "hidden": true
   },
   "outputs": [],
   "source": [
    "pct_lobes = round(numpy.divide(numpy.sum(qual_lobes),qual_lobes.shape[0]).to_frame().transpose(),3)\n",
    "pct_lobes = pct_lobes.add_prefix('Region=')\n",
    "pct_lobes.index=['percentage_positive']"
   ]
  },
  {
   "cell_type": "code",
   "execution_count": 7,
   "metadata": {},
   "outputs": [],
   "source": [
    "metrics_lobes = pandas.DataFrame()\n",
    "for task in tasks_lobes:\n",
    "    temp_metrics = mo.evaluate_metrics(train,test,task)\n",
    "    try: metrics_lobes = pandas.concat([metrics_lobes,temp_metrics],axis=1)\n",
    "    except: metrics_lobes = temp_metrics"
   ]
  },
  {
   "cell_type": "markdown",
   "metadata": {},
   "source": [
    "#### Features"
   ]
  },
  {
   "cell_type": "code",
   "execution_count": 8,
   "metadata": {},
   "outputs": [],
   "source": [
    "features_lobes = pandas.DataFrame()\n",
    "for task in tasks_lobes:\n",
    "    temp_features = mo.evaluate_features(features,features_all,task)\n",
    "    try: features_lobes = pandas.concat([features_lobes,temp_features],axis=0)\n",
    "    except: features_lobes = temp_features"
   ]
  },
  {
   "cell_type": "code",
   "execution_count": 9,
   "metadata": {},
   "outputs": [],
   "source": [
    "map_lobes = pandas.DataFrame()\n",
    "for task in lobes_list:\n",
    "    try: \n",
    "        temp_map = mo.map_features(features_all,features_list,task)\n",
    "        try: map_lobes = pandas.concat([map_lobes,temp_map],axis=0)\n",
    "        except: map_lobes = temp_map\n",
    "    except: pass"
   ]
  },
  {
   "cell_type": "markdown",
   "metadata": {
    "heading_collapsed": true
   },
   "source": [
    "### Results"
   ]
  },
  {
   "cell_type": "markdown",
   "metadata": {
    "hidden": true
   },
   "source": [
    "Down below we show the **sorted lobes according to accuracy and f1 score**. In the second table, only test information is given (those lobes appearing at the top are the ones with better overall models)."
   ]
  },
  {
   "cell_type": "code",
   "execution_count": 10,
   "metadata": {
    "hidden": true
   },
   "outputs": [
    {
     "data": {
      "text/html": [
       "<div>\n",
       "<style scoped>\n",
       "    .dataframe tbody tr th:only-of-type {\n",
       "        vertical-align: middle;\n",
       "    }\n",
       "\n",
       "    .dataframe tbody tr th {\n",
       "        vertical-align: top;\n",
       "    }\n",
       "\n",
       "    .dataframe thead th {\n",
       "        text-align: right;\n",
       "    }\n",
       "</style>\n",
       "<table border=\"1\" class=\"dataframe\">\n",
       "  <thead>\n",
       "    <tr style=\"text-align: right;\">\n",
       "      <th></th>\n",
       "      <th>Region=insular_l</th>\n",
       "      <th>Region=temporal_l</th>\n",
       "      <th>Region=occipital_r</th>\n",
       "      <th>Region=occipital_l</th>\n",
       "      <th>Region=parietal_l</th>\n",
       "      <th>Region=subcortical_r</th>\n",
       "      <th>Region=subcortical_l</th>\n",
       "      <th>Region=frontal_l</th>\n",
       "      <th>Region=frontal_r</th>\n",
       "      <th>Region=insular_r</th>\n",
       "      <th>Region=temporal_r</th>\n",
       "      <th>Region=parietal_r</th>\n",
       "    </tr>\n",
       "  </thead>\n",
       "  <tbody>\n",
       "    <tr>\n",
       "      <th>accuracy_test</th>\n",
       "      <td>0.966+/-0.022</td>\n",
       "      <td>0.841+/-0.044</td>\n",
       "      <td>0.917+/-0.024</td>\n",
       "      <td>0.885+/-0.036</td>\n",
       "      <td>0.844+/-0.023</td>\n",
       "      <td>0.955+/-0.023</td>\n",
       "      <td>0.939+/-0.024</td>\n",
       "      <td>0.891+/-0.035</td>\n",
       "      <td>0.844+/-0.041</td>\n",
       "      <td>0.899+/-0.021</td>\n",
       "      <td>0.735+/-0.034</td>\n",
       "      <td>0.818+/-0.038</td>\n",
       "    </tr>\n",
       "    <tr>\n",
       "      <th>accuracy_train</th>\n",
       "      <td>1.000+/-0.000</td>\n",
       "      <td>0.936+/-0.010</td>\n",
       "      <td>0.998+/-0.002</td>\n",
       "      <td>0.915+/-0.009</td>\n",
       "      <td>0.887+/-0.007</td>\n",
       "      <td>0.990+/-0.005</td>\n",
       "      <td>0.986+/-0.005</td>\n",
       "      <td>0.997+/-0.003</td>\n",
       "      <td>0.910+/-0.015</td>\n",
       "      <td>0.978+/-0.006</td>\n",
       "      <td>0.796+/-0.017</td>\n",
       "      <td>0.864+/-0.009</td>\n",
       "    </tr>\n",
       "    <tr>\n",
       "      <th>f1_test</th>\n",
       "      <td>0.758+/-0.167</td>\n",
       "      <td>0.718+/-0.070</td>\n",
       "      <td>0.645+/-0.109</td>\n",
       "      <td>0.647+/-0.098</td>\n",
       "      <td>0.618+/-0.047</td>\n",
       "      <td>0.605+/-0.163</td>\n",
       "      <td>0.600+/-0.152</td>\n",
       "      <td>0.619+/-0.118</td>\n",
       "      <td>0.611+/-0.093</td>\n",
       "      <td>0.513+/-0.082</td>\n",
       "      <td>0.629+/-0.036</td>\n",
       "      <td>0.576+/-0.070</td>\n",
       "    </tr>\n",
       "    <tr>\n",
       "      <th>f1_train</th>\n",
       "      <td>1.000+/-0.000</td>\n",
       "      <td>0.885+/-0.017</td>\n",
       "      <td>0.991+/-0.007</td>\n",
       "      <td>0.739+/-0.021</td>\n",
       "      <td>0.727+/-0.015</td>\n",
       "      <td>0.900+/-0.043</td>\n",
       "      <td>0.913+/-0.031</td>\n",
       "      <td>0.989+/-0.009</td>\n",
       "      <td>0.771+/-0.029</td>\n",
       "      <td>0.900+/-0.022</td>\n",
       "      <td>0.708+/-0.018</td>\n",
       "      <td>0.686+/-0.019</td>\n",
       "    </tr>\n",
       "    <tr>\n",
       "      <th>precision_test</th>\n",
       "      <td>0.822+/-0.197</td>\n",
       "      <td>0.663+/-0.092</td>\n",
       "      <td>0.733+/-0.148</td>\n",
       "      <td>0.570+/-0.106</td>\n",
       "      <td>0.556+/-0.058</td>\n",
       "      <td>0.568+/-0.220</td>\n",
       "      <td>0.606+/-0.200</td>\n",
       "      <td>0.618+/-0.119</td>\n",
       "      <td>0.525+/-0.091</td>\n",
       "      <td>0.498+/-0.107</td>\n",
       "      <td>0.529+/-0.042</td>\n",
       "      <td>0.491+/-0.065</td>\n",
       "    </tr>\n",
       "    <tr>\n",
       "      <th>precision_train</th>\n",
       "      <td>1.000+/-0.000</td>\n",
       "      <td>0.815+/-0.024</td>\n",
       "      <td>0.983+/-0.014</td>\n",
       "      <td>0.634+/-0.029</td>\n",
       "      <td>0.638+/-0.018</td>\n",
       "      <td>0.821+/-0.072</td>\n",
       "      <td>0.841+/-0.053</td>\n",
       "      <td>0.978+/-0.017</td>\n",
       "      <td>0.664+/-0.043</td>\n",
       "      <td>0.819+/-0.037</td>\n",
       "      <td>0.602+/-0.025</td>\n",
       "      <td>0.575+/-0.021</td>\n",
       "    </tr>\n",
       "    <tr>\n",
       "      <th>recall_test</th>\n",
       "      <td>0.744+/-0.216</td>\n",
       "      <td>0.790+/-0.077</td>\n",
       "      <td>0.605+/-0.140</td>\n",
       "      <td>0.769+/-0.144</td>\n",
       "      <td>0.718+/-0.120</td>\n",
       "      <td>0.733+/-0.211</td>\n",
       "      <td>0.638+/-0.208</td>\n",
       "      <td>0.633+/-0.145</td>\n",
       "      <td>0.757+/-0.161</td>\n",
       "      <td>0.564+/-0.161</td>\n",
       "      <td>0.781+/-0.063</td>\n",
       "      <td>0.707+/-0.112</td>\n",
       "    </tr>\n",
       "    <tr>\n",
       "      <th>recall_train</th>\n",
       "      <td>1.000+/-0.000</td>\n",
       "      <td>0.968+/-0.016</td>\n",
       "      <td>1.000+/-0.000</td>\n",
       "      <td>0.887+/-0.029</td>\n",
       "      <td>0.847+/-0.030</td>\n",
       "      <td>1.000+/-0.000</td>\n",
       "      <td>1.000+/-0.000</td>\n",
       "      <td>1.000+/-0.000</td>\n",
       "      <td>0.922+/-0.033</td>\n",
       "      <td>1.000+/-0.000</td>\n",
       "      <td>0.861+/-0.029</td>\n",
       "      <td>0.851+/-0.031</td>\n",
       "    </tr>\n",
       "    <tr>\n",
       "      <th>percentage_positive</th>\n",
       "      <td>0.075</td>\n",
       "      <td>0.253</td>\n",
       "      <td>0.127</td>\n",
       "      <td>0.136</td>\n",
       "      <td>0.178</td>\n",
       "      <td>0.045</td>\n",
       "      <td>0.072</td>\n",
       "      <td>0.142</td>\n",
       "      <td>0.163</td>\n",
       "      <td>0.096</td>\n",
       "      <td>0.286</td>\n",
       "      <td>0.175</td>\n",
       "    </tr>\n",
       "  </tbody>\n",
       "</table>\n",
       "</div>"
      ],
      "text/plain": [
       "                    Region=insular_l Region=temporal_l Region=occipital_r  \\\n",
       "accuracy_test          0.966+/-0.022     0.841+/-0.044      0.917+/-0.024   \n",
       "accuracy_train         1.000+/-0.000     0.936+/-0.010      0.998+/-0.002   \n",
       "f1_test                0.758+/-0.167     0.718+/-0.070      0.645+/-0.109   \n",
       "f1_train               1.000+/-0.000     0.885+/-0.017      0.991+/-0.007   \n",
       "precision_test         0.822+/-0.197     0.663+/-0.092      0.733+/-0.148   \n",
       "precision_train        1.000+/-0.000     0.815+/-0.024      0.983+/-0.014   \n",
       "recall_test            0.744+/-0.216     0.790+/-0.077      0.605+/-0.140   \n",
       "recall_train           1.000+/-0.000     0.968+/-0.016      1.000+/-0.000   \n",
       "percentage_positive            0.075             0.253              0.127   \n",
       "\n",
       "                    Region=occipital_l Region=parietal_l Region=subcortical_r  \\\n",
       "accuracy_test            0.885+/-0.036     0.844+/-0.023        0.955+/-0.023   \n",
       "accuracy_train           0.915+/-0.009     0.887+/-0.007        0.990+/-0.005   \n",
       "f1_test                  0.647+/-0.098     0.618+/-0.047        0.605+/-0.163   \n",
       "f1_train                 0.739+/-0.021     0.727+/-0.015        0.900+/-0.043   \n",
       "precision_test           0.570+/-0.106     0.556+/-0.058        0.568+/-0.220   \n",
       "precision_train          0.634+/-0.029     0.638+/-0.018        0.821+/-0.072   \n",
       "recall_test              0.769+/-0.144     0.718+/-0.120        0.733+/-0.211   \n",
       "recall_train             0.887+/-0.029     0.847+/-0.030        1.000+/-0.000   \n",
       "percentage_positive              0.136             0.178                0.045   \n",
       "\n",
       "                    Region=subcortical_l Region=frontal_l Region=frontal_r  \\\n",
       "accuracy_test              0.939+/-0.024    0.891+/-0.035    0.844+/-0.041   \n",
       "accuracy_train             0.986+/-0.005    0.997+/-0.003    0.910+/-0.015   \n",
       "f1_test                    0.600+/-0.152    0.619+/-0.118    0.611+/-0.093   \n",
       "f1_train                   0.913+/-0.031    0.989+/-0.009    0.771+/-0.029   \n",
       "precision_test             0.606+/-0.200    0.618+/-0.119    0.525+/-0.091   \n",
       "precision_train            0.841+/-0.053    0.978+/-0.017    0.664+/-0.043   \n",
       "recall_test                0.638+/-0.208    0.633+/-0.145    0.757+/-0.161   \n",
       "recall_train               1.000+/-0.000    1.000+/-0.000    0.922+/-0.033   \n",
       "percentage_positive                0.072            0.142            0.163   \n",
       "\n",
       "                    Region=insular_r Region=temporal_r Region=parietal_r  \n",
       "accuracy_test          0.899+/-0.021     0.735+/-0.034     0.818+/-0.038  \n",
       "accuracy_train         0.978+/-0.006     0.796+/-0.017     0.864+/-0.009  \n",
       "f1_test                0.513+/-0.082     0.629+/-0.036     0.576+/-0.070  \n",
       "f1_train               0.900+/-0.022     0.708+/-0.018     0.686+/-0.019  \n",
       "precision_test         0.498+/-0.107     0.529+/-0.042     0.491+/-0.065  \n",
       "precision_train        0.819+/-0.037     0.602+/-0.025     0.575+/-0.021  \n",
       "recall_test            0.564+/-0.161     0.781+/-0.063     0.707+/-0.112  \n",
       "recall_train           1.000+/-0.000     0.861+/-0.029     0.851+/-0.031  \n",
       "percentage_positive            0.096             0.286             0.175  "
      ]
     },
     "execution_count": 10,
     "metadata": {},
     "output_type": "execute_result"
    }
   ],
   "source": [
    "metrics_pct_lobes = pandas.concat([metrics_lobes,pct_lobes],join='inner')\n",
    "metrics_pct_lobes"
   ]
  },
  {
   "cell_type": "code",
   "execution_count": 11,
   "metadata": {
    "hidden": true
   },
   "outputs": [
    {
     "data": {
      "text/html": [
       "<div>\n",
       "<style scoped>\n",
       "    .dataframe tbody tr th:only-of-type {\n",
       "        vertical-align: middle;\n",
       "    }\n",
       "\n",
       "    .dataframe tbody tr th {\n",
       "        vertical-align: top;\n",
       "    }\n",
       "\n",
       "    .dataframe thead th {\n",
       "        text-align: right;\n",
       "    }\n",
       "</style>\n",
       "<table border=\"1\" class=\"dataframe\">\n",
       "  <thead>\n",
       "    <tr style=\"text-align: right;\">\n",
       "      <th></th>\n",
       "      <th>accuracy_test</th>\n",
       "      <th>f1_test</th>\n",
       "      <th>precision_test</th>\n",
       "      <th>recall_test</th>\n",
       "      <th>percentage_positive</th>\n",
       "    </tr>\n",
       "  </thead>\n",
       "  <tbody>\n",
       "    <tr>\n",
       "      <th>Region=insular_l</th>\n",
       "      <td>0.966+/-0.022</td>\n",
       "      <td>0.758+/-0.167</td>\n",
       "      <td>0.822+/-0.197</td>\n",
       "      <td>0.744+/-0.216</td>\n",
       "      <td>0.075</td>\n",
       "    </tr>\n",
       "    <tr>\n",
       "      <th>Region=temporal_l</th>\n",
       "      <td>0.841+/-0.044</td>\n",
       "      <td>0.718+/-0.070</td>\n",
       "      <td>0.663+/-0.092</td>\n",
       "      <td>0.790+/-0.077</td>\n",
       "      <td>0.253</td>\n",
       "    </tr>\n",
       "    <tr>\n",
       "      <th>Region=occipital_r</th>\n",
       "      <td>0.917+/-0.024</td>\n",
       "      <td>0.645+/-0.109</td>\n",
       "      <td>0.733+/-0.148</td>\n",
       "      <td>0.605+/-0.140</td>\n",
       "      <td>0.127</td>\n",
       "    </tr>\n",
       "    <tr>\n",
       "      <th>Region=occipital_l</th>\n",
       "      <td>0.885+/-0.036</td>\n",
       "      <td>0.647+/-0.098</td>\n",
       "      <td>0.570+/-0.106</td>\n",
       "      <td>0.769+/-0.144</td>\n",
       "      <td>0.136</td>\n",
       "    </tr>\n",
       "    <tr>\n",
       "      <th>Region=parietal_l</th>\n",
       "      <td>0.844+/-0.023</td>\n",
       "      <td>0.618+/-0.047</td>\n",
       "      <td>0.556+/-0.058</td>\n",
       "      <td>0.718+/-0.120</td>\n",
       "      <td>0.178</td>\n",
       "    </tr>\n",
       "    <tr>\n",
       "      <th>Region=subcortical_r</th>\n",
       "      <td>0.955+/-0.023</td>\n",
       "      <td>0.605+/-0.163</td>\n",
       "      <td>0.568+/-0.220</td>\n",
       "      <td>0.733+/-0.211</td>\n",
       "      <td>0.045</td>\n",
       "    </tr>\n",
       "    <tr>\n",
       "      <th>Region=subcortical_l</th>\n",
       "      <td>0.939+/-0.024</td>\n",
       "      <td>0.600+/-0.152</td>\n",
       "      <td>0.606+/-0.200</td>\n",
       "      <td>0.638+/-0.208</td>\n",
       "      <td>0.072</td>\n",
       "    </tr>\n",
       "    <tr>\n",
       "      <th>Region=frontal_l</th>\n",
       "      <td>0.891+/-0.035</td>\n",
       "      <td>0.619+/-0.118</td>\n",
       "      <td>0.618+/-0.119</td>\n",
       "      <td>0.633+/-0.145</td>\n",
       "      <td>0.142</td>\n",
       "    </tr>\n",
       "    <tr>\n",
       "      <th>Region=frontal_r</th>\n",
       "      <td>0.844+/-0.041</td>\n",
       "      <td>0.611+/-0.093</td>\n",
       "      <td>0.525+/-0.091</td>\n",
       "      <td>0.757+/-0.161</td>\n",
       "      <td>0.163</td>\n",
       "    </tr>\n",
       "    <tr>\n",
       "      <th>Region=insular_r</th>\n",
       "      <td>0.899+/-0.021</td>\n",
       "      <td>0.513+/-0.082</td>\n",
       "      <td>0.498+/-0.107</td>\n",
       "      <td>0.564+/-0.161</td>\n",
       "      <td>0.096</td>\n",
       "    </tr>\n",
       "    <tr>\n",
       "      <th>Region=temporal_r</th>\n",
       "      <td>0.735+/-0.034</td>\n",
       "      <td>0.629+/-0.036</td>\n",
       "      <td>0.529+/-0.042</td>\n",
       "      <td>0.781+/-0.063</td>\n",
       "      <td>0.286</td>\n",
       "    </tr>\n",
       "    <tr>\n",
       "      <th>Region=parietal_r</th>\n",
       "      <td>0.818+/-0.038</td>\n",
       "      <td>0.576+/-0.070</td>\n",
       "      <td>0.491+/-0.065</td>\n",
       "      <td>0.707+/-0.112</td>\n",
       "      <td>0.175</td>\n",
       "    </tr>\n",
       "  </tbody>\n",
       "</table>\n",
       "</div>"
      ],
      "text/plain": [
       "                      accuracy_test        f1_test precision_test  \\\n",
       "Region=insular_l      0.966+/-0.022  0.758+/-0.167  0.822+/-0.197   \n",
       "Region=temporal_l     0.841+/-0.044  0.718+/-0.070  0.663+/-0.092   \n",
       "Region=occipital_r    0.917+/-0.024  0.645+/-0.109  0.733+/-0.148   \n",
       "Region=occipital_l    0.885+/-0.036  0.647+/-0.098  0.570+/-0.106   \n",
       "Region=parietal_l     0.844+/-0.023  0.618+/-0.047  0.556+/-0.058   \n",
       "Region=subcortical_r  0.955+/-0.023  0.605+/-0.163  0.568+/-0.220   \n",
       "Region=subcortical_l  0.939+/-0.024  0.600+/-0.152  0.606+/-0.200   \n",
       "Region=frontal_l      0.891+/-0.035  0.619+/-0.118  0.618+/-0.119   \n",
       "Region=frontal_r      0.844+/-0.041  0.611+/-0.093  0.525+/-0.091   \n",
       "Region=insular_r      0.899+/-0.021  0.513+/-0.082  0.498+/-0.107   \n",
       "Region=temporal_r     0.735+/-0.034  0.629+/-0.036  0.529+/-0.042   \n",
       "Region=parietal_r     0.818+/-0.038  0.576+/-0.070  0.491+/-0.065   \n",
       "\n",
       "                        recall_test percentage_positive  \n",
       "Region=insular_l      0.744+/-0.216               0.075  \n",
       "Region=temporal_l     0.790+/-0.077               0.253  \n",
       "Region=occipital_r    0.605+/-0.140               0.127  \n",
       "Region=occipital_l    0.769+/-0.144               0.136  \n",
       "Region=parietal_l     0.718+/-0.120               0.178  \n",
       "Region=subcortical_r  0.733+/-0.211               0.045  \n",
       "Region=subcortical_l  0.638+/-0.208               0.072  \n",
       "Region=frontal_l      0.633+/-0.145               0.142  \n",
       "Region=frontal_r      0.757+/-0.161               0.163  \n",
       "Region=insular_r      0.564+/-0.161               0.096  \n",
       "Region=temporal_r     0.781+/-0.063               0.286  \n",
       "Region=parietal_r     0.707+/-0.112               0.175  "
      ]
     },
     "execution_count": 11,
     "metadata": {},
     "output_type": "execute_result"
    }
   ],
   "source": [
    "metrics_pct_lobes.transpose()[['accuracy_test','f1_test','precision_test','recall_test','percentage_positive']]"
   ]
  },
  {
   "cell_type": "markdown",
   "metadata": {},
   "source": [
    "Down below, we include the **selected features for the best model and the most common features in all the models**."
   ]
  },
  {
   "cell_type": "code",
   "execution_count": 12,
   "metadata": {},
   "outputs": [
    {
     "data": {
      "text/html": [
       "<div>\n",
       "<style scoped>\n",
       "    .dataframe tbody tr th:only-of-type {\n",
       "        vertical-align: middle;\n",
       "    }\n",
       "\n",
       "    .dataframe tbody tr th {\n",
       "        vertical-align: top;\n",
       "    }\n",
       "\n",
       "    .dataframe thead th {\n",
       "        text-align: right;\n",
       "    }\n",
       "</style>\n",
       "<table border=\"1\" class=\"dataframe\">\n",
       "  <thead>\n",
       "    <tr style=\"text-align: right;\">\n",
       "      <th></th>\n",
       "      <th>Features best model</th>\n",
       "      <th>Features all models</th>\n",
       "      <th>Avg#</th>\n",
       "    </tr>\n",
       "  </thead>\n",
       "  <tbody>\n",
       "    <tr>\n",
       "      <th>Region=insular_l</th>\n",
       "      <td>[mst_direct, tmt_a, st_1, diagnostic_FTD, rocf_3min, vospt_location, sdmt, education_years, rocf_recognition, mst_indirect, diagnostic_CT]</td>\n",
       "      <td>[(diagnostic_FTD, 1.0), (rocf_recognition, 0.65), (tlt_total_correct, 0.57), (mst_direct, 0.54), (fcsrt_dif_free, 0.47), (education_years, 0.3), (rocf_3min, 0.26), (ace3_fluency, 0.26), (st_1, 0.25), (tmt_a, 0.22), (vospt_silhouette, 0.22), (bnt, 0.19), (mst_indirect, 0.19), (ace3_language, 0.17), (current_age, 0.15), (st_3, 0.12), (vospt_location, 0.12), (ace3_visuospatial, 0.11), (ace, 0.11), (ft_formal, 0.1), (rocf_time, 0.09), (rocf_30min, 0.07), (fcsrt_lt, 0.07), (ace3_attention, 0.07), (cbtt_indirect, 0.05), (st_2, 0.04), (tmt_b, 0.04), (ace3_memory, 0.04), (sdmt, 0.04), (diagnostic_CT, 0.04), (diagnostic_AD, 0.04), (sex_male, 0.02), (fcsrt_l1, 0.02), (fcsrt_dif_total, 0.02), (rocf_copy, 0.02), (fcsrt_total, 0.02), (ft_animals, 0.01), (vospt_discrimination, 0.01), (sex_female, 0.01), (cbtt_direct, 0.01), (vospt_decision, 0.01)]</td>\n",
       "      <td>6.77</td>\n",
       "    </tr>\n",
       "    <tr>\n",
       "      <th>Region=temporal_l</th>\n",
       "      <td>[st_3, rocf_30min, diagnostic_FTD, ft_animals, ace3_visuospatial, st_1, rocf_time, fcsrt_dif_total, current_age]</td>\n",
       "      <td>[(st_3, 0.77), (ft_animals, 0.7), (rocf_recognition, 0.53), (diagnostic_AD, 0.39), (diagnostic_FTD, 0.34), (fcsrt_dif_total, 0.31), (fcsrt_l1, 0.3), (rocf_30min, 0.3), (st_1, 0.27), (ace3_visuospatial, 0.25), (tlt_total_correct, 0.17), (sex_female, 0.16), (current_age, 0.12), (education_years, 0.11), (rocf_time, 0.09), (sex_male, 0.08), (st_2, 0.08), (ace3_fluency, 0.06), (vospt_silhouette, 0.05), (ace3_language, 0.03), (fcsrt_dif_free, 0.03), (bnt, 0.03), (tmt_b, 0.03), (fcsrt_total, 0.03), (diagnostic_CT, 0.03), (vospt_decision, 0.02), (tmt_a, 0.02), (rocf_3min, 0.02)]</td>\n",
       "      <td>5.31</td>\n",
       "    </tr>\n",
       "    <tr>\n",
       "      <th>Region=occipital_r</th>\n",
       "      <td>[ace3_visuospatial, fcsrt_lt, diagnostic_AD, st_3, rocf_recognition, vospt_discrimination, ft_formal, cbtt_indirect, rocf_time, current_age, sex_male, rocf_30min, rocf_copy, fcsrt_dif_total]</td>\n",
       "      <td>[(rocf_copy, 0.91), (rocf_time, 0.7), (current_age, 0.63), (diagnostic_AD, 0.41), (diagnostic_FTD, 0.39), (rocf_recognition, 0.37), (tlt_total_correct, 0.37), (rocf_30min, 0.36), (bnt, 0.34), (vospt_discrimination, 0.3), (cbtt_direct, 0.26), (cbtt_indirect, 0.23), (mst_indirect, 0.21), (sex_male, 0.2), (rocf_3min, 0.2), (ace3_visuospatial, 0.19), (st_3, 0.19), (ft_formal, 0.17), (fcsrt_l1, 0.17), (sex_female, 0.11), (tmt_b, 0.11), (vospt_silhouette, 0.1), (fcsrt_lt, 0.09), (st_2, 0.09), (ace3_memory, 0.07), (education_years, 0.06), (diagnostic_CT, 0.06), (ace, 0.06), (vospt_location, 0.06), (sdmt, 0.06), (ace3_fluency, 0.06), (st_1, 0.04), (fcsrt_total, 0.04), (tmt_a, 0.04), (ace3_attention, 0.04), (fcsrt_dif_total, 0.03), (fcsrt_dif_free, 0.03), (mst_direct, 0.03), (ace3_language, 0.01), (vospt_decision, 0.01)]</td>\n",
       "      <td>7.80</td>\n",
       "    </tr>\n",
       "    <tr>\n",
       "      <th>Region=occipital_l</th>\n",
       "      <td>[fcsrt_dif_total, diagnostic_FTD, tlt_total_correct, rocf_3min, ft_formal, ace3_attention, st_1, vospt_decision, vospt_discrimination, st_3]</td>\n",
       "      <td>[(rocf_3min, 0.71), (vospt_discrimination, 0.55), (education_years, 0.54), (diagnostic_AD, 0.51), (diagnostic_FTD, 0.49), (st_3, 0.43), (ft_formal, 0.36), (st_1, 0.29), (rocf_recognition, 0.26), (rocf_30min, 0.17), (ft_animals, 0.17), (fcsrt_l1, 0.16), (vospt_location, 0.16), (fcsrt_dif_total, 0.12), (sdmt, 0.1), (fcsrt_lt, 0.1), (vospt_decision, 0.07), (cbtt_direct, 0.06), (rocf_copy, 0.06), (rocf_time, 0.06), (diagnostic_CT, 0.06), (cbtt_indirect, 0.04), (mst_indirect, 0.04), (st_2, 0.04), (ace3_attention, 0.04), (tmt_b, 0.03), (fcsrt_total, 0.03), (ace3_fluency, 0.03), (ace, 0.03), (tlt_total_correct, 0.03), (ace3_visuospatial, 0.01), (bnt, 0.01), (mst_direct, 0.01), (ace3_language, 0.01)]</td>\n",
       "      <td>5.81</td>\n",
       "    </tr>\n",
       "    <tr>\n",
       "      <th>Region=parietal_l</th>\n",
       "      <td>[vospt_discrimination, cbtt_indirect, vospt_decision, st_2, fcsrt_l1, vospt_silhouette, education_years, tmt_a, rocf_3min, diagnostic_AD]</td>\n",
       "      <td>[(diagnostic_AD, 0.82), (st_3, 0.61), (education_years, 0.51), (vospt_discrimination, 0.35), (current_age, 0.28), (tmt_b, 0.28), (st_2, 0.21), (ace, 0.19), (rocf_3min, 0.19), (sex_male, 0.16), (fcsrt_l1, 0.16), (mst_direct, 0.14), (sex_female, 0.14), (ft_formal, 0.12), (ft_animals, 0.09), (cbtt_indirect, 0.09), (tmt_a, 0.09), (ace3_fluency, 0.07), (tlt_total_correct, 0.05), (ace3_language, 0.04), (vospt_decision, 0.04), (fcsrt_dif_free, 0.04), (vospt_silhouette, 0.04), (fcsrt_lt, 0.04), (ace3_attention, 0.02), (mst_indirect, 0.02), (rocf_recognition, 0.02), (sdmt, 0.02), (rocf_30min, 0.02)]</td>\n",
       "      <td>4.82</td>\n",
       "    </tr>\n",
       "    <tr>\n",
       "      <th>Region=subcortical_r</th>\n",
       "      <td>[rocf_time, fcsrt_lt, rocf_3min, st_1, fcsrt_total]</td>\n",
       "      <td>[(rocf_3min, 0.96), (st_1, 0.8), (fcsrt_lt, 0.8), (fcsrt_total, 0.44), (rocf_time, 0.38), (fcsrt_l1, 0.16), (ft_formal, 0.16), (vospt_silhouette, 0.12), (bnt, 0.08), (ace3_visuospatial, 0.06), (rocf_30min, 0.06), (rocf_recognition, 0.04), (diagnostic_AD, 0.02), (cbtt_indirect, 0.02), (ace3_fluency, 0.02), (fcsrt_dif_total, 0.02)]</td>\n",
       "      <td>4.14</td>\n",
       "    </tr>\n",
       "    <tr>\n",
       "      <th>Region=subcortical_l</th>\n",
       "      <td>[diagnostic_AD, rocf_copy, fcsrt_total, vospt_decision, rocf_recognition, ace3_fluency, fcsrt_lt, education_years, ace3_language, ft_animals]</td>\n",
       "      <td>[(ft_animals, 0.96), (diagnostic_AD, 0.62), (rocf_recognition, 0.57), (diagnostic_FTD, 0.52), (ace3_language, 0.43), (education_years, 0.36), (vospt_decision, 0.35), (fcsrt_l1, 0.32), (rocf_time, 0.25), (mst_indirect, 0.25), (ace3_memory, 0.22), (ace3_fluency, 0.2), (vospt_location, 0.17), (vospt_silhouette, 0.17), (tmt_a, 0.17), (fcsrt_dif_free, 0.16), (ace3_visuospatial, 0.16), (sdmt, 0.16), (cbtt_direct, 0.14), (current_age, 0.14), (st_3, 0.13), (ft_formal, 0.12), (bnt, 0.1), (mst_direct, 0.1), (sex_female, 0.1), (fcsrt_lt, 0.1), (ace3_attention, 0.09), (fcsrt_total, 0.09), (st_1, 0.09), (rocf_copy, 0.09), (ace, 0.07), (tmt_b, 0.07), (rocf_3min, 0.07), (rocf_30min, 0.06), (st_2, 0.06), (vospt_discrimination, 0.04), (fcsrt_dif_total, 0.03), (cbtt_indirect, 0.01)]</td>\n",
       "      <td>7.75</td>\n",
       "    </tr>\n",
       "    <tr>\n",
       "      <th>Region=frontal_l</th>\n",
       "      <td>[current_age, diagnostic_AD, ace3_visuospatial, ft_animals, education_years, ace3_memory, fcsrt_l1, mst_indirect, tmt_b, rocf_30min]</td>\n",
       "      <td>[(current_age, 0.92), (diagnostic_FTD, 0.75), (education_years, 0.51), (mst_indirect, 0.44), (fcsrt_l1, 0.42), (ft_animals, 0.42), (rocf_copy, 0.29), (diagnostic_AD, 0.28), (rocf_30min, 0.26), (rocf_recognition, 0.25), (ace3_memory, 0.22), (rocf_3min, 0.17), (st_3, 0.17), (tlt_total_correct, 0.15), (tmt_b, 0.12), (ace3_visuospatial, 0.11), (st_2, 0.1), (ace3_attention, 0.1), (ace, 0.08), (st_1, 0.07), (vospt_decision, 0.07), (mst_direct, 0.07), (fcsrt_total, 0.06), (vospt_silhouette, 0.06), (ft_formal, 0.04), (bnt, 0.04), (cbtt_indirect, 0.03), (ace3_fluency, 0.01), (sdmt, 0.01), (tmt_a, 0.01), (diagnostic_CT, 0.01), (fcsrt_dif_free, 0.01), (rocf_time, 0.01)]</td>\n",
       "      <td>6.28</td>\n",
       "    </tr>\n",
       "    <tr>\n",
       "      <th>Region=frontal_r</th>\n",
       "      <td>[education_years, current_age, tlt_total_correct, diagnostic_CT, st_2, cbtt_direct, diagnostic_FTD]</td>\n",
       "      <td>[(current_age, 1.0), (tlt_total_correct, 1.0), (diagnostic_FTD, 0.64), (vospt_silhouette, 0.37), (fcsrt_total, 0.36), (ace3_language, 0.32), (st_3, 0.27), (education_years, 0.22), (ft_animals, 0.17), (cbtt_indirect, 0.1), (mst_indirect, 0.07), (st_1, 0.05), (fcsrt_l1, 0.05), (rocf_recognition, 0.03), (rocf_30min, 0.03), (rocf_3min, 0.03), (fcsrt_lt, 0.03), (ft_formal, 0.03), (cbtt_direct, 0.03), (sdmt, 0.03), (st_2, 0.03), (ace3_visuospatial, 0.02), (fcsrt_dif_total, 0.02), (mst_direct, 0.02), (diagnostic_CT, 0.02)]</td>\n",
       "      <td>4.97</td>\n",
       "    </tr>\n",
       "    <tr>\n",
       "      <th>Region=insular_r</th>\n",
       "      <td>[ace3_memory, education_years, diagnostic_FTD, vospt_discrimination, fcsrt_dif_free, vospt_silhouette, rocf_copy, tmt_a, rocf_recognition, st_1, fcsrt_total]</td>\n",
       "      <td>[(diagnostic_FTD, 1.0), (fcsrt_dif_free, 0.93), (mst_direct, 0.65), (rocf_recognition, 0.4), (vospt_silhouette, 0.23), (ace3_memory, 0.2), (vospt_discrimination, 0.17), (ace, 0.15), (fcsrt_lt, 0.15), (education_years, 0.12), (rocf_copy, 0.1), (st_1, 0.1), (fcsrt_l1, 0.1), (ace3_language, 0.1), (fcsrt_total, 0.07), (rocf_30min, 0.07), (fcsrt_dif_total, 0.07), (tlt_total_correct, 0.07), (ace3_fluency, 0.07), (tmt_a, 0.05), (rocf_3min, 0.05), (bnt, 0.05), (vospt_decision, 0.05), (st_2, 0.05), (ace3_visuospatial, 0.05), (vospt_location, 0.05), (ace3_attention, 0.05), (diagnostic_CT, 0.03), (mst_indirect, 0.03)]</td>\n",
       "      <td>5.22</td>\n",
       "    </tr>\n",
       "    <tr>\n",
       "      <th>Region=temporal_r</th>\n",
       "      <td>[rocf_30min, ace3_attention, ace3_fluency, sex_male, fcsrt_lt, fcsrt_dif_free, fcsrt_l1, st_1, diagnostic_CT, st_3, diagnostic_FTD]</td>\n",
       "      <td>[(rocf_30min, 0.91), (diagnostic_CT, 0.67), (diagnostic_FTD, 0.55), (mst_indirect, 0.45), (ace3_fluency, 0.36), (st_2, 0.35), (fcsrt_dif_free, 0.24), (st_3, 0.22), (ace, 0.2), (education_years, 0.2), (fcsrt_lt, 0.18), (sex_female, 0.18), (rocf_3min, 0.18), (rocf_copy, 0.16), (sex_male, 0.15), (fcsrt_l1, 0.13), (ace3_memory, 0.13), (st_1, 0.13), (diagnostic_AD, 0.11), (current_age, 0.07), (ace3_language, 0.07), (tlt_total_correct, 0.07), (ft_formal, 0.05), (ft_animals, 0.04), (bnt, 0.04), (ace3_visuospatial, 0.04), (ace3_attention, 0.04), (cbtt_direct, 0.02), (rocf_recognition, 0.02), (cbtt_indirect, 0.02), (fcsrt_total, 0.02), (vospt_decision, 0.02), (vospt_silhouette, 0.02)]</td>\n",
       "      <td>6.02</td>\n",
       "    </tr>\n",
       "    <tr>\n",
       "      <th>Region=parietal_r</th>\n",
       "      <td>[tmt_b, rocf_copy, diagnostic_AD, vospt_decision, fcsrt_dif_total, st_2, cbtt_indirect]</td>\n",
       "      <td>[(rocf_copy, 0.93), (diagnostic_AD, 0.56), (st_3, 0.49), (fcsrt_dif_total, 0.49), (cbtt_indirect, 0.31), (rocf_time, 0.31), (ace3_language, 0.29), (diagnostic_FTD, 0.27), (vospt_decision, 0.19), (ft_formal, 0.17), (vospt_silhouette, 0.15), (rocf_recognition, 0.14), (sex_male, 0.14), (st_2, 0.1), (fcsrt_l1, 0.08), (ace3_memory, 0.07), (ace, 0.07), (tmt_b, 0.07), (rocf_3min, 0.05), (sdmt, 0.03), (ace3_visuospatial, 0.03), (sex_female, 0.03), (fcsrt_lt, 0.02), (ace3_fluency, 0.02), (rocf_30min, 0.02), (current_age, 0.02), (mst_indirect, 0.02), (diagnostic_CT, 0.02)]</td>\n",
       "      <td>5.07</td>\n",
       "    </tr>\n",
       "  </tbody>\n",
       "</table>\n",
       "</div>"
      ],
      "text/plain": [
       "                                                                                                                                                                                                 Features best model  \\\n",
       "Region=insular_l                                                          [mst_direct, tmt_a, st_1, diagnostic_FTD, rocf_3min, vospt_location, sdmt, education_years, rocf_recognition, mst_indirect, diagnostic_CT]   \n",
       "Region=temporal_l                                                                                   [st_3, rocf_30min, diagnostic_FTD, ft_animals, ace3_visuospatial, st_1, rocf_time, fcsrt_dif_total, current_age]   \n",
       "Region=occipital_r    [ace3_visuospatial, fcsrt_lt, diagnostic_AD, st_3, rocf_recognition, vospt_discrimination, ft_formal, cbtt_indirect, rocf_time, current_age, sex_male, rocf_30min, rocf_copy, fcsrt_dif_total]   \n",
       "Region=occipital_l                                                      [fcsrt_dif_total, diagnostic_FTD, tlt_total_correct, rocf_3min, ft_formal, ace3_attention, st_1, vospt_decision, vospt_discrimination, st_3]   \n",
       "Region=parietal_l                                                          [vospt_discrimination, cbtt_indirect, vospt_decision, st_2, fcsrt_l1, vospt_silhouette, education_years, tmt_a, rocf_3min, diagnostic_AD]   \n",
       "Region=subcortical_r                                                                                                                                             [rocf_time, fcsrt_lt, rocf_3min, st_1, fcsrt_total]   \n",
       "Region=subcortical_l                                                   [diagnostic_AD, rocf_copy, fcsrt_total, vospt_decision, rocf_recognition, ace3_fluency, fcsrt_lt, education_years, ace3_language, ft_animals]   \n",
       "Region=frontal_l                                                                [current_age, diagnostic_AD, ace3_visuospatial, ft_animals, education_years, ace3_memory, fcsrt_l1, mst_indirect, tmt_b, rocf_30min]   \n",
       "Region=frontal_r                                                                                                 [education_years, current_age, tlt_total_correct, diagnostic_CT, st_2, cbtt_direct, diagnostic_FTD]   \n",
       "Region=insular_r                                       [ace3_memory, education_years, diagnostic_FTD, vospt_discrimination, fcsrt_dif_free, vospt_silhouette, rocf_copy, tmt_a, rocf_recognition, st_1, fcsrt_total]   \n",
       "Region=temporal_r                                                                [rocf_30min, ace3_attention, ace3_fluency, sex_male, fcsrt_lt, fcsrt_dif_free, fcsrt_l1, st_1, diagnostic_CT, st_3, diagnostic_FTD]   \n",
       "Region=parietal_r                                                                                                            [tmt_b, rocf_copy, diagnostic_AD, vospt_decision, fcsrt_dif_total, st_2, cbtt_indirect]   \n",
       "\n",
       "                                                                                                                                                                                                                                                                                                                                                                                                                                                                                                                                                                                                                                                                                                                                                                                                                                                                                Features all models  \\\n",
       "Region=insular_l      [(diagnostic_FTD, 1.0), (rocf_recognition, 0.65), (tlt_total_correct, 0.57), (mst_direct, 0.54), (fcsrt_dif_free, 0.47), (education_years, 0.3), (rocf_3min, 0.26), (ace3_fluency, 0.26), (st_1, 0.25), (tmt_a, 0.22), (vospt_silhouette, 0.22), (bnt, 0.19), (mst_indirect, 0.19), (ace3_language, 0.17), (current_age, 0.15), (st_3, 0.12), (vospt_location, 0.12), (ace3_visuospatial, 0.11), (ace, 0.11), (ft_formal, 0.1), (rocf_time, 0.09), (rocf_30min, 0.07), (fcsrt_lt, 0.07), (ace3_attention, 0.07), (cbtt_indirect, 0.05), (st_2, 0.04), (tmt_b, 0.04), (ace3_memory, 0.04), (sdmt, 0.04), (diagnostic_CT, 0.04), (diagnostic_AD, 0.04), (sex_male, 0.02), (fcsrt_l1, 0.02), (fcsrt_dif_total, 0.02), (rocf_copy, 0.02), (fcsrt_total, 0.02), (ft_animals, 0.01), (vospt_discrimination, 0.01), (sex_female, 0.01), (cbtt_direct, 0.01), (vospt_decision, 0.01)]   \n",
       "Region=temporal_l                                                                                                                                                                                                                                                                                 [(st_3, 0.77), (ft_animals, 0.7), (rocf_recognition, 0.53), (diagnostic_AD, 0.39), (diagnostic_FTD, 0.34), (fcsrt_dif_total, 0.31), (fcsrt_l1, 0.3), (rocf_30min, 0.3), (st_1, 0.27), (ace3_visuospatial, 0.25), (tlt_total_correct, 0.17), (sex_female, 0.16), (current_age, 0.12), (education_years, 0.11), (rocf_time, 0.09), (sex_male, 0.08), (st_2, 0.08), (ace3_fluency, 0.06), (vospt_silhouette, 0.05), (ace3_language, 0.03), (fcsrt_dif_free, 0.03), (bnt, 0.03), (tmt_b, 0.03), (fcsrt_total, 0.03), (diagnostic_CT, 0.03), (vospt_decision, 0.02), (tmt_a, 0.02), (rocf_3min, 0.02)]   \n",
       "Region=occipital_r                          [(rocf_copy, 0.91), (rocf_time, 0.7), (current_age, 0.63), (diagnostic_AD, 0.41), (diagnostic_FTD, 0.39), (rocf_recognition, 0.37), (tlt_total_correct, 0.37), (rocf_30min, 0.36), (bnt, 0.34), (vospt_discrimination, 0.3), (cbtt_direct, 0.26), (cbtt_indirect, 0.23), (mst_indirect, 0.21), (sex_male, 0.2), (rocf_3min, 0.2), (ace3_visuospatial, 0.19), (st_3, 0.19), (ft_formal, 0.17), (fcsrt_l1, 0.17), (sex_female, 0.11), (tmt_b, 0.11), (vospt_silhouette, 0.1), (fcsrt_lt, 0.09), (st_2, 0.09), (ace3_memory, 0.07), (education_years, 0.06), (diagnostic_CT, 0.06), (ace, 0.06), (vospt_location, 0.06), (sdmt, 0.06), (ace3_fluency, 0.06), (st_1, 0.04), (fcsrt_total, 0.04), (tmt_a, 0.04), (ace3_attention, 0.04), (fcsrt_dif_total, 0.03), (fcsrt_dif_free, 0.03), (mst_direct, 0.03), (ace3_language, 0.01), (vospt_decision, 0.01)]   \n",
       "Region=occipital_l                                                                                                                                                    [(rocf_3min, 0.71), (vospt_discrimination, 0.55), (education_years, 0.54), (diagnostic_AD, 0.51), (diagnostic_FTD, 0.49), (st_3, 0.43), (ft_formal, 0.36), (st_1, 0.29), (rocf_recognition, 0.26), (rocf_30min, 0.17), (ft_animals, 0.17), (fcsrt_l1, 0.16), (vospt_location, 0.16), (fcsrt_dif_total, 0.12), (sdmt, 0.1), (fcsrt_lt, 0.1), (vospt_decision, 0.07), (cbtt_direct, 0.06), (rocf_copy, 0.06), (rocf_time, 0.06), (diagnostic_CT, 0.06), (cbtt_indirect, 0.04), (mst_indirect, 0.04), (st_2, 0.04), (ace3_attention, 0.04), (tmt_b, 0.03), (fcsrt_total, 0.03), (ace3_fluency, 0.03), (ace, 0.03), (tlt_total_correct, 0.03), (ace3_visuospatial, 0.01), (bnt, 0.01), (mst_direct, 0.01), (ace3_language, 0.01)]   \n",
       "Region=parietal_l                                                                                                                                                                                                                                                             [(diagnostic_AD, 0.82), (st_3, 0.61), (education_years, 0.51), (vospt_discrimination, 0.35), (current_age, 0.28), (tmt_b, 0.28), (st_2, 0.21), (ace, 0.19), (rocf_3min, 0.19), (sex_male, 0.16), (fcsrt_l1, 0.16), (mst_direct, 0.14), (sex_female, 0.14), (ft_formal, 0.12), (ft_animals, 0.09), (cbtt_indirect, 0.09), (tmt_a, 0.09), (ace3_fluency, 0.07), (tlt_total_correct, 0.05), (ace3_language, 0.04), (vospt_decision, 0.04), (fcsrt_dif_free, 0.04), (vospt_silhouette, 0.04), (fcsrt_lt, 0.04), (ace3_attention, 0.02), (mst_indirect, 0.02), (rocf_recognition, 0.02), (sdmt, 0.02), (rocf_30min, 0.02)]   \n",
       "Region=subcortical_r                                                                                                                                                                                                                                                                                                                                                                                                                                                                                                                                    [(rocf_3min, 0.96), (st_1, 0.8), (fcsrt_lt, 0.8), (fcsrt_total, 0.44), (rocf_time, 0.38), (fcsrt_l1, 0.16), (ft_formal, 0.16), (vospt_silhouette, 0.12), (bnt, 0.08), (ace3_visuospatial, 0.06), (rocf_30min, 0.06), (rocf_recognition, 0.04), (diagnostic_AD, 0.02), (cbtt_indirect, 0.02), (ace3_fluency, 0.02), (fcsrt_dif_total, 0.02)]   \n",
       "Region=subcortical_l                                                                        [(ft_animals, 0.96), (diagnostic_AD, 0.62), (rocf_recognition, 0.57), (diagnostic_FTD, 0.52), (ace3_language, 0.43), (education_years, 0.36), (vospt_decision, 0.35), (fcsrt_l1, 0.32), (rocf_time, 0.25), (mst_indirect, 0.25), (ace3_memory, 0.22), (ace3_fluency, 0.2), (vospt_location, 0.17), (vospt_silhouette, 0.17), (tmt_a, 0.17), (fcsrt_dif_free, 0.16), (ace3_visuospatial, 0.16), (sdmt, 0.16), (cbtt_direct, 0.14), (current_age, 0.14), (st_3, 0.13), (ft_formal, 0.12), (bnt, 0.1), (mst_direct, 0.1), (sex_female, 0.1), (fcsrt_lt, 0.1), (ace3_attention, 0.09), (fcsrt_total, 0.09), (st_1, 0.09), (rocf_copy, 0.09), (ace, 0.07), (tmt_b, 0.07), (rocf_3min, 0.07), (rocf_30min, 0.06), (st_2, 0.06), (vospt_discrimination, 0.04), (fcsrt_dif_total, 0.03), (cbtt_indirect, 0.01)]   \n",
       "Region=frontal_l                                                                                                                                                                                        [(current_age, 0.92), (diagnostic_FTD, 0.75), (education_years, 0.51), (mst_indirect, 0.44), (fcsrt_l1, 0.42), (ft_animals, 0.42), (rocf_copy, 0.29), (diagnostic_AD, 0.28), (rocf_30min, 0.26), (rocf_recognition, 0.25), (ace3_memory, 0.22), (rocf_3min, 0.17), (st_3, 0.17), (tlt_total_correct, 0.15), (tmt_b, 0.12), (ace3_visuospatial, 0.11), (st_2, 0.1), (ace3_attention, 0.1), (ace, 0.08), (st_1, 0.07), (vospt_decision, 0.07), (mst_direct, 0.07), (fcsrt_total, 0.06), (vospt_silhouette, 0.06), (ft_formal, 0.04), (bnt, 0.04), (cbtt_indirect, 0.03), (ace3_fluency, 0.01), (sdmt, 0.01), (tmt_a, 0.01), (diagnostic_CT, 0.01), (fcsrt_dif_free, 0.01), (rocf_time, 0.01)]   \n",
       "Region=frontal_r                                                                                                                                                                                                                                                                                                                                          [(current_age, 1.0), (tlt_total_correct, 1.0), (diagnostic_FTD, 0.64), (vospt_silhouette, 0.37), (fcsrt_total, 0.36), (ace3_language, 0.32), (st_3, 0.27), (education_years, 0.22), (ft_animals, 0.17), (cbtt_indirect, 0.1), (mst_indirect, 0.07), (st_1, 0.05), (fcsrt_l1, 0.05), (rocf_recognition, 0.03), (rocf_30min, 0.03), (rocf_3min, 0.03), (fcsrt_lt, 0.03), (ft_formal, 0.03), (cbtt_direct, 0.03), (sdmt, 0.03), (st_2, 0.03), (ace3_visuospatial, 0.02), (fcsrt_dif_total, 0.02), (mst_direct, 0.02), (diagnostic_CT, 0.02)]   \n",
       "Region=insular_r                                                                                                                                                                                                                                             [(diagnostic_FTD, 1.0), (fcsrt_dif_free, 0.93), (mst_direct, 0.65), (rocf_recognition, 0.4), (vospt_silhouette, 0.23), (ace3_memory, 0.2), (vospt_discrimination, 0.17), (ace, 0.15), (fcsrt_lt, 0.15), (education_years, 0.12), (rocf_copy, 0.1), (st_1, 0.1), (fcsrt_l1, 0.1), (ace3_language, 0.1), (fcsrt_total, 0.07), (rocf_30min, 0.07), (fcsrt_dif_total, 0.07), (tlt_total_correct, 0.07), (ace3_fluency, 0.07), (tmt_a, 0.05), (rocf_3min, 0.05), (bnt, 0.05), (vospt_decision, 0.05), (st_2, 0.05), (ace3_visuospatial, 0.05), (vospt_location, 0.05), (ace3_attention, 0.05), (diagnostic_CT, 0.03), (mst_indirect, 0.03)]   \n",
       "Region=temporal_r                                                                                                                                                                      [(rocf_30min, 0.91), (diagnostic_CT, 0.67), (diagnostic_FTD, 0.55), (mst_indirect, 0.45), (ace3_fluency, 0.36), (st_2, 0.35), (fcsrt_dif_free, 0.24), (st_3, 0.22), (ace, 0.2), (education_years, 0.2), (fcsrt_lt, 0.18), (sex_female, 0.18), (rocf_3min, 0.18), (rocf_copy, 0.16), (sex_male, 0.15), (fcsrt_l1, 0.13), (ace3_memory, 0.13), (st_1, 0.13), (diagnostic_AD, 0.11), (current_age, 0.07), (ace3_language, 0.07), (tlt_total_correct, 0.07), (ft_formal, 0.05), (ft_animals, 0.04), (bnt, 0.04), (ace3_visuospatial, 0.04), (ace3_attention, 0.04), (cbtt_direct, 0.02), (rocf_recognition, 0.02), (cbtt_indirect, 0.02), (fcsrt_total, 0.02), (vospt_decision, 0.02), (vospt_silhouette, 0.02)]   \n",
       "Region=parietal_r                                                                                                                                                                                                                                                                                         [(rocf_copy, 0.93), (diagnostic_AD, 0.56), (st_3, 0.49), (fcsrt_dif_total, 0.49), (cbtt_indirect, 0.31), (rocf_time, 0.31), (ace3_language, 0.29), (diagnostic_FTD, 0.27), (vospt_decision, 0.19), (ft_formal, 0.17), (vospt_silhouette, 0.15), (rocf_recognition, 0.14), (sex_male, 0.14), (st_2, 0.1), (fcsrt_l1, 0.08), (ace3_memory, 0.07), (ace, 0.07), (tmt_b, 0.07), (rocf_3min, 0.05), (sdmt, 0.03), (ace3_visuospatial, 0.03), (sex_female, 0.03), (fcsrt_lt, 0.02), (ace3_fluency, 0.02), (rocf_30min, 0.02), (current_age, 0.02), (mst_indirect, 0.02), (diagnostic_CT, 0.02)]   \n",
       "\n",
       "                      Avg#  \n",
       "Region=insular_l      6.77  \n",
       "Region=temporal_l     5.31  \n",
       "Region=occipital_r    7.80  \n",
       "Region=occipital_l    5.81  \n",
       "Region=parietal_l     4.82  \n",
       "Region=subcortical_r  4.14  \n",
       "Region=subcortical_l  7.75  \n",
       "Region=frontal_l      6.28  \n",
       "Region=frontal_r      4.97  \n",
       "Region=insular_r      5.22  \n",
       "Region=temporal_r     6.02  \n",
       "Region=parietal_r     5.07  "
      ]
     },
     "execution_count": 12,
     "metadata": {},
     "output_type": "execute_result"
    }
   ],
   "source": [
    "features_lobes"
   ]
  },
  {
   "cell_type": "markdown",
   "metadata": {},
   "source": [
    "Down below, we include a **heatmap indicating the frequency of each feature in predicting each lobe**. The features are ordered by nature (diagnostic features, demographic features and cognitive features -ordered themselves according to the cognitive function measured-), making it easier to see patterns."
   ]
  },
  {
   "cell_type": "code",
   "execution_count": 13,
   "metadata": {},
   "outputs": [
    {
     "data": {
      "text/plain": [
       "<matplotlib.axes._subplots.AxesSubplot at 0xc18ae48>"
      ]
     },
     "execution_count": 13,
     "metadata": {},
     "output_type": "execute_result"
    },
    {
     "data": {
      "image/png": "[encoded data removed]",
      "text/plain": [
       "<Figure size 1152x288 with 2 Axes>"
      ]
     },
     "metadata": {
      "needs_background": "light"
     },
     "output_type": "display_data"
    }
   ],
   "source": [
    "matplotlib.rcParams['figure.figsize'] = (16,4)\n",
    "seaborn.heatmap(map_lobes,cmap='Greys',xticklabels=True,yticklabels=True)"
   ]
  },
  {
   "cell_type": "markdown",
   "metadata": {
    "heading_collapsed": true
   },
   "source": [
    "### Conclusions"
   ]
  },
  {
   "cell_type": "markdown",
   "metadata": {},
   "source": [
    "We can see that **grouping brain regions into lobes does not improve remarkably our predictions**. In fact, the results obtained are similar to those appearing in the best half of fine-grained prediction. What appears to be happening is that those regions which were best predicted compensate for those regions which were worst predicted. One advantage of doing the coarse-grained prediction is that differences in hypometabolism between lobes are not that pronounced. All lobes have a percentage of hypometabolic patient over 7%, which allows **the variability associated to the predictions to be much lower**.\n",
    "\n",
    "One thing that turns pretty clear is that **left lobes are predicted better than right lobes**. Such tendency was already mentioned in the fine-grained prediction and can be confirmed from a broader perspective. Regarding the comparison between lobes, this discussion is not as rewarding as it was before. In fact, all brain lobes certainly have parcellations with very different correctness of prediction.\n",
    "\n",
    "As for the features selected in the prediction of each brain lobe, it is clear how **knowing whether a patient has Frontotemporal dementia is vital for predicting the frontal and insular lobes** while **knowing whether a patient has Alzheimer's disease is vital for predicting the parietal and occipital lobe**. Since the temporal lobe is involved in both diseases, the tendencies are not that clear. Some outstanding relations are those that link the frontal lobe with the current age or tlt_total_correct, the parietal and occipital lobe with rocf_copy, the temporal lobe with rocf_30min or rocf_recognition, the insular lobe with fcsrt_dif_free and the subcortical region with ft_animals and rocf_3min."
   ]
  }
 ],
 "metadata": {
  "kernelspec": {
   "display_name": "Python 3",
   "language": "python",
   "name": "python3"
  },
  "language_info": {
   "codemirror_mode": {
    "name": "ipython",
    "version": 3
   },
   "file_extension": ".py",
   "mimetype": "text/x-python",
   "name": "python",
   "nbconvert_exporter": "python",
   "pygments_lexer": "ipython3",
   "version": "3.7.6"
  }
 },
 "nbformat": 4,
 "nbformat_minor": 4
}
