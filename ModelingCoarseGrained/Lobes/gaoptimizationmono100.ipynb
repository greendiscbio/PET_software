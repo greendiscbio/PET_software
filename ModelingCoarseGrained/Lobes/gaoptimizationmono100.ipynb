{
 "cells": [
  {
   "cell_type": "markdown",
   "metadata": {},
   "source": [
    "# Optimization of parameters in genetic algorithms"
   ]
  },
  {
   "cell_type": "markdown",
   "metadata": {},
   "source": [
    "This notebook gathers the results for the parameter optimization made on the mono-objective genetic algorithms, considering a binary threshold of 100."
   ]
  },
  {
   "cell_type": "markdown",
   "metadata": {
    "heading_collapsed": true
   },
   "source": [
    "### Brief explanation"
   ]
  },
  {
   "cell_type": "markdown",
   "metadata": {
    "hidden": true
   },
   "source": [
    "With the previous exploration of parameters, we were able to determine which values resulted in better performances. There was obviously not a unique configuration yielding better results so, for the optimization run, we still allowed some variation. We basically assigned different probabilities of appearence to each of the parameters' values. The parameters, their possible values and their associated probabilities are:\n",
    "\n",
    "- **Estimator**: SVM1 (c=2), SVM2 (c=10), SVM3 (c=50) ------------------------------- Probabilities: 1/3, 1/3, 1/3\n",
    "- **Annihilation**: AN1 (0.2), AN2 (0.3), AN3 (0.4) ----------------------------------------- Probabilities: 1/6, 1/6, 4/6\n",
    "- **Elite**: EL1 (0.2), EL2 (0.3), EL3 (0.4) ----------------------------------------------------- Probabilities: 2/6, 1/6, 3/6\n",
    "- **Mutation rate**: MR1 (0.05), MR2 (0.1), MR3 (0.15) ---------------------------------- Probabilities: 1/2, 1/2, 0\n",
    "- **Selection**: SE1 (tournament 2-1) , SE2 (tournament 5-2), SE3 (roulette) ------ Probabilities: 1/2, 1/2, 0\n",
    "\n",
    "For each lobe, we run 20 models whose parameters are selected according to these probabilities. The best is chosen according to accuracy and f1 score in the test dataset."
   ]
  },
  {
   "cell_type": "markdown",
   "metadata": {
    "heading_collapsed": true
   },
   "source": [
    "### Import the packages"
   ]
  },
  {
   "cell_type": "markdown",
   "metadata": {
    "hidden": true
   },
   "source": [
    "We import the packages that will be needed. In this case, everything is already contained in the gatools.py file, that loads submodules of PyWin module."
   ]
  },
  {
   "cell_type": "code",
   "execution_count": 1,
   "metadata": {
    "hidden": true
   },
   "outputs": [],
   "source": [
    "import matplotlib\n",
    "import seaborn\n",
    "import sys\n",
    "sys.path.insert(0,'../../Tools')\n",
    "from orderedlist import *\n",
    "from gatools import *\n",
    "bi = Binarization()\n",
    "mo = Models()"
   ]
  },
  {
   "cell_type": "code",
   "execution_count": 2,
   "metadata": {
    "hidden": true
   },
   "outputs": [],
   "source": [
    "pandas.set_option('display.max_rows', None)\n",
    "pandas.set_option('display.max_columns', None)\n",
    "pandas.set_option('display.width', None)\n",
    "pandas.set_option('display.max_colwidth', None)"
   ]
  },
  {
   "cell_type": "markdown",
   "metadata": {
    "heading_collapsed": true
   },
   "source": [
    "### Preparation of results"
   ]
  },
  {
   "cell_type": "markdown",
   "metadata": {},
   "source": [
    "#### General stuff"
   ]
  },
  {
   "cell_type": "code",
   "execution_count": 3,
   "metadata": {
    "hidden": true
   },
   "outputs": [],
   "source": [
    "qual_lobes = bi.get_binary(pandas.read_csv('../../Data/CoarseGrained/Y_lobes_quan.csv'),100)"
   ]
  },
  {
   "cell_type": "code",
   "execution_count": 4,
   "metadata": {},
   "outputs": [],
   "source": [
    "features = pandas.read_csv('./Optimization_mono_100/optimization_best_features.csv')\n",
    "features_all = pandas.read_csv('./Optimization_mono_100/optimization_features.csv')\n",
    "train = pandas.read_csv('./Optimization_mono_100/optimization_best_train.csv')\n",
    "test = pandas.read_csv('./Optimization_mono_100/optimization_best_test.csv')"
   ]
  },
  {
   "cell_type": "code",
   "execution_count": 5,
   "metadata": {},
   "outputs": [],
   "source": [
    "tasks_lobes = ['_'.join([i.split('_')[-2],i.split('_')[-1]]) for i in list(features['Model'])]"
   ]
  },
  {
   "cell_type": "markdown",
   "metadata": {},
   "source": [
    "#### Metrics"
   ]
  },
  {
   "cell_type": "code",
   "execution_count": 6,
   "metadata": {
    "hidden": true
   },
   "outputs": [],
   "source": [
    "pct_lobes = round(numpy.divide(numpy.sum(qual_lobes),qual_lobes.shape[0]).to_frame().transpose(),3)\n",
    "pct_lobes = pct_lobes.add_prefix('Region=')\n",
    "pct_lobes.index=['percentage_positive']"
   ]
  },
  {
   "cell_type": "code",
   "execution_count": 7,
   "metadata": {},
   "outputs": [],
   "source": [
    "metrics_lobes = pandas.DataFrame()\n",
    "for task in tasks_lobes:\n",
    "    temp_metrics = mo.evaluate_metrics(train,test,task)\n",
    "    try: metrics_lobes = pandas.concat([metrics_lobes,temp_metrics],axis=1)\n",
    "    except: metrics_lobes = temp_metrics"
   ]
  },
  {
   "cell_type": "markdown",
   "metadata": {},
   "source": [
    "#### Features"
   ]
  },
  {
   "cell_type": "code",
   "execution_count": 8,
   "metadata": {},
   "outputs": [],
   "source": [
    "features_lobes = pandas.DataFrame()\n",
    "for task in tasks_lobes:\n",
    "    temp_features = mo.evaluate_features(features,features_all,task)\n",
    "    try: features_lobes = pandas.concat([features_lobes,temp_features],axis=0)\n",
    "    except: features_lobes = temp_features"
   ]
  },
  {
   "cell_type": "code",
   "execution_count": 9,
   "metadata": {},
   "outputs": [],
   "source": [
    "map_lobes = pandas.DataFrame()\n",
    "for task in lobes_list:\n",
    "    try: \n",
    "        temp_map = mo.map_features(features_all,features_list,task)\n",
    "        try: map_lobes = pandas.concat([map_lobes,temp_map],axis=0)\n",
    "        except: map_lobes = temp_map\n",
    "    except: pass"
   ]
  },
  {
   "cell_type": "markdown",
   "metadata": {
    "heading_collapsed": true
   },
   "source": [
    "### Results"
   ]
  },
  {
   "cell_type": "markdown",
   "metadata": {
    "hidden": true
   },
   "source": [
    "Down below we show the **sorted lobes according to accuracy and f1 score**. In the second table, only test information is given (those lobes appearing at the top are the ones with better overall models)."
   ]
  },
  {
   "cell_type": "code",
   "execution_count": 10,
   "metadata": {
    "hidden": true
   },
   "outputs": [
    {
     "data": {
      "text/html": [
       "<div>\n",
       "<style scoped>\n",
       "    .dataframe tbody tr th:only-of-type {\n",
       "        vertical-align: middle;\n",
       "    }\n",
       "\n",
       "    .dataframe tbody tr th {\n",
       "        vertical-align: top;\n",
       "    }\n",
       "\n",
       "    .dataframe thead th {\n",
       "        text-align: right;\n",
       "    }\n",
       "</style>\n",
       "<table border=\"1\" class=\"dataframe\">\n",
       "  <thead>\n",
       "    <tr style=\"text-align: right;\">\n",
       "      <th></th>\n",
       "      <th>Region=insular_l</th>\n",
       "      <th>Region=temporal_l</th>\n",
       "      <th>Region=occipital_l</th>\n",
       "      <th>Region=occipital_r</th>\n",
       "      <th>Region=subcortical_r</th>\n",
       "      <th>Region=frontal_l</th>\n",
       "      <th>Region=parietal_r</th>\n",
       "      <th>Region=parietal_l</th>\n",
       "      <th>Region=frontal_r</th>\n",
       "      <th>Region=subcortical_l</th>\n",
       "      <th>Region=temporal_r</th>\n",
       "      <th>Region=insular_r</th>\n",
       "    </tr>\n",
       "  </thead>\n",
       "  <tbody>\n",
       "    <tr>\n",
       "      <th>accuracy_test</th>\n",
       "      <td>0.968+/-0.020</td>\n",
       "      <td>0.846+/-0.038</td>\n",
       "      <td>0.877+/-0.021</td>\n",
       "      <td>0.902+/-0.026</td>\n",
       "      <td>0.960+/-0.022</td>\n",
       "      <td>0.870+/-0.029</td>\n",
       "      <td>0.831+/-0.038</td>\n",
       "      <td>0.844+/-0.041</td>\n",
       "      <td>0.833+/-0.034</td>\n",
       "      <td>0.916+/-0.028</td>\n",
       "      <td>0.780+/-0.060</td>\n",
       "      <td>0.885+/-0.028</td>\n",
       "    </tr>\n",
       "    <tr>\n",
       "      <th>accuracy_train</th>\n",
       "      <td>1.000+/-0.000</td>\n",
       "      <td>0.903+/-0.009</td>\n",
       "      <td>0.971+/-0.006</td>\n",
       "      <td>0.983+/-0.006</td>\n",
       "      <td>0.995+/-0.002</td>\n",
       "      <td>0.940+/-0.006</td>\n",
       "      <td>0.913+/-0.009</td>\n",
       "      <td>0.896+/-0.010</td>\n",
       "      <td>0.910+/-0.013</td>\n",
       "      <td>0.927+/-0.011</td>\n",
       "      <td>0.901+/-0.014</td>\n",
       "      <td>0.914+/-0.006</td>\n",
       "    </tr>\n",
       "    <tr>\n",
       "      <th>f1_test</th>\n",
       "      <td>0.774+/-0.150</td>\n",
       "      <td>0.715+/-0.076</td>\n",
       "      <td>0.583+/-0.065</td>\n",
       "      <td>0.591+/-0.100</td>\n",
       "      <td>0.600+/-0.178</td>\n",
       "      <td>0.591+/-0.085</td>\n",
       "      <td>0.600+/-0.063</td>\n",
       "      <td>0.605+/-0.082</td>\n",
       "      <td>0.586+/-0.077</td>\n",
       "      <td>0.537+/-0.125</td>\n",
       "      <td>0.663+/-0.085</td>\n",
       "      <td>0.505+/-0.106</td>\n",
       "    </tr>\n",
       "    <tr>\n",
       "      <th>f1_train</th>\n",
       "      <td>1.000+/-0.000</td>\n",
       "      <td>0.820+/-0.017</td>\n",
       "      <td>0.902+/-0.017</td>\n",
       "      <td>0.938+/-0.019</td>\n",
       "      <td>0.951+/-0.024</td>\n",
       "      <td>0.812+/-0.016</td>\n",
       "      <td>0.793+/-0.018</td>\n",
       "      <td>0.737+/-0.022</td>\n",
       "      <td>0.771+/-0.025</td>\n",
       "      <td>0.588+/-0.045</td>\n",
       "      <td>0.843+/-0.020</td>\n",
       "      <td>0.614+/-0.023</td>\n",
       "    </tr>\n",
       "    <tr>\n",
       "      <th>precision_test</th>\n",
       "      <td>0.820+/-0.155</td>\n",
       "      <td>0.673+/-0.072</td>\n",
       "      <td>0.544+/-0.072</td>\n",
       "      <td>0.646+/-0.128</td>\n",
       "      <td>0.621+/-0.248</td>\n",
       "      <td>0.540+/-0.096</td>\n",
       "      <td>0.523+/-0.073</td>\n",
       "      <td>0.568+/-0.100</td>\n",
       "      <td>0.499+/-0.073</td>\n",
       "      <td>0.467+/-0.131</td>\n",
       "      <td>0.599+/-0.092</td>\n",
       "      <td>0.442+/-0.112</td>\n",
       "    </tr>\n",
       "    <tr>\n",
       "      <th>precision_train</th>\n",
       "      <td>1.000+/-0.000</td>\n",
       "      <td>0.774+/-0.023</td>\n",
       "      <td>0.824+/-0.029</td>\n",
       "      <td>0.891+/-0.035</td>\n",
       "      <td>0.908+/-0.042</td>\n",
       "      <td>0.731+/-0.025</td>\n",
       "      <td>0.682+/-0.027</td>\n",
       "      <td>0.669+/-0.027</td>\n",
       "      <td>0.661+/-0.041</td>\n",
       "      <td>0.498+/-0.053</td>\n",
       "      <td>0.773+/-0.031</td>\n",
       "      <td>0.541+/-0.029</td>\n",
       "    </tr>\n",
       "    <tr>\n",
       "      <th>recall_test</th>\n",
       "      <td>0.752+/-0.181</td>\n",
       "      <td>0.775+/-0.125</td>\n",
       "      <td>0.640+/-0.106</td>\n",
       "      <td>0.559+/-0.125</td>\n",
       "      <td>0.653+/-0.221</td>\n",
       "      <td>0.667+/-0.125</td>\n",
       "      <td>0.722+/-0.102</td>\n",
       "      <td>0.670+/-0.118</td>\n",
       "      <td>0.731+/-0.140</td>\n",
       "      <td>0.666+/-0.172</td>\n",
       "      <td>0.752+/-0.103</td>\n",
       "      <td>0.610+/-0.141</td>\n",
       "    </tr>\n",
       "    <tr>\n",
       "      <th>recall_train</th>\n",
       "      <td>1.000+/-0.000</td>\n",
       "      <td>0.872+/-0.023</td>\n",
       "      <td>0.999+/-0.005</td>\n",
       "      <td>0.992+/-0.013</td>\n",
       "      <td>1.000+/-0.000</td>\n",
       "      <td>0.914+/-0.024</td>\n",
       "      <td>0.948+/-0.012</td>\n",
       "      <td>0.821+/-0.025</td>\n",
       "      <td>0.928+/-0.033</td>\n",
       "      <td>0.723+/-0.050</td>\n",
       "      <td>0.928+/-0.020</td>\n",
       "      <td>0.713+/-0.043</td>\n",
       "    </tr>\n",
       "    <tr>\n",
       "      <th>percentage_positive</th>\n",
       "      <td>0.075</td>\n",
       "      <td>0.253</td>\n",
       "      <td>0.136</td>\n",
       "      <td>0.127</td>\n",
       "      <td>0.045</td>\n",
       "      <td>0.142</td>\n",
       "      <td>0.175</td>\n",
       "      <td>0.178</td>\n",
       "      <td>0.163</td>\n",
       "      <td>0.072</td>\n",
       "      <td>0.286</td>\n",
       "      <td>0.096</td>\n",
       "    </tr>\n",
       "  </tbody>\n",
       "</table>\n",
       "</div>"
      ],
      "text/plain": [
       "                    Region=insular_l Region=temporal_l Region=occipital_l  \\\n",
       "accuracy_test          0.968+/-0.020     0.846+/-0.038      0.877+/-0.021   \n",
       "accuracy_train         1.000+/-0.000     0.903+/-0.009      0.971+/-0.006   \n",
       "f1_test                0.774+/-0.150     0.715+/-0.076      0.583+/-0.065   \n",
       "f1_train               1.000+/-0.000     0.820+/-0.017      0.902+/-0.017   \n",
       "precision_test         0.820+/-0.155     0.673+/-0.072      0.544+/-0.072   \n",
       "precision_train        1.000+/-0.000     0.774+/-0.023      0.824+/-0.029   \n",
       "recall_test            0.752+/-0.181     0.775+/-0.125      0.640+/-0.106   \n",
       "recall_train           1.000+/-0.000     0.872+/-0.023      0.999+/-0.005   \n",
       "percentage_positive            0.075             0.253              0.136   \n",
       "\n",
       "                    Region=occipital_r Region=subcortical_r Region=frontal_l  \\\n",
       "accuracy_test            0.902+/-0.026        0.960+/-0.022    0.870+/-0.029   \n",
       "accuracy_train           0.983+/-0.006        0.995+/-0.002    0.940+/-0.006   \n",
       "f1_test                  0.591+/-0.100        0.600+/-0.178    0.591+/-0.085   \n",
       "f1_train                 0.938+/-0.019        0.951+/-0.024    0.812+/-0.016   \n",
       "precision_test           0.646+/-0.128        0.621+/-0.248    0.540+/-0.096   \n",
       "precision_train          0.891+/-0.035        0.908+/-0.042    0.731+/-0.025   \n",
       "recall_test              0.559+/-0.125        0.653+/-0.221    0.667+/-0.125   \n",
       "recall_train             0.992+/-0.013        1.000+/-0.000    0.914+/-0.024   \n",
       "percentage_positive              0.127                0.045            0.142   \n",
       "\n",
       "                    Region=parietal_r Region=parietal_l Region=frontal_r  \\\n",
       "accuracy_test           0.831+/-0.038     0.844+/-0.041    0.833+/-0.034   \n",
       "accuracy_train          0.913+/-0.009     0.896+/-0.010    0.910+/-0.013   \n",
       "f1_test                 0.600+/-0.063     0.605+/-0.082    0.586+/-0.077   \n",
       "f1_train                0.793+/-0.018     0.737+/-0.022    0.771+/-0.025   \n",
       "precision_test          0.523+/-0.073     0.568+/-0.100    0.499+/-0.073   \n",
       "precision_train         0.682+/-0.027     0.669+/-0.027    0.661+/-0.041   \n",
       "recall_test             0.722+/-0.102     0.670+/-0.118    0.731+/-0.140   \n",
       "recall_train            0.948+/-0.012     0.821+/-0.025    0.928+/-0.033   \n",
       "percentage_positive             0.175             0.178            0.163   \n",
       "\n",
       "                    Region=subcortical_l Region=temporal_r Region=insular_r  \n",
       "accuracy_test              0.916+/-0.028     0.780+/-0.060    0.885+/-0.028  \n",
       "accuracy_train             0.927+/-0.011     0.901+/-0.014    0.914+/-0.006  \n",
       "f1_test                    0.537+/-0.125     0.663+/-0.085    0.505+/-0.106  \n",
       "f1_train                   0.588+/-0.045     0.843+/-0.020    0.614+/-0.023  \n",
       "precision_test             0.467+/-0.131     0.599+/-0.092    0.442+/-0.112  \n",
       "precision_train            0.498+/-0.053     0.773+/-0.031    0.541+/-0.029  \n",
       "recall_test                0.666+/-0.172     0.752+/-0.103    0.610+/-0.141  \n",
       "recall_train               0.723+/-0.050     0.928+/-0.020    0.713+/-0.043  \n",
       "percentage_positive                0.072             0.286            0.096  "
      ]
     },
     "execution_count": 10,
     "metadata": {},
     "output_type": "execute_result"
    }
   ],
   "source": [
    "metrics_pct_lobes = pandas.concat([metrics_lobes,pct_lobes],join='inner')\n",
    "metrics_pct_lobes"
   ]
  },
  {
   "cell_type": "code",
   "execution_count": 11,
   "metadata": {
    "hidden": true
   },
   "outputs": [
    {
     "data": {
      "text/html": [
       "<div>\n",
       "<style scoped>\n",
       "    .dataframe tbody tr th:only-of-type {\n",
       "        vertical-align: middle;\n",
       "    }\n",
       "\n",
       "    .dataframe tbody tr th {\n",
       "        vertical-align: top;\n",
       "    }\n",
       "\n",
       "    .dataframe thead th {\n",
       "        text-align: right;\n",
       "    }\n",
       "</style>\n",
       "<table border=\"1\" class=\"dataframe\">\n",
       "  <thead>\n",
       "    <tr style=\"text-align: right;\">\n",
       "      <th></th>\n",
       "      <th>accuracy_test</th>\n",
       "      <th>f1_test</th>\n",
       "      <th>precision_test</th>\n",
       "      <th>recall_test</th>\n",
       "      <th>percentage_positive</th>\n",
       "    </tr>\n",
       "  </thead>\n",
       "  <tbody>\n",
       "    <tr>\n",
       "      <th>Region=insular_l</th>\n",
       "      <td>0.968+/-0.020</td>\n",
       "      <td>0.774+/-0.150</td>\n",
       "      <td>0.820+/-0.155</td>\n",
       "      <td>0.752+/-0.181</td>\n",
       "      <td>0.075</td>\n",
       "    </tr>\n",
       "    <tr>\n",
       "      <th>Region=temporal_l</th>\n",
       "      <td>0.846+/-0.038</td>\n",
       "      <td>0.715+/-0.076</td>\n",
       "      <td>0.673+/-0.072</td>\n",
       "      <td>0.775+/-0.125</td>\n",
       "      <td>0.253</td>\n",
       "    </tr>\n",
       "    <tr>\n",
       "      <th>Region=occipital_l</th>\n",
       "      <td>0.877+/-0.021</td>\n",
       "      <td>0.583+/-0.065</td>\n",
       "      <td>0.544+/-0.072</td>\n",
       "      <td>0.640+/-0.106</td>\n",
       "      <td>0.136</td>\n",
       "    </tr>\n",
       "    <tr>\n",
       "      <th>Region=occipital_r</th>\n",
       "      <td>0.902+/-0.026</td>\n",
       "      <td>0.591+/-0.100</td>\n",
       "      <td>0.646+/-0.128</td>\n",
       "      <td>0.559+/-0.125</td>\n",
       "      <td>0.127</td>\n",
       "    </tr>\n",
       "    <tr>\n",
       "      <th>Region=subcortical_r</th>\n",
       "      <td>0.960+/-0.022</td>\n",
       "      <td>0.600+/-0.178</td>\n",
       "      <td>0.621+/-0.248</td>\n",
       "      <td>0.653+/-0.221</td>\n",
       "      <td>0.045</td>\n",
       "    </tr>\n",
       "    <tr>\n",
       "      <th>Region=frontal_l</th>\n",
       "      <td>0.870+/-0.029</td>\n",
       "      <td>0.591+/-0.085</td>\n",
       "      <td>0.540+/-0.096</td>\n",
       "      <td>0.667+/-0.125</td>\n",
       "      <td>0.142</td>\n",
       "    </tr>\n",
       "    <tr>\n",
       "      <th>Region=parietal_r</th>\n",
       "      <td>0.831+/-0.038</td>\n",
       "      <td>0.600+/-0.063</td>\n",
       "      <td>0.523+/-0.073</td>\n",
       "      <td>0.722+/-0.102</td>\n",
       "      <td>0.175</td>\n",
       "    </tr>\n",
       "    <tr>\n",
       "      <th>Region=parietal_l</th>\n",
       "      <td>0.844+/-0.041</td>\n",
       "      <td>0.605+/-0.082</td>\n",
       "      <td>0.568+/-0.100</td>\n",
       "      <td>0.670+/-0.118</td>\n",
       "      <td>0.178</td>\n",
       "    </tr>\n",
       "    <tr>\n",
       "      <th>Region=frontal_r</th>\n",
       "      <td>0.833+/-0.034</td>\n",
       "      <td>0.586+/-0.077</td>\n",
       "      <td>0.499+/-0.073</td>\n",
       "      <td>0.731+/-0.140</td>\n",
       "      <td>0.163</td>\n",
       "    </tr>\n",
       "    <tr>\n",
       "      <th>Region=subcortical_l</th>\n",
       "      <td>0.916+/-0.028</td>\n",
       "      <td>0.537+/-0.125</td>\n",
       "      <td>0.467+/-0.131</td>\n",
       "      <td>0.666+/-0.172</td>\n",
       "      <td>0.072</td>\n",
       "    </tr>\n",
       "    <tr>\n",
       "      <th>Region=temporal_r</th>\n",
       "      <td>0.780+/-0.060</td>\n",
       "      <td>0.663+/-0.085</td>\n",
       "      <td>0.599+/-0.092</td>\n",
       "      <td>0.752+/-0.103</td>\n",
       "      <td>0.286</td>\n",
       "    </tr>\n",
       "    <tr>\n",
       "      <th>Region=insular_r</th>\n",
       "      <td>0.885+/-0.028</td>\n",
       "      <td>0.505+/-0.106</td>\n",
       "      <td>0.442+/-0.112</td>\n",
       "      <td>0.610+/-0.141</td>\n",
       "      <td>0.096</td>\n",
       "    </tr>\n",
       "  </tbody>\n",
       "</table>\n",
       "</div>"
      ],
      "text/plain": [
       "                      accuracy_test        f1_test precision_test  \\\n",
       "Region=insular_l      0.968+/-0.020  0.774+/-0.150  0.820+/-0.155   \n",
       "Region=temporal_l     0.846+/-0.038  0.715+/-0.076  0.673+/-0.072   \n",
       "Region=occipital_l    0.877+/-0.021  0.583+/-0.065  0.544+/-0.072   \n",
       "Region=occipital_r    0.902+/-0.026  0.591+/-0.100  0.646+/-0.128   \n",
       "Region=subcortical_r  0.960+/-0.022  0.600+/-0.178  0.621+/-0.248   \n",
       "Region=frontal_l      0.870+/-0.029  0.591+/-0.085  0.540+/-0.096   \n",
       "Region=parietal_r     0.831+/-0.038  0.600+/-0.063  0.523+/-0.073   \n",
       "Region=parietal_l     0.844+/-0.041  0.605+/-0.082  0.568+/-0.100   \n",
       "Region=frontal_r      0.833+/-0.034  0.586+/-0.077  0.499+/-0.073   \n",
       "Region=subcortical_l  0.916+/-0.028  0.537+/-0.125  0.467+/-0.131   \n",
       "Region=temporal_r     0.780+/-0.060  0.663+/-0.085  0.599+/-0.092   \n",
       "Region=insular_r      0.885+/-0.028  0.505+/-0.106  0.442+/-0.112   \n",
       "\n",
       "                        recall_test percentage_positive  \n",
       "Region=insular_l      0.752+/-0.181               0.075  \n",
       "Region=temporal_l     0.775+/-0.125               0.253  \n",
       "Region=occipital_l    0.640+/-0.106               0.136  \n",
       "Region=occipital_r    0.559+/-0.125               0.127  \n",
       "Region=subcortical_r  0.653+/-0.221               0.045  \n",
       "Region=frontal_l      0.667+/-0.125               0.142  \n",
       "Region=parietal_r     0.722+/-0.102               0.175  \n",
       "Region=parietal_l     0.670+/-0.118               0.178  \n",
       "Region=frontal_r      0.731+/-0.140               0.163  \n",
       "Region=subcortical_l  0.666+/-0.172               0.072  \n",
       "Region=temporal_r     0.752+/-0.103               0.286  \n",
       "Region=insular_r      0.610+/-0.141               0.096  "
      ]
     },
     "execution_count": 11,
     "metadata": {},
     "output_type": "execute_result"
    }
   ],
   "source": [
    "metrics_pct_lobes.transpose()[['accuracy_test','f1_test','precision_test','recall_test','percentage_positive']]"
   ]
  },
  {
   "cell_type": "markdown",
   "metadata": {},
   "source": [
    "Down below, we include the **selected features for the best model and the most common features in all the models**."
   ]
  },
  {
   "cell_type": "code",
   "execution_count": 12,
   "metadata": {},
   "outputs": [
    {
     "data": {
      "text/html": [
       "<div>\n",
       "<style scoped>\n",
       "    .dataframe tbody tr th:only-of-type {\n",
       "        vertical-align: middle;\n",
       "    }\n",
       "\n",
       "    .dataframe tbody tr th {\n",
       "        vertical-align: top;\n",
       "    }\n",
       "\n",
       "    .dataframe thead th {\n",
       "        text-align: right;\n",
       "    }\n",
       "</style>\n",
       "<table border=\"1\" class=\"dataframe\">\n",
       "  <thead>\n",
       "    <tr style=\"text-align: right;\">\n",
       "      <th></th>\n",
       "      <th>Features best model</th>\n",
       "      <th>Features all models</th>\n",
       "      <th>Avg#</th>\n",
       "    </tr>\n",
       "  </thead>\n",
       "  <tbody>\n",
       "    <tr>\n",
       "      <th>Region=insular_l</th>\n",
       "      <td>[fcsrt_dif_free, cbtt_direct, mst_direct, rocf_3min, mst_indirect, st_3, rocf_recognition, tmt_a, rocf_30min, bnt, st_1, diagnostic_FTD, ace3_fluency, education_years]</td>\n",
       "      <td>[(mst_direct, 1.0), (diagnostic_FTD, 0.9), (rocf_3min, 0.9), (rocf_recognition, 0.9), (st_1, 0.8), (rocf_30min, 0.8), (fcsrt_dif_free, 0.8), (tmt_a, 0.8), (education_years, 0.75), (mst_indirect, 0.75), (ace3_fluency, 0.65), (bnt, 0.5), (diagnostic_AD, 0.45), (ace3_memory, 0.45), (ace3_attention, 0.45), (current_age, 0.45), (fcsrt_lt, 0.4), (ace3_language, 0.4), (ft_formal, 0.4), (rocf_copy, 0.35), (diagnostic_CT, 0.35), (ace3_visuospatial, 0.35), (rocf_time, 0.35), (tmt_b, 0.3), (fcsrt_dif_total, 0.3), (sex_female, 0.3), (tlt_total_correct, 0.3), (vospt_silhouette, 0.3), (fcsrt_total, 0.25), (cbtt_direct, 0.25), (vospt_discrimination, 0.25), (st_3, 0.25), (sex_male, 0.2), (vospt_location, 0.2), (sdmt, 0.2), (ft_animals, 0.2), (fcsrt_l1, 0.2), (st_2, 0.2), (ace, 0.15), (cbtt_indirect, 0.15), (vospt_decision, 0.1)]</td>\n",
       "      <td>18.05</td>\n",
       "    </tr>\n",
       "    <tr>\n",
       "      <th>Region=temporal_l</th>\n",
       "      <td>[vospt_silhouette, st_3, tmt_b, tmt_a, tlt_total_correct, ft_animals, ace3_visuospatial, fcsrt_dif_total, st_1, education_years, mst_indirect, ace3_fluency, rocf_recognition, ace3_language, diagnostic_AD, ft_formal]</td>\n",
       "      <td>[(st_3, 0.95), (fcsrt_dif_total, 0.9), (rocf_recognition, 0.85), (tlt_total_correct, 0.8), (ft_animals, 0.75), (diagnostic_AD, 0.75), (st_1, 0.7), (ace3_visuospatial, 0.6), (fcsrt_l1, 0.6), (current_age, 0.55), (education_years, 0.5), (ace3_fluency, 0.5), (tmt_b, 0.45), (rocf_time, 0.4), (vospt_silhouette, 0.4), (st_2, 0.4), (sex_male, 0.35), (diagnostic_CT, 0.35), (rocf_copy, 0.35), (tmt_a, 0.35), (rocf_30min, 0.3), (ft_formal, 0.3), (ace3_language, 0.25), (fcsrt_total, 0.25), (sex_female, 0.25), (ace3_attention, 0.2), (diagnostic_FTD, 0.2), (fcsrt_dif_free, 0.2), (ace3_memory, 0.15), (fcsrt_lt, 0.15), (rocf_3min, 0.1), (vospt_decision, 0.1), (vospt_discrimination, 0.1), (mst_indirect, 0.1), (ace, 0.05), (cbtt_direct, 0.05)]</td>\n",
       "      <td>14.25</td>\n",
       "    </tr>\n",
       "    <tr>\n",
       "      <th>Region=occipital_l</th>\n",
       "      <td>[diagnostic_FTD, fcsrt_dif_total, rocf_3min, rocf_recognition, ace3_visuospatial, tmt_a, cbtt_indirect, st_1, education_years, st_2, tlt_total_correct, ace3_fluency, ace3_language, sdmt]</td>\n",
       "      <td>[(education_years, 1.0), (diagnostic_FTD, 0.9), (st_3, 0.9), (rocf_recognition, 0.85), (st_1, 0.75), (fcsrt_dif_total, 0.7), (rocf_3min, 0.7), (ft_formal, 0.6), (cbtt_indirect, 0.6), (sdmt, 0.45), (vospt_decision, 0.45), (cbtt_direct, 0.45), (ace3_visuospatial, 0.45), (vospt_discrimination, 0.4), (st_2, 0.35), (ace3_language, 0.35), (rocf_30min, 0.35), (mst_direct, 0.3), (ft_animals, 0.3), (fcsrt_lt, 0.3), (tlt_total_correct, 0.25), (tmt_a, 0.25), (fcsrt_l1, 0.2), (vospt_location, 0.2), (rocf_time, 0.2), (current_age, 0.2), (fcsrt_dif_free, 0.15), (fcsrt_total, 0.15), (tmt_b, 0.15), (mst_indirect, 0.15), (diagnostic_AD, 0.15), (ace, 0.1), (vospt_silhouette, 0.1), (sex_male, 0.1), (ace3_fluency, 0.1), (ace3_memory, 0.05), (rocf_copy, 0.05), (bnt, 0.05), (sex_female, 0.05)]</td>\n",
       "      <td>13.80</td>\n",
       "    </tr>\n",
       "    <tr>\n",
       "      <th>Region=occipital_r</th>\n",
       "      <td>[cbtt_indirect, fcsrt_total, current_age, fcsrt_dif_total, mst_indirect, ace3_visuospatial, rocf_copy, sdmt, fcsrt_l1, ace3_language, tmt_b, fcsrt_lt, diagnostic_AD, st_2, sex_male, mst_direct, bnt]</td>\n",
       "      <td>[(rocf_copy, 1.0), (current_age, 0.95), (cbtt_indirect, 0.85), (sex_male, 0.85), (bnt, 0.8), (rocf_time, 0.8), (rocf_recognition, 0.8), (ace3_visuospatial, 0.75), (cbtt_direct, 0.75), (mst_indirect, 0.75), (diagnostic_FTD, 0.7), (vospt_silhouette, 0.65), (ace, 0.65), (fcsrt_l1, 0.65), (diagnostic_AD, 0.65), (tlt_total_correct, 0.6), (vospt_discrimination, 0.6), (fcsrt_dif_total, 0.6), (fcsrt_dif_free, 0.6), (vospt_location, 0.6), (st_3, 0.6), (rocf_30min, 0.55), (ace3_memory, 0.55), (rocf_3min, 0.55), (mst_direct, 0.55), (tmt_b, 0.55), (ft_formal, 0.5), (fcsrt_total, 0.5), (st_2, 0.5), (st_1, 0.5), (sex_female, 0.5), (fcsrt_lt, 0.45), (tmt_a, 0.45), (diagnostic_CT, 0.45), (sdmt, 0.45), (vospt_decision, 0.45), (ft_animals, 0.4), (ace3_attention, 0.3), (ace3_language, 0.3), (ace3_fluency, 0.3), (education_years, 0.2)]</td>\n",
       "      <td>24.20</td>\n",
       "    </tr>\n",
       "    <tr>\n",
       "      <th>Region=subcortical_r</th>\n",
       "      <td>[fcsrt_dif_total, fcsrt_lt, rocf_3min, fcsrt_l1, ace3_visuospatial, rocf_30min, st_1, rocf_time]</td>\n",
       "      <td>[(rocf_3min, 1.0), (st_1, 0.95), (fcsrt_lt, 0.85), (fcsrt_total, 0.85), (rocf_time, 0.55), (rocf_30min, 0.5), (fcsrt_l1, 0.45), (ft_formal, 0.45), (fcsrt_dif_total, 0.4), (ace3_visuospatial, 0.4), (current_age, 0.35), (mst_direct, 0.3), (bnt, 0.25), (vospt_silhouette, 0.25), (sdmt, 0.25), (education_years, 0.25), (cbtt_indirect, 0.2), (rocf_copy, 0.15), (rocf_recognition, 0.1), (st_3, 0.05), (diagnostic_CT, 0.05), (tmt_a, 0.05), (tlt_total_correct, 0.05), (tmt_b, 0.05)]</td>\n",
       "      <td>8.75</td>\n",
       "    </tr>\n",
       "    <tr>\n",
       "      <th>Region=frontal_l</th>\n",
       "      <td>[st_1, rocf_recognition, ft_animals, vospt_silhouette, education_years, tlt_total_correct, st_3, mst_direct, current_age, ace, diagnostic_AD, ace3_memory, cbtt_direct]</td>\n",
       "      <td>[(current_age, 1.0), (education_years, 0.95), (ft_animals, 0.9), (ace3_memory, 0.8), (diagnostic_AD, 0.6), (fcsrt_l1, 0.6), (tmt_b, 0.55), (mst_indirect, 0.55), (rocf_recognition, 0.5), (diagnostic_FTD, 0.5), (rocf_30min, 0.45), (ace3_attention, 0.45), (ace3_visuospatial, 0.4), (st_2, 0.4), (mst_direct, 0.35), (st_1, 0.35), (tlt_total_correct, 0.35), (vospt_decision, 0.35), (fcsrt_total, 0.3), (rocf_copy, 0.25), (bnt, 0.25), (vospt_silhouette, 0.25), (ace, 0.25), (rocf_3min, 0.2), (diagnostic_CT, 0.2), (ft_formal, 0.2), (cbtt_indirect, 0.2), (st_3, 0.2), (fcsrt_dif_free, 0.15), (cbtt_direct, 0.15), (ace3_fluency, 0.1), (vospt_location, 0.1), (ace3_language, 0.1), (fcsrt_lt, 0.1), (rocf_time, 0.05), (fcsrt_dif_total, 0.05), (vospt_discrimination, 0.05), (tmt_a, 0.05), (sdmt, 0.05)]</td>\n",
       "      <td>13.30</td>\n",
       "    </tr>\n",
       "    <tr>\n",
       "      <th>Region=parietal_r</th>\n",
       "      <td>[rocf_copy, st_3, st_2, fcsrt_l1, vospt_discrimination, ace3_language, ft_formal, rocf_recognition, fcsrt_lt, diagnostic_AD, ace3_visuospatial]</td>\n",
       "      <td>[(rocf_copy, 0.95), (st_3, 0.95), (diagnostic_AD, 0.85), (fcsrt_dif_total, 0.8), (st_2, 0.5), (ace3_language, 0.5), (ft_formal, 0.45), (fcsrt_l1, 0.35), (rocf_recognition, 0.35), (rocf_3min, 0.35), (sex_male, 0.35), (sdmt, 0.3), (cbtt_indirect, 0.3), (sex_female, 0.25), (vospt_silhouette, 0.2), (rocf_time, 0.2), (diagnostic_FTD, 0.15), (vospt_decision, 0.15), (ace3_visuospatial, 0.15), (vospt_discrimination, 0.15), (fcsrt_lt, 0.15), (fcsrt_dif_free, 0.1), (diagnostic_CT, 0.1), (rocf_30min, 0.1), (ace, 0.1), (ace3_memory, 0.05), (tlt_total_correct, 0.05), (current_age, 0.05), (st_1, 0.05)]</td>\n",
       "      <td>9.00</td>\n",
       "    </tr>\n",
       "    <tr>\n",
       "      <th>Region=parietal_l</th>\n",
       "      <td>[mst_indirect, vospt_discrimination, ft_animals, rocf_copy, diagnostic_AD, vospt_silhouette, fcsrt_l1, cbtt_indirect, education_years]</td>\n",
       "      <td>[(diagnostic_AD, 0.85), (st_3, 0.65), (vospt_discrimination, 0.55), (fcsrt_l1, 0.55), (education_years, 0.55), (current_age, 0.5), (mst_direct, 0.45), (vospt_silhouette, 0.4), (sex_female, 0.4), (tmt_b, 0.4), (tmt_a, 0.35), (st_2, 0.35), (sex_male, 0.35), (mst_indirect, 0.35), (cbtt_indirect, 0.3), (ft_animals, 0.25), (tlt_total_correct, 0.25), (ace3_visuospatial, 0.25), (ft_formal, 0.2), (rocf_copy, 0.2), (rocf_time, 0.2), (rocf_recognition, 0.2), (rocf_30min, 0.2), (bnt, 0.2), (vospt_decision, 0.2), (st_1, 0.15), (ace3_memory, 0.15), (sdmt, 0.15), (fcsrt_total, 0.1), (cbtt_direct, 0.1), (fcsrt_lt, 0.1), (fcsrt_dif_free, 0.1), (rocf_3min, 0.1), (diagnostic_FTD, 0.1), (diagnostic_CT, 0.1), (vospt_location, 0.05), (fcsrt_dif_total, 0.05)]</td>\n",
       "      <td>10.40</td>\n",
       "    </tr>\n",
       "    <tr>\n",
       "      <th>Region=frontal_r</th>\n",
       "      <td>[cbtt_direct, diagnostic_CT, education_years, diagnostic_FTD, current_age, tlt_total_correct, st_2]</td>\n",
       "      <td>[(current_age, 1.0), (tlt_total_correct, 1.0), (diagnostic_FTD, 0.85), (vospt_silhouette, 0.65), (st_2, 0.6), (education_years, 0.5), (ace3_language, 0.45), (mst_indirect, 0.3), (rocf_3min, 0.3), (ft_animals, 0.3), (diagnostic_AD, 0.3), (cbtt_direct, 0.3), (diagnostic_CT, 0.25), (st_3, 0.2), (cbtt_indirect, 0.2), (fcsrt_total, 0.15), (fcsrt_dif_free, 0.15), (ace3_memory, 0.15), (rocf_recognition, 0.15), (rocf_30min, 0.1), (ace3_visuospatial, 0.1), (fcsrt_l1, 0.1), (ace3_attention, 0.05), (st_1, 0.05), (vospt_location, 0.05), (tmt_a, 0.05), (ft_formal, 0.05), (tmt_b, 0.05), (sdmt, 0.05), (ace3_fluency, 0.05)]</td>\n",
       "      <td>8.50</td>\n",
       "    </tr>\n",
       "    <tr>\n",
       "      <th>Region=subcortical_l</th>\n",
       "      <td>[ace3_visuospatial, ft_animals, diagnostic_AD, rocf_recognition, ace3_language]</td>\n",
       "      <td>[(rocf_recognition, 0.95), (education_years, 0.95), (diagnostic_AD, 0.9), (cbtt_direct, 0.85), (ft_animals, 0.85), (mst_indirect, 0.85), (ace3_memory, 0.85), (fcsrt_l1, 0.85), (ace3_language, 0.8), (rocf_30min, 0.8), (diagnostic_FTD, 0.8), (ace3_fluency, 0.8), (vospt_silhouette, 0.8), (fcsrt_dif_free, 0.75), (st_1, 0.75), (sex_male, 0.75), (current_age, 0.7), (rocf_copy, 0.7), (fcsrt_lt, 0.7), (fcsrt_dif_total, 0.7), (ace3_attention, 0.7), (tmt_a, 0.7), (vospt_location, 0.7), (bnt, 0.7), (fcsrt_total, 0.7), (vospt_decision, 0.65), (rocf_time, 0.6), (sex_female, 0.6), (st_2, 0.6), (ace3_visuospatial, 0.6), (vospt_discrimination, 0.6), (diagnostic_CT, 0.55), (ace, 0.55), (rocf_3min, 0.55), (tmt_b, 0.45), (sdmt, 0.45), (cbtt_indirect, 0.35), (ft_formal, 0.35), (mst_direct, 0.3), (st_3, 0.3), (tlt_total_correct, 0.2)]</td>\n",
       "      <td>27.30</td>\n",
       "    </tr>\n",
       "    <tr>\n",
       "      <th>Region=temporal_r</th>\n",
       "      <td>[fcsrt_total, st_1, fcsrt_lt, diagnostic_CT, sex_male, diagnostic_AD, rocf_30min, ace3_fluency, fcsrt_dif_total, diagnostic_FTD]</td>\n",
       "      <td>[(diagnostic_CT, 0.9), (rocf_30min, 0.9), (ace3_fluency, 0.75), (diagnostic_FTD, 0.65), (st_1, 0.65), (fcsrt_lt, 0.65), (sex_male, 0.6), (st_2, 0.6), (mst_indirect, 0.45), (sex_female, 0.45), (diagnostic_AD, 0.45), (ace, 0.45), (ace3_visuospatial, 0.4), (rocf_3min, 0.4), (fcsrt_l1, 0.4), (fcsrt_dif_free, 0.35), (ace3_memory, 0.35), (rocf_copy, 0.35), (st_3, 0.3), (rocf_recognition, 0.25), (fcsrt_dif_total, 0.25), (fcsrt_total, 0.2), (current_age, 0.2), (education_years, 0.2), (ace3_attention, 0.2), (sdmt, 0.15), (vospt_silhouette, 0.15), (ft_formal, 0.15), (tmt_b, 0.1), (rocf_time, 0.1), (ace3_language, 0.1), (cbtt_direct, 0.1), (tlt_total_correct, 0.1), (tmt_a, 0.05), (bnt, 0.05), (mst_direct, 0.05), (cbtt_indirect, 0.05), (ft_animals, 0.05), (vospt_location, 0.05)]</td>\n",
       "      <td>12.60</td>\n",
       "    </tr>\n",
       "    <tr>\n",
       "      <th>Region=insular_r</th>\n",
       "      <td>[diagnostic_FTD, mst_direct, rocf_recognition, ace3_memory, fcsrt_l1, fcsrt_dif_free, fcsrt_lt]</td>\n",
       "      <td>[(fcsrt_dif_free, 0.95), (rocf_recognition, 0.85), (diagnostic_FTD, 0.85), (ace3_memory, 0.55), (vospt_silhouette, 0.55), (vospt_discrimination, 0.55), (mst_direct, 0.55), (diagnostic_AD, 0.45), (fcsrt_lt, 0.45), (ace3_fluency, 0.4), (education_years, 0.4), (diagnostic_CT, 0.35), (ace, 0.35), (rocf_copy, 0.35), (tlt_total_correct, 0.35), (fcsrt_l1, 0.3), (st_1, 0.3), (ace3_visuospatial, 0.25), (cbtt_indirect, 0.25), (ace3_language, 0.25), (ft_formal, 0.2), (fcsrt_total, 0.2), (st_3, 0.2), (rocf_30min, 0.2), (fcsrt_dif_total, 0.2), (vospt_decision, 0.2), (ace3_attention, 0.2), (mst_indirect, 0.2), (bnt, 0.2), (sdmt, 0.15), (ft_animals, 0.15), (sex_male, 0.15), (tmt_a, 0.15), (tmt_b, 0.15), (rocf_3min, 0.1), (vospt_location, 0.05), (rocf_time, 0.05), (st_2, 0.05)]</td>\n",
       "      <td>12.10</td>\n",
       "    </tr>\n",
       "  </tbody>\n",
       "</table>\n",
       "</div>"
      ],
      "text/plain": [
       "                                                                                                                                                                                                                          Features best model  \\\n",
       "Region=insular_l                                                      [fcsrt_dif_free, cbtt_direct, mst_direct, rocf_3min, mst_indirect, st_3, rocf_recognition, tmt_a, rocf_30min, bnt, st_1, diagnostic_FTD, ace3_fluency, education_years]   \n",
       "Region=temporal_l     [vospt_silhouette, st_3, tmt_b, tmt_a, tlt_total_correct, ft_animals, ace3_visuospatial, fcsrt_dif_total, st_1, education_years, mst_indirect, ace3_fluency, rocf_recognition, ace3_language, diagnostic_AD, ft_formal]   \n",
       "Region=occipital_l                                 [diagnostic_FTD, fcsrt_dif_total, rocf_3min, rocf_recognition, ace3_visuospatial, tmt_a, cbtt_indirect, st_1, education_years, st_2, tlt_total_correct, ace3_fluency, ace3_language, sdmt]   \n",
       "Region=occipital_r                     [cbtt_indirect, fcsrt_total, current_age, fcsrt_dif_total, mst_indirect, ace3_visuospatial, rocf_copy, sdmt, fcsrt_l1, ace3_language, tmt_b, fcsrt_lt, diagnostic_AD, st_2, sex_male, mst_direct, bnt]   \n",
       "Region=subcortical_r                                                                                                                         [fcsrt_dif_total, fcsrt_lt, rocf_3min, fcsrt_l1, ace3_visuospatial, rocf_30min, st_1, rocf_time]   \n",
       "Region=frontal_l                                                      [st_1, rocf_recognition, ft_animals, vospt_silhouette, education_years, tlt_total_correct, st_3, mst_direct, current_age, ace, diagnostic_AD, ace3_memory, cbtt_direct]   \n",
       "Region=parietal_r                                                                             [rocf_copy, st_3, st_2, fcsrt_l1, vospt_discrimination, ace3_language, ft_formal, rocf_recognition, fcsrt_lt, diagnostic_AD, ace3_visuospatial]   \n",
       "Region=parietal_l                                                                                      [mst_indirect, vospt_discrimination, ft_animals, rocf_copy, diagnostic_AD, vospt_silhouette, fcsrt_l1, cbtt_indirect, education_years]   \n",
       "Region=frontal_r                                                                                                                          [cbtt_direct, diagnostic_CT, education_years, diagnostic_FTD, current_age, tlt_total_correct, st_2]   \n",
       "Region=subcortical_l                                                                                                                                          [ace3_visuospatial, ft_animals, diagnostic_AD, rocf_recognition, ace3_language]   \n",
       "Region=temporal_r                                                                                            [fcsrt_total, st_1, fcsrt_lt, diagnostic_CT, sex_male, diagnostic_AD, rocf_30min, ace3_fluency, fcsrt_dif_total, diagnostic_FTD]   \n",
       "Region=insular_r                                                                                                                              [diagnostic_FTD, mst_direct, rocf_recognition, ace3_memory, fcsrt_l1, fcsrt_dif_free, fcsrt_lt]   \n",
       "\n",
       "                                                                                                                                                                                                                                                                                                                                                                                                                                                                                                                                                                                                                                                                                                                                                                                                                                                              Features all models  \\\n",
       "Region=insular_l         [(mst_direct, 1.0), (diagnostic_FTD, 0.9), (rocf_3min, 0.9), (rocf_recognition, 0.9), (st_1, 0.8), (rocf_30min, 0.8), (fcsrt_dif_free, 0.8), (tmt_a, 0.8), (education_years, 0.75), (mst_indirect, 0.75), (ace3_fluency, 0.65), (bnt, 0.5), (diagnostic_AD, 0.45), (ace3_memory, 0.45), (ace3_attention, 0.45), (current_age, 0.45), (fcsrt_lt, 0.4), (ace3_language, 0.4), (ft_formal, 0.4), (rocf_copy, 0.35), (diagnostic_CT, 0.35), (ace3_visuospatial, 0.35), (rocf_time, 0.35), (tmt_b, 0.3), (fcsrt_dif_total, 0.3), (sex_female, 0.3), (tlt_total_correct, 0.3), (vospt_silhouette, 0.3), (fcsrt_total, 0.25), (cbtt_direct, 0.25), (vospt_discrimination, 0.25), (st_3, 0.25), (sex_male, 0.2), (vospt_location, 0.2), (sdmt, 0.2), (ft_animals, 0.2), (fcsrt_l1, 0.2), (st_2, 0.2), (ace, 0.15), (cbtt_indirect, 0.15), (vospt_decision, 0.1)]   \n",
       "Region=temporal_l                                                                                                 [(st_3, 0.95), (fcsrt_dif_total, 0.9), (rocf_recognition, 0.85), (tlt_total_correct, 0.8), (ft_animals, 0.75), (diagnostic_AD, 0.75), (st_1, 0.7), (ace3_visuospatial, 0.6), (fcsrt_l1, 0.6), (current_age, 0.55), (education_years, 0.5), (ace3_fluency, 0.5), (tmt_b, 0.45), (rocf_time, 0.4), (vospt_silhouette, 0.4), (st_2, 0.4), (sex_male, 0.35), (diagnostic_CT, 0.35), (rocf_copy, 0.35), (tmt_a, 0.35), (rocf_30min, 0.3), (ft_formal, 0.3), (ace3_language, 0.25), (fcsrt_total, 0.25), (sex_female, 0.25), (ace3_attention, 0.2), (diagnostic_FTD, 0.2), (fcsrt_dif_free, 0.2), (ace3_memory, 0.15), (fcsrt_lt, 0.15), (rocf_3min, 0.1), (vospt_decision, 0.1), (vospt_discrimination, 0.1), (mst_indirect, 0.1), (ace, 0.05), (cbtt_direct, 0.05)]   \n",
       "Region=occipital_l                                                 [(education_years, 1.0), (diagnostic_FTD, 0.9), (st_3, 0.9), (rocf_recognition, 0.85), (st_1, 0.75), (fcsrt_dif_total, 0.7), (rocf_3min, 0.7), (ft_formal, 0.6), (cbtt_indirect, 0.6), (sdmt, 0.45), (vospt_decision, 0.45), (cbtt_direct, 0.45), (ace3_visuospatial, 0.45), (vospt_discrimination, 0.4), (st_2, 0.35), (ace3_language, 0.35), (rocf_30min, 0.35), (mst_direct, 0.3), (ft_animals, 0.3), (fcsrt_lt, 0.3), (tlt_total_correct, 0.25), (tmt_a, 0.25), (fcsrt_l1, 0.2), (vospt_location, 0.2), (rocf_time, 0.2), (current_age, 0.2), (fcsrt_dif_free, 0.15), (fcsrt_total, 0.15), (tmt_b, 0.15), (mst_indirect, 0.15), (diagnostic_AD, 0.15), (ace, 0.1), (vospt_silhouette, 0.1), (sex_male, 0.1), (ace3_fluency, 0.1), (ace3_memory, 0.05), (rocf_copy, 0.05), (bnt, 0.05), (sex_female, 0.05)]   \n",
       "Region=occipital_r    [(rocf_copy, 1.0), (current_age, 0.95), (cbtt_indirect, 0.85), (sex_male, 0.85), (bnt, 0.8), (rocf_time, 0.8), (rocf_recognition, 0.8), (ace3_visuospatial, 0.75), (cbtt_direct, 0.75), (mst_indirect, 0.75), (diagnostic_FTD, 0.7), (vospt_silhouette, 0.65), (ace, 0.65), (fcsrt_l1, 0.65), (diagnostic_AD, 0.65), (tlt_total_correct, 0.6), (vospt_discrimination, 0.6), (fcsrt_dif_total, 0.6), (fcsrt_dif_free, 0.6), (vospt_location, 0.6), (st_3, 0.6), (rocf_30min, 0.55), (ace3_memory, 0.55), (rocf_3min, 0.55), (mst_direct, 0.55), (tmt_b, 0.55), (ft_formal, 0.5), (fcsrt_total, 0.5), (st_2, 0.5), (st_1, 0.5), (sex_female, 0.5), (fcsrt_lt, 0.45), (tmt_a, 0.45), (diagnostic_CT, 0.45), (sdmt, 0.45), (vospt_decision, 0.45), (ft_animals, 0.4), (ace3_attention, 0.3), (ace3_language, 0.3), (ace3_fluency, 0.3), (education_years, 0.2)]   \n",
       "Region=subcortical_r                                                                                                                                                                                                                                                                                                                                                                   [(rocf_3min, 1.0), (st_1, 0.95), (fcsrt_lt, 0.85), (fcsrt_total, 0.85), (rocf_time, 0.55), (rocf_30min, 0.5), (fcsrt_l1, 0.45), (ft_formal, 0.45), (fcsrt_dif_total, 0.4), (ace3_visuospatial, 0.4), (current_age, 0.35), (mst_direct, 0.3), (bnt, 0.25), (vospt_silhouette, 0.25), (sdmt, 0.25), (education_years, 0.25), (cbtt_indirect, 0.2), (rocf_copy, 0.15), (rocf_recognition, 0.1), (st_3, 0.05), (diagnostic_CT, 0.05), (tmt_a, 0.05), (tlt_total_correct, 0.05), (tmt_b, 0.05)]   \n",
       "Region=frontal_l                                          [(current_age, 1.0), (education_years, 0.95), (ft_animals, 0.9), (ace3_memory, 0.8), (diagnostic_AD, 0.6), (fcsrt_l1, 0.6), (tmt_b, 0.55), (mst_indirect, 0.55), (rocf_recognition, 0.5), (diagnostic_FTD, 0.5), (rocf_30min, 0.45), (ace3_attention, 0.45), (ace3_visuospatial, 0.4), (st_2, 0.4), (mst_direct, 0.35), (st_1, 0.35), (tlt_total_correct, 0.35), (vospt_decision, 0.35), (fcsrt_total, 0.3), (rocf_copy, 0.25), (bnt, 0.25), (vospt_silhouette, 0.25), (ace, 0.25), (rocf_3min, 0.2), (diagnostic_CT, 0.2), (ft_formal, 0.2), (cbtt_indirect, 0.2), (st_3, 0.2), (fcsrt_dif_free, 0.15), (cbtt_direct, 0.15), (ace3_fluency, 0.1), (vospt_location, 0.1), (ace3_language, 0.1), (fcsrt_lt, 0.1), (rocf_time, 0.05), (fcsrt_dif_total, 0.05), (vospt_discrimination, 0.05), (tmt_a, 0.05), (sdmt, 0.05)]   \n",
       "Region=parietal_r                                                                                                                                                                                                                                             [(rocf_copy, 0.95), (st_3, 0.95), (diagnostic_AD, 0.85), (fcsrt_dif_total, 0.8), (st_2, 0.5), (ace3_language, 0.5), (ft_formal, 0.45), (fcsrt_l1, 0.35), (rocf_recognition, 0.35), (rocf_3min, 0.35), (sex_male, 0.35), (sdmt, 0.3), (cbtt_indirect, 0.3), (sex_female, 0.25), (vospt_silhouette, 0.2), (rocf_time, 0.2), (diagnostic_FTD, 0.15), (vospt_decision, 0.15), (ace3_visuospatial, 0.15), (vospt_discrimination, 0.15), (fcsrt_lt, 0.15), (fcsrt_dif_free, 0.1), (diagnostic_CT, 0.1), (rocf_30min, 0.1), (ace, 0.1), (ace3_memory, 0.05), (tlt_total_correct, 0.05), (current_age, 0.05), (st_1, 0.05)]   \n",
       "Region=parietal_l                                                                                     [(diagnostic_AD, 0.85), (st_3, 0.65), (vospt_discrimination, 0.55), (fcsrt_l1, 0.55), (education_years, 0.55), (current_age, 0.5), (mst_direct, 0.45), (vospt_silhouette, 0.4), (sex_female, 0.4), (tmt_b, 0.4), (tmt_a, 0.35), (st_2, 0.35), (sex_male, 0.35), (mst_indirect, 0.35), (cbtt_indirect, 0.3), (ft_animals, 0.25), (tlt_total_correct, 0.25), (ace3_visuospatial, 0.25), (ft_formal, 0.2), (rocf_copy, 0.2), (rocf_time, 0.2), (rocf_recognition, 0.2), (rocf_30min, 0.2), (bnt, 0.2), (vospt_decision, 0.2), (st_1, 0.15), (ace3_memory, 0.15), (sdmt, 0.15), (fcsrt_total, 0.1), (cbtt_direct, 0.1), (fcsrt_lt, 0.1), (fcsrt_dif_free, 0.1), (rocf_3min, 0.1), (diagnostic_FTD, 0.1), (diagnostic_CT, 0.1), (vospt_location, 0.05), (fcsrt_dif_total, 0.05)]   \n",
       "Region=frontal_r                                                                                                                                                                                                                          [(current_age, 1.0), (tlt_total_correct, 1.0), (diagnostic_FTD, 0.85), (vospt_silhouette, 0.65), (st_2, 0.6), (education_years, 0.5), (ace3_language, 0.45), (mst_indirect, 0.3), (rocf_3min, 0.3), (ft_animals, 0.3), (diagnostic_AD, 0.3), (cbtt_direct, 0.3), (diagnostic_CT, 0.25), (st_3, 0.2), (cbtt_indirect, 0.2), (fcsrt_total, 0.15), (fcsrt_dif_free, 0.15), (ace3_memory, 0.15), (rocf_recognition, 0.15), (rocf_30min, 0.1), (ace3_visuospatial, 0.1), (fcsrt_l1, 0.1), (ace3_attention, 0.05), (st_1, 0.05), (vospt_location, 0.05), (tmt_a, 0.05), (ft_formal, 0.05), (tmt_b, 0.05), (sdmt, 0.05), (ace3_fluency, 0.05)]   \n",
       "Region=subcortical_l    [(rocf_recognition, 0.95), (education_years, 0.95), (diagnostic_AD, 0.9), (cbtt_direct, 0.85), (ft_animals, 0.85), (mst_indirect, 0.85), (ace3_memory, 0.85), (fcsrt_l1, 0.85), (ace3_language, 0.8), (rocf_30min, 0.8), (diagnostic_FTD, 0.8), (ace3_fluency, 0.8), (vospt_silhouette, 0.8), (fcsrt_dif_free, 0.75), (st_1, 0.75), (sex_male, 0.75), (current_age, 0.7), (rocf_copy, 0.7), (fcsrt_lt, 0.7), (fcsrt_dif_total, 0.7), (ace3_attention, 0.7), (tmt_a, 0.7), (vospt_location, 0.7), (bnt, 0.7), (fcsrt_total, 0.7), (vospt_decision, 0.65), (rocf_time, 0.6), (sex_female, 0.6), (st_2, 0.6), (ace3_visuospatial, 0.6), (vospt_discrimination, 0.6), (diagnostic_CT, 0.55), (ace, 0.55), (rocf_3min, 0.55), (tmt_b, 0.45), (sdmt, 0.45), (cbtt_indirect, 0.35), (ft_formal, 0.35), (mst_direct, 0.3), (st_3, 0.3), (tlt_total_correct, 0.2)]   \n",
       "Region=temporal_r                                                       [(diagnostic_CT, 0.9), (rocf_30min, 0.9), (ace3_fluency, 0.75), (diagnostic_FTD, 0.65), (st_1, 0.65), (fcsrt_lt, 0.65), (sex_male, 0.6), (st_2, 0.6), (mst_indirect, 0.45), (sex_female, 0.45), (diagnostic_AD, 0.45), (ace, 0.45), (ace3_visuospatial, 0.4), (rocf_3min, 0.4), (fcsrt_l1, 0.4), (fcsrt_dif_free, 0.35), (ace3_memory, 0.35), (rocf_copy, 0.35), (st_3, 0.3), (rocf_recognition, 0.25), (fcsrt_dif_total, 0.25), (fcsrt_total, 0.2), (current_age, 0.2), (education_years, 0.2), (ace3_attention, 0.2), (sdmt, 0.15), (vospt_silhouette, 0.15), (ft_formal, 0.15), (tmt_b, 0.1), (rocf_time, 0.1), (ace3_language, 0.1), (cbtt_direct, 0.1), (tlt_total_correct, 0.1), (tmt_a, 0.05), (bnt, 0.05), (mst_direct, 0.05), (cbtt_indirect, 0.05), (ft_animals, 0.05), (vospt_location, 0.05)]   \n",
       "Region=insular_r                                                             [(fcsrt_dif_free, 0.95), (rocf_recognition, 0.85), (diagnostic_FTD, 0.85), (ace3_memory, 0.55), (vospt_silhouette, 0.55), (vospt_discrimination, 0.55), (mst_direct, 0.55), (diagnostic_AD, 0.45), (fcsrt_lt, 0.45), (ace3_fluency, 0.4), (education_years, 0.4), (diagnostic_CT, 0.35), (ace, 0.35), (rocf_copy, 0.35), (tlt_total_correct, 0.35), (fcsrt_l1, 0.3), (st_1, 0.3), (ace3_visuospatial, 0.25), (cbtt_indirect, 0.25), (ace3_language, 0.25), (ft_formal, 0.2), (fcsrt_total, 0.2), (st_3, 0.2), (rocf_30min, 0.2), (fcsrt_dif_total, 0.2), (vospt_decision, 0.2), (ace3_attention, 0.2), (mst_indirect, 0.2), (bnt, 0.2), (sdmt, 0.15), (ft_animals, 0.15), (sex_male, 0.15), (tmt_a, 0.15), (tmt_b, 0.15), (rocf_3min, 0.1), (vospt_location, 0.05), (rocf_time, 0.05), (st_2, 0.05)]   \n",
       "\n",
       "                       Avg#  \n",
       "Region=insular_l      18.05  \n",
       "Region=temporal_l     14.25  \n",
       "Region=occipital_l    13.80  \n",
       "Region=occipital_r    24.20  \n",
       "Region=subcortical_r   8.75  \n",
       "Region=frontal_l      13.30  \n",
       "Region=parietal_r      9.00  \n",
       "Region=parietal_l     10.40  \n",
       "Region=frontal_r       8.50  \n",
       "Region=subcortical_l  27.30  \n",
       "Region=temporal_r     12.60  \n",
       "Region=insular_r      12.10  "
      ]
     },
     "execution_count": 12,
     "metadata": {},
     "output_type": "execute_result"
    }
   ],
   "source": [
    "features_lobes"
   ]
  },
  {
   "cell_type": "markdown",
   "metadata": {},
   "source": [
    "Down below, we include a **heatmap indicating the frequency of each feature in predicting each lobe**. The features are ordered by nature (diagnostic features, demographic features and cognitive features -ordered themselves according to the cognitive function measured-), making it easier to see patterns."
   ]
  },
  {
   "cell_type": "code",
   "execution_count": 13,
   "metadata": {},
   "outputs": [
    {
     "data": {
      "text/plain": [
       "<matplotlib.axes._subplots.AxesSubplot at 0x9d9a288>"
      ]
     },
     "execution_count": 13,
     "metadata": {},
     "output_type": "execute_result"
    },
    {
     "data": {
      "image/png": "[encoded data removed]",
      "text/plain": [
       "<Figure size 1152x288 with 2 Axes>"
      ]
     },
     "metadata": {
      "needs_background": "light"
     },
     "output_type": "display_data"
    }
   ],
   "source": [
    "matplotlib.rcParams['figure.figsize'] = (16,4)\n",
    "seaborn.heatmap(map_lobes,cmap='Greys',xticklabels=True,yticklabels=True)"
   ]
  },
  {
   "cell_type": "markdown",
   "metadata": {
    "heading_collapsed": true
   },
   "source": [
    "### Conclusions"
   ]
  },
  {
   "cell_type": "markdown",
   "metadata": {},
   "source": [
    "We can see that **grouping brain regions into lobes does not improve remarkably our predictions**. In fact, the results obtained are similar to those appearing in the best half of fine-grained prediction. What appears to be happening is that those regions which were best predicted compensate for those regions which were worst predicted. One advantage of doing the coarse-grained prediction is that differences in hypometabolism between lobes are not that pronounced. All lobes have a percentage of hypometabolic patient over 7%, which allows **the variability associated to the predictions to be much lower**.\n",
    "\n",
    "One thing that turns pretty clear is that **left lobes are predicted better than right lobes**. Such tendency was already mentioned in the fine-grained prediction and can be confirmed from a broader perspective. Regarding the comparison between lobes, this discussion is not as rewarding as it was before. In fact, all brain lobes certainly have parcellations with very different correctness of prediction."
   ]
  }
 ],
 "metadata": {
  "kernelspec": {
   "display_name": "Python 3",
   "language": "python",
   "name": "python3"
  },
  "language_info": {
   "codemirror_mode": {
    "name": "ipython",
    "version": 3
   },
   "file_extension": ".py",
   "mimetype": "text/x-python",
   "name": "python",
   "nbconvert_exporter": "python",
   "pygments_lexer": "ipython3",
   "version": "3.7.6"
  }
 },
 "nbformat": 4,
 "nbformat_minor": 4
}
