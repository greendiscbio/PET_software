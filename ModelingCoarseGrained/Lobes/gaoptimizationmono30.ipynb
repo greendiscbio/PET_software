{
 "cells": [
  {
   "cell_type": "markdown",
   "metadata": {},
   "source": [
    "# Optimization of parameters in genetic algorithms"
   ]
  },
  {
   "cell_type": "markdown",
   "metadata": {},
   "source": [
    "This notebook gathers the results for the parameter optimization made on the mono-objective genetic algorithms, considering a binary threshold of 30."
   ]
  },
  {
   "cell_type": "markdown",
   "metadata": {
    "heading_collapsed": true
   },
   "source": [
    "### Brief explanation"
   ]
  },
  {
   "cell_type": "markdown",
   "metadata": {
    "hidden": true
   },
   "source": [
    "With the previous exploration of parameters, we were able to determine which values resulted in better performances. There was obviously not a unique configuration yielding better results so, for the optimization run, we still allowed some variation. We basically assigned different probabilities of appearence to each of the parameters' values. The parameters, their possible values and their associated probabilities are:\n",
    "\n",
    "- **Estimator**: SVM1 (c=2), SVM2 (c=10), SVM3 (c=50) ------------------------------- Probabilities: 1/3, 1/3, 1/3\n",
    "- **Annihilation**: AN1 (0.2), AN2 (0.3), AN3 (0.4) ----------------------------------------- Probabilities: 1/6, 1/6, 4/6\n",
    "- **Elite**: EL1 (0.2), EL2 (0.3), EL3 (0.4) ----------------------------------------------------- Probabilities: 2/6, 1/6, 3/6\n",
    "- **Mutation rate**: MR1 (0.05), MR2 (0.1), MR3 (0.15) ---------------------------------- Probabilities: 1/2, 1/2, 0\n",
    "- **Selection**: SE1 (tournament 2-1) , SE2 (tournament 5-2), SE3 (roulette) ------ Probabilities: 1/2, 1/2, 0\n",
    "\n",
    "For each lobe, we run 20 models whose parameters are selected according to these probabilities. The best is chosen according to accuracy and f1 score in the test dataset."
   ]
  },
  {
   "cell_type": "markdown",
   "metadata": {
    "heading_collapsed": true
   },
   "source": [
    "### Import the packages"
   ]
  },
  {
   "cell_type": "markdown",
   "metadata": {
    "hidden": true
   },
   "source": [
    "We import the packages that will be needed. In this case, everything is already contained in the gatools.py file, that loads submodules of PyWin module."
   ]
  },
  {
   "cell_type": "code",
   "execution_count": 1,
   "metadata": {
    "hidden": true
   },
   "outputs": [],
   "source": [
    "import matplotlib\n",
    "import seaborn\n",
    "import sys\n",
    "sys.path.insert(0,'../../Tools')\n",
    "from orderedlist import *\n",
    "from gatools import *\n",
    "bi = Binarization()\n",
    "mo = Models()"
   ]
  },
  {
   "cell_type": "code",
   "execution_count": 2,
   "metadata": {
    "hidden": true
   },
   "outputs": [],
   "source": [
    "pandas.set_option('display.max_rows', None)\n",
    "pandas.set_option('display.max_columns', None)\n",
    "pandas.set_option('display.width', None)\n",
    "pandas.set_option('display.max_colwidth', None)"
   ]
  },
  {
   "cell_type": "markdown",
   "metadata": {
    "heading_collapsed": true
   },
   "source": [
    "### Preparation of results"
   ]
  },
  {
   "cell_type": "markdown",
   "metadata": {},
   "source": [
    "#### General stuff"
   ]
  },
  {
   "cell_type": "code",
   "execution_count": 3,
   "metadata": {
    "hidden": true
   },
   "outputs": [],
   "source": [
    "qual_lobes = bi.get_binary(pandas.read_csv('../../Data/CoarseGrained/Y_lobes_quan.csv'),30)"
   ]
  },
  {
   "cell_type": "code",
   "execution_count": 4,
   "metadata": {},
   "outputs": [],
   "source": [
    "features = pandas.read_csv('./Optimization_mono_30/optimization_best_features.csv')\n",
    "features_all = pandas.read_csv('./Optimization_mono_30/optimization_features.csv')\n",
    "train = pandas.read_csv('./Optimization_mono_30/optimization_best_train.csv')\n",
    "test = pandas.read_csv('./Optimization_mono_30/optimization_best_test.csv')"
   ]
  },
  {
   "cell_type": "code",
   "execution_count": 5,
   "metadata": {},
   "outputs": [],
   "source": [
    "tasks_lobes = ['_'.join([i.split('_')[-2],i.split('_')[-1]]) for i in list(features['Model'])]"
   ]
  },
  {
   "cell_type": "markdown",
   "metadata": {},
   "source": [
    "#### Metrics"
   ]
  },
  {
   "cell_type": "code",
   "execution_count": 6,
   "metadata": {
    "hidden": true
   },
   "outputs": [],
   "source": [
    "pct_lobes = round(numpy.divide(numpy.sum(qual_lobes),qual_lobes.shape[0]).to_frame().transpose(),3)\n",
    "pct_lobes = pct_lobes.add_prefix('Region=')\n",
    "pct_lobes.index=['percentage_positive']"
   ]
  },
  {
   "cell_type": "code",
   "execution_count": 7,
   "metadata": {},
   "outputs": [],
   "source": [
    "metrics_lobes = pandas.DataFrame()\n",
    "for task in tasks_lobes:\n",
    "    temp_metrics = mo.evaluate_metrics(train,test,task)\n",
    "    try: metrics_lobes = pandas.concat([metrics_lobes,temp_metrics],axis=1)\n",
    "    except: metrics_lobes = temp_metrics"
   ]
  },
  {
   "cell_type": "markdown",
   "metadata": {},
   "source": [
    "#### Features"
   ]
  },
  {
   "cell_type": "code",
   "execution_count": 8,
   "metadata": {},
   "outputs": [],
   "source": [
    "features_lobes = pandas.DataFrame()\n",
    "for task in tasks_lobes:\n",
    "    temp_features = mo.evaluate_features(features,features_all,task)\n",
    "    try: features_lobes = pandas.concat([features_lobes,temp_features],axis=0)\n",
    "    except: features_lobes = temp_features"
   ]
  },
  {
   "cell_type": "code",
   "execution_count": 9,
   "metadata": {},
   "outputs": [],
   "source": [
    "map_lobes = pandas.DataFrame()\n",
    "for task in lobes_list:\n",
    "    try: \n",
    "        temp_map = mo.map_features(features_all,features_list,task)\n",
    "        try: map_lobes = pandas.concat([map_lobes,temp_map],axis=0)\n",
    "        except: map_lobes = temp_map\n",
    "    except: pass"
   ]
  },
  {
   "cell_type": "markdown",
   "metadata": {
    "heading_collapsed": true
   },
   "source": [
    "### Results"
   ]
  },
  {
   "cell_type": "markdown",
   "metadata": {
    "hidden": true
   },
   "source": [
    "Down below we show the **sorted lobes according to accuracy and f1 score**. In the second table, only test information is given (those lobes appearing at the top are the ones with better overall models)."
   ]
  },
  {
   "cell_type": "code",
   "execution_count": 10,
   "metadata": {
    "hidden": true
   },
   "outputs": [
    {
     "data": {
      "text/html": [
       "<div>\n",
       "<style scoped>\n",
       "    .dataframe tbody tr th:only-of-type {\n",
       "        vertical-align: middle;\n",
       "    }\n",
       "\n",
       "    .dataframe tbody tr th {\n",
       "        vertical-align: top;\n",
       "    }\n",
       "\n",
       "    .dataframe thead th {\n",
       "        text-align: right;\n",
       "    }\n",
       "</style>\n",
       "<table border=\"1\" class=\"dataframe\">\n",
       "  <thead>\n",
       "    <tr style=\"text-align: right;\">\n",
       "      <th></th>\n",
       "      <th>Region=temporal_l</th>\n",
       "      <th>Region=insular_l</th>\n",
       "      <th>Region=temporal_r</th>\n",
       "      <th>Region=parietal_l</th>\n",
       "      <th>Region=frontal_l</th>\n",
       "      <th>Region=subcortical_r</th>\n",
       "      <th>Region=subcortical_l</th>\n",
       "      <th>Region=occipital_r</th>\n",
       "      <th>Region=insular_r</th>\n",
       "      <th>Region=occipital_l</th>\n",
       "      <th>Region=frontal_r</th>\n",
       "      <th>Region=parietal_r</th>\n",
       "    </tr>\n",
       "  </thead>\n",
       "  <tbody>\n",
       "    <tr>\n",
       "      <th>accuracy_test</th>\n",
       "      <td>0.799+/-0.038</td>\n",
       "      <td>0.896+/-0.018</td>\n",
       "      <td>0.769+/-0.048</td>\n",
       "      <td>0.810+/-0.039</td>\n",
       "      <td>0.818+/-0.030</td>\n",
       "      <td>0.875+/-0.029</td>\n",
       "      <td>0.889+/-0.034</td>\n",
       "      <td>0.808+/-0.048</td>\n",
       "      <td>0.846+/-0.042</td>\n",
       "      <td>0.796+/-0.040</td>\n",
       "      <td>0.737+/-0.034</td>\n",
       "      <td>0.763+/-0.038</td>\n",
       "    </tr>\n",
       "    <tr>\n",
       "      <th>accuracy_train</th>\n",
       "      <td>0.837+/-0.010</td>\n",
       "      <td>0.908+/-0.005</td>\n",
       "      <td>0.859+/-0.015</td>\n",
       "      <td>0.902+/-0.011</td>\n",
       "      <td>0.928+/-0.005</td>\n",
       "      <td>0.917+/-0.011</td>\n",
       "      <td>0.912+/-0.010</td>\n",
       "      <td>0.883+/-0.013</td>\n",
       "      <td>0.852+/-0.011</td>\n",
       "      <td>0.840+/-0.009</td>\n",
       "      <td>0.743+/-0.009</td>\n",
       "      <td>0.838+/-0.013</td>\n",
       "    </tr>\n",
       "    <tr>\n",
       "      <th>f1_test</th>\n",
       "      <td>0.740+/-0.043</td>\n",
       "      <td>0.606+/-0.071</td>\n",
       "      <td>0.733+/-0.049</td>\n",
       "      <td>0.672+/-0.064</td>\n",
       "      <td>0.641+/-0.055</td>\n",
       "      <td>0.590+/-0.074</td>\n",
       "      <td>0.578+/-0.090</td>\n",
       "      <td>0.630+/-0.082</td>\n",
       "      <td>0.568+/-0.101</td>\n",
       "      <td>0.585+/-0.070</td>\n",
       "      <td>0.605+/-0.048</td>\n",
       "      <td>0.595+/-0.064</td>\n",
       "    </tr>\n",
       "    <tr>\n",
       "      <th>f1_train</th>\n",
       "      <td>0.789+/-0.012</td>\n",
       "      <td>0.656+/-0.014</td>\n",
       "      <td>0.836+/-0.015</td>\n",
       "      <td>0.833+/-0.019</td>\n",
       "      <td>0.862+/-0.010</td>\n",
       "      <td>0.716+/-0.029</td>\n",
       "      <td>0.659+/-0.028</td>\n",
       "      <td>0.777+/-0.021</td>\n",
       "      <td>0.578+/-0.025</td>\n",
       "      <td>0.676+/-0.017</td>\n",
       "      <td>0.618+/-0.012</td>\n",
       "      <td>0.720+/-0.020</td>\n",
       "    </tr>\n",
       "    <tr>\n",
       "      <th>precision_test</th>\n",
       "      <td>0.672+/-0.058</td>\n",
       "      <td>0.520+/-0.064</td>\n",
       "      <td>0.672+/-0.060</td>\n",
       "      <td>0.635+/-0.064</td>\n",
       "      <td>0.620+/-0.070</td>\n",
       "      <td>0.490+/-0.075</td>\n",
       "      <td>0.520+/-0.122</td>\n",
       "      <td>0.540+/-0.087</td>\n",
       "      <td>0.510+/-0.106</td>\n",
       "      <td>0.545+/-0.086</td>\n",
       "      <td>0.528+/-0.048</td>\n",
       "      <td>0.551+/-0.058</td>\n",
       "    </tr>\n",
       "    <tr>\n",
       "      <th>precision_train</th>\n",
       "      <td>0.712+/-0.015</td>\n",
       "      <td>0.552+/-0.017</td>\n",
       "      <td>0.767+/-0.025</td>\n",
       "      <td>0.776+/-0.020</td>\n",
       "      <td>0.802+/-0.013</td>\n",
       "      <td>0.599+/-0.035</td>\n",
       "      <td>0.571+/-0.037</td>\n",
       "      <td>0.650+/-0.027</td>\n",
       "      <td>0.515+/-0.030</td>\n",
       "      <td>0.616+/-0.022</td>\n",
       "      <td>0.533+/-0.012</td>\n",
       "      <td>0.671+/-0.028</td>\n",
       "    </tr>\n",
       "    <tr>\n",
       "      <th>recall_test</th>\n",
       "      <td>0.830+/-0.067</td>\n",
       "      <td>0.744+/-0.131</td>\n",
       "      <td>0.812+/-0.070</td>\n",
       "      <td>0.718+/-0.087</td>\n",
       "      <td>0.678+/-0.093</td>\n",
       "      <td>0.762+/-0.123</td>\n",
       "      <td>0.695+/-0.148</td>\n",
       "      <td>0.769+/-0.107</td>\n",
       "      <td>0.653+/-0.123</td>\n",
       "      <td>0.643+/-0.096</td>\n",
       "      <td>0.714+/-0.078</td>\n",
       "      <td>0.652+/-0.089</td>\n",
       "    </tr>\n",
       "    <tr>\n",
       "      <th>recall_train</th>\n",
       "      <td>0.883+/-0.017</td>\n",
       "      <td>0.808+/-0.029</td>\n",
       "      <td>0.919+/-0.015</td>\n",
       "      <td>0.900+/-0.026</td>\n",
       "      <td>0.932+/-0.018</td>\n",
       "      <td>0.892+/-0.029</td>\n",
       "      <td>0.782+/-0.044</td>\n",
       "      <td>0.965+/-0.019</td>\n",
       "      <td>0.661+/-0.033</td>\n",
       "      <td>0.749+/-0.035</td>\n",
       "      <td>0.734+/-0.019</td>\n",
       "      <td>0.778+/-0.025</td>\n",
       "    </tr>\n",
       "    <tr>\n",
       "      <th>percentage_positive</th>\n",
       "      <td>0.343</td>\n",
       "      <td>0.108</td>\n",
       "      <td>0.389</td>\n",
       "      <td>0.271</td>\n",
       "      <td>0.241</td>\n",
       "      <td>0.117</td>\n",
       "      <td>0.108</td>\n",
       "      <td>0.211</td>\n",
       "      <td>0.154</td>\n",
       "      <td>0.223</td>\n",
       "      <td>0.283</td>\n",
       "      <td>0.268</td>\n",
       "    </tr>\n",
       "  </tbody>\n",
       "</table>\n",
       "</div>"
      ],
      "text/plain": [
       "                    Region=temporal_l Region=insular_l Region=temporal_r  \\\n",
       "accuracy_test           0.799+/-0.038    0.896+/-0.018     0.769+/-0.048   \n",
       "accuracy_train          0.837+/-0.010    0.908+/-0.005     0.859+/-0.015   \n",
       "f1_test                 0.740+/-0.043    0.606+/-0.071     0.733+/-0.049   \n",
       "f1_train                0.789+/-0.012    0.656+/-0.014     0.836+/-0.015   \n",
       "precision_test          0.672+/-0.058    0.520+/-0.064     0.672+/-0.060   \n",
       "precision_train         0.712+/-0.015    0.552+/-0.017     0.767+/-0.025   \n",
       "recall_test             0.830+/-0.067    0.744+/-0.131     0.812+/-0.070   \n",
       "recall_train            0.883+/-0.017    0.808+/-0.029     0.919+/-0.015   \n",
       "percentage_positive             0.343            0.108             0.389   \n",
       "\n",
       "                    Region=parietal_l Region=frontal_l Region=subcortical_r  \\\n",
       "accuracy_test           0.810+/-0.039    0.818+/-0.030        0.875+/-0.029   \n",
       "accuracy_train          0.902+/-0.011    0.928+/-0.005        0.917+/-0.011   \n",
       "f1_test                 0.672+/-0.064    0.641+/-0.055        0.590+/-0.074   \n",
       "f1_train                0.833+/-0.019    0.862+/-0.010        0.716+/-0.029   \n",
       "precision_test          0.635+/-0.064    0.620+/-0.070        0.490+/-0.075   \n",
       "precision_train         0.776+/-0.020    0.802+/-0.013        0.599+/-0.035   \n",
       "recall_test             0.718+/-0.087    0.678+/-0.093        0.762+/-0.123   \n",
       "recall_train            0.900+/-0.026    0.932+/-0.018        0.892+/-0.029   \n",
       "percentage_positive             0.271            0.241                0.117   \n",
       "\n",
       "                    Region=subcortical_l Region=occipital_r Region=insular_r  \\\n",
       "accuracy_test              0.889+/-0.034      0.808+/-0.048    0.846+/-0.042   \n",
       "accuracy_train             0.912+/-0.010      0.883+/-0.013    0.852+/-0.011   \n",
       "f1_test                    0.578+/-0.090      0.630+/-0.082    0.568+/-0.101   \n",
       "f1_train                   0.659+/-0.028      0.777+/-0.021    0.578+/-0.025   \n",
       "precision_test             0.520+/-0.122      0.540+/-0.087    0.510+/-0.106   \n",
       "precision_train            0.571+/-0.037      0.650+/-0.027    0.515+/-0.030   \n",
       "recall_test                0.695+/-0.148      0.769+/-0.107    0.653+/-0.123   \n",
       "recall_train               0.782+/-0.044      0.965+/-0.019    0.661+/-0.033   \n",
       "percentage_positive                0.108              0.211            0.154   \n",
       "\n",
       "                    Region=occipital_l Region=frontal_r Region=parietal_r  \n",
       "accuracy_test            0.796+/-0.040    0.737+/-0.034     0.763+/-0.038  \n",
       "accuracy_train           0.840+/-0.009    0.743+/-0.009     0.838+/-0.013  \n",
       "f1_test                  0.585+/-0.070    0.605+/-0.048     0.595+/-0.064  \n",
       "f1_train                 0.676+/-0.017    0.618+/-0.012     0.720+/-0.020  \n",
       "precision_test           0.545+/-0.086    0.528+/-0.048     0.551+/-0.058  \n",
       "precision_train          0.616+/-0.022    0.533+/-0.012     0.671+/-0.028  \n",
       "recall_test              0.643+/-0.096    0.714+/-0.078     0.652+/-0.089  \n",
       "recall_train             0.749+/-0.035    0.734+/-0.019     0.778+/-0.025  \n",
       "percentage_positive              0.223            0.283             0.268  "
      ]
     },
     "execution_count": 10,
     "metadata": {},
     "output_type": "execute_result"
    }
   ],
   "source": [
    "metrics_pct_lobes = pandas.concat([metrics_lobes,pct_lobes],join='inner')\n",
    "metrics_pct_lobes"
   ]
  },
  {
   "cell_type": "code",
   "execution_count": 11,
   "metadata": {
    "hidden": true
   },
   "outputs": [
    {
     "data": {
      "text/html": [
       "<div>\n",
       "<style scoped>\n",
       "    .dataframe tbody tr th:only-of-type {\n",
       "        vertical-align: middle;\n",
       "    }\n",
       "\n",
       "    .dataframe tbody tr th {\n",
       "        vertical-align: top;\n",
       "    }\n",
       "\n",
       "    .dataframe thead th {\n",
       "        text-align: right;\n",
       "    }\n",
       "</style>\n",
       "<table border=\"1\" class=\"dataframe\">\n",
       "  <thead>\n",
       "    <tr style=\"text-align: right;\">\n",
       "      <th></th>\n",
       "      <th>accuracy_test</th>\n",
       "      <th>f1_test</th>\n",
       "      <th>precision_test</th>\n",
       "      <th>recall_test</th>\n",
       "      <th>percentage_positive</th>\n",
       "    </tr>\n",
       "  </thead>\n",
       "  <tbody>\n",
       "    <tr>\n",
       "      <th>Region=temporal_l</th>\n",
       "      <td>0.799+/-0.038</td>\n",
       "      <td>0.740+/-0.043</td>\n",
       "      <td>0.672+/-0.058</td>\n",
       "      <td>0.830+/-0.067</td>\n",
       "      <td>0.343</td>\n",
       "    </tr>\n",
       "    <tr>\n",
       "      <th>Region=insular_l</th>\n",
       "      <td>0.896+/-0.018</td>\n",
       "      <td>0.606+/-0.071</td>\n",
       "      <td>0.520+/-0.064</td>\n",
       "      <td>0.744+/-0.131</td>\n",
       "      <td>0.108</td>\n",
       "    </tr>\n",
       "    <tr>\n",
       "      <th>Region=temporal_r</th>\n",
       "      <td>0.769+/-0.048</td>\n",
       "      <td>0.733+/-0.049</td>\n",
       "      <td>0.672+/-0.060</td>\n",
       "      <td>0.812+/-0.070</td>\n",
       "      <td>0.389</td>\n",
       "    </tr>\n",
       "    <tr>\n",
       "      <th>Region=parietal_l</th>\n",
       "      <td>0.810+/-0.039</td>\n",
       "      <td>0.672+/-0.064</td>\n",
       "      <td>0.635+/-0.064</td>\n",
       "      <td>0.718+/-0.087</td>\n",
       "      <td>0.271</td>\n",
       "    </tr>\n",
       "    <tr>\n",
       "      <th>Region=frontal_l</th>\n",
       "      <td>0.818+/-0.030</td>\n",
       "      <td>0.641+/-0.055</td>\n",
       "      <td>0.620+/-0.070</td>\n",
       "      <td>0.678+/-0.093</td>\n",
       "      <td>0.241</td>\n",
       "    </tr>\n",
       "    <tr>\n",
       "      <th>Region=subcortical_r</th>\n",
       "      <td>0.875+/-0.029</td>\n",
       "      <td>0.590+/-0.074</td>\n",
       "      <td>0.490+/-0.075</td>\n",
       "      <td>0.762+/-0.123</td>\n",
       "      <td>0.117</td>\n",
       "    </tr>\n",
       "    <tr>\n",
       "      <th>Region=subcortical_l</th>\n",
       "      <td>0.889+/-0.034</td>\n",
       "      <td>0.578+/-0.090</td>\n",
       "      <td>0.520+/-0.122</td>\n",
       "      <td>0.695+/-0.148</td>\n",
       "      <td>0.108</td>\n",
       "    </tr>\n",
       "    <tr>\n",
       "      <th>Region=occipital_r</th>\n",
       "      <td>0.808+/-0.048</td>\n",
       "      <td>0.630+/-0.082</td>\n",
       "      <td>0.540+/-0.087</td>\n",
       "      <td>0.769+/-0.107</td>\n",
       "      <td>0.211</td>\n",
       "    </tr>\n",
       "    <tr>\n",
       "      <th>Region=insular_r</th>\n",
       "      <td>0.846+/-0.042</td>\n",
       "      <td>0.568+/-0.101</td>\n",
       "      <td>0.510+/-0.106</td>\n",
       "      <td>0.653+/-0.123</td>\n",
       "      <td>0.154</td>\n",
       "    </tr>\n",
       "    <tr>\n",
       "      <th>Region=occipital_l</th>\n",
       "      <td>0.796+/-0.040</td>\n",
       "      <td>0.585+/-0.070</td>\n",
       "      <td>0.545+/-0.086</td>\n",
       "      <td>0.643+/-0.096</td>\n",
       "      <td>0.223</td>\n",
       "    </tr>\n",
       "    <tr>\n",
       "      <th>Region=frontal_r</th>\n",
       "      <td>0.737+/-0.034</td>\n",
       "      <td>0.605+/-0.048</td>\n",
       "      <td>0.528+/-0.048</td>\n",
       "      <td>0.714+/-0.078</td>\n",
       "      <td>0.283</td>\n",
       "    </tr>\n",
       "    <tr>\n",
       "      <th>Region=parietal_r</th>\n",
       "      <td>0.763+/-0.038</td>\n",
       "      <td>0.595+/-0.064</td>\n",
       "      <td>0.551+/-0.058</td>\n",
       "      <td>0.652+/-0.089</td>\n",
       "      <td>0.268</td>\n",
       "    </tr>\n",
       "  </tbody>\n",
       "</table>\n",
       "</div>"
      ],
      "text/plain": [
       "                      accuracy_test        f1_test precision_test  \\\n",
       "Region=temporal_l     0.799+/-0.038  0.740+/-0.043  0.672+/-0.058   \n",
       "Region=insular_l      0.896+/-0.018  0.606+/-0.071  0.520+/-0.064   \n",
       "Region=temporal_r     0.769+/-0.048  0.733+/-0.049  0.672+/-0.060   \n",
       "Region=parietal_l     0.810+/-0.039  0.672+/-0.064  0.635+/-0.064   \n",
       "Region=frontal_l      0.818+/-0.030  0.641+/-0.055  0.620+/-0.070   \n",
       "Region=subcortical_r  0.875+/-0.029  0.590+/-0.074  0.490+/-0.075   \n",
       "Region=subcortical_l  0.889+/-0.034  0.578+/-0.090  0.520+/-0.122   \n",
       "Region=occipital_r    0.808+/-0.048  0.630+/-0.082  0.540+/-0.087   \n",
       "Region=insular_r      0.846+/-0.042  0.568+/-0.101  0.510+/-0.106   \n",
       "Region=occipital_l    0.796+/-0.040  0.585+/-0.070  0.545+/-0.086   \n",
       "Region=frontal_r      0.737+/-0.034  0.605+/-0.048  0.528+/-0.048   \n",
       "Region=parietal_r     0.763+/-0.038  0.595+/-0.064  0.551+/-0.058   \n",
       "\n",
       "                        recall_test percentage_positive  \n",
       "Region=temporal_l     0.830+/-0.067               0.343  \n",
       "Region=insular_l      0.744+/-0.131               0.108  \n",
       "Region=temporal_r     0.812+/-0.070               0.389  \n",
       "Region=parietal_l     0.718+/-0.087               0.271  \n",
       "Region=frontal_l      0.678+/-0.093               0.241  \n",
       "Region=subcortical_r  0.762+/-0.123               0.117  \n",
       "Region=subcortical_l  0.695+/-0.148               0.108  \n",
       "Region=occipital_r    0.769+/-0.107               0.211  \n",
       "Region=insular_r      0.653+/-0.123               0.154  \n",
       "Region=occipital_l    0.643+/-0.096               0.223  \n",
       "Region=frontal_r      0.714+/-0.078               0.283  \n",
       "Region=parietal_r     0.652+/-0.089               0.268  "
      ]
     },
     "execution_count": 11,
     "metadata": {},
     "output_type": "execute_result"
    }
   ],
   "source": [
    "metrics_pct_lobes.transpose()[['accuracy_test','f1_test','precision_test','recall_test','percentage_positive']]"
   ]
  },
  {
   "cell_type": "markdown",
   "metadata": {},
   "source": [
    "Down below, we include the **selected features for the best model and the most common features in all the models**."
   ]
  },
  {
   "cell_type": "code",
   "execution_count": 12,
   "metadata": {},
   "outputs": [
    {
     "data": {
      "text/html": [
       "<div>\n",
       "<style scoped>\n",
       "    .dataframe tbody tr th:only-of-type {\n",
       "        vertical-align: middle;\n",
       "    }\n",
       "\n",
       "    .dataframe tbody tr th {\n",
       "        vertical-align: top;\n",
       "    }\n",
       "\n",
       "    .dataframe thead th {\n",
       "        text-align: right;\n",
       "    }\n",
       "</style>\n",
       "<table border=\"1\" class=\"dataframe\">\n",
       "  <thead>\n",
       "    <tr style=\"text-align: right;\">\n",
       "      <th></th>\n",
       "      <th>Features best model</th>\n",
       "      <th>Features all models</th>\n",
       "      <th>Avg#</th>\n",
       "    </tr>\n",
       "  </thead>\n",
       "  <tbody>\n",
       "    <tr>\n",
       "      <th>Region=temporal_l</th>\n",
       "      <td>[rocf_recognition, ace, vospt_silhouette, diagnostic_CT, fcsrt_l1, fcsrt_dif_total, fcsrt_lt, tlt_total_correct, education_years, st_1]</td>\n",
       "      <td>[(rocf_recognition, 0.9), (fcsrt_lt, 0.85), (education_years, 0.85), (diagnostic_CT, 0.8), (fcsrt_l1, 0.7), (fcsrt_dif_total, 0.4), (tlt_total_correct, 0.25), (tmt_a, 0.2), (ace3_language, 0.2), (ace3_attention, 0.2), (st_1, 0.15), (diagnostic_FTD, 0.15), (sdmt, 0.15), (ace, 0.1), (vospt_silhouette, 0.1), (current_age, 0.1), (st_2, 0.1), (cbtt_indirect, 0.1), (st_3, 0.1), (mst_indirect, 0.1), (fcsrt_total, 0.1), (fcsrt_dif_free, 0.1), (ace3_visuospatial, 0.1), (vospt_decision, 0.05), (ace3_memory, 0.05), (rocf_copy, 0.05), (rocf_3min, 0.05), (diagnostic_AD, 0.05)]</td>\n",
       "      <td>7.05</td>\n",
       "    </tr>\n",
       "    <tr>\n",
       "      <th>Region=insular_l</th>\n",
       "      <td>[rocf_time, st_1, diagnostic_FTD, tlt_total_correct]</td>\n",
       "      <td>[(diagnostic_FTD, 1.0), (tlt_total_correct, 1.0), (rocf_time, 0.85), (st_1, 0.45), (rocf_3min, 0.35), (rocf_recognition, 0.3), (ace3_language, 0.3), (rocf_30min, 0.3), (mst_direct, 0.2), (rocf_copy, 0.2), (ace3_attention, 0.15), (education_years, 0.1), (tmt_a, 0.1), (ace, 0.1), (st_2, 0.1), (ace3_visuospatial, 0.05), (vospt_decision, 0.05), (sex_female, 0.05)]</td>\n",
       "      <td>5.65</td>\n",
       "    </tr>\n",
       "    <tr>\n",
       "      <th>Region=temporal_r</th>\n",
       "      <td>[fcsrt_lt, diagnostic_CT, rocf_3min, ace3_fluency, fcsrt_l1, st_3, rocf_30min, diagnostic_FTD, ace3_visuospatial, st_2, mst_indirect, vospt_silhouette]</td>\n",
       "      <td>[(st_2, 0.9), (rocf_30min, 0.85), (diagnostic_CT, 0.85), (st_3, 0.75), (rocf_3min, 0.7), (vospt_silhouette, 0.65), (mst_indirect, 0.65), (diagnostic_AD, 0.55), (diagnostic_FTD, 0.5), (ace3_fluency, 0.3), (fcsrt_lt, 0.25), (education_years, 0.2), (fcsrt_l1, 0.15), (ace3_memory, 0.1), (rocf_recognition, 0.05), (st_1, 0.05), (fcsrt_dif_free, 0.05), (ft_animals, 0.05), (ace3_visuospatial, 0.05), (rocf_copy, 0.05), (sex_male, 0.05), (ace, 0.05)]</td>\n",
       "      <td>7.80</td>\n",
       "    </tr>\n",
       "    <tr>\n",
       "      <th>Region=parietal_l</th>\n",
       "      <td>[rocf_time, ace3_fluency, education_years, vospt_silhouette, fcsrt_dif_total, vospt_decision, rocf_3min, rocf_recognition, mst_indirect, mst_direct, st_3]</td>\n",
       "      <td>[(st_3, 1.0), (ace3_fluency, 0.8), (diagnostic_AD, 0.6), (tmt_b, 0.5), (sex_male, 0.45), (rocf_recognition, 0.4), (education_years, 0.4), (fcsrt_dif_total, 0.35), (st_2, 0.35), (vospt_silhouette, 0.35), (mst_direct, 0.3), (diagnostic_CT, 0.3), (diagnostic_FTD, 0.25), (vospt_decision, 0.25), (sex_female, 0.2), (tmt_a, 0.2), (rocf_time, 0.15), (rocf_30min, 0.15), (ft_animals, 0.15), (fcsrt_total, 0.15), (ace3_visuospatial, 0.15), (st_1, 0.15), (mst_indirect, 0.15), (fcsrt_dif_free, 0.1), (rocf_3min, 0.1), (tlt_total_correct, 0.1), (ace, 0.1), (current_age, 0.1), (bnt, 0.1), (ace3_language, 0.1), (ace3_memory, 0.05), (fcsrt_lt, 0.05), (ace3_attention, 0.05), (ft_formal, 0.05), (sdmt, 0.05)]</td>\n",
       "      <td>8.70</td>\n",
       "    </tr>\n",
       "    <tr>\n",
       "      <th>Region=frontal_l</th>\n",
       "      <td>[education_years, ace3_memory, mst_direct, ace3_fluency, fcsrt_l1, bnt, rocf_recognition, rocf_3min, diagnostic_FTD, fcsrt_lt, diagnostic_AD, st_3]</td>\n",
       "      <td>[(diagnostic_FTD, 0.85), (education_years, 0.75), (cbtt_indirect, 0.6), (ace3_memory, 0.55), (st_3, 0.55), (rocf_3min, 0.4), (mst_direct, 0.35), (mst_indirect, 0.35), (tlt_total_correct, 0.35), (st_1, 0.3), (bnt, 0.25), (diagnostic_AD, 0.25), (ace, 0.25), (diagnostic_CT, 0.2), (vospt_silhouette, 0.2), (ace3_fluency, 0.15), (rocf_recognition, 0.15), (ace3_language, 0.15), (fcsrt_l1, 0.1), (fcsrt_lt, 0.1), (fcsrt_dif_free, 0.1), (fcsrt_total, 0.1), (tmt_b, 0.1), (st_2, 0.1), (ace3_visuospatial, 0.1), (current_age, 0.1), (vospt_decision, 0.1), (rocf_time, 0.05), (rocf_copy, 0.05), (fcsrt_dif_total, 0.05), (ft_animals, 0.05), (rocf_30min, 0.05), (ace3_attention, 0.05)]</td>\n",
       "      <td>7.85</td>\n",
       "    </tr>\n",
       "    <tr>\n",
       "      <th>Region=subcortical_r</th>\n",
       "      <td>[st_1, vospt_discrimination, rocf_3min, mst_indirect, sex_male, ft_animals, ace3_memory, diagnostic_FTD]</td>\n",
       "      <td>[(mst_indirect, 0.9), (diagnostic_FTD, 0.85), (ft_animals, 0.7), (st_1, 0.65), (diagnostic_CT, 0.65), (diagnostic_AD, 0.6), (sex_male, 0.6), (vospt_discrimination, 0.6), (education_years, 0.55), (rocf_30min, 0.5), (current_age, 0.5), (fcsrt_dif_total, 0.45), (ace3_memory, 0.4), (st_2, 0.4), (cbtt_indirect, 0.35), (rocf_3min, 0.35), (fcsrt_total, 0.35), (sex_female, 0.35), (ace3_language, 0.3), (ace, 0.3), (rocf_time, 0.3), (tmt_a, 0.3), (ace3_visuospatial, 0.25), (vospt_location, 0.25), (ace3_attention, 0.25), (ft_formal, 0.25), (bnt, 0.25), (fcsrt_l1, 0.25), (tlt_total_correct, 0.2), (sdmt, 0.2), (mst_direct, 0.2), (rocf_recognition, 0.2), (tmt_b, 0.15), (fcsrt_lt, 0.15), (vospt_silhouette, 0.15), (cbtt_direct, 0.15), (fcsrt_dif_free, 0.15), (vospt_decision, 0.15), (st_3, 0.1), (rocf_copy, 0.1), (ace3_fluency, 0.1)]</td>\n",
       "      <td>14.45</td>\n",
       "    </tr>\n",
       "    <tr>\n",
       "      <th>Region=subcortical_l</th>\n",
       "      <td>[diagnostic_FTD, ft_animals, ace3_language, education_years, rocf_recognition, ace3_attention]</td>\n",
       "      <td>[(rocf_recognition, 0.95), (education_years, 0.85), (ft_animals, 0.85), (diagnostic_FTD, 0.8), (st_3, 0.7), (ft_formal, 0.65), (rocf_30min, 0.65), (fcsrt_dif_total, 0.65), (st_1, 0.65), (ace3_visuospatial, 0.65), (ace3_language, 0.65), (ace3_fluency, 0.6), (sex_female, 0.6), (mst_indirect, 0.6), (current_age, 0.6), (rocf_copy, 0.55), (diagnostic_AD, 0.55), (mst_direct, 0.55), (sdmt, 0.5), (ace3_attention, 0.5), (st_2, 0.5), (ace, 0.5), (fcsrt_l1, 0.5), (vospt_decision, 0.45), (tmt_a, 0.45), (rocf_time, 0.45), (vospt_location, 0.45), (vospt_discrimination, 0.45), (fcsrt_lt, 0.45), (rocf_3min, 0.45), (bnt, 0.45), (fcsrt_total, 0.45), (sex_male, 0.45), (vospt_silhouette, 0.4), (ace3_memory, 0.4), (fcsrt_dif_free, 0.35), (diagnostic_CT, 0.35), (tmt_b, 0.35), (cbtt_direct, 0.3), (cbtt_indirect, 0.2), (tlt_total_correct, 0.2)]</td>\n",
       "      <td>21.65</td>\n",
       "    </tr>\n",
       "    <tr>\n",
       "      <th>Region=occipital_r</th>\n",
       "      <td>[fcsrt_lt, diagnostic_AD, ace3_memory, sex_male, rocf_copy, fcsrt_dif_total, cbtt_indirect, vospt_discrimination, fcsrt_total]</td>\n",
       "      <td>[(diagnostic_AD, 0.8), (vospt_discrimination, 0.7), (st_3, 0.55), (tmt_b, 0.5), (ace, 0.5), (rocf_recognition, 0.45), (ace3_language, 0.45), (fcsrt_dif_total, 0.45), (mst_indirect, 0.45), (current_age, 0.4), (cbtt_direct, 0.4), (ace3_attention, 0.4), (diagnostic_FTD, 0.4), (ft_formal, 0.35), (tlt_total_correct, 0.35), (rocf_3min, 0.3), (vospt_location, 0.3), (cbtt_indirect, 0.3), (fcsrt_l1, 0.25), (fcsrt_lt, 0.25), (vospt_decision, 0.25), (rocf_copy, 0.25), (diagnostic_CT, 0.2), (ace3_visuospatial, 0.2), (vospt_silhouette, 0.2), (rocf_30min, 0.2), (bnt, 0.15), (sex_female, 0.15), (tmt_a, 0.15), (fcsrt_total, 0.15), (ace3_memory, 0.15), (sdmt, 0.15), (sex_male, 0.1), (st_2, 0.05), (mst_direct, 0.05)]</td>\n",
       "      <td>10.95</td>\n",
       "    </tr>\n",
       "    <tr>\n",
       "      <th>Region=insular_r</th>\n",
       "      <td>[vospt_silhouette, diagnostic_FTD, tlt_total_correct, tmt_b]</td>\n",
       "      <td>[(diagnostic_FTD, 1.0), (vospt_silhouette, 0.95), (tmt_b, 0.9), (tlt_total_correct, 0.75), (diagnostic_CT, 0.2), (diagnostic_AD, 0.15), (ace3_language, 0.15), (vospt_discrimination, 0.1), (tmt_a, 0.1), (ace3_memory, 0.1), (ace, 0.1), (rocf_time, 0.05), (sex_male, 0.05), (ace3_visuospatial, 0.05), (sex_female, 0.05), (st_2, 0.05), (rocf_30min, 0.05), (current_age, 0.05), (rocf_recognition, 0.05), (fcsrt_dif_free, 0.05), (fcsrt_dif_total, 0.05), (st_1, 0.05)]</td>\n",
       "      <td>5.05</td>\n",
       "    </tr>\n",
       "    <tr>\n",
       "      <th>Region=occipital_l</th>\n",
       "      <td>[mst_indirect, rocf_30min, vospt_discrimination, rocf_recognition, st_2, diagnostic_AD, rocf_time, cbtt_indirect]</td>\n",
       "      <td>[(vospt_discrimination, 0.95), (rocf_30min, 0.9), (mst_indirect, 0.7), (diagnostic_AD, 0.6), (rocf_3min, 0.5), (st_2, 0.45), (fcsrt_l1, 0.35), (diagnostic_FTD, 0.3), (mst_direct, 0.3), (ace3_attention, 0.25), (cbtt_indirect, 0.25), (fcsrt_dif_total, 0.2), (ace3_language, 0.2), (rocf_time, 0.2), (st_3, 0.2), (fcsrt_lt, 0.2), (bnt, 0.15), (ace3_visuospatial, 0.15), (fcsrt_total, 0.15), (ace3_fluency, 0.15), (education_years, 0.15), (ace, 0.15), (sdmt, 0.1), (ace3_memory, 0.1), (fcsrt_dif_free, 0.1), (diagnostic_CT, 0.1), (vospt_location, 0.1), (rocf_recognition, 0.1), (tmt_a, 0.1), (vospt_decision, 0.1), (current_age, 0.05), (rocf_copy, 0.05), (ft_formal, 0.05), (st_1, 0.05)]</td>\n",
       "      <td>8.45</td>\n",
       "    </tr>\n",
       "    <tr>\n",
       "      <th>Region=frontal_r</th>\n",
       "      <td>[diagnostic_FTD, cbtt_indirect]</td>\n",
       "      <td>[(diagnostic_FTD, 0.8), (cbtt_indirect, 0.8), (diagnostic_AD, 0.35), (diagnostic_CT, 0.3), (fcsrt_dif_total, 0.3), (tlt_total_correct, 0.25), (fcsrt_total, 0.25), (current_age, 0.25), (ft_formal, 0.25), (st_2, 0.2), (sex_male, 0.15), (fcsrt_l1, 0.15), (bnt, 0.15), (mst_indirect, 0.15), (ft_animals, 0.15), (ace3_memory, 0.1), (sex_female, 0.1), (st_3, 0.1), (vospt_silhouette, 0.1), (rocf_copy, 0.1), (vospt_discrimination, 0.05), (sdmt, 0.05), (st_1, 0.05), (education_years, 0.05), (tmt_a, 0.05), (mst_direct, 0.05), (ace3_language, 0.05)]</td>\n",
       "      <td>5.35</td>\n",
       "    </tr>\n",
       "    <tr>\n",
       "      <th>Region=parietal_r</th>\n",
       "      <td>[fcsrt_dif_free, rocf_3min, st_2, vospt_silhouette, ace3_language, education_years, rocf_time, fcsrt_lt, tlt_total_correct, current_age, diagnostic_AD, rocf_30min]</td>\n",
       "      <td>[(diagnostic_AD, 0.95), (current_age, 0.8), (rocf_3min, 0.5), (ace3_language, 0.5), (cbtt_indirect, 0.5), (vospt_silhouette, 0.3), (fcsrt_lt, 0.3), (rocf_time, 0.3), (st_2, 0.2), (rocf_30min, 0.15), (ft_formal, 0.15), (tlt_total_correct, 0.15), (ft_animals, 0.15), (rocf_recognition, 0.15), (fcsrt_dif_free, 0.1), (fcsrt_l1, 0.1), (bnt, 0.1), (fcsrt_dif_total, 0.1), (vospt_discrimination, 0.1), (education_years, 0.1), (diagnostic_CT, 0.1), (vospt_location, 0.1), (rocf_copy, 0.05), (ace, 0.05), (tmt_b, 0.05), (sex_female, 0.05), (cbtt_direct, 0.05), (ace3_visuospatial, 0.05), (tmt_a, 0.05), (mst_indirect, 0.05), (vospt_decision, 0.05), (ace3_attention, 0.05)]</td>\n",
       "      <td>6.40</td>\n",
       "    </tr>\n",
       "  </tbody>\n",
       "</table>\n",
       "</div>"
      ],
      "text/plain": [
       "                                                                                                                                                                      Features best model  \\\n",
       "Region=temporal_l                                 [rocf_recognition, ace, vospt_silhouette, diagnostic_CT, fcsrt_l1, fcsrt_dif_total, fcsrt_lt, tlt_total_correct, education_years, st_1]   \n",
       "Region=insular_l                                                                                                                     [rocf_time, st_1, diagnostic_FTD, tlt_total_correct]   \n",
       "Region=temporal_r                 [fcsrt_lt, diagnostic_CT, rocf_3min, ace3_fluency, fcsrt_l1, st_3, rocf_30min, diagnostic_FTD, ace3_visuospatial, st_2, mst_indirect, vospt_silhouette]   \n",
       "Region=parietal_l              [rocf_time, ace3_fluency, education_years, vospt_silhouette, fcsrt_dif_total, vospt_decision, rocf_3min, rocf_recognition, mst_indirect, mst_direct, st_3]   \n",
       "Region=frontal_l                      [education_years, ace3_memory, mst_direct, ace3_fluency, fcsrt_l1, bnt, rocf_recognition, rocf_3min, diagnostic_FTD, fcsrt_lt, diagnostic_AD, st_3]   \n",
       "Region=subcortical_r                                                             [st_1, vospt_discrimination, rocf_3min, mst_indirect, sex_male, ft_animals, ace3_memory, diagnostic_FTD]   \n",
       "Region=subcortical_l                                                                       [diagnostic_FTD, ft_animals, ace3_language, education_years, rocf_recognition, ace3_attention]   \n",
       "Region=occipital_r                                         [fcsrt_lt, diagnostic_AD, ace3_memory, sex_male, rocf_copy, fcsrt_dif_total, cbtt_indirect, vospt_discrimination, fcsrt_total]   \n",
       "Region=insular_r                                                                                                             [vospt_silhouette, diagnostic_FTD, tlt_total_correct, tmt_b]   \n",
       "Region=occipital_l                                                      [mst_indirect, rocf_30min, vospt_discrimination, rocf_recognition, st_2, diagnostic_AD, rocf_time, cbtt_indirect]   \n",
       "Region=frontal_r                                                                                                                                          [diagnostic_FTD, cbtt_indirect]   \n",
       "Region=parietal_r     [fcsrt_dif_free, rocf_3min, st_2, vospt_silhouette, ace3_language, education_years, rocf_time, fcsrt_lt, tlt_total_correct, current_age, diagnostic_AD, rocf_30min]   \n",
       "\n",
       "                                                                                                                                                                                                                                                                                                                                                                                                                                                                                                                                                                                                                                                                                                                                                                                                                                                                   Features all models  \\\n",
       "Region=temporal_l                                                                                                                                                                                                                                                                           [(rocf_recognition, 0.9), (fcsrt_lt, 0.85), (education_years, 0.85), (diagnostic_CT, 0.8), (fcsrt_l1, 0.7), (fcsrt_dif_total, 0.4), (tlt_total_correct, 0.25), (tmt_a, 0.2), (ace3_language, 0.2), (ace3_attention, 0.2), (st_1, 0.15), (diagnostic_FTD, 0.15), (sdmt, 0.15), (ace, 0.1), (vospt_silhouette, 0.1), (current_age, 0.1), (st_2, 0.1), (cbtt_indirect, 0.1), (st_3, 0.1), (mst_indirect, 0.1), (fcsrt_total, 0.1), (fcsrt_dif_free, 0.1), (ace3_visuospatial, 0.1), (vospt_decision, 0.05), (ace3_memory, 0.05), (rocf_copy, 0.05), (rocf_3min, 0.05), (diagnostic_AD, 0.05)]   \n",
       "Region=insular_l                                                                                                                                                                                                                                                                                                                                                                                                                                                                                            [(diagnostic_FTD, 1.0), (tlt_total_correct, 1.0), (rocf_time, 0.85), (st_1, 0.45), (rocf_3min, 0.35), (rocf_recognition, 0.3), (ace3_language, 0.3), (rocf_30min, 0.3), (mst_direct, 0.2), (rocf_copy, 0.2), (ace3_attention, 0.15), (education_years, 0.1), (tmt_a, 0.1), (ace, 0.1), (st_2, 0.1), (ace3_visuospatial, 0.05), (vospt_decision, 0.05), (sex_female, 0.05)]   \n",
       "Region=temporal_r                                                                                                                                                                                                                                                                                                                                                                                                         [(st_2, 0.9), (rocf_30min, 0.85), (diagnostic_CT, 0.85), (st_3, 0.75), (rocf_3min, 0.7), (vospt_silhouette, 0.65), (mst_indirect, 0.65), (diagnostic_AD, 0.55), (diagnostic_FTD, 0.5), (ace3_fluency, 0.3), (fcsrt_lt, 0.25), (education_years, 0.2), (fcsrt_l1, 0.15), (ace3_memory, 0.1), (rocf_recognition, 0.05), (st_1, 0.05), (fcsrt_dif_free, 0.05), (ft_animals, 0.05), (ace3_visuospatial, 0.05), (rocf_copy, 0.05), (sex_male, 0.05), (ace, 0.05)]   \n",
       "Region=parietal_l                                                                                                                                             [(st_3, 1.0), (ace3_fluency, 0.8), (diagnostic_AD, 0.6), (tmt_b, 0.5), (sex_male, 0.45), (rocf_recognition, 0.4), (education_years, 0.4), (fcsrt_dif_total, 0.35), (st_2, 0.35), (vospt_silhouette, 0.35), (mst_direct, 0.3), (diagnostic_CT, 0.3), (diagnostic_FTD, 0.25), (vospt_decision, 0.25), (sex_female, 0.2), (tmt_a, 0.2), (rocf_time, 0.15), (rocf_30min, 0.15), (ft_animals, 0.15), (fcsrt_total, 0.15), (ace3_visuospatial, 0.15), (st_1, 0.15), (mst_indirect, 0.15), (fcsrt_dif_free, 0.1), (rocf_3min, 0.1), (tlt_total_correct, 0.1), (ace, 0.1), (current_age, 0.1), (bnt, 0.1), (ace3_language, 0.1), (ace3_memory, 0.05), (fcsrt_lt, 0.05), (ace3_attention, 0.05), (ft_formal, 0.05), (sdmt, 0.05)]   \n",
       "Region=frontal_l                                                                                                                                                                     [(diagnostic_FTD, 0.85), (education_years, 0.75), (cbtt_indirect, 0.6), (ace3_memory, 0.55), (st_3, 0.55), (rocf_3min, 0.4), (mst_direct, 0.35), (mst_indirect, 0.35), (tlt_total_correct, 0.35), (st_1, 0.3), (bnt, 0.25), (diagnostic_AD, 0.25), (ace, 0.25), (diagnostic_CT, 0.2), (vospt_silhouette, 0.2), (ace3_fluency, 0.15), (rocf_recognition, 0.15), (ace3_language, 0.15), (fcsrt_l1, 0.1), (fcsrt_lt, 0.1), (fcsrt_dif_free, 0.1), (fcsrt_total, 0.1), (tmt_b, 0.1), (st_2, 0.1), (ace3_visuospatial, 0.1), (current_age, 0.1), (vospt_decision, 0.1), (rocf_time, 0.05), (rocf_copy, 0.05), (fcsrt_dif_total, 0.05), (ft_animals, 0.05), (rocf_30min, 0.05), (ace3_attention, 0.05)]   \n",
       "Region=subcortical_r      [(mst_indirect, 0.9), (diagnostic_FTD, 0.85), (ft_animals, 0.7), (st_1, 0.65), (diagnostic_CT, 0.65), (diagnostic_AD, 0.6), (sex_male, 0.6), (vospt_discrimination, 0.6), (education_years, 0.55), (rocf_30min, 0.5), (current_age, 0.5), (fcsrt_dif_total, 0.45), (ace3_memory, 0.4), (st_2, 0.4), (cbtt_indirect, 0.35), (rocf_3min, 0.35), (fcsrt_total, 0.35), (sex_female, 0.35), (ace3_language, 0.3), (ace, 0.3), (rocf_time, 0.3), (tmt_a, 0.3), (ace3_visuospatial, 0.25), (vospt_location, 0.25), (ace3_attention, 0.25), (ft_formal, 0.25), (bnt, 0.25), (fcsrt_l1, 0.25), (tlt_total_correct, 0.2), (sdmt, 0.2), (mst_direct, 0.2), (rocf_recognition, 0.2), (tmt_b, 0.15), (fcsrt_lt, 0.15), (vospt_silhouette, 0.15), (cbtt_direct, 0.15), (fcsrt_dif_free, 0.15), (vospt_decision, 0.15), (st_3, 0.1), (rocf_copy, 0.1), (ace3_fluency, 0.1)]   \n",
       "Region=subcortical_l  [(rocf_recognition, 0.95), (education_years, 0.85), (ft_animals, 0.85), (diagnostic_FTD, 0.8), (st_3, 0.7), (ft_formal, 0.65), (rocf_30min, 0.65), (fcsrt_dif_total, 0.65), (st_1, 0.65), (ace3_visuospatial, 0.65), (ace3_language, 0.65), (ace3_fluency, 0.6), (sex_female, 0.6), (mst_indirect, 0.6), (current_age, 0.6), (rocf_copy, 0.55), (diagnostic_AD, 0.55), (mst_direct, 0.55), (sdmt, 0.5), (ace3_attention, 0.5), (st_2, 0.5), (ace, 0.5), (fcsrt_l1, 0.5), (vospt_decision, 0.45), (tmt_a, 0.45), (rocf_time, 0.45), (vospt_location, 0.45), (vospt_discrimination, 0.45), (fcsrt_lt, 0.45), (rocf_3min, 0.45), (bnt, 0.45), (fcsrt_total, 0.45), (sex_male, 0.45), (vospt_silhouette, 0.4), (ace3_memory, 0.4), (fcsrt_dif_free, 0.35), (diagnostic_CT, 0.35), (tmt_b, 0.35), (cbtt_direct, 0.3), (cbtt_indirect, 0.2), (tlt_total_correct, 0.2)]   \n",
       "Region=occipital_r                                                                                                                                [(diagnostic_AD, 0.8), (vospt_discrimination, 0.7), (st_3, 0.55), (tmt_b, 0.5), (ace, 0.5), (rocf_recognition, 0.45), (ace3_language, 0.45), (fcsrt_dif_total, 0.45), (mst_indirect, 0.45), (current_age, 0.4), (cbtt_direct, 0.4), (ace3_attention, 0.4), (diagnostic_FTD, 0.4), (ft_formal, 0.35), (tlt_total_correct, 0.35), (rocf_3min, 0.3), (vospt_location, 0.3), (cbtt_indirect, 0.3), (fcsrt_l1, 0.25), (fcsrt_lt, 0.25), (vospt_decision, 0.25), (rocf_copy, 0.25), (diagnostic_CT, 0.2), (ace3_visuospatial, 0.2), (vospt_silhouette, 0.2), (rocf_30min, 0.2), (bnt, 0.15), (sex_female, 0.15), (tmt_a, 0.15), (fcsrt_total, 0.15), (ace3_memory, 0.15), (sdmt, 0.15), (sex_male, 0.1), (st_2, 0.05), (mst_direct, 0.05)]   \n",
       "Region=insular_r                                                                                                                                                                                                                                                                                                                                                                                         [(diagnostic_FTD, 1.0), (vospt_silhouette, 0.95), (tmt_b, 0.9), (tlt_total_correct, 0.75), (diagnostic_CT, 0.2), (diagnostic_AD, 0.15), (ace3_language, 0.15), (vospt_discrimination, 0.1), (tmt_a, 0.1), (ace3_memory, 0.1), (ace, 0.1), (rocf_time, 0.05), (sex_male, 0.05), (ace3_visuospatial, 0.05), (sex_female, 0.05), (st_2, 0.05), (rocf_30min, 0.05), (current_age, 0.05), (rocf_recognition, 0.05), (fcsrt_dif_free, 0.05), (fcsrt_dif_total, 0.05), (st_1, 0.05)]   \n",
       "Region=occipital_l                                                                                                                                                          [(vospt_discrimination, 0.95), (rocf_30min, 0.9), (mst_indirect, 0.7), (diagnostic_AD, 0.6), (rocf_3min, 0.5), (st_2, 0.45), (fcsrt_l1, 0.35), (diagnostic_FTD, 0.3), (mst_direct, 0.3), (ace3_attention, 0.25), (cbtt_indirect, 0.25), (fcsrt_dif_total, 0.2), (ace3_language, 0.2), (rocf_time, 0.2), (st_3, 0.2), (fcsrt_lt, 0.2), (bnt, 0.15), (ace3_visuospatial, 0.15), (fcsrt_total, 0.15), (ace3_fluency, 0.15), (education_years, 0.15), (ace, 0.15), (sdmt, 0.1), (ace3_memory, 0.1), (fcsrt_dif_free, 0.1), (diagnostic_CT, 0.1), (vospt_location, 0.1), (rocf_recognition, 0.1), (tmt_a, 0.1), (vospt_decision, 0.1), (current_age, 0.05), (rocf_copy, 0.05), (ft_formal, 0.05), (st_1, 0.05)]   \n",
       "Region=frontal_r                                                                                                                                                                                                                                                                                                        [(diagnostic_FTD, 0.8), (cbtt_indirect, 0.8), (diagnostic_AD, 0.35), (diagnostic_CT, 0.3), (fcsrt_dif_total, 0.3), (tlt_total_correct, 0.25), (fcsrt_total, 0.25), (current_age, 0.25), (ft_formal, 0.25), (st_2, 0.2), (sex_male, 0.15), (fcsrt_l1, 0.15), (bnt, 0.15), (mst_indirect, 0.15), (ft_animals, 0.15), (ace3_memory, 0.1), (sex_female, 0.1), (st_3, 0.1), (vospt_silhouette, 0.1), (rocf_copy, 0.1), (vospt_discrimination, 0.05), (sdmt, 0.05), (st_1, 0.05), (education_years, 0.05), (tmt_a, 0.05), (mst_direct, 0.05), (ace3_language, 0.05)]   \n",
       "Region=parietal_r                                                                                                                                                                             [(diagnostic_AD, 0.95), (current_age, 0.8), (rocf_3min, 0.5), (ace3_language, 0.5), (cbtt_indirect, 0.5), (vospt_silhouette, 0.3), (fcsrt_lt, 0.3), (rocf_time, 0.3), (st_2, 0.2), (rocf_30min, 0.15), (ft_formal, 0.15), (tlt_total_correct, 0.15), (ft_animals, 0.15), (rocf_recognition, 0.15), (fcsrt_dif_free, 0.1), (fcsrt_l1, 0.1), (bnt, 0.1), (fcsrt_dif_total, 0.1), (vospt_discrimination, 0.1), (education_years, 0.1), (diagnostic_CT, 0.1), (vospt_location, 0.1), (rocf_copy, 0.05), (ace, 0.05), (tmt_b, 0.05), (sex_female, 0.05), (cbtt_direct, 0.05), (ace3_visuospatial, 0.05), (tmt_a, 0.05), (mst_indirect, 0.05), (vospt_decision, 0.05), (ace3_attention, 0.05)]   \n",
       "\n",
       "                       Avg#  \n",
       "Region=temporal_l      7.05  \n",
       "Region=insular_l       5.65  \n",
       "Region=temporal_r      7.80  \n",
       "Region=parietal_l      8.70  \n",
       "Region=frontal_l       7.85  \n",
       "Region=subcortical_r  14.45  \n",
       "Region=subcortical_l  21.65  \n",
       "Region=occipital_r    10.95  \n",
       "Region=insular_r       5.05  \n",
       "Region=occipital_l     8.45  \n",
       "Region=frontal_r       5.35  \n",
       "Region=parietal_r      6.40  "
      ]
     },
     "execution_count": 12,
     "metadata": {},
     "output_type": "execute_result"
    }
   ],
   "source": [
    "features_lobes"
   ]
  },
  {
   "cell_type": "markdown",
   "metadata": {},
   "source": [
    "Down below, we include a **heatmap indicating the frequency of each feature in predicting each lobe**. The features are ordered by nature (diagnostic features, demographic features and cognitive features -ordered themselves according to the cognitive function measured-), making it easier to see patterns."
   ]
  },
  {
   "cell_type": "code",
   "execution_count": 13,
   "metadata": {},
   "outputs": [
    {
     "data": {
      "text/plain": [
       "<matplotlib.axes._subplots.AxesSubplot at 0xc1c5f08>"
      ]
     },
     "execution_count": 13,
     "metadata": {},
     "output_type": "execute_result"
    },
    {
     "data": {
      "image/png": "[encoded data removed]",
      "text/plain": [
       "<Figure size 1152x288 with 2 Axes>"
      ]
     },
     "metadata": {
      "needs_background": "light"
     },
     "output_type": "display_data"
    }
   ],
   "source": [
    "matplotlib.rcParams['figure.figsize'] = (16,4)\n",
    "seaborn.heatmap(map_lobes,cmap='Greys',xticklabels=True,yticklabels=True)"
   ]
  },
  {
   "cell_type": "markdown",
   "metadata": {
    "heading_collapsed": true
   },
   "source": [
    "### Conclusions"
   ]
  },
  {
   "cell_type": "markdown",
   "metadata": {},
   "source": [
    "We can see that **grouping brain regions into lobes does not improve remarkably our predictions**. In fact, the results obtained are similar to those appearing in the best half of fine-grained prediction. What appears to be happening is that those regions which were best predicted compensate for those regions which were worst predicted. One advantage of doing the coarse-grained prediction is that differences in hypometabolism between lobes are not that pronounced. All lobes have a percentage of hypometabolic patient over 10%, which allows **the variability associated to the predictions to be much lower**.\n",
    "\n",
    "One thing that turns pretty clear is that **left lobes are predicted better than right lobes**. Such tendency was already mentioned in the fine-grained prediction and can be confirmed from a broader perspective. Regarding the comparison between lobes, this discussion is not as rewarding as it was before. In fact, all brain lobes certainly have parcellations with very different correctness of prediction."
   ]
  }
 ],
 "metadata": {
  "kernelspec": {
   "display_name": "Python 3",
   "language": "python",
   "name": "python3"
  },
  "language_info": {
   "codemirror_mode": {
    "name": "ipython",
    "version": 3
   },
   "file_extension": ".py",
   "mimetype": "text/x-python",
   "name": "python",
   "nbconvert_exporter": "python",
   "pygments_lexer": "ipython3",
   "version": "3.7.6"
  }
 },
 "nbformat": 4,
 "nbformat_minor": 4
}
