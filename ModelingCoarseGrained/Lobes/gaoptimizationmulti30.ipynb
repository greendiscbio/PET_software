{
 "cells": [
  {
   "cell_type": "markdown",
   "metadata": {},
   "source": [
    "# Optimization of parameters in genetic algorithms"
   ]
  },
  {
   "cell_type": "markdown",
   "metadata": {},
   "source": [
    "This notebook gathers the results for the parameter optimization made on the multi-objective genetic algorithms, considering a binary threshold of 30."
   ]
  },
  {
   "cell_type": "markdown",
   "metadata": {
    "heading_collapsed": true
   },
   "source": [
    "### Brief explanation"
   ]
  },
  {
   "cell_type": "markdown",
   "metadata": {
    "hidden": true
   },
   "source": [
    "With the previous exploration of parameters, we were able to determine which values resulted in better performances. There was obviously not a unique configuration yielding better results so, for the optimization run, we still allowed some variation. We basically assigned different probabilities of appearence to each of the parameters' values. The parameters, their possible values and their associated probabilities are:\n",
    "\n",
    "- **Algorithm**: ALG1 (NSGA2), ALG2 (SPEA2) ----------------------------------------- Probabilities: 3/4, 1/4\n",
    "- **Estimator**: SVM1 (c=2), SVM2 (c=10), SVM3 (c=50) ------------------------------- Probabilities: 1/3, 1/3, 1/3\n",
    "- **Mutation rate**: MR1 (0.05), MR2 (0.1), MR3 (0.15) ---------------------------------- Probabilities: 4/6, 1/6, 1/6\n",
    "- **Selection**: SE1 (tournament 2-1) , SE2 (tournament 5-2), SE3 (roulette) ------ Probabilities: 2/4, 1/4, 1/4\n",
    "\n",
    "For each lobe, we run 10 models whose parameters are selected according to these probabilities. Each of the models yields a set of solutions and the best is chosen according to accuracy and f1 score in the test dataset."
   ]
  },
  {
   "cell_type": "markdown",
   "metadata": {
    "heading_collapsed": true
   },
   "source": [
    "### Import the packages"
   ]
  },
  {
   "cell_type": "markdown",
   "metadata": {
    "hidden": true
   },
   "source": [
    "We import the packages that will be needed. In this case, everything is already contained in the gatools.py file, that loads submodules of PyWin module."
   ]
  },
  {
   "cell_type": "code",
   "execution_count": 1,
   "metadata": {
    "hidden": true
   },
   "outputs": [],
   "source": [
    "import matplotlib\n",
    "import seaborn\n",
    "import sys\n",
    "sys.path.insert(0,'../../Tools')\n",
    "from orderedlist import *\n",
    "from gatools import *\n",
    "bi = Binarization()\n",
    "mo = Models()"
   ]
  },
  {
   "cell_type": "code",
   "execution_count": 2,
   "metadata": {
    "hidden": true
   },
   "outputs": [],
   "source": [
    "pandas.set_option('display.max_rows', None)\n",
    "pandas.set_option('display.max_columns', None)\n",
    "pandas.set_option('display.width', None)\n",
    "pandas.set_option('display.max_colwidth', None)"
   ]
  },
  {
   "cell_type": "markdown",
   "metadata": {
    "heading_collapsed": true
   },
   "source": [
    "### Preparation of results"
   ]
  },
  {
   "cell_type": "markdown",
   "metadata": {},
   "source": [
    "#### General stuff"
   ]
  },
  {
   "cell_type": "code",
   "execution_count": 3,
   "metadata": {
    "hidden": true
   },
   "outputs": [],
   "source": [
    "qual_lobes = bi.get_binary(pandas.read_csv('../../Data/CoarseGrained/Y_lobes_quan.csv'),30)"
   ]
  },
  {
   "cell_type": "code",
   "execution_count": 4,
   "metadata": {},
   "outputs": [],
   "source": [
    "features = pandas.read_csv('./Optimization_multi_30/optimization_best_features.csv')\n",
    "features_all = pandas.read_csv('./Optimization_multi_30/optimization_features.csv')\n",
    "train = pandas.read_csv('./Optimization_multi_30/optimization_best_train.csv')\n",
    "test = pandas.read_csv('./Optimization_multi_30/optimization_best_test.csv')"
   ]
  },
  {
   "cell_type": "code",
   "execution_count": 5,
   "metadata": {},
   "outputs": [],
   "source": [
    "tasks_lobes = ['_'.join([i.split('_')[-2],i.split('_')[-1]]) for i in list(features['Model'])]"
   ]
  },
  {
   "cell_type": "markdown",
   "metadata": {},
   "source": [
    "#### Metrics"
   ]
  },
  {
   "cell_type": "code",
   "execution_count": 6,
   "metadata": {
    "hidden": true
   },
   "outputs": [],
   "source": [
    "pct_lobes = round(numpy.divide(numpy.sum(qual_lobes),qual_lobes.shape[0]).to_frame().transpose(),3)\n",
    "pct_lobes = pct_lobes.add_prefix('Region=')\n",
    "pct_lobes.index=['percentage_positive']"
   ]
  },
  {
   "cell_type": "code",
   "execution_count": 7,
   "metadata": {},
   "outputs": [],
   "source": [
    "metrics_lobes = pandas.DataFrame()\n",
    "for task in tasks_lobes:\n",
    "    temp_metrics = mo.evaluate_metrics(train,test,task)\n",
    "    try: metrics_lobes = pandas.concat([metrics_lobes,temp_metrics],axis=1)\n",
    "    except: metrics_lobes = temp_metrics"
   ]
  },
  {
   "cell_type": "markdown",
   "metadata": {},
   "source": [
    "#### Features"
   ]
  },
  {
   "cell_type": "code",
   "execution_count": 8,
   "metadata": {},
   "outputs": [],
   "source": [
    "features_lobes = pandas.DataFrame()\n",
    "for task in tasks_lobes:\n",
    "    temp_features = mo.evaluate_features(features,features_all,task)\n",
    "    try: features_lobes = pandas.concat([features_lobes,temp_features],axis=0)\n",
    "    except: features_lobes = temp_features"
   ]
  },
  {
   "cell_type": "code",
   "execution_count": 9,
   "metadata": {},
   "outputs": [],
   "source": [
    "map_lobes = pandas.DataFrame()\n",
    "for task in lobes_list:\n",
    "    try: \n",
    "        temp_map = mo.map_features(features_all,features_list,task)\n",
    "        try: map_lobes = pandas.concat([map_lobes,temp_map],axis=0)\n",
    "        except: map_lobes = temp_map\n",
    "    except: pass"
   ]
  },
  {
   "cell_type": "markdown",
   "metadata": {
    "heading_collapsed": true
   },
   "source": [
    "### Results"
   ]
  },
  {
   "cell_type": "markdown",
   "metadata": {
    "hidden": true
   },
   "source": [
    "Down below we show the **sorted lobes according to accuracy and f1 score**. In the second table, only test information is given (those lobes appearing at the top are the ones with better overall models)."
   ]
  },
  {
   "cell_type": "code",
   "execution_count": 10,
   "metadata": {
    "hidden": true
   },
   "outputs": [
    {
     "data": {
      "text/html": [
       "<div>\n",
       "<style scoped>\n",
       "    .dataframe tbody tr th:only-of-type {\n",
       "        vertical-align: middle;\n",
       "    }\n",
       "\n",
       "    .dataframe tbody tr th {\n",
       "        vertical-align: top;\n",
       "    }\n",
       "\n",
       "    .dataframe thead th {\n",
       "        text-align: right;\n",
       "    }\n",
       "</style>\n",
       "<table border=\"1\" class=\"dataframe\">\n",
       "  <thead>\n",
       "    <tr style=\"text-align: right;\">\n",
       "      <th></th>\n",
       "      <th>Region=temporal_l</th>\n",
       "      <th>Region=insular_l</th>\n",
       "      <th>Region=parietal_l</th>\n",
       "      <th>Region=subcortical_l</th>\n",
       "      <th>Region=subcortical_r</th>\n",
       "      <th>Region=temporal_r</th>\n",
       "      <th>Region=frontal_l</th>\n",
       "      <th>Region=occipital_r</th>\n",
       "      <th>Region=frontal_r</th>\n",
       "      <th>Region=occipital_l</th>\n",
       "      <th>Region=parietal_r</th>\n",
       "      <th>Region=insular_r</th>\n",
       "    </tr>\n",
       "  </thead>\n",
       "  <tbody>\n",
       "    <tr>\n",
       "      <th>accuracy_test</th>\n",
       "      <td>0.804+/-0.038</td>\n",
       "      <td>0.899+/-0.022</td>\n",
       "      <td>0.807+/-0.037</td>\n",
       "      <td>0.904+/-0.028</td>\n",
       "      <td>0.885+/-0.027</td>\n",
       "      <td>0.741+/-0.041</td>\n",
       "      <td>0.799+/-0.036</td>\n",
       "      <td>0.790+/-0.046</td>\n",
       "      <td>0.733+/-0.040</td>\n",
       "      <td>0.768+/-0.039</td>\n",
       "      <td>0.761+/-0.047</td>\n",
       "      <td>0.817+/-0.036</td>\n",
       "    </tr>\n",
       "    <tr>\n",
       "      <th>accuracy_train</th>\n",
       "      <td>0.835+/-0.013</td>\n",
       "      <td>0.925+/-0.007</td>\n",
       "      <td>0.870+/-0.011</td>\n",
       "      <td>0.973+/-0.006</td>\n",
       "      <td>0.919+/-0.009</td>\n",
       "      <td>0.776+/-0.013</td>\n",
       "      <td>0.887+/-0.015</td>\n",
       "      <td>0.884+/-0.013</td>\n",
       "      <td>0.767+/-0.012</td>\n",
       "      <td>0.806+/-0.014</td>\n",
       "      <td>0.829+/-0.014</td>\n",
       "      <td>0.851+/-0.016</td>\n",
       "    </tr>\n",
       "    <tr>\n",
       "      <th>f1_test</th>\n",
       "      <td>0.743+/-0.052</td>\n",
       "      <td>0.605+/-0.076</td>\n",
       "      <td>0.672+/-0.054</td>\n",
       "      <td>0.601+/-0.091</td>\n",
       "      <td>0.598+/-0.078</td>\n",
       "      <td>0.716+/-0.042</td>\n",
       "      <td>0.622+/-0.074</td>\n",
       "      <td>0.606+/-0.076</td>\n",
       "      <td>0.621+/-0.049</td>\n",
       "      <td>0.589+/-0.061</td>\n",
       "      <td>0.606+/-0.070</td>\n",
       "      <td>0.519+/-0.075</td>\n",
       "    </tr>\n",
       "    <tr>\n",
       "      <th>f1_train</th>\n",
       "      <td>0.786+/-0.015</td>\n",
       "      <td>0.699+/-0.022</td>\n",
       "      <td>0.782+/-0.017</td>\n",
       "      <td>0.890+/-0.022</td>\n",
       "      <td>0.716+/-0.025</td>\n",
       "      <td>0.750+/-0.012</td>\n",
       "      <td>0.789+/-0.024</td>\n",
       "      <td>0.779+/-0.020</td>\n",
       "      <td>0.666+/-0.016</td>\n",
       "      <td>0.660+/-0.018</td>\n",
       "      <td>0.716+/-0.022</td>\n",
       "      <td>0.614+/-0.025</td>\n",
       "    </tr>\n",
       "    <tr>\n",
       "      <th>precision_test</th>\n",
       "      <td>0.676+/-0.052</td>\n",
       "      <td>0.536+/-0.088</td>\n",
       "      <td>0.628+/-0.067</td>\n",
       "      <td>0.568+/-0.115</td>\n",
       "      <td>0.518+/-0.087</td>\n",
       "      <td>0.626+/-0.048</td>\n",
       "      <td>0.570+/-0.070</td>\n",
       "      <td>0.506+/-0.072</td>\n",
       "      <td>0.522+/-0.049</td>\n",
       "      <td>0.491+/-0.058</td>\n",
       "      <td>0.547+/-0.074</td>\n",
       "      <td>0.444+/-0.081</td>\n",
       "    </tr>\n",
       "    <tr>\n",
       "      <th>precision_train</th>\n",
       "      <td>0.711+/-0.019</td>\n",
       "      <td>0.617+/-0.029</td>\n",
       "      <td>0.718+/-0.021</td>\n",
       "      <td>0.802+/-0.035</td>\n",
       "      <td>0.612+/-0.035</td>\n",
       "      <td>0.662+/-0.017</td>\n",
       "      <td>0.723+/-0.036</td>\n",
       "      <td>0.652+/-0.026</td>\n",
       "      <td>0.560+/-0.015</td>\n",
       "      <td>0.543+/-0.021</td>\n",
       "      <td>0.647+/-0.025</td>\n",
       "      <td>0.513+/-0.035</td>\n",
       "    </tr>\n",
       "    <tr>\n",
       "      <th>recall_test</th>\n",
       "      <td>0.830+/-0.082</td>\n",
       "      <td>0.709+/-0.114</td>\n",
       "      <td>0.729+/-0.059</td>\n",
       "      <td>0.656+/-0.114</td>\n",
       "      <td>0.730+/-0.128</td>\n",
       "      <td>0.839+/-0.055</td>\n",
       "      <td>0.692+/-0.113</td>\n",
       "      <td>0.763+/-0.114</td>\n",
       "      <td>0.773+/-0.074</td>\n",
       "      <td>0.749+/-0.108</td>\n",
       "      <td>0.685+/-0.084</td>\n",
       "      <td>0.643+/-0.122</td>\n",
       "    </tr>\n",
       "    <tr>\n",
       "      <th>recall_train</th>\n",
       "      <td>0.879+/-0.018</td>\n",
       "      <td>0.808+/-0.029</td>\n",
       "      <td>0.860+/-0.024</td>\n",
       "      <td>1.000+/-0.000</td>\n",
       "      <td>0.868+/-0.043</td>\n",
       "      <td>0.864+/-0.020</td>\n",
       "      <td>0.870+/-0.025</td>\n",
       "      <td>0.967+/-0.017</td>\n",
       "      <td>0.822+/-0.030</td>\n",
       "      <td>0.843+/-0.021</td>\n",
       "      <td>0.803+/-0.028</td>\n",
       "      <td>0.770+/-0.033</td>\n",
       "    </tr>\n",
       "    <tr>\n",
       "      <th>percentage_positive</th>\n",
       "      <td>0.343</td>\n",
       "      <td>0.108</td>\n",
       "      <td>0.271</td>\n",
       "      <td>0.108</td>\n",
       "      <td>0.117</td>\n",
       "      <td>0.389</td>\n",
       "      <td>0.241</td>\n",
       "      <td>0.211</td>\n",
       "      <td>0.283</td>\n",
       "      <td>0.223</td>\n",
       "      <td>0.268</td>\n",
       "      <td>0.154</td>\n",
       "    </tr>\n",
       "  </tbody>\n",
       "</table>\n",
       "</div>"
      ],
      "text/plain": [
       "                    Region=temporal_l Region=insular_l Region=parietal_l  \\\n",
       "accuracy_test           0.804+/-0.038    0.899+/-0.022     0.807+/-0.037   \n",
       "accuracy_train          0.835+/-0.013    0.925+/-0.007     0.870+/-0.011   \n",
       "f1_test                 0.743+/-0.052    0.605+/-0.076     0.672+/-0.054   \n",
       "f1_train                0.786+/-0.015    0.699+/-0.022     0.782+/-0.017   \n",
       "precision_test          0.676+/-0.052    0.536+/-0.088     0.628+/-0.067   \n",
       "precision_train         0.711+/-0.019    0.617+/-0.029     0.718+/-0.021   \n",
       "recall_test             0.830+/-0.082    0.709+/-0.114     0.729+/-0.059   \n",
       "recall_train            0.879+/-0.018    0.808+/-0.029     0.860+/-0.024   \n",
       "percentage_positive             0.343            0.108             0.271   \n",
       "\n",
       "                    Region=subcortical_l Region=subcortical_r  \\\n",
       "accuracy_test              0.904+/-0.028        0.885+/-0.027   \n",
       "accuracy_train             0.973+/-0.006        0.919+/-0.009   \n",
       "f1_test                    0.601+/-0.091        0.598+/-0.078   \n",
       "f1_train                   0.890+/-0.022        0.716+/-0.025   \n",
       "precision_test             0.568+/-0.115        0.518+/-0.087   \n",
       "precision_train            0.802+/-0.035        0.612+/-0.035   \n",
       "recall_test                0.656+/-0.114        0.730+/-0.128   \n",
       "recall_train               1.000+/-0.000        0.868+/-0.043   \n",
       "percentage_positive                0.108                0.117   \n",
       "\n",
       "                    Region=temporal_r Region=frontal_l Region=occipital_r  \\\n",
       "accuracy_test           0.741+/-0.041    0.799+/-0.036      0.790+/-0.046   \n",
       "accuracy_train          0.776+/-0.013    0.887+/-0.015      0.884+/-0.013   \n",
       "f1_test                 0.716+/-0.042    0.622+/-0.074      0.606+/-0.076   \n",
       "f1_train                0.750+/-0.012    0.789+/-0.024      0.779+/-0.020   \n",
       "precision_test          0.626+/-0.048    0.570+/-0.070      0.506+/-0.072   \n",
       "precision_train         0.662+/-0.017    0.723+/-0.036      0.652+/-0.026   \n",
       "recall_test             0.839+/-0.055    0.692+/-0.113      0.763+/-0.114   \n",
       "recall_train            0.864+/-0.020    0.870+/-0.025      0.967+/-0.017   \n",
       "percentage_positive             0.389            0.241              0.211   \n",
       "\n",
       "                    Region=frontal_r Region=occipital_l Region=parietal_r  \\\n",
       "accuracy_test          0.733+/-0.040      0.768+/-0.039     0.761+/-0.047   \n",
       "accuracy_train         0.767+/-0.012      0.806+/-0.014     0.829+/-0.014   \n",
       "f1_test                0.621+/-0.049      0.589+/-0.061     0.606+/-0.070   \n",
       "f1_train               0.666+/-0.016      0.660+/-0.018     0.716+/-0.022   \n",
       "precision_test         0.522+/-0.049      0.491+/-0.058     0.547+/-0.074   \n",
       "precision_train        0.560+/-0.015      0.543+/-0.021     0.647+/-0.025   \n",
       "recall_test            0.773+/-0.074      0.749+/-0.108     0.685+/-0.084   \n",
       "recall_train           0.822+/-0.030      0.843+/-0.021     0.803+/-0.028   \n",
       "percentage_positive            0.283              0.223             0.268   \n",
       "\n",
       "                    Region=insular_r  \n",
       "accuracy_test          0.817+/-0.036  \n",
       "accuracy_train         0.851+/-0.016  \n",
       "f1_test                0.519+/-0.075  \n",
       "f1_train               0.614+/-0.025  \n",
       "precision_test         0.444+/-0.081  \n",
       "precision_train        0.513+/-0.035  \n",
       "recall_test            0.643+/-0.122  \n",
       "recall_train           0.770+/-0.033  \n",
       "percentage_positive            0.154  "
      ]
     },
     "execution_count": 10,
     "metadata": {},
     "output_type": "execute_result"
    }
   ],
   "source": [
    "metrics_pct_lobes = pandas.concat([metrics_lobes,pct_lobes],join='inner')\n",
    "metrics_pct_lobes"
   ]
  },
  {
   "cell_type": "code",
   "execution_count": 11,
   "metadata": {
    "hidden": true
   },
   "outputs": [
    {
     "data": {
      "text/html": [
       "<div>\n",
       "<style scoped>\n",
       "    .dataframe tbody tr th:only-of-type {\n",
       "        vertical-align: middle;\n",
       "    }\n",
       "\n",
       "    .dataframe tbody tr th {\n",
       "        vertical-align: top;\n",
       "    }\n",
       "\n",
       "    .dataframe thead th {\n",
       "        text-align: right;\n",
       "    }\n",
       "</style>\n",
       "<table border=\"1\" class=\"dataframe\">\n",
       "  <thead>\n",
       "    <tr style=\"text-align: right;\">\n",
       "      <th></th>\n",
       "      <th>accuracy_test</th>\n",
       "      <th>f1_test</th>\n",
       "      <th>precision_test</th>\n",
       "      <th>recall_test</th>\n",
       "      <th>percentage_positive</th>\n",
       "    </tr>\n",
       "  </thead>\n",
       "  <tbody>\n",
       "    <tr>\n",
       "      <th>Region=temporal_l</th>\n",
       "      <td>0.804+/-0.038</td>\n",
       "      <td>0.743+/-0.052</td>\n",
       "      <td>0.676+/-0.052</td>\n",
       "      <td>0.830+/-0.082</td>\n",
       "      <td>0.343</td>\n",
       "    </tr>\n",
       "    <tr>\n",
       "      <th>Region=insular_l</th>\n",
       "      <td>0.899+/-0.022</td>\n",
       "      <td>0.605+/-0.076</td>\n",
       "      <td>0.536+/-0.088</td>\n",
       "      <td>0.709+/-0.114</td>\n",
       "      <td>0.108</td>\n",
       "    </tr>\n",
       "    <tr>\n",
       "      <th>Region=parietal_l</th>\n",
       "      <td>0.807+/-0.037</td>\n",
       "      <td>0.672+/-0.054</td>\n",
       "      <td>0.628+/-0.067</td>\n",
       "      <td>0.729+/-0.059</td>\n",
       "      <td>0.271</td>\n",
       "    </tr>\n",
       "    <tr>\n",
       "      <th>Region=subcortical_l</th>\n",
       "      <td>0.904+/-0.028</td>\n",
       "      <td>0.601+/-0.091</td>\n",
       "      <td>0.568+/-0.115</td>\n",
       "      <td>0.656+/-0.114</td>\n",
       "      <td>0.108</td>\n",
       "    </tr>\n",
       "    <tr>\n",
       "      <th>Region=subcortical_r</th>\n",
       "      <td>0.885+/-0.027</td>\n",
       "      <td>0.598+/-0.078</td>\n",
       "      <td>0.518+/-0.087</td>\n",
       "      <td>0.730+/-0.128</td>\n",
       "      <td>0.117</td>\n",
       "    </tr>\n",
       "    <tr>\n",
       "      <th>Region=temporal_r</th>\n",
       "      <td>0.741+/-0.041</td>\n",
       "      <td>0.716+/-0.042</td>\n",
       "      <td>0.626+/-0.048</td>\n",
       "      <td>0.839+/-0.055</td>\n",
       "      <td>0.389</td>\n",
       "    </tr>\n",
       "    <tr>\n",
       "      <th>Region=frontal_l</th>\n",
       "      <td>0.799+/-0.036</td>\n",
       "      <td>0.622+/-0.074</td>\n",
       "      <td>0.570+/-0.070</td>\n",
       "      <td>0.692+/-0.113</td>\n",
       "      <td>0.241</td>\n",
       "    </tr>\n",
       "    <tr>\n",
       "      <th>Region=occipital_r</th>\n",
       "      <td>0.790+/-0.046</td>\n",
       "      <td>0.606+/-0.076</td>\n",
       "      <td>0.506+/-0.072</td>\n",
       "      <td>0.763+/-0.114</td>\n",
       "      <td>0.211</td>\n",
       "    </tr>\n",
       "    <tr>\n",
       "      <th>Region=frontal_r</th>\n",
       "      <td>0.733+/-0.040</td>\n",
       "      <td>0.621+/-0.049</td>\n",
       "      <td>0.522+/-0.049</td>\n",
       "      <td>0.773+/-0.074</td>\n",
       "      <td>0.283</td>\n",
       "    </tr>\n",
       "    <tr>\n",
       "      <th>Region=occipital_l</th>\n",
       "      <td>0.768+/-0.039</td>\n",
       "      <td>0.589+/-0.061</td>\n",
       "      <td>0.491+/-0.058</td>\n",
       "      <td>0.749+/-0.108</td>\n",
       "      <td>0.223</td>\n",
       "    </tr>\n",
       "    <tr>\n",
       "      <th>Region=parietal_r</th>\n",
       "      <td>0.761+/-0.047</td>\n",
       "      <td>0.606+/-0.070</td>\n",
       "      <td>0.547+/-0.074</td>\n",
       "      <td>0.685+/-0.084</td>\n",
       "      <td>0.268</td>\n",
       "    </tr>\n",
       "    <tr>\n",
       "      <th>Region=insular_r</th>\n",
       "      <td>0.817+/-0.036</td>\n",
       "      <td>0.519+/-0.075</td>\n",
       "      <td>0.444+/-0.081</td>\n",
       "      <td>0.643+/-0.122</td>\n",
       "      <td>0.154</td>\n",
       "    </tr>\n",
       "  </tbody>\n",
       "</table>\n",
       "</div>"
      ],
      "text/plain": [
       "                      accuracy_test        f1_test precision_test  \\\n",
       "Region=temporal_l     0.804+/-0.038  0.743+/-0.052  0.676+/-0.052   \n",
       "Region=insular_l      0.899+/-0.022  0.605+/-0.076  0.536+/-0.088   \n",
       "Region=parietal_l     0.807+/-0.037  0.672+/-0.054  0.628+/-0.067   \n",
       "Region=subcortical_l  0.904+/-0.028  0.601+/-0.091  0.568+/-0.115   \n",
       "Region=subcortical_r  0.885+/-0.027  0.598+/-0.078  0.518+/-0.087   \n",
       "Region=temporal_r     0.741+/-0.041  0.716+/-0.042  0.626+/-0.048   \n",
       "Region=frontal_l      0.799+/-0.036  0.622+/-0.074  0.570+/-0.070   \n",
       "Region=occipital_r    0.790+/-0.046  0.606+/-0.076  0.506+/-0.072   \n",
       "Region=frontal_r      0.733+/-0.040  0.621+/-0.049  0.522+/-0.049   \n",
       "Region=occipital_l    0.768+/-0.039  0.589+/-0.061  0.491+/-0.058   \n",
       "Region=parietal_r     0.761+/-0.047  0.606+/-0.070  0.547+/-0.074   \n",
       "Region=insular_r      0.817+/-0.036  0.519+/-0.075  0.444+/-0.081   \n",
       "\n",
       "                        recall_test percentage_positive  \n",
       "Region=temporal_l     0.830+/-0.082               0.343  \n",
       "Region=insular_l      0.709+/-0.114               0.108  \n",
       "Region=parietal_l     0.729+/-0.059               0.271  \n",
       "Region=subcortical_l  0.656+/-0.114               0.108  \n",
       "Region=subcortical_r  0.730+/-0.128               0.117  \n",
       "Region=temporal_r     0.839+/-0.055               0.389  \n",
       "Region=frontal_l      0.692+/-0.113               0.241  \n",
       "Region=occipital_r    0.763+/-0.114               0.211  \n",
       "Region=frontal_r      0.773+/-0.074               0.283  \n",
       "Region=occipital_l    0.749+/-0.108               0.223  \n",
       "Region=parietal_r     0.685+/-0.084               0.268  \n",
       "Region=insular_r      0.643+/-0.122               0.154  "
      ]
     },
     "execution_count": 11,
     "metadata": {},
     "output_type": "execute_result"
    }
   ],
   "source": [
    "metrics_pct_lobes.transpose()[['accuracy_test','f1_test','precision_test','recall_test','percentage_positive']]"
   ]
  },
  {
   "cell_type": "markdown",
   "metadata": {},
   "source": [
    "Down below, we include the **selected features for the best model and the most common features in all the models**."
   ]
  },
  {
   "cell_type": "code",
   "execution_count": 12,
   "metadata": {},
   "outputs": [
    {
     "data": {
      "text/html": [
       "<div>\n",
       "<style scoped>\n",
       "    .dataframe tbody tr th:only-of-type {\n",
       "        vertical-align: middle;\n",
       "    }\n",
       "\n",
       "    .dataframe tbody tr th {\n",
       "        vertical-align: top;\n",
       "    }\n",
       "\n",
       "    .dataframe thead th {\n",
       "        text-align: right;\n",
       "    }\n",
       "</style>\n",
       "<table border=\"1\" class=\"dataframe\">\n",
       "  <thead>\n",
       "    <tr style=\"text-align: right;\">\n",
       "      <th></th>\n",
       "      <th>Features best model</th>\n",
       "      <th>Features all models</th>\n",
       "      <th>Avg#</th>\n",
       "    </tr>\n",
       "  </thead>\n",
       "  <tbody>\n",
       "    <tr>\n",
       "      <th>Region=temporal_l</th>\n",
       "      <td>[diagnostic_CT, fcsrt_l1, tlt_total_correct, fcsrt_dif_total, ace3_memory, st_3, education_years, rocf_recognition, vospt_silhouette]</td>\n",
       "      <td>[(rocf_recognition, 0.96), (education_years, 0.82), (fcsrt_lt, 0.7), (diagnostic_CT, 0.67), (fcsrt_dif_total, 0.3), (st_3, 0.25), (fcsrt_l1, 0.23), (current_age, 0.19), (tlt_total_correct, 0.11), (vospt_silhouette, 0.09), (st_1, 0.05), (ace3_language, 0.05), (ace3_memory, 0.04), (diagnostic_AD, 0.04), (ace3_visuospatial, 0.04), (sdmt, 0.02), (ace3_attention, 0.02), (mst_indirect, 0.02), (cbtt_indirect, 0.02), (diagnostic_FTD, 0.02), (ace, 0.02), (rocf_copy, 0.02)]</td>\n",
       "      <td>4.65</td>\n",
       "    </tr>\n",
       "    <tr>\n",
       "      <th>Region=insular_l</th>\n",
       "      <td>[tlt_total_correct, diagnostic_FTD, rocf_recognition, ace3_language, st_1, rocf_time, ace, mst_direct, education_years, rocf_30min]</td>\n",
       "      <td>[(diagnostic_FTD, 1.0), (tlt_total_correct, 0.98), (rocf_time, 0.64), (rocf_3min, 0.31), (st_1, 0.26), (ace3_language, 0.19), (rocf_recognition, 0.17), (rocf_30min, 0.12), (rocf_copy, 0.1), (mst_direct, 0.1), (education_years, 0.07), (ace, 0.05), (ace3_visuospatial, 0.05), (st_2, 0.02), (ace3_memory, 0.02), (sdmt, 0.02), (ace3_fluency, 0.02)]</td>\n",
       "      <td>4.12</td>\n",
       "    </tr>\n",
       "    <tr>\n",
       "      <th>Region=parietal_l</th>\n",
       "      <td>[education_years, ft_animals, st_3, rocf_recognition, fcsrt_dif_total, mst_direct, rocf_3min, vospt_silhouette, fcsrt_total]</td>\n",
       "      <td>[(st_3, 1.0), (diagnostic_AD, 0.79), (ace3_fluency, 0.62), (sex_male, 0.25), (fcsrt_dif_total, 0.23), (rocf_recognition, 0.21), (tmt_b, 0.17), (vospt_silhouette, 0.17), (education_years, 0.13), (sex_female, 0.12), (rocf_3min, 0.12), (mst_direct, 0.1), (ft_formal, 0.06), (ace3_language, 0.04), (tmt_a, 0.04), (current_age, 0.04), (st_1, 0.04), (diagnostic_CT, 0.04), (tlt_total_correct, 0.04), (ft_animals, 0.04), (rocf_copy, 0.02), (fcsrt_dif_free, 0.02), (diagnostic_FTD, 0.02), (rocf_30min, 0.02), (rocf_time, 0.02), (fcsrt_total, 0.02), (vospt_decision, 0.02)]</td>\n",
       "      <td>4.37</td>\n",
       "    </tr>\n",
       "    <tr>\n",
       "      <th>Region=subcortical_l</th>\n",
       "      <td>[st_1, vospt_decision, rocf_recognition, ace3_fluency, rocf_time, vospt_location, sex_male, ace3_visuospatial, ft_animals, diagnostic_FTD]</td>\n",
       "      <td>[(diagnostic_FTD, 0.85), (rocf_recognition, 0.72), (ft_animals, 0.46), (current_age, 0.46), (ace3_language, 0.41), (education_years, 0.3), (ace3_fluency, 0.3), (st_1, 0.3), (vospt_location, 0.26), (vospt_decision, 0.26), (sex_male, 0.24), (ace3_visuospatial, 0.22), (mst_direct, 0.22), (rocf_copy, 0.2), (ft_formal, 0.2), (diagnostic_AD, 0.17), (vospt_silhouette, 0.17), (st_3, 0.15), (rocf_30min, 0.15), (rocf_time, 0.13), (fcsrt_total, 0.13), (st_2, 0.11), (sdmt, 0.11), (mst_indirect, 0.11), (sex_female, 0.11), (tlt_total_correct, 0.09), (ace, 0.09), (fcsrt_dif_free, 0.09), (fcsrt_lt, 0.07), (rocf_3min, 0.07), (diagnostic_CT, 0.07), (fcsrt_l1, 0.07), (ace3_attention, 0.07), (cbtt_indirect, 0.04), (vospt_discrimination, 0.04), (tmt_b, 0.04), (fcsrt_dif_total, 0.04), (tmt_a, 0.04), (ace3_memory, 0.02), (cbtt_direct, 0.02)]</td>\n",
       "      <td>7.59</td>\n",
       "    </tr>\n",
       "    <tr>\n",
       "      <th>Region=subcortical_r</th>\n",
       "      <td>[diagnostic_FTD, ft_animals, sex_female, diagnostic_AD, mst_indirect, education_years, rocf_3min, st_1, vospt_discrimination]</td>\n",
       "      <td>[(diagnostic_FTD, 0.94), (ft_animals, 0.67), (mst_indirect, 0.67), (education_years, 0.59), (st_1, 0.41), (sex_male, 0.33), (diagnostic_AD, 0.29), (sex_female, 0.22), (fcsrt_total, 0.16), (ace3_memory, 0.16), (diagnostic_CT, 0.16), (vospt_discrimination, 0.14), (rocf_3min, 0.13), (current_age, 0.11), (rocf_30min, 0.08), (tmt_a, 0.08), (mst_direct, 0.08), (ace, 0.05), (ace3_visuospatial, 0.05), (tlt_total_correct, 0.05), (fcsrt_dif_total, 0.05), (st_2, 0.03), (cbtt_indirect, 0.03), (rocf_time, 0.03), (sdmt, 0.02), (ace3_attention, 0.02), (rocf_recognition, 0.02), (fcsrt_dif_free, 0.02)]</td>\n",
       "      <td>5.56</td>\n",
       "    </tr>\n",
       "    <tr>\n",
       "      <th>Region=temporal_r</th>\n",
       "      <td>[diagnostic_CT, st_3, vospt_silhouette, rocf_30min, diagnostic_AD, diagnostic_FTD, st_2, rocf_3min]</td>\n",
       "      <td>[(rocf_30min, 0.96), (diagnostic_CT, 0.88), (st_3, 0.53), (diagnostic_AD, 0.42), (st_2, 0.42), (vospt_silhouette, 0.39), (mst_indirect, 0.26), (diagnostic_FTD, 0.23), (rocf_3min, 0.16), (rocf_recognition, 0.12), (current_age, 0.07), (ace3_attention, 0.07), (ace3_memory, 0.07), (rocf_copy, 0.05), (ace3_language, 0.05), (tlt_total_correct, 0.02), (vospt_location, 0.02), (ace3_visuospatial, 0.02), (fcsrt_total, 0.02), (sex_male, 0.02), (sex_female, 0.02), (sdmt, 0.02), (bnt, 0.02), (ft_formal, 0.02), (st_1, 0.02)]</td>\n",
       "      <td>4.86</td>\n",
       "    </tr>\n",
       "    <tr>\n",
       "      <th>Region=frontal_l</th>\n",
       "      <td>[tlt_total_correct, current_age, diagnostic_FTD, fcsrt_l1, mst_direct, ace3_visuospatial, ace3_memory, ft_formal, cbtt_indirect, rocf_recognition, education_years, bnt]</td>\n",
       "      <td>[(diagnostic_FTD, 1.0), (cbtt_indirect, 0.86), (education_years, 0.54), (mst_direct, 0.51), (ace3_memory, 0.35), (tlt_total_correct, 0.32), (st_3, 0.24), (fcsrt_l1, 0.22), (vospt_silhouette, 0.14), (bnt, 0.11), (mst_indirect, 0.11), (st_1, 0.11), (ace3_language, 0.08), (rocf_3min, 0.08), (ace, 0.08), (ace3_visuospatial, 0.05), (rocf_recognition, 0.05), (current_age, 0.03), (ft_formal, 0.03), (diagnostic_CT, 0.03), (cbtt_direct, 0.03)]</td>\n",
       "      <td>4.97</td>\n",
       "    </tr>\n",
       "    <tr>\n",
       "      <th>Region=occipital_r</th>\n",
       "      <td>[st_2, ace3_language, diagnostic_FTD, bnt, tlt_total_correct, diagnostic_AD, mst_indirect, vospt_discrimination, cbtt_direct, ft_formal, diagnostic_CT, st_3, vospt_decision, fcsrt_dif_total]</td>\n",
       "      <td>[(diagnostic_AD, 0.95), (vospt_discrimination, 0.54), (st_3, 0.46), (cbtt_direct, 0.38), (rocf_30min, 0.34), (current_age, 0.34), (rocf_3min, 0.26), (ft_formal, 0.18), (fcsrt_dif_total, 0.16), (cbtt_indirect, 0.16), (fcsrt_lt, 0.15), (rocf_recognition, 0.15), (ace, 0.13), (ace3_language, 0.11), (rocf_copy, 0.11), (tmt_b, 0.1), (sex_male, 0.1), (mst_indirect, 0.08), (tlt_total_correct, 0.08), (diagnostic_FTD, 0.07), (vospt_location, 0.05), (ace3_memory, 0.05), (ace3_visuospatial, 0.03), (mst_direct, 0.03), (ace3_attention, 0.03), (bnt, 0.03), (st_1, 0.02), (sdmt, 0.02), (fcsrt_l1, 0.02), (fcsrt_dif_free, 0.02), (vospt_silhouette, 0.02), (ace3_fluency, 0.02), (fcsrt_total, 0.02), (ft_animals, 0.02), (st_2, 0.02), (diagnostic_CT, 0.02), (vospt_decision, 0.02)]</td>\n",
       "      <td>5.28</td>\n",
       "    </tr>\n",
       "    <tr>\n",
       "      <th>Region=frontal_r</th>\n",
       "      <td>[current_age, sex_female, diagnostic_FTD, sex_male, fcsrt_dif_total, tlt_total_correct, cbtt_indirect]</td>\n",
       "      <td>[(cbtt_indirect, 1.0), (diagnostic_FTD, 0.95), (tlt_total_correct, 0.36), (fcsrt_dif_total, 0.33), (current_age, 0.31), (sex_female, 0.21), (sex_male, 0.18), (fcsrt_total, 0.13), (bnt, 0.13), (fcsrt_l1, 0.13), (st_2, 0.13), (st_3, 0.13), (ft_formal, 0.1), (vospt_location, 0.1), (mst_direct, 0.08), (ace3_fluency, 0.08), (ft_animals, 0.08), (diagnostic_AD, 0.05), (diagnostic_CT, 0.05), (ace3_visuospatial, 0.03), (ace3_memory, 0.03), (mst_indirect, 0.03), (sdmt, 0.03), (rocf_3min, 0.03), (tmt_a, 0.03), (fcsrt_dif_free, 0.03), (ace3_language, 0.03)]</td>\n",
       "      <td>4.72</td>\n",
       "    </tr>\n",
       "    <tr>\n",
       "      <th>Region=occipital_l</th>\n",
       "      <td>[rocf_30min, tlt_total_correct, vospt_discrimination, fcsrt_lt]</td>\n",
       "      <td>[(vospt_discrimination, 0.92), (rocf_30min, 0.75), (diagnostic_AD, 0.65), (fcsrt_lt, 0.35), (mst_indirect, 0.27), (fcsrt_l1, 0.25), (rocf_3min, 0.25), (rocf_time, 0.17), (education_years, 0.15), (tlt_total_correct, 0.08), (st_3, 0.08), (fcsrt_dif_total, 0.08), (cbtt_indirect, 0.08), (tmt_a, 0.06), (ace3_fluency, 0.06), (rocf_recognition, 0.06), (diagnostic_FTD, 0.06), (ace, 0.04), (mst_direct, 0.04), (ace3_visuospatial, 0.02), (fcsrt_total, 0.02), (vospt_silhouette, 0.02), (ft_formal, 0.02), (st_1, 0.02), (diagnostic_CT, 0.02), (vospt_location, 0.02), (tmt_b, 0.02), (fcsrt_dif_free, 0.02), (st_2, 0.02)]</td>\n",
       "      <td>4.58</td>\n",
       "    </tr>\n",
       "    <tr>\n",
       "      <th>Region=parietal_r</th>\n",
       "      <td>[rocf_time, rocf_3min, ace3_language, vospt_silhouette, cbtt_direct, diagnostic_AD, st_1, fcsrt_dif_total, current_age]</td>\n",
       "      <td>[(diagnostic_AD, 0.93), (current_age, 0.76), (rocf_3min, 0.47), (ace3_language, 0.4), (rocf_time, 0.36), (cbtt_indirect, 0.33), (fcsrt_lt, 0.28), (vospt_silhouette, 0.17), (rocf_copy, 0.16), (cbtt_direct, 0.14), (tlt_total_correct, 0.12), (education_years, 0.1), (fcsrt_dif_total, 0.09), (fcsrt_dif_free, 0.09), (st_2, 0.07), (st_1, 0.07), (rocf_recognition, 0.05), (ft_animals, 0.05), (rocf_30min, 0.05), (ft_formal, 0.05), (ace, 0.03), (ace3_attention, 0.03), (vospt_location, 0.03), (fcsrt_total, 0.03), (ace3_visuospatial, 0.02), (diagnostic_FTD, 0.02), (tmt_a, 0.02), (diagnostic_CT, 0.02), (vospt_decision, 0.02), (mst_direct, 0.02), (bnt, 0.02), (ace3_memory, 0.02)]</td>\n",
       "      <td>5.00</td>\n",
       "    </tr>\n",
       "    <tr>\n",
       "      <th>Region=insular_r</th>\n",
       "      <td>[tmt_b, rocf_time, diagnostic_FTD, vospt_silhouette]</td>\n",
       "      <td>[(diagnostic_FTD, 1.0), (tmt_b, 0.63), (vospt_silhouette, 0.6), (tlt_total_correct, 0.57), (rocf_time, 0.2), (diagnostic_CT, 0.17), (diagnostic_AD, 0.1), (fcsrt_dif_free, 0.1), (st_3, 0.07), (vospt_decision, 0.07), (fcsrt_l1, 0.03), (mst_direct, 0.03), (fcsrt_lt, 0.03), (mst_indirect, 0.03), (sex_male, 0.03)]</td>\n",
       "      <td>3.67</td>\n",
       "    </tr>\n",
       "  </tbody>\n",
       "</table>\n",
       "</div>"
      ],
      "text/plain": [
       "                                                                                                                                                                                                 Features best model  \\\n",
       "Region=temporal_l                                                              [diagnostic_CT, fcsrt_l1, tlt_total_correct, fcsrt_dif_total, ace3_memory, st_3, education_years, rocf_recognition, vospt_silhouette]   \n",
       "Region=insular_l                                                                 [tlt_total_correct, diagnostic_FTD, rocf_recognition, ace3_language, st_1, rocf_time, ace, mst_direct, education_years, rocf_30min]   \n",
       "Region=parietal_l                                                                       [education_years, ft_animals, st_3, rocf_recognition, fcsrt_dif_total, mst_direct, rocf_3min, vospt_silhouette, fcsrt_total]   \n",
       "Region=subcortical_l                                                      [st_1, vospt_decision, rocf_recognition, ace3_fluency, rocf_time, vospt_location, sex_male, ace3_visuospatial, ft_animals, diagnostic_FTD]   \n",
       "Region=subcortical_r                                                                   [diagnostic_FTD, ft_animals, sex_female, diagnostic_AD, mst_indirect, education_years, rocf_3min, st_1, vospt_discrimination]   \n",
       "Region=temporal_r                                                                                                [diagnostic_CT, st_3, vospt_silhouette, rocf_30min, diagnostic_AD, diagnostic_FTD, st_2, rocf_3min]   \n",
       "Region=frontal_l                            [tlt_total_correct, current_age, diagnostic_FTD, fcsrt_l1, mst_direct, ace3_visuospatial, ace3_memory, ft_formal, cbtt_indirect, rocf_recognition, education_years, bnt]   \n",
       "Region=occipital_r    [st_2, ace3_language, diagnostic_FTD, bnt, tlt_total_correct, diagnostic_AD, mst_indirect, vospt_discrimination, cbtt_direct, ft_formal, diagnostic_CT, st_3, vospt_decision, fcsrt_dif_total]   \n",
       "Region=frontal_r                                                                                              [current_age, sex_female, diagnostic_FTD, sex_male, fcsrt_dif_total, tlt_total_correct, cbtt_indirect]   \n",
       "Region=occipital_l                                                                                                                                   [rocf_30min, tlt_total_correct, vospt_discrimination, fcsrt_lt]   \n",
       "Region=parietal_r                                                                            [rocf_time, rocf_3min, ace3_language, vospt_silhouette, cbtt_direct, diagnostic_AD, st_1, fcsrt_dif_total, current_age]   \n",
       "Region=insular_r                                                                                                                                                [tmt_b, rocf_time, diagnostic_FTD, vospt_silhouette]   \n",
       "\n",
       "                                                                                                                                                                                                                                                                                                                                                                                                                                                                                                                                                                                                                                                                                                                                                                                                                                                                 Features all models  \\\n",
       "Region=temporal_l                                                                                                                                                                                                                                                                                                                                                                               [(rocf_recognition, 0.96), (education_years, 0.82), (fcsrt_lt, 0.7), (diagnostic_CT, 0.67), (fcsrt_dif_total, 0.3), (st_3, 0.25), (fcsrt_l1, 0.23), (current_age, 0.19), (tlt_total_correct, 0.11), (vospt_silhouette, 0.09), (st_1, 0.05), (ace3_language, 0.05), (ace3_memory, 0.04), (diagnostic_AD, 0.04), (ace3_visuospatial, 0.04), (sdmt, 0.02), (ace3_attention, 0.02), (mst_indirect, 0.02), (cbtt_indirect, 0.02), (diagnostic_FTD, 0.02), (ace, 0.02), (rocf_copy, 0.02)]   \n",
       "Region=insular_l                                                                                                                                                                                                                                                                                                                                                                                                                                                                                                            [(diagnostic_FTD, 1.0), (tlt_total_correct, 0.98), (rocf_time, 0.64), (rocf_3min, 0.31), (st_1, 0.26), (ace3_language, 0.19), (rocf_recognition, 0.17), (rocf_30min, 0.12), (rocf_copy, 0.1), (mst_direct, 0.1), (education_years, 0.07), (ace, 0.05), (ace3_visuospatial, 0.05), (st_2, 0.02), (ace3_memory, 0.02), (sdmt, 0.02), (ace3_fluency, 0.02)]   \n",
       "Region=parietal_l                                                                                                                                                                                                                                                                               [(st_3, 1.0), (diagnostic_AD, 0.79), (ace3_fluency, 0.62), (sex_male, 0.25), (fcsrt_dif_total, 0.23), (rocf_recognition, 0.21), (tmt_b, 0.17), (vospt_silhouette, 0.17), (education_years, 0.13), (sex_female, 0.12), (rocf_3min, 0.12), (mst_direct, 0.1), (ft_formal, 0.06), (ace3_language, 0.04), (tmt_a, 0.04), (current_age, 0.04), (st_1, 0.04), (diagnostic_CT, 0.04), (tlt_total_correct, 0.04), (ft_animals, 0.04), (rocf_copy, 0.02), (fcsrt_dif_free, 0.02), (diagnostic_FTD, 0.02), (rocf_30min, 0.02), (rocf_time, 0.02), (fcsrt_total, 0.02), (vospt_decision, 0.02)]   \n",
       "Region=subcortical_l  [(diagnostic_FTD, 0.85), (rocf_recognition, 0.72), (ft_animals, 0.46), (current_age, 0.46), (ace3_language, 0.41), (education_years, 0.3), (ace3_fluency, 0.3), (st_1, 0.3), (vospt_location, 0.26), (vospt_decision, 0.26), (sex_male, 0.24), (ace3_visuospatial, 0.22), (mst_direct, 0.22), (rocf_copy, 0.2), (ft_formal, 0.2), (diagnostic_AD, 0.17), (vospt_silhouette, 0.17), (st_3, 0.15), (rocf_30min, 0.15), (rocf_time, 0.13), (fcsrt_total, 0.13), (st_2, 0.11), (sdmt, 0.11), (mst_indirect, 0.11), (sex_female, 0.11), (tlt_total_correct, 0.09), (ace, 0.09), (fcsrt_dif_free, 0.09), (fcsrt_lt, 0.07), (rocf_3min, 0.07), (diagnostic_CT, 0.07), (fcsrt_l1, 0.07), (ace3_attention, 0.07), (cbtt_indirect, 0.04), (vospt_discrimination, 0.04), (tmt_b, 0.04), (fcsrt_dif_total, 0.04), (tmt_a, 0.04), (ace3_memory, 0.02), (cbtt_direct, 0.02)]   \n",
       "Region=subcortical_r                                                                                                                                                                                                                                                [(diagnostic_FTD, 0.94), (ft_animals, 0.67), (mst_indirect, 0.67), (education_years, 0.59), (st_1, 0.41), (sex_male, 0.33), (diagnostic_AD, 0.29), (sex_female, 0.22), (fcsrt_total, 0.16), (ace3_memory, 0.16), (diagnostic_CT, 0.16), (vospt_discrimination, 0.14), (rocf_3min, 0.13), (current_age, 0.11), (rocf_30min, 0.08), (tmt_a, 0.08), (mst_direct, 0.08), (ace, 0.05), (ace3_visuospatial, 0.05), (tlt_total_correct, 0.05), (fcsrt_dif_total, 0.05), (st_2, 0.03), (cbtt_indirect, 0.03), (rocf_time, 0.03), (sdmt, 0.02), (ace3_attention, 0.02), (rocf_recognition, 0.02), (fcsrt_dif_free, 0.02)]   \n",
       "Region=temporal_r                                                                                                                                                                                                                                                                                                                               [(rocf_30min, 0.96), (diagnostic_CT, 0.88), (st_3, 0.53), (diagnostic_AD, 0.42), (st_2, 0.42), (vospt_silhouette, 0.39), (mst_indirect, 0.26), (diagnostic_FTD, 0.23), (rocf_3min, 0.16), (rocf_recognition, 0.12), (current_age, 0.07), (ace3_attention, 0.07), (ace3_memory, 0.07), (rocf_copy, 0.05), (ace3_language, 0.05), (tlt_total_correct, 0.02), (vospt_location, 0.02), (ace3_visuospatial, 0.02), (fcsrt_total, 0.02), (sex_male, 0.02), (sex_female, 0.02), (sdmt, 0.02), (bnt, 0.02), (ft_formal, 0.02), (st_1, 0.02)]   \n",
       "Region=frontal_l                                                                                                                                                                                                                                                                                                                                                                                                              [(diagnostic_FTD, 1.0), (cbtt_indirect, 0.86), (education_years, 0.54), (mst_direct, 0.51), (ace3_memory, 0.35), (tlt_total_correct, 0.32), (st_3, 0.24), (fcsrt_l1, 0.22), (vospt_silhouette, 0.14), (bnt, 0.11), (mst_indirect, 0.11), (st_1, 0.11), (ace3_language, 0.08), (rocf_3min, 0.08), (ace, 0.08), (ace3_visuospatial, 0.05), (rocf_recognition, 0.05), (current_age, 0.03), (ft_formal, 0.03), (diagnostic_CT, 0.03), (cbtt_direct, 0.03)]   \n",
       "Region=occipital_r                                                                   [(diagnostic_AD, 0.95), (vospt_discrimination, 0.54), (st_3, 0.46), (cbtt_direct, 0.38), (rocf_30min, 0.34), (current_age, 0.34), (rocf_3min, 0.26), (ft_formal, 0.18), (fcsrt_dif_total, 0.16), (cbtt_indirect, 0.16), (fcsrt_lt, 0.15), (rocf_recognition, 0.15), (ace, 0.13), (ace3_language, 0.11), (rocf_copy, 0.11), (tmt_b, 0.1), (sex_male, 0.1), (mst_indirect, 0.08), (tlt_total_correct, 0.08), (diagnostic_FTD, 0.07), (vospt_location, 0.05), (ace3_memory, 0.05), (ace3_visuospatial, 0.03), (mst_direct, 0.03), (ace3_attention, 0.03), (bnt, 0.03), (st_1, 0.02), (sdmt, 0.02), (fcsrt_l1, 0.02), (fcsrt_dif_free, 0.02), (vospt_silhouette, 0.02), (ace3_fluency, 0.02), (fcsrt_total, 0.02), (ft_animals, 0.02), (st_2, 0.02), (diagnostic_CT, 0.02), (vospt_decision, 0.02)]   \n",
       "Region=frontal_r                                                                                                                                                                                                                                                                                             [(cbtt_indirect, 1.0), (diagnostic_FTD, 0.95), (tlt_total_correct, 0.36), (fcsrt_dif_total, 0.33), (current_age, 0.31), (sex_female, 0.21), (sex_male, 0.18), (fcsrt_total, 0.13), (bnt, 0.13), (fcsrt_l1, 0.13), (st_2, 0.13), (st_3, 0.13), (ft_formal, 0.1), (vospt_location, 0.1), (mst_direct, 0.08), (ace3_fluency, 0.08), (ft_animals, 0.08), (diagnostic_AD, 0.05), (diagnostic_CT, 0.05), (ace3_visuospatial, 0.03), (ace3_memory, 0.03), (mst_indirect, 0.03), (sdmt, 0.03), (rocf_3min, 0.03), (tmt_a, 0.03), (fcsrt_dif_free, 0.03), (ace3_language, 0.03)]   \n",
       "Region=occipital_l                                                                                                                                                                                                                                [(vospt_discrimination, 0.92), (rocf_30min, 0.75), (diagnostic_AD, 0.65), (fcsrt_lt, 0.35), (mst_indirect, 0.27), (fcsrt_l1, 0.25), (rocf_3min, 0.25), (rocf_time, 0.17), (education_years, 0.15), (tlt_total_correct, 0.08), (st_3, 0.08), (fcsrt_dif_total, 0.08), (cbtt_indirect, 0.08), (tmt_a, 0.06), (ace3_fluency, 0.06), (rocf_recognition, 0.06), (diagnostic_FTD, 0.06), (ace, 0.04), (mst_direct, 0.04), (ace3_visuospatial, 0.02), (fcsrt_total, 0.02), (vospt_silhouette, 0.02), (ft_formal, 0.02), (st_1, 0.02), (diagnostic_CT, 0.02), (vospt_location, 0.02), (tmt_b, 0.02), (fcsrt_dif_free, 0.02), (st_2, 0.02)]   \n",
       "Region=parietal_r                                                                                                                                                                  [(diagnostic_AD, 0.93), (current_age, 0.76), (rocf_3min, 0.47), (ace3_language, 0.4), (rocf_time, 0.36), (cbtt_indirect, 0.33), (fcsrt_lt, 0.28), (vospt_silhouette, 0.17), (rocf_copy, 0.16), (cbtt_direct, 0.14), (tlt_total_correct, 0.12), (education_years, 0.1), (fcsrt_dif_total, 0.09), (fcsrt_dif_free, 0.09), (st_2, 0.07), (st_1, 0.07), (rocf_recognition, 0.05), (ft_animals, 0.05), (rocf_30min, 0.05), (ft_formal, 0.05), (ace, 0.03), (ace3_attention, 0.03), (vospt_location, 0.03), (fcsrt_total, 0.03), (ace3_visuospatial, 0.02), (diagnostic_FTD, 0.02), (tmt_a, 0.02), (diagnostic_CT, 0.02), (vospt_decision, 0.02), (mst_direct, 0.02), (bnt, 0.02), (ace3_memory, 0.02)]   \n",
       "Region=insular_r                                                                                                                                                                                                                                                                                                                                                                                                                                                                                                                                              [(diagnostic_FTD, 1.0), (tmt_b, 0.63), (vospt_silhouette, 0.6), (tlt_total_correct, 0.57), (rocf_time, 0.2), (diagnostic_CT, 0.17), (diagnostic_AD, 0.1), (fcsrt_dif_free, 0.1), (st_3, 0.07), (vospt_decision, 0.07), (fcsrt_l1, 0.03), (mst_direct, 0.03), (fcsrt_lt, 0.03), (mst_indirect, 0.03), (sex_male, 0.03)]   \n",
       "\n",
       "                      Avg#  \n",
       "Region=temporal_l     4.65  \n",
       "Region=insular_l      4.12  \n",
       "Region=parietal_l     4.37  \n",
       "Region=subcortical_l  7.59  \n",
       "Region=subcortical_r  5.56  \n",
       "Region=temporal_r     4.86  \n",
       "Region=frontal_l      4.97  \n",
       "Region=occipital_r    5.28  \n",
       "Region=frontal_r      4.72  \n",
       "Region=occipital_l    4.58  \n",
       "Region=parietal_r     5.00  \n",
       "Region=insular_r      3.67  "
      ]
     },
     "execution_count": 12,
     "metadata": {},
     "output_type": "execute_result"
    }
   ],
   "source": [
    "features_lobes"
   ]
  },
  {
   "cell_type": "markdown",
   "metadata": {},
   "source": [
    "Down below, we include a **heatmap indicating the frequency of each feature in predicting each lobe**. The features are ordered by nature (diagnostic features, demographic features and cognitive features -ordered themselves according to the cognitive function measured-), making it easier to see patterns."
   ]
  },
  {
   "cell_type": "code",
   "execution_count": 13,
   "metadata": {},
   "outputs": [
    {
     "data": {
      "text/plain": [
       "<matplotlib.axes._subplots.AxesSubplot at 0xc1e1ac8>"
      ]
     },
     "execution_count": 13,
     "metadata": {},
     "output_type": "execute_result"
    },
    {
     "data": {
      "image/png": "[encoded data removed]",
      "text/plain": [
       "<Figure size 1152x288 with 2 Axes>"
      ]
     },
     "metadata": {
      "needs_background": "light"
     },
     "output_type": "display_data"
    }
   ],
   "source": [
    "matplotlib.rcParams['figure.figsize'] = (16,4)\n",
    "seaborn.heatmap(map_lobes,cmap='Greys',xticklabels=True,yticklabels=True)"
   ]
  },
  {
   "cell_type": "markdown",
   "metadata": {
    "heading_collapsed": true
   },
   "source": [
    "### Conclusions"
   ]
  },
  {
   "cell_type": "markdown",
   "metadata": {},
   "source": [
    "We can see that **grouping brain regions into lobes does not improve remarkably our predictions**. In fact, the results obtained are similar to those appearing in the best half of fine-grained prediction. What appears to be happening is that those regions which were best predicted compensate for those regions which were worst predicted. One advantage of doing the coarse-grained prediction is that differences in hypometabolism between lobes are not that pronounced. All lobes have a percentage of hypometabolic patient over 10%, which allows **the variability associated to the predictions to be much lower**.\n",
    "\n",
    "One thing that turns pretty clear is that **left lobes are predicted better than right lobes**. Such tendency was already mentioned in the fine-grained prediction and can be confirmed from a broader perspective. Regarding the comparison between lobes, this discussion is not as rewarding as it was before. In fact, all brain lobes certainly have parcellations with very different correctness of prediction.\n",
    "\n",
    "As for the features selected in the prediction of each brain lobe, it is clear how **knowing whether a patient has Frontotemporal dementia is vital for predicting the frontal and insular lobes and subcortical region** while **knowing whether a patient has Alzheimer's disease is vital for predicting the parietal and occipital lobe**. Since the temporal lobe is involved in both diseases, it is more important to know whether the patient has any of the diseases. Some outstanding relations are those that link the frontal lobe with cbtt_indirect, the parietal lobe with st_3, the occipital lobe with vospt_discrimination, the temporal lobe with rocf_time or rocf_recognition, and the insular lobe with tlt_total_correct."
   ]
  }
 ],
 "metadata": {
  "kernelspec": {
   "display_name": "Python 3",
   "language": "python",
   "name": "python3"
  },
  "language_info": {
   "codemirror_mode": {
    "name": "ipython",
    "version": 3
   },
   "file_extension": ".py",
   "mimetype": "text/x-python",
   "name": "python",
   "nbconvert_exporter": "python",
   "pygments_lexer": "ipython3",
   "version": "3.7.6"
  }
 },
 "nbformat": 4,
 "nbformat_minor": 4
}
