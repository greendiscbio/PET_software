{
 "cells": [
  {
   "cell_type": "markdown",
   "metadata": {},
   "source": [
    "# Prediction with genetic algorithms and correction with probabilistic rules"
   ]
  },
  {
   "cell_type": "markdown",
   "metadata": {},
   "source": [
    "This notebook gathers the results for the predictions made on the multi-objective genetic algorithms, considering a binary threshold of 100, and the later correction using probabilistic rules."
   ]
  },
  {
   "cell_type": "markdown",
   "metadata": {},
   "source": [
    "### Brief explanation"
   ]
  },
  {
   "cell_type": "markdown",
   "metadata": {},
   "source": [
    "With the already chosen best models, we predicted hypometabolism for the patients in our database. By predicting each brain region independently, we created a whole brain map. However, and since variability was a big deal in some regions, we performed 10 predictions per region, which led to 10 different brain maps. For each of them, absolute and normalised probabilistic rules were applied. Eventually, consensus brain maps were calculated before and after rule application. The relevance threshold, which determines how strict we are in considering rules, has been set as a parameter varying from 0.5 to 1."
   ]
  },
  {
   "cell_type": "markdown",
   "metadata": {},
   "source": [
    "### Import the packages"
   ]
  },
  {
   "cell_type": "markdown",
   "metadata": {},
   "source": [
    "We import the packages that will be needed. In this case, everything is already contained in the fltools.py file."
   ]
  },
  {
   "cell_type": "code",
   "execution_count": 1,
   "metadata": {},
   "outputs": [],
   "source": [
    "import matplotlib\n",
    "import seaborn\n",
    "import warnings\n",
    "import sys\n",
    "sys.path.insert(0,'../../Tools')\n",
    "from orderedlist import *\n",
    "from prtools import *\n",
    "da = Datasets()\n",
    "ra = RuleApplication()"
   ]
  },
  {
   "cell_type": "code",
   "execution_count": 2,
   "metadata": {},
   "outputs": [],
   "source": [
    "warnings.filterwarnings('ignore')\n",
    "pandas.set_option('display.max_rows', None)\n",
    "pandas.set_option('display.max_columns', None)\n",
    "pandas.set_option('display.width', None)\n",
    "pandas.set_option('display.max_colwidth', None)"
   ]
  },
  {
   "cell_type": "markdown",
   "metadata": {},
   "source": [
    "### Preparation of results"
   ]
  },
  {
   "cell_type": "markdown",
   "metadata": {},
   "source": [
    "#### General stuff"
   ]
  },
  {
   "cell_type": "code",
   "execution_count": 3,
   "metadata": {},
   "outputs": [],
   "source": [
    "real_aal = da.define_binary(pandas.read_csv('../../Data/Y_aal_quan.csv'),100)\n",
    "real_brodmann = da.define_binary(pandas.read_csv('../../Data/Y_brodmann_quan.csv'),100)\n",
    "prediction_aal = pandas.read_csv('./Prediction_multi_100/Prediction/prediction_aal.csv')\n",
    "prediction_brodmann = pandas.read_csv('./Prediction_multi_100/Prediction/prediction_brodmann.csv')"
   ]
  },
  {
   "cell_type": "code",
   "execution_count": 4,
   "metadata": {},
   "outputs": [],
   "source": [
    "relevance_thresholds_absolute = [1,0.975,0.950,0.925,0.9,0.8,0.7,0.6,0.5]\n",
    "relevance_thresholds_normalised = [0.9,0.8,0.7,0.6,0.5]"
   ]
  },
  {
   "cell_type": "code",
   "execution_count": 5,
   "metadata": {},
   "outputs": [],
   "source": [
    "aal_list.remove('f1mo_l')\n",
    "aal_list.remove('f1mo_r')"
   ]
  },
  {
   "cell_type": "markdown",
   "metadata": {},
   "source": [
    "#### Absolute rules"
   ]
  },
  {
   "cell_type": "code",
   "execution_count": 6,
   "metadata": {},
   "outputs": [],
   "source": [
    "comparison_absolute_aal = ra.compare_with_real(prediction_aal,real_aal)\n",
    "comparison_absolute_brodmann = ra.compare_with_real(prediction_brodmann,real_brodmann)\n",
    "index = ['Prediction']\n",
    "for relevance_threshold in relevance_thresholds_absolute:\n",
    "    absolute_aal = pandas.read_csv('./Prediction_multi_100/Absolute/correction_aal_'+str(relevance_threshold)+'.csv')\n",
    "    absolute_brodmann = pandas.read_csv('./Prediction_multi_100/Absolute/correction_brodmann_'+str(relevance_threshold)+'.csv')\n",
    "    comparison_absolute_aal = pandas.concat([comparison_absolute_aal,ra.compare_with_real(absolute_aal,real_aal)],axis=0)\n",
    "    comparison_absolute_brodmann = pandas.concat([comparison_absolute_brodmann,ra.compare_with_real(absolute_brodmann,real_brodmann)],axis=0)\n",
    "    index.append('Relevance threshold = '+str(relevance_threshold))\n",
    "comparison_absolute_aal.index = index\n",
    "comparison_absolute_brodmann.index = index"
   ]
  },
  {
   "cell_type": "code",
   "execution_count": 7,
   "metadata": {},
   "outputs": [],
   "source": [
    "TFP_absolute_aal = comparison_absolute_aal[['TP','FP']].transpose()\n",
    "TFP_absolute_brodmann = comparison_absolute_brodmann[['TP','FP']].transpose()\n",
    "added_absolute_aal = []\n",
    "added_absolute_brodmann = []\n",
    "for relevance_threshold in relevance_thresholds_absolute:\n",
    "        temp_TFP_aal = TFP_absolute_aal['Relevance threshold = '+str(relevance_threshold)]-TFP_absolute_aal['Prediction']\n",
    "        temp_TFP_brodmann = TFP_absolute_brodmann['Relevance threshold = '+str(relevance_threshold)]-TFP_absolute_brodmann['Prediction']\n",
    "        added_absolute_aal.append('With a relevance threshold of '+str(relevance_threshold)+', '+str(temp_TFP_aal[0]+temp_TFP_aal[1])+' regions were marked as hypometabolic: '+str(temp_TFP_aal[0])+' correctly ('+str(round(temp_TFP_aal[0]*100/(temp_TFP_aal[0]+temp_TFP_aal[1]),2))+' %) and '+str(temp_TFP_aal[1])+' incorrectly')\n",
    "        added_absolute_brodmann.append('With a relevance threshold of '+str(relevance_threshold)+', '+str(temp_TFP_brodmann[0]+temp_TFP_brodmann[1])+' regions were marked as hypometabolic: '+str(temp_TFP_brodmann[0])+' correctly ('+str(round(temp_TFP_brodmann[0]*100/(temp_TFP_brodmann[0]+temp_TFP_brodmann[1]),2))+' %) and '+str(temp_TFP_brodmann[1])+' incorrectly')"
   ]
  },
  {
   "cell_type": "code",
   "execution_count": 8,
   "metadata": {},
   "outputs": [],
   "source": [
    "correct_absolute_aal_regions = pandas.DataFrame()\n",
    "percentage_absolute_aal_regions = pandas.DataFrame()\n",
    "for task in aal_list:\n",
    "    try:\n",
    "        corrects = []\n",
    "        percentages = []\n",
    "        to_compare = ra.compare_with_real(prediction_aal[[task]],real_aal[[task]])\n",
    "        for relevance_threshold in relevance_thresholds_absolute:\n",
    "            absolute_aal = pandas.read_csv('./Prediction_multi_100/Absolute/correction_aal_'+str(relevance_threshold)+'.csv')\n",
    "            compare_to = ra.compare_with_real(absolute_aal[[task]],real_aal[[task]])\n",
    "            correct = int(compare_to['TP']-to_compare['TP'])\n",
    "            incorrect = int(compare_to['FP']-to_compare['FP'])\n",
    "            try: percentage = round(float(correct/(correct+incorrect)),2)\n",
    "            except: percentage = numpy.nan\n",
    "            corrects.append(correct)\n",
    "            percentages.append(percentage)\n",
    "        temp_corrects = pandas.DataFrame({task:corrects})\n",
    "        temp_percentages = pandas.DataFrame({task:percentages})\n",
    "        try: correct_absolute_aal_regions = pandas.concat([correct_absolute_aal_regions,temp_corrects],axis=1)\n",
    "        except: correct_absolute_aal_regions = temp_corrects\n",
    "        try: percentage_absolute_aal_regions = pandas.concat([percentage_absolute_aal_regions,temp_percentages],axis=1)\n",
    "        except: percentage_absolute_aal_regions = temp_percentages\n",
    "    except: pass\n",
    "correct_absolute_aal_regions.index = relevance_thresholds_absolute\n",
    "percentage_absolute_aal_regions.index = relevance_thresholds_absolute"
   ]
  },
  {
   "cell_type": "code",
   "execution_count": 9,
   "metadata": {},
   "outputs": [],
   "source": [
    "correct_absolute_brodmann_regions = pandas.DataFrame()\n",
    "percentage_absolute_brodmann_regions = pandas.DataFrame()\n",
    "for task in brodmann_list:\n",
    "    try:\n",
    "        to_compare = ra.compare_with_real(prediction_brodmann[[task]],real_brodmann[[task]])\n",
    "        corrects = []\n",
    "        percentages = []\n",
    "        for relevance_threshold in relevance_thresholds_absolute:\n",
    "            absolute_brodmann = pandas.read_csv('./Prediction_multi_100/Absolute/correction_brodmann_'+str(relevance_threshold)+'.csv')\n",
    "            compare_to = ra.compare_with_real(absolute_brodmann[[task]],real_brodmann[[task]])\n",
    "            correct = int(compare_to['TP']-to_compare['TP'])\n",
    "            incorrect = int(compare_to['FP']-to_compare['FP'])\n",
    "            try: percentage = round(float(correct/(correct+incorrect)),2)\n",
    "            except: percentage = numpy.nan\n",
    "            corrects.append(correct)\n",
    "            percentages.append(percentage)\n",
    "        temp_corrects = pandas.DataFrame({task:corrects})\n",
    "        temp_percentages = pandas.DataFrame({task:percentages})\n",
    "        try: correct_absolute_brodmann_regions = pandas.concat([correct_absolute_brodmann_regions,temp_corrects],axis=1)\n",
    "        except: correct_absolute_brodmann_regions = temp_corrects\n",
    "        try: percentage_absolute_brodmann_regions = pandas.concat([percentage_absolute_brodmann_regions,temp_percentages],axis=1)\n",
    "        except: percentage_absolute_brodmann_regions = temp_percentages\n",
    "    except:pass\n",
    "correct_absolute_brodmann_regions.index = relevance_thresholds_absolute\n",
    "percentage_absolute_brodmann_regions.index = relevance_thresholds_absolute"
   ]
  },
  {
   "cell_type": "markdown",
   "metadata": {},
   "source": [
    "#### Normalised rules"
   ]
  },
  {
   "cell_type": "code",
   "execution_count": 10,
   "metadata": {},
   "outputs": [],
   "source": [
    "comparison_normalised_aal = ra.compare_with_real(prediction_aal,real_aal)\n",
    "comparison_normalised_brodmann = ra.compare_with_real(prediction_brodmann,real_brodmann)\n",
    "index = ['Prediction']\n",
    "for relevance_threshold in relevance_thresholds_normalised:\n",
    "    normalised_aal = pandas.read_csv('./Prediction_multi_100/Normalised/correction_aal_'+str(relevance_threshold)+'.csv')\n",
    "    normalised_brodmann = pandas.read_csv('./Prediction_multi_100/Normalised/correction_brodmann_'+str(relevance_threshold)+'.csv')\n",
    "    comparison_normalised_aal = pandas.concat([comparison_normalised_aal,ra.compare_with_real(normalised_aal,real_aal)],axis=0)\n",
    "    comparison_normalised_brodmann = pandas.concat([comparison_normalised_brodmann,ra.compare_with_real(normalised_brodmann,real_brodmann)],axis=0)\n",
    "    index.append('Relevance threshold = '+str(relevance_threshold))\n",
    "comparison_normalised_aal.index = index\n",
    "comparison_normalised_brodmann.index = index"
   ]
  },
  {
   "cell_type": "code",
   "execution_count": 11,
   "metadata": {},
   "outputs": [],
   "source": [
    "TFP_normalised_aal = comparison_normalised_aal[['TP','FP']].transpose()\n",
    "TFP_normalised_brodmann = comparison_normalised_brodmann[['TP','FP']].transpose()\n",
    "added_normalised_aal = []\n",
    "added_normalised_brodmann = []\n",
    "for relevance_threshold in relevance_thresholds_normalised:\n",
    "        temp_TFP_aal = TFP_normalised_aal['Relevance threshold = '+str(relevance_threshold)]-TFP_normalised_aal['Prediction']\n",
    "        temp_TFP_brodmann = TFP_normalised_brodmann['Relevance threshold = '+str(relevance_threshold)]-TFP_normalised_brodmann['Prediction']\n",
    "        added_normalised_aal.append('With a relevance threshold of '+str(relevance_threshold)+', '+str(temp_TFP_aal[0]+temp_TFP_aal[1])+' regions were marked as hypometabolic: '+str(temp_TFP_aal[0])+' correctly ('+str(round(temp_TFP_aal[0]*100/(temp_TFP_aal[0]+temp_TFP_aal[1]),2))+' %) and '+str(temp_TFP_aal[1])+' incorrectly')\n",
    "        added_normalised_brodmann.append('With a relevance threshold of '+str(relevance_threshold)+', '+str(temp_TFP_brodmann[0]+temp_TFP_brodmann[1])+' regions were marked as hypometabolic: '+str(temp_TFP_brodmann[0])+' correctly ('+str(round(temp_TFP_brodmann[0]*100/(temp_TFP_brodmann[0]+temp_TFP_brodmann[1]),2))+' %) and '+str(temp_TFP_brodmann[1])+' incorrectly')"
   ]
  },
  {
   "cell_type": "code",
   "execution_count": 12,
   "metadata": {},
   "outputs": [],
   "source": [
    "correct_normalised_aal_regions = pandas.DataFrame()\n",
    "percentage_normalised_aal_regions = pandas.DataFrame()\n",
    "for task in aal_list:\n",
    "    try:\n",
    "        corrects = []\n",
    "        percentages = []\n",
    "        to_compare = ra.compare_with_real(prediction_aal[[task]],real_aal[[task]])\n",
    "        for relevance_threshold in relevance_thresholds_normalised:\n",
    "            normalised_aal = pandas.read_csv('./Prediction_multi_100/Normalised/correction_aal_'+str(relevance_threshold)+'.csv')\n",
    "            compare_to = ra.compare_with_real(normalised_aal[[task]],real_aal[[task]])\n",
    "            correct = int(compare_to['TP']-to_compare['TP'])\n",
    "            incorrect = int(compare_to['FP']-to_compare['FP'])\n",
    "            try: percentage = round(float(correct/(correct+incorrect)),2)\n",
    "            except: percentage = numpy.nan\n",
    "            corrects.append(correct)\n",
    "            percentages.append(percentage)\n",
    "        temp_corrects = pandas.DataFrame({task:corrects})\n",
    "        temp_percentages = pandas.DataFrame({task:percentages})\n",
    "        try: correct_normalised_aal_regions = pandas.concat([correct_normalised_aal_regions,temp_corrects],axis=1)\n",
    "        except: correct_normalised_aal_regions = temp_corrects\n",
    "        try: percentage_normalised_aal_regions = pandas.concat([percentage_normalised_aal_regions,temp_percentages],axis=1)\n",
    "        except: percentage_normalised_aal_regions = temp_percentages\n",
    "    except: pass\n",
    "correct_normalised_aal_regions.index = relevance_thresholds_normalised\n",
    "percentage_normalised_aal_regions.index = relevance_thresholds_normalised"
   ]
  },
  {
   "cell_type": "code",
   "execution_count": 13,
   "metadata": {},
   "outputs": [],
   "source": [
    "correct_normalised_brodmann_regions = pandas.DataFrame()\n",
    "percentage_normalised_brodmann_regions = pandas.DataFrame()\n",
    "for task in brodmann_list:\n",
    "    try:\n",
    "        to_compare = ra.compare_with_real(prediction_brodmann[[task]],real_brodmann[[task]])\n",
    "        corrects = []\n",
    "        percentages = []\n",
    "        for relevance_threshold in relevance_thresholds_normalised:\n",
    "            normalised_brodmann = pandas.read_csv('./Prediction_multi_100/Normalised/correction_brodmann_'+str(relevance_threshold)+'.csv')\n",
    "            compare_to = ra.compare_with_real(normalised_brodmann[[task]],real_brodmann[[task]])\n",
    "            correct = int(compare_to['TP']-to_compare['TP'])\n",
    "            incorrect = int(compare_to['FP']-to_compare['FP'])\n",
    "            try: percentage = round(float(correct/(correct+incorrect)),2)\n",
    "            except: percentage = numpy.nan\n",
    "            corrects.append(correct)\n",
    "            percentages.append(percentage)\n",
    "        temp_corrects = pandas.DataFrame({task:corrects})\n",
    "        temp_percentages = pandas.DataFrame({task:percentages})\n",
    "        try: correct_normalised_brodmann_regions = pandas.concat([correct_normalised_brodmann_regions,temp_corrects],axis=1)\n",
    "        except: correct_normalised_brodmann_regions = temp_corrects\n",
    "        try: percentage_normalised_brodmann_regions = pandas.concat([percentage_normalised_brodmann_regions,temp_percentages],axis=1)\n",
    "        except: percentage_normalised_brodmann_regions = temp_percentages\n",
    "    except:pass\n",
    "correct_normalised_brodmann_regions.index = relevance_thresholds_normalised\n",
    "percentage_normalised_brodmann_regions.index = relevance_thresholds_normalised"
   ]
  },
  {
   "cell_type": "markdown",
   "metadata": {},
   "source": [
    "#### Random rules"
   ]
  },
  {
   "cell_type": "code",
   "execution_count": 14,
   "metadata": {},
   "outputs": [],
   "source": [
    "FN_aal = comparison_absolute_aal.loc['Prediction']['FN']\n",
    "TFN_aal = comparison_absolute_aal.loc['Prediction']['FN'] + comparison_absolute_aal.loc['Prediction']['TN']\n",
    "FN_brodmann = comparison_absolute_brodmann.loc['Prediction']['FN']\n",
    "TFN_brodmann = comparison_absolute_brodmann.loc['Prediction']['FN'] + comparison_absolute_brodmann.loc['Prediction']['TN']\n",
    "random_aal = str(round((FN_aal*100/TFN_aal),2))+' %'\n",
    "random_brodmann = str(round((FN_brodmann*100/TFN_brodmann),2))+' %'"
   ]
  },
  {
   "cell_type": "markdown",
   "metadata": {},
   "source": [
    "### Results"
   ]
  },
  {
   "cell_type": "markdown",
   "metadata": {},
   "source": [
    "#### AAL atlas (90 regions)"
   ]
  },
  {
   "cell_type": "markdown",
   "metadata": {},
   "source": [
    "##### Using random corrector"
   ]
  },
  {
   "cell_type": "markdown",
   "metadata": {},
   "source": [
    "A program that randomly changes negative labels to positive labels in our predicted dataset would label correctly what percentage of values?"
   ]
  },
  {
   "cell_type": "code",
   "execution_count": 15,
   "metadata": {},
   "outputs": [
    {
     "name": "stdout",
     "output_type": "stream",
     "text": [
      "3.66 %\n"
     ]
    }
   ],
   "source": [
    "print(random_aal)"
   ]
  },
  {
   "cell_type": "markdown",
   "metadata": {},
   "source": [
    "##### Using absolute rules"
   ]
  },
  {
   "cell_type": "markdown",
   "metadata": {},
   "source": [
    "Down below we show the **metrics associated to both the predictions and later corrections through probabilistic rules**."
   ]
  },
  {
   "cell_type": "code",
   "execution_count": 16,
   "metadata": {},
   "outputs": [
    {
     "data": {
      "text/html": [
       "<div>\n",
       "<style scoped>\n",
       "    .dataframe tbody tr th:only-of-type {\n",
       "        vertical-align: middle;\n",
       "    }\n",
       "\n",
       "    .dataframe tbody tr th {\n",
       "        vertical-align: top;\n",
       "    }\n",
       "\n",
       "    .dataframe thead th {\n",
       "        text-align: right;\n",
       "    }\n",
       "</style>\n",
       "<table border=\"1\" class=\"dataframe\">\n",
       "  <thead>\n",
       "    <tr style=\"text-align: right;\">\n",
       "      <th></th>\n",
       "      <th>TP</th>\n",
       "      <th>TN</th>\n",
       "      <th>FP</th>\n",
       "      <th>FN</th>\n",
       "      <th>accuracy</th>\n",
       "      <th>f1</th>\n",
       "      <th>precision</th>\n",
       "      <th>recall</th>\n",
       "    </tr>\n",
       "  </thead>\n",
       "  <tbody>\n",
       "    <tr>\n",
       "      <th>Prediction</th>\n",
       "      <td>2149</td>\n",
       "      <td>24838</td>\n",
       "      <td>1949</td>\n",
       "      <td>944</td>\n",
       "      <td>0.903</td>\n",
       "      <td>0.598</td>\n",
       "      <td>0.524</td>\n",
       "      <td>0.695</td>\n",
       "    </tr>\n",
       "    <tr>\n",
       "      <th>Relevance threshold = 1</th>\n",
       "      <td>2166</td>\n",
       "      <td>24805</td>\n",
       "      <td>1982</td>\n",
       "      <td>927</td>\n",
       "      <td>0.903</td>\n",
       "      <td>0.598</td>\n",
       "      <td>0.522</td>\n",
       "      <td>0.700</td>\n",
       "    </tr>\n",
       "    <tr>\n",
       "      <th>Relevance threshold = 0.975</th>\n",
       "      <td>2354</td>\n",
       "      <td>24059</td>\n",
       "      <td>2728</td>\n",
       "      <td>739</td>\n",
       "      <td>0.884</td>\n",
       "      <td>0.576</td>\n",
       "      <td>0.463</td>\n",
       "      <td>0.761</td>\n",
       "    </tr>\n",
       "    <tr>\n",
       "      <th>Relevance threshold = 0.95</th>\n",
       "      <td>2360</td>\n",
       "      <td>24048</td>\n",
       "      <td>2739</td>\n",
       "      <td>733</td>\n",
       "      <td>0.884</td>\n",
       "      <td>0.576</td>\n",
       "      <td>0.463</td>\n",
       "      <td>0.763</td>\n",
       "    </tr>\n",
       "    <tr>\n",
       "      <th>Relevance threshold = 0.925</th>\n",
       "      <td>2378</td>\n",
       "      <td>23967</td>\n",
       "      <td>2820</td>\n",
       "      <td>715</td>\n",
       "      <td>0.882</td>\n",
       "      <td>0.574</td>\n",
       "      <td>0.457</td>\n",
       "      <td>0.769</td>\n",
       "    </tr>\n",
       "    <tr>\n",
       "      <th>Relevance threshold = 0.9</th>\n",
       "      <td>2423</td>\n",
       "      <td>23695</td>\n",
       "      <td>3092</td>\n",
       "      <td>670</td>\n",
       "      <td>0.874</td>\n",
       "      <td>0.563</td>\n",
       "      <td>0.439</td>\n",
       "      <td>0.783</td>\n",
       "    </tr>\n",
       "    <tr>\n",
       "      <th>Relevance threshold = 0.8</th>\n",
       "      <td>2549</td>\n",
       "      <td>22755</td>\n",
       "      <td>4032</td>\n",
       "      <td>544</td>\n",
       "      <td>0.847</td>\n",
       "      <td>0.527</td>\n",
       "      <td>0.387</td>\n",
       "      <td>0.824</td>\n",
       "    </tr>\n",
       "    <tr>\n",
       "      <th>Relevance threshold = 0.7</th>\n",
       "      <td>2674</td>\n",
       "      <td>21316</td>\n",
       "      <td>5471</td>\n",
       "      <td>419</td>\n",
       "      <td>0.803</td>\n",
       "      <td>0.476</td>\n",
       "      <td>0.328</td>\n",
       "      <td>0.865</td>\n",
       "    </tr>\n",
       "    <tr>\n",
       "      <th>Relevance threshold = 0.6</th>\n",
       "      <td>2766</td>\n",
       "      <td>19491</td>\n",
       "      <td>7296</td>\n",
       "      <td>327</td>\n",
       "      <td>0.745</td>\n",
       "      <td>0.421</td>\n",
       "      <td>0.275</td>\n",
       "      <td>0.894</td>\n",
       "    </tr>\n",
       "    <tr>\n",
       "      <th>Relevance threshold = 0.5</th>\n",
       "      <td>2837</td>\n",
       "      <td>18243</td>\n",
       "      <td>8544</td>\n",
       "      <td>256</td>\n",
       "      <td>0.705</td>\n",
       "      <td>0.392</td>\n",
       "      <td>0.249</td>\n",
       "      <td>0.917</td>\n",
       "    </tr>\n",
       "  </tbody>\n",
       "</table>\n",
       "</div>"
      ],
      "text/plain": [
       "                               TP     TN    FP   FN  accuracy     f1  \\\n",
       "Prediction                   2149  24838  1949  944     0.903  0.598   \n",
       "Relevance threshold = 1      2166  24805  1982  927     0.903  0.598   \n",
       "Relevance threshold = 0.975  2354  24059  2728  739     0.884  0.576   \n",
       "Relevance threshold = 0.95   2360  24048  2739  733     0.884  0.576   \n",
       "Relevance threshold = 0.925  2378  23967  2820  715     0.882  0.574   \n",
       "Relevance threshold = 0.9    2423  23695  3092  670     0.874  0.563   \n",
       "Relevance threshold = 0.8    2549  22755  4032  544     0.847  0.527   \n",
       "Relevance threshold = 0.7    2674  21316  5471  419     0.803  0.476   \n",
       "Relevance threshold = 0.6    2766  19491  7296  327     0.745  0.421   \n",
       "Relevance threshold = 0.5    2837  18243  8544  256     0.705  0.392   \n",
       "\n",
       "                             precision  recall  \n",
       "Prediction                       0.524   0.695  \n",
       "Relevance threshold = 1          0.522   0.700  \n",
       "Relevance threshold = 0.975      0.463   0.761  \n",
       "Relevance threshold = 0.95       0.463   0.763  \n",
       "Relevance threshold = 0.925      0.457   0.769  \n",
       "Relevance threshold = 0.9        0.439   0.783  \n",
       "Relevance threshold = 0.8        0.387   0.824  \n",
       "Relevance threshold = 0.7        0.328   0.865  \n",
       "Relevance threshold = 0.6        0.275   0.894  \n",
       "Relevance threshold = 0.5        0.249   0.917  "
      ]
     },
     "execution_count": 16,
     "metadata": {},
     "output_type": "execute_result"
    }
   ],
   "source": [
    "comparison_absolute_aal"
   ]
  },
  {
   "cell_type": "markdown",
   "metadata": {},
   "source": [
    "Down below we show the **effect that the application of rules have over the predicted brain map**."
   ]
  },
  {
   "cell_type": "code",
   "execution_count": 17,
   "metadata": {},
   "outputs": [
    {
     "name": "stdout",
     "output_type": "stream",
     "text": [
      "With a relevance threshold of 1, 50 regions were marked as hypometabolic: 17 correctly (34.0 %) and 33 incorrectly\n",
      "With a relevance threshold of 0.975, 984 regions were marked as hypometabolic: 205 correctly (20.83 %) and 779 incorrectly\n",
      "With a relevance threshold of 0.95, 1001 regions were marked as hypometabolic: 211 correctly (21.08 %) and 790 incorrectly\n",
      "With a relevance threshold of 0.925, 1100 regions were marked as hypometabolic: 229 correctly (20.82 %) and 871 incorrectly\n",
      "With a relevance threshold of 0.9, 1417 regions were marked as hypometabolic: 274 correctly (19.34 %) and 1143 incorrectly\n",
      "With a relevance threshold of 0.8, 2483 regions were marked as hypometabolic: 400 correctly (16.11 %) and 2083 incorrectly\n",
      "With a relevance threshold of 0.7, 4047 regions were marked as hypometabolic: 525 correctly (12.97 %) and 3522 incorrectly\n",
      "With a relevance threshold of 0.6, 5964 regions were marked as hypometabolic: 617 correctly (10.35 %) and 5347 incorrectly\n",
      "With a relevance threshold of 0.5, 7283 regions were marked as hypometabolic: 688 correctly (9.45 %) and 6595 incorrectly\n"
     ]
    }
   ],
   "source": [
    "for i in added_absolute_aal: print(i)"
   ]
  },
  {
   "cell_type": "markdown",
   "metadata": {},
   "source": [
    "Down below we show the **effect that the application of rules have over each of the predicted regions**."
   ]
  },
  {
   "cell_type": "code",
   "execution_count": 18,
   "metadata": {},
   "outputs": [
    {
     "data": {
      "image/png": "[encoded data removed]",
      "text/plain": [
       "<Figure size 1152x1152 with 4 Axes>"
      ]
     },
     "metadata": {
      "needs_background": "light"
     },
     "output_type": "display_data"
    }
   ],
   "source": [
    "matplotlib.rcParams['figure.figsize'] = (16,16)\n",
    "fig,ax =matplotlib.pyplot.subplots(1,2)\n",
    "seaborn.heatmap(correct_absolute_aal_regions.transpose(),cmap='Blues',xticklabels=True,yticklabels=True,ax=ax[0])\n",
    "ax[0].title.set_text('Number of hypometabolic labels correctly added')\n",
    "ax[0].set_xlabel('Relevance threshold')\n",
    "seaborn.heatmap(percentage_absolute_aal_regions.transpose(),cmap='Reds',xticklabels=True,yticklabels=True,ax=ax[1])\n",
    "ax[1].title.set_text('Percentage of hypometabolic labels correctly added')\n",
    "ax[1].set_xlabel('Relevance threshold')\n",
    "fig.show()"
   ]
  },
  {
   "cell_type": "markdown",
   "metadata": {},
   "source": [
    "##### Using normalised rules"
   ]
  },
  {
   "cell_type": "markdown",
   "metadata": {},
   "source": [
    "Down below we show the **metrics associated to both the predictions and later corrections through probabilistic rules**."
   ]
  },
  {
   "cell_type": "code",
   "execution_count": 19,
   "metadata": {},
   "outputs": [
    {
     "data": {
      "text/html": [
       "<div>\n",
       "<style scoped>\n",
       "    .dataframe tbody tr th:only-of-type {\n",
       "        vertical-align: middle;\n",
       "    }\n",
       "\n",
       "    .dataframe tbody tr th {\n",
       "        vertical-align: top;\n",
       "    }\n",
       "\n",
       "    .dataframe thead th {\n",
       "        text-align: right;\n",
       "    }\n",
       "</style>\n",
       "<table border=\"1\" class=\"dataframe\">\n",
       "  <thead>\n",
       "    <tr style=\"text-align: right;\">\n",
       "      <th></th>\n",
       "      <th>TP</th>\n",
       "      <th>TN</th>\n",
       "      <th>FP</th>\n",
       "      <th>FN</th>\n",
       "      <th>accuracy</th>\n",
       "      <th>f1</th>\n",
       "      <th>precision</th>\n",
       "      <th>recall</th>\n",
       "    </tr>\n",
       "  </thead>\n",
       "  <tbody>\n",
       "    <tr>\n",
       "      <th>Prediction</th>\n",
       "      <td>2149</td>\n",
       "      <td>24838</td>\n",
       "      <td>1949</td>\n",
       "      <td>944</td>\n",
       "      <td>0.903</td>\n",
       "      <td>0.598</td>\n",
       "      <td>0.524</td>\n",
       "      <td>0.695</td>\n",
       "    </tr>\n",
       "    <tr>\n",
       "      <th>Relevance threshold = 0.9</th>\n",
       "      <td>2214</td>\n",
       "      <td>24590</td>\n",
       "      <td>2197</td>\n",
       "      <td>879</td>\n",
       "      <td>0.897</td>\n",
       "      <td>0.590</td>\n",
       "      <td>0.502</td>\n",
       "      <td>0.716</td>\n",
       "    </tr>\n",
       "    <tr>\n",
       "      <th>Relevance threshold = 0.8</th>\n",
       "      <td>2219</td>\n",
       "      <td>24557</td>\n",
       "      <td>2230</td>\n",
       "      <td>874</td>\n",
       "      <td>0.896</td>\n",
       "      <td>0.588</td>\n",
       "      <td>0.499</td>\n",
       "      <td>0.717</td>\n",
       "    </tr>\n",
       "    <tr>\n",
       "      <th>Relevance threshold = 0.7</th>\n",
       "      <td>2248</td>\n",
       "      <td>24413</td>\n",
       "      <td>2374</td>\n",
       "      <td>845</td>\n",
       "      <td>0.892</td>\n",
       "      <td>0.583</td>\n",
       "      <td>0.486</td>\n",
       "      <td>0.727</td>\n",
       "    </tr>\n",
       "    <tr>\n",
       "      <th>Relevance threshold = 0.6</th>\n",
       "      <td>2331</td>\n",
       "      <td>23835</td>\n",
       "      <td>2952</td>\n",
       "      <td>762</td>\n",
       "      <td>0.876</td>\n",
       "      <td>0.557</td>\n",
       "      <td>0.441</td>\n",
       "      <td>0.754</td>\n",
       "    </tr>\n",
       "    <tr>\n",
       "      <th>Relevance threshold = 0.5</th>\n",
       "      <td>2377</td>\n",
       "      <td>23327</td>\n",
       "      <td>3460</td>\n",
       "      <td>716</td>\n",
       "      <td>0.860</td>\n",
       "      <td>0.532</td>\n",
       "      <td>0.407</td>\n",
       "      <td>0.769</td>\n",
       "    </tr>\n",
       "  </tbody>\n",
       "</table>\n",
       "</div>"
      ],
      "text/plain": [
       "                             TP     TN    FP   FN  accuracy     f1  precision  \\\n",
       "Prediction                 2149  24838  1949  944     0.903  0.598      0.524   \n",
       "Relevance threshold = 0.9  2214  24590  2197  879     0.897  0.590      0.502   \n",
       "Relevance threshold = 0.8  2219  24557  2230  874     0.896  0.588      0.499   \n",
       "Relevance threshold = 0.7  2248  24413  2374  845     0.892  0.583      0.486   \n",
       "Relevance threshold = 0.6  2331  23835  2952  762     0.876  0.557      0.441   \n",
       "Relevance threshold = 0.5  2377  23327  3460  716     0.860  0.532      0.407   \n",
       "\n",
       "                           recall  \n",
       "Prediction                  0.695  \n",
       "Relevance threshold = 0.9   0.716  \n",
       "Relevance threshold = 0.8   0.717  \n",
       "Relevance threshold = 0.7   0.727  \n",
       "Relevance threshold = 0.6   0.754  \n",
       "Relevance threshold = 0.5   0.769  "
      ]
     },
     "execution_count": 19,
     "metadata": {},
     "output_type": "execute_result"
    }
   ],
   "source": [
    "comparison_normalised_aal"
   ]
  },
  {
   "cell_type": "markdown",
   "metadata": {},
   "source": [
    "Down below we show the **effect that the application of rules have over the predicted brain map**."
   ]
  },
  {
   "cell_type": "code",
   "execution_count": 20,
   "metadata": {},
   "outputs": [
    {
     "name": "stdout",
     "output_type": "stream",
     "text": [
      "With a relevance threshold of 0.9, 313 regions were marked as hypometabolic: 65 correctly (20.77 %) and 248 incorrectly\n",
      "With a relevance threshold of 0.8, 351 regions were marked as hypometabolic: 70 correctly (19.94 %) and 281 incorrectly\n",
      "With a relevance threshold of 0.7, 524 regions were marked as hypometabolic: 99 correctly (18.89 %) and 425 incorrectly\n",
      "With a relevance threshold of 0.6, 1185 regions were marked as hypometabolic: 182 correctly (15.36 %) and 1003 incorrectly\n",
      "With a relevance threshold of 0.5, 1739 regions were marked as hypometabolic: 228 correctly (13.11 %) and 1511 incorrectly\n"
     ]
    }
   ],
   "source": [
    "for i in added_normalised_aal: print(i)"
   ]
  },
  {
   "cell_type": "markdown",
   "metadata": {},
   "source": [
    "Down below we show the **effect that the application of rules have over each of the predicted regions**."
   ]
  },
  {
   "cell_type": "code",
   "execution_count": 21,
   "metadata": {},
   "outputs": [
    {
     "data": {
      "image/png": "[encoded data removed]",
      "text/plain": [
       "<Figure size 1152x1152 with 4 Axes>"
      ]
     },
     "metadata": {
      "needs_background": "light"
     },
     "output_type": "display_data"
    }
   ],
   "source": [
    "matplotlib.rcParams['figure.figsize'] = (16,16)\n",
    "fig,ax =matplotlib.pyplot.subplots(1,2)\n",
    "seaborn.heatmap(correct_normalised_aal_regions.transpose(),cmap='Blues',xticklabels=True,yticklabels=True,ax=ax[0])\n",
    "ax[0].title.set_text('Number of hypometabolic labels correctly added')\n",
    "ax[0].set_xlabel('Relevance threshold')\n",
    "seaborn.heatmap(percentage_normalised_aal_regions.transpose(),cmap='Reds',xticklabels=True,yticklabels=True,ax=ax[1])\n",
    "ax[1].title.set_text('Percentage of hypometabolic labels correctly added')\n",
    "ax[1].set_xlabel('Relevance threshold')\n",
    "fig.show()"
   ]
  },
  {
   "cell_type": "markdown",
   "metadata": {},
   "source": [
    "#### Brodmann atlas (47 regions)"
   ]
  },
  {
   "cell_type": "markdown",
   "metadata": {},
   "source": [
    "##### Using random corrector"
   ]
  },
  {
   "cell_type": "markdown",
   "metadata": {},
   "source": [
    "A program that randomly changes negative labels to positive labels in our predicted dataset would label correctly what percentage of values?"
   ]
  },
  {
   "cell_type": "code",
   "execution_count": 22,
   "metadata": {},
   "outputs": [
    {
     "name": "stdout",
     "output_type": "stream",
     "text": [
      "2.82 %\n"
     ]
    }
   ],
   "source": [
    "print(random_brodmann)"
   ]
  },
  {
   "cell_type": "markdown",
   "metadata": {},
   "source": [
    "##### Using absolute rules"
   ]
  },
  {
   "cell_type": "markdown",
   "metadata": {},
   "source": [
    "Down below we show the **metrics associated to both the predictions and later corrections through probabilistic rules**."
   ]
  },
  {
   "cell_type": "code",
   "execution_count": 23,
   "metadata": {},
   "outputs": [
    {
     "data": {
      "text/html": [
       "<div>\n",
       "<style scoped>\n",
       "    .dataframe tbody tr th:only-of-type {\n",
       "        vertical-align: middle;\n",
       "    }\n",
       "\n",
       "    .dataframe tbody tr th {\n",
       "        vertical-align: top;\n",
       "    }\n",
       "\n",
       "    .dataframe thead th {\n",
       "        text-align: right;\n",
       "    }\n",
       "</style>\n",
       "<table border=\"1\" class=\"dataframe\">\n",
       "  <thead>\n",
       "    <tr style=\"text-align: right;\">\n",
       "      <th></th>\n",
       "      <th>TP</th>\n",
       "      <th>TN</th>\n",
       "      <th>FP</th>\n",
       "      <th>FN</th>\n",
       "      <th>accuracy</th>\n",
       "      <th>f1</th>\n",
       "      <th>precision</th>\n",
       "      <th>recall</th>\n",
       "    </tr>\n",
       "  </thead>\n",
       "  <tbody>\n",
       "    <tr>\n",
       "      <th>Prediction</th>\n",
       "      <td>1058</td>\n",
       "      <td>13416</td>\n",
       "      <td>741</td>\n",
       "      <td>389</td>\n",
       "      <td>0.928</td>\n",
       "      <td>0.652</td>\n",
       "      <td>0.588</td>\n",
       "      <td>0.731</td>\n",
       "    </tr>\n",
       "    <tr>\n",
       "      <th>Relevance threshold = 1</th>\n",
       "      <td>1063</td>\n",
       "      <td>13400</td>\n",
       "      <td>757</td>\n",
       "      <td>384</td>\n",
       "      <td>0.927</td>\n",
       "      <td>0.651</td>\n",
       "      <td>0.584</td>\n",
       "      <td>0.735</td>\n",
       "    </tr>\n",
       "    <tr>\n",
       "      <th>Relevance threshold = 0.975</th>\n",
       "      <td>1141</td>\n",
       "      <td>13147</td>\n",
       "      <td>1010</td>\n",
       "      <td>306</td>\n",
       "      <td>0.916</td>\n",
       "      <td>0.634</td>\n",
       "      <td>0.530</td>\n",
       "      <td>0.789</td>\n",
       "    </tr>\n",
       "    <tr>\n",
       "      <th>Relevance threshold = 0.95</th>\n",
       "      <td>1143</td>\n",
       "      <td>13138</td>\n",
       "      <td>1019</td>\n",
       "      <td>304</td>\n",
       "      <td>0.915</td>\n",
       "      <td>0.633</td>\n",
       "      <td>0.529</td>\n",
       "      <td>0.790</td>\n",
       "    </tr>\n",
       "    <tr>\n",
       "      <th>Relevance threshold = 0.925</th>\n",
       "      <td>1146</td>\n",
       "      <td>13128</td>\n",
       "      <td>1029</td>\n",
       "      <td>301</td>\n",
       "      <td>0.915</td>\n",
       "      <td>0.633</td>\n",
       "      <td>0.527</td>\n",
       "      <td>0.792</td>\n",
       "    </tr>\n",
       "    <tr>\n",
       "      <th>Relevance threshold = 0.9</th>\n",
       "      <td>1166</td>\n",
       "      <td>13062</td>\n",
       "      <td>1095</td>\n",
       "      <td>281</td>\n",
       "      <td>0.912</td>\n",
       "      <td>0.629</td>\n",
       "      <td>0.516</td>\n",
       "      <td>0.806</td>\n",
       "    </tr>\n",
       "    <tr>\n",
       "      <th>Relevance threshold = 0.8</th>\n",
       "      <td>1224</td>\n",
       "      <td>12756</td>\n",
       "      <td>1401</td>\n",
       "      <td>223</td>\n",
       "      <td>0.896</td>\n",
       "      <td>0.601</td>\n",
       "      <td>0.466</td>\n",
       "      <td>0.846</td>\n",
       "    </tr>\n",
       "    <tr>\n",
       "      <th>Relevance threshold = 0.7</th>\n",
       "      <td>1278</td>\n",
       "      <td>12322</td>\n",
       "      <td>1835</td>\n",
       "      <td>169</td>\n",
       "      <td>0.872</td>\n",
       "      <td>0.561</td>\n",
       "      <td>0.411</td>\n",
       "      <td>0.883</td>\n",
       "    </tr>\n",
       "    <tr>\n",
       "      <th>Relevance threshold = 0.6</th>\n",
       "      <td>1306</td>\n",
       "      <td>11919</td>\n",
       "      <td>2238</td>\n",
       "      <td>141</td>\n",
       "      <td>0.848</td>\n",
       "      <td>0.523</td>\n",
       "      <td>0.369</td>\n",
       "      <td>0.903</td>\n",
       "    </tr>\n",
       "    <tr>\n",
       "      <th>Relevance threshold = 0.5</th>\n",
       "      <td>1331</td>\n",
       "      <td>11595</td>\n",
       "      <td>2562</td>\n",
       "      <td>116</td>\n",
       "      <td>0.828</td>\n",
       "      <td>0.499</td>\n",
       "      <td>0.342</td>\n",
       "      <td>0.920</td>\n",
       "    </tr>\n",
       "  </tbody>\n",
       "</table>\n",
       "</div>"
      ],
      "text/plain": [
       "                               TP     TN    FP   FN  accuracy     f1  \\\n",
       "Prediction                   1058  13416   741  389     0.928  0.652   \n",
       "Relevance threshold = 1      1063  13400   757  384     0.927  0.651   \n",
       "Relevance threshold = 0.975  1141  13147  1010  306     0.916  0.634   \n",
       "Relevance threshold = 0.95   1143  13138  1019  304     0.915  0.633   \n",
       "Relevance threshold = 0.925  1146  13128  1029  301     0.915  0.633   \n",
       "Relevance threshold = 0.9    1166  13062  1095  281     0.912  0.629   \n",
       "Relevance threshold = 0.8    1224  12756  1401  223     0.896  0.601   \n",
       "Relevance threshold = 0.7    1278  12322  1835  169     0.872  0.561   \n",
       "Relevance threshold = 0.6    1306  11919  2238  141     0.848  0.523   \n",
       "Relevance threshold = 0.5    1331  11595  2562  116     0.828  0.499   \n",
       "\n",
       "                             precision  recall  \n",
       "Prediction                       0.588   0.731  \n",
       "Relevance threshold = 1          0.584   0.735  \n",
       "Relevance threshold = 0.975      0.530   0.789  \n",
       "Relevance threshold = 0.95       0.529   0.790  \n",
       "Relevance threshold = 0.925      0.527   0.792  \n",
       "Relevance threshold = 0.9        0.516   0.806  \n",
       "Relevance threshold = 0.8        0.466   0.846  \n",
       "Relevance threshold = 0.7        0.411   0.883  \n",
       "Relevance threshold = 0.6        0.369   0.903  \n",
       "Relevance threshold = 0.5        0.342   0.920  "
      ]
     },
     "execution_count": 23,
     "metadata": {},
     "output_type": "execute_result"
    }
   ],
   "source": [
    "comparison_absolute_brodmann"
   ]
  },
  {
   "cell_type": "markdown",
   "metadata": {},
   "source": [
    "Down below we show the **effect that the application of rules have over the predicted brain map**."
   ]
  },
  {
   "cell_type": "code",
   "execution_count": 24,
   "metadata": {},
   "outputs": [
    {
     "name": "stdout",
     "output_type": "stream",
     "text": [
      "With a relevance threshold of 1, 21 regions were marked as hypometabolic: 5 correctly (23.81 %) and 16 incorrectly\n",
      "With a relevance threshold of 0.975, 352 regions were marked as hypometabolic: 83 correctly (23.58 %) and 269 incorrectly\n",
      "With a relevance threshold of 0.95, 363 regions were marked as hypometabolic: 85 correctly (23.42 %) and 278 incorrectly\n",
      "With a relevance threshold of 0.925, 376 regions were marked as hypometabolic: 88 correctly (23.4 %) and 288 incorrectly\n",
      "With a relevance threshold of 0.9, 462 regions were marked as hypometabolic: 108 correctly (23.38 %) and 354 incorrectly\n",
      "With a relevance threshold of 0.8, 826 regions were marked as hypometabolic: 166 correctly (20.1 %) and 660 incorrectly\n",
      "With a relevance threshold of 0.7, 1314 regions were marked as hypometabolic: 220 correctly (16.74 %) and 1094 incorrectly\n",
      "With a relevance threshold of 0.6, 1745 regions were marked as hypometabolic: 248 correctly (14.21 %) and 1497 incorrectly\n",
      "With a relevance threshold of 0.5, 2094 regions were marked as hypometabolic: 273 correctly (13.04 %) and 1821 incorrectly\n"
     ]
    }
   ],
   "source": [
    "for i in added_absolute_brodmann: print(i)"
   ]
  },
  {
   "cell_type": "markdown",
   "metadata": {},
   "source": [
    "Down below we show the **effect that the application of rules have over each of the predicted regions**."
   ]
  },
  {
   "cell_type": "code",
   "execution_count": 25,
   "metadata": {},
   "outputs": [
    {
     "data": {
      "image/png": "[encoded data removed]",
      "text/plain": [
       "<Figure size 1152x576 with 4 Axes>"
      ]
     },
     "metadata": {
      "needs_background": "light"
     },
     "output_type": "display_data"
    }
   ],
   "source": [
    "matplotlib.rcParams['figure.figsize'] = (16,8)\n",
    "fig,ax =matplotlib.pyplot.subplots(1,2)\n",
    "seaborn.heatmap(correct_absolute_brodmann_regions.transpose(),cmap='Blues',xticklabels=True,yticklabels=True,ax=ax[0])\n",
    "ax[0].title.set_text('Number of hypometabolic labels correctly added')\n",
    "ax[0].set_xlabel('Relevance threshold')\n",
    "seaborn.heatmap(percentage_absolute_brodmann_regions.transpose(),cmap='Reds',xticklabels=True,yticklabels=True,ax=ax[1])\n",
    "ax[1].title.set_text('Percentage of hypometabolic labels correctly added')\n",
    "ax[1].set_xlabel('Relevance threshold')\n",
    "fig.show()"
   ]
  },
  {
   "cell_type": "markdown",
   "metadata": {},
   "source": [
    "##### Using normalised rules"
   ]
  },
  {
   "cell_type": "markdown",
   "metadata": {},
   "source": [
    "Down below we show the **metrics associated to both the predictions and later corrections through probabilistic rules**."
   ]
  },
  {
   "cell_type": "code",
   "execution_count": 26,
   "metadata": {},
   "outputs": [
    {
     "data": {
      "text/html": [
       "<div>\n",
       "<style scoped>\n",
       "    .dataframe tbody tr th:only-of-type {\n",
       "        vertical-align: middle;\n",
       "    }\n",
       "\n",
       "    .dataframe tbody tr th {\n",
       "        vertical-align: top;\n",
       "    }\n",
       "\n",
       "    .dataframe thead th {\n",
       "        text-align: right;\n",
       "    }\n",
       "</style>\n",
       "<table border=\"1\" class=\"dataframe\">\n",
       "  <thead>\n",
       "    <tr style=\"text-align: right;\">\n",
       "      <th></th>\n",
       "      <th>TP</th>\n",
       "      <th>TN</th>\n",
       "      <th>FP</th>\n",
       "      <th>FN</th>\n",
       "      <th>accuracy</th>\n",
       "      <th>f1</th>\n",
       "      <th>precision</th>\n",
       "      <th>recall</th>\n",
       "    </tr>\n",
       "  </thead>\n",
       "  <tbody>\n",
       "    <tr>\n",
       "      <th>Prediction</th>\n",
       "      <td>1058</td>\n",
       "      <td>13416</td>\n",
       "      <td>741</td>\n",
       "      <td>389</td>\n",
       "      <td>0.928</td>\n",
       "      <td>0.652</td>\n",
       "      <td>0.588</td>\n",
       "      <td>0.731</td>\n",
       "    </tr>\n",
       "    <tr>\n",
       "      <th>Relevance threshold = 0.9</th>\n",
       "      <td>1080</td>\n",
       "      <td>13360</td>\n",
       "      <td>797</td>\n",
       "      <td>367</td>\n",
       "      <td>0.925</td>\n",
       "      <td>0.650</td>\n",
       "      <td>0.575</td>\n",
       "      <td>0.746</td>\n",
       "    </tr>\n",
       "    <tr>\n",
       "      <th>Relevance threshold = 0.8</th>\n",
       "      <td>1086</td>\n",
       "      <td>13348</td>\n",
       "      <td>809</td>\n",
       "      <td>361</td>\n",
       "      <td>0.925</td>\n",
       "      <td>0.650</td>\n",
       "      <td>0.573</td>\n",
       "      <td>0.751</td>\n",
       "    </tr>\n",
       "    <tr>\n",
       "      <th>Relevance threshold = 0.7</th>\n",
       "      <td>1102</td>\n",
       "      <td>13297</td>\n",
       "      <td>860</td>\n",
       "      <td>345</td>\n",
       "      <td>0.923</td>\n",
       "      <td>0.647</td>\n",
       "      <td>0.562</td>\n",
       "      <td>0.762</td>\n",
       "    </tr>\n",
       "    <tr>\n",
       "      <th>Relevance threshold = 0.6</th>\n",
       "      <td>1143</td>\n",
       "      <td>13077</td>\n",
       "      <td>1080</td>\n",
       "      <td>304</td>\n",
       "      <td>0.911</td>\n",
       "      <td>0.623</td>\n",
       "      <td>0.514</td>\n",
       "      <td>0.790</td>\n",
       "    </tr>\n",
       "    <tr>\n",
       "      <th>Relevance threshold = 0.5</th>\n",
       "      <td>1194</td>\n",
       "      <td>12729</td>\n",
       "      <td>1428</td>\n",
       "      <td>253</td>\n",
       "      <td>0.892</td>\n",
       "      <td>0.587</td>\n",
       "      <td>0.455</td>\n",
       "      <td>0.825</td>\n",
       "    </tr>\n",
       "  </tbody>\n",
       "</table>\n",
       "</div>"
      ],
      "text/plain": [
       "                             TP     TN    FP   FN  accuracy     f1  precision  \\\n",
       "Prediction                 1058  13416   741  389     0.928  0.652      0.588   \n",
       "Relevance threshold = 0.9  1080  13360   797  367     0.925  0.650      0.575   \n",
       "Relevance threshold = 0.8  1086  13348   809  361     0.925  0.650      0.573   \n",
       "Relevance threshold = 0.7  1102  13297   860  345     0.923  0.647      0.562   \n",
       "Relevance threshold = 0.6  1143  13077  1080  304     0.911  0.623      0.514   \n",
       "Relevance threshold = 0.5  1194  12729  1428  253     0.892  0.587      0.455   \n",
       "\n",
       "                           recall  \n",
       "Prediction                  0.731  \n",
       "Relevance threshold = 0.9   0.746  \n",
       "Relevance threshold = 0.8   0.751  \n",
       "Relevance threshold = 0.7   0.762  \n",
       "Relevance threshold = 0.6   0.790  \n",
       "Relevance threshold = 0.5   0.825  "
      ]
     },
     "execution_count": 26,
     "metadata": {},
     "output_type": "execute_result"
    }
   ],
   "source": [
    "comparison_normalised_brodmann"
   ]
  },
  {
   "cell_type": "markdown",
   "metadata": {},
   "source": [
    "Down below we show the **effect that the application of rules have over the predicted brain map**."
   ]
  },
  {
   "cell_type": "code",
   "execution_count": 27,
   "metadata": {},
   "outputs": [
    {
     "name": "stdout",
     "output_type": "stream",
     "text": [
      "With a relevance threshold of 0.9, 78 regions were marked as hypometabolic: 22 correctly (28.21 %) and 56 incorrectly\n",
      "With a relevance threshold of 0.8, 96 regions were marked as hypometabolic: 28 correctly (29.17 %) and 68 incorrectly\n",
      "With a relevance threshold of 0.7, 163 regions were marked as hypometabolic: 44 correctly (26.99 %) and 119 incorrectly\n",
      "With a relevance threshold of 0.6, 424 regions were marked as hypometabolic: 85 correctly (20.05 %) and 339 incorrectly\n",
      "With a relevance threshold of 0.5, 823 regions were marked as hypometabolic: 136 correctly (16.52 %) and 687 incorrectly\n"
     ]
    }
   ],
   "source": [
    "for i in added_normalised_brodmann: print(i)"
   ]
  },
  {
   "cell_type": "markdown",
   "metadata": {},
   "source": [
    "Down below we show the **effect that the application of rules have over each of the predicted regions**."
   ]
  },
  {
   "cell_type": "code",
   "execution_count": 28,
   "metadata": {},
   "outputs": [
    {
     "data": {
      "image/png": "[encoded data removed]",
      "text/plain": [
       "<Figure size 1152x576 with 4 Axes>"
      ]
     },
     "metadata": {
      "needs_background": "light"
     },
     "output_type": "display_data"
    }
   ],
   "source": [
    "matplotlib.rcParams['figure.figsize'] = (16,8)\n",
    "fig,ax =matplotlib.pyplot.subplots(1,2)\n",
    "seaborn.heatmap(correct_normalised_brodmann_regions.transpose(),cmap='Blues',xticklabels=True,yticklabels=True,ax=ax[0])\n",
    "ax[0].title.set_text('Number of hypometabolic labels correctly added')\n",
    "ax[0].set_xlabel('Relevance threshold')\n",
    "seaborn.heatmap(percentage_normalised_brodmann_regions.transpose(),cmap='Reds',xticklabels=True,yticklabels=True,ax=ax[1])\n",
    "ax[1].title.set_text('Percentage of hypometabolic labels correctly added')\n",
    "ax[1].set_xlabel('Relevance threshold')\n",
    "fig.show()"
   ]
  },
  {
   "cell_type": "markdown",
   "metadata": {},
   "source": [
    "### Conclusions"
   ]
  },
  {
   "cell_type": "markdown",
   "metadata": {},
   "source": [
    "In order to measure the validity of our rules, it is important to know what result should we expect if we did random changes from negative labels to positive labels in our predicted datasets. As we have seen, it would be expected that only 3-4% of values are correctly labelled. This low percentage can be explained by two facts. First, the percentage of positive labels is by itself very low in the real dataset (10%). Second, our models have already predicted correctly part of this positive labels, which mean that only very few remain available for correction. Taking this into consideration, it is evident that **our rules perform better than a random generator would do**. Even so, **incorrect modifications are more common than correct modifications**, which explains why accuracy and precision always fall. Recall, on the other hand, can only improve. \n",
    "\n",
    "**As we consider lower relevance thresholds**, we allow more rules and more modifications to be considered. When the number of modifications is low, they tend to be more accurate; when the number of modifications is high, they tend to be less accurate. The consequence is that **recall increase while accuracy and precision decrease**. **As for the two different type of rules**, normalised rules result in less changes being made, which makes sense because we are being more strict. However, **absolute rules usually perform better at similar magnitudes**. The explanation is that normalised rules are very useful from the clinical point of view, but a pure data driven mechanism is expected to yield better metrics.\n",
    "\n",
    "Eventually, if we focus in the correction region by region, it is clear that absolute rules will lead regions with already high levels of hypometabolism to show more changes. This explains why we see blocks where the rules appear to have a greater impact. In the other hand, normalised rules show more realistic relations. Looking at them, we can see that **certain regions appear to be more affected than others by the rules**; these are: P2 (L), T2 (R), T3 (R), IN (R), B10, B40, B20, B21. To the moment we have only referred to the number of correct changes. In terms of percentage of correct changes, some regions that stand out are: F2 (R), OC (L), P1 (R), POST (L), PQ (R), PCIN (L), B23, B40, B20.\n",
    "\n",
    "So, why are we struggling with correctly modifying non-hipometabolism to hipometabolism? \n",
    "\n",
    "- **Rules are very simple, which brings uncertainty**: in the rule '*if A is hypometabolic, then B is hypometabolic with a probability of 0.6*' we know the rule can be applied in 60% of cases but we don't know which cases they are; therefore, we may apply it when not needed or not apply it when needed.\n",
    "- **We are in a very difficult scenario**: many positive labels have already been predicted correctly with our models, so what is left are the difficult cases. \n",
    "- **We are in a very unstable scenario**: the models predicted wrongly in some cases, so the rules are acting over uncertain prior knowledge."
   ]
  }
 ],
 "metadata": {
  "kernelspec": {
   "display_name": "Python 3",
   "language": "python",
   "name": "python3"
  },
  "language_info": {
   "codemirror_mode": {
    "name": "ipython",
    "version": 3
   },
   "file_extension": ".py",
   "mimetype": "text/x-python",
   "name": "python",
   "nbconvert_exporter": "python",
   "pygments_lexer": "ipython3",
   "version": "3.7.6"
  }
 },
 "nbformat": 4,
 "nbformat_minor": 4
}
