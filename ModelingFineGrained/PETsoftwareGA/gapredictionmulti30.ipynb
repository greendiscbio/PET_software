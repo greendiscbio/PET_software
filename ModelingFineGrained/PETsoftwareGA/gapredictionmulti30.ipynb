{
 "cells": [
  {
   "cell_type": "markdown",
   "metadata": {},
   "source": [
    "# Prediction with genetic algorithms and correction with probabilistic rules"
   ]
  },
  {
   "cell_type": "markdown",
   "metadata": {},
   "source": [
    "This notebook gathers the results for the predictions made on the multi-objective genetic algorithms, considering a binary threshold of 30, and the later correction using probabilistic rules."
   ]
  },
  {
   "cell_type": "markdown",
   "metadata": {},
   "source": [
    "### Brief explanation"
   ]
  },
  {
   "cell_type": "markdown",
   "metadata": {},
   "source": [
    "With the already chosen best models, we predicted hypometabolism for the patients in our database. By predicting each brain region independently, we created a whole brain map. However, and since variability was a big deal in some regions, we performed 10 predictions per region, which led to 10 different brain maps. For each of them, absolute and normalised probabilistic rules were applied. Eventually, consensus brain maps were calculated before and after rule application. The relevance threshold, which determines how strict we are in considering rules, has been set as a parameter varying from 0.5 to 1."
   ]
  },
  {
   "cell_type": "markdown",
   "metadata": {},
   "source": [
    "### Import the packages"
   ]
  },
  {
   "cell_type": "markdown",
   "metadata": {},
   "source": [
    "We import the packages that will be needed. In this case, everything is already contained in the prtools.py file."
   ]
  },
  {
   "cell_type": "code",
   "execution_count": 1,
   "metadata": {},
   "outputs": [],
   "source": [
    "import matplotlib\n",
    "import seaborn\n",
    "import warnings\n",
    "import sys\n",
    "sys.path.insert(0,'../../Tools')\n",
    "from orderedlist import *\n",
    "from prtools import *\n",
    "da = Datasets()\n",
    "ra = RuleApplication()"
   ]
  },
  {
   "cell_type": "code",
   "execution_count": 2,
   "metadata": {},
   "outputs": [],
   "source": [
    "warnings.filterwarnings('ignore')\n",
    "pandas.set_option('display.max_rows', None)\n",
    "pandas.set_option('display.max_columns', None)\n",
    "pandas.set_option('display.width', None)\n",
    "pandas.set_option('display.max_colwidth', None)"
   ]
  },
  {
   "cell_type": "markdown",
   "metadata": {},
   "source": [
    "### Preparation of results"
   ]
  },
  {
   "cell_type": "markdown",
   "metadata": {},
   "source": [
    "#### General stuff"
   ]
  },
  {
   "cell_type": "code",
   "execution_count": 3,
   "metadata": {},
   "outputs": [],
   "source": [
    "real_aal = da.define_binary(pandas.read_csv('../../Data/Y_aal_quan.csv'),30)\n",
    "real_brodmann = da.define_binary(pandas.read_csv('../../Data/Y_brodmann_quan.csv'),30)\n",
    "prediction_aal = pandas.read_csv('./Prediction_multi_30/Prediction/prediction_aal.csv')\n",
    "prediction_brodmann = pandas.read_csv('./Prediction_multi_30/Prediction/prediction_brodmann.csv')"
   ]
  },
  {
   "cell_type": "code",
   "execution_count": 4,
   "metadata": {},
   "outputs": [],
   "source": [
    "relevance_thresholds_absolute = [1,0.975,0.950,0.925,0.9,0.8,0.7,0.6,0.5]\n",
    "relevance_thresholds_normalised = [0.9,0.8,0.7,0.6,0.5]"
   ]
  },
  {
   "cell_type": "code",
   "execution_count": 5,
   "metadata": {},
   "outputs": [],
   "source": [
    "aal_list.remove('f1mo_l')\n",
    "aal_list.remove('f1mo_r')"
   ]
  },
  {
   "cell_type": "markdown",
   "metadata": {},
   "source": [
    "#### Absolute rules"
   ]
  },
  {
   "cell_type": "code",
   "execution_count": 6,
   "metadata": {},
   "outputs": [],
   "source": [
    "comparison_absolute_aal = ra.compare_with_real(prediction_aal,real_aal)\n",
    "comparison_absolute_brodmann = ra.compare_with_real(prediction_brodmann,real_brodmann)\n",
    "index = ['Prediction']\n",
    "for relevance_threshold in relevance_thresholds_absolute:\n",
    "    absolute_aal = pandas.read_csv('./Prediction_multi_30/Absolute/correction_aal_'+str(relevance_threshold)+'.csv')\n",
    "    absolute_brodmann = pandas.read_csv('./Prediction_multi_30/Absolute/correction_brodmann_'+str(relevance_threshold)+'.csv')\n",
    "    comparison_absolute_aal = pandas.concat([comparison_absolute_aal,ra.compare_with_real(absolute_aal,real_aal)],axis=0)\n",
    "    comparison_absolute_brodmann = pandas.concat([comparison_absolute_brodmann,ra.compare_with_real(absolute_brodmann,real_brodmann)],axis=0)\n",
    "    index.append('Relevance threshold = '+str(relevance_threshold))\n",
    "comparison_absolute_aal.index = index\n",
    "comparison_absolute_brodmann.index = index"
   ]
  },
  {
   "cell_type": "code",
   "execution_count": 7,
   "metadata": {},
   "outputs": [],
   "source": [
    "TFP_absolute_aal = comparison_absolute_aal[['TP','FP']].transpose()\n",
    "TFP_absolute_brodmann = comparison_absolute_brodmann[['TP','FP']].transpose()\n",
    "added_absolute_aal = []\n",
    "added_absolute_brodmann = []\n",
    "for relevance_threshold in relevance_thresholds_absolute:\n",
    "        temp_TFP_aal = TFP_absolute_aal['Relevance threshold = '+str(relevance_threshold)]-TFP_absolute_aal['Prediction']\n",
    "        temp_TFP_brodmann = TFP_absolute_brodmann['Relevance threshold = '+str(relevance_threshold)]-TFP_absolute_brodmann['Prediction']\n",
    "        added_absolute_aal.append('With a relevance threshold of '+str(relevance_threshold)+', '+str(temp_TFP_aal[0]+temp_TFP_aal[1])+' regions were marked as hypometabolic: '+str(temp_TFP_aal[0])+' correctly ('+str(round(temp_TFP_aal[0]*100/(temp_TFP_aal[0]+temp_TFP_aal[1]),2))+' %) and '+str(temp_TFP_aal[1])+' incorrectly')\n",
    "        added_absolute_brodmann.append('With a relevance threshold of '+str(relevance_threshold)+', '+str(temp_TFP_brodmann[0]+temp_TFP_brodmann[1])+' regions were marked as hypometabolic: '+str(temp_TFP_brodmann[0])+' correctly ('+str(round(temp_TFP_brodmann[0]*100/(temp_TFP_brodmann[0]+temp_TFP_brodmann[1]),2))+' %) and '+str(temp_TFP_brodmann[1])+' incorrectly')"
   ]
  },
  {
   "cell_type": "code",
   "execution_count": 8,
   "metadata": {},
   "outputs": [],
   "source": [
    "correct_absolute_aal_regions = pandas.DataFrame()\n",
    "percentage_absolute_aal_regions = pandas.DataFrame()\n",
    "for task in aal_list:\n",
    "    try:\n",
    "        corrects = []\n",
    "        percentages = []\n",
    "        to_compare = ra.compare_with_real(prediction_aal[[task]],real_aal[[task]])\n",
    "        for relevance_threshold in relevance_thresholds_absolute:\n",
    "            absolute_aal = pandas.read_csv('./Prediction_multi_30/Absolute/correction_aal_'+str(relevance_threshold)+'.csv')\n",
    "            compare_to = ra.compare_with_real(absolute_aal[[task]],real_aal[[task]])\n",
    "            correct = int(compare_to['TP']-to_compare['TP'])\n",
    "            incorrect = int(compare_to['FP']-to_compare['FP'])\n",
    "            try: percentage = round(float(correct/(correct+incorrect)),2)\n",
    "            except: percentage = numpy.nan\n",
    "            corrects.append(correct)\n",
    "            percentages.append(percentage)\n",
    "        temp_corrects = pandas.DataFrame({task:corrects})\n",
    "        temp_percentages = pandas.DataFrame({task:percentages})\n",
    "        try: correct_absolute_aal_regions = pandas.concat([correct_absolute_aal_regions,temp_corrects],axis=1)\n",
    "        except: correct_absolute_aal_regions = temp_corrects\n",
    "        try: percentage_absolute_aal_regions = pandas.concat([percentage_absolute_aal_regions,temp_percentages],axis=1)\n",
    "        except: percentage_absolute_aal_regions = temp_percentages\n",
    "    except: pass\n",
    "correct_absolute_aal_regions.index = relevance_thresholds_absolute\n",
    "percentage_absolute_aal_regions.index = relevance_thresholds_absolute"
   ]
  },
  {
   "cell_type": "code",
   "execution_count": 9,
   "metadata": {},
   "outputs": [],
   "source": [
    "correct_absolute_brodmann_regions = pandas.DataFrame()\n",
    "percentage_absolute_brodmann_regions = pandas.DataFrame()\n",
    "for task in brodmann_list:\n",
    "    try:\n",
    "        to_compare = ra.compare_with_real(prediction_brodmann[[task]],real_brodmann[[task]])\n",
    "        corrects = []\n",
    "        percentages = []\n",
    "        for relevance_threshold in relevance_thresholds_absolute:\n",
    "            absolute_brodmann = pandas.read_csv('./Prediction_multi_30/Absolute/correction_brodmann_'+str(relevance_threshold)+'.csv')\n",
    "            compare_to = ra.compare_with_real(absolute_brodmann[[task]],real_brodmann[[task]])\n",
    "            correct = int(compare_to['TP']-to_compare['TP'])\n",
    "            incorrect = int(compare_to['FP']-to_compare['FP'])\n",
    "            try: percentage = round(float(correct/(correct+incorrect)),2)\n",
    "            except: percentage = numpy.nan\n",
    "            corrects.append(correct)\n",
    "            percentages.append(percentage)\n",
    "        temp_corrects = pandas.DataFrame({task:corrects})\n",
    "        temp_percentages = pandas.DataFrame({task:percentages})\n",
    "        try: correct_absolute_brodmann_regions = pandas.concat([correct_absolute_brodmann_regions,temp_corrects],axis=1)\n",
    "        except: correct_absolute_brodmann_regions = temp_corrects\n",
    "        try: percentage_absolute_brodmann_regions = pandas.concat([percentage_absolute_brodmann_regions,temp_percentages],axis=1)\n",
    "        except: percentage_absolute_brodmann_regions = temp_percentages\n",
    "    except:pass\n",
    "correct_absolute_brodmann_regions.index = relevance_thresholds_absolute\n",
    "percentage_absolute_brodmann_regions.index = relevance_thresholds_absolute"
   ]
  },
  {
   "cell_type": "markdown",
   "metadata": {},
   "source": [
    "#### Normalised rules"
   ]
  },
  {
   "cell_type": "code",
   "execution_count": 10,
   "metadata": {},
   "outputs": [],
   "source": [
    "comparison_normalised_aal = ra.compare_with_real(prediction_aal,real_aal)\n",
    "comparison_normalised_brodmann = ra.compare_with_real(prediction_brodmann,real_brodmann)\n",
    "index = ['Prediction']\n",
    "for relevance_threshold in relevance_thresholds_normalised:\n",
    "    normalised_aal = pandas.read_csv('./Prediction_multi_30/Normalised/correction_aal_'+str(relevance_threshold)+'.csv')\n",
    "    normalised_brodmann = pandas.read_csv('./Prediction_multi_30/Normalised/correction_brodmann_'+str(relevance_threshold)+'.csv')\n",
    "    comparison_normalised_aal = pandas.concat([comparison_normalised_aal,ra.compare_with_real(normalised_aal,real_aal)],axis=0)\n",
    "    comparison_normalised_brodmann = pandas.concat([comparison_normalised_brodmann,ra.compare_with_real(normalised_brodmann,real_brodmann)],axis=0)\n",
    "    index.append('Relevance threshold = '+str(relevance_threshold))\n",
    "comparison_normalised_aal.index = index\n",
    "comparison_normalised_brodmann.index = index"
   ]
  },
  {
   "cell_type": "code",
   "execution_count": 11,
   "metadata": {},
   "outputs": [],
   "source": [
    "TFP_normalised_aal = comparison_normalised_aal[['TP','FP']].transpose()\n",
    "TFP_normalised_brodmann = comparison_normalised_brodmann[['TP','FP']].transpose()\n",
    "added_normalised_aal = []\n",
    "added_normalised_brodmann = []\n",
    "for relevance_threshold in relevance_thresholds_normalised:\n",
    "        temp_TFP_aal = TFP_normalised_aal['Relevance threshold = '+str(relevance_threshold)]-TFP_normalised_aal['Prediction']\n",
    "        temp_TFP_brodmann = TFP_normalised_brodmann['Relevance threshold = '+str(relevance_threshold)]-TFP_normalised_brodmann['Prediction']\n",
    "        added_normalised_aal.append('With a relevance threshold of '+str(relevance_threshold)+', '+str(temp_TFP_aal[0]+temp_TFP_aal[1])+' regions were marked as hypometabolic: '+str(temp_TFP_aal[0])+' correctly ('+str(round(temp_TFP_aal[0]*100/(temp_TFP_aal[0]+temp_TFP_aal[1]),2))+' %) and '+str(temp_TFP_aal[1])+' incorrectly')\n",
    "        added_normalised_brodmann.append('With a relevance threshold of '+str(relevance_threshold)+', '+str(temp_TFP_brodmann[0]+temp_TFP_brodmann[1])+' regions were marked as hypometabolic: '+str(temp_TFP_brodmann[0])+' correctly ('+str(round(temp_TFP_brodmann[0]*100/(temp_TFP_brodmann[0]+temp_TFP_brodmann[1]),2))+' %) and '+str(temp_TFP_brodmann[1])+' incorrectly')"
   ]
  },
  {
   "cell_type": "code",
   "execution_count": 12,
   "metadata": {},
   "outputs": [],
   "source": [
    "correct_normalised_aal_regions = pandas.DataFrame()\n",
    "percentage_normalised_aal_regions = pandas.DataFrame()\n",
    "for task in aal_list:\n",
    "    try:\n",
    "        corrects = []\n",
    "        percentages = []\n",
    "        to_compare = ra.compare_with_real(prediction_aal[[task]],real_aal[[task]])\n",
    "        for relevance_threshold in relevance_thresholds_normalised:\n",
    "            normalised_aal = pandas.read_csv('./Prediction_multi_30/Normalised/correction_aal_'+str(relevance_threshold)+'.csv')\n",
    "            compare_to = ra.compare_with_real(normalised_aal[[task]],real_aal[[task]])\n",
    "            correct = int(compare_to['TP']-to_compare['TP'])\n",
    "            incorrect = int(compare_to['FP']-to_compare['FP'])\n",
    "            try: percentage = round(float(correct/(correct+incorrect)),2)\n",
    "            except: percentage = numpy.nan\n",
    "            corrects.append(correct)\n",
    "            percentages.append(percentage)\n",
    "        temp_corrects = pandas.DataFrame({task:corrects})\n",
    "        temp_percentages = pandas.DataFrame({task:percentages})\n",
    "        try: correct_normalised_aal_regions = pandas.concat([correct_normalised_aal_regions,temp_corrects],axis=1)\n",
    "        except: correct_normalised_aal_regions = temp_corrects\n",
    "        try: percentage_normalised_aal_regions = pandas.concat([percentage_normalised_aal_regions,temp_percentages],axis=1)\n",
    "        except: percentage_normalised_aal_regions = temp_percentages\n",
    "    except: pass\n",
    "correct_normalised_aal_regions.index = relevance_thresholds_normalised\n",
    "percentage_normalised_aal_regions.index = relevance_thresholds_normalised"
   ]
  },
  {
   "cell_type": "code",
   "execution_count": 13,
   "metadata": {},
   "outputs": [],
   "source": [
    "correct_normalised_brodmann_regions = pandas.DataFrame()\n",
    "percentage_normalised_brodmann_regions = pandas.DataFrame()\n",
    "for task in brodmann_list:\n",
    "    try:\n",
    "        to_compare = ra.compare_with_real(prediction_brodmann[[task]],real_brodmann[[task]])\n",
    "        corrects = []\n",
    "        percentages = []\n",
    "        for relevance_threshold in relevance_thresholds_normalised:\n",
    "            normalised_brodmann = pandas.read_csv('./Prediction_multi_30/Normalised/correction_brodmann_'+str(relevance_threshold)+'.csv')\n",
    "            compare_to = ra.compare_with_real(normalised_brodmann[[task]],real_brodmann[[task]])\n",
    "            correct = int(compare_to['TP']-to_compare['TP'])\n",
    "            incorrect = int(compare_to['FP']-to_compare['FP'])\n",
    "            try: percentage = round(float(correct/(correct+incorrect)),2)\n",
    "            except: percentage = numpy.nan\n",
    "            corrects.append(correct)\n",
    "            percentages.append(percentage)\n",
    "        temp_corrects = pandas.DataFrame({task:corrects})\n",
    "        temp_percentages = pandas.DataFrame({task:percentages})\n",
    "        try: correct_normalised_brodmann_regions = pandas.concat([correct_normalised_brodmann_regions,temp_corrects],axis=1)\n",
    "        except: correct_normalised_brodmann_regions = temp_corrects\n",
    "        try: percentage_normalised_brodmann_regions = pandas.concat([percentage_normalised_brodmann_regions,temp_percentages],axis=1)\n",
    "        except: percentage_normalised_brodmann_regions = temp_percentages\n",
    "    except:pass\n",
    "correct_normalised_brodmann_regions.index = relevance_thresholds_normalised\n",
    "percentage_normalised_brodmann_regions.index = relevance_thresholds_normalised"
   ]
  },
  {
   "cell_type": "markdown",
   "metadata": {},
   "source": [
    "#### Random rules"
   ]
  },
  {
   "cell_type": "code",
   "execution_count": 14,
   "metadata": {},
   "outputs": [],
   "source": [
    "FN_aal = comparison_absolute_aal.loc['Prediction']['FN']\n",
    "TFN_aal = comparison_absolute_aal.loc['Prediction']['FN'] + comparison_absolute_aal.loc['Prediction']['TN']\n",
    "FN_brodmann = comparison_absolute_brodmann.loc['Prediction']['FN']\n",
    "TFN_brodmann = comparison_absolute_brodmann.loc['Prediction']['FN'] + comparison_absolute_brodmann.loc['Prediction']['TN']\n",
    "random_aal = str(round((FN_aal*100/TFN_aal),2))+' %'\n",
    "random_brodmann = str(round((FN_brodmann*100/TFN_brodmann),2))+' %'"
   ]
  },
  {
   "cell_type": "markdown",
   "metadata": {},
   "source": [
    "### Results"
   ]
  },
  {
   "cell_type": "markdown",
   "metadata": {},
   "source": [
    "#### AAL atlas (90 regions)"
   ]
  },
  {
   "cell_type": "markdown",
   "metadata": {},
   "source": [
    "##### Using random corrector"
   ]
  },
  {
   "cell_type": "markdown",
   "metadata": {},
   "source": [
    "A program that randomly changes negative labels to positive labels in our predicted dataset would label correctly what percentage of values?"
   ]
  },
  {
   "cell_type": "code",
   "execution_count": 15,
   "metadata": {},
   "outputs": [
    {
     "name": "stdout",
     "output_type": "stream",
     "text": [
      "5.83 %\n"
     ]
    }
   ],
   "source": [
    "print(random_aal)"
   ]
  },
  {
   "cell_type": "markdown",
   "metadata": {},
   "source": [
    "##### Using absolute rules"
   ]
  },
  {
   "cell_type": "markdown",
   "metadata": {},
   "source": [
    "Down below we show the **metrics associated to both the predictions and later corrections through probabilistic rules**."
   ]
  },
  {
   "cell_type": "code",
   "execution_count": 16,
   "metadata": {},
   "outputs": [
    {
     "data": {
      "text/html": [
       "<div>\n",
       "<style scoped>\n",
       "    .dataframe tbody tr th:only-of-type {\n",
       "        vertical-align: middle;\n",
       "    }\n",
       "\n",
       "    .dataframe tbody tr th {\n",
       "        vertical-align: top;\n",
       "    }\n",
       "\n",
       "    .dataframe thead th {\n",
       "        text-align: right;\n",
       "    }\n",
       "</style>\n",
       "<table border=\"1\" class=\"dataframe\">\n",
       "  <thead>\n",
       "    <tr style=\"text-align: right;\">\n",
       "      <th></th>\n",
       "      <th>TP</th>\n",
       "      <th>TN</th>\n",
       "      <th>FP</th>\n",
       "      <th>FN</th>\n",
       "      <th>accuracy</th>\n",
       "      <th>f1</th>\n",
       "      <th>precision</th>\n",
       "      <th>recall</th>\n",
       "    </tr>\n",
       "  </thead>\n",
       "  <tbody>\n",
       "    <tr>\n",
       "      <th>Prediction</th>\n",
       "      <td>3146</td>\n",
       "      <td>22523</td>\n",
       "      <td>2817</td>\n",
       "      <td>1394</td>\n",
       "      <td>0.859</td>\n",
       "      <td>0.599</td>\n",
       "      <td>0.528</td>\n",
       "      <td>0.693</td>\n",
       "    </tr>\n",
       "    <tr>\n",
       "      <th>Relevance threshold = 1</th>\n",
       "      <td>3160</td>\n",
       "      <td>22490</td>\n",
       "      <td>2850</td>\n",
       "      <td>1380</td>\n",
       "      <td>0.858</td>\n",
       "      <td>0.599</td>\n",
       "      <td>0.526</td>\n",
       "      <td>0.696</td>\n",
       "    </tr>\n",
       "    <tr>\n",
       "      <th>Relevance threshold = 0.975</th>\n",
       "      <td>3307</td>\n",
       "      <td>21915</td>\n",
       "      <td>3425</td>\n",
       "      <td>1233</td>\n",
       "      <td>0.844</td>\n",
       "      <td>0.587</td>\n",
       "      <td>0.491</td>\n",
       "      <td>0.728</td>\n",
       "    </tr>\n",
       "    <tr>\n",
       "      <th>Relevance threshold = 0.95</th>\n",
       "      <td>3307</td>\n",
       "      <td>21915</td>\n",
       "      <td>3425</td>\n",
       "      <td>1233</td>\n",
       "      <td>0.844</td>\n",
       "      <td>0.587</td>\n",
       "      <td>0.491</td>\n",
       "      <td>0.728</td>\n",
       "    </tr>\n",
       "    <tr>\n",
       "      <th>Relevance threshold = 0.925</th>\n",
       "      <td>3325</td>\n",
       "      <td>21837</td>\n",
       "      <td>3503</td>\n",
       "      <td>1215</td>\n",
       "      <td>0.842</td>\n",
       "      <td>0.585</td>\n",
       "      <td>0.487</td>\n",
       "      <td>0.732</td>\n",
       "    </tr>\n",
       "    <tr>\n",
       "      <th>Relevance threshold = 0.9</th>\n",
       "      <td>3426</td>\n",
       "      <td>21506</td>\n",
       "      <td>3834</td>\n",
       "      <td>1114</td>\n",
       "      <td>0.834</td>\n",
       "      <td>0.581</td>\n",
       "      <td>0.472</td>\n",
       "      <td>0.755</td>\n",
       "    </tr>\n",
       "    <tr>\n",
       "      <th>Relevance threshold = 0.8</th>\n",
       "      <td>3611</td>\n",
       "      <td>20456</td>\n",
       "      <td>4884</td>\n",
       "      <td>929</td>\n",
       "      <td>0.805</td>\n",
       "      <td>0.554</td>\n",
       "      <td>0.425</td>\n",
       "      <td>0.795</td>\n",
       "    </tr>\n",
       "    <tr>\n",
       "      <th>Relevance threshold = 0.7</th>\n",
       "      <td>3850</td>\n",
       "      <td>18597</td>\n",
       "      <td>6743</td>\n",
       "      <td>690</td>\n",
       "      <td>0.751</td>\n",
       "      <td>0.509</td>\n",
       "      <td>0.363</td>\n",
       "      <td>0.848</td>\n",
       "    </tr>\n",
       "    <tr>\n",
       "      <th>Relevance threshold = 0.6</th>\n",
       "      <td>4047</td>\n",
       "      <td>16293</td>\n",
       "      <td>9047</td>\n",
       "      <td>493</td>\n",
       "      <td>0.681</td>\n",
       "      <td>0.459</td>\n",
       "      <td>0.309</td>\n",
       "      <td>0.891</td>\n",
       "    </tr>\n",
       "    <tr>\n",
       "      <th>Relevance threshold = 0.5</th>\n",
       "      <td>4169</td>\n",
       "      <td>14193</td>\n",
       "      <td>11147</td>\n",
       "      <td>371</td>\n",
       "      <td>0.615</td>\n",
       "      <td>0.420</td>\n",
       "      <td>0.272</td>\n",
       "      <td>0.918</td>\n",
       "    </tr>\n",
       "  </tbody>\n",
       "</table>\n",
       "</div>"
      ],
      "text/plain": [
       "                               TP     TN     FP    FN  accuracy     f1  \\\n",
       "Prediction                   3146  22523   2817  1394     0.859  0.599   \n",
       "Relevance threshold = 1      3160  22490   2850  1380     0.858  0.599   \n",
       "Relevance threshold = 0.975  3307  21915   3425  1233     0.844  0.587   \n",
       "Relevance threshold = 0.95   3307  21915   3425  1233     0.844  0.587   \n",
       "Relevance threshold = 0.925  3325  21837   3503  1215     0.842  0.585   \n",
       "Relevance threshold = 0.9    3426  21506   3834  1114     0.834  0.581   \n",
       "Relevance threshold = 0.8    3611  20456   4884   929     0.805  0.554   \n",
       "Relevance threshold = 0.7    3850  18597   6743   690     0.751  0.509   \n",
       "Relevance threshold = 0.6    4047  16293   9047   493     0.681  0.459   \n",
       "Relevance threshold = 0.5    4169  14193  11147   371     0.615  0.420   \n",
       "\n",
       "                             precision  recall  \n",
       "Prediction                       0.528   0.693  \n",
       "Relevance threshold = 1          0.526   0.696  \n",
       "Relevance threshold = 0.975      0.491   0.728  \n",
       "Relevance threshold = 0.95       0.491   0.728  \n",
       "Relevance threshold = 0.925      0.487   0.732  \n",
       "Relevance threshold = 0.9        0.472   0.755  \n",
       "Relevance threshold = 0.8        0.425   0.795  \n",
       "Relevance threshold = 0.7        0.363   0.848  \n",
       "Relevance threshold = 0.6        0.309   0.891  \n",
       "Relevance threshold = 0.5        0.272   0.918  "
      ]
     },
     "execution_count": 16,
     "metadata": {},
     "output_type": "execute_result"
    }
   ],
   "source": [
    "comparison_absolute_aal"
   ]
  },
  {
   "cell_type": "markdown",
   "metadata": {},
   "source": [
    "Down below we show the **effect that the application of rules have over the predicted brain map**."
   ]
  },
  {
   "cell_type": "code",
   "execution_count": 17,
   "metadata": {},
   "outputs": [
    {
     "name": "stdout",
     "output_type": "stream",
     "text": [
      "With a relevance threshold of 1, 47 regions were marked as hypometabolic: 14 correctly (29.79 %) and 33 incorrectly\n",
      "With a relevance threshold of 0.975, 769 regions were marked as hypometabolic: 161 correctly (20.94 %) and 608 incorrectly\n",
      "With a relevance threshold of 0.95, 769 regions were marked as hypometabolic: 161 correctly (20.94 %) and 608 incorrectly\n",
      "With a relevance threshold of 0.925, 865 regions were marked as hypometabolic: 179 correctly (20.69 %) and 686 incorrectly\n",
      "With a relevance threshold of 0.9, 1297 regions were marked as hypometabolic: 280 correctly (21.59 %) and 1017 incorrectly\n",
      "With a relevance threshold of 0.8, 2532 regions were marked as hypometabolic: 465 correctly (18.36 %) and 2067 incorrectly\n",
      "With a relevance threshold of 0.7, 4630 regions were marked as hypometabolic: 704 correctly (15.21 %) and 3926 incorrectly\n",
      "With a relevance threshold of 0.6, 7131 regions were marked as hypometabolic: 901 correctly (12.63 %) and 6230 incorrectly\n",
      "With a relevance threshold of 0.5, 9353 regions were marked as hypometabolic: 1023 correctly (10.94 %) and 8330 incorrectly\n"
     ]
    }
   ],
   "source": [
    "for i in added_absolute_aal: print(i)"
   ]
  },
  {
   "cell_type": "markdown",
   "metadata": {},
   "source": [
    "Down below we show the **effect that the application of rules have over each of the predicted regions**."
   ]
  },
  {
   "cell_type": "code",
   "execution_count": 18,
   "metadata": {},
   "outputs": [
    {
     "data": {
      "image/png": "[encoded data removed]",
      "text/plain": [
       "<Figure size 1152x1152 with 4 Axes>"
      ]
     },
     "metadata": {
      "needs_background": "light"
     },
     "output_type": "display_data"
    }
   ],
   "source": [
    "matplotlib.rcParams['figure.figsize'] = (16,16)\n",
    "fig,ax =matplotlib.pyplot.subplots(1,2)\n",
    "seaborn.heatmap(correct_absolute_aal_regions.transpose(),cmap='Blues',xticklabels=True,yticklabels=True,ax=ax[0])\n",
    "ax[0].title.set_text('Number of hypometabolic labels correctly added')\n",
    "ax[0].set_xlabel('Relevance threshold')\n",
    "seaborn.heatmap(percentage_absolute_aal_regions.transpose(),cmap='Reds',xticklabels=True,yticklabels=True,ax=ax[1])\n",
    "ax[1].title.set_text('Percentage of hypometabolic labels correctly added')\n",
    "ax[1].set_xlabel('Relevance threshold')\n",
    "fig.show()"
   ]
  },
  {
   "cell_type": "markdown",
   "metadata": {},
   "source": [
    "##### Using normalised rules"
   ]
  },
  {
   "cell_type": "markdown",
   "metadata": {},
   "source": [
    "Down below we show the **metrics associated to both the predictions and later corrections through probabilistic rules**."
   ]
  },
  {
   "cell_type": "code",
   "execution_count": 19,
   "metadata": {},
   "outputs": [
    {
     "data": {
      "text/html": [
       "<div>\n",
       "<style scoped>\n",
       "    .dataframe tbody tr th:only-of-type {\n",
       "        vertical-align: middle;\n",
       "    }\n",
       "\n",
       "    .dataframe tbody tr th {\n",
       "        vertical-align: top;\n",
       "    }\n",
       "\n",
       "    .dataframe thead th {\n",
       "        text-align: right;\n",
       "    }\n",
       "</style>\n",
       "<table border=\"1\" class=\"dataframe\">\n",
       "  <thead>\n",
       "    <tr style=\"text-align: right;\">\n",
       "      <th></th>\n",
       "      <th>TP</th>\n",
       "      <th>TN</th>\n",
       "      <th>FP</th>\n",
       "      <th>FN</th>\n",
       "      <th>accuracy</th>\n",
       "      <th>f1</th>\n",
       "      <th>precision</th>\n",
       "      <th>recall</th>\n",
       "    </tr>\n",
       "  </thead>\n",
       "  <tbody>\n",
       "    <tr>\n",
       "      <th>Prediction</th>\n",
       "      <td>3146</td>\n",
       "      <td>22523</td>\n",
       "      <td>2817</td>\n",
       "      <td>1394</td>\n",
       "      <td>0.859</td>\n",
       "      <td>0.599</td>\n",
       "      <td>0.528</td>\n",
       "      <td>0.693</td>\n",
       "    </tr>\n",
       "    <tr>\n",
       "      <th>Relevance threshold = 0.9</th>\n",
       "      <td>3222</td>\n",
       "      <td>22267</td>\n",
       "      <td>3073</td>\n",
       "      <td>1318</td>\n",
       "      <td>0.853</td>\n",
       "      <td>0.595</td>\n",
       "      <td>0.512</td>\n",
       "      <td>0.710</td>\n",
       "    </tr>\n",
       "    <tr>\n",
       "      <th>Relevance threshold = 0.8</th>\n",
       "      <td>3226</td>\n",
       "      <td>22253</td>\n",
       "      <td>3087</td>\n",
       "      <td>1314</td>\n",
       "      <td>0.853</td>\n",
       "      <td>0.594</td>\n",
       "      <td>0.511</td>\n",
       "      <td>0.711</td>\n",
       "    </tr>\n",
       "    <tr>\n",
       "      <th>Relevance threshold = 0.7</th>\n",
       "      <td>3260</td>\n",
       "      <td>22058</td>\n",
       "      <td>3282</td>\n",
       "      <td>1280</td>\n",
       "      <td>0.847</td>\n",
       "      <td>0.588</td>\n",
       "      <td>0.498</td>\n",
       "      <td>0.718</td>\n",
       "    </tr>\n",
       "    <tr>\n",
       "      <th>Relevance threshold = 0.6</th>\n",
       "      <td>3385</td>\n",
       "      <td>21339</td>\n",
       "      <td>4001</td>\n",
       "      <td>1155</td>\n",
       "      <td>0.827</td>\n",
       "      <td>0.568</td>\n",
       "      <td>0.458</td>\n",
       "      <td>0.746</td>\n",
       "    </tr>\n",
       "    <tr>\n",
       "      <th>Relevance threshold = 0.5</th>\n",
       "      <td>3481</td>\n",
       "      <td>20641</td>\n",
       "      <td>4699</td>\n",
       "      <td>1059</td>\n",
       "      <td>0.807</td>\n",
       "      <td>0.547</td>\n",
       "      <td>0.426</td>\n",
       "      <td>0.767</td>\n",
       "    </tr>\n",
       "  </tbody>\n",
       "</table>\n",
       "</div>"
      ],
      "text/plain": [
       "                             TP     TN    FP    FN  accuracy     f1  \\\n",
       "Prediction                 3146  22523  2817  1394     0.859  0.599   \n",
       "Relevance threshold = 0.9  3222  22267  3073  1318     0.853  0.595   \n",
       "Relevance threshold = 0.8  3226  22253  3087  1314     0.853  0.594   \n",
       "Relevance threshold = 0.7  3260  22058  3282  1280     0.847  0.588   \n",
       "Relevance threshold = 0.6  3385  21339  4001  1155     0.827  0.568   \n",
       "Relevance threshold = 0.5  3481  20641  4699  1059     0.807  0.547   \n",
       "\n",
       "                           precision  recall  \n",
       "Prediction                     0.528   0.693  \n",
       "Relevance threshold = 0.9      0.512   0.710  \n",
       "Relevance threshold = 0.8      0.511   0.711  \n",
       "Relevance threshold = 0.7      0.498   0.718  \n",
       "Relevance threshold = 0.6      0.458   0.746  \n",
       "Relevance threshold = 0.5      0.426   0.767  "
      ]
     },
     "execution_count": 19,
     "metadata": {},
     "output_type": "execute_result"
    }
   ],
   "source": [
    "comparison_normalised_aal"
   ]
  },
  {
   "cell_type": "markdown",
   "metadata": {},
   "source": [
    "Down below we show the **effect that the application of rules have over the predicted brain map**."
   ]
  },
  {
   "cell_type": "code",
   "execution_count": 20,
   "metadata": {},
   "outputs": [
    {
     "name": "stdout",
     "output_type": "stream",
     "text": [
      "With a relevance threshold of 0.9, 332 regions were marked as hypometabolic: 76 correctly (22.89 %) and 256 incorrectly\n",
      "With a relevance threshold of 0.8, 350 regions were marked as hypometabolic: 80 correctly (22.86 %) and 270 incorrectly\n",
      "With a relevance threshold of 0.7, 579 regions were marked as hypometabolic: 114 correctly (19.69 %) and 465 incorrectly\n",
      "With a relevance threshold of 0.6, 1423 regions were marked as hypometabolic: 239 correctly (16.8 %) and 1184 incorrectly\n",
      "With a relevance threshold of 0.5, 2217 regions were marked as hypometabolic: 335 correctly (15.11 %) and 1882 incorrectly\n"
     ]
    }
   ],
   "source": [
    "for i in added_normalised_aal: print(i)"
   ]
  },
  {
   "cell_type": "markdown",
   "metadata": {},
   "source": [
    "Down below we show the **effect that the application of rules have over each of the predicted regions**."
   ]
  },
  {
   "cell_type": "code",
   "execution_count": 21,
   "metadata": {},
   "outputs": [
    {
     "data": {
      "image/png": "[encoded data removed]",
      "text/plain": [
       "<Figure size 1152x1152 with 4 Axes>"
      ]
     },
     "metadata": {
      "needs_background": "light"
     },
     "output_type": "display_data"
    }
   ],
   "source": [
    "matplotlib.rcParams['figure.figsize'] = (16,16)\n",
    "fig,ax =matplotlib.pyplot.subplots(1,2)\n",
    "seaborn.heatmap(correct_normalised_aal_regions.transpose(),cmap='Blues',xticklabels=True,yticklabels=True,ax=ax[0])\n",
    "ax[0].title.set_text('Number of hypometabolic labels correctly added')\n",
    "ax[0].set_xlabel('Relevance threshold')\n",
    "seaborn.heatmap(percentage_normalised_aal_regions.transpose(),cmap='Reds',xticklabels=True,yticklabels=True,ax=ax[1])\n",
    "ax[1].title.set_text('Percentage of hypometabolic labels correctly added')\n",
    "ax[1].set_xlabel('Relevance threshold')\n",
    "fig.show()"
   ]
  },
  {
   "cell_type": "markdown",
   "metadata": {},
   "source": [
    "#### Brodmann atlas (47 regions)"
   ]
  },
  {
   "cell_type": "markdown",
   "metadata": {},
   "source": [
    "##### Using random corrector"
   ]
  },
  {
   "cell_type": "markdown",
   "metadata": {},
   "source": [
    "A program that randomly changes negative labels to positive labels in our predicted dataset would label correctly what percentage of values?"
   ]
  },
  {
   "cell_type": "code",
   "execution_count": 22,
   "metadata": {},
   "outputs": [
    {
     "name": "stdout",
     "output_type": "stream",
     "text": [
      "4.89 %\n"
     ]
    }
   ],
   "source": [
    "print(random_brodmann)"
   ]
  },
  {
   "cell_type": "markdown",
   "metadata": {},
   "source": [
    "##### Using absolute rules"
   ]
  },
  {
   "cell_type": "markdown",
   "metadata": {},
   "source": [
    "Down below we show the **metrics associated to both the predictions and later corrections through probabilistic rules**."
   ]
  },
  {
   "cell_type": "code",
   "execution_count": 23,
   "metadata": {},
   "outputs": [
    {
     "data": {
      "text/html": [
       "<div>\n",
       "<style scoped>\n",
       "    .dataframe tbody tr th:only-of-type {\n",
       "        vertical-align: middle;\n",
       "    }\n",
       "\n",
       "    .dataframe tbody tr th {\n",
       "        vertical-align: top;\n",
       "    }\n",
       "\n",
       "    .dataframe thead th {\n",
       "        text-align: right;\n",
       "    }\n",
       "</style>\n",
       "<table border=\"1\" class=\"dataframe\">\n",
       "  <thead>\n",
       "    <tr style=\"text-align: right;\">\n",
       "      <th></th>\n",
       "      <th>TP</th>\n",
       "      <th>TN</th>\n",
       "      <th>FP</th>\n",
       "      <th>FN</th>\n",
       "      <th>accuracy</th>\n",
       "      <th>f1</th>\n",
       "      <th>precision</th>\n",
       "      <th>recall</th>\n",
       "    </tr>\n",
       "  </thead>\n",
       "  <tbody>\n",
       "    <tr>\n",
       "      <th>Prediction</th>\n",
       "      <td>1671</td>\n",
       "      <td>12000</td>\n",
       "      <td>1316</td>\n",
       "      <td>617</td>\n",
       "      <td>0.876</td>\n",
       "      <td>0.634</td>\n",
       "      <td>0.559</td>\n",
       "      <td>0.730</td>\n",
       "    </tr>\n",
       "    <tr>\n",
       "      <th>Relevance threshold = 1</th>\n",
       "      <td>1692</td>\n",
       "      <td>11979</td>\n",
       "      <td>1337</td>\n",
       "      <td>596</td>\n",
       "      <td>0.876</td>\n",
       "      <td>0.636</td>\n",
       "      <td>0.559</td>\n",
       "      <td>0.740</td>\n",
       "    </tr>\n",
       "    <tr>\n",
       "      <th>Relevance threshold = 0.975</th>\n",
       "      <td>1816</td>\n",
       "      <td>11589</td>\n",
       "      <td>1727</td>\n",
       "      <td>472</td>\n",
       "      <td>0.859</td>\n",
       "      <td>0.623</td>\n",
       "      <td>0.513</td>\n",
       "      <td>0.794</td>\n",
       "    </tr>\n",
       "    <tr>\n",
       "      <th>Relevance threshold = 0.95</th>\n",
       "      <td>1818</td>\n",
       "      <td>11580</td>\n",
       "      <td>1736</td>\n",
       "      <td>470</td>\n",
       "      <td>0.859</td>\n",
       "      <td>0.622</td>\n",
       "      <td>0.512</td>\n",
       "      <td>0.795</td>\n",
       "    </tr>\n",
       "    <tr>\n",
       "      <th>Relevance threshold = 0.925</th>\n",
       "      <td>1831</td>\n",
       "      <td>11557</td>\n",
       "      <td>1759</td>\n",
       "      <td>457</td>\n",
       "      <td>0.858</td>\n",
       "      <td>0.623</td>\n",
       "      <td>0.510</td>\n",
       "      <td>0.800</td>\n",
       "    </tr>\n",
       "    <tr>\n",
       "      <th>Relevance threshold = 0.9</th>\n",
       "      <td>1863</td>\n",
       "      <td>11423</td>\n",
       "      <td>1893</td>\n",
       "      <td>425</td>\n",
       "      <td>0.851</td>\n",
       "      <td>0.616</td>\n",
       "      <td>0.496</td>\n",
       "      <td>0.814</td>\n",
       "    </tr>\n",
       "    <tr>\n",
       "      <th>Relevance threshold = 0.8</th>\n",
       "      <td>1943</td>\n",
       "      <td>10998</td>\n",
       "      <td>2318</td>\n",
       "      <td>345</td>\n",
       "      <td>0.829</td>\n",
       "      <td>0.593</td>\n",
       "      <td>0.456</td>\n",
       "      <td>0.849</td>\n",
       "    </tr>\n",
       "    <tr>\n",
       "      <th>Relevance threshold = 0.7</th>\n",
       "      <td>1999</td>\n",
       "      <td>10544</td>\n",
       "      <td>2772</td>\n",
       "      <td>289</td>\n",
       "      <td>0.804</td>\n",
       "      <td>0.566</td>\n",
       "      <td>0.419</td>\n",
       "      <td>0.874</td>\n",
       "    </tr>\n",
       "    <tr>\n",
       "      <th>Relevance threshold = 0.6</th>\n",
       "      <td>2057</td>\n",
       "      <td>10076</td>\n",
       "      <td>3240</td>\n",
       "      <td>231</td>\n",
       "      <td>0.778</td>\n",
       "      <td>0.542</td>\n",
       "      <td>0.388</td>\n",
       "      <td>0.899</td>\n",
       "    </tr>\n",
       "    <tr>\n",
       "      <th>Relevance threshold = 0.5</th>\n",
       "      <td>2091</td>\n",
       "      <td>9690</td>\n",
       "      <td>3626</td>\n",
       "      <td>197</td>\n",
       "      <td>0.755</td>\n",
       "      <td>0.522</td>\n",
       "      <td>0.366</td>\n",
       "      <td>0.914</td>\n",
       "    </tr>\n",
       "  </tbody>\n",
       "</table>\n",
       "</div>"
      ],
      "text/plain": [
       "                               TP     TN    FP   FN  accuracy     f1  \\\n",
       "Prediction                   1671  12000  1316  617     0.876  0.634   \n",
       "Relevance threshold = 1      1692  11979  1337  596     0.876  0.636   \n",
       "Relevance threshold = 0.975  1816  11589  1727  472     0.859  0.623   \n",
       "Relevance threshold = 0.95   1818  11580  1736  470     0.859  0.622   \n",
       "Relevance threshold = 0.925  1831  11557  1759  457     0.858  0.623   \n",
       "Relevance threshold = 0.9    1863  11423  1893  425     0.851  0.616   \n",
       "Relevance threshold = 0.8    1943  10998  2318  345     0.829  0.593   \n",
       "Relevance threshold = 0.7    1999  10544  2772  289     0.804  0.566   \n",
       "Relevance threshold = 0.6    2057  10076  3240  231     0.778  0.542   \n",
       "Relevance threshold = 0.5    2091   9690  3626  197     0.755  0.522   \n",
       "\n",
       "                             precision  recall  \n",
       "Prediction                       0.559   0.730  \n",
       "Relevance threshold = 1          0.559   0.740  \n",
       "Relevance threshold = 0.975      0.513   0.794  \n",
       "Relevance threshold = 0.95       0.512   0.795  \n",
       "Relevance threshold = 0.925      0.510   0.800  \n",
       "Relevance threshold = 0.9        0.496   0.814  \n",
       "Relevance threshold = 0.8        0.456   0.849  \n",
       "Relevance threshold = 0.7        0.419   0.874  \n",
       "Relevance threshold = 0.6        0.388   0.899  \n",
       "Relevance threshold = 0.5        0.366   0.914  "
      ]
     },
     "execution_count": 23,
     "metadata": {},
     "output_type": "execute_result"
    }
   ],
   "source": [
    "comparison_absolute_brodmann"
   ]
  },
  {
   "cell_type": "markdown",
   "metadata": {},
   "source": [
    "Down below we show the **effect that the application of rules have over the predicted brain map**."
   ]
  },
  {
   "cell_type": "code",
   "execution_count": 24,
   "metadata": {},
   "outputs": [
    {
     "name": "stdout",
     "output_type": "stream",
     "text": [
      "With a relevance threshold of 1, 42 regions were marked as hypometabolic: 21 correctly (50.0 %) and 21 incorrectly\n",
      "With a relevance threshold of 0.975, 556 regions were marked as hypometabolic: 145 correctly (26.08 %) and 411 incorrectly\n",
      "With a relevance threshold of 0.95, 567 regions were marked as hypometabolic: 147 correctly (25.93 %) and 420 incorrectly\n",
      "With a relevance threshold of 0.925, 603 regions were marked as hypometabolic: 160 correctly (26.53 %) and 443 incorrectly\n",
      "With a relevance threshold of 0.9, 769 regions were marked as hypometabolic: 192 correctly (24.97 %) and 577 incorrectly\n",
      "With a relevance threshold of 0.8, 1274 regions were marked as hypometabolic: 272 correctly (21.35 %) and 1002 incorrectly\n",
      "With a relevance threshold of 0.7, 1784 regions were marked as hypometabolic: 328 correctly (18.39 %) and 1456 incorrectly\n",
      "With a relevance threshold of 0.6, 2310 regions were marked as hypometabolic: 386 correctly (16.71 %) and 1924 incorrectly\n",
      "With a relevance threshold of 0.5, 2730 regions were marked as hypometabolic: 420 correctly (15.38 %) and 2310 incorrectly\n"
     ]
    }
   ],
   "source": [
    "for i in added_absolute_brodmann: print(i)"
   ]
  },
  {
   "cell_type": "markdown",
   "metadata": {},
   "source": [
    "Down below we show the **effect that the application of rules have over each of the predicted regions**."
   ]
  },
  {
   "cell_type": "code",
   "execution_count": 25,
   "metadata": {},
   "outputs": [
    {
     "data": {
      "image/png": "[encoded data removed]",
      "text/plain": [
       "<Figure size 1152x576 with 4 Axes>"
      ]
     },
     "metadata": {
      "needs_background": "light"
     },
     "output_type": "display_data"
    }
   ],
   "source": [
    "matplotlib.rcParams['figure.figsize'] = (16,8)\n",
    "fig,ax =matplotlib.pyplot.subplots(1,2)\n",
    "seaborn.heatmap(correct_absolute_brodmann_regions.transpose(),cmap='Blues',xticklabels=True,yticklabels=True,ax=ax[0])\n",
    "ax[0].title.set_text('Number of hypometabolic labels correctly added')\n",
    "ax[0].set_xlabel('Relevance threshold')\n",
    "seaborn.heatmap(percentage_absolute_brodmann_regions.transpose(),cmap='Reds',xticklabels=True,yticklabels=True,ax=ax[1])\n",
    "ax[1].title.set_text('Percentage of hypometabolic labels correctly added')\n",
    "ax[1].set_xlabel('Relevance threshold')\n",
    "fig.show()"
   ]
  },
  {
   "cell_type": "markdown",
   "metadata": {},
   "source": [
    "##### Using normalised rules"
   ]
  },
  {
   "cell_type": "markdown",
   "metadata": {},
   "source": [
    "Down below we show the **metrics associated to both the predictions and later corrections through probabilistic rules**."
   ]
  },
  {
   "cell_type": "code",
   "execution_count": 26,
   "metadata": {},
   "outputs": [
    {
     "data": {
      "text/html": [
       "<div>\n",
       "<style scoped>\n",
       "    .dataframe tbody tr th:only-of-type {\n",
       "        vertical-align: middle;\n",
       "    }\n",
       "\n",
       "    .dataframe tbody tr th {\n",
       "        vertical-align: top;\n",
       "    }\n",
       "\n",
       "    .dataframe thead th {\n",
       "        text-align: right;\n",
       "    }\n",
       "</style>\n",
       "<table border=\"1\" class=\"dataframe\">\n",
       "  <thead>\n",
       "    <tr style=\"text-align: right;\">\n",
       "      <th></th>\n",
       "      <th>TP</th>\n",
       "      <th>TN</th>\n",
       "      <th>FP</th>\n",
       "      <th>FN</th>\n",
       "      <th>accuracy</th>\n",
       "      <th>f1</th>\n",
       "      <th>precision</th>\n",
       "      <th>recall</th>\n",
       "    </tr>\n",
       "  </thead>\n",
       "  <tbody>\n",
       "    <tr>\n",
       "      <th>Prediction</th>\n",
       "      <td>1671</td>\n",
       "      <td>12000</td>\n",
       "      <td>1316</td>\n",
       "      <td>617</td>\n",
       "      <td>0.876</td>\n",
       "      <td>0.634</td>\n",
       "      <td>0.559</td>\n",
       "      <td>0.730</td>\n",
       "    </tr>\n",
       "    <tr>\n",
       "      <th>Relevance threshold = 0.9</th>\n",
       "      <td>1714</td>\n",
       "      <td>11920</td>\n",
       "      <td>1396</td>\n",
       "      <td>574</td>\n",
       "      <td>0.874</td>\n",
       "      <td>0.635</td>\n",
       "      <td>0.551</td>\n",
       "      <td>0.749</td>\n",
       "    </tr>\n",
       "    <tr>\n",
       "      <th>Relevance threshold = 0.8</th>\n",
       "      <td>1720</td>\n",
       "      <td>11909</td>\n",
       "      <td>1407</td>\n",
       "      <td>568</td>\n",
       "      <td>0.873</td>\n",
       "      <td>0.635</td>\n",
       "      <td>0.550</td>\n",
       "      <td>0.752</td>\n",
       "    </tr>\n",
       "    <tr>\n",
       "      <th>Relevance threshold = 0.7</th>\n",
       "      <td>1779</td>\n",
       "      <td>11714</td>\n",
       "      <td>1602</td>\n",
       "      <td>509</td>\n",
       "      <td>0.865</td>\n",
       "      <td>0.628</td>\n",
       "      <td>0.526</td>\n",
       "      <td>0.778</td>\n",
       "    </tr>\n",
       "    <tr>\n",
       "      <th>Relevance threshold = 0.6</th>\n",
       "      <td>1821</td>\n",
       "      <td>11438</td>\n",
       "      <td>1878</td>\n",
       "      <td>467</td>\n",
       "      <td>0.850</td>\n",
       "      <td>0.608</td>\n",
       "      <td>0.492</td>\n",
       "      <td>0.796</td>\n",
       "    </tr>\n",
       "    <tr>\n",
       "      <th>Relevance threshold = 0.5</th>\n",
       "      <td>1846</td>\n",
       "      <td>11240</td>\n",
       "      <td>2076</td>\n",
       "      <td>442</td>\n",
       "      <td>0.839</td>\n",
       "      <td>0.595</td>\n",
       "      <td>0.471</td>\n",
       "      <td>0.807</td>\n",
       "    </tr>\n",
       "  </tbody>\n",
       "</table>\n",
       "</div>"
      ],
      "text/plain": [
       "                             TP     TN    FP   FN  accuracy     f1  precision  \\\n",
       "Prediction                 1671  12000  1316  617     0.876  0.634      0.559   \n",
       "Relevance threshold = 0.9  1714  11920  1396  574     0.874  0.635      0.551   \n",
       "Relevance threshold = 0.8  1720  11909  1407  568     0.873  0.635      0.550   \n",
       "Relevance threshold = 0.7  1779  11714  1602  509     0.865  0.628      0.526   \n",
       "Relevance threshold = 0.6  1821  11438  1878  467     0.850  0.608      0.492   \n",
       "Relevance threshold = 0.5  1846  11240  2076  442     0.839  0.595      0.471   \n",
       "\n",
       "                           recall  \n",
       "Prediction                  0.730  \n",
       "Relevance threshold = 0.9   0.749  \n",
       "Relevance threshold = 0.8   0.752  \n",
       "Relevance threshold = 0.7   0.778  \n",
       "Relevance threshold = 0.6   0.796  \n",
       "Relevance threshold = 0.5   0.807  "
      ]
     },
     "execution_count": 26,
     "metadata": {},
     "output_type": "execute_result"
    }
   ],
   "source": [
    "comparison_normalised_brodmann"
   ]
  },
  {
   "cell_type": "markdown",
   "metadata": {},
   "source": [
    "Down below we show the **effect that the application of rules have over the predicted brain map**."
   ]
  },
  {
   "cell_type": "code",
   "execution_count": 27,
   "metadata": {},
   "outputs": [
    {
     "name": "stdout",
     "output_type": "stream",
     "text": [
      "With a relevance threshold of 0.9, 123 regions were marked as hypometabolic: 43 correctly (34.96 %) and 80 incorrectly\n",
      "With a relevance threshold of 0.8, 140 regions were marked as hypometabolic: 49 correctly (35.0 %) and 91 incorrectly\n",
      "With a relevance threshold of 0.7, 394 regions were marked as hypometabolic: 108 correctly (27.41 %) and 286 incorrectly\n",
      "With a relevance threshold of 0.6, 712 regions were marked as hypometabolic: 150 correctly (21.07 %) and 562 incorrectly\n",
      "With a relevance threshold of 0.5, 935 regions were marked as hypometabolic: 175 correctly (18.72 %) and 760 incorrectly\n"
     ]
    }
   ],
   "source": [
    "for i in added_normalised_brodmann: print(i)"
   ]
  },
  {
   "cell_type": "markdown",
   "metadata": {},
   "source": [
    "Down below we show the **effect that the application of rules have over each of the predicted regions**."
   ]
  },
  {
   "cell_type": "code",
   "execution_count": 28,
   "metadata": {},
   "outputs": [
    {
     "data": {
      "image/png": "[encoded data removed]",
      "text/plain": [
       "<Figure size 1152x576 with 4 Axes>"
      ]
     },
     "metadata": {
      "needs_background": "light"
     },
     "output_type": "display_data"
    }
   ],
   "source": [
    "matplotlib.rcParams['figure.figsize'] = (16,8)\n",
    "fig,ax =matplotlib.pyplot.subplots(1,2)\n",
    "seaborn.heatmap(correct_normalised_brodmann_regions.transpose(),cmap='Blues',xticklabels=True,yticklabels=True,ax=ax[0])\n",
    "ax[0].title.set_text('Number of hypometabolic labels correctly added')\n",
    "ax[0].set_xlabel('Relevance threshold')\n",
    "seaborn.heatmap(percentage_normalised_brodmann_regions.transpose(),cmap='Reds',xticklabels=True,yticklabels=True,ax=ax[1])\n",
    "ax[1].title.set_text('Percentage of hypometabolic labels correctly added')\n",
    "ax[1].set_xlabel('Relevance threshold')\n",
    "fig.show()"
   ]
  },
  {
   "cell_type": "markdown",
   "metadata": {},
   "source": [
    "### Conclusions"
   ]
  },
  {
   "cell_type": "markdown",
   "metadata": {},
   "source": [
    "In order to measure the validity of our rules, it is important to know what result should we expect if we did random changes from negative labels to positive labels in our predicted datasets. As we have seen, it would be expected that only 5-6% of values are correctly labelled. This low percentage can be explained by two facts. First, the percentage of positive labels is by itself very low in the real dataset (15%). Second, our models have already predicted correctly part of this positive labels, which mean that only very few remain available for correction. Taking this into consideration, it is evident that **our rules perform better than a random generator would do**. Even so, **incorrect modifications are more common than correct modifications**, which explains why accuracy and precision always fall. Recall, on the other hand, can only improve. \n",
    "\n",
    "**As we consider lower relevance thresholds**, we allow more rules and more modifications to be considered. When the number of modifications is low, they tend to be more accurate; when the number of modifications is high, they tend to be less accurate. The consequence is that **recall increase while accuracy and precision decrease**. **As for the two different type of rules**, normalised rules result in less changes being made, which makes sense because we are being more strict. However, **absolute rules usually perform better at similar magnitudes**. The explanation is that normalised rules are very useful from the clinical point of view, but a pure data driven mechanism is expected to yield better metrics.\n",
    "\n",
    "Eventually, if we focus in the correction region by region, it is clear that absolute rules will lead regions with already high levels of hypometabolism to show more changes. This explains why we see blocks where the rules appear to have a greater impact. In the other hand, normalised rules show more realistic relations. Looking at them, we can see that **certain regions appear to be more affected than others by the rules**; these are: P2 (L), T2 (R), T3 (R), IN (R), B8, B40, B20, B21, B22. To the moment we have only referred to the number of correct changes. In terms of percentage of correct changes, some regions that stand out are: PRE (L), F1 (R), OC (L), POST (L), AG (L), PQ (R), LING (R), B6, B30, B1, B2, B3, B5, B40, B38.\n",
    "\n",
    "So, why are we struggling with correctly modifying non-hipometabolism to hipometabolism? \n",
    "\n",
    "- **Rules are very simple, which brings uncertainty**: in the rule '*if A is hypometabolic, then B is hypometabolic with a probability of 0.6*' we know the rule can be applied in 60% of cases but we don't know which cases they are; therefore, we may apply it when not needed or not apply it when needed.\n",
    "- **We are in a very difficult scenario**: many positive labels have already been predicted correctly with our models, so what is left are the difficult cases. \n",
    "- **We are in a very unstable scenario**: the models predicted wrongly in some cases, so the rules are acting over uncertain prior knowledge."
   ]
  }
 ],
 "metadata": {
  "kernelspec": {
   "display_name": "Python 3",
   "language": "python",
   "name": "python3"
  },
  "language_info": {
   "codemirror_mode": {
    "name": "ipython",
    "version": 3
   },
   "file_extension": ".py",
   "mimetype": "text/x-python",
   "name": "python",
   "nbconvert_exporter": "python",
   "pygments_lexer": "ipython3",
   "version": "3.7.6"
  }
 },
 "nbformat": 4,
 "nbformat_minor": 4
}
