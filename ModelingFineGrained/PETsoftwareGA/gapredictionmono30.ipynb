{
 "cells": [
  {
   "cell_type": "markdown",
   "metadata": {},
   "source": [
    "# Prediction with genetic algorithms and correction with probabilistic rules"
   ]
  },
  {
   "cell_type": "markdown",
   "metadata": {},
   "source": [
    "This notebook gathers the results for the predictions made on the mono-objective genetic algorithms, considering a binary threshold of 30, and the later correction using probabilistic rules."
   ]
  },
  {
   "cell_type": "markdown",
   "metadata": {},
   "source": [
    "### Brief explanation"
   ]
  },
  {
   "cell_type": "markdown",
   "metadata": {},
   "source": [
    "With the already chosen best models, we predicted hypometabolism for the patients in our database. By predicting each brain region independently, we created a whole brain map. However, and since variability was a big deal in some regions, we performed 10 predictions per region, which led to 10 different brain maps. For each of them, absolute and normalised rules were applied. Eventually, consensus brain maps were calculated before and after rule application. The relevance threshold, which determines how strict we are in considering rules, has been set as a parameter varying from 0.5 to 1."
   ]
  },
  {
   "cell_type": "markdown",
   "metadata": {},
   "source": [
    "### Import the packages"
   ]
  },
  {
   "cell_type": "markdown",
   "metadata": {},
   "source": [
    "We import the packages that will be needed. In this case, everything is already contained in the prtools.py file."
   ]
  },
  {
   "cell_type": "code",
   "execution_count": 1,
   "metadata": {},
   "outputs": [],
   "source": [
    "import matplotlib\n",
    "import seaborn\n",
    "import warnings\n",
    "import sys\n",
    "sys.path.insert(0,'../../Tools')\n",
    "from orderedlist import *\n",
    "from prtools import *\n",
    "da = Datasets()\n",
    "ra = RuleApplication()"
   ]
  },
  {
   "cell_type": "code",
   "execution_count": 2,
   "metadata": {},
   "outputs": [],
   "source": [
    "warnings.filterwarnings('ignore')\n",
    "pandas.set_option('display.max_rows', None)\n",
    "pandas.set_option('display.max_columns', None)\n",
    "pandas.set_option('display.width', None)\n",
    "pandas.set_option('display.max_colwidth', None)"
   ]
  },
  {
   "cell_type": "markdown",
   "metadata": {},
   "source": [
    "### Preparation of results"
   ]
  },
  {
   "cell_type": "markdown",
   "metadata": {},
   "source": [
    "#### General stuff"
   ]
  },
  {
   "cell_type": "code",
   "execution_count": 3,
   "metadata": {},
   "outputs": [],
   "source": [
    "real_aal = da.define_binary(pandas.read_csv('../../Data/Y_aal_quan.csv'),30)\n",
    "real_brodmann = da.define_binary(pandas.read_csv('../../Data/Y_brodmann_quan.csv'),30)\n",
    "prediction_aal = pandas.read_csv('./Prediction_mono_30/Prediction/prediction_aal.csv')\n",
    "prediction_brodmann = pandas.read_csv('./Prediction_mono_30/Prediction/prediction_brodmann.csv')"
   ]
  },
  {
   "cell_type": "code",
   "execution_count": 4,
   "metadata": {},
   "outputs": [],
   "source": [
    "relevance_thresholds_absolute = [1,0.975,0.950,0.925,0.9,0.8,0.7,0.6,0.5]\n",
    "relevance_thresholds_normalised = [0.9,0.8,0.7,0.6,0.5]"
   ]
  },
  {
   "cell_type": "code",
   "execution_count": 5,
   "metadata": {},
   "outputs": [],
   "source": [
    "aal_list.remove('f1mo_l')\n",
    "aal_list.remove('f1mo_r')"
   ]
  },
  {
   "cell_type": "markdown",
   "metadata": {},
   "source": [
    "#### Absolute rules"
   ]
  },
  {
   "cell_type": "code",
   "execution_count": 6,
   "metadata": {},
   "outputs": [],
   "source": [
    "comparison_absolute_aal = ra.compare_with_real(prediction_aal,real_aal)\n",
    "comparison_absolute_brodmann = ra.compare_with_real(prediction_brodmann,real_brodmann)\n",
    "index = ['Prediction']\n",
    "for relevance_threshold in relevance_thresholds_absolute:\n",
    "    absolute_aal = pandas.read_csv('./Prediction_mono_30/Absolute/correction_aal_'+str(relevance_threshold)+'.csv')\n",
    "    absolute_brodmann = pandas.read_csv('./Prediction_mono_30/Absolute/correction_brodmann_'+str(relevance_threshold)+'.csv')\n",
    "    comparison_absolute_aal = pandas.concat([comparison_absolute_aal,ra.compare_with_real(absolute_aal,real_aal)],axis=0)\n",
    "    comparison_absolute_brodmann = pandas.concat([comparison_absolute_brodmann,ra.compare_with_real(absolute_brodmann,real_brodmann)],axis=0)\n",
    "    index.append('Relevance threshold = '+str(relevance_threshold))\n",
    "comparison_absolute_aal.index = index\n",
    "comparison_absolute_brodmann.index = index"
   ]
  },
  {
   "cell_type": "code",
   "execution_count": 7,
   "metadata": {},
   "outputs": [],
   "source": [
    "TFP_absolute_aal = comparison_absolute_aal[['TP','FP']].transpose()\n",
    "TFP_absolute_brodmann = comparison_absolute_brodmann[['TP','FP']].transpose()\n",
    "added_absolute_aal = []\n",
    "added_absolute_brodmann = []\n",
    "for relevance_threshold in relevance_thresholds_absolute:\n",
    "        temp_TFP_aal = TFP_absolute_aal['Relevance threshold = '+str(relevance_threshold)]-TFP_absolute_aal['Prediction']\n",
    "        temp_TFP_brodmann = TFP_absolute_brodmann['Relevance threshold = '+str(relevance_threshold)]-TFP_absolute_brodmann['Prediction']\n",
    "        added_absolute_aal.append('With a relevance threshold of '+str(relevance_threshold)+', '+str(temp_TFP_aal[0]+temp_TFP_aal[1])+' regions were marked as hypometabolic: '+str(temp_TFP_aal[0])+' correctly ('+str(round(temp_TFP_aal[0]*100/(temp_TFP_aal[0]+temp_TFP_aal[1]),2))+' %) and '+str(temp_TFP_aal[1])+' incorrectly')\n",
    "        added_absolute_brodmann.append('With a relevance threshold of '+str(relevance_threshold)+', '+str(temp_TFP_brodmann[0]+temp_TFP_brodmann[1])+' regions were marked as hypometabolic: '+str(temp_TFP_brodmann[0])+' correctly ('+str(round(temp_TFP_brodmann[0]*100/(temp_TFP_brodmann[0]+temp_TFP_brodmann[1]),2))+' %) and '+str(temp_TFP_brodmann[1])+' incorrectly')"
   ]
  },
  {
   "cell_type": "code",
   "execution_count": 8,
   "metadata": {},
   "outputs": [],
   "source": [
    "correct_absolute_aal_regions = pandas.DataFrame()\n",
    "percentage_absolute_aal_regions = pandas.DataFrame()\n",
    "for task in aal_list:\n",
    "    try:\n",
    "        corrects = []\n",
    "        percentages = []\n",
    "        to_compare = ra.compare_with_real(prediction_aal[[task]],real_aal[[task]])\n",
    "        for relevance_threshold in relevance_thresholds_absolute:\n",
    "            absolute_aal = pandas.read_csv('./Prediction_mono_30/Absolute/correction_aal_'+str(relevance_threshold)+'.csv')\n",
    "            compare_to = ra.compare_with_real(absolute_aal[[task]],real_aal[[task]])\n",
    "            correct = int(compare_to['TP']-to_compare['TP'])\n",
    "            incorrect = int(compare_to['FP']-to_compare['FP'])\n",
    "            try: percentage = round(float(correct/(correct+incorrect)),2)\n",
    "            except: percentage = numpy.nan\n",
    "            corrects.append(correct)\n",
    "            percentages.append(percentage)\n",
    "        temp_corrects = pandas.DataFrame({task:corrects})\n",
    "        temp_percentages = pandas.DataFrame({task:percentages})\n",
    "        try: correct_absolute_aal_regions = pandas.concat([correct_absolute_aal_regions,temp_corrects],axis=1)\n",
    "        except: correct_absolute_aal_regions = temp_corrects\n",
    "        try: percentage_absolute_aal_regions = pandas.concat([percentage_absolute_aal_regions,temp_percentages],axis=1)\n",
    "        except: percentage_absolute_aal_regions = temp_percentages\n",
    "    except: pass\n",
    "correct_absolute_aal_regions.index = relevance_thresholds_absolute\n",
    "percentage_absolute_aal_regions.index = relevance_thresholds_absolute"
   ]
  },
  {
   "cell_type": "code",
   "execution_count": 9,
   "metadata": {},
   "outputs": [],
   "source": [
    "correct_absolute_brodmann_regions = pandas.DataFrame()\n",
    "percentage_absolute_brodmann_regions = pandas.DataFrame()\n",
    "for task in brodmann_list:\n",
    "    try:\n",
    "        to_compare = ra.compare_with_real(prediction_brodmann[[task]],real_brodmann[[task]])\n",
    "        corrects = []\n",
    "        percentages = []\n",
    "        for relevance_threshold in relevance_thresholds_absolute:\n",
    "            absolute_brodmann = pandas.read_csv('./Prediction_mono_30/Absolute/correction_brodmann_'+str(relevance_threshold)+'.csv')\n",
    "            compare_to = ra.compare_with_real(absolute_brodmann[[task]],real_brodmann[[task]])\n",
    "            correct = int(compare_to['TP']-to_compare['TP'])\n",
    "            incorrect = int(compare_to['FP']-to_compare['FP'])\n",
    "            try: percentage = round(float(correct/(correct+incorrect)),2)\n",
    "            except: percentage = numpy.nan\n",
    "            corrects.append(correct)\n",
    "            percentages.append(percentage)\n",
    "        temp_corrects = pandas.DataFrame({task:corrects})\n",
    "        temp_percentages = pandas.DataFrame({task:percentages})\n",
    "        try: correct_absolute_brodmann_regions = pandas.concat([correct_absolute_brodmann_regions,temp_corrects],axis=1)\n",
    "        except: correct_absolute_brodmann_regions = temp_corrects\n",
    "        try: percentage_absolute_brodmann_regions = pandas.concat([percentage_absolute_brodmann_regions,temp_percentages],axis=1)\n",
    "        except: percentage_absolute_brodmann_regions = temp_percentages\n",
    "    except:pass\n",
    "correct_absolute_brodmann_regions.index = relevance_thresholds_absolute\n",
    "percentage_absolute_brodmann_regions.index = relevance_thresholds_absolute"
   ]
  },
  {
   "cell_type": "markdown",
   "metadata": {},
   "source": [
    "#### Normalised rules"
   ]
  },
  {
   "cell_type": "code",
   "execution_count": 10,
   "metadata": {},
   "outputs": [],
   "source": [
    "comparison_normalised_aal = ra.compare_with_real(prediction_aal,real_aal)\n",
    "comparison_normalised_brodmann = ra.compare_with_real(prediction_brodmann,real_brodmann)\n",
    "index = ['Prediction']\n",
    "for relevance_threshold in relevance_thresholds_normalised:\n",
    "    normalised_aal = pandas.read_csv('./Prediction_mono_30/Normalised/correction_aal_'+str(relevance_threshold)+'.csv')\n",
    "    normalised_brodmann = pandas.read_csv('./Prediction_mono_30/Normalised/correction_brodmann_'+str(relevance_threshold)+'.csv')\n",
    "    comparison_normalised_aal = pandas.concat([comparison_normalised_aal,ra.compare_with_real(normalised_aal,real_aal)],axis=0)\n",
    "    comparison_normalised_brodmann = pandas.concat([comparison_normalised_brodmann,ra.compare_with_real(normalised_brodmann,real_brodmann)],axis=0)\n",
    "    index.append('Relevance threshold = '+str(relevance_threshold))\n",
    "comparison_normalised_aal.index = index\n",
    "comparison_normalised_brodmann.index = index"
   ]
  },
  {
   "cell_type": "code",
   "execution_count": 11,
   "metadata": {},
   "outputs": [],
   "source": [
    "TFP_normalised_aal = comparison_normalised_aal[['TP','FP']].transpose()\n",
    "TFP_normalised_brodmann = comparison_normalised_brodmann[['TP','FP']].transpose()\n",
    "added_normalised_aal = []\n",
    "added_normalised_brodmann = []\n",
    "for relevance_threshold in relevance_thresholds_normalised:\n",
    "        temp_TFP_aal = TFP_normalised_aal['Relevance threshold = '+str(relevance_threshold)]-TFP_normalised_aal['Prediction']\n",
    "        temp_TFP_brodmann = TFP_normalised_brodmann['Relevance threshold = '+str(relevance_threshold)]-TFP_normalised_brodmann['Prediction']\n",
    "        added_normalised_aal.append('With a relevance threshold of '+str(relevance_threshold)+', '+str(temp_TFP_aal[0]+temp_TFP_aal[1])+' regions were marked as hypometabolic: '+str(temp_TFP_aal[0])+' correctly ('+str(round(temp_TFP_aal[0]*100/(temp_TFP_aal[0]+temp_TFP_aal[1]),2))+' %) and '+str(temp_TFP_aal[1])+' incorrectly')\n",
    "        added_normalised_brodmann.append('With a relevance threshold of '+str(relevance_threshold)+', '+str(temp_TFP_brodmann[0]+temp_TFP_brodmann[1])+' regions were marked as hypometabolic: '+str(temp_TFP_brodmann[0])+' correctly ('+str(round(temp_TFP_brodmann[0]*100/(temp_TFP_brodmann[0]+temp_TFP_brodmann[1]),2))+' %) and '+str(temp_TFP_brodmann[1])+' incorrectly')"
   ]
  },
  {
   "cell_type": "code",
   "execution_count": 12,
   "metadata": {},
   "outputs": [],
   "source": [
    "correct_normalised_aal_regions = pandas.DataFrame()\n",
    "percentage_normalised_aal_regions = pandas.DataFrame()\n",
    "for task in aal_list:\n",
    "    try:\n",
    "        corrects = []\n",
    "        percentages = []\n",
    "        to_compare = ra.compare_with_real(prediction_aal[[task]],real_aal[[task]])\n",
    "        for relevance_threshold in relevance_thresholds_normalised:\n",
    "            normalised_aal = pandas.read_csv('./Prediction_mono_30/Normalised/correction_aal_'+str(relevance_threshold)+'.csv')\n",
    "            compare_to = ra.compare_with_real(normalised_aal[[task]],real_aal[[task]])\n",
    "            correct = int(compare_to['TP']-to_compare['TP'])\n",
    "            incorrect = int(compare_to['FP']-to_compare['FP'])\n",
    "            try: percentage = round(float(correct/(correct+incorrect)),2)\n",
    "            except: percentage = numpy.nan\n",
    "            corrects.append(correct)\n",
    "            percentages.append(percentage)\n",
    "        temp_corrects = pandas.DataFrame({task:corrects})\n",
    "        temp_percentages = pandas.DataFrame({task:percentages})\n",
    "        try: correct_normalised_aal_regions = pandas.concat([correct_normalised_aal_regions,temp_corrects],axis=1)\n",
    "        except: correct_normalised_aal_regions = temp_corrects\n",
    "        try: percentage_normalised_aal_regions = pandas.concat([percentage_normalised_aal_regions,temp_percentages],axis=1)\n",
    "        except: percentage_normalised_aal_regions = temp_percentages\n",
    "    except: pass\n",
    "correct_normalised_aal_regions.index = relevance_thresholds_normalised\n",
    "percentage_normalised_aal_regions.index = relevance_thresholds_normalised"
   ]
  },
  {
   "cell_type": "code",
   "execution_count": 13,
   "metadata": {},
   "outputs": [],
   "source": [
    "correct_normalised_brodmann_regions = pandas.DataFrame()\n",
    "percentage_normalised_brodmann_regions = pandas.DataFrame()\n",
    "for task in brodmann_list:\n",
    "    try:\n",
    "        to_compare = ra.compare_with_real(prediction_brodmann[[task]],real_brodmann[[task]])\n",
    "        corrects = []\n",
    "        percentages = []\n",
    "        for relevance_threshold in relevance_thresholds_normalised:\n",
    "            normalised_brodmann = pandas.read_csv('./Prediction_mono_30/Normalised/correction_brodmann_'+str(relevance_threshold)+'.csv')\n",
    "            compare_to = ra.compare_with_real(normalised_brodmann[[task]],real_brodmann[[task]])\n",
    "            correct = int(compare_to['TP']-to_compare['TP'])\n",
    "            incorrect = int(compare_to['FP']-to_compare['FP'])\n",
    "            try: percentage = round(float(correct/(correct+incorrect)),2)\n",
    "            except: percentage = numpy.nan\n",
    "            corrects.append(correct)\n",
    "            percentages.append(percentage)\n",
    "        temp_corrects = pandas.DataFrame({task:corrects})\n",
    "        temp_percentages = pandas.DataFrame({task:percentages})\n",
    "        try: correct_normalised_brodmann_regions = pandas.concat([correct_normalised_brodmann_regions,temp_corrects],axis=1)\n",
    "        except: correct_normalised_brodmann_regions = temp_corrects\n",
    "        try: percentage_normalised_brodmann_regions = pandas.concat([percentage_normalised_brodmann_regions,temp_percentages],axis=1)\n",
    "        except: percentage_normalised_brodmann_regions = temp_percentages\n",
    "    except:pass\n",
    "correct_normalised_brodmann_regions.index = relevance_thresholds_normalised\n",
    "percentage_normalised_brodmann_regions.index = relevance_thresholds_normalised"
   ]
  },
  {
   "cell_type": "markdown",
   "metadata": {},
   "source": [
    "#### Random rules"
   ]
  },
  {
   "cell_type": "code",
   "execution_count": 14,
   "metadata": {},
   "outputs": [],
   "source": [
    "FN_aal = comparison_absolute_aal.loc['Prediction']['FN']\n",
    "TFN_aal = comparison_absolute_aal.loc['Prediction']['FN'] + comparison_absolute_aal.loc['Prediction']['TN']\n",
    "FN_brodmann = comparison_absolute_brodmann.loc['Prediction']['FN']\n",
    "TFN_brodmann = comparison_absolute_brodmann.loc['Prediction']['FN'] + comparison_absolute_brodmann.loc['Prediction']['TN']\n",
    "random_aal = str(round((FN_aal*100/TFN_aal),2))+' %'\n",
    "random_brodmann = str(round((FN_brodmann*100/TFN_brodmann),2))+' %'"
   ]
  },
  {
   "cell_type": "markdown",
   "metadata": {},
   "source": [
    "### Results"
   ]
  },
  {
   "cell_type": "markdown",
   "metadata": {},
   "source": [
    "#### AAL atlas (90 regions)"
   ]
  },
  {
   "cell_type": "markdown",
   "metadata": {},
   "source": [
    "##### Using random corrector"
   ]
  },
  {
   "cell_type": "markdown",
   "metadata": {},
   "source": [
    "A program that randomly changes negative labels to positive labels in our predicted dataset would label correctly what percentage of values?"
   ]
  },
  {
   "cell_type": "code",
   "execution_count": 15,
   "metadata": {},
   "outputs": [
    {
     "name": "stdout",
     "output_type": "stream",
     "text": [
      "5.95 %\n"
     ]
    }
   ],
   "source": [
    "print(random_aal)"
   ]
  },
  {
   "cell_type": "markdown",
   "metadata": {},
   "source": [
    "##### Using absolute rules"
   ]
  },
  {
   "cell_type": "markdown",
   "metadata": {},
   "source": [
    "Down below we show the **metrics associated to both the predictions and later corrections through probabilistic rules**."
   ]
  },
  {
   "cell_type": "code",
   "execution_count": 16,
   "metadata": {},
   "outputs": [
    {
     "data": {
      "text/html": [
       "<div>\n",
       "<style scoped>\n",
       "    .dataframe tbody tr th:only-of-type {\n",
       "        vertical-align: middle;\n",
       "    }\n",
       "\n",
       "    .dataframe tbody tr th {\n",
       "        vertical-align: top;\n",
       "    }\n",
       "\n",
       "    .dataframe thead th {\n",
       "        text-align: right;\n",
       "    }\n",
       "</style>\n",
       "<table border=\"1\" class=\"dataframe\">\n",
       "  <thead>\n",
       "    <tr style=\"text-align: right;\">\n",
       "      <th></th>\n",
       "      <th>TP</th>\n",
       "      <th>TN</th>\n",
       "      <th>FP</th>\n",
       "      <th>FN</th>\n",
       "      <th>accuracy</th>\n",
       "      <th>f1</th>\n",
       "      <th>precision</th>\n",
       "      <th>recall</th>\n",
       "    </tr>\n",
       "  </thead>\n",
       "  <tbody>\n",
       "    <tr>\n",
       "      <th>Prediction</th>\n",
       "      <td>3106</td>\n",
       "      <td>22653</td>\n",
       "      <td>2687</td>\n",
       "      <td>1434</td>\n",
       "      <td>0.862</td>\n",
       "      <td>0.601</td>\n",
       "      <td>0.536</td>\n",
       "      <td>0.684</td>\n",
       "    </tr>\n",
       "    <tr>\n",
       "      <th>Relevance threshold = 1</th>\n",
       "      <td>3121</td>\n",
       "      <td>22618</td>\n",
       "      <td>2722</td>\n",
       "      <td>1419</td>\n",
       "      <td>0.861</td>\n",
       "      <td>0.601</td>\n",
       "      <td>0.534</td>\n",
       "      <td>0.687</td>\n",
       "    </tr>\n",
       "    <tr>\n",
       "      <th>Relevance threshold = 0.975</th>\n",
       "      <td>3259</td>\n",
       "      <td>22218</td>\n",
       "      <td>3122</td>\n",
       "      <td>1281</td>\n",
       "      <td>0.853</td>\n",
       "      <td>0.597</td>\n",
       "      <td>0.511</td>\n",
       "      <td>0.718</td>\n",
       "    </tr>\n",
       "    <tr>\n",
       "      <th>Relevance threshold = 0.95</th>\n",
       "      <td>3259</td>\n",
       "      <td>22218</td>\n",
       "      <td>3122</td>\n",
       "      <td>1281</td>\n",
       "      <td>0.853</td>\n",
       "      <td>0.597</td>\n",
       "      <td>0.511</td>\n",
       "      <td>0.718</td>\n",
       "    </tr>\n",
       "    <tr>\n",
       "      <th>Relevance threshold = 0.925</th>\n",
       "      <td>3285</td>\n",
       "      <td>22128</td>\n",
       "      <td>3212</td>\n",
       "      <td>1255</td>\n",
       "      <td>0.851</td>\n",
       "      <td>0.595</td>\n",
       "      <td>0.506</td>\n",
       "      <td>0.724</td>\n",
       "    </tr>\n",
       "    <tr>\n",
       "      <th>Relevance threshold = 0.9</th>\n",
       "      <td>3398</td>\n",
       "      <td>21751</td>\n",
       "      <td>3589</td>\n",
       "      <td>1142</td>\n",
       "      <td>0.842</td>\n",
       "      <td>0.590</td>\n",
       "      <td>0.486</td>\n",
       "      <td>0.748</td>\n",
       "    </tr>\n",
       "    <tr>\n",
       "      <th>Relevance threshold = 0.8</th>\n",
       "      <td>3580</td>\n",
       "      <td>20677</td>\n",
       "      <td>4663</td>\n",
       "      <td>960</td>\n",
       "      <td>0.812</td>\n",
       "      <td>0.560</td>\n",
       "      <td>0.434</td>\n",
       "      <td>0.789</td>\n",
       "    </tr>\n",
       "    <tr>\n",
       "      <th>Relevance threshold = 0.7</th>\n",
       "      <td>3825</td>\n",
       "      <td>18757</td>\n",
       "      <td>6583</td>\n",
       "      <td>715</td>\n",
       "      <td>0.756</td>\n",
       "      <td>0.512</td>\n",
       "      <td>0.368</td>\n",
       "      <td>0.843</td>\n",
       "    </tr>\n",
       "    <tr>\n",
       "      <th>Relevance threshold = 0.6</th>\n",
       "      <td>4026</td>\n",
       "      <td>16581</td>\n",
       "      <td>8759</td>\n",
       "      <td>514</td>\n",
       "      <td>0.690</td>\n",
       "      <td>0.465</td>\n",
       "      <td>0.315</td>\n",
       "      <td>0.887</td>\n",
       "    </tr>\n",
       "    <tr>\n",
       "      <th>Relevance threshold = 0.5</th>\n",
       "      <td>4143</td>\n",
       "      <td>14608</td>\n",
       "      <td>10732</td>\n",
       "      <td>397</td>\n",
       "      <td>0.628</td>\n",
       "      <td>0.427</td>\n",
       "      <td>0.279</td>\n",
       "      <td>0.913</td>\n",
       "    </tr>\n",
       "  </tbody>\n",
       "</table>\n",
       "</div>"
      ],
      "text/plain": [
       "                               TP     TN     FP    FN  accuracy     f1  \\\n",
       "Prediction                   3106  22653   2687  1434     0.862  0.601   \n",
       "Relevance threshold = 1      3121  22618   2722  1419     0.861  0.601   \n",
       "Relevance threshold = 0.975  3259  22218   3122  1281     0.853  0.597   \n",
       "Relevance threshold = 0.95   3259  22218   3122  1281     0.853  0.597   \n",
       "Relevance threshold = 0.925  3285  22128   3212  1255     0.851  0.595   \n",
       "Relevance threshold = 0.9    3398  21751   3589  1142     0.842  0.590   \n",
       "Relevance threshold = 0.8    3580  20677   4663   960     0.812  0.560   \n",
       "Relevance threshold = 0.7    3825  18757   6583   715     0.756  0.512   \n",
       "Relevance threshold = 0.6    4026  16581   8759   514     0.690  0.465   \n",
       "Relevance threshold = 0.5    4143  14608  10732   397     0.628  0.427   \n",
       "\n",
       "                             precision  recall  \n",
       "Prediction                       0.536   0.684  \n",
       "Relevance threshold = 1          0.534   0.687  \n",
       "Relevance threshold = 0.975      0.511   0.718  \n",
       "Relevance threshold = 0.95       0.511   0.718  \n",
       "Relevance threshold = 0.925      0.506   0.724  \n",
       "Relevance threshold = 0.9        0.486   0.748  \n",
       "Relevance threshold = 0.8        0.434   0.789  \n",
       "Relevance threshold = 0.7        0.368   0.843  \n",
       "Relevance threshold = 0.6        0.315   0.887  \n",
       "Relevance threshold = 0.5        0.279   0.913  "
      ]
     },
     "execution_count": 16,
     "metadata": {},
     "output_type": "execute_result"
    }
   ],
   "source": [
    "comparison_absolute_aal"
   ]
  },
  {
   "cell_type": "markdown",
   "metadata": {},
   "source": [
    "Down below we show the **effect that the application of rules have over the predicted brain map**."
   ]
  },
  {
   "cell_type": "code",
   "execution_count": 17,
   "metadata": {},
   "outputs": [
    {
     "name": "stdout",
     "output_type": "stream",
     "text": [
      "With a relevance threshold of 1, 50 regions were marked as hypometabolic: 15 correctly (30.0 %) and 35 incorrectly\n",
      "With a relevance threshold of 0.975, 588 regions were marked as hypometabolic: 153 correctly (26.02 %) and 435 incorrectly\n",
      "With a relevance threshold of 0.95, 588 regions were marked as hypometabolic: 153 correctly (26.02 %) and 435 incorrectly\n",
      "With a relevance threshold of 0.925, 704 regions were marked as hypometabolic: 179 correctly (25.43 %) and 525 incorrectly\n",
      "With a relevance threshold of 0.9, 1194 regions were marked as hypometabolic: 292 correctly (24.46 %) and 902 incorrectly\n",
      "With a relevance threshold of 0.8, 2450 regions were marked as hypometabolic: 474 correctly (19.35 %) and 1976 incorrectly\n",
      "With a relevance threshold of 0.7, 4615 regions were marked as hypometabolic: 719 correctly (15.58 %) and 3896 incorrectly\n",
      "With a relevance threshold of 0.6, 6992 regions were marked as hypometabolic: 920 correctly (13.16 %) and 6072 incorrectly\n",
      "With a relevance threshold of 0.5, 9082 regions were marked as hypometabolic: 1037 correctly (11.42 %) and 8045 incorrectly\n"
     ]
    }
   ],
   "source": [
    "for i in added_absolute_aal: print(i)"
   ]
  },
  {
   "cell_type": "markdown",
   "metadata": {},
   "source": [
    "Down below we show the **effect that the application of rules have over each of the predicted regions**."
   ]
  },
  {
   "cell_type": "code",
   "execution_count": 18,
   "metadata": {},
   "outputs": [
    {
     "data": {
      "image/png": "[encoded data removed]",
      "text/plain": [
       "<Figure size 1152x1152 with 4 Axes>"
      ]
     },
     "metadata": {
      "needs_background": "light"
     },
     "output_type": "display_data"
    }
   ],
   "source": [
    "matplotlib.rcParams['figure.figsize'] = (16,16)\n",
    "fig,ax =matplotlib.pyplot.subplots(1,2)\n",
    "seaborn.heatmap(correct_absolute_aal_regions.transpose(),cmap='Blues',xticklabels=True,yticklabels=True,ax=ax[0])\n",
    "ax[0].title.set_text('Number of hypometabolic labels correctly added')\n",
    "ax[0].set_xlabel('Relevance threshold')\n",
    "seaborn.heatmap(percentage_absolute_aal_regions.transpose(),cmap='Reds',xticklabels=True,yticklabels=True,ax=ax[1])\n",
    "ax[1].title.set_text('Percentage of hypometabolic labels correctly added')\n",
    "ax[1].set_xlabel('Relevance threshold')\n",
    "fig.show()"
   ]
  },
  {
   "cell_type": "markdown",
   "metadata": {},
   "source": [
    "##### Using normalised rules"
   ]
  },
  {
   "cell_type": "markdown",
   "metadata": {},
   "source": [
    "Down below we show the **metrics associated to both the predictions and later corrections through probabilistic rules**."
   ]
  },
  {
   "cell_type": "code",
   "execution_count": 19,
   "metadata": {},
   "outputs": [
    {
     "data": {
      "text/html": [
       "<div>\n",
       "<style scoped>\n",
       "    .dataframe tbody tr th:only-of-type {\n",
       "        vertical-align: middle;\n",
       "    }\n",
       "\n",
       "    .dataframe tbody tr th {\n",
       "        vertical-align: top;\n",
       "    }\n",
       "\n",
       "    .dataframe thead th {\n",
       "        text-align: right;\n",
       "    }\n",
       "</style>\n",
       "<table border=\"1\" class=\"dataframe\">\n",
       "  <thead>\n",
       "    <tr style=\"text-align: right;\">\n",
       "      <th></th>\n",
       "      <th>TP</th>\n",
       "      <th>TN</th>\n",
       "      <th>FP</th>\n",
       "      <th>FN</th>\n",
       "      <th>accuracy</th>\n",
       "      <th>f1</th>\n",
       "      <th>precision</th>\n",
       "      <th>recall</th>\n",
       "    </tr>\n",
       "  </thead>\n",
       "  <tbody>\n",
       "    <tr>\n",
       "      <th>Prediction</th>\n",
       "      <td>3106</td>\n",
       "      <td>22653</td>\n",
       "      <td>2687</td>\n",
       "      <td>1434</td>\n",
       "      <td>0.862</td>\n",
       "      <td>0.601</td>\n",
       "      <td>0.536</td>\n",
       "      <td>0.684</td>\n",
       "    </tr>\n",
       "    <tr>\n",
       "      <th>Relevance threshold = 0.9</th>\n",
       "      <td>3154</td>\n",
       "      <td>22542</td>\n",
       "      <td>2798</td>\n",
       "      <td>1386</td>\n",
       "      <td>0.860</td>\n",
       "      <td>0.601</td>\n",
       "      <td>0.530</td>\n",
       "      <td>0.695</td>\n",
       "    </tr>\n",
       "    <tr>\n",
       "      <th>Relevance threshold = 0.8</th>\n",
       "      <td>3156</td>\n",
       "      <td>22521</td>\n",
       "      <td>2819</td>\n",
       "      <td>1384</td>\n",
       "      <td>0.859</td>\n",
       "      <td>0.600</td>\n",
       "      <td>0.528</td>\n",
       "      <td>0.695</td>\n",
       "    </tr>\n",
       "    <tr>\n",
       "      <th>Relevance threshold = 0.7</th>\n",
       "      <td>3198</td>\n",
       "      <td>22341</td>\n",
       "      <td>2999</td>\n",
       "      <td>1342</td>\n",
       "      <td>0.855</td>\n",
       "      <td>0.596</td>\n",
       "      <td>0.516</td>\n",
       "      <td>0.704</td>\n",
       "    </tr>\n",
       "    <tr>\n",
       "      <th>Relevance threshold = 0.6</th>\n",
       "      <td>3334</td>\n",
       "      <td>21668</td>\n",
       "      <td>3672</td>\n",
       "      <td>1206</td>\n",
       "      <td>0.837</td>\n",
       "      <td>0.578</td>\n",
       "      <td>0.476</td>\n",
       "      <td>0.734</td>\n",
       "    </tr>\n",
       "    <tr>\n",
       "      <th>Relevance threshold = 0.5</th>\n",
       "      <td>3433</td>\n",
       "      <td>20922</td>\n",
       "      <td>4418</td>\n",
       "      <td>1107</td>\n",
       "      <td>0.815</td>\n",
       "      <td>0.554</td>\n",
       "      <td>0.437</td>\n",
       "      <td>0.756</td>\n",
       "    </tr>\n",
       "  </tbody>\n",
       "</table>\n",
       "</div>"
      ],
      "text/plain": [
       "                             TP     TN    FP    FN  accuracy     f1  \\\n",
       "Prediction                 3106  22653  2687  1434     0.862  0.601   \n",
       "Relevance threshold = 0.9  3154  22542  2798  1386     0.860  0.601   \n",
       "Relevance threshold = 0.8  3156  22521  2819  1384     0.859  0.600   \n",
       "Relevance threshold = 0.7  3198  22341  2999  1342     0.855  0.596   \n",
       "Relevance threshold = 0.6  3334  21668  3672  1206     0.837  0.578   \n",
       "Relevance threshold = 0.5  3433  20922  4418  1107     0.815  0.554   \n",
       "\n",
       "                           precision  recall  \n",
       "Prediction                     0.536   0.684  \n",
       "Relevance threshold = 0.9      0.530   0.695  \n",
       "Relevance threshold = 0.8      0.528   0.695  \n",
       "Relevance threshold = 0.7      0.516   0.704  \n",
       "Relevance threshold = 0.6      0.476   0.734  \n",
       "Relevance threshold = 0.5      0.437   0.756  "
      ]
     },
     "execution_count": 19,
     "metadata": {},
     "output_type": "execute_result"
    }
   ],
   "source": [
    "comparison_normalised_aal"
   ]
  },
  {
   "cell_type": "markdown",
   "metadata": {},
   "source": [
    "Down below we show the **effect that the application of rules have over the predicted brain map**."
   ]
  },
  {
   "cell_type": "code",
   "execution_count": 20,
   "metadata": {},
   "outputs": [
    {
     "name": "stdout",
     "output_type": "stream",
     "text": [
      "With a relevance threshold of 0.9, 159 regions were marked as hypometabolic: 48 correctly (30.19 %) and 111 incorrectly\n",
      "With a relevance threshold of 0.8, 182 regions were marked as hypometabolic: 50 correctly (27.47 %) and 132 incorrectly\n",
      "With a relevance threshold of 0.7, 404 regions were marked as hypometabolic: 92 correctly (22.77 %) and 312 incorrectly\n",
      "With a relevance threshold of 0.6, 1213 regions were marked as hypometabolic: 228 correctly (18.8 %) and 985 incorrectly\n",
      "With a relevance threshold of 0.5, 2058 regions were marked as hypometabolic: 327 correctly (15.89 %) and 1731 incorrectly\n"
     ]
    }
   ],
   "source": [
    "for i in added_normalised_aal: print(i)"
   ]
  },
  {
   "cell_type": "markdown",
   "metadata": {},
   "source": [
    "Down below we show the **effect that the application of rules have over each of the predicted regions**."
   ]
  },
  {
   "cell_type": "code",
   "execution_count": 21,
   "metadata": {},
   "outputs": [
    {
     "data": {
      "image/png": "[encoded data removed]",
      "text/plain": [
       "<Figure size 1152x1152 with 4 Axes>"
      ]
     },
     "metadata": {
      "needs_background": "light"
     },
     "output_type": "display_data"
    }
   ],
   "source": [
    "matplotlib.rcParams['figure.figsize'] = (16,16)\n",
    "fig,ax =matplotlib.pyplot.subplots(1,2)\n",
    "seaborn.heatmap(correct_normalised_aal_regions.transpose(),cmap='Blues',xticklabels=True,yticklabels=True,ax=ax[0])\n",
    "ax[0].title.set_text('Number of hypometabolic labels correctly added')\n",
    "ax[0].set_xlabel('Relevance threshold')\n",
    "seaborn.heatmap(percentage_normalised_aal_regions.transpose(),cmap='Reds',xticklabels=True,yticklabels=True,ax=ax[1])\n",
    "ax[1].title.set_text('Percentage of hypometabolic labels correctly added')\n",
    "ax[1].set_xlabel('Relevance threshold')\n",
    "fig.show()"
   ]
  },
  {
   "cell_type": "markdown",
   "metadata": {},
   "source": [
    "#### Brodmann atlas (47 regions)"
   ]
  },
  {
   "cell_type": "markdown",
   "metadata": {},
   "source": [
    "##### Using random corrector"
   ]
  },
  {
   "cell_type": "markdown",
   "metadata": {},
   "source": [
    "A program that randomly changes negative labels to positive labels in our predicted dataset would label correctly what percentage of values?"
   ]
  },
  {
   "cell_type": "code",
   "execution_count": 22,
   "metadata": {},
   "outputs": [
    {
     "name": "stdout",
     "output_type": "stream",
     "text": [
      "5.09 %\n"
     ]
    }
   ],
   "source": [
    "print(random_brodmann)"
   ]
  },
  {
   "cell_type": "markdown",
   "metadata": {},
   "source": [
    "##### Using absolute rules"
   ]
  },
  {
   "cell_type": "markdown",
   "metadata": {},
   "source": [
    "Down below we show the **metrics associated to both the predictions and later corrections through probabilistic rules**."
   ]
  },
  {
   "cell_type": "code",
   "execution_count": 23,
   "metadata": {},
   "outputs": [
    {
     "data": {
      "text/html": [
       "<div>\n",
       "<style scoped>\n",
       "    .dataframe tbody tr th:only-of-type {\n",
       "        vertical-align: middle;\n",
       "    }\n",
       "\n",
       "    .dataframe tbody tr th {\n",
       "        vertical-align: top;\n",
       "    }\n",
       "\n",
       "    .dataframe thead th {\n",
       "        text-align: right;\n",
       "    }\n",
       "</style>\n",
       "<table border=\"1\" class=\"dataframe\">\n",
       "  <thead>\n",
       "    <tr style=\"text-align: right;\">\n",
       "      <th></th>\n",
       "      <th>TP</th>\n",
       "      <th>TN</th>\n",
       "      <th>FP</th>\n",
       "      <th>FN</th>\n",
       "      <th>accuracy</th>\n",
       "      <th>f1</th>\n",
       "      <th>precision</th>\n",
       "      <th>recall</th>\n",
       "    </tr>\n",
       "  </thead>\n",
       "  <tbody>\n",
       "    <tr>\n",
       "      <th>Prediction</th>\n",
       "      <td>1639</td>\n",
       "      <td>12109</td>\n",
       "      <td>1207</td>\n",
       "      <td>649</td>\n",
       "      <td>0.881</td>\n",
       "      <td>0.638</td>\n",
       "      <td>0.576</td>\n",
       "      <td>0.716</td>\n",
       "    </tr>\n",
       "    <tr>\n",
       "      <th>Relevance threshold = 1</th>\n",
       "      <td>1654</td>\n",
       "      <td>12080</td>\n",
       "      <td>1236</td>\n",
       "      <td>634</td>\n",
       "      <td>0.880</td>\n",
       "      <td>0.639</td>\n",
       "      <td>0.572</td>\n",
       "      <td>0.723</td>\n",
       "    </tr>\n",
       "    <tr>\n",
       "      <th>Relevance threshold = 0.975</th>\n",
       "      <td>1760</td>\n",
       "      <td>11784</td>\n",
       "      <td>1532</td>\n",
       "      <td>528</td>\n",
       "      <td>0.868</td>\n",
       "      <td>0.631</td>\n",
       "      <td>0.535</td>\n",
       "      <td>0.769</td>\n",
       "    </tr>\n",
       "    <tr>\n",
       "      <th>Relevance threshold = 0.95</th>\n",
       "      <td>1764</td>\n",
       "      <td>11777</td>\n",
       "      <td>1539</td>\n",
       "      <td>524</td>\n",
       "      <td>0.868</td>\n",
       "      <td>0.631</td>\n",
       "      <td>0.534</td>\n",
       "      <td>0.771</td>\n",
       "    </tr>\n",
       "    <tr>\n",
       "      <th>Relevance threshold = 0.925</th>\n",
       "      <td>1776</td>\n",
       "      <td>11732</td>\n",
       "      <td>1584</td>\n",
       "      <td>512</td>\n",
       "      <td>0.866</td>\n",
       "      <td>0.629</td>\n",
       "      <td>0.529</td>\n",
       "      <td>0.776</td>\n",
       "    </tr>\n",
       "    <tr>\n",
       "      <th>Relevance threshold = 0.9</th>\n",
       "      <td>1814</td>\n",
       "      <td>11595</td>\n",
       "      <td>1721</td>\n",
       "      <td>474</td>\n",
       "      <td>0.859</td>\n",
       "      <td>0.623</td>\n",
       "      <td>0.513</td>\n",
       "      <td>0.793</td>\n",
       "    </tr>\n",
       "    <tr>\n",
       "      <th>Relevance threshold = 0.8</th>\n",
       "      <td>1899</td>\n",
       "      <td>11150</td>\n",
       "      <td>2166</td>\n",
       "      <td>389</td>\n",
       "      <td>0.836</td>\n",
       "      <td>0.598</td>\n",
       "      <td>0.467</td>\n",
       "      <td>0.830</td>\n",
       "    </tr>\n",
       "    <tr>\n",
       "      <th>Relevance threshold = 0.7</th>\n",
       "      <td>1965</td>\n",
       "      <td>10690</td>\n",
       "      <td>2626</td>\n",
       "      <td>323</td>\n",
       "      <td>0.811</td>\n",
       "      <td>0.571</td>\n",
       "      <td>0.428</td>\n",
       "      <td>0.859</td>\n",
       "    </tr>\n",
       "    <tr>\n",
       "      <th>Relevance threshold = 0.6</th>\n",
       "      <td>2018</td>\n",
       "      <td>10292</td>\n",
       "      <td>3024</td>\n",
       "      <td>270</td>\n",
       "      <td>0.789</td>\n",
       "      <td>0.551</td>\n",
       "      <td>0.400</td>\n",
       "      <td>0.882</td>\n",
       "    </tr>\n",
       "    <tr>\n",
       "      <th>Relevance threshold = 0.5</th>\n",
       "      <td>2052</td>\n",
       "      <td>9881</td>\n",
       "      <td>3435</td>\n",
       "      <td>236</td>\n",
       "      <td>0.765</td>\n",
       "      <td>0.528</td>\n",
       "      <td>0.374</td>\n",
       "      <td>0.897</td>\n",
       "    </tr>\n",
       "  </tbody>\n",
       "</table>\n",
       "</div>"
      ],
      "text/plain": [
       "                               TP     TN    FP   FN  accuracy     f1  \\\n",
       "Prediction                   1639  12109  1207  649     0.881  0.638   \n",
       "Relevance threshold = 1      1654  12080  1236  634     0.880  0.639   \n",
       "Relevance threshold = 0.975  1760  11784  1532  528     0.868  0.631   \n",
       "Relevance threshold = 0.95   1764  11777  1539  524     0.868  0.631   \n",
       "Relevance threshold = 0.925  1776  11732  1584  512     0.866  0.629   \n",
       "Relevance threshold = 0.9    1814  11595  1721  474     0.859  0.623   \n",
       "Relevance threshold = 0.8    1899  11150  2166  389     0.836  0.598   \n",
       "Relevance threshold = 0.7    1965  10690  2626  323     0.811  0.571   \n",
       "Relevance threshold = 0.6    2018  10292  3024  270     0.789  0.551   \n",
       "Relevance threshold = 0.5    2052   9881  3435  236     0.765  0.528   \n",
       "\n",
       "                             precision  recall  \n",
       "Prediction                       0.576   0.716  \n",
       "Relevance threshold = 1          0.572   0.723  \n",
       "Relevance threshold = 0.975      0.535   0.769  \n",
       "Relevance threshold = 0.95       0.534   0.771  \n",
       "Relevance threshold = 0.925      0.529   0.776  \n",
       "Relevance threshold = 0.9        0.513   0.793  \n",
       "Relevance threshold = 0.8        0.467   0.830  \n",
       "Relevance threshold = 0.7        0.428   0.859  \n",
       "Relevance threshold = 0.6        0.400   0.882  \n",
       "Relevance threshold = 0.5        0.374   0.897  "
      ]
     },
     "execution_count": 23,
     "metadata": {},
     "output_type": "execute_result"
    }
   ],
   "source": [
    "comparison_absolute_brodmann"
   ]
  },
  {
   "cell_type": "markdown",
   "metadata": {},
   "source": [
    "Down below we show the **effect that the application of rules have over the predicted brain map**."
   ]
  },
  {
   "cell_type": "code",
   "execution_count": 24,
   "metadata": {},
   "outputs": [
    {
     "name": "stdout",
     "output_type": "stream",
     "text": [
      "With a relevance threshold of 1, 44 regions were marked as hypometabolic: 15 correctly (34.09 %) and 29 incorrectly\n",
      "With a relevance threshold of 0.975, 446 regions were marked as hypometabolic: 121 correctly (27.13 %) and 325 incorrectly\n",
      "With a relevance threshold of 0.95, 457 regions were marked as hypometabolic: 125 correctly (27.35 %) and 332 incorrectly\n",
      "With a relevance threshold of 0.925, 514 regions were marked as hypometabolic: 137 correctly (26.65 %) and 377 incorrectly\n",
      "With a relevance threshold of 0.9, 689 regions were marked as hypometabolic: 175 correctly (25.4 %) and 514 incorrectly\n",
      "With a relevance threshold of 0.8, 1219 regions were marked as hypometabolic: 260 correctly (21.33 %) and 959 incorrectly\n",
      "With a relevance threshold of 0.7, 1745 regions were marked as hypometabolic: 326 correctly (18.68 %) and 1419 incorrectly\n",
      "With a relevance threshold of 0.6, 2196 regions were marked as hypometabolic: 379 correctly (17.26 %) and 1817 incorrectly\n",
      "With a relevance threshold of 0.5, 2641 regions were marked as hypometabolic: 413 correctly (15.64 %) and 2228 incorrectly\n"
     ]
    }
   ],
   "source": [
    "for i in added_absolute_brodmann: print(i)"
   ]
  },
  {
   "cell_type": "markdown",
   "metadata": {},
   "source": [
    "Down below we show the **effect that the application of rules have over each of the predicted regions**."
   ]
  },
  {
   "cell_type": "code",
   "execution_count": 25,
   "metadata": {},
   "outputs": [
    {
     "data": {
      "image/png": "[encoded data removed]",
      "text/plain": [
       "<Figure size 1152x576 with 4 Axes>"
      ]
     },
     "metadata": {
      "needs_background": "light"
     },
     "output_type": "display_data"
    }
   ],
   "source": [
    "matplotlib.rcParams['figure.figsize'] = (16,8)\n",
    "fig,ax =matplotlib.pyplot.subplots(1,2)\n",
    "seaborn.heatmap(correct_absolute_brodmann_regions.transpose(),cmap='Blues',xticklabels=True,yticklabels=True,ax=ax[0])\n",
    "ax[0].title.set_text('Number of hypometabolic labels correctly added')\n",
    "ax[0].set_xlabel('Relevance threshold')\n",
    "seaborn.heatmap(percentage_absolute_brodmann_regions.transpose(),cmap='Reds',xticklabels=True,yticklabels=True,ax=ax[1])\n",
    "ax[1].title.set_text('Percentage of hypometabolic labels correctly added')\n",
    "ax[1].set_xlabel('Relevance threshold')\n",
    "fig.show()"
   ]
  },
  {
   "cell_type": "markdown",
   "metadata": {},
   "source": [
    "##### Using normalised rules"
   ]
  },
  {
   "cell_type": "markdown",
   "metadata": {},
   "source": [
    "Down below we show the **metrics associated to both the predictions and later corrections through probabilistic rules**."
   ]
  },
  {
   "cell_type": "code",
   "execution_count": 26,
   "metadata": {},
   "outputs": [
    {
     "data": {
      "text/html": [
       "<div>\n",
       "<style scoped>\n",
       "    .dataframe tbody tr th:only-of-type {\n",
       "        vertical-align: middle;\n",
       "    }\n",
       "\n",
       "    .dataframe tbody tr th {\n",
       "        vertical-align: top;\n",
       "    }\n",
       "\n",
       "    .dataframe thead th {\n",
       "        text-align: right;\n",
       "    }\n",
       "</style>\n",
       "<table border=\"1\" class=\"dataframe\">\n",
       "  <thead>\n",
       "    <tr style=\"text-align: right;\">\n",
       "      <th></th>\n",
       "      <th>TP</th>\n",
       "      <th>TN</th>\n",
       "      <th>FP</th>\n",
       "      <th>FN</th>\n",
       "      <th>accuracy</th>\n",
       "      <th>f1</th>\n",
       "      <th>precision</th>\n",
       "      <th>recall</th>\n",
       "    </tr>\n",
       "  </thead>\n",
       "  <tbody>\n",
       "    <tr>\n",
       "      <th>Prediction</th>\n",
       "      <td>1639</td>\n",
       "      <td>12109</td>\n",
       "      <td>1207</td>\n",
       "      <td>649</td>\n",
       "      <td>0.881</td>\n",
       "      <td>0.638</td>\n",
       "      <td>0.576</td>\n",
       "      <td>0.716</td>\n",
       "    </tr>\n",
       "    <tr>\n",
       "      <th>Relevance threshold = 0.9</th>\n",
       "      <td>1664</td>\n",
       "      <td>12049</td>\n",
       "      <td>1267</td>\n",
       "      <td>624</td>\n",
       "      <td>0.879</td>\n",
       "      <td>0.638</td>\n",
       "      <td>0.568</td>\n",
       "      <td>0.727</td>\n",
       "    </tr>\n",
       "    <tr>\n",
       "      <th>Relevance threshold = 0.8</th>\n",
       "      <td>1672</td>\n",
       "      <td>12040</td>\n",
       "      <td>1276</td>\n",
       "      <td>616</td>\n",
       "      <td>0.879</td>\n",
       "      <td>0.639</td>\n",
       "      <td>0.567</td>\n",
       "      <td>0.731</td>\n",
       "    </tr>\n",
       "    <tr>\n",
       "      <th>Relevance threshold = 0.7</th>\n",
       "      <td>1732</td>\n",
       "      <td>11808</td>\n",
       "      <td>1508</td>\n",
       "      <td>556</td>\n",
       "      <td>0.868</td>\n",
       "      <td>0.627</td>\n",
       "      <td>0.535</td>\n",
       "      <td>0.757</td>\n",
       "    </tr>\n",
       "    <tr>\n",
       "      <th>Relevance threshold = 0.6</th>\n",
       "      <td>1771</td>\n",
       "      <td>11534</td>\n",
       "      <td>1782</td>\n",
       "      <td>517</td>\n",
       "      <td>0.853</td>\n",
       "      <td>0.606</td>\n",
       "      <td>0.498</td>\n",
       "      <td>0.774</td>\n",
       "    </tr>\n",
       "    <tr>\n",
       "      <th>Relevance threshold = 0.5</th>\n",
       "      <td>1807</td>\n",
       "      <td>11342</td>\n",
       "      <td>1974</td>\n",
       "      <td>481</td>\n",
       "      <td>0.843</td>\n",
       "      <td>0.595</td>\n",
       "      <td>0.478</td>\n",
       "      <td>0.790</td>\n",
       "    </tr>\n",
       "  </tbody>\n",
       "</table>\n",
       "</div>"
      ],
      "text/plain": [
       "                             TP     TN    FP   FN  accuracy     f1  precision  \\\n",
       "Prediction                 1639  12109  1207  649     0.881  0.638      0.576   \n",
       "Relevance threshold = 0.9  1664  12049  1267  624     0.879  0.638      0.568   \n",
       "Relevance threshold = 0.8  1672  12040  1276  616     0.879  0.639      0.567   \n",
       "Relevance threshold = 0.7  1732  11808  1508  556     0.868  0.627      0.535   \n",
       "Relevance threshold = 0.6  1771  11534  1782  517     0.853  0.606      0.498   \n",
       "Relevance threshold = 0.5  1807  11342  1974  481     0.843  0.595      0.478   \n",
       "\n",
       "                           recall  \n",
       "Prediction                  0.716  \n",
       "Relevance threshold = 0.9   0.727  \n",
       "Relevance threshold = 0.8   0.731  \n",
       "Relevance threshold = 0.7   0.757  \n",
       "Relevance threshold = 0.6   0.774  \n",
       "Relevance threshold = 0.5   0.790  "
      ]
     },
     "execution_count": 26,
     "metadata": {},
     "output_type": "execute_result"
    }
   ],
   "source": [
    "comparison_normalised_brodmann"
   ]
  },
  {
   "cell_type": "markdown",
   "metadata": {},
   "source": [
    "Down below we show the **effect that the application of rules have over the predicted brain map**."
   ]
  },
  {
   "cell_type": "code",
   "execution_count": 27,
   "metadata": {},
   "outputs": [
    {
     "name": "stdout",
     "output_type": "stream",
     "text": [
      "With a relevance threshold of 0.9, 85 regions were marked as hypometabolic: 25 correctly (29.41 %) and 60 incorrectly\n",
      "With a relevance threshold of 0.8, 102 regions were marked as hypometabolic: 33 correctly (32.35 %) and 69 incorrectly\n",
      "With a relevance threshold of 0.7, 394 regions were marked as hypometabolic: 93 correctly (23.6 %) and 301 incorrectly\n",
      "With a relevance threshold of 0.6, 707 regions were marked as hypometabolic: 132 correctly (18.67 %) and 575 incorrectly\n",
      "With a relevance threshold of 0.5, 935 regions were marked as hypometabolic: 168 correctly (17.97 %) and 767 incorrectly\n"
     ]
    }
   ],
   "source": [
    "for i in added_normalised_brodmann: print(i)"
   ]
  },
  {
   "cell_type": "markdown",
   "metadata": {},
   "source": [
    "Down below we show the **effect that the application of rules have over each of the predicted regions**."
   ]
  },
  {
   "cell_type": "code",
   "execution_count": 28,
   "metadata": {},
   "outputs": [
    {
     "data": {
      "image/png": "[encoded data removed]",
      "text/plain": [
       "<Figure size 1152x576 with 4 Axes>"
      ]
     },
     "metadata": {
      "needs_background": "light"
     },
     "output_type": "display_data"
    }
   ],
   "source": [
    "matplotlib.rcParams['figure.figsize'] = (16,8)\n",
    "fig,ax =matplotlib.pyplot.subplots(1,2)\n",
    "seaborn.heatmap(correct_normalised_brodmann_regions.transpose(),cmap='Blues',xticklabels=True,yticklabels=True,ax=ax[0])\n",
    "ax[0].title.set_text('Number of hypometabolic labels correctly added')\n",
    "ax[0].set_xlabel('Relevance threshold')\n",
    "seaborn.heatmap(percentage_normalised_brodmann_regions.transpose(),cmap='Reds',xticklabels=True,yticklabels=True,ax=ax[1])\n",
    "ax[1].title.set_text('Percentage of hypometabolic labels correctly added')\n",
    "ax[1].set_xlabel('Relevance threshold')\n",
    "fig.show()"
   ]
  },
  {
   "cell_type": "markdown",
   "metadata": {},
   "source": [
    "### Conclusions"
   ]
  },
  {
   "cell_type": "markdown",
   "metadata": {},
   "source": [
    "In order to measure the validity of our rules, it is important to know what result should we expect if we did random changes from negative labels to positive labels in our predicted datasets. As we have seen, it would be expected that only 5-6% of values are correctly labelled. This low percentage can be explained by two facts. First, the percentage of positive labels is by itself very low in the real dataset (15%). Second, our models have already predicted correctly part of this positive labels, which mean that only very few remain available for correction. Taking this into consideration, it is evident that **our rules perform better than a random generator would do**. Even so, **incorrect modifications are more common than correct modifications**, which explains why accuracy and precision always fall. Recall, on the other hand, can only improve. \n",
    "\n",
    "**As we consider lower relevance thresholds**, we allow more rules and more modifications to be considered. When the number of modifications is low, they tend to be more accurate; when the number of modifications is high, they tend to be less accurate. The consequence is that **recall increase while accuracy and precision decrease**. **As for the two different type of rules**, normalised rules result in less changes being made, which makes sense because we are being more strict. However, **absolute rules usually perform better at similar magnitudes**. The explanation is that normalised rules are very useful from the clinical point of view, but a pure data driven mechanism is expected to yield better metrics.\n",
    "\n",
    "Eventually, if we focus in the correction region by region, it is clear that absolute rules will lead regions with already high levels of hypometabolism to show more changes. This explains why we see blocks where the rules appear to have a greater impact. In the other hand, normalised rules show more realistic relations. Looking at them, we can see that **certain regions appear to be more affected than others by the rules**; these are: T2 (R), T3 (R), B39, B20, B21, B22. To the moment we have only referred to the number of correct changes. In terms of percentage of correct changes, some regions that stand out are: PRE (L), F1O (R), F2 (L), MCIN (R), P1 (R), P2 (R), AG (L), SMG (R), T1P (L), T2 (R), PUT (R), B2, B3, B36.\n",
    "\n",
    "So, why are we struggling with correctly modifying non-hipometabolism to hipometabolism? \n",
    "\n",
    "- **Rules are very simple, which brings uncertainty**: in the rule '*if A is hypometabolic, then B is hypometabolic with a probability of 0.6*' we know the rule can be applied in 60% of cases but we don't know which cases they are; therefore, we may apply it when not needed or not apply it when needed.\n",
    "- **We are in a very difficult scenario**: many positive labels have already been predicted correctly with our models, so what is left are the difficult cases. \n",
    "- **We are in a very unstable scenario**: the models predicted wrongly in some cases, so the rules are acting over uncertain prior knowledge."
   ]
  }
 ],
 "metadata": {
  "kernelspec": {
   "display_name": "Python 3",
   "language": "python",
   "name": "python3"
  },
  "language_info": {
   "codemirror_mode": {
    "name": "ipython",
    "version": 3
   },
   "file_extension": ".py",
   "mimetype": "text/x-python",
   "name": "python",
   "nbconvert_exporter": "python",
   "pygments_lexer": "ipython3",
   "version": "3.7.6"
  }
 },
 "nbformat": 4,
 "nbformat_minor": 4
}
