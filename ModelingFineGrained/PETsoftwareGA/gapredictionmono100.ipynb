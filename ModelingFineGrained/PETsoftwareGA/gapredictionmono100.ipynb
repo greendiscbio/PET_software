{
 "cells": [
  {
   "cell_type": "markdown",
   "metadata": {},
   "source": [
    "# Prediction with genetic algorithms and correction with probabilistic rules"
   ]
  },
  {
   "cell_type": "markdown",
   "metadata": {},
   "source": [
    "This notebook gathers the results for the predictions made on the mono-objective genetic algorithms, considering a binary threshold of 100, and the later correction using probabilistic rules."
   ]
  },
  {
   "cell_type": "markdown",
   "metadata": {},
   "source": [
    "### Brief explanation"
   ]
  },
  {
   "cell_type": "markdown",
   "metadata": {},
   "source": [
    "With the already chosen best models, we predicted hypometabolism for the patients in our database. By predicting each brain region independently, we created a whole brain map. However, and since variability was a big deal in some regions, we performed 10 predictions per region, which led to 10 different brain maps. For each of them, absolute and normalised rules were applied. Eventually, consensus brain maps were calculated before and after rule application. The relevance threshold, which determines how strict we are in considering rules, has been set as a parameter varying from 0.5 to 1."
   ]
  },
  {
   "cell_type": "markdown",
   "metadata": {},
   "source": [
    "### Import the packages"
   ]
  },
  {
   "cell_type": "markdown",
   "metadata": {},
   "source": [
    "We import the packages that will be needed. In this case, everything is already contained in the prtools.py file."
   ]
  },
  {
   "cell_type": "code",
   "execution_count": 1,
   "metadata": {},
   "outputs": [],
   "source": [
    "import matplotlib\n",
    "import seaborn\n",
    "import warnings\n",
    "import sys\n",
    "sys.path.insert(0,'../../Tools')\n",
    "from orderedlist import *\n",
    "from prtools import *\n",
    "da = Datasets()\n",
    "ra = RuleApplication()"
   ]
  },
  {
   "cell_type": "code",
   "execution_count": 2,
   "metadata": {},
   "outputs": [],
   "source": [
    "warnings.filterwarnings('ignore')\n",
    "pandas.set_option('display.max_rows', None)\n",
    "pandas.set_option('display.max_columns', None)\n",
    "pandas.set_option('display.width', None)\n",
    "pandas.set_option('display.max_colwidth', None)"
   ]
  },
  {
   "cell_type": "markdown",
   "metadata": {},
   "source": [
    "### Preparation of results"
   ]
  },
  {
   "cell_type": "markdown",
   "metadata": {},
   "source": [
    "#### General stuff"
   ]
  },
  {
   "cell_type": "code",
   "execution_count": 3,
   "metadata": {},
   "outputs": [],
   "source": [
    "real_aal = da.define_binary(pandas.read_csv('../../Data/Y_aal_quan.csv'),100)\n",
    "real_brodmann = da.define_binary(pandas.read_csv('../../Data/Y_brodmann_quan.csv'),100)\n",
    "prediction_aal = pandas.read_csv('./Prediction_mono_100/Prediction/prediction_aal.csv')\n",
    "prediction_brodmann = pandas.read_csv('./Prediction_mono_100/Prediction/prediction_brodmann.csv')"
   ]
  },
  {
   "cell_type": "code",
   "execution_count": 4,
   "metadata": {},
   "outputs": [],
   "source": [
    "relevance_thresholds_absolute = [1,0.975,0.950,0.925,0.9,0.8,0.7,0.6,0.5]\n",
    "relevance_thresholds_normalised = [0.9,0.8,0.7,0.6,0.5]"
   ]
  },
  {
   "cell_type": "code",
   "execution_count": 5,
   "metadata": {},
   "outputs": [],
   "source": [
    "aal_list.remove('f1mo_l')\n",
    "aal_list.remove('f1mo_r')"
   ]
  },
  {
   "cell_type": "markdown",
   "metadata": {},
   "source": [
    "#### Absolute rules"
   ]
  },
  {
   "cell_type": "code",
   "execution_count": 6,
   "metadata": {},
   "outputs": [],
   "source": [
    "comparison_absolute_aal = ra.compare_with_real(prediction_aal,real_aal)\n",
    "comparison_absolute_brodmann = ra.compare_with_real(prediction_brodmann,real_brodmann)\n",
    "index = ['Prediction']\n",
    "for relevance_threshold in relevance_thresholds_absolute:\n",
    "    absolute_aal = pandas.read_csv('./Prediction_mono_100/Absolute/correction_aal_'+str(relevance_threshold)+'.csv')\n",
    "    absolute_brodmann = pandas.read_csv('./Prediction_mono_100/Absolute/correction_brodmann_'+str(relevance_threshold)+'.csv')\n",
    "    comparison_absolute_aal = pandas.concat([comparison_absolute_aal,ra.compare_with_real(absolute_aal,real_aal)],axis=0)\n",
    "    comparison_absolute_brodmann = pandas.concat([comparison_absolute_brodmann,ra.compare_with_real(absolute_brodmann,real_brodmann)],axis=0)\n",
    "    index.append('Relevance threshold = '+str(relevance_threshold))\n",
    "comparison_absolute_aal.index = index\n",
    "comparison_absolute_brodmann.index = index"
   ]
  },
  {
   "cell_type": "code",
   "execution_count": 7,
   "metadata": {},
   "outputs": [],
   "source": [
    "TFP_absolute_aal = comparison_absolute_aal[['TP','FP']].transpose()\n",
    "TFP_absolute_brodmann = comparison_absolute_brodmann[['TP','FP']].transpose()\n",
    "added_absolute_aal = []\n",
    "added_absolute_brodmann = []\n",
    "for relevance_threshold in relevance_thresholds_absolute:\n",
    "        temp_TFP_aal = TFP_absolute_aal['Relevance threshold = '+str(relevance_threshold)]-TFP_absolute_aal['Prediction']\n",
    "        temp_TFP_brodmann = TFP_absolute_brodmann['Relevance threshold = '+str(relevance_threshold)]-TFP_absolute_brodmann['Prediction']\n",
    "        added_absolute_aal.append('With a relevance threshold of '+str(relevance_threshold)+', '+str(temp_TFP_aal[0]+temp_TFP_aal[1])+' regions were marked as hypometabolic: '+str(temp_TFP_aal[0])+' correctly ('+str(round(temp_TFP_aal[0]*100/(temp_TFP_aal[0]+temp_TFP_aal[1]),2))+' %) and '+str(temp_TFP_aal[1])+' incorrectly')\n",
    "        added_absolute_brodmann.append('With a relevance threshold of '+str(relevance_threshold)+', '+str(temp_TFP_brodmann[0]+temp_TFP_brodmann[1])+' regions were marked as hypometabolic: '+str(temp_TFP_brodmann[0])+' correctly ('+str(round(temp_TFP_brodmann[0]*100/(temp_TFP_brodmann[0]+temp_TFP_brodmann[1]),2))+' %) and '+str(temp_TFP_brodmann[1])+' incorrectly')"
   ]
  },
  {
   "cell_type": "code",
   "execution_count": 8,
   "metadata": {},
   "outputs": [],
   "source": [
    "correct_absolute_aal_regions = pandas.DataFrame()\n",
    "percentage_absolute_aal_regions = pandas.DataFrame()\n",
    "for task in aal_list:\n",
    "    try:\n",
    "        corrects = []\n",
    "        percentages = []\n",
    "        to_compare = ra.compare_with_real(prediction_aal[[task]],real_aal[[task]])\n",
    "        for relevance_threshold in relevance_thresholds_absolute:\n",
    "            absolute_aal = pandas.read_csv('./Prediction_mono_100/Absolute/correction_aal_'+str(relevance_threshold)+'.csv')\n",
    "            compare_to = ra.compare_with_real(absolute_aal[[task]],real_aal[[task]])\n",
    "            correct = int(compare_to['TP']-to_compare['TP'])\n",
    "            incorrect = int(compare_to['FP']-to_compare['FP'])\n",
    "            try: percentage = round(float(correct/(correct+incorrect)),2)\n",
    "            except: percentage = numpy.nan\n",
    "            corrects.append(correct)\n",
    "            percentages.append(percentage)\n",
    "        temp_corrects = pandas.DataFrame({task:corrects})\n",
    "        temp_percentages = pandas.DataFrame({task:percentages})\n",
    "        try: correct_absolute_aal_regions = pandas.concat([correct_absolute_aal_regions,temp_corrects],axis=1)\n",
    "        except: correct_absolute_aal_regions = temp_corrects\n",
    "        try: percentage_absolute_aal_regions = pandas.concat([percentage_absolute_aal_regions,temp_percentages],axis=1)\n",
    "        except: percentage_absolute_aal_regions = temp_percentages\n",
    "    except: pass\n",
    "correct_absolute_aal_regions.index = relevance_thresholds_absolute\n",
    "percentage_absolute_aal_regions.index = relevance_thresholds_absolute"
   ]
  },
  {
   "cell_type": "code",
   "execution_count": 9,
   "metadata": {},
   "outputs": [],
   "source": [
    "correct_absolute_brodmann_regions = pandas.DataFrame()\n",
    "percentage_absolute_brodmann_regions = pandas.DataFrame()\n",
    "for task in brodmann_list:\n",
    "    try:\n",
    "        to_compare = ra.compare_with_real(prediction_brodmann[[task]],real_brodmann[[task]])\n",
    "        corrects = []\n",
    "        percentages = []\n",
    "        for relevance_threshold in relevance_thresholds_absolute:\n",
    "            absolute_brodmann = pandas.read_csv('./Prediction_mono_100/Absolute/correction_brodmann_'+str(relevance_threshold)+'.csv')\n",
    "            compare_to = ra.compare_with_real(absolute_brodmann[[task]],real_brodmann[[task]])\n",
    "            correct = int(compare_to['TP']-to_compare['TP'])\n",
    "            incorrect = int(compare_to['FP']-to_compare['FP'])\n",
    "            try: percentage = round(float(correct/(correct+incorrect)),2)\n",
    "            except: percentage = numpy.nan\n",
    "            corrects.append(correct)\n",
    "            percentages.append(percentage)\n",
    "        temp_corrects = pandas.DataFrame({task:corrects})\n",
    "        temp_percentages = pandas.DataFrame({task:percentages})\n",
    "        try: correct_absolute_brodmann_regions = pandas.concat([correct_absolute_brodmann_regions,temp_corrects],axis=1)\n",
    "        except: correct_absolute_brodmann_regions = temp_corrects\n",
    "        try: percentage_absolute_brodmann_regions = pandas.concat([percentage_absolute_brodmann_regions,temp_percentages],axis=1)\n",
    "        except: percentage_absolute_brodmann_regions = temp_percentages\n",
    "    except:pass\n",
    "correct_absolute_brodmann_regions.index = relevance_thresholds_absolute\n",
    "percentage_absolute_brodmann_regions.index = relevance_thresholds_absolute"
   ]
  },
  {
   "cell_type": "markdown",
   "metadata": {},
   "source": [
    "#### Normalised rules"
   ]
  },
  {
   "cell_type": "code",
   "execution_count": 10,
   "metadata": {},
   "outputs": [],
   "source": [
    "comparison_normalised_aal = ra.compare_with_real(prediction_aal,real_aal)\n",
    "comparison_normalised_brodmann = ra.compare_with_real(prediction_brodmann,real_brodmann)\n",
    "index = ['Prediction']\n",
    "for relevance_threshold in relevance_thresholds_normalised:\n",
    "    normalised_aal = pandas.read_csv('./Prediction_mono_100/Normalised/correction_aal_'+str(relevance_threshold)+'.csv')\n",
    "    normalised_brodmann = pandas.read_csv('./Prediction_mono_100/Normalised/correction_brodmann_'+str(relevance_threshold)+'.csv')\n",
    "    comparison_normalised_aal = pandas.concat([comparison_normalised_aal,ra.compare_with_real(normalised_aal,real_aal)],axis=0)\n",
    "    comparison_normalised_brodmann = pandas.concat([comparison_normalised_brodmann,ra.compare_with_real(normalised_brodmann,real_brodmann)],axis=0)\n",
    "    index.append('Relevance threshold = '+str(relevance_threshold))\n",
    "comparison_normalised_aal.index = index\n",
    "comparison_normalised_brodmann.index = index"
   ]
  },
  {
   "cell_type": "code",
   "execution_count": 11,
   "metadata": {},
   "outputs": [],
   "source": [
    "TFP_normalised_aal = comparison_normalised_aal[['TP','FP']].transpose()\n",
    "TFP_normalised_brodmann = comparison_normalised_brodmann[['TP','FP']].transpose()\n",
    "added_normalised_aal = []\n",
    "added_normalised_brodmann = []\n",
    "for relevance_threshold in relevance_thresholds_normalised:\n",
    "        temp_TFP_aal = TFP_normalised_aal['Relevance threshold = '+str(relevance_threshold)]-TFP_normalised_aal['Prediction']\n",
    "        temp_TFP_brodmann = TFP_normalised_brodmann['Relevance threshold = '+str(relevance_threshold)]-TFP_normalised_brodmann['Prediction']\n",
    "        added_normalised_aal.append('With a relevance threshold of '+str(relevance_threshold)+', '+str(temp_TFP_aal[0]+temp_TFP_aal[1])+' regions were marked as hypometabolic: '+str(temp_TFP_aal[0])+' correctly ('+str(round(temp_TFP_aal[0]*100/(temp_TFP_aal[0]+temp_TFP_aal[1]),2))+' %) and '+str(temp_TFP_aal[1])+' incorrectly')\n",
    "        added_normalised_brodmann.append('With a relevance threshold of '+str(relevance_threshold)+', '+str(temp_TFP_brodmann[0]+temp_TFP_brodmann[1])+' regions were marked as hypometabolic: '+str(temp_TFP_brodmann[0])+' correctly ('+str(round(temp_TFP_brodmann[0]*100/(temp_TFP_brodmann[0]+temp_TFP_brodmann[1]),2))+' %) and '+str(temp_TFP_brodmann[1])+' incorrectly')"
   ]
  },
  {
   "cell_type": "code",
   "execution_count": 12,
   "metadata": {},
   "outputs": [],
   "source": [
    "correct_normalised_aal_regions = pandas.DataFrame()\n",
    "percentage_normalised_aal_regions = pandas.DataFrame()\n",
    "for task in aal_list:\n",
    "    try:\n",
    "        corrects = []\n",
    "        percentages = []\n",
    "        to_compare = ra.compare_with_real(prediction_aal[[task]],real_aal[[task]])\n",
    "        for relevance_threshold in relevance_thresholds_normalised:\n",
    "            normalised_aal = pandas.read_csv('./Prediction_mono_100/Normalised/correction_aal_'+str(relevance_threshold)+'.csv')\n",
    "            compare_to = ra.compare_with_real(normalised_aal[[task]],real_aal[[task]])\n",
    "            correct = int(compare_to['TP']-to_compare['TP'])\n",
    "            incorrect = int(compare_to['FP']-to_compare['FP'])\n",
    "            try: percentage = round(float(correct/(correct+incorrect)),2)\n",
    "            except: percentage = numpy.nan\n",
    "            corrects.append(correct)\n",
    "            percentages.append(percentage)\n",
    "        temp_corrects = pandas.DataFrame({task:corrects})\n",
    "        temp_percentages = pandas.DataFrame({task:percentages})\n",
    "        try: correct_normalised_aal_regions = pandas.concat([correct_normalised_aal_regions,temp_corrects],axis=1)\n",
    "        except: correct_normalised_aal_regions = temp_corrects\n",
    "        try: percentage_normalised_aal_regions = pandas.concat([percentage_normalised_aal_regions,temp_percentages],axis=1)\n",
    "        except: percentage_normalised_aal_regions = temp_percentages\n",
    "    except: pass\n",
    "correct_normalised_aal_regions.index = relevance_thresholds_normalised\n",
    "percentage_normalised_aal_regions.index = relevance_thresholds_normalised"
   ]
  },
  {
   "cell_type": "code",
   "execution_count": 13,
   "metadata": {},
   "outputs": [],
   "source": [
    "correct_normalised_brodmann_regions = pandas.DataFrame()\n",
    "percentage_normalised_brodmann_regions = pandas.DataFrame()\n",
    "for task in brodmann_list:\n",
    "    try:\n",
    "        to_compare = ra.compare_with_real(prediction_brodmann[[task]],real_brodmann[[task]])\n",
    "        corrects = []\n",
    "        percentages = []\n",
    "        for relevance_threshold in relevance_thresholds_normalised:\n",
    "            normalised_brodmann = pandas.read_csv('./Prediction_mono_100/Normalised/correction_brodmann_'+str(relevance_threshold)+'.csv')\n",
    "            compare_to = ra.compare_with_real(normalised_brodmann[[task]],real_brodmann[[task]])\n",
    "            correct = int(compare_to['TP']-to_compare['TP'])\n",
    "            incorrect = int(compare_to['FP']-to_compare['FP'])\n",
    "            try: percentage = round(float(correct/(correct+incorrect)),2)\n",
    "            except: percentage = numpy.nan\n",
    "            corrects.append(correct)\n",
    "            percentages.append(percentage)\n",
    "        temp_corrects = pandas.DataFrame({task:corrects})\n",
    "        temp_percentages = pandas.DataFrame({task:percentages})\n",
    "        try: correct_normalised_brodmann_regions = pandas.concat([correct_normalised_brodmann_regions,temp_corrects],axis=1)\n",
    "        except: correct_normalised_brodmann_regions = temp_corrects\n",
    "        try: percentage_normalised_brodmann_regions = pandas.concat([percentage_normalised_brodmann_regions,temp_percentages],axis=1)\n",
    "        except: percentage_normalised_brodmann_regions = temp_percentages\n",
    "    except:pass\n",
    "correct_normalised_brodmann_regions.index = relevance_thresholds_normalised\n",
    "percentage_normalised_brodmann_regions.index = relevance_thresholds_normalised"
   ]
  },
  {
   "cell_type": "markdown",
   "metadata": {},
   "source": [
    "#### Random rules"
   ]
  },
  {
   "cell_type": "code",
   "execution_count": 14,
   "metadata": {},
   "outputs": [],
   "source": [
    "FN_aal = comparison_absolute_aal.loc['Prediction']['FN']\n",
    "TFN_aal = comparison_absolute_aal.loc['Prediction']['FN'] + comparison_absolute_aal.loc['Prediction']['TN']\n",
    "FN_brodmann = comparison_absolute_brodmann.loc['Prediction']['FN']\n",
    "TFN_brodmann = comparison_absolute_brodmann.loc['Prediction']['FN'] + comparison_absolute_brodmann.loc['Prediction']['TN']\n",
    "random_aal = str(round((FN_aal*100/TFN_aal),2))+' %'\n",
    "random_brodmann = str(round((FN_brodmann*100/TFN_brodmann),2))+' %'"
   ]
  },
  {
   "cell_type": "markdown",
   "metadata": {},
   "source": [
    "### Results"
   ]
  },
  {
   "cell_type": "markdown",
   "metadata": {},
   "source": [
    "#### AAL atlas (90 regions)"
   ]
  },
  {
   "cell_type": "markdown",
   "metadata": {},
   "source": [
    "##### Using random corrector"
   ]
  },
  {
   "cell_type": "markdown",
   "metadata": {},
   "source": [
    "A program that randomly changes negative labels to positive labels in our predicted dataset would label correctly what percentage of values?"
   ]
  },
  {
   "cell_type": "code",
   "execution_count": 15,
   "metadata": {},
   "outputs": [
    {
     "name": "stdout",
     "output_type": "stream",
     "text": [
      "4.06 %\n"
     ]
    }
   ],
   "source": [
    "print(random_aal)"
   ]
  },
  {
   "cell_type": "markdown",
   "metadata": {},
   "source": [
    "##### Using absolute rules"
   ]
  },
  {
   "cell_type": "markdown",
   "metadata": {},
   "source": [
    "Down below we show the **metrics associated to both the predictions and later corrections through probabilistic rules**."
   ]
  },
  {
   "cell_type": "code",
   "execution_count": 16,
   "metadata": {},
   "outputs": [
    {
     "data": {
      "text/html": [
       "<div>\n",
       "<style scoped>\n",
       "    .dataframe tbody tr th:only-of-type {\n",
       "        vertical-align: middle;\n",
       "    }\n",
       "\n",
       "    .dataframe tbody tr th {\n",
       "        vertical-align: top;\n",
       "    }\n",
       "\n",
       "    .dataframe thead th {\n",
       "        text-align: right;\n",
       "    }\n",
       "</style>\n",
       "<table border=\"1\" class=\"dataframe\">\n",
       "  <thead>\n",
       "    <tr style=\"text-align: right;\">\n",
       "      <th></th>\n",
       "      <th>TP</th>\n",
       "      <th>TN</th>\n",
       "      <th>FP</th>\n",
       "      <th>FN</th>\n",
       "      <th>accuracy</th>\n",
       "      <th>f1</th>\n",
       "      <th>precision</th>\n",
       "      <th>recall</th>\n",
       "    </tr>\n",
       "  </thead>\n",
       "  <tbody>\n",
       "    <tr>\n",
       "      <th>Prediction</th>\n",
       "      <td>2031</td>\n",
       "      <td>25118</td>\n",
       "      <td>1669</td>\n",
       "      <td>1062</td>\n",
       "      <td>0.909</td>\n",
       "      <td>0.598</td>\n",
       "      <td>0.549</td>\n",
       "      <td>0.657</td>\n",
       "    </tr>\n",
       "    <tr>\n",
       "      <th>Relevance threshold = 1</th>\n",
       "      <td>2051</td>\n",
       "      <td>25082</td>\n",
       "      <td>1705</td>\n",
       "      <td>1042</td>\n",
       "      <td>0.908</td>\n",
       "      <td>0.599</td>\n",
       "      <td>0.546</td>\n",
       "      <td>0.663</td>\n",
       "    </tr>\n",
       "    <tr>\n",
       "      <th>Relevance threshold = 0.975</th>\n",
       "      <td>2238</td>\n",
       "      <td>24417</td>\n",
       "      <td>2370</td>\n",
       "      <td>855</td>\n",
       "      <td>0.892</td>\n",
       "      <td>0.581</td>\n",
       "      <td>0.486</td>\n",
       "      <td>0.724</td>\n",
       "    </tr>\n",
       "    <tr>\n",
       "      <th>Relevance threshold = 0.95</th>\n",
       "      <td>2243</td>\n",
       "      <td>24412</td>\n",
       "      <td>2375</td>\n",
       "      <td>850</td>\n",
       "      <td>0.892</td>\n",
       "      <td>0.582</td>\n",
       "      <td>0.486</td>\n",
       "      <td>0.725</td>\n",
       "    </tr>\n",
       "    <tr>\n",
       "      <th>Relevance threshold = 0.925</th>\n",
       "      <td>2267</td>\n",
       "      <td>24323</td>\n",
       "      <td>2464</td>\n",
       "      <td>826</td>\n",
       "      <td>0.890</td>\n",
       "      <td>0.579</td>\n",
       "      <td>0.479</td>\n",
       "      <td>0.733</td>\n",
       "    </tr>\n",
       "    <tr>\n",
       "      <th>Relevance threshold = 0.9</th>\n",
       "      <td>2331</td>\n",
       "      <td>24072</td>\n",
       "      <td>2715</td>\n",
       "      <td>762</td>\n",
       "      <td>0.884</td>\n",
       "      <td>0.573</td>\n",
       "      <td>0.462</td>\n",
       "      <td>0.754</td>\n",
       "    </tr>\n",
       "    <tr>\n",
       "      <th>Relevance threshold = 0.8</th>\n",
       "      <td>2441</td>\n",
       "      <td>23267</td>\n",
       "      <td>3520</td>\n",
       "      <td>652</td>\n",
       "      <td>0.860</td>\n",
       "      <td>0.539</td>\n",
       "      <td>0.409</td>\n",
       "      <td>0.789</td>\n",
       "    </tr>\n",
       "    <tr>\n",
       "      <th>Relevance threshold = 0.7</th>\n",
       "      <td>2577</td>\n",
       "      <td>21911</td>\n",
       "      <td>4876</td>\n",
       "      <td>516</td>\n",
       "      <td>0.820</td>\n",
       "      <td>0.489</td>\n",
       "      <td>0.346</td>\n",
       "      <td>0.833</td>\n",
       "    </tr>\n",
       "    <tr>\n",
       "      <th>Relevance threshold = 0.6</th>\n",
       "      <td>2690</td>\n",
       "      <td>20053</td>\n",
       "      <td>6734</td>\n",
       "      <td>403</td>\n",
       "      <td>0.761</td>\n",
       "      <td>0.430</td>\n",
       "      <td>0.285</td>\n",
       "      <td>0.870</td>\n",
       "    </tr>\n",
       "    <tr>\n",
       "      <th>Relevance threshold = 0.5</th>\n",
       "      <td>2769</td>\n",
       "      <td>18693</td>\n",
       "      <td>8094</td>\n",
       "      <td>324</td>\n",
       "      <td>0.718</td>\n",
       "      <td>0.397</td>\n",
       "      <td>0.255</td>\n",
       "      <td>0.895</td>\n",
       "    </tr>\n",
       "  </tbody>\n",
       "</table>\n",
       "</div>"
      ],
      "text/plain": [
       "                               TP     TN    FP    FN  accuracy     f1  \\\n",
       "Prediction                   2031  25118  1669  1062     0.909  0.598   \n",
       "Relevance threshold = 1      2051  25082  1705  1042     0.908  0.599   \n",
       "Relevance threshold = 0.975  2238  24417  2370   855     0.892  0.581   \n",
       "Relevance threshold = 0.95   2243  24412  2375   850     0.892  0.582   \n",
       "Relevance threshold = 0.925  2267  24323  2464   826     0.890  0.579   \n",
       "Relevance threshold = 0.9    2331  24072  2715   762     0.884  0.573   \n",
       "Relevance threshold = 0.8    2441  23267  3520   652     0.860  0.539   \n",
       "Relevance threshold = 0.7    2577  21911  4876   516     0.820  0.489   \n",
       "Relevance threshold = 0.6    2690  20053  6734   403     0.761  0.430   \n",
       "Relevance threshold = 0.5    2769  18693  8094   324     0.718  0.397   \n",
       "\n",
       "                             precision  recall  \n",
       "Prediction                       0.549   0.657  \n",
       "Relevance threshold = 1          0.546   0.663  \n",
       "Relevance threshold = 0.975      0.486   0.724  \n",
       "Relevance threshold = 0.95       0.486   0.725  \n",
       "Relevance threshold = 0.925      0.479   0.733  \n",
       "Relevance threshold = 0.9        0.462   0.754  \n",
       "Relevance threshold = 0.8        0.409   0.789  \n",
       "Relevance threshold = 0.7        0.346   0.833  \n",
       "Relevance threshold = 0.6        0.285   0.870  \n",
       "Relevance threshold = 0.5        0.255   0.895  "
      ]
     },
     "execution_count": 16,
     "metadata": {},
     "output_type": "execute_result"
    }
   ],
   "source": [
    "comparison_absolute_aal"
   ]
  },
  {
   "cell_type": "markdown",
   "metadata": {},
   "source": [
    "Down below we show the **effect that the application of rules have over the predicted brain map**."
   ]
  },
  {
   "cell_type": "code",
   "execution_count": 17,
   "metadata": {},
   "outputs": [
    {
     "name": "stdout",
     "output_type": "stream",
     "text": [
      "With a relevance threshold of 1, 56 regions were marked as hypometabolic: 20 correctly (35.71 %) and 36 incorrectly\n",
      "With a relevance threshold of 0.975, 908 regions were marked as hypometabolic: 207 correctly (22.8 %) and 701 incorrectly\n",
      "With a relevance threshold of 0.95, 918 regions were marked as hypometabolic: 212 correctly (23.09 %) and 706 incorrectly\n",
      "With a relevance threshold of 0.925, 1031 regions were marked as hypometabolic: 236 correctly (22.89 %) and 795 incorrectly\n",
      "With a relevance threshold of 0.9, 1346 regions were marked as hypometabolic: 300 correctly (22.29 %) and 1046 incorrectly\n",
      "With a relevance threshold of 0.8, 2261 regions were marked as hypometabolic: 410 correctly (18.13 %) and 1851 incorrectly\n",
      "With a relevance threshold of 0.7, 3753 regions were marked as hypometabolic: 546 correctly (14.55 %) and 3207 incorrectly\n",
      "With a relevance threshold of 0.6, 5724 regions were marked as hypometabolic: 659 correctly (11.51 %) and 5065 incorrectly\n",
      "With a relevance threshold of 0.5, 7163 regions were marked as hypometabolic: 738 correctly (10.3 %) and 6425 incorrectly\n"
     ]
    }
   ],
   "source": [
    "for i in added_absolute_aal: print(i)"
   ]
  },
  {
   "cell_type": "markdown",
   "metadata": {},
   "source": [
    "Down below we show the **effect that the application of rules have over each of the predicted regions**."
   ]
  },
  {
   "cell_type": "code",
   "execution_count": 18,
   "metadata": {},
   "outputs": [
    {
     "data": {
      "image/png": "[encoded data removed]",
      "text/plain": [
       "<Figure size 1152x1152 with 4 Axes>"
      ]
     },
     "metadata": {
      "needs_background": "light"
     },
     "output_type": "display_data"
    }
   ],
   "source": [
    "matplotlib.rcParams['figure.figsize'] = (16,16)\n",
    "fig,ax =matplotlib.pyplot.subplots(1,2)\n",
    "seaborn.heatmap(correct_absolute_aal_regions.transpose(),cmap='Blues',xticklabels=True,yticklabels=True,ax=ax[0])\n",
    "ax[0].title.set_text('Number of hypometabolic labels correctly added')\n",
    "ax[0].set_xlabel('Relevance threshold')\n",
    "seaborn.heatmap(percentage_absolute_aal_regions.transpose(),cmap='Reds',xticklabels=True,yticklabels=True,ax=ax[1])\n",
    "ax[1].title.set_text('Percentage of hypometabolic labels correctly added')\n",
    "ax[1].set_xlabel('Relevance threshold')\n",
    "fig.show()"
   ]
  },
  {
   "cell_type": "markdown",
   "metadata": {},
   "source": [
    "##### Using normalised rules"
   ]
  },
  {
   "cell_type": "markdown",
   "metadata": {},
   "source": [
    "Down below we show the **metrics associated to both the predictions and later corrections through probabilistic rules**."
   ]
  },
  {
   "cell_type": "code",
   "execution_count": 19,
   "metadata": {},
   "outputs": [
    {
     "data": {
      "text/html": [
       "<div>\n",
       "<style scoped>\n",
       "    .dataframe tbody tr th:only-of-type {\n",
       "        vertical-align: middle;\n",
       "    }\n",
       "\n",
       "    .dataframe tbody tr th {\n",
       "        vertical-align: top;\n",
       "    }\n",
       "\n",
       "    .dataframe thead th {\n",
       "        text-align: right;\n",
       "    }\n",
       "</style>\n",
       "<table border=\"1\" class=\"dataframe\">\n",
       "  <thead>\n",
       "    <tr style=\"text-align: right;\">\n",
       "      <th></th>\n",
       "      <th>TP</th>\n",
       "      <th>TN</th>\n",
       "      <th>FP</th>\n",
       "      <th>FN</th>\n",
       "      <th>accuracy</th>\n",
       "      <th>f1</th>\n",
       "      <th>precision</th>\n",
       "      <th>recall</th>\n",
       "    </tr>\n",
       "  </thead>\n",
       "  <tbody>\n",
       "    <tr>\n",
       "      <th>Prediction</th>\n",
       "      <td>2031</td>\n",
       "      <td>25118</td>\n",
       "      <td>1669</td>\n",
       "      <td>1062</td>\n",
       "      <td>0.909</td>\n",
       "      <td>0.598</td>\n",
       "      <td>0.549</td>\n",
       "      <td>0.657</td>\n",
       "    </tr>\n",
       "    <tr>\n",
       "      <th>Relevance threshold = 0.9</th>\n",
       "      <td>2111</td>\n",
       "      <td>24895</td>\n",
       "      <td>1892</td>\n",
       "      <td>982</td>\n",
       "      <td>0.904</td>\n",
       "      <td>0.595</td>\n",
       "      <td>0.527</td>\n",
       "      <td>0.683</td>\n",
       "    </tr>\n",
       "    <tr>\n",
       "      <th>Relevance threshold = 0.8</th>\n",
       "      <td>2121</td>\n",
       "      <td>24875</td>\n",
       "      <td>1912</td>\n",
       "      <td>972</td>\n",
       "      <td>0.903</td>\n",
       "      <td>0.595</td>\n",
       "      <td>0.526</td>\n",
       "      <td>0.686</td>\n",
       "    </tr>\n",
       "    <tr>\n",
       "      <th>Relevance threshold = 0.7</th>\n",
       "      <td>2150</td>\n",
       "      <td>24746</td>\n",
       "      <td>2041</td>\n",
       "      <td>943</td>\n",
       "      <td>0.900</td>\n",
       "      <td>0.590</td>\n",
       "      <td>0.513</td>\n",
       "      <td>0.695</td>\n",
       "    </tr>\n",
       "    <tr>\n",
       "      <th>Relevance threshold = 0.6</th>\n",
       "      <td>2245</td>\n",
       "      <td>24219</td>\n",
       "      <td>2568</td>\n",
       "      <td>848</td>\n",
       "      <td>0.886</td>\n",
       "      <td>0.568</td>\n",
       "      <td>0.466</td>\n",
       "      <td>0.726</td>\n",
       "    </tr>\n",
       "    <tr>\n",
       "      <th>Relevance threshold = 0.5</th>\n",
       "      <td>2306</td>\n",
       "      <td>23780</td>\n",
       "      <td>3007</td>\n",
       "      <td>787</td>\n",
       "      <td>0.873</td>\n",
       "      <td>0.549</td>\n",
       "      <td>0.434</td>\n",
       "      <td>0.746</td>\n",
       "    </tr>\n",
       "  </tbody>\n",
       "</table>\n",
       "</div>"
      ],
      "text/plain": [
       "                             TP     TN    FP    FN  accuracy     f1  \\\n",
       "Prediction                 2031  25118  1669  1062     0.909  0.598   \n",
       "Relevance threshold = 0.9  2111  24895  1892   982     0.904  0.595   \n",
       "Relevance threshold = 0.8  2121  24875  1912   972     0.903  0.595   \n",
       "Relevance threshold = 0.7  2150  24746  2041   943     0.900  0.590   \n",
       "Relevance threshold = 0.6  2245  24219  2568   848     0.886  0.568   \n",
       "Relevance threshold = 0.5  2306  23780  3007   787     0.873  0.549   \n",
       "\n",
       "                           precision  recall  \n",
       "Prediction                     0.549   0.657  \n",
       "Relevance threshold = 0.9      0.527   0.683  \n",
       "Relevance threshold = 0.8      0.526   0.686  \n",
       "Relevance threshold = 0.7      0.513   0.695  \n",
       "Relevance threshold = 0.6      0.466   0.726  \n",
       "Relevance threshold = 0.5      0.434   0.746  "
      ]
     },
     "execution_count": 19,
     "metadata": {},
     "output_type": "execute_result"
    }
   ],
   "source": [
    "comparison_normalised_aal"
   ]
  },
  {
   "cell_type": "markdown",
   "metadata": {},
   "source": [
    "Down below we show the **effect that the application of rules have over the predicted brain map**."
   ]
  },
  {
   "cell_type": "code",
   "execution_count": 20,
   "metadata": {},
   "outputs": [
    {
     "name": "stdout",
     "output_type": "stream",
     "text": [
      "With a relevance threshold of 0.9, 303 regions were marked as hypometabolic: 80 correctly (26.4 %) and 223 incorrectly\n",
      "With a relevance threshold of 0.8, 333 regions were marked as hypometabolic: 90 correctly (27.03 %) and 243 incorrectly\n",
      "With a relevance threshold of 0.7, 491 regions were marked as hypometabolic: 119 correctly (24.24 %) and 372 incorrectly\n",
      "With a relevance threshold of 0.6, 1113 regions were marked as hypometabolic: 214 correctly (19.23 %) and 899 incorrectly\n",
      "With a relevance threshold of 0.5, 1613 regions were marked as hypometabolic: 275 correctly (17.05 %) and 1338 incorrectly\n"
     ]
    }
   ],
   "source": [
    "for i in added_normalised_aal: print(i)"
   ]
  },
  {
   "cell_type": "markdown",
   "metadata": {},
   "source": [
    "Down below we show the **effect that the application of rules have over each of the predicted regions**."
   ]
  },
  {
   "cell_type": "code",
   "execution_count": 21,
   "metadata": {},
   "outputs": [
    {
     "data": {
      "image/png": "[encoded data removed]",
      "text/plain": [
       "<Figure size 1152x1152 with 4 Axes>"
      ]
     },
     "metadata": {
      "needs_background": "light"
     },
     "output_type": "display_data"
    }
   ],
   "source": [
    "matplotlib.rcParams['figure.figsize'] = (16,16)\n",
    "fig,ax =matplotlib.pyplot.subplots(1,2)\n",
    "seaborn.heatmap(correct_normalised_aal_regions.transpose(),cmap='Blues',xticklabels=True,yticklabels=True,ax=ax[0])\n",
    "ax[0].title.set_text('Number of hypometabolic labels correctly added')\n",
    "ax[0].set_xlabel('Relevance threshold')\n",
    "seaborn.heatmap(percentage_normalised_aal_regions.transpose(),cmap='Reds',xticklabels=True,yticklabels=True,ax=ax[1])\n",
    "ax[1].title.set_text('Percentage of hypometabolic labels correctly added')\n",
    "ax[1].set_xlabel('Relevance threshold')\n",
    "fig.show()"
   ]
  },
  {
   "cell_type": "markdown",
   "metadata": {},
   "source": [
    "#### Brodmann atlas (47 regions)"
   ]
  },
  {
   "cell_type": "markdown",
   "metadata": {},
   "source": [
    "##### Using random corrector"
   ]
  },
  {
   "cell_type": "markdown",
   "metadata": {},
   "source": [
    "A program that randomly changes negative labels to positive labels in our predicted dataset would label correctly what percentage of values?"
   ]
  },
  {
   "cell_type": "code",
   "execution_count": 22,
   "metadata": {},
   "outputs": [
    {
     "name": "stdout",
     "output_type": "stream",
     "text": [
      "2.97 %\n"
     ]
    }
   ],
   "source": [
    "print(random_brodmann)"
   ]
  },
  {
   "cell_type": "markdown",
   "metadata": {},
   "source": [
    "##### Using absolute rules"
   ]
  },
  {
   "cell_type": "markdown",
   "metadata": {},
   "source": [
    "Down below we show the **metrics associated to both the predictions and later corrections through probabilistic rules**."
   ]
  },
  {
   "cell_type": "code",
   "execution_count": 23,
   "metadata": {},
   "outputs": [
    {
     "data": {
      "text/html": [
       "<div>\n",
       "<style scoped>\n",
       "    .dataframe tbody tr th:only-of-type {\n",
       "        vertical-align: middle;\n",
       "    }\n",
       "\n",
       "    .dataframe tbody tr th {\n",
       "        vertical-align: top;\n",
       "    }\n",
       "\n",
       "    .dataframe thead th {\n",
       "        text-align: right;\n",
       "    }\n",
       "</style>\n",
       "<table border=\"1\" class=\"dataframe\">\n",
       "  <thead>\n",
       "    <tr style=\"text-align: right;\">\n",
       "      <th></th>\n",
       "      <th>TP</th>\n",
       "      <th>TN</th>\n",
       "      <th>FP</th>\n",
       "      <th>FN</th>\n",
       "      <th>accuracy</th>\n",
       "      <th>f1</th>\n",
       "      <th>precision</th>\n",
       "      <th>recall</th>\n",
       "    </tr>\n",
       "  </thead>\n",
       "  <tbody>\n",
       "    <tr>\n",
       "      <th>Prediction</th>\n",
       "      <td>1035</td>\n",
       "      <td>13482</td>\n",
       "      <td>675</td>\n",
       "      <td>412</td>\n",
       "      <td>0.930</td>\n",
       "      <td>0.656</td>\n",
       "      <td>0.605</td>\n",
       "      <td>0.715</td>\n",
       "    </tr>\n",
       "    <tr>\n",
       "      <th>Relevance threshold = 1</th>\n",
       "      <td>1044</td>\n",
       "      <td>13472</td>\n",
       "      <td>685</td>\n",
       "      <td>403</td>\n",
       "      <td>0.930</td>\n",
       "      <td>0.657</td>\n",
       "      <td>0.604</td>\n",
       "      <td>0.721</td>\n",
       "    </tr>\n",
       "    <tr>\n",
       "      <th>Relevance threshold = 0.975</th>\n",
       "      <td>1087</td>\n",
       "      <td>13325</td>\n",
       "      <td>832</td>\n",
       "      <td>360</td>\n",
       "      <td>0.924</td>\n",
       "      <td>0.646</td>\n",
       "      <td>0.566</td>\n",
       "      <td>0.751</td>\n",
       "    </tr>\n",
       "    <tr>\n",
       "      <th>Relevance threshold = 0.95</th>\n",
       "      <td>1088</td>\n",
       "      <td>13320</td>\n",
       "      <td>837</td>\n",
       "      <td>359</td>\n",
       "      <td>0.923</td>\n",
       "      <td>0.645</td>\n",
       "      <td>0.565</td>\n",
       "      <td>0.752</td>\n",
       "    </tr>\n",
       "    <tr>\n",
       "      <th>Relevance threshold = 0.925</th>\n",
       "      <td>1091</td>\n",
       "      <td>13312</td>\n",
       "      <td>845</td>\n",
       "      <td>356</td>\n",
       "      <td>0.923</td>\n",
       "      <td>0.645</td>\n",
       "      <td>0.564</td>\n",
       "      <td>0.754</td>\n",
       "    </tr>\n",
       "    <tr>\n",
       "      <th>Relevance threshold = 0.9</th>\n",
       "      <td>1116</td>\n",
       "      <td>13248</td>\n",
       "      <td>909</td>\n",
       "      <td>331</td>\n",
       "      <td>0.921</td>\n",
       "      <td>0.643</td>\n",
       "      <td>0.551</td>\n",
       "      <td>0.771</td>\n",
       "    </tr>\n",
       "    <tr>\n",
       "      <th>Relevance threshold = 0.8</th>\n",
       "      <td>1166</td>\n",
       "      <td>12961</td>\n",
       "      <td>1196</td>\n",
       "      <td>281</td>\n",
       "      <td>0.905</td>\n",
       "      <td>0.612</td>\n",
       "      <td>0.494</td>\n",
       "      <td>0.806</td>\n",
       "    </tr>\n",
       "    <tr>\n",
       "      <th>Relevance threshold = 0.7</th>\n",
       "      <td>1214</td>\n",
       "      <td>12486</td>\n",
       "      <td>1671</td>\n",
       "      <td>233</td>\n",
       "      <td>0.878</td>\n",
       "      <td>0.560</td>\n",
       "      <td>0.421</td>\n",
       "      <td>0.839</td>\n",
       "    </tr>\n",
       "    <tr>\n",
       "      <th>Relevance threshold = 0.6</th>\n",
       "      <td>1247</td>\n",
       "      <td>12106</td>\n",
       "      <td>2051</td>\n",
       "      <td>200</td>\n",
       "      <td>0.856</td>\n",
       "      <td>0.526</td>\n",
       "      <td>0.378</td>\n",
       "      <td>0.862</td>\n",
       "    </tr>\n",
       "    <tr>\n",
       "      <th>Relevance threshold = 0.5</th>\n",
       "      <td>1279</td>\n",
       "      <td>11786</td>\n",
       "      <td>2371</td>\n",
       "      <td>168</td>\n",
       "      <td>0.837</td>\n",
       "      <td>0.502</td>\n",
       "      <td>0.350</td>\n",
       "      <td>0.884</td>\n",
       "    </tr>\n",
       "  </tbody>\n",
       "</table>\n",
       "</div>"
      ],
      "text/plain": [
       "                               TP     TN    FP   FN  accuracy     f1  \\\n",
       "Prediction                   1035  13482   675  412     0.930  0.656   \n",
       "Relevance threshold = 1      1044  13472   685  403     0.930  0.657   \n",
       "Relevance threshold = 0.975  1087  13325   832  360     0.924  0.646   \n",
       "Relevance threshold = 0.95   1088  13320   837  359     0.923  0.645   \n",
       "Relevance threshold = 0.925  1091  13312   845  356     0.923  0.645   \n",
       "Relevance threshold = 0.9    1116  13248   909  331     0.921  0.643   \n",
       "Relevance threshold = 0.8    1166  12961  1196  281     0.905  0.612   \n",
       "Relevance threshold = 0.7    1214  12486  1671  233     0.878  0.560   \n",
       "Relevance threshold = 0.6    1247  12106  2051  200     0.856  0.526   \n",
       "Relevance threshold = 0.5    1279  11786  2371  168     0.837  0.502   \n",
       "\n",
       "                             precision  recall  \n",
       "Prediction                       0.605   0.715  \n",
       "Relevance threshold = 1          0.604   0.721  \n",
       "Relevance threshold = 0.975      0.566   0.751  \n",
       "Relevance threshold = 0.95       0.565   0.752  \n",
       "Relevance threshold = 0.925      0.564   0.754  \n",
       "Relevance threshold = 0.9        0.551   0.771  \n",
       "Relevance threshold = 0.8        0.494   0.806  \n",
       "Relevance threshold = 0.7        0.421   0.839  \n",
       "Relevance threshold = 0.6        0.378   0.862  \n",
       "Relevance threshold = 0.5        0.350   0.884  "
      ]
     },
     "execution_count": 23,
     "metadata": {},
     "output_type": "execute_result"
    }
   ],
   "source": [
    "comparison_absolute_brodmann"
   ]
  },
  {
   "cell_type": "markdown",
   "metadata": {},
   "source": [
    "Down below we show the **effect that the application of rules have over the predicted brain map**."
   ]
  },
  {
   "cell_type": "code",
   "execution_count": 24,
   "metadata": {},
   "outputs": [
    {
     "name": "stdout",
     "output_type": "stream",
     "text": [
      "With a relevance threshold of 1, 19 regions were marked as hypometabolic: 9 correctly (47.37 %) and 10 incorrectly\n",
      "With a relevance threshold of 0.975, 209 regions were marked as hypometabolic: 52 correctly (24.88 %) and 157 incorrectly\n",
      "With a relevance threshold of 0.95, 215 regions were marked as hypometabolic: 53 correctly (24.65 %) and 162 incorrectly\n",
      "With a relevance threshold of 0.925, 226 regions were marked as hypometabolic: 56 correctly (24.78 %) and 170 incorrectly\n",
      "With a relevance threshold of 0.9, 315 regions were marked as hypometabolic: 81 correctly (25.71 %) and 234 incorrectly\n",
      "With a relevance threshold of 0.8, 652 regions were marked as hypometabolic: 131 correctly (20.09 %) and 521 incorrectly\n",
      "With a relevance threshold of 0.7, 1175 regions were marked as hypometabolic: 179 correctly (15.23 %) and 996 incorrectly\n",
      "With a relevance threshold of 0.6, 1588 regions were marked as hypometabolic: 212 correctly (13.35 %) and 1376 incorrectly\n",
      "With a relevance threshold of 0.5, 1940 regions were marked as hypometabolic: 244 correctly (12.58 %) and 1696 incorrectly\n"
     ]
    }
   ],
   "source": [
    "for i in added_absolute_brodmann: print(i)"
   ]
  },
  {
   "cell_type": "markdown",
   "metadata": {},
   "source": [
    "Down below we show the **effect that the application of rules have over each of the predicted regions**."
   ]
  },
  {
   "cell_type": "code",
   "execution_count": 25,
   "metadata": {},
   "outputs": [
    {
     "data": {
      "image/png": "[encoded data removed]",
      "text/plain": [
       "<Figure size 1152x576 with 4 Axes>"
      ]
     },
     "metadata": {
      "needs_background": "light"
     },
     "output_type": "display_data"
    }
   ],
   "source": [
    "matplotlib.rcParams['figure.figsize'] = (16,8)\n",
    "fig,ax =matplotlib.pyplot.subplots(1,2)\n",
    "seaborn.heatmap(correct_absolute_brodmann_regions.transpose(),cmap='Blues',xticklabels=True,yticklabels=True,ax=ax[0])\n",
    "ax[0].title.set_text('Number of hypometabolic labels correctly added')\n",
    "ax[0].set_xlabel('Relevance threshold')\n",
    "seaborn.heatmap(percentage_absolute_brodmann_regions.transpose(),cmap='Reds',xticklabels=True,yticklabels=True,ax=ax[1])\n",
    "ax[1].title.set_text('Percentage of hypometabolic labels correctly added')\n",
    "ax[1].set_xlabel('Relevance threshold')\n",
    "fig.show()"
   ]
  },
  {
   "cell_type": "markdown",
   "metadata": {},
   "source": [
    "##### Using normalised rules"
   ]
  },
  {
   "cell_type": "markdown",
   "metadata": {},
   "source": [
    "Down below we show the **metrics associated to both the predictions and later corrections through probabilistic rules**."
   ]
  },
  {
   "cell_type": "code",
   "execution_count": 26,
   "metadata": {},
   "outputs": [
    {
     "data": {
      "text/html": [
       "<div>\n",
       "<style scoped>\n",
       "    .dataframe tbody tr th:only-of-type {\n",
       "        vertical-align: middle;\n",
       "    }\n",
       "\n",
       "    .dataframe tbody tr th {\n",
       "        vertical-align: top;\n",
       "    }\n",
       "\n",
       "    .dataframe thead th {\n",
       "        text-align: right;\n",
       "    }\n",
       "</style>\n",
       "<table border=\"1\" class=\"dataframe\">\n",
       "  <thead>\n",
       "    <tr style=\"text-align: right;\">\n",
       "      <th></th>\n",
       "      <th>TP</th>\n",
       "      <th>TN</th>\n",
       "      <th>FP</th>\n",
       "      <th>FN</th>\n",
       "      <th>accuracy</th>\n",
       "      <th>f1</th>\n",
       "      <th>precision</th>\n",
       "      <th>recall</th>\n",
       "    </tr>\n",
       "  </thead>\n",
       "  <tbody>\n",
       "    <tr>\n",
       "      <th>Prediction</th>\n",
       "      <td>1035</td>\n",
       "      <td>13482</td>\n",
       "      <td>675</td>\n",
       "      <td>412</td>\n",
       "      <td>0.930</td>\n",
       "      <td>0.656</td>\n",
       "      <td>0.605</td>\n",
       "      <td>0.715</td>\n",
       "    </tr>\n",
       "    <tr>\n",
       "      <th>Relevance threshold = 0.9</th>\n",
       "      <td>1063</td>\n",
       "      <td>13431</td>\n",
       "      <td>726</td>\n",
       "      <td>384</td>\n",
       "      <td>0.929</td>\n",
       "      <td>0.657</td>\n",
       "      <td>0.594</td>\n",
       "      <td>0.735</td>\n",
       "    </tr>\n",
       "    <tr>\n",
       "      <th>Relevance threshold = 0.8</th>\n",
       "      <td>1065</td>\n",
       "      <td>13416</td>\n",
       "      <td>741</td>\n",
       "      <td>382</td>\n",
       "      <td>0.928</td>\n",
       "      <td>0.655</td>\n",
       "      <td>0.590</td>\n",
       "      <td>0.736</td>\n",
       "    </tr>\n",
       "    <tr>\n",
       "      <th>Relevance threshold = 0.7</th>\n",
       "      <td>1076</td>\n",
       "      <td>13374</td>\n",
       "      <td>783</td>\n",
       "      <td>371</td>\n",
       "      <td>0.926</td>\n",
       "      <td>0.651</td>\n",
       "      <td>0.579</td>\n",
       "      <td>0.744</td>\n",
       "    </tr>\n",
       "    <tr>\n",
       "      <th>Relevance threshold = 0.6</th>\n",
       "      <td>1121</td>\n",
       "      <td>13168</td>\n",
       "      <td>989</td>\n",
       "      <td>326</td>\n",
       "      <td>0.916</td>\n",
       "      <td>0.630</td>\n",
       "      <td>0.531</td>\n",
       "      <td>0.775</td>\n",
       "    </tr>\n",
       "    <tr>\n",
       "      <th>Relevance threshold = 0.5</th>\n",
       "      <td>1183</td>\n",
       "      <td>12829</td>\n",
       "      <td>1328</td>\n",
       "      <td>264</td>\n",
       "      <td>0.898</td>\n",
       "      <td>0.598</td>\n",
       "      <td>0.471</td>\n",
       "      <td>0.818</td>\n",
       "    </tr>\n",
       "  </tbody>\n",
       "</table>\n",
       "</div>"
      ],
      "text/plain": [
       "                             TP     TN    FP   FN  accuracy     f1  precision  \\\n",
       "Prediction                 1035  13482   675  412     0.930  0.656      0.605   \n",
       "Relevance threshold = 0.9  1063  13431   726  384     0.929  0.657      0.594   \n",
       "Relevance threshold = 0.8  1065  13416   741  382     0.928  0.655      0.590   \n",
       "Relevance threshold = 0.7  1076  13374   783  371     0.926  0.651      0.579   \n",
       "Relevance threshold = 0.6  1121  13168   989  326     0.916  0.630      0.531   \n",
       "Relevance threshold = 0.5  1183  12829  1328  264     0.898  0.598      0.471   \n",
       "\n",
       "                           recall  \n",
       "Prediction                  0.715  \n",
       "Relevance threshold = 0.9   0.735  \n",
       "Relevance threshold = 0.8   0.736  \n",
       "Relevance threshold = 0.7   0.744  \n",
       "Relevance threshold = 0.6   0.775  \n",
       "Relevance threshold = 0.5   0.818  "
      ]
     },
     "execution_count": 26,
     "metadata": {},
     "output_type": "execute_result"
    }
   ],
   "source": [
    "comparison_normalised_brodmann"
   ]
  },
  {
   "cell_type": "markdown",
   "metadata": {},
   "source": [
    "Down below we show the **effect that the application of rules have over the predicted brain map**."
   ]
  },
  {
   "cell_type": "code",
   "execution_count": 27,
   "metadata": {},
   "outputs": [
    {
     "name": "stdout",
     "output_type": "stream",
     "text": [
      "With a relevance threshold of 0.9, 79 regions were marked as hypometabolic: 28 correctly (35.44 %) and 51 incorrectly\n",
      "With a relevance threshold of 0.8, 96 regions were marked as hypometabolic: 30 correctly (31.25 %) and 66 incorrectly\n",
      "With a relevance threshold of 0.7, 149 regions were marked as hypometabolic: 41 correctly (27.52 %) and 108 incorrectly\n",
      "With a relevance threshold of 0.6, 400 regions were marked as hypometabolic: 86 correctly (21.5 %) and 314 incorrectly\n",
      "With a relevance threshold of 0.5, 801 regions were marked as hypometabolic: 148 correctly (18.48 %) and 653 incorrectly\n"
     ]
    }
   ],
   "source": [
    "for i in added_normalised_brodmann: print(i)"
   ]
  },
  {
   "cell_type": "markdown",
   "metadata": {},
   "source": [
    "Down below we show the **effect that the application of rules have over each of the predicted regions**."
   ]
  },
  {
   "cell_type": "code",
   "execution_count": 28,
   "metadata": {},
   "outputs": [
    {
     "data": {
      "image/png": "[encoded data removed]",
      "text/plain": [
       "<Figure size 1152x576 with 4 Axes>"
      ]
     },
     "metadata": {
      "needs_background": "light"
     },
     "output_type": "display_data"
    }
   ],
   "source": [
    "matplotlib.rcParams['figure.figsize'] = (16,8)\n",
    "fig,ax =matplotlib.pyplot.subplots(1,2)\n",
    "seaborn.heatmap(correct_normalised_brodmann_regions.transpose(),cmap='Blues',xticklabels=True,yticklabels=True,ax=ax[0])\n",
    "ax[0].title.set_text('Number of hypometabolic labels correctly added')\n",
    "ax[0].set_xlabel('Relevance threshold')\n",
    "seaborn.heatmap(percentage_normalised_brodmann_regions.transpose(),cmap='Reds',xticklabels=True,yticklabels=True,ax=ax[1])\n",
    "ax[1].title.set_text('Percentage of hypometabolic labels correctly added')\n",
    "ax[1].set_xlabel('Relevance threshold')\n",
    "fig.show()"
   ]
  },
  {
   "cell_type": "markdown",
   "metadata": {},
   "source": [
    "### Conclusions"
   ]
  },
  {
   "cell_type": "markdown",
   "metadata": {},
   "source": [
    "In order to measure the validity of our rules, it is important to know what result should we expect if we did random changes from negative labels to positive labels in our predicted datasets. As we have seen, it would be expected that only 3-4% of values are correctly labelled. This low percentage can be explained by two facts. First, the percentage of positive labels is by itself very low in the real dataset (10%). Second, our models have already predicted correctly part of this positive labels, which mean that only very few remain available for correction. Taking this into consideration, it is evident that **our rules perform better than a random generator would do**. Even so, **incorrect modifications are more common than correct modifications**, which explains why accuracy and precision always fall. Recall, on the other hand, can only improve. \n",
    "\n",
    "**As we consider lower relevance thresholds**, we allow more rules and more modifications to be considered. When the number of modifications is low, they tend to be more accurate; when the number of modifications is high, they tend to be less accurate. The consequence is that **recall increase while accuracy and precision decrease**. **As for the two different type of rules**, normalised rules result in less changes being made, which makes sense because we are being more strict. However, **absolute rules usually perform better at similar magnitudes**. The explanation is that normalised rules are very useful from the clinical point of view, but a pure data driven mechanism is expected to yield better metrics.\n",
    "\n",
    "Eventually, if we focus in the correction region by region, it is clear that absolute rules will lead regions with already high levels of hypometabolism to show more changes. This explains why we see blocks where the rules appear to have a greater impact. In the other hand, normalised rules show more realistic relations. Looking at them, we can see that **certain regions appear to be more affected than others by the rules**; these are: P2 (L), T3 (R), IN (R), B20, B21, B22. To the moment we have only referred to the number of correct changes. In terms of percentage of correct changes, some regions that stand out are: PRE (R), F1 (R), F3O (L), POST (L), POST (R), SMG (L), T1P (L), T3 (R), HES (R), IN (L), B30, B32, B44, B45, B20, B21.\n",
    "\n",
    "So, why are we struggling with correctly modifying non-hipometabolism to hipometabolism? \n",
    "\n",
    "- **Rules are very simple, which brings uncertainty**: in the rule '*if A is hypometabolic, then B is hypometabolic with a probability of 0.6*' we know the rule can be applied in 60% of cases but we don't know which cases they are; therefore, we may apply it when not needed or not apply it when needed.\n",
    "- **We are in a very difficult scenario**: many positive labels have already been predicted correctly with our models, so what is left are the difficult cases. \n",
    "- **We are in a very unstable scenario**: the models predicted wrongly in some cases, so the rules are acting over uncertain prior knowledge."
   ]
  }
 ],
 "metadata": {
  "kernelspec": {
   "display_name": "Python 3",
   "language": "python",
   "name": "python3"
  },
  "language_info": {
   "codemirror_mode": {
    "name": "ipython",
    "version": 3
   },
   "file_extension": ".py",
   "mimetype": "text/x-python",
   "name": "python",
   "nbconvert_exporter": "python",
   "pygments_lexer": "ipython3",
   "version": "3.7.6"
  }
 },
 "nbformat": 4,
 "nbformat_minor": 4
}
