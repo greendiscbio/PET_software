{
 "cells": [
  {
   "cell_type": "markdown",
   "metadata": {},
   "source": [
    "# Exploration of probabilistic rules"
   ]
  },
  {
   "cell_type": "markdown",
   "metadata": {},
   "source": [
    "This notebook explores the probabilistic ruling approach and applies it to different datasets, considering a binary threshold of 100."
   ]
  },
  {
   "cell_type": "markdown",
   "metadata": {
    "heading_collapsed": true
   },
   "source": [
    "### Brief explanation"
   ]
  },
  {
   "cell_type": "markdown",
   "metadata": {
    "hidden": true
   },
   "source": [
    "The basic idea behind this approach is that we can use the PET data available in our database to develop automatic causal rules. These are of three types:\n",
    "\n",
    "**Absolute rules**: *'if region A is hypometabolic/non-hypometabolic, region B is hypometabolic/non-hypometabolic with a probability p'*.\n",
    "\n",
    "We ilustrate it with the example *'if region A is hypometabolic, then region B is hypometabolic with a probability p'*.\n",
    "\n",
    "1. We calculate the number of patients in which region A is hypometabolic.\n",
    "2. We calculate the number of patients in which region B is hypometabolic, being region A hypometabolic.\n",
    "3. We divide both quantities to obtain the probability of region B being hypometabolic when region A is hypometabolic.\n",
    "4. If this probability is above a given threshold, we generate the rule.\n",
    "\n",
    "**Normalised rules**: they are similar to the absolute rules but normalise the probabilities so to outline real relations and discard noise.\n",
    "\n",
    "We ilustrate it with the example *'if region A is hypometabolic, then region B is hypometabolic with a probability p'*.\n",
    "\n",
    "1. We calculate the number of patients in which region A is hypometabolic.\n",
    "2. We calculate the number of patients in which region B is hypometabolic, being region A hypometabolic.\n",
    "3. We calculate the number of patients in which region B is hypometabolic, being region A non-hypometabolic.\n",
    "4. We substract quantity 3 to quantity 2 to obtain a normalised count of region B being hypometabolic when region A is hypometabolic.\n",
    "5. We divide quantity 4 with quantity 1 to obtain the normalised probability of region B being hypometabolic when region A is hypometabolic.\n",
    "6. If this probability is above a given threshold, we generate the rule.\n",
    "\n",
    "**Relative rules**: *'region A and region B have equal/unequal metabolism with a probability p'*.\n",
    "\n",
    "We ilustrate it with the example *'region A and region B have equal metabolism with a probability p'*.\n",
    "\n",
    "1. We calculate the number of patients\n",
    "2. We calculate the number of patients in which region A has the same metabolism as region B.\n",
    "3. We divide both quantities to obtain the probabilitiy of region A having the same metabolism as region B.\n",
    "4. If this probability is above a given threshold, we generate the rule.\n",
    "\n",
    "The rules can be defined with two different strategies: **'non-hierarchical'** means that we look for relations between all regions; **'hierarchical'** means that we only look for relations between one region and those with lower hierarchy. For example, if we are looking for hypometabolism-hypometabolism relations, we only define rules from more hypometabolic regions to less hypometabolic regions. In this way, we try to follow the logic behind the disease. When considering normalised rules, there is not much difference between using one or another strategy."
   ]
  },
  {
   "cell_type": "markdown",
   "metadata": {
    "heading_collapsed": true
   },
   "source": [
    "### Import the packages"
   ]
  },
  {
   "cell_type": "code",
   "execution_count": 1,
   "metadata": {
    "hidden": true
   },
   "outputs": [],
   "source": [
    "import warnings\n",
    "import sys\n",
    "sys.path.insert(0,'../../Tools')\n",
    "from prtools import *\n",
    "da = Datasets()\n",
    "rd = RuleDefinition()"
   ]
  },
  {
   "cell_type": "code",
   "execution_count": 2,
   "metadata": {},
   "outputs": [],
   "source": [
    "warnings.filterwarnings('ignore')"
   ]
  },
  {
   "cell_type": "markdown",
   "metadata": {
    "heading_collapsed": true
   },
   "source": [
    "### Prepare the datasets"
   ]
  },
  {
   "cell_type": "code",
   "execution_count": 3,
   "metadata": {
    "hidden": true
   },
   "outputs": [],
   "source": [
    "Y_aal_quan = pandas.read_csv('../../Data/Y_aal_quan.csv')\n",
	"Y_aal_quan.drop(['f1mo_l','f1mo_r'],axis=1,inplace=True)\n",
    "Y_aal_quan_diag = pandas.read_csv('../../Data/Y_aal_quan_diag.csv')\n",
	"Y_aal_quan_diag.drop(['f1mo_l','f1mo_r'],axis=1,inplace=True)\n",
    "Y_brodmann_quan = pandas.read_csv('../../Data/Y_brodmann_quan.csv')\n",
    "Y_brodmann_quan_diag = pandas.read_csv('../../Data/Y_brodmann_quan_diag.csv')\n",
    "\n",
    "Y_aal_quan_AD = da.filter_diagnosis(Y_aal_quan_diag,[5,7,17])\n",
    "Y_aal_quan_FTD = da.filter_diagnosis(Y_aal_quan_diag,[3])\n",
    "Y_aal_quan_CT = da.filter_diagnosis(Y_aal_quan_diag,[13,16])\n",
    "Y_brodmann_quan_AD = da.filter_diagnosis(Y_brodmann_quan_diag,[5,7,17])\n",
    "Y_brodmann_quan_FTD = da.filter_diagnosis(Y_brodmann_quan_diag,[3])\n",
    "Y_brodmann_quan_CT = da.filter_diagnosis(Y_brodmann_quan_diag,[13,16])"
   ]
  },
  {
   "cell_type": "markdown",
   "metadata": {
    "heading_collapsed": true
   },
   "source": [
    "### General rules"
   ]
  },
  {
   "cell_type": "markdown",
   "metadata": {
    "hidden": true
   },
   "source": [
    "These normalised rules are defined with the whole dataset. We show all the possible relations involving hypometabolism and non-hypometabolism."
   ]
  },
  {
   "cell_type": "markdown",
   "metadata": {
    "heading_collapsed": true,
    "hidden": true
   },
   "source": [
    "#### AAL atlas (90 regions)"
   ]
  },
  {
   "cell_type": "markdown",
   "metadata": {
    "hidden": true
   },
   "source": [
    "*Hypometabolic - Hypometabolic*"
   ]
  },
  {
   "cell_type": "code",
   "execution_count": 4,
   "metadata": {
    "hidden": true
   },
   "outputs": [
    {
     "name": "stdout",
     "output_type": "stream",
     "text": [
      "When gr_l is hypometabolic, gr_r is hypometabolic with a normalised probability of 0.93\n",
      "When gr_r is hypometabolic, gr_l is hypometabolic with a normalised probability of 0.93\n",
      "When t2_r is hypometabolic, t3_r is hypometabolic with a normalised probability of 0.69\n",
      "When t3_r is hypometabolic, t2_r is hypometabolic with a normalised probability of 0.68\n"
     ]
    }
   ],
   "source": [
    "rules_aal_11 = rd.define_rules_normalised(Y_aal_quan,100,'non-hierarchical','hypometabolic','hypometabolic',0.65)\n",
    "rd.print_rules_normalised(rules_aal_11,'hypometabolic','hypometabolic')"
   ]
  },
  {
   "cell_type": "markdown",
   "metadata": {
    "hidden": true
   },
   "source": [
    "*Non-hypometabolic - Non-hypometabolic*"
   ]
  },
  {
   "cell_type": "code",
   "execution_count": 5,
   "metadata": {
    "hidden": true
   },
   "outputs": [
    {
     "name": "stdout",
     "output_type": "stream",
     "text": [
      "When pcl_r is non-hypometabolic, amyg_l is non-hypometabolic with a normalised probability of 0.99\n",
      "When pcl_r is non-hypometabolic, amyg_r is non-hypometabolic with a normalised probability of 0.99\n",
      "When pcl_r is non-hypometabolic, pal_l is non-hypometabolic with a normalised probability of 0.99\n",
      "When pcl_r is non-hypometabolic, pal_r is non-hypometabolic with a normalised probability of 0.99\n",
      "When amyg_l is non-hypometabolic, pcl_r is non-hypometabolic with a normalised probability of 0.99\n",
      "When amyg_l is non-hypometabolic, amyg_r is non-hypometabolic with a normalised probability of 0.99\n",
      "When amyg_l is non-hypometabolic, pal_l is non-hypometabolic with a normalised probability of 0.99\n",
      "When amyg_l is non-hypometabolic, pal_r is non-hypometabolic with a normalised probability of 0.99\n",
      "When amyg_r is non-hypometabolic, pcl_r is non-hypometabolic with a normalised probability of 0.99\n",
      "When amyg_r is non-hypometabolic, amyg_l is non-hypometabolic with a normalised probability of 0.99\n",
      "When amyg_r is non-hypometabolic, pal_l is non-hypometabolic with a normalised probability of 0.99\n",
      "When amyg_r is non-hypometabolic, pal_r is non-hypometabolic with a normalised probability of 0.99\n",
      "When pal_l is non-hypometabolic, pcl_r is non-hypometabolic with a normalised probability of 0.99\n",
      "When pal_l is non-hypometabolic, amyg_l is non-hypometabolic with a normalised probability of 0.99\n",
      "When pal_l is non-hypometabolic, amyg_r is non-hypometabolic with a normalised probability of 0.99\n",
      "When pal_l is non-hypometabolic, pal_r is non-hypometabolic with a normalised probability of 0.99\n",
      "When pal_r is non-hypometabolic, pcl_r is non-hypometabolic with a normalised probability of 0.99\n",
      "When pal_r is non-hypometabolic, amyg_l is non-hypometabolic with a normalised probability of 0.99\n",
      "When pal_r is non-hypometabolic, amyg_r is non-hypometabolic with a normalised probability of 0.99\n",
      "When pal_r is non-hypometabolic, pal_l is non-hypometabolic with a normalised probability of 0.99\n",
      "When gr_l is non-hypometabolic, gr_r is non-hypometabolic with a normalised probability of 0.99\n",
      "When gr_r is non-hypometabolic, gr_l is non-hypometabolic with a normalised probability of 0.99\n",
      "When pcl_r is non-hypometabolic, hes_l is non-hypometabolic with a normalised probability of 0.98\n",
      "When pcl_r is non-hypometabolic, pcl_l is non-hypometabolic with a normalised probability of 0.98\n",
      "When amyg_l is non-hypometabolic, hes_l is non-hypometabolic with a normalised probability of 0.98\n",
      "When amyg_r is non-hypometabolic, hes_l is non-hypometabolic with a normalised probability of 0.98\n",
      "When amyg_r is non-hypometabolic, put_r is non-hypometabolic with a normalised probability of 0.98\n",
      "When pal_l is non-hypometabolic, hes_l is non-hypometabolic with a normalised probability of 0.98\n",
      "When pal_r is non-hypometabolic, hes_l is non-hypometabolic with a normalised probability of 0.98\n",
      "When pal_r is non-hypometabolic, put_r is non-hypometabolic with a normalised probability of 0.98\n",
      "When hes_l is non-hypometabolic, pcl_r is non-hypometabolic with a normalised probability of 0.98\n",
      "When hes_l is non-hypometabolic, amyg_l is non-hypometabolic with a normalised probability of 0.98\n",
      "When hes_l is non-hypometabolic, amyg_r is non-hypometabolic with a normalised probability of 0.98\n",
      "When hes_l is non-hypometabolic, pal_l is non-hypometabolic with a normalised probability of 0.98\n",
      "When hes_l is non-hypometabolic, pal_r is non-hypometabolic with a normalised probability of 0.98\n",
      "When hes_l is non-hypometabolic, ro_l is non-hypometabolic with a normalised probability of 0.98\n",
      "When hes_l is non-hypometabolic, hes_r is non-hypometabolic with a normalised probability of 0.98\n",
      "When ro_l is non-hypometabolic, hes_l is non-hypometabolic with a normalised probability of 0.98\n",
      "When ro_l is non-hypometabolic, hes_r is non-hypometabolic with a normalised probability of 0.98\n",
      "When hes_r is non-hypometabolic, hes_l is non-hypometabolic with a normalised probability of 0.98\n",
      "When hes_r is non-hypometabolic, ro_l is non-hypometabolic with a normalised probability of 0.98\n",
      "When hes_r is non-hypometabolic, ro_r is non-hypometabolic with a normalised probability of 0.98\n",
      "When pcl_l is non-hypometabolic, pcl_r is non-hypometabolic with a normalised probability of 0.98\n",
      "When put_r is non-hypometabolic, amyg_r is non-hypometabolic with a normalised probability of 0.98\n",
      "When put_r is non-hypometabolic, pal_r is non-hypometabolic with a normalised probability of 0.98\n",
      "When oc_l is non-hypometabolic, oc_r is non-hypometabolic with a normalised probability of 0.98\n",
      "When pcl_r is non-hypometabolic, ro_l is non-hypometabolic with a normalised probability of 0.97\n",
      "When pcl_r is non-hypometabolic, hes_r is non-hypometabolic with a normalised probability of 0.97\n",
      "When amyg_l is non-hypometabolic, ro_l is non-hypometabolic with a normalised probability of 0.97\n",
      "When amyg_l is non-hypometabolic, hes_r is non-hypometabolic with a normalised probability of 0.97\n",
      "When amyg_l is non-hypometabolic, put_r is non-hypometabolic with a normalised probability of 0.97\n",
      "When amyg_l is non-hypometabolic, oc_l is non-hypometabolic with a normalised probability of 0.97\n",
      "When amyg_l is non-hypometabolic, hip_l is non-hypometabolic with a normalised probability of 0.97\n",
      "When amyg_l is non-hypometabolic, put_l is non-hypometabolic with a normalised probability of 0.97\n",
      "When amyg_r is non-hypometabolic, ro_l is non-hypometabolic with a normalised probability of 0.97\n",
      "When amyg_r is non-hypometabolic, hes_r is non-hypometabolic with a normalised probability of 0.97\n",
      "When amyg_r is non-hypometabolic, oc_l is non-hypometabolic with a normalised probability of 0.97\n",
      "When amyg_r is non-hypometabolic, hip_l is non-hypometabolic with a normalised probability of 0.97\n",
      "When amyg_r is non-hypometabolic, put_l is non-hypometabolic with a normalised probability of 0.97\n",
      "When pal_l is non-hypometabolic, ro_l is non-hypometabolic with a normalised probability of 0.97\n",
      "When pal_l is non-hypometabolic, hes_r is non-hypometabolic with a normalised probability of 0.97\n",
      "When pal_l is non-hypometabolic, put_r is non-hypometabolic with a normalised probability of 0.97\n",
      "When pal_l is non-hypometabolic, oc_l is non-hypometabolic with a normalised probability of 0.97\n",
      "When pal_l is non-hypometabolic, hip_l is non-hypometabolic with a normalised probability of 0.97\n",
      "When pal_l is non-hypometabolic, put_l is non-hypometabolic with a normalised probability of 0.97\n",
      "When pal_r is non-hypometabolic, ro_l is non-hypometabolic with a normalised probability of 0.97\n",
      "When pal_r is non-hypometabolic, hes_r is non-hypometabolic with a normalised probability of 0.97\n",
      "When pal_r is non-hypometabolic, oc_l is non-hypometabolic with a normalised probability of 0.97\n",
      "When pal_r is non-hypometabolic, hip_l is non-hypometabolic with a normalised probability of 0.97\n",
      "When pal_r is non-hypometabolic, put_l is non-hypometabolic with a normalised probability of 0.97\n",
      "When hes_l is non-hypometabolic, pcl_l is non-hypometabolic with a normalised probability of 0.97\n",
      "When ro_l is non-hypometabolic, pcl_r is non-hypometabolic with a normalised probability of 0.97\n",
      "When ro_l is non-hypometabolic, amyg_l is non-hypometabolic with a normalised probability of 0.97\n",
      "When ro_l is non-hypometabolic, amyg_r is non-hypometabolic with a normalised probability of 0.97\n",
      "When ro_l is non-hypometabolic, pal_l is non-hypometabolic with a normalised probability of 0.97\n",
      "When ro_l is non-hypometabolic, pal_r is non-hypometabolic with a normalised probability of 0.97\n",
      "When hes_r is non-hypometabolic, pcl_r is non-hypometabolic with a normalised probability of 0.97\n",
      "When hes_r is non-hypometabolic, amyg_l is non-hypometabolic with a normalised probability of 0.97\n",
      "When hes_r is non-hypometabolic, amyg_r is non-hypometabolic with a normalised probability of 0.97\n",
      "When hes_r is non-hypometabolic, pal_l is non-hypometabolic with a normalised probability of 0.97\n",
      "When hes_r is non-hypometabolic, pal_r is non-hypometabolic with a normalised probability of 0.97\n",
      "When pcl_l is non-hypometabolic, hes_l is non-hypometabolic with a normalised probability of 0.97\n",
      "When put_r is non-hypometabolic, amyg_l is non-hypometabolic with a normalised probability of 0.97\n",
      "When put_r is non-hypometabolic, pal_l is non-hypometabolic with a normalised probability of 0.97\n",
      "When put_r is non-hypometabolic, put_l is non-hypometabolic with a normalised probability of 0.97\n",
      "When oc_l is non-hypometabolic, amyg_l is non-hypometabolic with a normalised probability of 0.97\n",
      "When oc_l is non-hypometabolic, amyg_r is non-hypometabolic with a normalised probability of 0.97\n",
      "When oc_l is non-hypometabolic, pal_l is non-hypometabolic with a normalised probability of 0.97\n",
      "When oc_l is non-hypometabolic, pal_r is non-hypometabolic with a normalised probability of 0.97\n",
      "When hip_l is non-hypometabolic, amyg_l is non-hypometabolic with a normalised probability of 0.97\n",
      "When hip_l is non-hypometabolic, amyg_r is non-hypometabolic with a normalised probability of 0.97\n",
      "When hip_l is non-hypometabolic, pal_l is non-hypometabolic with a normalised probability of 0.97\n",
      "When hip_l is non-hypometabolic, pal_r is non-hypometabolic with a normalised probability of 0.97\n",
      "When put_l is non-hypometabolic, amyg_l is non-hypometabolic with a normalised probability of 0.97\n",
      "When put_l is non-hypometabolic, amyg_r is non-hypometabolic with a normalised probability of 0.97\n",
      "When put_l is non-hypometabolic, pal_l is non-hypometabolic with a normalised probability of 0.97\n",
      "When put_l is non-hypometabolic, pal_r is non-hypometabolic with a normalised probability of 0.97\n",
      "When put_l is non-hypometabolic, put_r is non-hypometabolic with a normalised probability of 0.97\n",
      "When ro_r is non-hypometabolic, hes_r is non-hypometabolic with a normalised probability of 0.97\n",
      "When oc_r is non-hypometabolic, oc_l is non-hypometabolic with a normalised probability of 0.97\n",
      "When oc_r is non-hypometabolic, cau_r is non-hypometabolic with a normalised probability of 0.97\n",
      "When cau_r is non-hypometabolic, oc_r is non-hypometabolic with a normalised probability of 0.97\n",
      "When f1o_l is non-hypometabolic, f2o_r is non-hypometabolic with a normalised probability of 0.97\n",
      "When f2o_l is non-hypometabolic, f3o_l is non-hypometabolic with a normalised probability of 0.97\n",
      "When f2o_r is non-hypometabolic, f1o_l is non-hypometabolic with a normalised probability of 0.97\n",
      "When f3o_l is non-hypometabolic, f2o_l is non-hypometabolic with a normalised probability of 0.97\n",
      "When pcl_r is non-hypometabolic, put_r is non-hypometabolic with a normalised probability of 0.96\n",
      "When pcl_r is non-hypometabolic, oc_l is non-hypometabolic with a normalised probability of 0.96\n",
      "When pcl_r is non-hypometabolic, hip_l is non-hypometabolic with a normalised probability of 0.96\n",
      "When pcl_r is non-hypometabolic, put_l is non-hypometabolic with a normalised probability of 0.96\n",
      "When amyg_l is non-hypometabolic, pcl_l is non-hypometabolic with a normalised probability of 0.96\n",
      "When amyg_r is non-hypometabolic, pcl_l is non-hypometabolic with a normalised probability of 0.96\n",
      "When amyg_r is non-hypometabolic, cau_r is non-hypometabolic with a normalised probability of 0.96\n",
      "When pal_l is non-hypometabolic, pcl_l is non-hypometabolic with a normalised probability of 0.96\n",
      "When pal_r is non-hypometabolic, pcl_l is non-hypometabolic with a normalised probability of 0.96\n",
      "When hes_l is non-hypometabolic, oc_l is non-hypometabolic with a normalised probability of 0.96\n",
      "When hes_l is non-hypometabolic, hip_l is non-hypometabolic with a normalised probability of 0.96\n",
      "When hes_l is non-hypometabolic, put_l is non-hypometabolic with a normalised probability of 0.96\n",
      "When hes_l is non-hypometabolic, ro_r is non-hypometabolic with a normalised probability of 0.96\n",
      "When ro_l is non-hypometabolic, hip_l is non-hypometabolic with a normalised probability of 0.96\n",
      "When ro_l is non-hypometabolic, ro_r is non-hypometabolic with a normalised probability of 0.96\n",
      "When pcl_l is non-hypometabolic, amyg_l is non-hypometabolic with a normalised probability of 0.96\n",
      "When pcl_l is non-hypometabolic, amyg_r is non-hypometabolic with a normalised probability of 0.96\n",
      "When pcl_l is non-hypometabolic, pal_l is non-hypometabolic with a normalised probability of 0.96\n",
      "When pcl_l is non-hypometabolic, pal_r is non-hypometabolic with a normalised probability of 0.96\n",
      "When put_r is non-hypometabolic, pcl_r is non-hypometabolic with a normalised probability of 0.96\n",
      "When put_r is non-hypometabolic, cau_r is non-hypometabolic with a normalised probability of 0.96\n",
      "When oc_l is non-hypometabolic, pcl_r is non-hypometabolic with a normalised probability of 0.96\n",
      "When oc_l is non-hypometabolic, hes_l is non-hypometabolic with a normalised probability of 0.96\n",
      "When oc_l is non-hypometabolic, hip_l is non-hypometabolic with a normalised probability of 0.96\n",
      "When oc_l is non-hypometabolic, put_l is non-hypometabolic with a normalised probability of 0.96\n",
      "When oc_l is non-hypometabolic, cau_r is non-hypometabolic with a normalised probability of 0.96\n",
      "When oc_l is non-hypometabolic, cau_l is non-hypometabolic with a normalised probability of 0.96\n",
      "When hip_l is non-hypometabolic, pcl_r is non-hypometabolic with a normalised probability of 0.96\n",
      "When hip_l is non-hypometabolic, hes_l is non-hypometabolic with a normalised probability of 0.96\n",
      "When hip_l is non-hypometabolic, ro_l is non-hypometabolic with a normalised probability of 0.96\n",
      "When hip_l is non-hypometabolic, oc_l is non-hypometabolic with a normalised probability of 0.96\n",
      "When put_l is non-hypometabolic, pcl_r is non-hypometabolic with a normalised probability of 0.96\n",
      "When put_l is non-hypometabolic, hes_l is non-hypometabolic with a normalised probability of 0.96\n",
      "When put_l is non-hypometabolic, oc_l is non-hypometabolic with a normalised probability of 0.96\n",
      "When ro_r is non-hypometabolic, hes_l is non-hypometabolic with a normalised probability of 0.96\n",
      "When ro_r is non-hypometabolic, ro_l is non-hypometabolic with a normalised probability of 0.96\n",
      "When sma_l is non-hypometabolic, sma_r is non-hypometabolic with a normalised probability of 0.96\n",
      "When oc_r is non-hypometabolic, gr_l is non-hypometabolic with a normalised probability of 0.96\n",
      "When cau_r is non-hypometabolic, amyg_r is non-hypometabolic with a normalised probability of 0.96\n",
      "When cau_r is non-hypometabolic, put_r is non-hypometabolic with a normalised probability of 0.96\n",
      "When cau_r is non-hypometabolic, oc_l is non-hypometabolic with a normalised probability of 0.96\n",
      "When sma_r is non-hypometabolic, sma_l is non-hypometabolic with a normalised probability of 0.96\n",
      "When tha_r is non-hypometabolic, tha_l is non-hypometabolic with a normalised probability of 0.96\n",
      "When tha_l is non-hypometabolic, tha_r is non-hypometabolic with a normalised probability of 0.96\n",
      "When f1o_l is non-hypometabolic, f2o_l is non-hypometabolic with a normalised probability of 0.96\n",
      "When f2o_l is non-hypometabolic, f1o_l is non-hypometabolic with a normalised probability of 0.96\n",
      "When in_l is non-hypometabolic, f3o_l is non-hypometabolic with a normalised probability of 0.96\n",
      "When cau_l is non-hypometabolic, oc_l is non-hypometabolic with a normalised probability of 0.96\n",
      "When cau_l is non-hypometabolic, f3o_l is non-hypometabolic with a normalised probability of 0.96\n",
      "When f3o_l is non-hypometabolic, in_l is non-hypometabolic with a normalised probability of 0.96\n",
      "When f3o_l is non-hypometabolic, cau_l is non-hypometabolic with a normalised probability of 0.96\n",
      "When f1o_r is non-hypometabolic, gr_l is non-hypometabolic with a normalised probability of 0.96\n",
      "When f1o_r is non-hypometabolic, gr_r is non-hypometabolic with a normalised probability of 0.96\n",
      "When gr_l is non-hypometabolic, f1o_r is non-hypometabolic with a normalised probability of 0.96\n",
      "When gr_r is non-hypometabolic, f1o_r is non-hypometabolic with a normalised probability of 0.96\n"
     ]
    }
   ],
   "source": [
    "rules_aal_00 = rd.define_rules_normalised(Y_aal_quan,100,'non-hierarchical','non-hypometabolic','non-hypometabolic',0.95)\n",
    "rd.print_rules_normalised(rules_aal_00,'non-hypometabolic','non-hypometabolic')"
   ]
  },
  {
   "cell_type": "markdown",
   "metadata": {
    "hidden": true
   },
   "source": [
    "*Hypometabolic - Non-hypometabolic*"
   ]
  },
  {
   "cell_type": "code",
   "execution_count": 6,
   "metadata": {
    "hidden": true
   },
   "outputs": [],
   "source": [
    "rules_aal_10 = rd.define_rules_normalised(Y_aal_quan,100,'non-hierarchical','hypometabolic','non-hypometabolic',0.50)\n",
    "rd.print_rules_normalised(rules_aal_10,'hypometabolic','non-hypometabolic')"
   ]
  },
  {
   "cell_type": "markdown",
   "metadata": {
    "hidden": true
   },
   "source": [
    "*Non-hypometabolic - Hypometabolic*"
   ]
  },
  {
   "cell_type": "code",
   "execution_count": 7,
   "metadata": {
    "hidden": true
   },
   "outputs": [],
   "source": [
    "rules_aal_01 = rd.define_rules_normalised(Y_aal_quan,100,'non-hierarchical','non-hypometabolic','hypometabolic',0.50)\n",
    "rd.print_rules_normalised(rules_aal_01,'non-hypometabolic','hypometabolic')"
   ]
  },
  {
   "cell_type": "markdown",
   "metadata": {
    "heading_collapsed": true,
    "hidden": true
   },
   "source": [
    "#### Brodmann atlas (47 regions)"
   ]
  },
  {
   "cell_type": "markdown",
   "metadata": {
    "hidden": true
   },
   "source": [
    "*Hypometabolic - Hypometabolic*"
   ]
  },
  {
   "cell_type": "code",
   "execution_count": 8,
   "metadata": {
    "hidden": true
   },
   "outputs": [
    {
     "name": "stdout",
     "output_type": "stream",
     "text": [
      "When b47 is hypometabolic, b11 is hypometabolic with a normalised probability of 0.67\n",
      "When b21 is hypometabolic, b20 is hypometabolic with a normalised probability of 0.66\n"
     ]
    }
   ],
   "source": [
    "rules_brodmann_11 = rd.define_rules_normalised(Y_brodmann_quan,100,'non-hierarchical','hypometabolic','hypometabolic',0.65)\n",
    "rd.print_rules_normalised(rules_brodmann_11,'hypometabolic','hypometabolic')"
   ]
  },
  {
   "cell_type": "markdown",
   "metadata": {
    "hidden": true
   },
   "source": [
    "*Non-hypometabolic - Non-hypometabolic*"
   ]
  },
  {
   "cell_type": "code",
   "execution_count": 9,
   "metadata": {
    "hidden": true
   },
   "outputs": [
    {
     "name": "stdout",
     "output_type": "stream",
     "text": [
      "When b29 is non-hypometabolic, b1 is non-hypometabolic with a normalised probability of 0.99\n",
      "When b29 is non-hypometabolic, b43 is non-hypometabolic with a normalised probability of 0.99\n",
      "When b29 is non-hypometabolic, b35 is non-hypometabolic with a normalised probability of 0.99\n",
      "When b29 is non-hypometabolic, b34 is non-hypometabolic with a normalised probability of 0.99\n",
      "When b1 is non-hypometabolic, b29 is non-hypometabolic with a normalised probability of 0.99\n",
      "When b1 is non-hypometabolic, b43 is non-hypometabolic with a normalised probability of 0.99\n",
      "When b1 is non-hypometabolic, b3 is non-hypometabolic with a normalised probability of 0.99\n",
      "When b43 is non-hypometabolic, b29 is non-hypometabolic with a normalised probability of 0.99\n",
      "When b43 is non-hypometabolic, b1 is non-hypometabolic with a normalised probability of 0.99\n",
      "When b35 is non-hypometabolic, b29 is non-hypometabolic with a normalised probability of 0.99\n",
      "When b35 is non-hypometabolic, b34 is non-hypometabolic with a normalised probability of 0.99\n",
      "When b34 is non-hypometabolic, b29 is non-hypometabolic with a normalised probability of 0.99\n",
      "When b34 is non-hypometabolic, b35 is non-hypometabolic with a normalised probability of 0.99\n",
      "When b3 is non-hypometabolic, b1 is non-hypometabolic with a normalised probability of 0.99\n",
      "When b3 is non-hypometabolic, b4 is non-hypometabolic with a normalised probability of 0.99\n",
      "When b4 is non-hypometabolic, b3 is non-hypometabolic with a normalised probability of 0.99\n",
      "When b29 is non-hypometabolic, b17 is non-hypometabolic with a normalised probability of 0.98\n",
      "When b29 is non-hypometabolic, b3 is non-hypometabolic with a normalised probability of 0.98\n",
      "When b29 is non-hypometabolic, b4 is non-hypometabolic with a normalised probability of 0.98\n",
      "When b29 is non-hypometabolic, b5 is non-hypometabolic with a normalised probability of 0.98\n",
      "When b29 is non-hypometabolic, b30 is non-hypometabolic with a normalised probability of 0.98\n",
      "When b1 is non-hypometabolic, b35 is non-hypometabolic with a normalised probability of 0.98\n",
      "When b1 is non-hypometabolic, b34 is non-hypometabolic with a normalised probability of 0.98\n",
      "When b1 is non-hypometabolic, b17 is non-hypometabolic with a normalised probability of 0.98\n",
      "When b1 is non-hypometabolic, b4 is non-hypometabolic with a normalised probability of 0.98\n",
      "When b43 is non-hypometabolic, b35 is non-hypometabolic with a normalised probability of 0.98\n",
      "When b43 is non-hypometabolic, b34 is non-hypometabolic with a normalised probability of 0.98\n",
      "When b43 is non-hypometabolic, b17 is non-hypometabolic with a normalised probability of 0.98\n",
      "When b43 is non-hypometabolic, b3 is non-hypometabolic with a normalised probability of 0.98\n",
      "When b43 is non-hypometabolic, b4 is non-hypometabolic with a normalised probability of 0.98\n",
      "When b43 is non-hypometabolic, b30 is non-hypometabolic with a normalised probability of 0.98\n",
      "When b43 is non-hypometabolic, b41 is non-hypometabolic with a normalised probability of 0.98\n",
      "When b35 is non-hypometabolic, b1 is non-hypometabolic with a normalised probability of 0.98\n",
      "When b35 is non-hypometabolic, b43 is non-hypometabolic with a normalised probability of 0.98\n",
      "When b35 is non-hypometabolic, b17 is non-hypometabolic with a normalised probability of 0.98\n",
      "When b35 is non-hypometabolic, b28 is non-hypometabolic with a normalised probability of 0.98\n",
      "When b34 is non-hypometabolic, b1 is non-hypometabolic with a normalised probability of 0.98\n",
      "When b34 is non-hypometabolic, b43 is non-hypometabolic with a normalised probability of 0.98\n",
      "When b34 is non-hypometabolic, b28 is non-hypometabolic with a normalised probability of 0.98\n",
      "When b17 is non-hypometabolic, b29 is non-hypometabolic with a normalised probability of 0.98\n",
      "When b17 is non-hypometabolic, b1 is non-hypometabolic with a normalised probability of 0.98\n",
      "When b17 is non-hypometabolic, b43 is non-hypometabolic with a normalised probability of 0.98\n",
      "When b17 is non-hypometabolic, b35 is non-hypometabolic with a normalised probability of 0.98\n",
      "When b3 is non-hypometabolic, b29 is non-hypometabolic with a normalised probability of 0.98\n",
      "When b3 is non-hypometabolic, b43 is non-hypometabolic with a normalised probability of 0.98\n",
      "When b4 is non-hypometabolic, b29 is non-hypometabolic with a normalised probability of 0.98\n",
      "When b4 is non-hypometabolic, b1 is non-hypometabolic with a normalised probability of 0.98\n",
      "When b4 is non-hypometabolic, b43 is non-hypometabolic with a normalised probability of 0.98\n",
      "When b5 is non-hypometabolic, b29 is non-hypometabolic with a normalised probability of 0.98\n",
      "When b30 is non-hypometabolic, b29 is non-hypometabolic with a normalised probability of 0.98\n",
      "When b30 is non-hypometabolic, b43 is non-hypometabolic with a normalised probability of 0.98\n",
      "When b41 is non-hypometabolic, b43 is non-hypometabolic with a normalised probability of 0.98\n",
      "When b41 is non-hypometabolic, b42 is non-hypometabolic with a normalised probability of 0.98\n",
      "When b42 is non-hypometabolic, b41 is non-hypometabolic with a normalised probability of 0.98\n",
      "When b28 is non-hypometabolic, b35 is non-hypometabolic with a normalised probability of 0.98\n",
      "When b28 is non-hypometabolic, b34 is non-hypometabolic with a normalised probability of 0.98\n",
      "When b29 is non-hypometabolic, b41 is non-hypometabolic with a normalised probability of 0.97\n",
      "When b29 is non-hypometabolic, b42 is non-hypometabolic with a normalised probability of 0.97\n",
      "When b29 is non-hypometabolic, b28 is non-hypometabolic with a normalised probability of 0.97\n",
      "When b29 is non-hypometabolic, b44 is non-hypometabolic with a normalised probability of 0.97\n",
      "When b1 is non-hypometabolic, b5 is non-hypometabolic with a normalised probability of 0.97\n",
      "When b1 is non-hypometabolic, b30 is non-hypometabolic with a normalised probability of 0.97\n",
      "When b1 is non-hypometabolic, b41 is non-hypometabolic with a normalised probability of 0.97\n",
      "When b1 is non-hypometabolic, b42 is non-hypometabolic with a normalised probability of 0.97\n",
      "When b43 is non-hypometabolic, b5 is non-hypometabolic with a normalised probability of 0.97\n",
      "When b43 is non-hypometabolic, b42 is non-hypometabolic with a normalised probability of 0.97\n",
      "When b35 is non-hypometabolic, b3 is non-hypometabolic with a normalised probability of 0.97\n",
      "When b35 is non-hypometabolic, b4 is non-hypometabolic with a normalised probability of 0.97\n",
      "When b35 is non-hypometabolic, b5 is non-hypometabolic with a normalised probability of 0.97\n",
      "When b35 is non-hypometabolic, b30 is non-hypometabolic with a normalised probability of 0.97\n",
      "When b35 is non-hypometabolic, b41 is non-hypometabolic with a normalised probability of 0.97\n",
      "When b34 is non-hypometabolic, b17 is non-hypometabolic with a normalised probability of 0.97\n",
      "When b34 is non-hypometabolic, b3 is non-hypometabolic with a normalised probability of 0.97\n",
      "When b34 is non-hypometabolic, b4 is non-hypometabolic with a normalised probability of 0.97\n",
      "When b34 is non-hypometabolic, b5 is non-hypometabolic with a normalised probability of 0.97\n",
      "When b34 is non-hypometabolic, b30 is non-hypometabolic with a normalised probability of 0.97\n",
      "When b17 is non-hypometabolic, b34 is non-hypometabolic with a normalised probability of 0.97\n",
      "When b17 is non-hypometabolic, b3 is non-hypometabolic with a normalised probability of 0.97\n",
      "When b17 is non-hypometabolic, b5 is non-hypometabolic with a normalised probability of 0.97\n",
      "When b17 is non-hypometabolic, b30 is non-hypometabolic with a normalised probability of 0.97\n",
      "When b17 is non-hypometabolic, b41 is non-hypometabolic with a normalised probability of 0.97\n",
      "When b3 is non-hypometabolic, b35 is non-hypometabolic with a normalised probability of 0.97\n",
      "When b3 is non-hypometabolic, b34 is non-hypometabolic with a normalised probability of 0.97\n",
      "When b3 is non-hypometabolic, b17 is non-hypometabolic with a normalised probability of 0.97\n",
      "When b3 is non-hypometabolic, b5 is non-hypometabolic with a normalised probability of 0.97\n",
      "When b3 is non-hypometabolic, b42 is non-hypometabolic with a normalised probability of 0.97\n",
      "When b3 is non-hypometabolic, b2 is non-hypometabolic with a normalised probability of 0.97\n",
      "When b4 is non-hypometabolic, b35 is non-hypometabolic with a normalised probability of 0.97\n",
      "When b4 is non-hypometabolic, b34 is non-hypometabolic with a normalised probability of 0.97\n",
      "When b5 is non-hypometabolic, b1 is non-hypometabolic with a normalised probability of 0.97\n",
      "When b5 is non-hypometabolic, b43 is non-hypometabolic with a normalised probability of 0.97\n",
      "When b5 is non-hypometabolic, b35 is non-hypometabolic with a normalised probability of 0.97\n",
      "When b5 is non-hypometabolic, b34 is non-hypometabolic with a normalised probability of 0.97\n",
      "When b5 is non-hypometabolic, b17 is non-hypometabolic with a normalised probability of 0.97\n",
      "When b5 is non-hypometabolic, b3 is non-hypometabolic with a normalised probability of 0.97\n",
      "When b5 is non-hypometabolic, b30 is non-hypometabolic with a normalised probability of 0.97\n",
      "When b5 is non-hypometabolic, b2 is non-hypometabolic with a normalised probability of 0.97\n",
      "When b30 is non-hypometabolic, b1 is non-hypometabolic with a normalised probability of 0.97\n",
      "When b30 is non-hypometabolic, b35 is non-hypometabolic with a normalised probability of 0.97\n",
      "When b30 is non-hypometabolic, b34 is non-hypometabolic with a normalised probability of 0.97\n",
      "When b30 is non-hypometabolic, b17 is non-hypometabolic with a normalised probability of 0.97\n",
      "When b30 is non-hypometabolic, b5 is non-hypometabolic with a normalised probability of 0.97\n",
      "When b30 is non-hypometabolic, b41 is non-hypometabolic with a normalised probability of 0.97\n",
      "When b30 is non-hypometabolic, b42 is non-hypometabolic with a normalised probability of 0.97\n",
      "When b41 is non-hypometabolic, b29 is non-hypometabolic with a normalised probability of 0.97\n",
      "When b41 is non-hypometabolic, b1 is non-hypometabolic with a normalised probability of 0.97\n",
      "When b41 is non-hypometabolic, b35 is non-hypometabolic with a normalised probability of 0.97\n",
      "When b41 is non-hypometabolic, b17 is non-hypometabolic with a normalised probability of 0.97\n",
      "When b41 is non-hypometabolic, b30 is non-hypometabolic with a normalised probability of 0.97\n",
      "When b42 is non-hypometabolic, b29 is non-hypometabolic with a normalised probability of 0.97\n",
      "When b42 is non-hypometabolic, b1 is non-hypometabolic with a normalised probability of 0.97\n",
      "When b42 is non-hypometabolic, b43 is non-hypometabolic with a normalised probability of 0.97\n",
      "When b42 is non-hypometabolic, b3 is non-hypometabolic with a normalised probability of 0.97\n",
      "When b42 is non-hypometabolic, b30 is non-hypometabolic with a normalised probability of 0.97\n",
      "When b28 is non-hypometabolic, b29 is non-hypometabolic with a normalised probability of 0.97\n",
      "When b44 is non-hypometabolic, b29 is non-hypometabolic with a normalised probability of 0.97\n",
      "When b2 is non-hypometabolic, b3 is non-hypometabolic with a normalised probability of 0.97\n",
      "When b2 is non-hypometabolic, b5 is non-hypometabolic with a normalised probability of 0.97\n",
      "When b29 is non-hypometabolic, b2 is non-hypometabolic with a normalised probability of 0.96\n",
      "When b29 is non-hypometabolic, b23 is non-hypometabolic with a normalised probability of 0.96\n",
      "When b1 is non-hypometabolic, b28 is non-hypometabolic with a normalised probability of 0.96\n",
      "When b1 is non-hypometabolic, b44 is non-hypometabolic with a normalised probability of 0.96\n",
      "When b1 is non-hypometabolic, b2 is non-hypometabolic with a normalised probability of 0.96\n",
      "When b43 is non-hypometabolic, b28 is non-hypometabolic with a normalised probability of 0.96\n",
      "When b43 is non-hypometabolic, b44 is non-hypometabolic with a normalised probability of 0.96\n",
      "When b43 is non-hypometabolic, b2 is non-hypometabolic with a normalised probability of 0.96\n",
      "When b35 is non-hypometabolic, b42 is non-hypometabolic with a normalised probability of 0.96\n",
      "When b35 is non-hypometabolic, b44 is non-hypometabolic with a normalised probability of 0.96\n",
      "When b34 is non-hypometabolic, b41 is non-hypometabolic with a normalised probability of 0.96\n",
      "When b34 is non-hypometabolic, b42 is non-hypometabolic with a normalised probability of 0.96\n",
      "When b34 is non-hypometabolic, b44 is non-hypometabolic with a normalised probability of 0.96\n",
      "When b17 is non-hypometabolic, b4 is non-hypometabolic with a normalised probability of 0.96\n",
      "When b17 is non-hypometabolic, b42 is non-hypometabolic with a normalised probability of 0.96\n",
      "When b3 is non-hypometabolic, b30 is non-hypometabolic with a normalised probability of 0.96\n",
      "When b3 is non-hypometabolic, b41 is non-hypometabolic with a normalised probability of 0.96\n",
      "When b4 is non-hypometabolic, b17 is non-hypometabolic with a normalised probability of 0.96\n",
      "When b4 is non-hypometabolic, b5 is non-hypometabolic with a normalised probability of 0.96\n",
      "When b4 is non-hypometabolic, b42 is non-hypometabolic with a normalised probability of 0.96\n",
      "When b4 is non-hypometabolic, b2 is non-hypometabolic with a normalised probability of 0.96\n",
      "When b5 is non-hypometabolic, b4 is non-hypometabolic with a normalised probability of 0.96\n",
      "When b5 is non-hypometabolic, b42 is non-hypometabolic with a normalised probability of 0.96\n",
      "When b30 is non-hypometabolic, b3 is non-hypometabolic with a normalised probability of 0.96\n",
      "When b30 is non-hypometabolic, b2 is non-hypometabolic with a normalised probability of 0.96\n",
      "When b30 is non-hypometabolic, b23 is non-hypometabolic with a normalised probability of 0.96\n",
      "When b41 is non-hypometabolic, b34 is non-hypometabolic with a normalised probability of 0.96\n",
      "When b41 is non-hypometabolic, b3 is non-hypometabolic with a normalised probability of 0.96\n",
      "When b42 is non-hypometabolic, b35 is non-hypometabolic with a normalised probability of 0.96\n",
      "When b42 is non-hypometabolic, b34 is non-hypometabolic with a normalised probability of 0.96\n",
      "When b42 is non-hypometabolic, b17 is non-hypometabolic with a normalised probability of 0.96\n",
      "When b42 is non-hypometabolic, b4 is non-hypometabolic with a normalised probability of 0.96\n",
      "When b42 is non-hypometabolic, b5 is non-hypometabolic with a normalised probability of 0.96\n",
      "When b42 is non-hypometabolic, b2 is non-hypometabolic with a normalised probability of 0.96\n",
      "When b42 is non-hypometabolic, b23 is non-hypometabolic with a normalised probability of 0.96\n",
      "When b28 is non-hypometabolic, b1 is non-hypometabolic with a normalised probability of 0.96\n",
      "When b28 is non-hypometabolic, b43 is non-hypometabolic with a normalised probability of 0.96\n",
      "When b28 is non-hypometabolic, b36 is non-hypometabolic with a normalised probability of 0.96\n",
      "When b44 is non-hypometabolic, b1 is non-hypometabolic with a normalised probability of 0.96\n",
      "When b44 is non-hypometabolic, b43 is non-hypometabolic with a normalised probability of 0.96\n",
      "When b44 is non-hypometabolic, b35 is non-hypometabolic with a normalised probability of 0.96\n",
      "When b44 is non-hypometabolic, b34 is non-hypometabolic with a normalised probability of 0.96\n",
      "When b44 is non-hypometabolic, b45 is non-hypometabolic with a normalised probability of 0.96\n",
      "When b44 is non-hypometabolic, b13 is non-hypometabolic with a normalised probability of 0.96\n",
      "When b2 is non-hypometabolic, b29 is non-hypometabolic with a normalised probability of 0.96\n",
      "When b2 is non-hypometabolic, b1 is non-hypometabolic with a normalised probability of 0.96\n",
      "When b2 is non-hypometabolic, b43 is non-hypometabolic with a normalised probability of 0.96\n",
      "When b2 is non-hypometabolic, b4 is non-hypometabolic with a normalised probability of 0.96\n",
      "When b2 is non-hypometabolic, b30 is non-hypometabolic with a normalised probability of 0.96\n",
      "When b2 is non-hypometabolic, b42 is non-hypometabolic with a normalised probability of 0.96\n",
      "When b23 is non-hypometabolic, b29 is non-hypometabolic with a normalised probability of 0.96\n",
      "When b23 is non-hypometabolic, b30 is non-hypometabolic with a normalised probability of 0.96\n",
      "When b23 is non-hypometabolic, b42 is non-hypometabolic with a normalised probability of 0.96\n",
      "When b45 is non-hypometabolic, b44 is non-hypometabolic with a normalised probability of 0.96\n"
     ]
    }
   ],
   "source": [
    "rules_brodmann_00 = rd.define_rules_normalised(Y_brodmann_quan,100,'non-hierarchical','non-hypometabolic','non-hypometabolic',0.95)\n",
    "rd.print_rules_normalised(rules_brodmann_00,'non-hypometabolic','non-hypometabolic')"
   ]
  },
  {
   "cell_type": "markdown",
   "metadata": {
    "hidden": true
   },
   "source": [
    "*Hypometabolic - Non-hypometabolic*"
   ]
  },
  {
   "cell_type": "code",
   "execution_count": 10,
   "metadata": {
    "hidden": true
   },
   "outputs": [],
   "source": [
    "rules_brodmann_10 = rd.define_rules_normalised(Y_brodmann_quan,100,'non-hierarchical','hypometabolic','non-hypometabolic',0.50)\n",
    "rd.print_rules_normalised(rules_brodmann_10,'hypometabolic','non-hypometabolic')"
   ]
  },
  {
   "cell_type": "markdown",
   "metadata": {
    "hidden": true
   },
   "source": [
    "*Non-hypometabolic - Hypometabolic*"
   ]
  },
  {
   "cell_type": "code",
   "execution_count": 11,
   "metadata": {
    "hidden": true
   },
   "outputs": [],
   "source": [
    "rules_brodmann_01 = rd.define_rules_normalised(Y_brodmann_quan,100,'non-hierarchical','non-hypometabolic','hypometabolic',0.50)\n",
    "rd.print_rules_normalised(rules_brodmann_01,'non-hypometabolic','hypometabolic')"
   ]
  },
  {
   "cell_type": "markdown",
   "metadata": {
    "heading_collapsed": true
   },
   "source": [
    "### Disease-specific rules"
   ]
  },
  {
   "cell_type": "markdown",
   "metadata": {
    "hidden": true
   },
   "source": [
    "These normalised rules are defined with datasets that are filtered by disease. With that, our purpose is to track the propagation of particular diseases across brain regions. We only show the relations of the type hypometabolic-hypometabolic."
   ]
  },
  {
   "cell_type": "markdown",
   "metadata": {
    "heading_collapsed": true,
    "hidden": true
   },
   "source": [
    "#### AAL atlas (90 regions)"
   ]
  },
  {
   "cell_type": "markdown",
   "metadata": {
    "hidden": true
   },
   "source": [
    "*Alzheimer disease*"
   ]
  },
  {
   "cell_type": "code",
   "execution_count": 12,
   "metadata": {
    "hidden": true
   },
   "outputs": [
    {
     "name": "stdout",
     "output_type": "stream",
     "text": [
      "When gr_l is hypometabolic, gr_r is hypometabolic with a normalised probability of 1.0\n",
      "When gr_r is hypometabolic, gr_l is hypometabolic with a normalised probability of 1.0\n",
      "When put_l is hypometabolic, pal_r is hypometabolic with a normalised probability of 1.0\n",
      "When pal_r is hypometabolic, put_l is hypometabolic with a normalised probability of 1.0\n",
      "When amyg_r is hypometabolic, pal_l is hypometabolic with a normalised probability of 1.0\n",
      "When pal_l is hypometabolic, amyg_r is hypometabolic with a normalised probability of 1.0\n",
      "When t3_r is hypometabolic, t2_r is hypometabolic with a normalised probability of 0.78\n",
      "When t2_r is hypometabolic, t3_r is hypometabolic with a normalised probability of 0.77\n",
      "When oc_r is hypometabolic, oc_l is hypometabolic with a normalised probability of 0.75\n",
      "When f2o_l is hypometabolic, f3o_l is hypometabolic with a normalised probability of 0.71\n",
      "When ag_r is hypometabolic, p2_r is hypometabolic with a normalised probability of 0.7\n",
      "When o1_r is hypometabolic, o3_r is hypometabolic with a normalised probability of 0.67\n",
      "When f1m_r is hypometabolic, f1m_l is hypometabolic with a normalised probability of 0.67\n",
      "When sma_l is hypometabolic, sma_r is hypometabolic with a normalised probability of 0.67\n",
      "When sma_r is hypometabolic, sma_l is hypometabolic with a normalised probability of 0.67\n",
      "When oc_l is hypometabolic, oc_r is hypometabolic with a normalised probability of 0.67\n",
      "When t3_l is hypometabolic, t2_l is hypometabolic with a normalised probability of 0.66\n"
     ]
    }
   ],
   "source": [
    "rules_aal_11_AD = rd.define_rules_normalised(Y_aal_quan_AD,100,'non-hierarchical','hypometabolic','hypometabolic',0.65)\n",
    "rd.print_rules_normalised(rules_aal_11_AD,'hypometabolic','hypometabolic')"
   ]
  },
  {
   "cell_type": "markdown",
   "metadata": {
    "hidden": true
   },
   "source": [
    "*Fronto-temporal dementia*"
   ]
  },
  {
   "cell_type": "code",
   "execution_count": 13,
   "metadata": {
    "hidden": true
   },
   "outputs": [
    {
     "name": "stdout",
     "output_type": "stream",
     "text": [
      "When amyg_l is hypometabolic, pal_r is hypometabolic with a normalised probability of 1.0\n",
      "When pal_r is hypometabolic, amyg_l is hypometabolic with a normalised probability of 1.0\n",
      "When gr_l is hypometabolic, gr_r is hypometabolic with a normalised probability of 0.95\n",
      "When gr_r is hypometabolic, gr_l is hypometabolic with a normalised probability of 0.95\n",
      "When f2_l is hypometabolic, f1_l is hypometabolic with a normalised probability of 0.89\n",
      "When f1_l is hypometabolic, f2_l is hypometabolic with a normalised probability of 0.89\n",
      "When fusi_r is hypometabolic, phip_r is hypometabolic with a normalised probability of 0.84\n",
      "When phip_r is hypometabolic, fusi_r is hypometabolic with a normalised probability of 0.83\n",
      "When f1o_l is hypometabolic, f2o_r is hypometabolic with a normalised probability of 0.78\n",
      "When hip_r is hypometabolic, phip_r is hypometabolic with a normalised probability of 0.78\n",
      "When phip_r is hypometabolic, hip_r is hypometabolic with a normalised probability of 0.78\n",
      "When phip_l is hypometabolic, fusi_l is hypometabolic with a normalised probability of 0.77\n",
      "When f1m_r is hypometabolic, f1_r is hypometabolic with a normalised probability of 0.75\n",
      "When f2o_r is hypometabolic, f1o_l is hypometabolic with a normalised probability of 0.75\n",
      "When fusi_l is hypometabolic, phip_l is hypometabolic with a normalised probability of 0.75\n",
      "When f1_r is hypometabolic, f1m_r is hypometabolic with a normalised probability of 0.73\n",
      "When f1o_l is hypometabolic, f2o_l is hypometabolic with a normalised probability of 0.72\n",
      "When f2o_l is hypometabolic, f1o_l is hypometabolic with a normalised probability of 0.71\n",
      "When smg_r is hypometabolic, ag_r is hypometabolic with a normalised probability of 0.71\n",
      "When f3o_r is hypometabolic, f3t_r is hypometabolic with a normalised probability of 0.7\n",
      "When f3o_r is hypometabolic, f1o_r is hypometabolic with a normalised probability of 0.7\n",
      "When t2p_r is hypometabolic, t1p_r is hypometabolic with a normalised probability of 0.7\n",
      "When in_l is hypometabolic, f3t_l is hypometabolic with a normalised probability of 0.7\n",
      "When f1o_r is hypometabolic, f2o_r is hypometabolic with a normalised probability of 0.7\n",
      "When f3t_l is hypometabolic, in_l is hypometabolic with a normalised probability of 0.68\n",
      "When t1p_r is hypometabolic, t2p_r is hypometabolic with a normalised probability of 0.68\n",
      "When f1_l is hypometabolic, f2_r is hypometabolic with a normalised probability of 0.67\n",
      "When f2_r is hypometabolic, f1_r is hypometabolic with a normalised probability of 0.67\n",
      "When t2_r is hypometabolic, t3_r is hypometabolic with a normalised probability of 0.67\n",
      "When mcin_r is hypometabolic, mcin_l is hypometabolic with a normalised probability of 0.67\n",
      "When gr_r is hypometabolic, f1o_r is hypometabolic with a normalised probability of 0.67\n",
      "When gr_r is hypometabolic, f1o_l is hypometabolic with a normalised probability of 0.67\n",
      "When ro_r is hypometabolic, hes_r is hypometabolic with a normalised probability of 0.67\n",
      "When ling_r is hypometabolic, v1_r is hypometabolic with a normalised probability of 0.67\n"
     ]
    }
   ],
   "source": [
    "rules_aal_11_FTD = rd.define_rules_normalised(Y_aal_quan_FTD,100,'non-hierarchical','hypometabolic','hypometabolic',0.65)\n",
    "rd.print_rules_normalised(rules_aal_11_FTD,'hypometabolic','hypometabolic')"
   ]
  },
  {
   "cell_type": "markdown",
   "metadata": {
    "hidden": true
   },
   "source": [
    "*Control*"
   ]
  },
  {
   "cell_type": "code",
   "execution_count": 14,
   "metadata": {
    "hidden": true
   },
   "outputs": [
    {
     "name": "stdout",
     "output_type": "stream",
     "text": [
      "When post_l is hypometabolic, o1_l is hypometabolic with a normalised probability of 1.0\n",
      "When p2_r is hypometabolic, q_r is hypometabolic with a normalised probability of 1.0\n",
      "When smg_r is hypometabolic, v1_r is hypometabolic with a normalised probability of 1.0\n",
      "When o1_l is hypometabolic, post_l is hypometabolic with a normalised probability of 1.0\n",
      "When q_r is hypometabolic, p2_r is hypometabolic with a normalised probability of 1.0\n",
      "When v1_r is hypometabolic, smg_r is hypometabolic with a normalised probability of 1.0\n",
      "When sma_l is hypometabolic, acin_l is hypometabolic with a normalised probability of 1.0\n",
      "When sma_l is hypometabolic, acin_r is hypometabolic with a normalised probability of 1.0\n",
      "When p2_l is hypometabolic, q_l is hypometabolic with a normalised probability of 1.0\n",
      "When ag_r is hypometabolic, o3_r is hypometabolic with a normalised probability of 1.0\n",
      "When o3_r is hypometabolic, ag_r is hypometabolic with a normalised probability of 1.0\n",
      "When q_l is hypometabolic, p2_l is hypometabolic with a normalised probability of 1.0\n",
      "When fusi_l is hypometabolic, phip_r is hypometabolic with a normalised probability of 1.0\n",
      "When acin_l is hypometabolic, sma_l is hypometabolic with a normalised probability of 1.0\n",
      "When acin_l is hypometabolic, acin_r is hypometabolic with a normalised probability of 1.0\n",
      "When acin_r is hypometabolic, sma_l is hypometabolic with a normalised probability of 1.0\n",
      "When acin_r is hypometabolic, acin_l is hypometabolic with a normalised probability of 1.0\n",
      "When phip_r is hypometabolic, fusi_l is hypometabolic with a normalised probability of 1.0\n",
      "When tha_l is hypometabolic, tha_r is hypometabolic with a normalised probability of 1.0\n",
      "When tha_r is hypometabolic, tha_l is hypometabolic with a normalised probability of 1.0\n",
      "When sma_r is hypometabolic, f1m_r is hypometabolic with a normalised probability of 0.75\n",
      "When p1_r is hypometabolic, o1_r is hypometabolic with a normalised probability of 0.75\n",
      "When mcin_l is hypometabolic, mcin_r is hypometabolic with a normalised probability of 0.75\n"
     ]
    }
   ],
   "source": [
    "rules_aal_11_CT = rd.define_rules_normalised(Y_aal_quan_CT,100,'non-hierarchical','hypometabolic','hypometabolic',0.70)\n",
    "rd.print_rules_normalised(rules_aal_11_CT,'hypometabolic','hypometabolic')"
   ]
  },
  {
   "cell_type": "markdown",
   "metadata": {
    "heading_collapsed": true,
    "hidden": true
   },
   "source": [
    "#### Brodmann atlas (47 regions)"
   ]
  },
  {
   "cell_type": "markdown",
   "metadata": {
    "hidden": true
   },
   "source": [
    "*Alzheimer disease*"
   ]
  },
  {
   "cell_type": "code",
   "execution_count": 15,
   "metadata": {
    "hidden": true
   },
   "outputs": [
    {
     "name": "stdout",
     "output_type": "stream",
     "text": [
      "When b29 is hypometabolic, b34 is hypometabolic with a normalised probability of 1.0\n",
      "When b34 is hypometabolic, b29 is hypometabolic with a normalised probability of 1.0\n",
      "When b3 is hypometabolic, b4 is hypometabolic with a normalised probability of 0.83\n",
      "When b4 is hypometabolic, b3 is hypometabolic with a normalised probability of 0.8\n",
      "When b40 is hypometabolic, b39 is hypometabolic with a normalised probability of 0.7\n",
      "When b21 is hypometabolic, b39 is hypometabolic with a normalised probability of 0.69\n",
      "When b21 is hypometabolic, b20 is hypometabolic with a normalised probability of 0.69\n",
      "When b39 is hypometabolic, b21 is hypometabolic with a normalised probability of 0.68\n",
      "When b39 is hypometabolic, b40 is hypometabolic with a normalised probability of 0.67\n",
      "When b28 is hypometabolic, b35 is hypometabolic with a normalised probability of 0.67\n"
     ]
    }
   ],
   "source": [
    "rules_brodmann_11_AD = rd.define_rules_normalised(Y_brodmann_quan_AD,100,'non-hierarchical','hypometabolic','hypometabolic',0.65)\n",
    "rd.print_rules_normalised(rules_brodmann_11_AD,'hypometabolic','hypometabolic')"
   ]
  },
  {
   "cell_type": "markdown",
   "metadata": {
    "hidden": true
   },
   "source": [
    "*Fronto-temporal dementia*"
   ]
  },
  {
   "cell_type": "code",
   "execution_count": 16,
   "metadata": {
    "hidden": true
   },
   "outputs": [
    {
     "name": "stdout",
     "output_type": "stream",
     "text": [
      "When b30 is hypometabolic, b43 is hypometabolic with a normalised probability of 1.0\n",
      "When b43 is hypometabolic, b30 is hypometabolic with a normalised probability of 1.0\n",
      "When b47 is hypometabolic, b10 is hypometabolic with a normalised probability of 0.83\n",
      "When b10 is hypometabolic, b47 is hypometabolic with a normalised probability of 0.81\n",
      "When b9 is hypometabolic, b10 is hypometabolic with a normalised probability of 0.77\n",
      "When b10 is hypometabolic, b9 is hypometabolic with a normalised probability of 0.74\n",
      "When b9 is hypometabolic, b8 is hypometabolic with a normalised probability of 0.73\n",
      "When b47 is hypometabolic, b11 is hypometabolic with a normalised probability of 0.73\n",
      "When b45 is hypometabolic, b46 is hypometabolic with a normalised probability of 0.71\n",
      "When b8 is hypometabolic, b9 is hypometabolic with a normalised probability of 0.69\n",
      "When b11 is hypometabolic, b47 is hypometabolic with a normalised probability of 0.69\n",
      "When b46 is hypometabolic, b45 is hypometabolic with a normalised probability of 0.69\n",
      "When b10 is hypometabolic, b8 is hypometabolic with a normalised probability of 0.67\n",
      "When b21 is hypometabolic, b20 is hypometabolic with a normalised probability of 0.66\n"
     ]
    }
   ],
   "source": [
    "rules_brodmann_11_FTD = rd.define_rules_normalised(Y_brodmann_quan_FTD,100,'non-hierarchical','hypometabolic','hypometabolic',0.65)\n",
    "rd.print_rules_normalised(rules_brodmann_11_FTD,'hypometabolic','hypometabolic')"
   ]
  },
  {
   "cell_type": "markdown",
   "metadata": {
    "hidden": true
   },
   "source": [
    "*Control*"
   ]
  },
  {
   "cell_type": "code",
   "execution_count": 17,
   "metadata": {
    "hidden": true
   },
   "outputs": [
    {
     "name": "stdout",
     "output_type": "stream",
     "text": [
      "When b2 is hypometabolic, b5 is hypometabolic with a normalised probability of 1.0\n",
      "When b5 is hypometabolic, b2 is hypometabolic with a normalised probability of 1.0\n",
      "When b10 is hypometabolic, b11 is hypometabolic with a normalised probability of 1.0\n",
      "When b11 is hypometabolic, b10 is hypometabolic with a normalised probability of 1.0\n",
      "When b23 is hypometabolic, b41 is hypometabolic with a normalised probability of 1.0\n",
      "When b41 is hypometabolic, b23 is hypometabolic with a normalised probability of 1.0\n"
     ]
    }
   ],
   "source": [
    "rules_brodmann_11_CT = rd.define_rules_normalised(Y_brodmann_quan_CT,100,'non-hierarchical','hypometabolic','hypometabolic',0.70)\n",
    "rd.print_rules_normalised(rules_brodmann_11_CT,'hypometabolic','hypometabolic')"
   ]
  },
  {
   "cell_type": "markdown",
   "metadata": {
    "heading_collapsed": true
   },
   "source": [
    "### Conclusions"
   ]
  },
  {
   "cell_type": "markdown",
   "metadata": {
    "hidden": true
   },
   "source": [
    "The development of these rules gives a lot of information that might be of interest. \n",
    "\n",
    "One thing we notice is that the **relations of equivalence (both regions have the same metabolism) are much more remarkable than the relations of unequivalence (each region has a different metabolism)**. This makes sense since no disease would increase the metabolism of a region while decreasing that of another one. Although the most probable relations are those between non-hypometabolism and non-hypometabolism, **we are more interested in the relations between hypometabolism and hypometabolism as they are probably related with the expansion of the disease**. Therefore, conclusions will only be related with this type of relation.\n",
    "\n",
    "Another thing we notice is that **relations are more abundant when we isolate patients of the same condition**. When all of them are together, very few patterns remain. When they are separated, the patterns characteristic from each condition arise. This demonstrates that each condition has its own particular relations between brain regions. "
   ]
  },
  {
   "cell_type": "markdown",
   "metadata": {
    "heading_collapsed": true,
    "hidden": true
   },
   "source": [
    "#### AAL atlas (90 regions)"
   ]
  },
  {
   "cell_type": "markdown",
   "metadata": {
    "hidden": true
   },
   "source": [
    "The advantage of using the AAL atlas is that we can have information regarding both hemispheres. Regarding this, we can appreciate two phenomena: (I) **the relations between the same region in different hemispheres are common**, (II) **the relations between different regions often happen within the same hemisphere**. In the following summary, we include the hemisphere in brackets: right (R), left (L), both (B)."
   ]
  },
  {
   "cell_type": "markdown",
   "metadata": {
    "heading_collapsed": true,
    "hidden": true
   },
   "source": [
    "##### All patients"
   ]
  },
  {
   "cell_type": "markdown",
   "metadata": {
    "hidden": true
   },
   "source": [
    "- Within the **frontal lobe**: \n",
    "    - GR (L) (rectus gyrus) &harr; GR (R) (rectus gyrus)\n",
    "- Within the **temporal lobe**: \n",
    "    - T2 (R) (middle temporal gyrus) &harr; T3 (R) (inferior temporal gyrus)"
   ]
  },
  {
   "cell_type": "markdown",
   "metadata": {
    "heading_collapsed": true,
    "hidden": true
   },
   "source": [
    "##### Alzheimer disease patients"
   ]
  },
  {
   "cell_type": "markdown",
   "metadata": {
    "hidden": true
   },
   "source": [
    "- Within the **frontal lobe**:\n",
    "    - SMA (L) (supplementary motor area) &harr; SMA (R) (supplementary motor area)\n",
    "    - F1M (R) (superior frontal gyrus, medial part) &rarr; F1M (L) (superior frontal gyrus, medial)\n",
    "    - F2O (L) (middle frontal gyrus, orbital) &rarr; F3O (L) (inferior frontal gyrus, orbital part)\n",
    "    - GR (L) (rectus gyrus) &harr; GR (R) (rectus gyrus)\n",
    "    - OC (L) (olfatory cortex) &harr; OC (R) (olfatory cortex)\n",
    "- Within the **parietal lobe**: \n",
    "    - AG (R) (angular gyrus) &rarr; P2 (R) (inferior parietal gyrus)\n",
    "- Within the **occipital lobe**: \n",
    "    - O1 (R) (superior occipital gyrus) &rarr; O3 (R) (inferior occipital gyrus)\n",
    "- Within the **temporal lobe**: \n",
    "    - T2 (R) (middle temporal gyrus) &harr; T3 (R) (inferior temporal gyrus)\n",
    "    - T3 (L) (inferior temporal gyrus) &rarr; T2 (L) (middle temporal gyrus)\n",
    "- Within the **subcortical region**:\n",
    "    - PUT (L) (lenticular nucleus, putamen) &harr; PAL (R) (lenticular nucleus, pallidum)\n",
    "- Between the **temporal lobe and subcortical region**:\n",
    "    - AMYG (R) (amygdala) &harr; PAL (L) (lenticular nucleus, pallidum)"
   ]
  },
  {
   "cell_type": "markdown",
   "metadata": {
    "heading_collapsed": true,
    "hidden": true
   },
   "source": [
    "##### Frontotemporal demential patients"
   ]
  },
  {
   "cell_type": "markdown",
   "metadata": {
    "hidden": true
   },
   "source": [
    "- Within the **frontal lobe**:\n",
    "    - F1 (L) (superior frontal gyrus) &harr; F2 (L) (middle frontal gyrus)\n",
    "    - F1 (L) (superior frontal gyrus) &rarr; F2 (R) (middle frontal gyrus)\n",
    "    - F1 (R) (superior frontal gyrus) &harr; F1M (R) (superior frontal gyrus, medial part)\n",
    "    - F1O (L) (superior frontal gyrus, orbital part) &harr; F2O (L) (middle frontal gyrus, orbital part)\n",
    "    - F1O (L) (superior frontal gyrus, orbital part) &harr; F2O (R) (middle frontal gyrus, orbital part)\n",
    "    - F1O (R) (superior frontal gyrus, orbital part) &rarr; F2O (R) (middle frontal gyrus, orbital part)\n",
    "    - F2 (R) (middle frontal gyrus) &rarr; F1 (R) (superior frontal gyrus)\n",
    "    - F3O (R) (inferior frontal gyrus, orbital part) &rarr; F1O (R) (superior frontal gyrus, orbital part)\n",
    "    - F3O (R) (inferior frontal gyrus, orbital part) &rarr; F3T (R) (inferior frontal gyrus, triangular part)\n",
    "    - GR (R) (rectus gyrus) &rarr; F1O (L) (superior frontal gyrus, orbital part)\n",
    "    - GR (R) (rectus gyrus) &rarr; F1O (R) (superior frontal gyrus, orbital part) \n",
    "    - GR (L) (rectus gyrus) &harr; GR (R) (rectus gyrus)\n",
    "    - MCIN (R) (median cingulate gyrus) &rarr; MCIN (L) (median cingulate gyrus)\n",
    "- Within the **parietal lobe**: \n",
    "    - SMG (R) (supramarginal gyrus) &rarr; AG (R) (angular gyrus)\n",
    "- Within the **occipital lobe**: \n",
    "    - LING (R) (lingual gyrus) &rarr; V1 (R) (calcarine fissure)\n",
    "- Within the **temporal lobe**:\n",
    "    - T1P (R) (superior temporal gyrus, temporal pole) &harr; T2P (R) (middle temporal gyrus, temporal pole)\n",
    "    - T2 (R) (middle temporal gyrus) &rarr; T3 (R) (inferior temporal gyrus)\n",
    "    - FUSI (L) (fusiform gyrus) &harr; PHIP (L) (parahippocampus gyrus)\n",
    "    - FUSI (R) (fusiform gyrus) &harr; PHIP (R) (parahippocampus gyrus)\n",
    "    - HIP (R) (hippocampus) &harr; PHIP (R) (parahippocampal gyrus)\n",
    "- Between the **frontal lobe and insular lobe**: \n",
    "    - F3T (L) (inferior frontal gyrus, triangular) &harr; IN (L) (insula)\n",
    "- Between the **parietal lobe and temporal lobe**: \n",
    "    - RO (R) (rolandic operculum) &rarr; HES (R) (heschl gyrus)\n",
    "- Within the **temporal lobe and subcortical region**: \n",
    "    - AMYG (L) (amygdala) &harr; PAL (R) (lenticular nucleus, pallidum)"
   ]
  },
  {
   "cell_type": "markdown",
   "metadata": {
    "heading_collapsed": true,
    "hidden": true
   },
   "source": [
    "##### Control patients"
   ]
  },
  {
   "cell_type": "markdown",
   "metadata": {
    "hidden": true
   },
   "source": [
    "- Within the **frontal lobe**: \n",
    "    - SMA (R) (suplementary motor area) &rarr; F1M (R) (superior frontal gyrus, medial part)\n",
    "    - SMA (L) (suplementary motor area) &harr; ACIN (L) (anterior cingulate gyrus)\n",
    "    - SMA (L) (suplementary motor area) &harr; ACIN (R) (anterior cingulate gyrus)\n",
    "    - ACIN (L) (anterior cingulate gyrus) &harr; ACIN (R) (anterior cingulate gyrus)\n",
    "- Within the **parietal lobe**: \n",
    "    - MCIN (L) (median cingulate gyrus) &rarr; MCIN (R) (median cingulate gyrus)\n",
    "- Within the **temporal lobe**:\n",
    "    - FUSI (L) (fusiform gyrus) &harr; PHIP (R) (parahippocampal gyrus)\n",
    "- Within the **subcortical region**: \n",
    "    - THA (L) (thalamus) &harr; THA (R) (thalamus)\n",
    "- Between the **parietal lobe and occipital lobe**: \n",
    "    - POST (L) (postcentral gyrus) &harr; O1 (L) (superior occipital gyrus)\n",
    "    - P1 (R) (superior parietal gyrus) &rarr; O1 (R) (superior occipital gyrus)\n",
    "    - P2 (L) (inferior parietal gyrus) &harr; Q (L) (cuneus)\n",
    "    - P2 (R) (inferior parietal gyrus) &harr; Q (R) (cuneus)\n",
    "    - AG (R) (angular gyrus) &harr; O3 (R) (inferior occipital gyrus)\n",
    "    - SMG (R) (supramarginal gyrus) &harr; V1 (R) (calcarine fissure)"
   ]
  },
  {
   "cell_type": "markdown",
   "metadata": {
    "heading_collapsed": true,
    "hidden": true
   },
   "source": [
    "#### Brodmann atlas (47 regions)"
   ]
  },
  {
   "cell_type": "markdown",
   "metadata": {
    "heading_collapsed": true,
    "hidden": true
   },
   "source": [
    "##### All patients"
   ]
  },
  {
   "cell_type": "markdown",
   "metadata": {
    "hidden": true
   },
   "source": [
    "- Within the **frontal lobe**: \n",
    "    - B47 (inferior frontal gyrus, orbital part) &rarr; B11 (orbitofrontal area)\n",
    "- Within the **temporal lobe**: \n",
    "    - B21 (middle temporal gyrus) &rarr; B20 (inferior temporal gyrus)"
   ]
  },
  {
   "cell_type": "markdown",
   "metadata": {
    "heading_collapsed": true,
    "hidden": true
   },
   "source": [
    "##### Alzheimer disease patients"
   ]
  },
  {
   "cell_type": "markdown",
   "metadata": {
    "hidden": true
   },
   "source": [
    "- Within the **parietal lobe**: \n",
    "    - B39 (angular gyrus) &harr; B40 (supramarginal gyrus) \n",
    "- Within the **temporal lobe**: \n",
    "    - B21 (middle temporal gyrus) &rarr; B20 (inferior temporal gyrus)\n",
    "    - B28 (ventral entorhinal cortex) &rarr; B35 (perirhinal cortex)\n",
    "- Between the **frontal lobe and parietal lobe**: \n",
    "    - B4 (primary motor cortex) &harr; B3 (primary somatosensory cortex)\n",
    "- Between the **frontal lobe and temporal lobe**:\n",
    "    - B29 (retrosplenial cortex) &harr; B34 (dorsal entorhinal cortex)\n",
    "- Between the **parietal lobe and temporal lobe**: \n",
    "    - B39 (angular gyrus) &harr; B21 (middle temporal gyrus)"
   ]
  },
  {
   "cell_type": "markdown",
   "metadata": {
    "heading_collapsed": true,
    "hidden": true
   },
   "source": [
    "##### Frontotemporal demential patients"
   ]
  },
  {
   "cell_type": "markdown",
   "metadata": {
    "hidden": true
   },
   "source": [
    "- Within the **frontal lobe**:\n",
    "    - B8 (frontal cortex) &harr; B9 (dorsolateral prefrontal cortex)\n",
    "    - B9 (dorsolateral prefrontal cortex) &harr; B10 (anterior prefrontal cortex)\n",
    "    - B10 (anterior prefrontal cortex) &rarr; B8 (frontal cortex)\n",
    "    - B10 (anterior prefrontal cortex) &harr; B47 (inferior frontal gyrus, orbital part)\n",
    "    - B11 (orbitofrontal area) &harr; B47 (inferior frontal gyrus, orbital part)\n",
    "    - B45 (broca's area) &harr; B46 (dorsolateral prefrontal cortex)\n",
    "- Within the **temporal lobe**: \n",
    "    - B21 (middle temporal gyrus) &rarr; B20 (inferior temporal gyrus)\n",
    "- Between the **frontal lobe and parietal lobe**: \n",
    "    - B30 (retrosplenial cortex) &harr; B43 (primary gustatory cortex)"
   ]
  },
  {
   "cell_type": "markdown",
   "metadata": {
    "heading_collapsed": true,
    "hidden": true
   },
   "source": [
    "##### Control patients"
   ]
  },
  {
   "cell_type": "markdown",
   "metadata": {
    "hidden": true
   },
   "source": [
    "- Within the **frontal lobe**: \n",
    "    - B10 (anterior prefrontal cortex) &harr; B11 (orbitofrontal area)\n",
    "- Within the **parietal lobe**: \n",
    "    - B2 (primary somatosensory cortex) &harr; B5 (superior parietal lobule)\n",
    "- Between the **parietal lobe and temporal lobe**: \n",
    "    - B23 (ventral posterior cingulate cortex) &harr; B41 (auditory cortex)"
   ]
  }
 ],
 "metadata": {
  "kernelspec": {
   "display_name": "Python 3",
   "language": "python",
   "name": "python3"
  },
  "language_info": {
   "codemirror_mode": {
    "name": "ipython",
    "version": 3
   },
   "file_extension": ".py",
   "mimetype": "text/x-python",
   "name": "python",
   "nbconvert_exporter": "python",
   "pygments_lexer": "ipython3",
   "version": "3.7.6"
  }
 },
 "nbformat": 4,
 "nbformat_minor": 4
}
