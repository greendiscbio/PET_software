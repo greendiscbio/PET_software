{
 "cells": [
  {
   "cell_type": "markdown",
   "metadata": {},
   "source": [
    "# Exploration of probabilistic rules"
   ]
  },
  {
   "cell_type": "markdown",
   "metadata": {},
   "source": [
    "This notebook explores the probabilistic ruling approach and applies it to different datasets, considering a binary threshold of 30."
   ]
  },
  {
   "cell_type": "markdown",
   "metadata": {
    "heading_collapsed": true
   },
   "source": [
    "### Brief explanation"
   ]
  },
  {
   "cell_type": "markdown",
   "metadata": {
    "hidden": true
   },
   "source": [
    "The basic idea behind this approach is that we can use the PET data available in our database to develop automatic causal rules. These are of three types:\n",
    "\n",
    "**Absolute rules**: *'if region A is hypometabolic/non-hypometabolic, region B is hypometabolic/non-hypometabolic with a probability p'*.\n",
    "\n",
    "We ilustrate it with the example *'if region A is hypometabolic, then region B is hypometabolic with a probability p'*.\n",
    "\n",
    "1. We calculate the number of patients in which region A is hypometabolic.\n",
    "2. We calculate the number of patients in which region B is hypometabolic, being region A hypometabolic.\n",
    "3. We divide both quantities to obtain the probability of region B being hypometabolic when region A is hypometabolic.\n",
    "4. If this probability is above a given threshold, we generate the rule.\n",
    "\n",
    "**Normalised rules**: they are similar to the absolute rules but normalise the probabilities so to outline real relations and discard noise.\n",
    "\n",
    "We ilustrate it with the example *'if region A is hypometabolic, then region B is hypometabolic with a probability p'*.\n",
    "\n",
    "1. We calculate the number of patients in which region A is hypometabolic.\n",
    "2. We calculate the number of patients in which region B is hypometabolic, being region A hypometabolic.\n",
    "3. We calculate the number of patients in which region B is hypometabolic, being region A non-hypometabolic.\n",
    "4. We substract quantity 3 to quantity 2 to obtain a normalised count of region B being hypometabolic when region A is hypometabolic.\n",
    "5. We divide quantity 4 with quantity 1 to obtain the normalised probability of region B being hypometabolic when region A is hypometabolic.\n",
    "6. If this probability is above a given threshold, we generate the rule.\n",
    "\n",
    "**Relative rules**: *'region A and region B have equal/unequal metabolism with a probability p'*.\n",
    "\n",
    "We ilustrate it with the example *'region A and region B have equal metabolism with a probability p'*.\n",
    "\n",
    "1. We calculate the number of patients\n",
    "2. We calculate the number of patients in which region A has the same metabolism as region B.\n",
    "3. We divide both quantities to obtain the probabilitiy of region A having the same metabolism as region B.\n",
    "4. If this probability is above a given threshold, we generate the rule.\n",
    "\n",
    "The rules can be defined with two different strategies: **'non-hierarchical'** means that we look for relations between all regions; **'hierarchical'** means that we only look for relations between one region and those with lower hierarchy. For example, if we are looking for hypometabolism-hypometabolism relations, we only define rules from more hypometabolic regions to less hypometabolic regions. In this way, we try to follow the logic behind the disease. When considering normalised rules, there is not much difference between using one or another strategy."
   ]
  },
  {
   "cell_type": "markdown",
   "metadata": {
    "heading_collapsed": true
   },
   "source": [
    "### Import the packages"
   ]
  },
  {
   "cell_type": "code",
   "execution_count": 1,
   "metadata": {
    "hidden": true
   },
   "outputs": [],
   "source": [
    "import warnings\n",
    "import sys\n",
    "sys.path.insert(0,'../../Tools')\n",
    "from prtools import *\n",
    "da = Datasets()\n",
    "rd = RuleDefinition()"
   ]
  },
  {
   "cell_type": "code",
   "execution_count": 2,
   "metadata": {},
   "outputs": [],
   "source": [
    "warnings.filterwarnings('ignore')"
   ]
  },
  {
   "cell_type": "markdown",
   "metadata": {
    "heading_collapsed": true
   },
   "source": [
    "### Prepare the datasets"
   ]
  },
  {
   "cell_type": "code",
   "execution_count": 3,
   "metadata": {
    "hidden": true
   },
   "outputs": [],
   "source": [
    "Y_aal_quan = pandas.read_csv('../../Data/Y_aal_quan.csv')\n",
	"Y_aal_quan.drop(['f1mo_l','f1mo_r'],axis=1,inplace=True)\n",
    "Y_aal_quan_diag = pandas.read_csv('../../Data/Y_aal_quan_diag.csv')\n",
	"Y_aal_quan_diag.drop(['f1mo_l','f1mo_r'],axis=1,inplace=True)\n",
    "Y_brodmann_quan = pandas.read_csv('../../Data/Y_brodmann_quan.csv')\n",
    "Y_brodmann_quan_diag = pandas.read_csv('../../Data/Y_brodmann_quan_diag.csv')\n",
    "\n",
    "Y_aal_quan_AD = da.filter_diagnosis(Y_aal_quan_diag,[5,7,17])\n",
    "Y_aal_quan_FTD = da.filter_diagnosis(Y_aal_quan_diag,[3])\n",
    "Y_aal_quan_CT = da.filter_diagnosis(Y_aal_quan_diag,[13,16])\n",
    "Y_brodmann_quan_AD = da.filter_diagnosis(Y_brodmann_quan_diag,[5,7,17])\n",
    "Y_brodmann_quan_FTD = da.filter_diagnosis(Y_brodmann_quan_diag,[3])\n",
    "Y_brodmann_quan_CT = da.filter_diagnosis(Y_brodmann_quan_diag,[13,16])"
   ]
  },
  {
   "cell_type": "markdown",
   "metadata": {
    "heading_collapsed": true
   },
   "source": [
    "### General rules"
   ]
  },
  {
   "cell_type": "markdown",
   "metadata": {
    "hidden": true
   },
   "source": [
    "These normalised rules are defined with the whole dataset. We show all the possible relations involving hypometabolism and non-hypometabolism."
   ]
  },
  {
   "cell_type": "markdown",
   "metadata": {
    "heading_collapsed": true,
    "hidden": true
   },
   "source": [
    "#### AAL atlas (90 regions)"
   ]
  },
  {
   "cell_type": "markdown",
   "metadata": {
    "hidden": true
   },
   "source": [
    "*Hypometabolic - Hypometabolic*"
   ]
  },
  {
   "cell_type": "code",
   "execution_count": 4,
   "metadata": {
    "hidden": true
   },
   "outputs": [
    {
     "name": "stdout",
     "output_type": "stream",
     "text": [
      "When t2_r is hypometabolic, t3_r is hypometabolic with a normalised probability of 0.69\n",
      "When acin_l is hypometabolic, acin_r is hypometabolic with a normalised probability of 0.69\n",
      "When gr_r is hypometabolic, gr_l is hypometabolic with a normalised probability of 0.69\n",
      "When t3_r is hypometabolic, t2_r is hypometabolic with a normalised probability of 0.68\n",
      "When gr_l is hypometabolic, gr_r is hypometabolic with a normalised probability of 0.67\n",
      "When acin_r is hypometabolic, acin_l is hypometabolic with a normalised probability of 0.66\n"
     ]
    }
   ],
   "source": [
    "rules_aal_11 = rd.define_rules_normalised(Y_aal_quan,30,'non-hierarchical','hypometabolic','hypometabolic',0.65)\n",
    "rd.print_rules_normalised(rules_aal_11,'hypometabolic','hypometabolic')"
   ]
  },
  {
   "cell_type": "markdown",
   "metadata": {
    "hidden": true
   },
   "source": [
    "*Non-hypometabolic - Non-hypometabolic*"
   ]
  },
  {
   "cell_type": "code",
   "execution_count": 5,
   "metadata": {
    "hidden": true
   },
   "outputs": [
    {
     "name": "stdout",
     "output_type": "stream",
     "text": [
      "When pal_l is non-hypometabolic, put_l is non-hypometabolic with a normalised probability of 0.98\n",
      "When amyg_l is non-hypometabolic, amyg_r is non-hypometabolic with a normalised probability of 0.97\n",
      "When pal_r is non-hypometabolic, put_r is non-hypometabolic with a normalised probability of 0.97\n",
      "When amyg_r is non-hypometabolic, amyg_l is non-hypometabolic with a normalised probability of 0.97\n",
      "When put_l is non-hypometabolic, pal_l is non-hypometabolic with a normalised probability of 0.97\n",
      "When put_r is non-hypometabolic, pal_r is non-hypometabolic with a normalised probability of 0.97\n",
      "When amyg_l is non-hypometabolic, pal_r is non-hypometabolic with a normalised probability of 0.96\n",
      "When pal_l is non-hypometabolic, pal_r is non-hypometabolic with a normalised probability of 0.96\n",
      "When pal_r is non-hypometabolic, amyg_l is non-hypometabolic with a normalised probability of 0.96\n",
      "When pal_r is non-hypometabolic, pal_l is non-hypometabolic with a normalised probability of 0.96\n",
      "When put_l is non-hypometabolic, cau_l is non-hypometabolic with a normalised probability of 0.96\n",
      "When oc_l is non-hypometabolic, oc_r is non-hypometabolic with a normalised probability of 0.96\n",
      "When cau_l is non-hypometabolic, put_l is non-hypometabolic with a normalised probability of 0.96\n",
      "When oc_r is non-hypometabolic, oc_l is non-hypometabolic with a normalised probability of 0.96\n",
      "When gr_l is non-hypometabolic, gr_r is non-hypometabolic with a normalised probability of 0.96\n",
      "When gr_r is non-hypometabolic, gr_l is non-hypometabolic with a normalised probability of 0.96\n"
     ]
    }
   ],
   "source": [
    "rules_aal_00 = rd.define_rules_normalised(Y_aal_quan,30,'non-hierarchical','non-hypometabolic','non-hypometabolic',0.95)\n",
    "rd.print_rules_normalised(rules_aal_00,'non-hypometabolic','non-hypometabolic')"
   ]
  },
  {
   "cell_type": "markdown",
   "metadata": {
    "hidden": true
   },
   "source": [
    "*Hypometabolic - Non-hypometabolic*"
   ]
  },
  {
   "cell_type": "code",
   "execution_count": 6,
   "metadata": {
    "hidden": true
   },
   "outputs": [],
   "source": [
    "rules_aal_10 = rd.define_rules_normalised(Y_aal_quan,30,'non-hierarchical','hypometabolic','non-hypometabolic',0.50)\n",
    "rd.print_rules_normalised(rules_aal_10,'hypometabolic','non-hypometabolic')"
   ]
  },
  {
   "cell_type": "markdown",
   "metadata": {
    "hidden": true
   },
   "source": [
    "*Non-hypometabolic - Hypometabolic*"
   ]
  },
  {
   "cell_type": "code",
   "execution_count": 7,
   "metadata": {
    "hidden": true
   },
   "outputs": [],
   "source": [
    "rules_aal_01 = rd.define_rules_normalised(Y_aal_quan,30,'non-hierarchical','non-hypometabolic','hypometabolic',0.50)\n",
    "rd.print_rules_normalised(rules_aal_01,'non-hypometabolic','hypometabolic')"
   ]
  },
  {
   "cell_type": "markdown",
   "metadata": {
    "heading_collapsed": true,
    "hidden": true
   },
   "source": [
    "#### Brodmann atlas (47 regions)"
   ]
  },
  {
   "cell_type": "markdown",
   "metadata": {
    "hidden": true
   },
   "source": [
    "*Hypometabolic - Hypometabolic*"
   ]
  },
  {
   "cell_type": "code",
   "execution_count": 8,
   "metadata": {
    "hidden": true
   },
   "outputs": [
    {
     "name": "stdout",
     "output_type": "stream",
     "text": [
      "When b21 is hypometabolic, b20 is hypometabolic with a normalised probability of 0.73\n",
      "When b20 is hypometabolic, b21 is hypometabolic with a normalised probability of 0.71\n"
     ]
    }
   ],
   "source": [
    "rules_brodmann_11 = rd.define_rules_normalised(Y_brodmann_quan,30,'non-hierarchical','hypometabolic','hypometabolic',0.65)\n",
    "rd.print_rules_normalised(rules_brodmann_11,'hypometabolic','hypometabolic')"
   ]
  },
  {
   "cell_type": "markdown",
   "metadata": {
    "hidden": true
   },
   "source": [
    "*Non-hypometabolic - Non-hypometabolic*"
   ]
  },
  {
   "cell_type": "code",
   "execution_count": 9,
   "metadata": {
    "hidden": true
   },
   "outputs": [
    {
     "name": "stdout",
     "output_type": "stream",
     "text": [
      "When b33 is non-hypometabolic, b27 is non-hypometabolic with a normalised probability of 0.98\n",
      "When b33 is non-hypometabolic, b29 is non-hypometabolic with a normalised probability of 0.98\n",
      "When b27 is non-hypometabolic, b33 is non-hypometabolic with a normalised probability of 0.98\n",
      "When b27 is non-hypometabolic, b29 is non-hypometabolic with a normalised probability of 0.98\n",
      "When b27 is non-hypometabolic, b43 is non-hypometabolic with a normalised probability of 0.98\n",
      "When b29 is non-hypometabolic, b33 is non-hypometabolic with a normalised probability of 0.98\n",
      "When b29 is non-hypometabolic, b27 is non-hypometabolic with a normalised probability of 0.98\n",
      "When b43 is non-hypometabolic, b27 is non-hypometabolic with a normalised probability of 0.98\n",
      "When b33 is non-hypometabolic, b43 is non-hypometabolic with a normalised probability of 0.97\n",
      "When b29 is non-hypometabolic, b43 is non-hypometabolic with a normalised probability of 0.97\n",
      "When b43 is non-hypometabolic, b33 is non-hypometabolic with a normalised probability of 0.97\n",
      "When b43 is non-hypometabolic, b29 is non-hypometabolic with a normalised probability of 0.97\n",
      "When b1 is non-hypometabolic, b4 is non-hypometabolic with a normalised probability of 0.97\n",
      "When b4 is non-hypometabolic, b1 is non-hypometabolic with a normalised probability of 0.97\n",
      "When b4 is non-hypometabolic, b3 is non-hypometabolic with a normalised probability of 0.97\n",
      "When b3 is non-hypometabolic, b4 is non-hypometabolic with a normalised probability of 0.97\n",
      "When b33 is non-hypometabolic, b34 is non-hypometabolic with a normalised probability of 0.96\n",
      "When b27 is non-hypometabolic, b34 is non-hypometabolic with a normalised probability of 0.96\n",
      "When b29 is non-hypometabolic, b34 is non-hypometabolic with a normalised probability of 0.96\n",
      "When b43 is non-hypometabolic, b41 is non-hypometabolic with a normalised probability of 0.96\n",
      "When b34 is non-hypometabolic, b33 is non-hypometabolic with a normalised probability of 0.96\n",
      "When b34 is non-hypometabolic, b27 is non-hypometabolic with a normalised probability of 0.96\n",
      "When b34 is non-hypometabolic, b29 is non-hypometabolic with a normalised probability of 0.96\n",
      "When b1 is non-hypometabolic, b3 is non-hypometabolic with a normalised probability of 0.96\n",
      "When b41 is non-hypometabolic, b43 is non-hypometabolic with a normalised probability of 0.96\n",
      "When b3 is non-hypometabolic, b1 is non-hypometabolic with a normalised probability of 0.96\n"
     ]
    }
   ],
   "source": [
    "rules_brodmann_00 = rd.define_rules_normalised(Y_brodmann_quan,30,'non-hierarchical','non-hypometabolic','non-hypometabolic',0.95)\n",
    "rd.print_rules_normalised(rules_brodmann_00,'non-hypometabolic','non-hypometabolic')"
   ]
  },
  {
   "cell_type": "markdown",
   "metadata": {
    "hidden": true
   },
   "source": [
    "*Hypometabolic - Non-hypometabolic*"
   ]
  },
  {
   "cell_type": "code",
   "execution_count": 10,
   "metadata": {
    "hidden": true
   },
   "outputs": [],
   "source": [
    "rules_brodmann_10 = rd.define_rules_normalised(Y_brodmann_quan,30,'non-hierarchical','hypometabolic','non-hypometabolic',0.50)\n",
    "rd.print_rules_normalised(rules_brodmann_10,'hypometabolic','non-hypometabolic')"
   ]
  },
  {
   "cell_type": "markdown",
   "metadata": {
    "hidden": true
   },
   "source": [
    "*Non-hypometabolic - Hypometabolic*"
   ]
  },
  {
   "cell_type": "code",
   "execution_count": 11,
   "metadata": {
    "hidden": true
   },
   "outputs": [],
   "source": [
    "rules_brodmann_01 = rd.define_rules_normalised(Y_brodmann_quan,30,'non-hierarchical','non-hypometabolic','hypometabolic',0.50)\n",
    "rd.print_rules_normalised(rules_brodmann_01,'non-hypometabolic','hypometabolic')"
   ]
  },
  {
   "cell_type": "markdown",
   "metadata": {
    "heading_collapsed": true
   },
   "source": [
    "### Disease-specific rules"
   ]
  },
  {
   "cell_type": "markdown",
   "metadata": {
    "hidden": true
   },
   "source": [
    "These normalised rules are defined with datasets that are filtered by disease. With that, our purpose is to track the propagation of particular diseases across brain regions. We only show the relations of the type hypometabolic-hypometabolic."
   ]
  },
  {
   "cell_type": "markdown",
   "metadata": {
    "heading_collapsed": true,
    "hidden": true
   },
   "source": [
    "#### AAL atlas (90 regions)"
   ]
  },
  {
   "cell_type": "markdown",
   "metadata": {
    "hidden": true
   },
   "source": [
    "*Alzheimer disease*"
   ]
  },
  {
   "cell_type": "code",
   "execution_count": 12,
   "metadata": {
    "hidden": true
   },
   "outputs": [
    {
     "name": "stdout",
     "output_type": "stream",
     "text": [
      "When t2_r is hypometabolic, t3_r is hypometabolic with a normalised probability of 0.75\n",
      "When t3_r is hypometabolic, t2_r is hypometabolic with a normalised probability of 0.75\n",
      "When t2_r is hypometabolic, o2_r is hypometabolic with a normalised probability of 0.68\n",
      "When o2_r is hypometabolic, ag_r is hypometabolic with a normalised probability of 0.68\n",
      "When ag_r is hypometabolic, o2_r is hypometabolic with a normalised probability of 0.68\n",
      "When p2_l is hypometabolic, ag_l is hypometabolic with a normalised probability of 0.67\n",
      "When put_l is hypometabolic, pal_l is hypometabolic with a normalised probability of 0.67\n",
      "When pal_r is hypometabolic, pal_l is hypometabolic with a normalised probability of 0.67\n",
      "When t3_l is hypometabolic, t2_l is hypometabolic with a normalised probability of 0.66\n",
      "When pcin_l is hypometabolic, pcin_r is hypometabolic with a normalised probability of 0.66\n"
     ]
    }
   ],
   "source": [
    "rules_aal_11_AD = rd.define_rules_normalised(Y_aal_quan_AD,30,'non-hierarchical','hypometabolic','hypometabolic',0.65)\n",
    "rd.print_rules_normalised(rules_aal_11_AD,'hypometabolic','hypometabolic')"
   ]
  },
  {
   "cell_type": "markdown",
   "metadata": {
    "hidden": true
   },
   "source": [
    "*Fronto-temporal dementia*"
   ]
  },
  {
   "cell_type": "code",
   "execution_count": 13,
   "metadata": {
    "hidden": true
   },
   "outputs": [
    {
     "name": "stdout",
     "output_type": "stream",
     "text": [
      "When phip_r is hypometabolic, hip_r is hypometabolic with a normalised probability of 0.83\n",
      "When hip_r is hypometabolic, phip_r is hypometabolic with a normalised probability of 0.8\n",
      "When f1o_l is hypometabolic, gr_l is hypometabolic with a normalised probability of 0.78\n",
      "When gr_l is hypometabolic, f1o_l is hypometabolic with a normalised probability of 0.78\n",
      "When gr_l is hypometabolic, gr_r is hypometabolic with a normalised probability of 0.78\n",
      "When gr_r is hypometabolic, gr_l is hypometabolic with a normalised probability of 0.78\n",
      "When f1_r is hypometabolic, f2_r is hypometabolic with a normalised probability of 0.76\n",
      "When f1_r is hypometabolic, f1m_r is hypometabolic with a normalised probability of 0.76\n",
      "When acin_l is hypometabolic, acin_r is hypometabolic with a normalised probability of 0.74\n",
      "When f1o_l is hypometabolic, f1o_r is hypometabolic with a normalised probability of 0.74\n",
      "When gr_r is hypometabolic, f1o_r is hypometabolic with a normalised probability of 0.74\n",
      "When f1o_r is hypometabolic, f1o_l is hypometabolic with a normalised probability of 0.73\n",
      "When f1o_r is hypometabolic, gr_r is hypometabolic with a normalised probability of 0.73\n",
      "When f2_l is hypometabolic, f1_l is hypometabolic with a normalised probability of 0.72\n",
      "When f2_r is hypometabolic, f1_r is hypometabolic with a normalised probability of 0.72\n",
      "When f1m_r is hypometabolic, f1_r is hypometabolic with a normalised probability of 0.72\n",
      "When fusi_r is hypometabolic, phip_r is hypometabolic with a normalised probability of 0.72\n",
      "When f1_l is hypometabolic, f2_l is hypometabolic with a normalised probability of 0.71\n",
      "When acin_r is hypometabolic, acin_l is hypometabolic with a normalised probability of 0.71\n",
      "When phip_r is hypometabolic, fusi_r is hypometabolic with a normalised probability of 0.71\n",
      "When ling_r is hypometabolic, v1_r is hypometabolic with a normalised probability of 0.71\n",
      "When t3_r is hypometabolic, fusi_r is hypometabolic with a normalised probability of 0.7\n",
      "When f2_r is hypometabolic, f3op_r is hypometabolic with a normalised probability of 0.69\n",
      "When f1m_l is hypometabolic, f1_l is hypometabolic with a normalised probability of 0.68\n",
      "When fusi_r is hypometabolic, t3_r is hypometabolic with a normalised probability of 0.68\n",
      "When t1p_l is hypometabolic, t2p_l is hypometabolic with a normalised probability of 0.68\n",
      "When gr_l is hypometabolic, f1o_r is hypometabolic with a normalised probability of 0.67\n",
      "When t3_l is hypometabolic, t2_l is hypometabolic with a normalised probability of 0.67\n",
      "When t3_r is hypometabolic, t2p_r is hypometabolic with a normalised probability of 0.67\n",
      "When f2_r is hypometabolic, f1m_r is hypometabolic with a normalised probability of 0.66\n",
      "When f3t_l is hypometabolic, f3o_l is hypometabolic with a normalised probability of 0.66\n",
      "When f1m_r is hypometabolic, f2_r is hypometabolic with a normalised probability of 0.66\n",
      "When f3o_l is hypometabolic, f3t_l is hypometabolic with a normalised probability of 0.66\n"
     ]
    }
   ],
   "source": [
    "rules_aal_11_FTD = rd.define_rules_normalised(Y_aal_quan_FTD,30,'non-hierarchical','hypometabolic','hypometabolic',0.65)\n",
    "rd.print_rules_normalised(rules_aal_11_FTD,'hypometabolic','hypometabolic')"
   ]
  },
  {
   "cell_type": "markdown",
   "metadata": {
    "hidden": true
   },
   "source": [
    "*Control*"
   ]
  },
  {
   "cell_type": "code",
   "execution_count": 14,
   "metadata": {
    "hidden": true
   },
   "outputs": [
    {
     "name": "stdout",
     "output_type": "stream",
     "text": [
      "When q_r is hypometabolic, ling_r is hypometabolic with a normalised probability of 1.0\n",
      "When ling_r is hypometabolic, q_r is hypometabolic with a normalised probability of 1.0\n",
      "When ro_r is hypometabolic, hes_r is hypometabolic with a normalised probability of 1.0\n",
      "When hes_r is hypometabolic, ro_r is hypometabolic with a normalised probability of 1.0\n",
      "When hes_l is hypometabolic, pcin_l is hypometabolic with a normalised probability of 1.0\n",
      "When hes_l is hypometabolic, tha_r is hypometabolic with a normalised probability of 1.0\n",
      "When fusi_l is hypometabolic, amyg_r is hypometabolic with a normalised probability of 1.0\n",
      "When acin_l is hypometabolic, acin_r is hypometabolic with a normalised probability of 1.0\n",
      "When acin_r is hypometabolic, acin_l is hypometabolic with a normalised probability of 1.0\n",
      "When pcin_l is hypometabolic, hes_l is hypometabolic with a normalised probability of 1.0\n",
      "When pcin_l is hypometabolic, tha_r is hypometabolic with a normalised probability of 1.0\n",
      "When amyg_r is hypometabolic, fusi_l is hypometabolic with a normalised probability of 1.0\n",
      "When tha_r is hypometabolic, hes_l is hypometabolic with a normalised probability of 1.0\n",
      "When tha_r is hypometabolic, pcin_l is hypometabolic with a normalised probability of 1.0\n",
      "When f1m_l is hypometabolic, f1m_r is hypometabolic with a normalised probability of 0.86\n",
      "When f1m_r is hypometabolic, f1m_l is hypometabolic with a normalised probability of 0.83\n",
      "When t1p_l is hypometabolic, f3o_l is hypometabolic with a normalised probability of 0.75\n"
     ]
    }
   ],
   "source": [
    "rules_aal_11_CT = rd.define_rules_normalised(Y_aal_quan_CT,30,'non-hierarchical','hypometabolic','hypometabolic',0.70)\n",
    "rd.print_rules_normalised(rules_aal_11_CT,'hypometabolic','hypometabolic')"
   ]
  },
  {
   "cell_type": "markdown",
   "metadata": {
    "heading_collapsed": true,
    "hidden": true
   },
   "source": [
    "#### Brodmann atlas (47 regions)"
   ]
  },
  {
   "cell_type": "markdown",
   "metadata": {
    "hidden": true
   },
   "source": [
    "*Alzheimer disease*"
   ]
  },
  {
   "cell_type": "code",
   "execution_count": 15,
   "metadata": {
    "hidden": true
   },
   "outputs": [
    {
     "name": "stdout",
     "output_type": "stream",
     "text": [
      "When b21 is hypometabolic, b20 is hypometabolic with a normalised probability of 0.77\n",
      "When b21 is hypometabolic, b39 is hypometabolic with a normalised probability of 0.76\n",
      "When b20 is hypometabolic, b21 is hypometabolic with a normalised probability of 0.76\n",
      "When b40 is hypometabolic, b39 is hypometabolic with a normalised probability of 0.75\n",
      "When b20 is hypometabolic, b39 is hypometabolic with a normalised probability of 0.75\n",
      "When b39 is hypometabolic, b21 is hypometabolic with a normalised probability of 0.74\n",
      "When b39 is hypometabolic, b20 is hypometabolic with a normalised probability of 0.74\n",
      "When b39 is hypometabolic, b40 is hypometabolic with a normalised probability of 0.73\n",
      "When b37 is hypometabolic, b19 is hypometabolic with a normalised probability of 0.73\n",
      "When b19 is hypometabolic, b37 is hypometabolic with a normalised probability of 0.72\n",
      "When b21 is hypometabolic, b37 is hypometabolic with a normalised probability of 0.71\n",
      "When b20 is hypometabolic, b37 is hypometabolic with a normalised probability of 0.69\n",
      "When b39 is hypometabolic, b37 is hypometabolic with a normalised probability of 0.69\n",
      "When b37 is hypometabolic, b39 is hypometabolic with a normalised probability of 0.68\n",
      "When b21 is hypometabolic, b22 is hypometabolic with a normalised probability of 0.67\n",
      "When b37 is hypometabolic, b21 is hypometabolic with a normalised probability of 0.67\n",
      "When b37 is hypometabolic, b20 is hypometabolic with a normalised probability of 0.67\n",
      "When b3 is hypometabolic, b1 is hypometabolic with a normalised probability of 0.67\n"
     ]
    }
   ],
   "source": [
    "rules_brodmann_11_AD = rd.define_rules_normalised(Y_brodmann_quan_AD,30,'non-hierarchical','hypometabolic','hypometabolic',0.65)\n",
    "rd.print_rules_normalised(rules_brodmann_11_AD,'hypometabolic','hypometabolic')"
   ]
  },
  {
   "cell_type": "markdown",
   "metadata": {
    "hidden": true
   },
   "source": [
    "*Fronto-temporal dementia*"
   ]
  },
  {
   "cell_type": "code",
   "execution_count": 16,
   "metadata": {
    "hidden": true
   },
   "outputs": [
    {
     "name": "stdout",
     "output_type": "stream",
     "text": [
      "When b28 is hypometabolic, b36 is hypometabolic with a normalised probability of 0.88\n",
      "When b36 is hypometabolic, b28 is hypometabolic with a normalised probability of 0.88\n",
      "When b45 is hypometabolic, b46 is hypometabolic with a normalised probability of 0.81\n",
      "When b36 is hypometabolic, b35 is hypometabolic with a normalised probability of 0.81\n",
      "When b35 is hypometabolic, b36 is hypometabolic with a normalised probability of 0.8\n",
      "When b47 is hypometabolic, b11 is hypometabolic with a normalised probability of 0.78\n",
      "When b46 is hypometabolic, b45 is hypometabolic with a normalised probability of 0.78\n",
      "When b21 is hypometabolic, b20 is hypometabolic with a normalised probability of 0.77\n",
      "When b20 is hypometabolic, b21 is hypometabolic with a normalised probability of 0.76\n",
      "When b43 is hypometabolic, b27 is hypometabolic with a normalised probability of 0.75\n",
      "When b6 is hypometabolic, b8 is hypometabolic with a normalised probability of 0.74\n",
      "When b32 is hypometabolic, b24 is hypometabolic with a normalised probability of 0.72\n",
      "When b11 is hypometabolic, b47 is hypometabolic with a normalised probability of 0.71\n",
      "When b11 is hypometabolic, b45 is hypometabolic with a normalised probability of 0.71\n",
      "When b38 is hypometabolic, b21 is hypometabolic with a normalised probability of 0.69\n",
      "When b21 is hypometabolic, b38 is hypometabolic with a normalised probability of 0.69\n",
      "When b8 is hypometabolic, b6 is hypometabolic with a normalised probability of 0.69\n",
      "When b24 is hypometabolic, b32 is hypometabolic with a normalised probability of 0.69\n",
      "When b28 is hypometabolic, b35 is hypometabolic with a normalised probability of 0.69\n",
      "When b11 is hypometabolic, b25 is hypometabolic with a normalised probability of 0.68\n",
      "When b35 is hypometabolic, b28 is hypometabolic with a normalised probability of 0.67\n",
      "When b27 is hypometabolic, b43 is hypometabolic with a normalised probability of 0.67\n",
      "When b6 is hypometabolic, b9 is hypometabolic with a normalised probability of 0.66\n"
     ]
    }
   ],
   "source": [
    "rules_brodmann_11_FTD = rd.define_rules_normalised(Y_brodmann_quan_FTD,30,'non-hierarchical','hypometabolic','hypometabolic',0.65)\n",
    "rd.print_rules_normalised(rules_brodmann_11_FTD,'hypometabolic','hypometabolic')"
   ]
  },
  {
   "cell_type": "markdown",
   "metadata": {
    "hidden": true
   },
   "source": [
    "*Control*"
   ]
  },
  {
   "cell_type": "code",
   "execution_count": 17,
   "metadata": {
    "hidden": true
   },
   "outputs": [
    {
     "name": "stdout",
     "output_type": "stream",
     "text": [
      "When b10 is hypometabolic, b47 is hypometabolic with a normalised probability of 1.0\n",
      "When b47 is hypometabolic, b10 is hypometabolic with a normalised probability of 1.0\n",
      "When b17 is hypometabolic, b37 is hypometabolic with a normalised probability of 1.0\n",
      "When b37 is hypometabolic, b17 is hypometabolic with a normalised probability of 1.0\n",
      "When b2 is hypometabolic, b29 is hypometabolic with a normalised probability of 1.0\n",
      "When b23 is hypometabolic, b45 is hypometabolic with a normalised probability of 1.0\n",
      "When b29 is hypometabolic, b2 is hypometabolic with a normalised probability of 1.0\n",
      "When b44 is hypometabolic, b46 is hypometabolic with a normalised probability of 1.0\n",
      "When b45 is hypometabolic, b23 is hypometabolic with a normalised probability of 1.0\n",
      "When b46 is hypometabolic, b44 is hypometabolic with a normalised probability of 1.0\n"
     ]
    }
   ],
   "source": [
    "rules_brodmann_11_CT = rd.define_rules_normalised(Y_brodmann_quan_CT,30,'non-hierarchical','hypometabolic','hypometabolic',0.70)\n",
    "rd.print_rules_normalised(rules_brodmann_11_CT,'hypometabolic','hypometabolic')"
   ]
  },
  {
   "cell_type": "markdown",
   "metadata": {
    "heading_collapsed": true
   },
   "source": [
    "### Conclusions"
   ]
  },
  {
   "cell_type": "markdown",
   "metadata": {
    "hidden": true
   },
   "source": [
    "The development of these rules gives a lot of information that might be of interest. \n",
    "\n",
    "One thing we notice is that the **relations of equivalence (both regions have the same metabolism) are much more remarkable than the relations of unequivalence (each region has a different metabolism)**. This makes sense since no disease would increase the metabolism of a region while decreasing that of another one. Although the most probable relations are those between non-hypometabolism and non-hypometabolism, **we are more interested in the relations between hypometabolism and hypometabolism as they are probably related with the expansion of the disease**. Therefore, conclusions will only be related with this type of relation.\n",
    "\n",
    "Another thing we notice is that **relations are more abundant when we isolate patients of the same condition**. When all of them are together, very few patterns remain. When they are separated, the patterns characteristic from each condition arise. This demonstrates that each condition has its own particular relations between brain regions. "
   ]
  },
  {
   "cell_type": "markdown",
   "metadata": {
    "heading_collapsed": true,
    "hidden": true
   },
   "source": [
    "#### AAL atlas (90 regions)"
   ]
  },
  {
   "cell_type": "markdown",
   "metadata": {
    "hidden": true
   },
   "source": [
    "The advantage of using the AAL atlas is that we can have information regarding both hemispheres. Regarding this, we can appreciate two phenomena: (I) **the relations between the same region in different hemispheres are common**, (II) **the relations between different regions often happen within the same hemisphere**. In the following summary, we include the hemisphere in brackets: right (R), left (L), both (B)."
   ]
  },
  {
   "cell_type": "markdown",
   "metadata": {
    "heading_collapsed": true,
    "hidden": true
   },
   "source": [
    "##### All patients"
   ]
  },
  {
   "cell_type": "markdown",
   "metadata": {
    "hidden": true
   },
   "source": [
    "- Within the **frontal lobe**:\n",
    "    - GR (L) (rectus gyrus) &harr; GR (R) (rectus gyrus)\n",
    "    - ACIN (L) (anterior cingulate gyrus) &harr; ACIN (R) (anterior cingulate gyrus)\n",
    "- Within the **temporal lobe**: \n",
    "    - T2 (R) (middle temporal gyrus) &harr; T3 (R) (inferior temporal gyrus)"
   ]
  },
  {
   "cell_type": "markdown",
   "metadata": {
    "heading_collapsed": true,
    "hidden": true
   },
   "source": [
    "##### Alzheimer disease patients"
   ]
  },
  {
   "cell_type": "markdown",
   "metadata": {
    "hidden": true
   },
   "source": [
    "- Withing the **parietal lobe**: \n",
    "    - P2 (L) (inferior parietal gyrus) &rarr; AG (L) (angular gyrus)\n",
    "    - PCIN (L) (posterior cingulate gyrus) &rarr; PCIN (R) (posterior cingulate gyrus)\n",
    "- Within the **temporal lobe**: \n",
    "    - T2 (R) (middle temporal gyrus) &harr; T3 (R) (inferior temporal gyrus)\n",
    "    - T3 (L) (inferior temporal gyrus) &rarr; T2 (L) (middle temporal gyrus)\n",
    "- Within the **subcortical region**: \n",
    "    - PUT (L) (lenticular nucleus, putamen) &rarr; PAL (L) (lenticular nucleus, pallidum)\n",
    "    - PAL (R) (lenticular nucleus, pallidum) &rarr; PAL (L) (lenticular nucleus, pallidum)\n",
    "- Between the **parietal lobe and occipital lobe**: \n",
    "    - AG (R) (angular gyrus) &harr; O2 (R) (middle occipital gyrus)\n",
    "- Between the **temporal lobe and occipital lobe**: \n",
    "    - T2 (R) (middle temporal gyrus) &rarr; O2 (R) (middle occipital gyrus)"
   ]
  },
  {
   "cell_type": "markdown",
   "metadata": {
    "heading_collapsed": true,
    "hidden": true
   },
   "source": [
    "##### Frontotemporal demential patients"
   ]
  },
  {
   "cell_type": "markdown",
   "metadata": {
    "hidden": true
   },
   "source": [
    "- Within the **frontal lobe**:\n",
    "    - F1 (L) (superior frontal gyrus) &harr; F2 (L) (middle frontal gyrus)\n",
    "    - F1 (R) (superior frontal gyrus) &harr; F2 (R) (middle frontal gyrus)\n",
    "    - F1 (R) (superior frontal gyrus) &harr; F1M (R) (superior frontal gyrus, medial part)\n",
    "    - F1M (L) (superior frontal gyrus, medial part) &rarr; F1 (L) (superior frontal gyrus)\n",
    "    - F1M (R) (superior frontal gyrus, medial part) &harr; F2 (R) (middle frontal gyrus)\n",
    "    - F1O (L) (superior frontal gyrus, orbital part) &harr; F1O (R) (superior frontal gyrus, orbital part)\n",
    "    - F1O (L) (superior frontal gyrus, orbital part) &harr; GR (L) (rectus gyrus)\n",
    "    - F1O (R) (superior frontal gyrus, orbital part) &harr; GR (R) (rectus gyrus)\n",
    "    - F2 (R) (middle frontal gyrus) &rarr; F3OP (R) (inferior frontal gyrus, opercular part)\n",
    "    - F3T (L) (inferior frontal gyrus, triangular part) &harr; F3O (L) (inferior frontal gyrus, orbital part)\n",
    "    - GR (L) (rectus gyrus) &rarr; F1O (R) (superior frontal gyrus, orbital part)\n",
    "    - GR (L) (rectus gyrus) &harr; GR (R) (rectus gyrus)\n",
    "    - ACIN (L) (anterior cingulate gyrus) &harr; ACIN (R) (anterior cingulate gyrus)\n",
    "- Within the **occipital lobe**: \n",
    "    - LING (R) (lingual gyrus) &rarr; V1 (R) (calcarine fissure)\n",
    "- Within the **temporal lobe**:\n",
    "    - T1P (L) (superior temporal gyrus, temporal pole) &rarr; T2P (L) (middle temporal gyrus, temporal pole)\n",
    "    - T3 (L) (inferior temporal gyrus) &rarr; T2 (L) (middle temporal gyrus)\n",
    "    - T3 (R) (inferior temporal gyrus) &rarr; T2P (R) (middle temporal gyrus, temporal pole)\n",
    "    - T3 (R) (inferior temporal gyrus) &harr; FUSI (R) (fusiform gyrus)\n",
    "    - FUSI (R) (fusiform gyrus) &harr; PHIP (R) (parahippocampus gyrus)\n",
    "    - HIP (R) (hippocampus) &harr; PHIP (R) (parahippocampal gyrus)"
   ]
  },
  {
   "cell_type": "markdown",
   "metadata": {
    "heading_collapsed": true,
    "hidden": true
   },
   "source": [
    "##### Control patients"
   ]
  },
  {
   "cell_type": "markdown",
   "metadata": {
    "hidden": true
   },
   "source": [
    "- Within the **frontal lobe**: \n",
    "    - F1M (L) (superior frontal gyrus, medial part) &harr; F1M (R) (superior frontal gyrus, medial part)\n",
    "    - ACIN (L) (anterior cingulate gyrus) &harr; ACIN (R) (anterior cingulate gyrus)\n",
    "- Within the **occipital lobe**: \n",
    "    - Q (R) (cuneus) &harr; LING (R) (lingual gyrus)\n",
    "- Within the **temporal lobe**:\n",
    "    - FUSI (L) (fusiform gyrus) &harr; AMYG (R) (amygdala)\n",
    "- Between the **parietal lobe and temporal lobe**: \n",
    "    - RO (R) (rolandic operculum) &harr; HES (R) (heschl gyrus)\n",
    "    - PCIN (L) (posterior cingulate region) &harr; HES (L) (heschl gyrus)\n",
    "- Between the **parietal lobe and subcortical region**: \n",
    "    - PCIN (L) (posterior cingulate region) &harr; THA (R) (thalamus)\n",
    "- Between the **temporal lobe and frontal lobe**: \n",
    "    - T1P (L) (superior temporal gyrus, temporal pole) &rarr; F3O (L) (inferior frontal gyrus, orbital part)\n",
    "- Between the **temporal lobe and subcortical region**: \n",
    "    - HES (L) (heschl gyrus) &harr; THA (R) (thalamus)"
   ]
  },
  {
   "cell_type": "markdown",
   "metadata": {
    "heading_collapsed": true,
    "hidden": true
   },
   "source": [
    "#### Brodmann atlas (47 regions)"
   ]
  },
  {
   "cell_type": "markdown",
   "metadata": {
    "heading_collapsed": true,
    "hidden": true
   },
   "source": [
    "##### All patients"
   ]
  },
  {
   "cell_type": "markdown",
   "metadata": {
    "hidden": true
   },
   "source": [
    "- Within the **temporal lobe**:\n",
    "    - B20 (inferior temporal gyrus) &harr; B21 (middle temporal gyrus)"
   ]
  },
  {
   "cell_type": "markdown",
   "metadata": {
    "heading_collapsed": true,
    "hidden": true
   },
   "source": [
    "##### Alzheimer disease patients"
   ]
  },
  {
   "cell_type": "markdown",
   "metadata": {
    "hidden": true
   },
   "source": [
    "- Within the **parietal lobe**: \n",
    "    - B3 (primary somatosensory cortex) &rarr; B1 (primary somatosensory cortex)\n",
    "    - B39 (angular gyrus) &harr; B40 (supramarginal gyrus)\n",
    "- Within the **temporal lobe**:\n",
    "    - B20 (inferior temporal gyrus) &harr; B21 (middle temporal gyrus)\n",
    "    - B20 (inferior temporal gyrus) &harr; B37 (fusiform gyrus)\n",
    "    - B21 (middle temporal gyrus) &harr; B22 (superior temporal gyrus)\n",
    "    - B21 (middle temporal gyrus) &harr; B37 (fusiform gyrus)\n",
    "- Between the **occipital lobe and temporal lobe**: \n",
    "    - B19 (associative visual cortex) &harr; B37 (fusiform gyrus)\n",
    "- Between the **temporal lobe and parietal lobe**:\n",
    "    - B20 (inferior temporal gyrus) &rarr; B39 (angular gyrus)\n",
    "    - B21 (middle temporal gyrus) &rarr; B39 (angular gyrus)\n",
    "    - B37 (fusiform gyrus) &harr; B39 (angular gyrus)"
   ]
  },
  {
   "cell_type": "markdown",
   "metadata": {
    "heading_collapsed": true,
    "hidden": true
   },
   "source": [
    "##### Frontotemporal demential patients"
   ]
  },
  {
   "cell_type": "markdown",
   "metadata": {
    "hidden": true
   },
   "source": [
    "- Within the **frontal lobe**:\n",
    "    - B6 (premotor and supplementary motor cortex) &harr; B8 (frontal cortex)\n",
    "    - B6 (premotor and supplementary motor cortex) &rarr; B9 (dorsolateral prefrontal cortex)\n",
    "    - B11 (orbitofrontal area) &rarr; B25 (ventromedial prefrontal cortex)\n",
    "    - B11 (orbitofrontal area) &rarr; B45 (broca's area)\n",
    "    - B11 (orbitofrontal area) &harr; B47 (inferior frontal gyrus, orbital part)\n",
    "    - B24 (ventral anterior cingulate cortex) &harr; B32 (dorsal anterior cingulate cortex)\n",
    "    - B45 (broca's area) &harr; B46 (dorsolateral prefrontal cortex)\n",
    "- Within the **temporal lobe**: \n",
    "    - B20 (inferior temporal gyrus) &harr; B21 (middle temporal gyrus)\n",
    "    - B21 (middle temporal gyrus) &harr; B38 (temporopolar area)\n",
    "    - B28 (ventral entorhinal cortex) &harr; B35 (perirhinal cortex)\n",
    "    - B28 (ventral entorhinal cortex) &harr; B36 (perirhinal cortex)\n",
    "    - B35 (perirhinal cortex) &harr; B36 (perirhinal cortex)\n",
    "- Between the **temporal lobe and parietal lobe**: \n",
    "    - B27 (piriform cortex) &harr; B43 (primary gustatory cortex)"
   ]
  },
  {
   "cell_type": "markdown",
   "metadata": {
    "heading_collapsed": true,
    "hidden": true
   },
   "source": [
    "##### Control patients"
   ]
  },
  {
   "cell_type": "markdown",
   "metadata": {
    "hidden": true
   },
   "source": [
    "- Within the **frontal lobe**:\n",
    "    - B10 (anterior prefrontal cortex) &harr; B47 (inferior frontal gyrus, orbital part)\n",
    "    - B44 (broca's area) &harr; B46 (dorsolateral prefrontal cortex)\n",
    "- Between the **frontal lobe and parietal lobe**:\n",
    "    - B29 (retrosplenial cortex) &harr; B2 (primary somatosensory cortex)\n",
    "    - B45 (broca's area) &harr; B23 (ventral posterior cingulate cortex)\n",
    "- Between the **occipital lobe and temporal lobe**: \n",
    "    - B17 (primary visual cortex) &harr; B37 (gusiform gyrus)"
   ]
  }
 ],
 "metadata": {
  "kernelspec": {
   "display_name": "Python 3",
   "language": "python",
   "name": "python3"
  },
  "language_info": {
   "codemirror_mode": {
    "name": "ipython",
    "version": 3
   },
   "file_extension": ".py",
   "mimetype": "text/x-python",
   "name": "python",
   "nbconvert_exporter": "python",
   "pygments_lexer": "ipython3",
   "version": "3.7.6"
  }
 },
 "nbformat": 4,
 "nbformat_minor": 4
}
