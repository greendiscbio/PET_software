{
 "cells": [
  {
   "cell_type": "markdown",
   "metadata": {},
   "source": [
    "# Exploration of probabilistic rules"
   ]
  },
  {
   "cell_type": "markdown",
   "metadata": {},
   "source": [
    "This notebook explores the ruling approach approach and applies it to different datasets, considering several binary thresholds."
   ]
  },
  {
   "cell_type": "markdown",
   "metadata": {
    "heading_collapsed": true
   },
   "source": [
    "### Brief explanation"
   ]
  },
  {
   "cell_type": "markdown",
   "metadata": {
    "hidden": true
   },
   "source": [
    "The basic idea behind this approach is that we can use the PET data available in our database to develop automatic causal rules. These are of three types:\n",
    "\n",
    "**Absolute rules**: *'if region A is hypometabolic/non-hypometabolic, region B is hypometabolic/non-hypometabolic with a probability p'*.\n",
    "\n",
    "We ilustrate it with the example *'if region A is hypometabolic, then region B is hypometabolic with a probability p'*.\n",
    "\n",
    "1. We calculate the number of patients in which region A is hypometabolic.\n",
    "2. We calculate the number of patients in which region B is hypometabolic, being region A hypometabolic.\n",
    "3. We divide both quantities to obtain the probability of region B being hypometabolic when region A is hypometabolic.\n",
    "4. If this probability is above a given threshold, we generate the rule.\n",
    "\n",
    "**Normalised rules**: they are similar to the absolute rules but normalise the probabilities so to outline real relations and discard noise.\n",
    "\n",
    "We ilustrate it with the example *'if region A is hypometabolic, then region B is hypometabolic with a probability p'*.\n",
    "\n",
    "1. We calculate the number of patients in which region A is hypometabolic.\n",
    "2. We calculate the number of patients in which region B is hypometabolic, being region A hypometabolic.\n",
    "3. We calculate the number of patients in which region B is hypometabolic, being region A non-hypometabolic.\n",
    "4. We substract quantity 3 to quantity 2 to obtain a normalised count of region B being hypometabolic when region A is hypometabolic.\n",
    "5. We divide quantity 4 with quantity 1 to obtain the normalised probability of region B being hypometabolic when region A is hypometabolic.\n",
    "6. If this probability is above a given threshold, we generate the rule.\n",
    "\n",
    "**Relative rules**: *'region A and region B have equal/unequal metabolism with a probability p'*.\n",
    "\n",
    "We ilustrate it with the example *'region A and region B have equal metabolism with a probability p'*.\n",
    "\n",
    "1. We calculate the number of patients\n",
    "2. We calculate the number of patients in which region A has the same metabolism as region B.\n",
    "3. We divide both quantities to obtain the probabilitiy of region A having the same metabolism as region B.\n",
    "4. If this probability is above a given threshold, we generate the rule.\n",
    "\n",
    "The rules can be defined with two different strategies: **'non-hierarchical'** means that we look for relations between all regions; **'hierarchical'** means that we only look for relations between one region and those with lower hierarchy. For example, if we are looking for hypometabolism-hypometabolism relations, we only define rules from more hypometabolic regions to less hypometabolic regions. In this way, we try to follow the logic behind the disease. When considering normalised rules, there is not much difference between using one or another strategy."
   ]
  },
  {
   "cell_type": "markdown",
   "metadata": {
    "heading_collapsed": true
   },
   "source": [
    "### Import the packages"
   ]
  },
  {
   "cell_type": "code",
   "execution_count": 1,
   "metadata": {
    "hidden": true
   },
   "outputs": [],
   "source": [
    "import warnings\n",
    "import sys\n",
    "sys.path.insert(0,'../../Tools')\n",
    "from prtools import *\n",
    "da = Datasets()\n",
    "rd = RuleDefinition()"
   ]
  },
  {
   "cell_type": "code",
   "execution_count": 2,
   "metadata": {},
   "outputs": [],
   "source": [
    "warnings.filterwarnings('ignore')"
   ]
  },
  {
   "cell_type": "markdown",
   "metadata": {
    "heading_collapsed": true
   },
   "source": [
    "### Prepare the datasets"
   ]
  },
  {
   "cell_type": "code",
   "execution_count": 3,
   "metadata": {
    "hidden": true
   },
   "outputs": [],
   "source": [
    "Y_aal_quan = pandas.read_csv('../../Data/Y_aal_quan.csv')\n",
	"Y_aal_quan.drop(['f1mo_l','f1mo_r'],axis=1,inplace=True)\n",
    "Y_aal_quan_diag = pandas.read_csv('../../Data/Y_aal_quan_diag.csv')\n",
	"Y_aal_quan_diag.drop(['f1mo_l','f1mo_r'],axis=1,inplace=True)\n",
    "Y_brodmann_quan = pandas.read_csv('../../Data/Y_brodmann_quan.csv')\n",
    "Y_brodmann_quan_diag = pandas.read_csv('../../Data/Y_brodmann_quan_diag.csv')\n",
    "\n",
    "Y_aal_quan_AD = da.filter_diagnosis(Y_aal_quan_diag,[5,7,17])\n",
    "Y_aal_quan_FTD = da.filter_diagnosis(Y_aal_quan_diag,[3])\n",
    "Y_aal_quan_CT = da.filter_diagnosis(Y_aal_quan_diag,[13,16])\n",
    "Y_brodmann_quan_AD = da.filter_diagnosis(Y_brodmann_quan_diag,[5,7,17])\n",
    "Y_brodmann_quan_FTD = da.filter_diagnosis(Y_brodmann_quan_diag,[3])\n",
    "Y_brodmann_quan_CT = da.filter_diagnosis(Y_brodmann_quan_diag,[13,16])"
   ]
  },
  {
   "cell_type": "markdown",
   "metadata": {
    "heading_collapsed": true
   },
   "source": [
    "### General rules"
   ]
  },
  {
   "cell_type": "markdown",
   "metadata": {
    "hidden": true
   },
   "source": [
    "These normalised rules are defined with the whole dataset. We show all the possible relations involving hypometabolism and non-hypometabolism."
   ]
  },
  {
   "cell_type": "markdown",
   "metadata": {
    "heading_collapsed": true,
    "hidden": true
   },
   "source": [
    "#### AAL atlas (90 regions)"
   ]
  },
  {
   "cell_type": "markdown",
   "metadata": {
    "hidden": true
   },
   "source": [
    "*Hypometabolic - Hypometabolic*"
   ]
  },
  {
   "cell_type": "code",
   "execution_count": 4,
   "metadata": {
    "hidden": true
   },
   "outputs": [
    {
     "name": "stdout",
     "output_type": "stream",
     "text": [
      "When gr_r is hypometabolic, gr_l is hypometabolic with a normalised probability of 0.796\n",
      "When gr_l is hypometabolic, gr_r is hypometabolic with a normalised probability of 0.7899999999999999\n",
      "When t2_r is hypometabolic, t3_r is hypometabolic with a normalised probability of 0.702\n",
      "When t3_r is hypometabolic, t2_r is hypometabolic with a normalised probability of 0.6940000000000001\n",
      "When t3_l is hypometabolic, t2_l is hypometabolic with a normalised probability of 0.642\n",
      "When acin_l is hypometabolic, acin_r is hypometabolic with a normalised probability of 0.6219999999999999\n",
      "When f2_l is hypometabolic, f1_l is hypometabolic with a normalised probability of 0.62\n",
      "When ag_r is hypometabolic, p2_r is hypometabolic with a normalised probability of 0.618\n",
      "When t2_l is hypometabolic, t3_l is hypometabolic with a normalised probability of 0.602\n"
     ]
    }
   ],
   "source": [
    "rules_aal_11 = rd.define_rules_normalised_constant(Y_aal_quan,[30,60,100,150,210],'non-hierarchical','hypometabolic','hypometabolic',0.60)[2]\n",
    "rd.print_rules_normalised(rules_aal_11,'hypometabolic','hypometabolic')"
   ]
  },
  {
   "cell_type": "markdown",
   "metadata": {
    "hidden": true
   },
   "source": [
    "*Non-hypometabolic - Non-hypometabolic*"
   ]
  },
  {
   "cell_type": "code",
   "execution_count": 5,
   "metadata": {
    "hidden": true
   },
   "outputs": [
    {
     "name": "stdout",
     "output_type": "stream",
     "text": [
      "When amyg_l is non-hypometabolic, amyg_r is non-hypometabolic with a normalised probability of 0.9879999999999999\n",
      "When amyg_r is non-hypometabolic, amyg_l is non-hypometabolic with a normalised probability of 0.9879999999999999\n",
      "When amyg_l is non-hypometabolic, pal_r is non-hypometabolic with a normalised probability of 0.984\n",
      "When pal_l is non-hypometabolic, pal_r is non-hypometabolic with a normalised probability of 0.984\n",
      "When pal_r is non-hypometabolic, amyg_l is non-hypometabolic with a normalised probability of 0.984\n",
      "When pal_r is non-hypometabolic, pal_l is non-hypometabolic with a normalised probability of 0.984\n",
      "When amyg_l is non-hypometabolic, pcl_r is non-hypometabolic with a normalised probability of 0.982\n",
      "When amyg_l is non-hypometabolic, pal_l is non-hypometabolic with a normalised probability of 0.982\n",
      "When pcl_r is non-hypometabolic, amyg_l is non-hypometabolic with a normalised probability of 0.982\n",
      "When pal_l is non-hypometabolic, amyg_l is non-hypometabolic with a normalised probability of 0.982\n",
      "When pal_r is non-hypometabolic, amyg_r is non-hypometabolic with a normalised probability of 0.982\n",
      "When amyg_r is non-hypometabolic, pal_r is non-hypometabolic with a normalised probability of 0.982\n",
      "When pal_l is non-hypometabolic, put_l is non-hypometabolic with a normalised probability of 0.9799999999999999\n",
      "When pal_r is non-hypometabolic, put_r is non-hypometabolic with a normalised probability of 0.978\n",
      "When put_r is non-hypometabolic, pal_r is non-hypometabolic with a normalised probability of 0.978\n",
      "When oc_l is non-hypometabolic, oc_r is non-hypometabolic with a normalised probability of 0.978\n",
      "When pal_l is non-hypometabolic, amyg_r is non-hypometabolic with a normalised probability of 0.976\n",
      "When amyg_r is non-hypometabolic, pal_l is non-hypometabolic with a normalised probability of 0.976\n",
      "When put_l is non-hypometabolic, pal_l is non-hypometabolic with a normalised probability of 0.976\n",
      "When oc_r is non-hypometabolic, oc_l is non-hypometabolic with a normalised probability of 0.976\n",
      "When gr_l is non-hypometabolic, gr_r is non-hypometabolic with a normalised probability of 0.976\n",
      "When gr_r is non-hypometabolic, gr_l is non-hypometabolic with a normalised probability of 0.976\n",
      "When pcl_r is non-hypometabolic, pal_l is non-hypometabolic with a normalised probability of 0.974\n",
      "When pcl_r is non-hypometabolic, pal_r is non-hypometabolic with a normalised probability of 0.974\n",
      "When pal_l is non-hypometabolic, pcl_r is non-hypometabolic with a normalised probability of 0.974\n",
      "When pal_r is non-hypometabolic, pcl_r is non-hypometabolic with a normalised probability of 0.974\n",
      "When hes_l is non-hypometabolic, ro_l is non-hypometabolic with a normalised probability of 0.974\n",
      "When ro_l is non-hypometabolic, hes_l is non-hypometabolic with a normalised probability of 0.974\n",
      "When pcl_r is non-hypometabolic, amyg_r is non-hypometabolic with a normalised probability of 0.9720000000000001\n",
      "When amyg_r is non-hypometabolic, pcl_r is non-hypometabolic with a normalised probability of 0.9720000000000001\n",
      "When hes_r is non-hypometabolic, ro_r is non-hypometabolic with a normalised probability of 0.9719999999999999\n",
      "When hes_r is non-hypometabolic, hes_l is non-hypometabolic with a normalised probability of 0.9700000000000001\n",
      "When hes_l is non-hypometabolic, hes_r is non-hypometabolic with a normalised probability of 0.9700000000000001\n",
      "When amyg_l is non-hypometabolic, put_l is non-hypometabolic with a normalised probability of 0.97\n",
      "When pal_r is non-hypometabolic, put_l is non-hypometabolic with a normalised probability of 0.97\n",
      "When put_l is non-hypometabolic, amyg_l is non-hypometabolic with a normalised probability of 0.97\n",
      "When put_l is non-hypometabolic, pal_r is non-hypometabolic with a normalised probability of 0.97\n",
      "When ro_r is non-hypometabolic, hes_r is non-hypometabolic with a normalised probability of 0.97\n",
      "When amyg_l is non-hypometabolic, hes_r is non-hypometabolic with a normalised probability of 0.968\n",
      "When amyg_l is non-hypometabolic, hes_l is non-hypometabolic with a normalised probability of 0.968\n",
      "When pcl_r is non-hypometabolic, hes_l is non-hypometabolic with a normalised probability of 0.968\n",
      "When pal_l is non-hypometabolic, hes_l is non-hypometabolic with a normalised probability of 0.968\n",
      "When hes_l is non-hypometabolic, amyg_l is non-hypometabolic with a normalised probability of 0.968\n",
      "When hes_l is non-hypometabolic, pcl_r is non-hypometabolic with a normalised probability of 0.968\n",
      "When hes_l is non-hypometabolic, pal_l is non-hypometabolic with a normalised probability of 0.968\n",
      "When amyg_l is non-hypometabolic, oc_l is non-hypometabolic with a normalised probability of 0.966\n",
      "When amyg_l is non-hypometabolic, hip_l is non-hypometabolic with a normalised probability of 0.966\n",
      "When pal_l is non-hypometabolic, put_r is non-hypometabolic with a normalised probability of 0.966\n",
      "When pal_l is non-hypometabolic, ro_l is non-hypometabolic with a normalised probability of 0.966\n",
      "When pal_l is non-hypometabolic, oc_l is non-hypometabolic with a normalised probability of 0.966\n",
      "When pal_r is non-hypometabolic, hes_l is non-hypometabolic with a normalised probability of 0.966\n",
      "When hes_r is non-hypometabolic, amyg_l is non-hypometabolic with a normalised probability of 0.966\n",
      "When hes_r is non-hypometabolic, ro_l is non-hypometabolic with a normalised probability of 0.966\n",
      "When hes_l is non-hypometabolic, pal_r is non-hypometabolic with a normalised probability of 0.966\n",
      "When put_l is non-hypometabolic, put_r is non-hypometabolic with a normalised probability of 0.966\n",
      "When put_r is non-hypometabolic, pal_l is non-hypometabolic with a normalised probability of 0.966\n",
      "When put_r is non-hypometabolic, put_l is non-hypometabolic with a normalised probability of 0.966\n",
      "When ro_l is non-hypometabolic, pal_l is non-hypometabolic with a normalised probability of 0.966\n",
      "When ro_l is non-hypometabolic, hes_r is non-hypometabolic with a normalised probability of 0.966\n",
      "When oc_l is non-hypometabolic, pal_l is non-hypometabolic with a normalised probability of 0.966\n",
      "When hip_l is non-hypometabolic, amyg_l is non-hypometabolic with a normalised probability of 0.966\n",
      "When pcl_r is non-hypometabolic, hes_r is non-hypometabolic with a normalised probability of 0.9640000000000001\n",
      "When pcl_r is non-hypometabolic, pcl_l is non-hypometabolic with a normalised probability of 0.9640000000000001\n",
      "When hes_r is non-hypometabolic, pcl_r is non-hypometabolic with a normalised probability of 0.9640000000000001\n",
      "When amyg_r is non-hypometabolic, put_r is non-hypometabolic with a normalised probability of 0.9640000000000001\n",
      "When amyg_r is non-hypometabolic, oc_l is non-hypometabolic with a normalised probability of 0.9640000000000001\n",
      "When put_r is non-hypometabolic, amyg_r is non-hypometabolic with a normalised probability of 0.9640000000000001\n",
      "When oc_l is non-hypometabolic, amyg_r is non-hypometabolic with a normalised probability of 0.9640000000000001\n",
      "When pal_r is non-hypometabolic, hes_r is non-hypometabolic with a normalised probability of 0.9639999999999999\n",
      "When hes_r is non-hypometabolic, pal_r is non-hypometabolic with a normalised probability of 0.9639999999999999\n",
      "When put_l is non-hypometabolic, oc_l is non-hypometabolic with a normalised probability of 0.9639999999999999\n",
      "When oc_l is non-hypometabolic, amyg_l is non-hypometabolic with a normalised probability of 0.9639999999999999\n",
      "When oc_l is non-hypometabolic, put_l is non-hypometabolic with a normalised probability of 0.9639999999999999\n",
      "When pcl_r is non-hypometabolic, ro_l is non-hypometabolic with a normalised probability of 0.9620000000000001\n",
      "When put_r is non-hypometabolic, cau_r is non-hypometabolic with a normalised probability of 0.9620000000000001\n",
      "When amyg_l is non-hypometabolic, put_r is non-hypometabolic with a normalised probability of 0.962\n",
      "When hes_r is non-hypometabolic, amyg_r is non-hypometabolic with a normalised probability of 0.962\n",
      "When amyg_r is non-hypometabolic, hes_r is non-hypometabolic with a normalised probability of 0.962\n",
      "When amyg_r is non-hypometabolic, hes_l is non-hypometabolic with a normalised probability of 0.962\n",
      "When amyg_r is non-hypometabolic, hip_l is non-hypometabolic with a normalised probability of 0.962\n",
      "When hes_l is non-hypometabolic, amyg_r is non-hypometabolic with a normalised probability of 0.962\n",
      "When put_r is non-hypometabolic, amyg_l is non-hypometabolic with a normalised probability of 0.962\n",
      "When hip_l is non-hypometabolic, amyg_r is non-hypometabolic with a normalised probability of 0.962\n",
      "When pcl_l is non-hypometabolic, pcl_r is non-hypometabolic with a normalised probability of 0.962\n",
      "When f2o_l is non-hypometabolic, f1o_l is non-hypometabolic with a normalised probability of 0.962\n",
      "When amyg_l is non-hypometabolic, ro_l is non-hypometabolic with a normalised probability of 0.96\n",
      "When pal_l is non-hypometabolic, hes_r is non-hypometabolic with a normalised probability of 0.96\n",
      "When pal_l is non-hypometabolic, hip_l is non-hypometabolic with a normalised probability of 0.96\n",
      "When pal_r is non-hypometabolic, oc_l is non-hypometabolic with a normalised probability of 0.96\n",
      "When hes_r is non-hypometabolic, pal_l is non-hypometabolic with a normalised probability of 0.96\n",
      "When amyg_r is non-hypometabolic, put_l is non-hypometabolic with a normalised probability of 0.96\n",
      "When put_l is non-hypometabolic, amyg_r is non-hypometabolic with a normalised probability of 0.96\n",
      "When oc_l is non-hypometabolic, pal_r is non-hypometabolic with a normalised probability of 0.96\n",
      "When hip_l is non-hypometabolic, pal_l is non-hypometabolic with a normalised probability of 0.96\n",
      "When f1o_l is non-hypometabolic, f2o_l is non-hypometabolic with a normalised probability of 0.96\n",
      "When cau_r is non-hypometabolic, put_r is non-hypometabolic with a normalised probability of 0.9599999999999997\n",
      "When pal_r is non-hypometabolic, ro_l is non-hypometabolic with a normalised probability of 0.958\n",
      "When ro_l is non-hypometabolic, amyg_l is non-hypometabolic with a normalised probability of 0.958\n",
      "When ro_l is non-hypometabolic, pcl_r is non-hypometabolic with a normalised probability of 0.958\n",
      "When ro_l is non-hypometabolic, pal_r is non-hypometabolic with a normalised probability of 0.958\n",
      "When oc_l is non-hypometabolic, cau_l is non-hypometabolic with a normalised probability of 0.958\n",
      "When cau_r is non-hypometabolic, oc_r is non-hypometabolic with a normalised probability of 0.9579999999999999\n",
      "When oc_r is non-hypometabolic, cau_r is non-hypometabolic with a normalised probability of 0.9579999999999999\n",
      "When pal_r is non-hypometabolic, hip_l is non-hypometabolic with a normalised probability of 0.9560000000000001\n",
      "When amyg_r is non-hypometabolic, oc_r is non-hypometabolic with a normalised probability of 0.9560000000000001\n",
      "When oc_r is non-hypometabolic, amyg_r is non-hypometabolic with a normalised probability of 0.9560000000000001\n",
      "When pcl_r is non-hypometabolic, put_r is non-hypometabolic with a normalised probability of 0.9559999999999998\n",
      "When cau_l is non-hypometabolic, oc_l is non-hypometabolic with a normalised probability of 0.9559999999999998\n",
      "When f2o_l is non-hypometabolic, f3o_l is non-hypometabolic with a normalised probability of 0.9559999999999998\n",
      "When f3o_l is non-hypometabolic, f2o_l is non-hypometabolic with a normalised probability of 0.9559999999999998\n",
      "When amyg_l is non-hypometabolic, oc_r is non-hypometabolic with a normalised probability of 0.9540000000000001\n",
      "When pal_r is non-hypometabolic, oc_r is non-hypometabolic with a normalised probability of 0.9540000000000001\n",
      "When oc_r is non-hypometabolic, pal_r is non-hypometabolic with a normalised probability of 0.9540000000000001\n",
      "When pcl_r is non-hypometabolic, put_l is non-hypometabolic with a normalised probability of 0.954\n",
      "When amyg_r is non-hypometabolic, ro_l is non-hypometabolic with a normalised probability of 0.954\n",
      "When put_l is non-hypometabolic, cau_l is non-hypometabolic with a normalised probability of 0.954\n",
      "When put_r is non-hypometabolic, pcl_r is non-hypometabolic with a normalised probability of 0.954\n",
      "When ro_l is non-hypometabolic, amyg_r is non-hypometabolic with a normalised probability of 0.954\n",
      "When oc_l is non-hypometabolic, cau_r is non-hypometabolic with a normalised probability of 0.954\n",
      "When hip_l is non-hypometabolic, pal_r is non-hypometabolic with a normalised probability of 0.954\n",
      "When cau_l is non-hypometabolic, put_l is non-hypometabolic with a normalised probability of 0.954\n",
      "When cau_r is non-hypometabolic, oc_l is non-hypometabolic with a normalised probability of 0.954\n",
      "When gr_l is non-hypometabolic, f1o_l is non-hypometabolic with a normalised probability of 0.954\n",
      "When f1o_l is non-hypometabolic, gr_l is non-hypometabolic with a normalised probability of 0.954\n",
      "When amyg_l is non-hypometabolic, pcl_l is non-hypometabolic with a normalised probability of 0.952\n",
      "When pal_r is non-hypometabolic, cau_r is non-hypometabolic with a normalised probability of 0.952\n",
      "When put_l is non-hypometabolic, pcl_r is non-hypometabolic with a normalised probability of 0.952\n",
      "When cau_l is non-hypometabolic, cau_r is non-hypometabolic with a normalised probability of 0.952\n",
      "When cau_r is non-hypometabolic, cau_l is non-hypometabolic with a normalised probability of 0.952\n",
      "When sma_l is non-hypometabolic, sma_r is non-hypometabolic with a normalised probability of 0.952\n",
      "When sma_r is non-hypometabolic, sma_l is non-hypometabolic with a normalised probability of 0.952\n",
      "When f2o_r is non-hypometabolic, f1o_l is non-hypometabolic with a normalised probability of 0.952\n",
      "When f1o_l is non-hypometabolic, f2o_r is non-hypometabolic with a normalised probability of 0.952\n",
      "When pcin_r is non-hypometabolic, pcin_l is non-hypometabolic with a normalised probability of 0.952\n",
      "When acin_r is non-hypometabolic, acin_l is non-hypometabolic with a normalised probability of 0.952\n",
      "When pcin_l is non-hypometabolic, pcin_r is non-hypometabolic with a normalised probability of 0.952\n"
     ]
    }
   ],
   "source": [
    "rules_aal_00 = rd.define_rules_normalised_constant(Y_aal_quan,[30,60,100,150,210],'non-hierarchical','non-hypometabolic','non-hypometabolic',0.95)[2]\n",
    "rd.print_rules_normalised(rules_aal_00,'non-hypometabolic','non-hypometabolic')"
   ]
  },
  {
   "cell_type": "markdown",
   "metadata": {
    "hidden": true
   },
   "source": [
    "*Hypometabolic - Non-hypometabolic*"
   ]
  },
  {
   "cell_type": "code",
   "execution_count": 6,
   "metadata": {
    "hidden": true
   },
   "outputs": [],
   "source": [
    "rules_aal_10 = rd.define_rules_normalised_constant(Y_aal_quan,[30,60,100,150,210],'non-hierarchical','hypometabolic','non-hypometabolic',0.60)[2]\n",
    "rd.print_rules_normalised(rules_aal_10,'hypometabolic','non-hypometabolic')"
   ]
  },
  {
   "cell_type": "markdown",
   "metadata": {
    "hidden": true
   },
   "source": [
    "*Non-hypometabolic - Hypometabolic*"
   ]
  },
  {
   "cell_type": "code",
   "execution_count": 7,
   "metadata": {
    "hidden": true
   },
   "outputs": [],
   "source": [
    "rules_aal_01 = rd.define_rules_normalised_constant(Y_aal_quan,[30,60,100,150,210],'non-hierarchical','non-hypometabolic','hypometabolic',0.60)[2]\n",
    "rd.print_rules_normalised(rules_aal_01,'non-hypometabolic','hypometabolic')"
   ]
  },
  {
   "cell_type": "markdown",
   "metadata": {
    "heading_collapsed": true,
    "hidden": true
   },
   "source": [
    "#### Brodmann atlas (47 regions)"
   ]
  },
  {
   "cell_type": "markdown",
   "metadata": {
    "hidden": true
   },
   "source": [
    "*Hypometabolic - Hypometabolic*"
   ]
  },
  {
   "cell_type": "code",
   "execution_count": 8,
   "metadata": {
    "hidden": true
   },
   "outputs": [
    {
     "name": "stdout",
     "output_type": "stream",
     "text": [
      "When b3 is hypometabolic, b4 is hypometabolic with a normalised probability of 0.746\n",
      "When b4 is hypometabolic, b3 is hypometabolic with a normalised probability of 0.7060000000000001\n",
      "When b21 is hypometabolic, b20 is hypometabolic with a normalised probability of 0.6859999999999999\n",
      "When b20 is hypometabolic, b21 is hypometabolic with a normalised probability of 0.6479999999999999\n",
      "When b47 is hypometabolic, b11 is hypometabolic with a normalised probability of 0.6100000000000001\n"
     ]
    }
   ],
   "source": [
    "rules_brodmann_11 = rd.define_rules_normalised_constant(Y_brodmann_quan,[30,60,100,150,210],'non-hierarchical','hypometabolic','hypometabolic',0.60)[2]\n",
    "rd.print_rules_normalised(rules_brodmann_11,'hypometabolic','hypometabolic')"
   ]
  },
  {
   "cell_type": "markdown",
   "metadata": {
    "hidden": true
   },
   "source": [
    "*Non-hypometabolic - Non-hypometabolic*"
   ]
  },
  {
   "cell_type": "code",
   "execution_count": 9,
   "metadata": {
    "hidden": true
   },
   "outputs": [
    {
     "name": "stdout",
     "output_type": "stream",
     "text": [
      "When b33 is non-hypometabolic, b27 is non-hypometabolic with a normalised probability of 0.9960000000000001\n",
      "When b27 is non-hypometabolic, b33 is non-hypometabolic with a normalised probability of 0.9960000000000001\n",
      "When b33 is non-hypometabolic, b29 is non-hypometabolic with a normalised probability of 0.994\n",
      "When b27 is non-hypometabolic, b29 is non-hypometabolic with a normalised probability of 0.994\n",
      "When b29 is non-hypometabolic, b33 is non-hypometabolic with a normalised probability of 0.994\n",
      "When b29 is non-hypometabolic, b27 is non-hypometabolic with a normalised probability of 0.994\n",
      "When b27 is non-hypometabolic, b43 is non-hypometabolic with a normalised probability of 0.992\n",
      "When b43 is non-hypometabolic, b27 is non-hypometabolic with a normalised probability of 0.992\n",
      "When b33 is non-hypometabolic, b43 is non-hypometabolic with a normalised probability of 0.99\n",
      "When b43 is non-hypometabolic, b33 is non-hypometabolic with a normalised probability of 0.99\n",
      "When b4 is non-hypometabolic, b3 is non-hypometabolic with a normalised probability of 0.99\n",
      "When b3 is non-hypometabolic, b4 is non-hypometabolic with a normalised probability of 0.99\n",
      "When b29 is non-hypometabolic, b43 is non-hypometabolic with a normalised probability of 0.9879999999999999\n",
      "When b43 is non-hypometabolic, b29 is non-hypometabolic with a normalised probability of 0.9879999999999999\n",
      "When b33 is non-hypometabolic, b1 is non-hypometabolic with a normalised probability of 0.986\n",
      "When b27 is non-hypometabolic, b1 is non-hypometabolic with a normalised probability of 0.986\n",
      "When b1 is non-hypometabolic, b33 is non-hypometabolic with a normalised probability of 0.986\n",
      "When b1 is non-hypometabolic, b27 is non-hypometabolic with a normalised probability of 0.986\n",
      "When b29 is non-hypometabolic, b1 is non-hypometabolic with a normalised probability of 0.984\n",
      "When b43 is non-hypometabolic, b1 is non-hypometabolic with a normalised probability of 0.984\n",
      "When b1 is non-hypometabolic, b29 is non-hypometabolic with a normalised probability of 0.984\n",
      "When b1 is non-hypometabolic, b43 is non-hypometabolic with a normalised probability of 0.984\n",
      "When b33 is non-hypometabolic, b34 is non-hypometabolic with a normalised probability of 0.982\n",
      "When b27 is non-hypometabolic, b34 is non-hypometabolic with a normalised probability of 0.982\n",
      "When b29 is non-hypometabolic, b34 is non-hypometabolic with a normalised probability of 0.982\n",
      "When b34 is non-hypometabolic, b33 is non-hypometabolic with a normalised probability of 0.982\n",
      "When b34 is non-hypometabolic, b27 is non-hypometabolic with a normalised probability of 0.982\n",
      "When b34 is non-hypometabolic, b29 is non-hypometabolic with a normalised probability of 0.982\n",
      "When b33 is non-hypometabolic, b17 is non-hypometabolic with a normalised probability of 0.9780000000000001\n",
      "When b27 is non-hypometabolic, b17 is non-hypometabolic with a normalised probability of 0.9780000000000001\n",
      "When b17 is non-hypometabolic, b33 is non-hypometabolic with a normalised probability of 0.9780000000000001\n",
      "When b17 is non-hypometabolic, b27 is non-hypometabolic with a normalised probability of 0.9780000000000001\n",
      "When b33 is non-hypometabolic, b35 is non-hypometabolic with a normalised probability of 0.978\n",
      "When b1 is non-hypometabolic, b4 is non-hypometabolic with a normalised probability of 0.978\n",
      "When b1 is non-hypometabolic, b3 is non-hypometabolic with a normalised probability of 0.978\n",
      "When b4 is non-hypometabolic, b1 is non-hypometabolic with a normalised probability of 0.978\n",
      "When b3 is non-hypometabolic, b1 is non-hypometabolic with a normalised probability of 0.978\n",
      "When b27 is non-hypometabolic, b35 is non-hypometabolic with a normalised probability of 0.976\n",
      "When b29 is non-hypometabolic, b17 is non-hypometabolic with a normalised probability of 0.976\n",
      "When b29 is non-hypometabolic, b35 is non-hypometabolic with a normalised probability of 0.976\n",
      "When b43 is non-hypometabolic, b41 is non-hypometabolic with a normalised probability of 0.976\n",
      "When b34 is non-hypometabolic, b35 is non-hypometabolic with a normalised probability of 0.976\n",
      "When b17 is non-hypometabolic, b29 is non-hypometabolic with a normalised probability of 0.976\n",
      "When b41 is non-hypometabolic, b43 is non-hypometabolic with a normalised probability of 0.976\n",
      "When b35 is non-hypometabolic, b33 is non-hypometabolic with a normalised probability of 0.976\n",
      "When b35 is non-hypometabolic, b27 is non-hypometabolic with a normalised probability of 0.976\n",
      "When b35 is non-hypometabolic, b29 is non-hypometabolic with a normalised probability of 0.976\n",
      "When b35 is non-hypometabolic, b34 is non-hypometabolic with a normalised probability of 0.976\n",
      "When b43 is non-hypometabolic, b34 is non-hypometabolic with a normalised probability of 0.974\n",
      "When b43 is non-hypometabolic, b17 is non-hypometabolic with a normalised probability of 0.974\n",
      "When b34 is non-hypometabolic, b43 is non-hypometabolic with a normalised probability of 0.974\n",
      "When b17 is non-hypometabolic, b43 is non-hypometabolic with a normalised probability of 0.974\n",
      "When b35 is non-hypometabolic, b28 is non-hypometabolic with a normalised probability of 0.974\n",
      "When b33 is non-hypometabolic, b4 is non-hypometabolic with a normalised probability of 0.9719999999999999\n",
      "When b27 is non-hypometabolic, b41 is non-hypometabolic with a normalised probability of 0.9719999999999999\n",
      "When b41 is non-hypometabolic, b27 is non-hypometabolic with a normalised probability of 0.9719999999999999\n",
      "When b28 is non-hypometabolic, b35 is non-hypometabolic with a normalised probability of 0.9719999999999999\n",
      "When b34 is non-hypometabolic, b1 is non-hypometabolic with a normalised probability of 0.9700000000000001\n",
      "When b1 is non-hypometabolic, b17 is non-hypometabolic with a normalised probability of 0.9700000000000001\n",
      "When b17 is non-hypometabolic, b1 is non-hypometabolic with a normalised probability of 0.9700000000000001\n",
      "When b33 is non-hypometabolic, b41 is non-hypometabolic with a normalised probability of 0.97\n",
      "When b27 is non-hypometabolic, b4 is non-hypometabolic with a normalised probability of 0.97\n",
      "When b29 is non-hypometabolic, b4 is non-hypometabolic with a normalised probability of 0.97\n",
      "When b29 is non-hypometabolic, b5 is non-hypometabolic with a normalised probability of 0.97\n",
      "When b43 is non-hypometabolic, b4 is non-hypometabolic with a normalised probability of 0.97\n",
      "When b4 is non-hypometabolic, b33 is non-hypometabolic with a normalised probability of 0.97\n",
      "When b4 is non-hypometabolic, b27 is non-hypometabolic with a normalised probability of 0.97\n",
      "When b4 is non-hypometabolic, b29 is non-hypometabolic with a normalised probability of 0.97\n",
      "When b4 is non-hypometabolic, b43 is non-hypometabolic with a normalised probability of 0.97\n",
      "When b41 is non-hypometabolic, b33 is non-hypometabolic with a normalised probability of 0.97\n",
      "When b33 is non-hypometabolic, b5 is non-hypometabolic with a normalised probability of 0.968\n",
      "When b27 is non-hypometabolic, b5 is non-hypometabolic with a normalised probability of 0.968\n",
      "When b43 is non-hypometabolic, b35 is non-hypometabolic with a normalised probability of 0.968\n",
      "When b1 is non-hypometabolic, b34 is non-hypometabolic with a normalised probability of 0.968\n",
      "When b5 is non-hypometabolic, b29 is non-hypometabolic with a normalised probability of 0.968\n",
      "When b33 is non-hypometabolic, b3 is non-hypometabolic with a normalised probability of 0.966\n",
      "When b27 is non-hypometabolic, b3 is non-hypometabolic with a normalised probability of 0.966\n",
      "When b29 is non-hypometabolic, b41 is non-hypometabolic with a normalised probability of 0.966\n",
      "When b29 is non-hypometabolic, b3 is non-hypometabolic with a normalised probability of 0.966\n",
      "When b29 is non-hypometabolic, b30 is non-hypometabolic with a normalised probability of 0.966\n",
      "When b43 is non-hypometabolic, b30 is non-hypometabolic with a normalised probability of 0.966\n",
      "When b43 is non-hypometabolic, b42 is non-hypometabolic with a normalised probability of 0.966\n",
      "When b34 is non-hypometabolic, b28 is non-hypometabolic with a normalised probability of 0.966\n",
      "When b1 is non-hypometabolic, b5 is non-hypometabolic with a normalised probability of 0.966\n",
      "When b3 is non-hypometabolic, b33 is non-hypometabolic with a normalised probability of 0.966\n",
      "When b3 is non-hypometabolic, b27 is non-hypometabolic with a normalised probability of 0.966\n",
      "When b3 is non-hypometabolic, b29 is non-hypometabolic with a normalised probability of 0.966\n",
      "When b35 is non-hypometabolic, b43 is non-hypometabolic with a normalised probability of 0.966\n",
      "When b5 is non-hypometabolic, b33 is non-hypometabolic with a normalised probability of 0.966\n",
      "When b5 is non-hypometabolic, b27 is non-hypometabolic with a normalised probability of 0.966\n",
      "When b28 is non-hypometabolic, b36 is non-hypometabolic with a normalised probability of 0.966\n",
      "When b27 is non-hypometabolic, b30 is non-hypometabolic with a normalised probability of 0.9640000000000001\n",
      "When b43 is non-hypometabolic, b3 is non-hypometabolic with a normalised probability of 0.9640000000000001\n",
      "When b1 is non-hypometabolic, b35 is non-hypometabolic with a normalised probability of 0.9640000000000001\n",
      "When b41 is non-hypometabolic, b42 is non-hypometabolic with a normalised probability of 0.9640000000000001\n",
      "When b3 is non-hypometabolic, b43 is non-hypometabolic with a normalised probability of 0.9640000000000001\n",
      "When b35 is non-hypometabolic, b1 is non-hypometabolic with a normalised probability of 0.9640000000000001\n",
      "When b5 is non-hypometabolic, b1 is non-hypometabolic with a normalised probability of 0.9640000000000001\n",
      "When b30 is non-hypometabolic, b29 is non-hypometabolic with a normalised probability of 0.9640000000000001\n",
      "When b30 is non-hypometabolic, b43 is non-hypometabolic with a normalised probability of 0.9640000000000001\n",
      "When b28 is non-hypometabolic, b34 is non-hypometabolic with a normalised probability of 0.9640000000000001\n",
      "When b42 is non-hypometabolic, b43 is non-hypometabolic with a normalised probability of 0.9640000000000001\n",
      "When b42 is non-hypometabolic, b41 is non-hypometabolic with a normalised probability of 0.9640000000000001\n",
      "When b33 is non-hypometabolic, b44 is non-hypometabolic with a normalised probability of 0.9639999999999999\n",
      "When b29 is non-hypometabolic, b44 is non-hypometabolic with a normalised probability of 0.9639999999999999\n",
      "When b34 is non-hypometabolic, b17 is non-hypometabolic with a normalised probability of 0.9639999999999999\n",
      "When b41 is non-hypometabolic, b29 is non-hypometabolic with a normalised probability of 0.9639999999999999\n",
      "When b44 is non-hypometabolic, b33 is non-hypometabolic with a normalised probability of 0.9639999999999999\n",
      "When b44 is non-hypometabolic, b29 is non-hypometabolic with a normalised probability of 0.9639999999999999\n",
      "When b36 is non-hypometabolic, b28 is non-hypometabolic with a normalised probability of 0.9639999999999999\n",
      "When b29 is non-hypometabolic, b23 is non-hypometabolic with a normalised probability of 0.9620000000000001\n",
      "When b43 is non-hypometabolic, b5 is non-hypometabolic with a normalised probability of 0.9620000000000001\n",
      "When b1 is non-hypometabolic, b42 is non-hypometabolic with a normalised probability of 0.9620000000000001\n",
      "When b23 is non-hypometabolic, b29 is non-hypometabolic with a normalised probability of 0.9620000000000001\n",
      "When b5 is non-hypometabolic, b43 is non-hypometabolic with a normalised probability of 0.9620000000000001\n",
      "When b33 is non-hypometabolic, b30 is non-hypometabolic with a normalised probability of 0.962\n",
      "When b27 is non-hypometabolic, b44 is non-hypometabolic with a normalised probability of 0.962\n",
      "When b1 is non-hypometabolic, b41 is non-hypometabolic with a normalised probability of 0.962\n",
      "When b17 is non-hypometabolic, b34 is non-hypometabolic with a normalised probability of 0.962\n",
      "When b41 is non-hypometabolic, b1 is non-hypometabolic with a normalised probability of 0.962\n",
      "When b44 is non-hypometabolic, b27 is non-hypometabolic with a normalised probability of 0.962\n",
      "When b30 is non-hypometabolic, b27 is non-hypometabolic with a normalised probability of 0.962\n",
      "When b17 is non-hypometabolic, b5 is non-hypometabolic with a normalised probability of 0.9600000000000002\n",
      "When b5 is non-hypometabolic, b17 is non-hypometabolic with a normalised probability of 0.9600000000000002\n",
      "When b33 is non-hypometabolic, b23 is non-hypometabolic with a normalised probability of 0.96\n",
      "When b27 is non-hypometabolic, b23 is non-hypometabolic with a normalised probability of 0.96\n",
      "When b27 is non-hypometabolic, b42 is non-hypometabolic with a normalised probability of 0.96\n",
      "When b34 is non-hypometabolic, b4 is non-hypometabolic with a normalised probability of 0.96\n",
      "When b17 is non-hypometabolic, b41 is non-hypometabolic with a normalised probability of 0.96\n",
      "When b4 is non-hypometabolic, b34 is non-hypometabolic with a normalised probability of 0.96\n",
      "When b41 is non-hypometabolic, b17 is non-hypometabolic with a normalised probability of 0.96\n",
      "When b23 is non-hypometabolic, b33 is non-hypometabolic with a normalised probability of 0.96\n",
      "When b23 is non-hypometabolic, b27 is non-hypometabolic with a normalised probability of 0.96\n",
      "When b30 is non-hypometabolic, b33 is non-hypometabolic with a normalised probability of 0.96\n",
      "When b33 is non-hypometabolic, b42 is non-hypometabolic with a normalised probability of 0.958\n",
      "When b34 is non-hypometabolic, b41 is non-hypometabolic with a normalised probability of 0.958\n",
      "When b17 is non-hypometabolic, b4 is non-hypometabolic with a normalised probability of 0.958\n",
      "When b17 is non-hypometabolic, b35 is non-hypometabolic with a normalised probability of 0.958\n",
      "When b4 is non-hypometabolic, b17 is non-hypometabolic with a normalised probability of 0.958\n",
      "When b3 is non-hypometabolic, b5 is non-hypometabolic with a normalised probability of 0.958\n",
      "When b5 is non-hypometabolic, b3 is non-hypometabolic with a normalised probability of 0.958\n",
      "When b42 is non-hypometabolic, b27 is non-hypometabolic with a normalised probability of 0.958\n",
      "When b42 is non-hypometabolic, b1 is non-hypometabolic with a normalised probability of 0.958\n",
      "When b1 is non-hypometabolic, b23 is non-hypometabolic with a normalised probability of 0.9579999999999999\n",
      "When b29 is non-hypometabolic, b42 is non-hypometabolic with a normalised probability of 0.9560000000000001\n",
      "When b43 is non-hypometabolic, b44 is non-hypometabolic with a normalised probability of 0.9560000000000001\n",
      "When b41 is non-hypometabolic, b34 is non-hypometabolic with a normalised probability of 0.9560000000000001\n",
      "When b35 is non-hypometabolic, b17 is non-hypometabolic with a normalised probability of 0.9560000000000001\n",
      "When b42 is non-hypometabolic, b33 is non-hypometabolic with a normalised probability of 0.9560000000000001\n",
      "When b1 is non-hypometabolic, b30 is non-hypometabolic with a normalised probability of 0.9559999999999998\n",
      "When b4 is non-hypometabolic, b5 is non-hypometabolic with a normalised probability of 0.9559999999999998\n",
      "When b41 is non-hypometabolic, b30 is non-hypometabolic with a normalised probability of 0.9559999999999998\n",
      "When b30 is non-hypometabolic, b41 is non-hypometabolic with a normalised probability of 0.9559999999999998\n",
      "When b34 is non-hypometabolic, b5 is non-hypometabolic with a normalised probability of 0.9540000000000001\n",
      "When b5 is non-hypometabolic, b34 is non-hypometabolic with a normalised probability of 0.9540000000000001\n",
      "When b42 is non-hypometabolic, b29 is non-hypometabolic with a normalised probability of 0.9540000000000001\n",
      "When b33 is non-hypometabolic, b28 is non-hypometabolic with a normalised probability of 0.954\n",
      "When b27 is non-hypometabolic, b28 is non-hypometabolic with a normalised probability of 0.954\n",
      "When b29 is non-hypometabolic, b28 is non-hypometabolic with a normalised probability of 0.954\n",
      "When b34 is non-hypometabolic, b3 is non-hypometabolic with a normalised probability of 0.954\n",
      "When b34 is non-hypometabolic, b30 is non-hypometabolic with a normalised probability of 0.954\n",
      "When b1 is non-hypometabolic, b44 is non-hypometabolic with a normalised probability of 0.954\n",
      "When b1 is non-hypometabolic, b2 is non-hypometabolic with a normalised probability of 0.954\n",
      "When b17 is non-hypometabolic, b3 is non-hypometabolic with a normalised probability of 0.954\n",
      "When b3 is non-hypometabolic, b17 is non-hypometabolic with a normalised probability of 0.954\n",
      "When b44 is non-hypometabolic, b1 is non-hypometabolic with a normalised probability of 0.954\n",
      "When b44 is non-hypometabolic, b45 is non-hypometabolic with a normalised probability of 0.954\n",
      "When b23 is non-hypometabolic, b1 is non-hypometabolic with a normalised probability of 0.954\n",
      "When b5 is non-hypometabolic, b4 is non-hypometabolic with a normalised probability of 0.954\n",
      "When b30 is non-hypometabolic, b1 is non-hypometabolic with a normalised probability of 0.954\n",
      "When b43 is non-hypometabolic, b23 is non-hypometabolic with a normalised probability of 0.952\n",
      "When b34 is non-hypometabolic, b44 is non-hypometabolic with a normalised probability of 0.952\n",
      "When b4 is non-hypometabolic, b35 is non-hypometabolic with a normalised probability of 0.952\n",
      "When b3 is non-hypometabolic, b34 is non-hypometabolic with a normalised probability of 0.952\n",
      "When b3 is non-hypometabolic, b2 is non-hypometabolic with a normalised probability of 0.952\n",
      "When b35 is non-hypometabolic, b36 is non-hypometabolic with a normalised probability of 0.952\n",
      "When b44 is non-hypometabolic, b43 is non-hypometabolic with a normalised probability of 0.952\n",
      "When b23 is non-hypometabolic, b43 is non-hypometabolic with a normalised probability of 0.952\n",
      "When b30 is non-hypometabolic, b34 is non-hypometabolic with a normalised probability of 0.952\n",
      "When b28 is non-hypometabolic, b33 is non-hypometabolic with a normalised probability of 0.952\n",
      "When b28 is non-hypometabolic, b27 is non-hypometabolic with a normalised probability of 0.952\n",
      "When b28 is non-hypometabolic, b29 is non-hypometabolic with a normalised probability of 0.952\n",
      "When b36 is non-hypometabolic, b35 is non-hypometabolic with a normalised probability of 0.952\n"
     ]
    }
   ],
   "source": [
    "rules_brodmann_00 = rd.define_rules_normalised_constant(Y_brodmann_quan,[30,60,100,150,210],'non-hierarchical','non-hypometabolic','non-hypometabolic',0.95)[2]\n",
    "rd.print_rules_normalised(rules_brodmann_00,'non-hypometabolic','non-hypometabolic')"
   ]
  },
  {
   "cell_type": "markdown",
   "metadata": {
    "hidden": true
   },
   "source": [
    "*Hypometabolic - Non-hypometabolic*"
   ]
  },
  {
   "cell_type": "code",
   "execution_count": 10,
   "metadata": {
    "hidden": true
   },
   "outputs": [],
   "source": [
    "rules_brodmann_10 = rd.define_rules_normalised_constant(Y_brodmann_quan,[30,60,100,150,210],'non-hierarchical','hypometabolic','non-hypometabolic',0.60)[2]\n",
    "rd.print_rules_normalised(rules_brodmann_10,'hypometabolic','non-hypometabolic')"
   ]
  },
  {
   "cell_type": "markdown",
   "metadata": {
    "hidden": true
   },
   "source": [
    "*Non-hypometabolic - Hypometabolic*"
   ]
  },
  {
   "cell_type": "code",
   "execution_count": 11,
   "metadata": {
    "hidden": true
   },
   "outputs": [],
   "source": [
    "rules_brodmann_01 = rd.define_rules_normalised_constant(Y_brodmann_quan,[30,60,100,150,210],'non-hierarchical','non-hypometabolic','hypometabolic',0.60)[2]\n",
    "rd.print_rules_normalised(rules_brodmann_01,'non-hypometabolic','hypometabolic')"
   ]
  },
  {
   "cell_type": "markdown",
   "metadata": {
    "heading_collapsed": true
   },
   "source": [
    "### Disease-specific rules"
   ]
  },
  {
   "cell_type": "markdown",
   "metadata": {
    "hidden": true
   },
   "source": [
    "These normalised rules are defined with datasets that are filtered by disease. With that, our purpose is to track the propagation of particular diseases across brain regions. We only show the relations of the type hypometabolic-hypometabolic."
   ]
  },
  {
   "cell_type": "markdown",
   "metadata": {
    "heading_collapsed": true,
    "hidden": true
   },
   "source": [
    "#### AAL atlas (90 regions)"
   ]
  },
  {
   "cell_type": "markdown",
   "metadata": {
    "hidden": true
   },
   "source": [
    "*Alzheimer disease*"
   ]
  },
  {
   "cell_type": "code",
   "execution_count": 12,
   "metadata": {
    "hidden": true
   },
   "outputs": [
    {
     "name": "stdout",
     "output_type": "stream",
     "text": [
      "When pal_r is hypometabolic, pal_l is hypometabolic with a normalised probability of 0.834\n",
      "When t3_r is hypometabolic, t2_r is hypometabolic with a normalised probability of 0.764\n",
      "When t2_r is hypometabolic, t3_r is hypometabolic with a normalised probability of 0.758\n",
      "When gr_l is hypometabolic, gr_r is hypometabolic with a normalised probability of 0.73\n",
      "When gr_r is hypometabolic, gr_l is hypometabolic with a normalised probability of 0.728\n",
      "When pal_l is hypometabolic, pal_r is hypometabolic with a normalised probability of 0.7\n",
      "When t3_l is hypometabolic, t2_l is hypometabolic with a normalised probability of 0.682\n",
      "When ag_r is hypometabolic, p2_r is hypometabolic with a normalised probability of 0.674\n",
      "When t2_r is hypometabolic, ag_r is hypometabolic with a normalised probability of 0.6519999999999999\n",
      "When t2_l is hypometabolic, t3_l is hypometabolic with a normalised probability of 0.642\n",
      "When f2o_l is hypometabolic, f3o_l is hypometabolic with a normalised probability of 0.63\n",
      "When p2_r is hypometabolic, smg_r is hypometabolic with a normalised probability of 0.622\n"
     ]
    }
   ],
   "source": [
    "rules_aal_11_AD = rd.define_rules_normalised_constant(Y_aal_quan_AD,[30,60,100,150,210],'non-hierarchical','hypometabolic','hypometabolic',0.60)[2]\n",
    "rd.print_rules_normalised(rules_aal_11_AD,'hypometabolic','hypometabolic')"
   ]
  },
  {
   "cell_type": "markdown",
   "metadata": {
    "hidden": true
   },
   "source": [
    "*Fronto-temporal dementia*"
   ]
  },
  {
   "cell_type": "code",
   "execution_count": 13,
   "metadata": {
    "hidden": true
   },
   "outputs": [
    {
     "name": "stdout",
     "output_type": "stream",
     "text": [
      "When gr_r is hypometabolic, gr_l is hypometabolic with a normalised probability of 0.8380000000000001\n",
      "When gr_l is hypometabolic, gr_r is hypometabolic with a normalised probability of 0.834\n",
      "When f2_l is hypometabolic, f1_l is hypometabolic with a normalised probability of 0.8119999999999999\n",
      "When f1_l is hypometabolic, f2_l is hypometabolic with a normalised probability of 0.8100000000000002\n",
      "When phip_r is hypometabolic, fusi_r is hypometabolic with a normalised probability of 0.742\n",
      "When fusi_r is hypometabolic, phip_r is hypometabolic with a normalised probability of 0.724\n",
      "When gr_l is hypometabolic, f1o_l is hypometabolic with a normalised probability of 0.72\n",
      "When phip_r is hypometabolic, hip_r is hypometabolic with a normalised probability of 0.704\n",
      "When gr_r is hypometabolic, f1o_r is hypometabolic with a normalised probability of 0.688\n",
      "When f3t_l is hypometabolic, f3o_l is hypometabolic with a normalised probability of 0.6859999999999999\n",
      "When f1o_l is hypometabolic, gr_l is hypometabolic with a normalised probability of 0.6859999999999999\n",
      "When t2p_r is hypometabolic, t1p_r is hypometabolic with a normalised probability of 0.6780000000000002\n",
      "When f1m_r is hypometabolic, f1_r is hypometabolic with a normalised probability of 0.6779999999999999\n",
      "When ling_r is hypometabolic, v1_r is hypometabolic with a normalised probability of 0.6759999999999999\n",
      "When f1o_r is hypometabolic, f2o_r is hypometabolic with a normalised probability of 0.674\n",
      "When f1o_l is hypometabolic, f2o_l is hypometabolic with a normalised probability of 0.6719999999999999\n",
      "When f1o_r is hypometabolic, f1o_l is hypometabolic with a normalised probability of 0.6719999999999999\n",
      "When t2_r is hypometabolic, t3_r is hypometabolic with a normalised probability of 0.67\n",
      "When v1_r is hypometabolic, ling_r is hypometabolic with a normalised probability of 0.67\n",
      "When f1o_l is hypometabolic, f1o_r is hypometabolic with a normalised probability of 0.6659999999999999\n",
      "When f1_l is hypometabolic, f1m_l is hypometabolic with a normalised probability of 0.662\n",
      "When f1_r is hypometabolic, f1m_r is hypometabolic with a normalised probability of 0.658\n",
      "When f3o_r is hypometabolic, f3t_r is hypometabolic with a normalised probability of 0.658\n",
      "When f3o_l is hypometabolic, f3t_l is hypometabolic with a normalised probability of 0.658\n",
      "When f1m_l is hypometabolic, f1_l is hypometabolic with a normalised probability of 0.6559999999999999\n",
      "When f1o_r is hypometabolic, gr_r is hypometabolic with a normalised probability of 0.6519999999999999\n",
      "When gr_r is hypometabolic, f1o_l is hypometabolic with a normalised probability of 0.646\n",
      "When f3o_r is hypometabolic, f1o_r is hypometabolic with a normalised probability of 0.644\n",
      "When fusi_l is hypometabolic, phip_l is hypometabolic with a normalised probability of 0.642\n",
      "When gr_l is hypometabolic, f1o_r is hypometabolic with a normalised probability of 0.64\n",
      "When f1o_l is hypometabolic, f2o_r is hypometabolic with a normalised probability of 0.6379999999999999\n",
      "When f2_r is hypometabolic, f1_r is hypometabolic with a normalised probability of 0.6359999999999999\n",
      "When acin_l is hypometabolic, acin_r is hypometabolic with a normalised probability of 0.626\n",
      "When t3_r is hypometabolic, t2_r is hypometabolic with a normalised probability of 0.624\n",
      "When f2o_l is hypometabolic, f1o_l is hypometabolic with a normalised probability of 0.624\n",
      "When phip_l is hypometabolic, fusi_l is hypometabolic with a normalised probability of 0.616\n",
      "When f1_r is hypometabolic, f2_r is hypometabolic with a normalised probability of 0.614\n",
      "When t1p_r is hypometabolic, t2p_r is hypometabolic with a normalised probability of 0.614\n",
      "When f1m_r is hypometabolic, f2_r is hypometabolic with a normalised probability of 0.612\n",
      "When t2p_l is hypometabolic, fusi_l is hypometabolic with a normalised probability of 0.61\n",
      "When f2_l is hypometabolic, f2_r is hypometabolic with a normalised probability of 0.604\n",
      "When f1o_r is hypometabolic, gr_l is hypometabolic with a normalised probability of 0.604\n",
      "When t2p_r is hypometabolic, phip_r is hypometabolic with a normalised probability of 0.604\n",
      "When in_l is hypometabolic, f3o_l is hypometabolic with a normalised probability of 0.6020000000000001\n",
      "When f3o_l is hypometabolic, f2o_l is hypometabolic with a normalised probability of 0.602\n"
     ]
    }
   ],
   "source": [
    "rules_aal_11_FTD = rd.define_rules_normalised_constant(Y_aal_quan_FTD,[30,60,100,150,210],'non-hierarchical','hypometabolic','hypometabolic',0.60)[2]\n",
    "rd.print_rules_normalised(rules_aal_11_FTD,'hypometabolic','hypometabolic')"
   ]
  },
  {
   "cell_type": "markdown",
   "metadata": {
    "hidden": true
   },
   "source": [
    "*Control*"
   ]
  },
  {
   "cell_type": "code",
   "execution_count": 14,
   "metadata": {
    "hidden": true
   },
   "outputs": [
    {
     "name": "stdout",
     "output_type": "stream",
     "text": [
      "When acin_l is hypometabolic, acin_r is hypometabolic with a normalised probability of 1.0\n",
      "When acin_r is hypometabolic, acin_l is hypometabolic with a normalised probability of 1.0\n",
      "When p2_r is hypometabolic, q_r is hypometabolic with a normalised probability of 0.866\n",
      "When q_r is hypometabolic, p2_r is hypometabolic with a normalised probability of 0.866\n",
      "When ag_r is hypometabolic, o3_r is hypometabolic with a normalised probability of 0.8\n",
      "When o3_r is hypometabolic, ag_r is hypometabolic with a normalised probability of 0.8\n",
      "When p2_l is hypometabolic, q_l is hypometabolic with a normalised probability of 0.708\n",
      "When mcin_l is hypometabolic, mcin_r is hypometabolic with a normalised probability of 0.704\n",
      "When p1_r is hypometabolic, pq_r is hypometabolic with a normalised probability of 0.64\n",
      "When o1_r is hypometabolic, o2_r is hypometabolic with a normalised probability of 0.616\n",
      "When t2p_l is hypometabolic, phip_r is hypometabolic with a normalised probability of 0.6060000000000001\n",
      "When ling_r is hypometabolic, q_r is hypometabolic with a normalised probability of 0.602\n"
     ]
    }
   ],
   "source": [
    "rules_aal_11_CT = rd.define_rules_normalised_constant(Y_aal_quan_CT,[30,60,100,150,210],'non-hierarchical','hypometabolic','hypometabolic',0.60)[2]\n",
    "rd.print_rules_normalised(rules_aal_11_CT,'hypometabolic','hypometabolic')"
   ]
  },
  {
   "cell_type": "markdown",
   "metadata": {
    "heading_collapsed": true,
    "hidden": true
   },
   "source": [
    "#### Brodmann atlas (47 regions)"
   ]
  },
  {
   "cell_type": "markdown",
   "metadata": {
    "hidden": true
   },
   "source": [
    "*Alzheimer disease*"
   ]
  },
  {
   "cell_type": "code",
   "execution_count": 15,
   "metadata": {
    "hidden": true
   },
   "outputs": [
    {
     "name": "stdout",
     "output_type": "stream",
     "text": [
      "When b3 is hypometabolic, b4 is hypometabolic with a normalised probability of 0.8320000000000001\n",
      "When b4 is hypometabolic, b3 is hypometabolic with a normalised probability of 0.782\n",
      "When b21 is hypometabolic, b20 is hypometabolic with a normalised probability of 0.704\n",
      "When b40 is hypometabolic, b39 is hypometabolic with a normalised probability of 0.6839999999999999\n",
      "When b20 is hypometabolic, b21 is hypometabolic with a normalised probability of 0.676\n",
      "When b21 is hypometabolic, b39 is hypometabolic with a normalised probability of 0.67\n",
      "When b39 is hypometabolic, b21 is hypometabolic with a normalised probability of 0.6679999999999999\n",
      "When b39 is hypometabolic, b40 is hypometabolic with a normalised probability of 0.658\n",
      "When b6 is hypometabolic, b8 is hypometabolic with a normalised probability of 0.652\n",
      "When b39 is hypometabolic, b37 is hypometabolic with a normalised probability of 0.6060000000000001\n"
     ]
    }
   ],
   "source": [
    "rules_brodmann_11_AD = rd.define_rules_normalised_constant(Y_brodmann_quan_AD,[30,60,100,150,210],'non-hierarchical','hypometabolic','hypometabolic',0.60)[2]\n",
    "rd.print_rules_normalised(rules_brodmann_11_AD,'hypometabolic','hypometabolic')"
   ]
  },
  {
   "cell_type": "markdown",
   "metadata": {
    "hidden": true
   },
   "source": [
    "*Fronto-temporal dementia*"
   ]
  },
  {
   "cell_type": "code",
   "execution_count": 16,
   "metadata": {
    "hidden": true
   },
   "outputs": [
    {
     "name": "stdout",
     "output_type": "stream",
     "text": [
      "When b47 is hypometabolic, b10 is hypometabolic with a normalised probability of 0.736\n",
      "When b10 is hypometabolic, b47 is hypometabolic with a normalised probability of 0.728\n",
      "When b47 is hypometabolic, b11 is hypometabolic with a normalised probability of 0.7220000000000001\n",
      "When b10 is hypometabolic, b9 is hypometabolic with a normalised probability of 0.722\n",
      "When b9 is hypometabolic, b10 is hypometabolic with a normalised probability of 0.716\n",
      "When b21 is hypometabolic, b20 is hypometabolic with a normalised probability of 0.7100000000000002\n",
      "When b9 is hypometabolic, b8 is hypometabolic with a normalised probability of 0.7100000000000001\n",
      "When b46 is hypometabolic, b45 is hypometabolic with a normalised probability of 0.674\n",
      "When b8 is hypometabolic, b9 is hypometabolic with a normalised probability of 0.6699999999999999\n",
      "When b11 is hypometabolic, b47 is hypometabolic with a normalised probability of 0.6639999999999999\n",
      "When b20 is hypometabolic, b21 is hypometabolic with a normalised probability of 0.658\n",
      "When b38 is hypometabolic, b21 is hypometabolic with a normalised probability of 0.6319999999999999\n",
      "When b8 is hypometabolic, b6 is hypometabolic with a normalised probability of 0.626\n",
      "When b10 is hypometabolic, b8 is hypometabolic with a normalised probability of 0.614\n",
      "When b21 is hypometabolic, b38 is hypometabolic with a normalised probability of 0.604\n",
      "When b10 is hypometabolic, b11 is hypometabolic with a normalised probability of 0.602\n"
     ]
    }
   ],
   "source": [
    "rules_brodmann_11_FTD = rd.define_rules_normalised_constant(Y_brodmann_quan_FTD,[30,60,100,150,210],'non-hierarchical','hypometabolic','hypometabolic',0.60)[2]\n",
    "rd.print_rules_normalised(rules_brodmann_11_FTD,'hypometabolic','hypometabolic')"
   ]
  },
  {
   "cell_type": "markdown",
   "metadata": {
    "hidden": true
   },
   "source": [
    "*Control*"
   ]
  },
  {
   "cell_type": "code",
   "execution_count": 17,
   "metadata": {
    "hidden": true
   },
   "outputs": [
    {
     "name": "stdout",
     "output_type": "stream",
     "text": [
      "When b24 is hypometabolic, b32 is hypometabolic with a normalised probability of 0.7\n",
      "When b8 is hypometabolic, b24 is hypometabolic with a normalised probability of 0.602\n"
     ]
    }
   ],
   "source": [
    "rules_brodmann_11_CT = rd.define_rules_normalised_constant(Y_brodmann_quan_CT,[30,60,100,150,210],'non-hierarchical','hypometabolic','hypometabolic',0.60)[2]\n",
    "rd.print_rules_normalised(rules_brodmann_11_CT,'hypometabolic','hypometabolic')"
   ]
  },
  {
   "cell_type": "markdown",
   "metadata": {
    "heading_collapsed": true
   },
   "source": [
    "### Conclusions"
   ]
  },
  {
   "cell_type": "markdown",
   "metadata": {
    "hidden": true
   },
   "source": [
    "The development of these rules gives a lot of information that might be of interest. \n",
    "\n",
    "One thing we notice is that the **relations of equivalence (both regions have the same metabolism) are much more remarkable than the relations of unequivalence (each region has a different metabolism)**. This makes sense since no disease would increase the metabolism of a region while decreasing that of another one. Although the most probable relations are those between non-hypometabolism and non-hypometabolism, **we are more interested in the relations between hypometabolism and hypometabolism as they are probably related with the expansion of the disease**. Therefore, conclusions will only be related with this type of relation.\n",
    "\n",
    "Another thing we notice is that **relations are more abundant when we isolate patients of the same condition**. When all of them are together, very few patterns remain. When they are separated, the patterns characteristic from each condition arise. This demonstrates that each condition has its own particular relations between brain regions. "
   ]
  },
  {
   "cell_type": "markdown",
   "metadata": {
    "heading_collapsed": true,
    "hidden": true
   },
   "source": [
    "#### AAL atlas (90 regions)"
   ]
  },
  {
   "cell_type": "markdown",
   "metadata": {
    "hidden": true
   },
   "source": [
    "The advantage of using the AAL atlas is that we can have information regarding both hemispheres. Regarding this, we can appreciate two phenomena: (I) **the relations between the same region in different hemispheres are common**, (II) **the relations between different regions often happen within the same hemisphere**. In the following summary, we include the hemisphere in brackets: right (R), left (L), both (B)."
   ]
  },
  {
   "cell_type": "markdown",
   "metadata": {
    "heading_collapsed": true,
    "hidden": true
   },
   "source": [
    "##### All patients"
   ]
  },
  {
   "cell_type": "markdown",
   "metadata": {
    "hidden": true
   },
   "source": [
    "- Within the **frontal lobe**:\n",
    "    - F2 (L) (middle frontal gyrus) &rarr; F1 (L) (superior frontal gyrus)\n",
    "    - GR (L) (rectus gyrus) &harr; GR (R) (rectus gyrus)\n",
    "    - ACIN (L) (anterior cingulate gyrus) &rarr; ACIN (R) (anterior cingulate gyrus)\n",
    "- Within the **parietal lobe**: \n",
    "    - AG (R) (angular gyrus) &rarr; P2 (R) (inferior parietal gyrus)\n",
    "- Within the **temporal lobe**: \n",
    "    - T2 (L) (middle temporal gyrus) &harr; T3 (L) (inferior temporal gyrus)\n",
    "    - T2 (R) (middle temporal gyrus) &harr; T3 (R) (inferior temporal gyrus)"
   ]
  },
  {
   "cell_type": "markdown",
   "metadata": {
    "heading_collapsed": true,
    "hidden": true
   },
   "source": [
    "##### Alzheimer disease patients"
   ]
  },
  {
   "cell_type": "markdown",
   "metadata": {
    "hidden": true
   },
   "source": [
    "- Within the **frontal lobe**:\n",
    "    - F2O (L) (middle frontal gyrus, orbital part) &rarr; F3O (L) (inferior frontal gyrus, orbital part)\n",
    "    - GR (L) (rectus gyrus) &harr; GR (R) (rectus gyrus)\n",
    "- Within the **parietal lobe**:\n",
    "    - P2 (R) (inferior parietal gyrus) &rarr; SMG (R) (supramarginal gyrus)\n",
    "    - AG (R) (angular gyrus) &rarr; P2 (R) (inferior parietal gyrus)\n",
    "- Within the **temporal lobe**:\n",
    "    - T2 (L) (middle temporal gyrus) &harr; T3 (L) (inferior temporal gyrus)\n",
    "    - T2 (R) (middle temporal gyrus) &harr; T3 (R) (inferior temporal gyrus)\n",
    "- Within the **subcortical lobe**: \n",
    "    - PAL (L) (lenticular nucleus, pallidum) &harr; PAL (R) (lenticular nucleus, pallidum)\n",
    "- Between the **temporal lobe and parietal lobe**: \n",
    "    - T2 (R) (middle temporal gyrus) &rarr; AG (R) (angular gyrus)"
   ]
  },
  {
   "cell_type": "markdown",
   "metadata": {
    "heading_collapsed": true,
    "hidden": true
   },
   "source": [
    "##### Frontotemporal demential patients"
   ]
  },
  {
   "cell_type": "markdown",
   "metadata": {
    "hidden": true
   },
   "source": [
    "- Within the **frontal lobe**:\n",
    "    - F1 (L) (superior frontal gyrus) &harr; F1M (L) (superior frontal gyrus, medial part)\n",
    "    - F1 (R) (superior frontal gyrus) &harr; F1M (R) (superior frontal gyrus, medial part)\n",
    "    - F1 (L) (superior frontal gyrus) &harr; F2 (L) (middle frontal gyrus)\n",
    "    - F1 (R) (superior frontal gyrus) &harr; F2 (R) (middle frontal gyrus)\n",
    "    - F1M (R) (superior frontal gyrus, medial part) &rarr; F2 (R) (middle frontal gyrus)\n",
    "    - F1O (L) (superior frontal gyrus, orbital part) &harr; F1O (R) (superior frontal gyrus, orbital part)\n",
    "    - F1O (L) (superior frontal gyrus, orbital part) &harr; F2O (L) (middle frontal gyrus, orbital part)\n",
    "    - F1O (L) (superior frontal gyrus, orbital part) &rarr; F2O (R) (middle frontal gyrus, orbital part)\n",
    "    - F1O (R) (superior frontal gyrus, orbital part) &rarr; F2O (R) (middle frontal gyrus, orbital part)\n",
    "    - F1O (L) (superior frontal gyrus, orbital part) &harr; GR (L) (rectus gyrus)\n",
    "    - F1O (R) (superior frontal gyrus, orbital part) &harr; GR (L) (rectus gyrus)\n",
    "    - F1O (R) (superior frontal gyrus, orbital part) &harr; GR (R) (rectus gyrus)\n",
    "    - F2 (L) (middle frontal gyrus) &rarr; F2 (R) (middle frontal gyrus)\n",
    "    - F3T (L) (inferior frontal gyrus, triangular part) &harr; F3O (L) (inferior frontal gyrus, orbital part)\n",
    "    - F3O (R) (inferior frontal gyrus, orbital part) &rarr; F1O (R) (superior frontal gyrus, orbital part)\n",
    "    - F3O (L) (inferior frontal gyrus, orbital part) &rarr; F2O (L) (middle frontal gyrus, orbital part)\n",
    "    - F3O (R) (inferior frontal gyrus, orbital part) &rarr; F3T (R) (inferior frontal gyrus, triangular part)\n",
    "    - GR (R) (rectus gyrus) &rarr; F1O (R) (superior frontal gyrus, orbital part) \n",
    "    - GR (L) (rectus gyrus) &harr; GR (R) (rectus gyrus)\n",
    "    - ACIN (L) (anterior cingulate gyrus) &rarr; ACIN (R) (anterior cingulate gyrus)\n",
    "- Within the **occipital lobe**: \n",
    "    - V1 (R) (calcarine fissure) &harr; LING (R) (lingual gyrus)\n",
    "- Within the **temporal lobe**:\n",
    "    - T1P (R) (superior temporal gyrus, temporal pole) &harr; T2P (R) (middle temporal gyrus, temporal pole)\n",
    "    - T2 (R) (middle temporal gyrus) &harr; T3 (R) (inferior temporal gyrus)\n",
    "    - T2P (L) (middle temporal gyrus, temporal pole) &rarr; FUSI (L) (fusiform gyrus)\n",
    "    - T2P (R) (middle temporal gyrus, temporal pole) &rarr; PHIP (R) (parahippocampus gyrus)\n",
    "    - FUSI (L) (fusiform gyrus) &harr; PHIP (L) (parahippocampus gyrus)\n",
    "    - FUSI (R) (fusiform gyrus) &harr; PHIP (R) (parahippocampus gyrus)\n",
    "    - PHIP (R) (parahippocampus gyrus) &rarr; HIP (R) (hippocampus)\n",
    "- Between the **insular lobe and the frontal lobe**:\n",
    "    - IN (L) (insula) &rarr; F3O (L) (inferior frontal gyrus, orbital part)"
   ]
  },
  {
   "cell_type": "markdown",
   "metadata": {
    "heading_collapsed": true,
    "hidden": true
   },
   "source": [
    "##### Control patients"
   ]
  },
  {
   "cell_type": "markdown",
   "metadata": {
    "hidden": true
   },
   "source": [
    "- Within the **frontal lobe**: \n",
    "    - ACIN (L) (anterior cingulate gyrus) &harr; ACIN (R) (anterior cingulate gyrus)\n",
    "    - MCIN (L) (median cingulate gyrus) &rarr; MCIN (R) (median cingulate gyrus)\n",
    "- Within the **occipital lobe**:\n",
    "    - O1 (R) (superior occipital gyrus) &rarr; O2 (R) (middle occipital gyrus)\n",
    "    - LING (R) (lingual gyrus) &rarr; Q (R) (cuneus)\n",
    "- Within the **temporal lobe**:\n",
    "    - T2P (R) (middle temporal gyrus, temporal pole) &rarr; PHIP (R) (parahippocampal gyrus)\n",
    "- Between the **parietal lobe and occipital lobe**:\n",
    "    - P1 (R) (superior parietal gyrus) &rarr; PQ (R) (precuneus)\n",
    "    - P2 (L) (inferior parietal gyrus) &rarr; Q (L) (cuneus)\n",
    "    - P2 (R) (inferior parietal gyrus) &harr; Q (R) (cuneus)\n",
    "    - AG (R) (angular gyrus) &harr; O3 (R) (inferior occipital gyrus)"
   ]
  },
  {
   "cell_type": "markdown",
   "metadata": {
    "heading_collapsed": true,
    "hidden": true
   },
   "source": [
    "#### Brodmann atlas (47 regions)"
   ]
  },
  {
   "cell_type": "markdown",
   "metadata": {
    "heading_collapsed": true,
    "hidden": true
   },
   "source": [
    "##### All patients"
   ]
  },
  {
   "cell_type": "markdown",
   "metadata": {
    "hidden": true
   },
   "source": [
    "- Within the **frontal lobe**: \n",
    "    - B47 (inferior frontal gyrus, orbital part) &rarr; B11 (orbitofrontal area)\n",
    "- Within the **temporal lobe**: \n",
    "    - B20 (inferior temporal gyrus) &harr; B21 (middle temporal gyrus)\n",
    "- Between the **frontal lobe and parietal lobe**: \n",
    "    - B4 (primary motor cortex) &harr; B3 (primary somatosensory cortex)"
   ]
  },
  {
   "cell_type": "markdown",
   "metadata": {
    "heading_collapsed": true,
    "hidden": true
   },
   "source": [
    "##### Alzheimer disease patients"
   ]
  },
  {
   "cell_type": "markdown",
   "metadata": {
    "hidden": true
   },
   "source": [
    "- Within the **frontal lobe**: \n",
    "    - B6 (premotor and supplementary motor cortex) &rarr; B8 (frontal cortex)\n",
    "- Within the **parietal lobe**: \n",
    "    - B39 (angular gyrus) &harr; B40 (supramarginal gyrus)\n",
    "- Within the **temporal lobe**: \n",
    "    - B20 (inferior temporal gyrus) &harr; B21 (middle temporal gyrus)\n",
    "- Between the **frontal lobe and parietal lobe**: \n",
    "    - B4 (primary motor cortex) &harr; B3 (primary somatosensory cortex)\n",
    "- Between the **parietal lobe and temporal lobe**:\n",
    "    - B39 (angular gyrus) &harr; B21 (middle temporal gyrus)\n",
    "    - B39 (angular gyrus) &harr; B37 (fusiform gyrus)"
   ]
  },
  {
   "cell_type": "markdown",
   "metadata": {
    "heading_collapsed": true,
    "hidden": true
   },
   "source": [
    "##### Frontotemporal demential patients"
   ]
  },
  {
   "cell_type": "markdown",
   "metadata": {
    "hidden": true
   },
   "source": [
    "- Within the **frontal lobe**:\n",
    "    - B8 (frontal cortex) &rarr; B6 (premotor cortex)\n",
    "    - B8 (frontal cortex) &harr; B9 (dorsolateral prefrontal cortex)\n",
    "    - B9 (dorsolateral prefrontal cortex) &harr; B10 (anterior prefrontal cortex)\n",
    "    - B10 (anterior prefrontal cortex) &rarr; B8 (frontal cortex)\n",
    "    - B10 (anterior prefrontal cortex) &rarr; B11 (orbitofrontal area)\n",
    "    - B10 (anterior prefrontal cortex) &harr; B47 (inferior frontal gyrus, orbital part)\n",
    "    - B11 (orbitofrontal area) &harr; B47 (frontal cortex)\n",
    "    - B46 (dorsolateral prefrontal cortex) &rarr; B45 (broca's area)\n",
    "- Within the **temporal lobe**: \n",
    "    - B20 (inferior temporal gyrus) &harr; B21 (middle temporal gyrus) \n",
    "    - B21 (middle temporal gyrus) &harr; B38 (temporopolar area)"
   ]
  },
  {
   "cell_type": "markdown",
   "metadata": {
    "heading_collapsed": true,
    "hidden": true
   },
   "source": [
    "##### Control patients"
   ]
  },
  {
   "cell_type": "markdown",
   "metadata": {
    "hidden": true
   },
   "source": [
    "- Within the **frontal lobe**:\n",
    "    - B8 (frontal cortex) &rarr; B24 (ventral anterior cingulate cortex)\n",
    "    - B24 (ventral anterior cingulate cortex) &rarr; B32 (dorsal anterior cingulate cortex)"
   ]
  }
 ],
 "metadata": {
  "kernelspec": {
   "display_name": "Python 3",
   "language": "python",
   "name": "python3"
  },
  "language_info": {
   "codemirror_mode": {
    "name": "ipython",
    "version": 3
   },
   "file_extension": ".py",
   "mimetype": "text/x-python",
   "name": "python",
   "nbconvert_exporter": "python",
   "pygments_lexer": "ipython3",
   "version": "3.7.6"
  }
 },
 "nbformat": 4,
 "nbformat_minor": 4
}
