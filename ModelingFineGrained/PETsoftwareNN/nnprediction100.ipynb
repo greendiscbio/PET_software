{
 "cells": [
  {
   "cell_type": "markdown",
   "metadata": {},
   "source": [
    "# Prediction with genetic algorithms and correction with probabilistic rules"
   ]
  },
  {
   "cell_type": "markdown",
   "metadata": {},
   "source": [
    "This notebook gathers the results for the predictions made on the neural network models, considering a binary threshold of 100, and the later correction using probabilistic rules."
   ]
  },
  {
   "cell_type": "markdown",
   "metadata": {},
   "source": [
    "### Brief explanation"
   ]
  },
  {
   "cell_type": "markdown",
   "metadata": {},
   "source": [
    "With the already chosen best models, we predicted hypometabolism for the patients in our database. By predicting each brain region independently, we created a whole brain map. However, and since variability was a big deal in some regions, we performed 5 predictions per region, which led to 5 different brain maps. For each of them, absolute and normalised probabilistic rules were applied. Eventually, consensus brain maps were calculated before and after rule application. The relevance threshold, which determines how strict we are in considering rules, has been set as a parameter varying from 0.5 to 1."
   ]
  },
  {
   "cell_type": "markdown",
   "metadata": {},
   "source": [
    "### Import the packages"
   ]
  },
  {
   "cell_type": "markdown",
   "metadata": {},
   "source": [
    "We import the packages that will be needed. In this case, everything is already contained in the prtools.py file."
   ]
  },
  {
   "cell_type": "code",
   "execution_count": 1,
   "metadata": {},
   "outputs": [],
   "source": [
    "import sys\n",
    "sys.path.insert(0,'../../Tools')\n",
    "from prtools import *\n",
    "da = Datasets()\n",
    "ra = RuleApplication()"
   ]
  },
  {
   "cell_type": "code",
   "execution_count": 2,
   "metadata": {},
   "outputs": [],
   "source": [
    "pandas.set_option('display.max_rows', None)\n",
    "pandas.set_option('display.max_columns', None)\n",
    "pandas.set_option('display.width', None)\n",
    "pandas.set_option('display.max_colwidth', None)"
   ]
  },
  {
   "cell_type": "markdown",
   "metadata": {},
   "source": [
    "### Preparation of results"
   ]
  },
  {
   "cell_type": "markdown",
   "metadata": {},
   "source": [
    "#### General stuff"
   ]
  },
  {
   "cell_type": "code",
   "execution_count": 3,
   "metadata": {},
   "outputs": [],
   "source": [
    "real_aal = da.define_binary(pandas.read_csv('../../Data/Y_aal_quan.csv'),100)\n",
    "real_brodmann = da.define_binary(pandas.read_csv('../../Data/Y_brodmann_quan.csv'),100)\n",
    "prediction_aal = pandas.read_csv('./Prediction_100/Prediction/prediction_aal.csv')\n",
    "prediction_brodmann = pandas.read_csv('./Prediction_100/Prediction/prediction_brodmann.csv')"
   ]
  },
  {
   "cell_type": "code",
   "execution_count": 4,
   "metadata": {},
   "outputs": [],
   "source": [
    "relevance_thresholds_absolute = [1,0.975,0.950,0.925,0.9,0.8,0.7,0.6,0.5]\n",
    "relevance_thresholds_normalised = [0.9,0.8,0.7,0.6,0.5]"
   ]
  },
  {
   "cell_type": "markdown",
   "metadata": {},
   "source": [
    "#### Absolute rules"
   ]
  },
  {
   "cell_type": "code",
   "execution_count": 5,
   "metadata": {},
   "outputs": [],
   "source": [
    "comparison_absolute_aal = ra.compare_with_real(prediction_aal,real_aal)\n",
    "comparison_absolute_brodmann = ra.compare_with_real(prediction_brodmann,real_brodmann)\n",
    "index = ['Prediction']\n",
    "for relevance_threshold in relevance_thresholds_absolute:\n",
    "    absolute_aal = pandas.read_csv('./Prediction_100/Absolute/correction_aal_'+str(relevance_threshold)+'.csv')\n",
    "    absolute_brodmann = pandas.read_csv('./Prediction_100/Absolute/correction_brodmann_'+str(relevance_threshold)+'.csv')\n",
    "    comparison_absolute_aal = pandas.concat([comparison_absolute_aal,ra.compare_with_real(absolute_aal,real_aal)],axis=0)\n",
    "    comparison_absolute_brodmann = pandas.concat([comparison_absolute_brodmann,ra.compare_with_real(absolute_brodmann,real_brodmann)],axis=0)\n",
    "    index.append('Relevance threshold = '+str(relevance_threshold))\n",
    "comparison_absolute_aal.index = index\n",
    "comparison_absolute_brodmann.index = index"
   ]
  },
  {
   "cell_type": "code",
   "execution_count": 6,
   "metadata": {},
   "outputs": [],
   "source": [
    "TFP_absolute_aal = comparison_absolute_aal[['TP','FP']].transpose()\n",
    "TFP_absolute_brodmann = comparison_absolute_brodmann[['TP','FP']].transpose()\n",
    "added_absolute_aal = []\n",
    "added_absolute_brodmann = []\n",
    "for relevance_threshold in relevance_thresholds_absolute:\n",
    "        temp_TFP_aal = TFP_absolute_aal['Relevance threshold = '+str(relevance_threshold)]-TFP_absolute_aal['Prediction']\n",
    "        temp_TFP_brodmann = TFP_absolute_brodmann['Relevance threshold = '+str(relevance_threshold)]-TFP_absolute_brodmann['Prediction']\n",
    "        added_absolute_aal.append('With a relevance threshold of '+str(relevance_threshold)+', '+str(temp_TFP_aal[0]+temp_TFP_aal[1])+' regions were marked as hypometabolic: '+str(temp_TFP_aal[0])+' correctly ('+str(round(temp_TFP_aal[0]*100/(temp_TFP_aal[0]+temp_TFP_aal[1]),2))+' %) and '+str(temp_TFP_aal[1])+' incorrectly')\n",
    "        added_absolute_brodmann.append('With a relevance threshold of '+str(relevance_threshold)+', '+str(temp_TFP_brodmann[0]+temp_TFP_brodmann[1])+' regions were marked as hypometabolic: '+str(temp_TFP_brodmann[0])+' correctly ('+str(round(temp_TFP_brodmann[0]*100/(temp_TFP_brodmann[0]+temp_TFP_brodmann[1]),2))+' %) and '+str(temp_TFP_brodmann[1])+' incorrectly')"
   ]
  },
  {
   "cell_type": "markdown",
   "metadata": {},
   "source": [
    "#### Normalised rules"
   ]
  },
  {
   "cell_type": "code",
   "execution_count": 7,
   "metadata": {},
   "outputs": [],
   "source": [
    "comparison_normalised_aal = ra.compare_with_real(prediction_aal,real_aal)\n",
    "comparison_normalised_brodmann = ra.compare_with_real(prediction_brodmann,real_brodmann)\n",
    "index = ['Prediction']\n",
    "for relevance_threshold in relevance_thresholds_normalised:\n",
    "    normalised_aal = pandas.read_csv('./Prediction_100/Normalised/correction_aal_'+str(relevance_threshold)+'.csv')\n",
    "    normalised_brodmann = pandas.read_csv('./Prediction_100/Normalised/correction_brodmann_'+str(relevance_threshold)+'.csv')\n",
    "    comparison_normalised_aal = pandas.concat([comparison_normalised_aal,ra.compare_with_real(normalised_aal,real_aal)],axis=0)\n",
    "    comparison_normalised_brodmann = pandas.concat([comparison_normalised_brodmann,ra.compare_with_real(normalised_brodmann,real_brodmann)],axis=0)\n",
    "    index.append('Relevance threshold = '+str(relevance_threshold))\n",
    "comparison_normalised_aal.index = index\n",
    "comparison_normalised_brodmann.index = index"
   ]
  },
  {
   "cell_type": "code",
   "execution_count": 8,
   "metadata": {},
   "outputs": [],
   "source": [
    "TFP_normalised_aal = comparison_normalised_aal[['TP','FP']].transpose()\n",
    "TFP_normalised_brodmann = comparison_normalised_brodmann[['TP','FP']].transpose()\n",
    "added_normalised_aal = []\n",
    "added_normalised_brodmann = []\n",
    "for relevance_threshold in relevance_thresholds_normalised:\n",
    "        temp_TFP_aal = TFP_normalised_aal['Relevance threshold = '+str(relevance_threshold)]-TFP_normalised_aal['Prediction']\n",
    "        temp_TFP_brodmann = TFP_normalised_brodmann['Relevance threshold = '+str(relevance_threshold)]-TFP_normalised_brodmann['Prediction']\n",
    "        added_normalised_aal.append('With a relevance threshold of '+str(relevance_threshold)+', '+str(temp_TFP_aal[0]+temp_TFP_aal[1])+' regions were marked as hypometabolic: '+str(temp_TFP_aal[0])+' correctly ('+str(round(temp_TFP_aal[0]*100/(temp_TFP_aal[0]+temp_TFP_aal[1]),2))+' %) and '+str(temp_TFP_aal[1])+' incorrectly')\n",
    "        added_normalised_brodmann.append('With a relevance threshold of '+str(relevance_threshold)+', '+str(temp_TFP_brodmann[0]+temp_TFP_brodmann[1])+' regions were marked as hypometabolic: '+str(temp_TFP_brodmann[0])+' correctly ('+str(round(temp_TFP_brodmann[0]*100/(temp_TFP_brodmann[0]+temp_TFP_brodmann[1]),2))+' %) and '+str(temp_TFP_brodmann[1])+' incorrectly')"
   ]
  },
  {
   "cell_type": "markdown",
   "metadata": {},
   "source": [
    "#### Random rules"
   ]
  },
  {
   "cell_type": "code",
   "execution_count": 9,
   "metadata": {},
   "outputs": [],
   "source": [
    "FN_aal = comparison_absolute_aal.loc['Prediction']['FN']\n",
    "TFN_aal = comparison_absolute_aal.loc['Prediction']['FN'] + comparison_absolute_aal.loc['Prediction']['TN']\n",
    "FN_brodmann = comparison_absolute_brodmann.loc['Prediction']['FN']\n",
    "TFN_brodmann = comparison_absolute_brodmann.loc['Prediction']['FN'] + comparison_absolute_brodmann.loc['Prediction']['TN']\n",
    "random_aal = str(round((FN_aal*100/TFN_aal),2))+' %'\n",
    "random_brodmann = str(round((FN_brodmann*100/TFN_brodmann),2))+' %'"
   ]
  },
  {
   "cell_type": "markdown",
   "metadata": {},
   "source": [
    "### Results"
   ]
  },
  {
   "cell_type": "markdown",
   "metadata": {},
   "source": [
    "#### AAL atlas (90 regions)"
   ]
  },
  {
   "cell_type": "markdown",
   "metadata": {},
   "source": [
    "##### Using random corrector"
   ]
  },
  {
   "cell_type": "markdown",
   "metadata": {},
   "source": [
    "A program that randomly changes negative labels to positive labels in our predicted dataset would label correctly what percentage of values?"
   ]
  },
  {
   "cell_type": "code",
   "execution_count": 10,
   "metadata": {},
   "outputs": [
    {
     "name": "stdout",
     "output_type": "stream",
     "text": [
      "5.86 %\n"
     ]
    }
   ],
   "source": [
    "print(random_aal)"
   ]
  },
  {
   "cell_type": "markdown",
   "metadata": {},
   "source": [
    "##### Using absolute rules"
   ]
  },
  {
   "cell_type": "markdown",
   "metadata": {},
   "source": [
    "Down below we show the **metrics associated to both the predictions and later corrections through probabilistic rules**."
   ]
  },
  {
   "cell_type": "code",
   "execution_count": 11,
   "metadata": {},
   "outputs": [
    {
     "data": {
      "text/html": [
       "<div>\n",
       "<style scoped>\n",
       "    .dataframe tbody tr th:only-of-type {\n",
       "        vertical-align: middle;\n",
       "    }\n",
       "\n",
       "    .dataframe tbody tr th {\n",
       "        vertical-align: top;\n",
       "    }\n",
       "\n",
       "    .dataframe thead th {\n",
       "        text-align: right;\n",
       "    }\n",
       "</style>\n",
       "<table border=\"1\" class=\"dataframe\">\n",
       "  <thead>\n",
       "    <tr style=\"text-align: right;\">\n",
       "      <th></th>\n",
       "      <th>TP</th>\n",
       "      <th>TN</th>\n",
       "      <th>FP</th>\n",
       "      <th>FN</th>\n",
       "      <th>accuracy</th>\n",
       "      <th>f1</th>\n",
       "      <th>precision</th>\n",
       "      <th>recall</th>\n",
       "    </tr>\n",
       "  </thead>\n",
       "  <tbody>\n",
       "    <tr>\n",
       "      <th>Prediction</th>\n",
       "      <td>1618</td>\n",
       "      <td>23704</td>\n",
       "      <td>3083</td>\n",
       "      <td>1475</td>\n",
       "      <td>0.847</td>\n",
       "      <td>0.415</td>\n",
       "      <td>0.344</td>\n",
       "      <td>0.523</td>\n",
       "    </tr>\n",
       "    <tr>\n",
       "      <th>Relevance threshold = 1</th>\n",
       "      <td>1881</td>\n",
       "      <td>22542</td>\n",
       "      <td>4245</td>\n",
       "      <td>1212</td>\n",
       "      <td>0.817</td>\n",
       "      <td>0.408</td>\n",
       "      <td>0.307</td>\n",
       "      <td>0.608</td>\n",
       "    </tr>\n",
       "    <tr>\n",
       "      <th>Relevance threshold = 0.975</th>\n",
       "      <td>1995</td>\n",
       "      <td>21653</td>\n",
       "      <td>5134</td>\n",
       "      <td>1098</td>\n",
       "      <td>0.791</td>\n",
       "      <td>0.390</td>\n",
       "      <td>0.280</td>\n",
       "      <td>0.645</td>\n",
       "    </tr>\n",
       "    <tr>\n",
       "      <th>Relevance threshold = 0.95</th>\n",
       "      <td>2000</td>\n",
       "      <td>21635</td>\n",
       "      <td>5152</td>\n",
       "      <td>1093</td>\n",
       "      <td>0.791</td>\n",
       "      <td>0.390</td>\n",
       "      <td>0.280</td>\n",
       "      <td>0.647</td>\n",
       "    </tr>\n",
       "    <tr>\n",
       "      <th>Relevance threshold = 0.925</th>\n",
       "      <td>2019</td>\n",
       "      <td>21535</td>\n",
       "      <td>5252</td>\n",
       "      <td>1074</td>\n",
       "      <td>0.788</td>\n",
       "      <td>0.390</td>\n",
       "      <td>0.278</td>\n",
       "      <td>0.653</td>\n",
       "    </tr>\n",
       "    <tr>\n",
       "      <th>Relevance threshold = 0.9</th>\n",
       "      <td>2041</td>\n",
       "      <td>21448</td>\n",
       "      <td>5339</td>\n",
       "      <td>1052</td>\n",
       "      <td>0.786</td>\n",
       "      <td>0.390</td>\n",
       "      <td>0.277</td>\n",
       "      <td>0.660</td>\n",
       "    </tr>\n",
       "    <tr>\n",
       "      <th>Relevance threshold = 0.8</th>\n",
       "      <td>2168</td>\n",
       "      <td>20721</td>\n",
       "      <td>6066</td>\n",
       "      <td>925</td>\n",
       "      <td>0.766</td>\n",
       "      <td>0.383</td>\n",
       "      <td>0.263</td>\n",
       "      <td>0.701</td>\n",
       "    </tr>\n",
       "    <tr>\n",
       "      <th>Relevance threshold = 0.7</th>\n",
       "      <td>2307</td>\n",
       "      <td>19547</td>\n",
       "      <td>7240</td>\n",
       "      <td>786</td>\n",
       "      <td>0.731</td>\n",
       "      <td>0.365</td>\n",
       "      <td>0.242</td>\n",
       "      <td>0.746</td>\n",
       "    </tr>\n",
       "    <tr>\n",
       "      <th>Relevance threshold = 0.6</th>\n",
       "      <td>2440</td>\n",
       "      <td>18417</td>\n",
       "      <td>8370</td>\n",
       "      <td>653</td>\n",
       "      <td>0.698</td>\n",
       "      <td>0.351</td>\n",
       "      <td>0.226</td>\n",
       "      <td>0.789</td>\n",
       "    </tr>\n",
       "    <tr>\n",
       "      <th>Relevance threshold = 0.5</th>\n",
       "      <td>2515</td>\n",
       "      <td>17477</td>\n",
       "      <td>9310</td>\n",
       "      <td>578</td>\n",
       "      <td>0.669</td>\n",
       "      <td>0.337</td>\n",
       "      <td>0.213</td>\n",
       "      <td>0.813</td>\n",
       "    </tr>\n",
       "  </tbody>\n",
       "</table>\n",
       "</div>"
      ],
      "text/plain": [
       "                               TP     TN    FP    FN  accuracy     f1  \\\n",
       "Prediction                   1618  23704  3083  1475     0.847  0.415   \n",
       "Relevance threshold = 1      1881  22542  4245  1212     0.817  0.408   \n",
       "Relevance threshold = 0.975  1995  21653  5134  1098     0.791  0.390   \n",
       "Relevance threshold = 0.95   2000  21635  5152  1093     0.791  0.390   \n",
       "Relevance threshold = 0.925  2019  21535  5252  1074     0.788  0.390   \n",
       "Relevance threshold = 0.9    2041  21448  5339  1052     0.786  0.390   \n",
       "Relevance threshold = 0.8    2168  20721  6066   925     0.766  0.383   \n",
       "Relevance threshold = 0.7    2307  19547  7240   786     0.731  0.365   \n",
       "Relevance threshold = 0.6    2440  18417  8370   653     0.698  0.351   \n",
       "Relevance threshold = 0.5    2515  17477  9310   578     0.669  0.337   \n",
       "\n",
       "                             precision  recall  \n",
       "Prediction                       0.344   0.523  \n",
       "Relevance threshold = 1          0.307   0.608  \n",
       "Relevance threshold = 0.975      0.280   0.645  \n",
       "Relevance threshold = 0.95       0.280   0.647  \n",
       "Relevance threshold = 0.925      0.278   0.653  \n",
       "Relevance threshold = 0.9        0.277   0.660  \n",
       "Relevance threshold = 0.8        0.263   0.701  \n",
       "Relevance threshold = 0.7        0.242   0.746  \n",
       "Relevance threshold = 0.6        0.226   0.789  \n",
       "Relevance threshold = 0.5        0.213   0.813  "
      ]
     },
     "execution_count": 11,
     "metadata": {},
     "output_type": "execute_result"
    }
   ],
   "source": [
    "comparison_absolute_aal"
   ]
  },
  {
   "cell_type": "markdown",
   "metadata": {},
   "source": [
    "Down below we show the **effect that the application of rules have over the predicted brain map**."
   ]
  },
  {
   "cell_type": "code",
   "execution_count": 12,
   "metadata": {},
   "outputs": [
    {
     "name": "stdout",
     "output_type": "stream",
     "text": [
      "With a relevance threshold of 1, 1425 regions were marked as hypometabolic: 263 correctly (18.46 %) and 1162 incorrectly\n",
      "With a relevance threshold of 0.975, 2428 regions were marked as hypometabolic: 377 correctly (15.53 %) and 2051 incorrectly\n",
      "With a relevance threshold of 0.95, 2451 regions were marked as hypometabolic: 382 correctly (15.59 %) and 2069 incorrectly\n",
      "With a relevance threshold of 0.925, 2570 regions were marked as hypometabolic: 401 correctly (15.6 %) and 2169 incorrectly\n",
      "With a relevance threshold of 0.9, 2679 regions were marked as hypometabolic: 423 correctly (15.79 %) and 2256 incorrectly\n",
      "With a relevance threshold of 0.8, 3533 regions were marked as hypometabolic: 550 correctly (15.57 %) and 2983 incorrectly\n",
      "With a relevance threshold of 0.7, 4846 regions were marked as hypometabolic: 689 correctly (14.22 %) and 4157 incorrectly\n",
      "With a relevance threshold of 0.6, 6109 regions were marked as hypometabolic: 822 correctly (13.46 %) and 5287 incorrectly\n",
      "With a relevance threshold of 0.5, 7124 regions were marked as hypometabolic: 897 correctly (12.59 %) and 6227 incorrectly\n"
     ]
    }
   ],
   "source": [
    "for i in added_absolute_aal: print(i)"
   ]
  },
  {
   "cell_type": "markdown",
   "metadata": {},
   "source": [
    "##### Using normalised rules"
   ]
  },
  {
   "cell_type": "markdown",
   "metadata": {},
   "source": [
    "Down below we show the **metrics associated to both the predictions and later corrections through probabilistic rules**."
   ]
  },
  {
   "cell_type": "code",
   "execution_count": 13,
   "metadata": {},
   "outputs": [
    {
     "data": {
      "text/html": [
       "<div>\n",
       "<style scoped>\n",
       "    .dataframe tbody tr th:only-of-type {\n",
       "        vertical-align: middle;\n",
       "    }\n",
       "\n",
       "    .dataframe tbody tr th {\n",
       "        vertical-align: top;\n",
       "    }\n",
       "\n",
       "    .dataframe thead th {\n",
       "        text-align: right;\n",
       "    }\n",
       "</style>\n",
       "<table border=\"1\" class=\"dataframe\">\n",
       "  <thead>\n",
       "    <tr style=\"text-align: right;\">\n",
       "      <th></th>\n",
       "      <th>TP</th>\n",
       "      <th>TN</th>\n",
       "      <th>FP</th>\n",
       "      <th>FN</th>\n",
       "      <th>accuracy</th>\n",
       "      <th>f1</th>\n",
       "      <th>precision</th>\n",
       "      <th>recall</th>\n",
       "    </tr>\n",
       "  </thead>\n",
       "  <tbody>\n",
       "    <tr>\n",
       "      <th>Prediction</th>\n",
       "      <td>1618</td>\n",
       "      <td>23704</td>\n",
       "      <td>3083</td>\n",
       "      <td>1475</td>\n",
       "      <td>0.847</td>\n",
       "      <td>0.415</td>\n",
       "      <td>0.344</td>\n",
       "      <td>0.523</td>\n",
       "    </tr>\n",
       "    <tr>\n",
       "      <th>Relevance threshold = 0.9</th>\n",
       "      <td>1894</td>\n",
       "      <td>22465</td>\n",
       "      <td>4322</td>\n",
       "      <td>1199</td>\n",
       "      <td>0.815</td>\n",
       "      <td>0.407</td>\n",
       "      <td>0.305</td>\n",
       "      <td>0.612</td>\n",
       "    </tr>\n",
       "    <tr>\n",
       "      <th>Relevance threshold = 0.8</th>\n",
       "      <td>1900</td>\n",
       "      <td>22433</td>\n",
       "      <td>4354</td>\n",
       "      <td>1193</td>\n",
       "      <td>0.814</td>\n",
       "      <td>0.407</td>\n",
       "      <td>0.304</td>\n",
       "      <td>0.614</td>\n",
       "    </tr>\n",
       "    <tr>\n",
       "      <th>Relevance threshold = 0.7</th>\n",
       "      <td>1926</td>\n",
       "      <td>22304</td>\n",
       "      <td>4483</td>\n",
       "      <td>1167</td>\n",
       "      <td>0.811</td>\n",
       "      <td>0.405</td>\n",
       "      <td>0.301</td>\n",
       "      <td>0.623</td>\n",
       "    </tr>\n",
       "    <tr>\n",
       "      <th>Relevance threshold = 0.6</th>\n",
       "      <td>1997</td>\n",
       "      <td>21878</td>\n",
       "      <td>4909</td>\n",
       "      <td>1096</td>\n",
       "      <td>0.799</td>\n",
       "      <td>0.399</td>\n",
       "      <td>0.289</td>\n",
       "      <td>0.646</td>\n",
       "    </tr>\n",
       "    <tr>\n",
       "      <th>Relevance threshold = 0.5</th>\n",
       "      <td>2044</td>\n",
       "      <td>21543</td>\n",
       "      <td>5244</td>\n",
       "      <td>1049</td>\n",
       "      <td>0.789</td>\n",
       "      <td>0.394</td>\n",
       "      <td>0.280</td>\n",
       "      <td>0.661</td>\n",
       "    </tr>\n",
       "  </tbody>\n",
       "</table>\n",
       "</div>"
      ],
      "text/plain": [
       "                             TP     TN    FP    FN  accuracy     f1  \\\n",
       "Prediction                 1618  23704  3083  1475     0.847  0.415   \n",
       "Relevance threshold = 0.9  1894  22465  4322  1199     0.815  0.407   \n",
       "Relevance threshold = 0.8  1900  22433  4354  1193     0.814  0.407   \n",
       "Relevance threshold = 0.7  1926  22304  4483  1167     0.811  0.405   \n",
       "Relevance threshold = 0.6  1997  21878  4909  1096     0.799  0.399   \n",
       "Relevance threshold = 0.5  2044  21543  5244  1049     0.789  0.394   \n",
       "\n",
       "                           precision  recall  \n",
       "Prediction                     0.344   0.523  \n",
       "Relevance threshold = 0.9      0.305   0.612  \n",
       "Relevance threshold = 0.8      0.304   0.614  \n",
       "Relevance threshold = 0.7      0.301   0.623  \n",
       "Relevance threshold = 0.6      0.289   0.646  \n",
       "Relevance threshold = 0.5      0.280   0.661  "
      ]
     },
     "execution_count": 13,
     "metadata": {},
     "output_type": "execute_result"
    }
   ],
   "source": [
    "comparison_normalised_aal"
   ]
  },
  {
   "cell_type": "markdown",
   "metadata": {},
   "source": [
    "Down below we show the **effect that the application of rules have over the predicted brain map**."
   ]
  },
  {
   "cell_type": "code",
   "execution_count": 14,
   "metadata": {},
   "outputs": [
    {
     "name": "stdout",
     "output_type": "stream",
     "text": [
      "With a relevance threshold of 0.9, 1515 regions were marked as hypometabolic: 276 correctly (18.22 %) and 1239 incorrectly\n",
      "With a relevance threshold of 0.8, 1553 regions were marked as hypometabolic: 282 correctly (18.16 %) and 1271 incorrectly\n",
      "With a relevance threshold of 0.7, 1708 regions were marked as hypometabolic: 308 correctly (18.03 %) and 1400 incorrectly\n",
      "With a relevance threshold of 0.6, 2205 regions were marked as hypometabolic: 379 correctly (17.19 %) and 1826 incorrectly\n",
      "With a relevance threshold of 0.5, 2587 regions were marked as hypometabolic: 426 correctly (16.47 %) and 2161 incorrectly\n"
     ]
    }
   ],
   "source": [
    "for i in added_normalised_aal: print(i)"
   ]
  },
  {
   "cell_type": "markdown",
   "metadata": {},
   "source": [
    "#### Brodmann atlas (47 regions)"
   ]
  },
  {
   "cell_type": "markdown",
   "metadata": {},
   "source": [
    "##### Using random corrector"
   ]
  },
  {
   "cell_type": "markdown",
   "metadata": {},
   "source": [
    "A program that randomly changes negative labels to positive labels in our predicted dataset would label correctly what percentage of values?"
   ]
  },
  {
   "cell_type": "code",
   "execution_count": 15,
   "metadata": {},
   "outputs": [
    {
     "name": "stdout",
     "output_type": "stream",
     "text": [
      "4.48 %\n"
     ]
    }
   ],
   "source": [
    "print(random_brodmann)"
   ]
  },
  {
   "cell_type": "markdown",
   "metadata": {},
   "source": [
    "##### Using absolute rules"
   ]
  },
  {
   "cell_type": "markdown",
   "metadata": {},
   "source": [
    "Down below we show the **metrics associated to both the predictions and later corrections through probabilistic rules**."
   ]
  },
  {
   "cell_type": "code",
   "execution_count": 16,
   "metadata": {},
   "outputs": [
    {
     "data": {
      "text/html": [
       "<div>\n",
       "<style scoped>\n",
       "    .dataframe tbody tr th:only-of-type {\n",
       "        vertical-align: middle;\n",
       "    }\n",
       "\n",
       "    .dataframe tbody tr th {\n",
       "        vertical-align: top;\n",
       "    }\n",
       "\n",
       "    .dataframe thead th {\n",
       "        text-align: right;\n",
       "    }\n",
       "</style>\n",
       "<table border=\"1\" class=\"dataframe\">\n",
       "  <thead>\n",
       "    <tr style=\"text-align: right;\">\n",
       "      <th></th>\n",
       "      <th>TP</th>\n",
       "      <th>TN</th>\n",
       "      <th>FP</th>\n",
       "      <th>FN</th>\n",
       "      <th>accuracy</th>\n",
       "      <th>f1</th>\n",
       "      <th>precision</th>\n",
       "      <th>recall</th>\n",
       "    </tr>\n",
       "  </thead>\n",
       "  <tbody>\n",
       "    <tr>\n",
       "      <th>Prediction</th>\n",
       "      <td>838</td>\n",
       "      <td>12980</td>\n",
       "      <td>1177</td>\n",
       "      <td>609</td>\n",
       "      <td>0.886</td>\n",
       "      <td>0.484</td>\n",
       "      <td>0.416</td>\n",
       "      <td>0.579</td>\n",
       "    </tr>\n",
       "    <tr>\n",
       "      <th>Relevance threshold = 1</th>\n",
       "      <td>933</td>\n",
       "      <td>12555</td>\n",
       "      <td>1602</td>\n",
       "      <td>514</td>\n",
       "      <td>0.864</td>\n",
       "      <td>0.469</td>\n",
       "      <td>0.368</td>\n",
       "      <td>0.645</td>\n",
       "    </tr>\n",
       "    <tr>\n",
       "      <th>Relevance threshold = 0.975</th>\n",
       "      <td>995</td>\n",
       "      <td>12282</td>\n",
       "      <td>1875</td>\n",
       "      <td>452</td>\n",
       "      <td>0.851</td>\n",
       "      <td>0.461</td>\n",
       "      <td>0.347</td>\n",
       "      <td>0.688</td>\n",
       "    </tr>\n",
       "    <tr>\n",
       "      <th>Relevance threshold = 0.95</th>\n",
       "      <td>998</td>\n",
       "      <td>12271</td>\n",
       "      <td>1886</td>\n",
       "      <td>449</td>\n",
       "      <td>0.850</td>\n",
       "      <td>0.461</td>\n",
       "      <td>0.346</td>\n",
       "      <td>0.690</td>\n",
       "    </tr>\n",
       "    <tr>\n",
       "      <th>Relevance threshold = 0.925</th>\n",
       "      <td>999</td>\n",
       "      <td>12260</td>\n",
       "      <td>1897</td>\n",
       "      <td>448</td>\n",
       "      <td>0.850</td>\n",
       "      <td>0.460</td>\n",
       "      <td>0.345</td>\n",
       "      <td>0.690</td>\n",
       "    </tr>\n",
       "    <tr>\n",
       "      <th>Relevance threshold = 0.9</th>\n",
       "      <td>1005</td>\n",
       "      <td>12243</td>\n",
       "      <td>1914</td>\n",
       "      <td>442</td>\n",
       "      <td>0.849</td>\n",
       "      <td>0.460</td>\n",
       "      <td>0.344</td>\n",
       "      <td>0.695</td>\n",
       "    </tr>\n",
       "    <tr>\n",
       "      <th>Relevance threshold = 0.8</th>\n",
       "      <td>1056</td>\n",
       "      <td>12044</td>\n",
       "      <td>2113</td>\n",
       "      <td>391</td>\n",
       "      <td>0.840</td>\n",
       "      <td>0.458</td>\n",
       "      <td>0.333</td>\n",
       "      <td>0.730</td>\n",
       "    </tr>\n",
       "    <tr>\n",
       "      <th>Relevance threshold = 0.7</th>\n",
       "      <td>1117</td>\n",
       "      <td>11776</td>\n",
       "      <td>2381</td>\n",
       "      <td>330</td>\n",
       "      <td>0.826</td>\n",
       "      <td>0.452</td>\n",
       "      <td>0.319</td>\n",
       "      <td>0.772</td>\n",
       "    </tr>\n",
       "    <tr>\n",
       "      <th>Relevance threshold = 0.6</th>\n",
       "      <td>1141</td>\n",
       "      <td>11545</td>\n",
       "      <td>2612</td>\n",
       "      <td>306</td>\n",
       "      <td>0.813</td>\n",
       "      <td>0.439</td>\n",
       "      <td>0.304</td>\n",
       "      <td>0.789</td>\n",
       "    </tr>\n",
       "    <tr>\n",
       "      <th>Relevance threshold = 0.5</th>\n",
       "      <td>1164</td>\n",
       "      <td>11375</td>\n",
       "      <td>2782</td>\n",
       "      <td>283</td>\n",
       "      <td>0.804</td>\n",
       "      <td>0.432</td>\n",
       "      <td>0.295</td>\n",
       "      <td>0.804</td>\n",
       "    </tr>\n",
       "  </tbody>\n",
       "</table>\n",
       "</div>"
      ],
      "text/plain": [
       "                               TP     TN    FP   FN  accuracy     f1  \\\n",
       "Prediction                    838  12980  1177  609     0.886  0.484   \n",
       "Relevance threshold = 1       933  12555  1602  514     0.864  0.469   \n",
       "Relevance threshold = 0.975   995  12282  1875  452     0.851  0.461   \n",
       "Relevance threshold = 0.95    998  12271  1886  449     0.850  0.461   \n",
       "Relevance threshold = 0.925   999  12260  1897  448     0.850  0.460   \n",
       "Relevance threshold = 0.9    1005  12243  1914  442     0.849  0.460   \n",
       "Relevance threshold = 0.8    1056  12044  2113  391     0.840  0.458   \n",
       "Relevance threshold = 0.7    1117  11776  2381  330     0.826  0.452   \n",
       "Relevance threshold = 0.6    1141  11545  2612  306     0.813  0.439   \n",
       "Relevance threshold = 0.5    1164  11375  2782  283     0.804  0.432   \n",
       "\n",
       "                             precision  recall  \n",
       "Prediction                       0.416   0.579  \n",
       "Relevance threshold = 1          0.368   0.645  \n",
       "Relevance threshold = 0.975      0.347   0.688  \n",
       "Relevance threshold = 0.95       0.346   0.690  \n",
       "Relevance threshold = 0.925      0.345   0.690  \n",
       "Relevance threshold = 0.9        0.344   0.695  \n",
       "Relevance threshold = 0.8        0.333   0.730  \n",
       "Relevance threshold = 0.7        0.319   0.772  \n",
       "Relevance threshold = 0.6        0.304   0.789  \n",
       "Relevance threshold = 0.5        0.295   0.804  "
      ]
     },
     "execution_count": 16,
     "metadata": {},
     "output_type": "execute_result"
    }
   ],
   "source": [
    "comparison_absolute_brodmann"
   ]
  },
  {
   "cell_type": "markdown",
   "metadata": {},
   "source": [
    "Down below we show the **effect that the application of rules have over the predicted brain map**."
   ]
  },
  {
   "cell_type": "code",
   "execution_count": 17,
   "metadata": {},
   "outputs": [
    {
     "name": "stdout",
     "output_type": "stream",
     "text": [
      "With a relevance threshold of 1, 520 regions were marked as hypometabolic: 95 correctly (18.27 %) and 425 incorrectly\n",
      "With a relevance threshold of 0.975, 855 regions were marked as hypometabolic: 157 correctly (18.36 %) and 698 incorrectly\n",
      "With a relevance threshold of 0.95, 869 regions were marked as hypometabolic: 160 correctly (18.41 %) and 709 incorrectly\n",
      "With a relevance threshold of 0.925, 881 regions were marked as hypometabolic: 161 correctly (18.27 %) and 720 incorrectly\n",
      "With a relevance threshold of 0.9, 904 regions were marked as hypometabolic: 167 correctly (18.47 %) and 737 incorrectly\n",
      "With a relevance threshold of 0.8, 1154 regions were marked as hypometabolic: 218 correctly (18.89 %) and 936 incorrectly\n",
      "With a relevance threshold of 0.7, 1483 regions were marked as hypometabolic: 279 correctly (18.81 %) and 1204 incorrectly\n",
      "With a relevance threshold of 0.6, 1738 regions were marked as hypometabolic: 303 correctly (17.43 %) and 1435 incorrectly\n",
      "With a relevance threshold of 0.5, 1931 regions were marked as hypometabolic: 326 correctly (16.88 %) and 1605 incorrectly\n"
     ]
    }
   ],
   "source": [
    "for i in added_absolute_brodmann: print(i)"
   ]
  },
  {
   "cell_type": "markdown",
   "metadata": {},
   "source": [
    "##### Using normalised rules"
   ]
  },
  {
   "cell_type": "markdown",
   "metadata": {},
   "source": [
    "Down below we show the **metrics associated to both the predictions and later corrections through probabilistic rules**."
   ]
  },
  {
   "cell_type": "code",
   "execution_count": 18,
   "metadata": {},
   "outputs": [
    {
     "data": {
      "text/html": [
       "<div>\n",
       "<style scoped>\n",
       "    .dataframe tbody tr th:only-of-type {\n",
       "        vertical-align: middle;\n",
       "    }\n",
       "\n",
       "    .dataframe tbody tr th {\n",
       "        vertical-align: top;\n",
       "    }\n",
       "\n",
       "    .dataframe thead th {\n",
       "        text-align: right;\n",
       "    }\n",
       "</style>\n",
       "<table border=\"1\" class=\"dataframe\">\n",
       "  <thead>\n",
       "    <tr style=\"text-align: right;\">\n",
       "      <th></th>\n",
       "      <th>TP</th>\n",
       "      <th>TN</th>\n",
       "      <th>FP</th>\n",
       "      <th>FN</th>\n",
       "      <th>accuracy</th>\n",
       "      <th>f1</th>\n",
       "      <th>precision</th>\n",
       "      <th>recall</th>\n",
       "    </tr>\n",
       "  </thead>\n",
       "  <tbody>\n",
       "    <tr>\n",
       "      <th>Prediction</th>\n",
       "      <td>838</td>\n",
       "      <td>12980</td>\n",
       "      <td>1177</td>\n",
       "      <td>609</td>\n",
       "      <td>0.886</td>\n",
       "      <td>0.484</td>\n",
       "      <td>0.416</td>\n",
       "      <td>0.579</td>\n",
       "    </tr>\n",
       "    <tr>\n",
       "      <th>Relevance threshold = 0.9</th>\n",
       "      <td>933</td>\n",
       "      <td>12552</td>\n",
       "      <td>1605</td>\n",
       "      <td>514</td>\n",
       "      <td>0.864</td>\n",
       "      <td>0.468</td>\n",
       "      <td>0.368</td>\n",
       "      <td>0.645</td>\n",
       "    </tr>\n",
       "    <tr>\n",
       "      <th>Relevance threshold = 0.8</th>\n",
       "      <td>934</td>\n",
       "      <td>12540</td>\n",
       "      <td>1617</td>\n",
       "      <td>513</td>\n",
       "      <td>0.863</td>\n",
       "      <td>0.467</td>\n",
       "      <td>0.366</td>\n",
       "      <td>0.645</td>\n",
       "    </tr>\n",
       "    <tr>\n",
       "      <th>Relevance threshold = 0.7</th>\n",
       "      <td>936</td>\n",
       "      <td>12504</td>\n",
       "      <td>1653</td>\n",
       "      <td>511</td>\n",
       "      <td>0.861</td>\n",
       "      <td>0.464</td>\n",
       "      <td>0.362</td>\n",
       "      <td>0.647</td>\n",
       "    </tr>\n",
       "    <tr>\n",
       "      <th>Relevance threshold = 0.6</th>\n",
       "      <td>976</td>\n",
       "      <td>12360</td>\n",
       "      <td>1797</td>\n",
       "      <td>471</td>\n",
       "      <td>0.855</td>\n",
       "      <td>0.463</td>\n",
       "      <td>0.352</td>\n",
       "      <td>0.674</td>\n",
       "    </tr>\n",
       "    <tr>\n",
       "      <th>Relevance threshold = 0.5</th>\n",
       "      <td>1019</td>\n",
       "      <td>12177</td>\n",
       "      <td>1980</td>\n",
       "      <td>428</td>\n",
       "      <td>0.846</td>\n",
       "      <td>0.458</td>\n",
       "      <td>0.340</td>\n",
       "      <td>0.704</td>\n",
       "    </tr>\n",
       "  </tbody>\n",
       "</table>\n",
       "</div>"
      ],
      "text/plain": [
       "                             TP     TN    FP   FN  accuracy     f1  precision  \\\n",
       "Prediction                  838  12980  1177  609     0.886  0.484      0.416   \n",
       "Relevance threshold = 0.9   933  12552  1605  514     0.864  0.468      0.368   \n",
       "Relevance threshold = 0.8   934  12540  1617  513     0.863  0.467      0.366   \n",
       "Relevance threshold = 0.7   936  12504  1653  511     0.861  0.464      0.362   \n",
       "Relevance threshold = 0.6   976  12360  1797  471     0.855  0.463      0.352   \n",
       "Relevance threshold = 0.5  1019  12177  1980  428     0.846  0.458      0.340   \n",
       "\n",
       "                           recall  \n",
       "Prediction                  0.579  \n",
       "Relevance threshold = 0.9   0.645  \n",
       "Relevance threshold = 0.8   0.645  \n",
       "Relevance threshold = 0.7   0.647  \n",
       "Relevance threshold = 0.6   0.674  \n",
       "Relevance threshold = 0.5   0.704  "
      ]
     },
     "execution_count": 18,
     "metadata": {},
     "output_type": "execute_result"
    }
   ],
   "source": [
    "comparison_normalised_brodmann"
   ]
  },
  {
   "cell_type": "markdown",
   "metadata": {},
   "source": [
    "Down below we show the **effect that the application of rules have over the predicted brain map**."
   ]
  },
  {
   "cell_type": "code",
   "execution_count": 19,
   "metadata": {},
   "outputs": [
    {
     "name": "stdout",
     "output_type": "stream",
     "text": [
      "With a relevance threshold of 0.9, 523 regions were marked as hypometabolic: 95 correctly (18.16 %) and 428 incorrectly\n",
      "With a relevance threshold of 0.8, 536 regions were marked as hypometabolic: 96 correctly (17.91 %) and 440 incorrectly\n",
      "With a relevance threshold of 0.7, 574 regions were marked as hypometabolic: 98 correctly (17.07 %) and 476 incorrectly\n",
      "With a relevance threshold of 0.6, 758 regions were marked as hypometabolic: 138 correctly (18.21 %) and 620 incorrectly\n",
      "With a relevance threshold of 0.5, 984 regions were marked as hypometabolic: 181 correctly (18.39 %) and 803 incorrectly\n"
     ]
    }
   ],
   "source": [
    "for i in added_normalised_brodmann: print(i)"
   ]
  },
  {
   "cell_type": "markdown",
   "metadata": {},
   "source": [
    "### Conclusions"
   ]
  },
  {
   "cell_type": "markdown",
   "metadata": {},
   "source": [
    "In order to measure the validity of our rules, it is important to know what result should we expect if we did random changes from negative labels to positive labels in our predicted datasets. As we have seen, it would be expected that only 5-6% of values are correctly labelled. This low percentage can be explained by two facts. First, the percentage of positive labels is by itself very low in the real dataset (15%). Second, our models have already predicted correctly part of this positive labels, which mean that only very few remain available for correction. Taking this into consideration, it is evident that **our rules perform better than a random generator would do**. Even so, **incorrect modifications are more common than correct modifications**, which explains why accuracy and precision always fall. Recall, on the other hand, can only improve. \n",
    "\n",
    "**As we consider lower relevance thresholds**, we allow more rules and more modifications to be considered. When the number of modifications is low, they tend to be more accurate; when the number of modifications is high, they tend to be less accurate. The consequence is that **recall increase while accuracy and precision decrease**. **As for the two different type of rules**, normalised rules result in less changes being made, which makes sense because we are being more strict. However, **absolute rules usually perform better at similar magnitudes**. The explanation is that normalised rules are very useful from the clinical point of view, but a pure data driven mechanism is expected to yield better metrics.\n",
    "\n",
    "So, why are we struggling with correctly modifying non-hipometabolism to hipometabolism? \n",
    "\n",
    "- **Rules are very simple, which brings uncertainty**: in the rule '*if A is hypometabolic, then B is hypometabolic with a probability of 0.6*' we know the rule can be applied in 60% of cases but we don't know which cases they are; therefore, we may apply it when not needed or not apply it when needed.\n",
    "- **We are in a very difficult scenario**: many positive labels have already been predicted correctly with our models, so what is left are the difficult cases. \n",
    "- **We are in a very unstable scenario**: the models predicted wrongly in some cases, so the rules are acting over uncertain prior knowledge. With neural networks, the prediction is worse than with genetic algorithm. This explains why the rules perform worst even when the scenario is easier (not so many positive labels have been predicted correctly)."
   ]
  }
 ],
 "metadata": {
  "kernelspec": {
   "display_name": "Python 3",
   "language": "python",
   "name": "python3"
  },
  "language_info": {
   "codemirror_mode": {
    "name": "ipython",
    "version": 3
   },
   "file_extension": ".py",
   "mimetype": "text/x-python",
   "name": "python",
   "nbconvert_exporter": "python",
   "pygments_lexer": "ipython3",
   "version": "3.7.7"
  }
 },
 "nbformat": 4,
 "nbformat_minor": 4
}
