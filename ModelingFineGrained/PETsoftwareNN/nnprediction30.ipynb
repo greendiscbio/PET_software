{
 "cells": [
  {
   "cell_type": "markdown",
   "metadata": {},
   "source": [
    "# Prediction with genetic algorithms and correction with probabilistic rules"
   ]
  },
  {
   "cell_type": "markdown",
   "metadata": {},
   "source": [
    "This notebook gathers the results for the predictions made on the neural network models, considering a binary threshold of 30, and the later correction using probabilistic rules."
   ]
  },
  {
   "cell_type": "markdown",
   "metadata": {},
   "source": [
    "### Brief explanation"
   ]
  },
  {
   "cell_type": "markdown",
   "metadata": {},
   "source": [
    "With the already chosen best models, we predicted hypometabolism for the patients in our database. By predicting each brain region independently, we created a whole brain map. However, and since variability was a big deal in some regions, we performed 5 predictions per region, which led to 5 different brain maps. For each of them, absolute and normalised probabilistic rules were applied. Eventually, consensus brain maps were calculated before and after rule application. The relevance threshold, which determines how strict we are in considering rules, has been set as a parameter varying from 0.5 to 1."
   ]
  },
  {
   "cell_type": "markdown",
   "metadata": {},
   "source": [
    "### Import the packages"
   ]
  },
  {
   "cell_type": "markdown",
   "metadata": {},
   "source": [
    "We import the packages that will be needed. In this case, everything is already contained in the prtools.py file."
   ]
  },
  {
   "cell_type": "code",
   "execution_count": 1,
   "metadata": {},
   "outputs": [],
   "source": [
    "import sys\n",
    "sys.path.insert(0,'../../Tools')\n",
    "from prtools import *\n",
    "da = Datasets()\n",
    "ra = RuleApplication()"
   ]
  },
  {
   "cell_type": "code",
   "execution_count": 2,
   "metadata": {},
   "outputs": [],
   "source": [
    "pandas.set_option('display.max_rows', None)\n",
    "pandas.set_option('display.max_columns', None)\n",
    "pandas.set_option('display.width', None)\n",
    "pandas.set_option('display.max_colwidth', None)"
   ]
  },
  {
   "cell_type": "markdown",
   "metadata": {},
   "source": [
    "### Preparation of results"
   ]
  },
  {
   "cell_type": "markdown",
   "metadata": {},
   "source": [
    "#### General stuff"
   ]
  },
  {
   "cell_type": "code",
   "execution_count": 3,
   "metadata": {},
   "outputs": [],
   "source": [
    "real_aal = da.define_binary(pandas.read_csv('../../Data/Y_aal_quan.csv'),30)\n",
    "real_brodmann = da.define_binary(pandas.read_csv('../../Data/Y_brodmann_quan.csv'),30)\n",
    "prediction_aal = pandas.read_csv('./Prediction_30/Prediction/prediction_aal.csv')\n",
    "prediction_brodmann = pandas.read_csv('./Prediction_30/Prediction/prediction_brodmann.csv')"
   ]
  },
  {
   "cell_type": "code",
   "execution_count": 4,
   "metadata": {},
   "outputs": [],
   "source": [
    "relevance_thresholds_absolute = [1,0.975,0.950,0.925,0.9,0.8,0.7,0.6,0.5]\n",
    "relevance_thresholds_normalised = [0.9,0.8,0.7,0.6,0.5]"
   ]
  },
  {
   "cell_type": "markdown",
   "metadata": {},
   "source": [
    "#### Absolute rules"
   ]
  },
  {
   "cell_type": "code",
   "execution_count": 5,
   "metadata": {},
   "outputs": [],
   "source": [
    "comparison_absolute_aal = ra.compare_with_real(prediction_aal,real_aal)\n",
    "comparison_absolute_brodmann = ra.compare_with_real(prediction_brodmann,real_brodmann)\n",
    "index = ['Prediction']\n",
    "for relevance_threshold in relevance_thresholds_absolute:\n",
    "    absolute_aal = pandas.read_csv('./Prediction_30/Absolute/correction_aal_'+str(relevance_threshold)+'.csv')\n",
    "    absolute_brodmann = pandas.read_csv('./Prediction_30/Absolute/correction_brodmann_'+str(relevance_threshold)+'.csv')\n",
    "    comparison_absolute_aal = pandas.concat([comparison_absolute_aal,ra.compare_with_real(absolute_aal,real_aal)],axis=0)\n",
    "    comparison_absolute_brodmann = pandas.concat([comparison_absolute_brodmann,ra.compare_with_real(absolute_brodmann,real_brodmann)],axis=0)\n",
    "    index.append('Relevance threshold = '+str(relevance_threshold))\n",
    "comparison_absolute_aal.index = index\n",
    "comparison_absolute_brodmann.index = index"
   ]
  },
  {
   "cell_type": "code",
   "execution_count": 6,
   "metadata": {},
   "outputs": [],
   "source": [
    "TFP_absolute_aal = comparison_absolute_aal[['TP','FP']].transpose()\n",
    "TFP_absolute_brodmann = comparison_absolute_brodmann[['TP','FP']].transpose()\n",
    "added_absolute_aal = []\n",
    "added_absolute_brodmann = []\n",
    "for relevance_threshold in relevance_thresholds_absolute:\n",
    "        temp_TFP_aal = TFP_absolute_aal['Relevance threshold = '+str(relevance_threshold)]-TFP_absolute_aal['Prediction']\n",
    "        temp_TFP_brodmann = TFP_absolute_brodmann['Relevance threshold = '+str(relevance_threshold)]-TFP_absolute_brodmann['Prediction']\n",
    "        added_absolute_aal.append('With a relevance threshold of '+str(relevance_threshold)+', '+str(temp_TFP_aal[0]+temp_TFP_aal[1])+' regions were marked as hypometabolic: '+str(temp_TFP_aal[0])+' correctly ('+str(round(temp_TFP_aal[0]*100/(temp_TFP_aal[0]+temp_TFP_aal[1]),2))+' %) and '+str(temp_TFP_aal[1])+' incorrectly')\n",
    "        added_absolute_brodmann.append('With a relevance threshold of '+str(relevance_threshold)+', '+str(temp_TFP_brodmann[0]+temp_TFP_brodmann[1])+' regions were marked as hypometabolic: '+str(temp_TFP_brodmann[0])+' correctly ('+str(round(temp_TFP_brodmann[0]*100/(temp_TFP_brodmann[0]+temp_TFP_brodmann[1]),2))+' %) and '+str(temp_TFP_brodmann[1])+' incorrectly')"
   ]
  },
  {
   "cell_type": "markdown",
   "metadata": {},
   "source": [
    "#### Normalised rules"
   ]
  },
  {
   "cell_type": "code",
   "execution_count": 7,
   "metadata": {},
   "outputs": [],
   "source": [
    "comparison_normalised_aal = ra.compare_with_real(prediction_aal,real_aal)\n",
    "comparison_normalised_brodmann = ra.compare_with_real(prediction_brodmann,real_brodmann)\n",
    "index = ['Prediction']\n",
    "for relevance_threshold in relevance_thresholds_normalised:\n",
    "    normalised_aal = pandas.read_csv('./Prediction_30/Normalised/correction_aal_'+str(relevance_threshold)+'.csv')\n",
    "    normalised_brodmann = pandas.read_csv('./Prediction_30/Normalised/correction_brodmann_'+str(relevance_threshold)+'.csv')\n",
    "    comparison_normalised_aal = pandas.concat([comparison_normalised_aal,ra.compare_with_real(normalised_aal,real_aal)],axis=0)\n",
    "    comparison_normalised_brodmann = pandas.concat([comparison_normalised_brodmann,ra.compare_with_real(normalised_brodmann,real_brodmann)],axis=0)\n",
    "    index.append('Relevance threshold = '+str(relevance_threshold))\n",
    "comparison_normalised_aal.index = index\n",
    "comparison_normalised_brodmann.index = index"
   ]
  },
  {
   "cell_type": "code",
   "execution_count": 8,
   "metadata": {},
   "outputs": [],
   "source": [
    "TFP_normalised_aal = comparison_normalised_aal[['TP','FP']].transpose()\n",
    "TFP_normalised_brodmann = comparison_normalised_brodmann[['TP','FP']].transpose()\n",
    "added_normalised_aal = []\n",
    "added_normalised_brodmann = []\n",
    "for relevance_threshold in relevance_thresholds_normalised:\n",
    "        temp_TFP_aal = TFP_normalised_aal['Relevance threshold = '+str(relevance_threshold)]-TFP_normalised_aal['Prediction']\n",
    "        temp_TFP_brodmann = TFP_normalised_brodmann['Relevance threshold = '+str(relevance_threshold)]-TFP_normalised_brodmann['Prediction']\n",
    "        added_normalised_aal.append('With a relevance threshold of '+str(relevance_threshold)+', '+str(temp_TFP_aal[0]+temp_TFP_aal[1])+' regions were marked as hypometabolic: '+str(temp_TFP_aal[0])+' correctly ('+str(round(temp_TFP_aal[0]*100/(temp_TFP_aal[0]+temp_TFP_aal[1]),2))+' %) and '+str(temp_TFP_aal[1])+' incorrectly')\n",
    "        added_normalised_brodmann.append('With a relevance threshold of '+str(relevance_threshold)+', '+str(temp_TFP_brodmann[0]+temp_TFP_brodmann[1])+' regions were marked as hypometabolic: '+str(temp_TFP_brodmann[0])+' correctly ('+str(round(temp_TFP_brodmann[0]*100/(temp_TFP_brodmann[0]+temp_TFP_brodmann[1]),2))+' %) and '+str(temp_TFP_brodmann[1])+' incorrectly')"
   ]
  },
  {
   "cell_type": "markdown",
   "metadata": {},
   "source": [
    "#### Random rules"
   ]
  },
  {
   "cell_type": "code",
   "execution_count": 9,
   "metadata": {},
   "outputs": [],
   "source": [
    "FN_aal = comparison_absolute_aal.loc['Prediction']['FN']\n",
    "TFN_aal = comparison_absolute_aal.loc['Prediction']['FN'] + comparison_absolute_aal.loc['Prediction']['TN']\n",
    "FN_brodmann = comparison_absolute_brodmann.loc['Prediction']['FN']\n",
    "TFN_brodmann = comparison_absolute_brodmann.loc['Prediction']['FN'] + comparison_absolute_brodmann.loc['Prediction']['TN']\n",
    "random_aal = str(round((FN_aal*100/TFN_aal),2))+' %'\n",
    "random_brodmann = str(round((FN_brodmann*100/TFN_brodmann),2))+' %'"
   ]
  },
  {
   "cell_type": "markdown",
   "metadata": {},
   "source": [
    "### Results"
   ]
  },
  {
   "cell_type": "markdown",
   "metadata": {},
   "source": [
    "#### AAL atlas (90 regions)"
   ]
  },
  {
   "cell_type": "markdown",
   "metadata": {},
   "source": [
    "##### Using random corrector"
   ]
  },
  {
   "cell_type": "markdown",
   "metadata": {},
   "source": [
    "A program that randomly changes negative labels to positive labels in our predicted dataset would label correctly what percentage of values?"
   ]
  },
  {
   "cell_type": "code",
   "execution_count": 10,
   "metadata": {},
   "outputs": [
    {
     "name": "stdout",
     "output_type": "stream",
     "text": [
      "8.83 %\n"
     ]
    }
   ],
   "source": [
    "print(random_aal)"
   ]
  },
  {
   "cell_type": "markdown",
   "metadata": {},
   "source": [
    "##### Using absolute rules"
   ]
  },
  {
   "cell_type": "markdown",
   "metadata": {},
   "source": [
    "Down below we show the **metrics associated to both the predictions and later corrections through probabilistic rules**."
   ]
  },
  {
   "cell_type": "code",
   "execution_count": 11,
   "metadata": {},
   "outputs": [
    {
     "data": {
      "text/html": [
       "<div>\n",
       "<style scoped>\n",
       "    .dataframe tbody tr th:only-of-type {\n",
       "        vertical-align: middle;\n",
       "    }\n",
       "\n",
       "    .dataframe tbody tr th {\n",
       "        vertical-align: top;\n",
       "    }\n",
       "\n",
       "    .dataframe thead th {\n",
       "        text-align: right;\n",
       "    }\n",
       "</style>\n",
       "<table border=\"1\" class=\"dataframe\">\n",
       "  <thead>\n",
       "    <tr style=\"text-align: right;\">\n",
       "      <th></th>\n",
       "      <th>TP</th>\n",
       "      <th>TN</th>\n",
       "      <th>FP</th>\n",
       "      <th>FN</th>\n",
       "      <th>accuracy</th>\n",
       "      <th>f1</th>\n",
       "      <th>precision</th>\n",
       "      <th>recall</th>\n",
       "    </tr>\n",
       "  </thead>\n",
       "  <tbody>\n",
       "    <tr>\n",
       "      <th>Prediction</th>\n",
       "      <td>2481</td>\n",
       "      <td>21252</td>\n",
       "      <td>4088</td>\n",
       "      <td>2059</td>\n",
       "      <td>0.794</td>\n",
       "      <td>0.447</td>\n",
       "      <td>0.378</td>\n",
       "      <td>0.546</td>\n",
       "    </tr>\n",
       "    <tr>\n",
       "      <th>Relevance threshold = 1</th>\n",
       "      <td>2841</td>\n",
       "      <td>19570</td>\n",
       "      <td>5770</td>\n",
       "      <td>1699</td>\n",
       "      <td>0.750</td>\n",
       "      <td>0.432</td>\n",
       "      <td>0.330</td>\n",
       "      <td>0.626</td>\n",
       "    </tr>\n",
       "    <tr>\n",
       "      <th>Relevance threshold = 0.975</th>\n",
       "      <td>2937</td>\n",
       "      <td>18946</td>\n",
       "      <td>6394</td>\n",
       "      <td>1603</td>\n",
       "      <td>0.732</td>\n",
       "      <td>0.423</td>\n",
       "      <td>0.315</td>\n",
       "      <td>0.647</td>\n",
       "    </tr>\n",
       "    <tr>\n",
       "      <th>Relevance threshold = 0.95</th>\n",
       "      <td>2937</td>\n",
       "      <td>18946</td>\n",
       "      <td>6394</td>\n",
       "      <td>1603</td>\n",
       "      <td>0.732</td>\n",
       "      <td>0.423</td>\n",
       "      <td>0.315</td>\n",
       "      <td>0.647</td>\n",
       "    </tr>\n",
       "    <tr>\n",
       "      <th>Relevance threshold = 0.925</th>\n",
       "      <td>2972</td>\n",
       "      <td>18793</td>\n",
       "      <td>6547</td>\n",
       "      <td>1568</td>\n",
       "      <td>0.728</td>\n",
       "      <td>0.423</td>\n",
       "      <td>0.312</td>\n",
       "      <td>0.655</td>\n",
       "    </tr>\n",
       "    <tr>\n",
       "      <th>Relevance threshold = 0.9</th>\n",
       "      <td>3006</td>\n",
       "      <td>18699</td>\n",
       "      <td>6641</td>\n",
       "      <td>1534</td>\n",
       "      <td>0.726</td>\n",
       "      <td>0.424</td>\n",
       "      <td>0.312</td>\n",
       "      <td>0.662</td>\n",
       "    </tr>\n",
       "    <tr>\n",
       "      <th>Relevance threshold = 0.8</th>\n",
       "      <td>3206</td>\n",
       "      <td>17889</td>\n",
       "      <td>7451</td>\n",
       "      <td>1334</td>\n",
       "      <td>0.706</td>\n",
       "      <td>0.422</td>\n",
       "      <td>0.301</td>\n",
       "      <td>0.706</td>\n",
       "    </tr>\n",
       "    <tr>\n",
       "      <th>Relevance threshold = 0.7</th>\n",
       "      <td>3479</td>\n",
       "      <td>16531</td>\n",
       "      <td>8809</td>\n",
       "      <td>1061</td>\n",
       "      <td>0.670</td>\n",
       "      <td>0.413</td>\n",
       "      <td>0.283</td>\n",
       "      <td>0.766</td>\n",
       "    </tr>\n",
       "    <tr>\n",
       "      <th>Relevance threshold = 0.6</th>\n",
       "      <td>3722</td>\n",
       "      <td>14935</td>\n",
       "      <td>10405</td>\n",
       "      <td>818</td>\n",
       "      <td>0.624</td>\n",
       "      <td>0.399</td>\n",
       "      <td>0.263</td>\n",
       "      <td>0.820</td>\n",
       "    </tr>\n",
       "    <tr>\n",
       "      <th>Relevance threshold = 0.5</th>\n",
       "      <td>3865</td>\n",
       "      <td>13783</td>\n",
       "      <td>11557</td>\n",
       "      <td>675</td>\n",
       "      <td>0.591</td>\n",
       "      <td>0.387</td>\n",
       "      <td>0.251</td>\n",
       "      <td>0.851</td>\n",
       "    </tr>\n",
       "  </tbody>\n",
       "</table>\n",
       "</div>"
      ],
      "text/plain": [
       "                               TP     TN     FP    FN  accuracy     f1  \\\n",
       "Prediction                   2481  21252   4088  2059     0.794  0.447   \n",
       "Relevance threshold = 1      2841  19570   5770  1699     0.750  0.432   \n",
       "Relevance threshold = 0.975  2937  18946   6394  1603     0.732  0.423   \n",
       "Relevance threshold = 0.95   2937  18946   6394  1603     0.732  0.423   \n",
       "Relevance threshold = 0.925  2972  18793   6547  1568     0.728  0.423   \n",
       "Relevance threshold = 0.9    3006  18699   6641  1534     0.726  0.424   \n",
       "Relevance threshold = 0.8    3206  17889   7451  1334     0.706  0.422   \n",
       "Relevance threshold = 0.7    3479  16531   8809  1061     0.670  0.413   \n",
       "Relevance threshold = 0.6    3722  14935  10405   818     0.624  0.399   \n",
       "Relevance threshold = 0.5    3865  13783  11557   675     0.591  0.387   \n",
       "\n",
       "                             precision  recall  \n",
       "Prediction                       0.378   0.546  \n",
       "Relevance threshold = 1          0.330   0.626  \n",
       "Relevance threshold = 0.975      0.315   0.647  \n",
       "Relevance threshold = 0.95       0.315   0.647  \n",
       "Relevance threshold = 0.925      0.312   0.655  \n",
       "Relevance threshold = 0.9        0.312   0.662  \n",
       "Relevance threshold = 0.8        0.301   0.706  \n",
       "Relevance threshold = 0.7        0.283   0.766  \n",
       "Relevance threshold = 0.6        0.263   0.820  \n",
       "Relevance threshold = 0.5        0.251   0.851  "
      ]
     },
     "execution_count": 11,
     "metadata": {},
     "output_type": "execute_result"
    }
   ],
   "source": [
    "comparison_absolute_aal"
   ]
  },
  {
   "cell_type": "markdown",
   "metadata": {},
   "source": [
    "Down below we show the **effect that the application of rules have over the predicted brain map**."
   ]
  },
  {
   "cell_type": "code",
   "execution_count": 12,
   "metadata": {},
   "outputs": [
    {
     "name": "stdout",
     "output_type": "stream",
     "text": [
      "With a relevance threshold of 1, 2042 regions were marked as hypometabolic: 360 correctly (17.63 %) and 1682 incorrectly\n",
      "With a relevance threshold of 0.975, 2762 regions were marked as hypometabolic: 456 correctly (16.51 %) and 2306 incorrectly\n",
      "With a relevance threshold of 0.95, 2762 regions were marked as hypometabolic: 456 correctly (16.51 %) and 2306 incorrectly\n",
      "With a relevance threshold of 0.925, 2950 regions were marked as hypometabolic: 491 correctly (16.64 %) and 2459 incorrectly\n",
      "With a relevance threshold of 0.9, 3078 regions were marked as hypometabolic: 525 correctly (17.06 %) and 2553 incorrectly\n",
      "With a relevance threshold of 0.8, 4088 regions were marked as hypometabolic: 725 correctly (17.73 %) and 3363 incorrectly\n",
      "With a relevance threshold of 0.7, 5719 regions were marked as hypometabolic: 998 correctly (17.45 %) and 4721 incorrectly\n",
      "With a relevance threshold of 0.6, 7558 regions were marked as hypometabolic: 1241 correctly (16.42 %) and 6317 incorrectly\n",
      "With a relevance threshold of 0.5, 8853 regions were marked as hypometabolic: 1384 correctly (15.63 %) and 7469 incorrectly\n"
     ]
    }
   ],
   "source": [
    "for i in added_absolute_aal: print(i)"
   ]
  },
  {
   "cell_type": "markdown",
   "metadata": {},
   "source": [
    "##### Using normalised rules"
   ]
  },
  {
   "cell_type": "markdown",
   "metadata": {},
   "source": [
    "Down below we show the **metrics associated to both the predictions and later corrections through probabilistic rules**."
   ]
  },
  {
   "cell_type": "code",
   "execution_count": 13,
   "metadata": {},
   "outputs": [
    {
     "data": {
      "text/html": [
       "<div>\n",
       "<style scoped>\n",
       "    .dataframe tbody tr th:only-of-type {\n",
       "        vertical-align: middle;\n",
       "    }\n",
       "\n",
       "    .dataframe tbody tr th {\n",
       "        vertical-align: top;\n",
       "    }\n",
       "\n",
       "    .dataframe thead th {\n",
       "        text-align: right;\n",
       "    }\n",
       "</style>\n",
       "<table border=\"1\" class=\"dataframe\">\n",
       "  <thead>\n",
       "    <tr style=\"text-align: right;\">\n",
       "      <th></th>\n",
       "      <th>TP</th>\n",
       "      <th>TN</th>\n",
       "      <th>FP</th>\n",
       "      <th>FN</th>\n",
       "      <th>accuracy</th>\n",
       "      <th>f1</th>\n",
       "      <th>precision</th>\n",
       "      <th>recall</th>\n",
       "    </tr>\n",
       "  </thead>\n",
       "  <tbody>\n",
       "    <tr>\n",
       "      <th>Prediction</th>\n",
       "      <td>2481</td>\n",
       "      <td>21252</td>\n",
       "      <td>4088</td>\n",
       "      <td>2059</td>\n",
       "      <td>0.794</td>\n",
       "      <td>0.447</td>\n",
       "      <td>0.378</td>\n",
       "      <td>0.546</td>\n",
       "    </tr>\n",
       "    <tr>\n",
       "      <th>Relevance threshold = 0.9</th>\n",
       "      <td>2853</td>\n",
       "      <td>19510</td>\n",
       "      <td>5830</td>\n",
       "      <td>1687</td>\n",
       "      <td>0.748</td>\n",
       "      <td>0.432</td>\n",
       "      <td>0.329</td>\n",
       "      <td>0.628</td>\n",
       "    </tr>\n",
       "    <tr>\n",
       "      <th>Relevance threshold = 0.8</th>\n",
       "      <td>2855</td>\n",
       "      <td>19499</td>\n",
       "      <td>5841</td>\n",
       "      <td>1685</td>\n",
       "      <td>0.748</td>\n",
       "      <td>0.431</td>\n",
       "      <td>0.328</td>\n",
       "      <td>0.629</td>\n",
       "    </tr>\n",
       "    <tr>\n",
       "      <th>Relevance threshold = 0.7</th>\n",
       "      <td>2887</td>\n",
       "      <td>19410</td>\n",
       "      <td>5930</td>\n",
       "      <td>1653</td>\n",
       "      <td>0.746</td>\n",
       "      <td>0.432</td>\n",
       "      <td>0.327</td>\n",
       "      <td>0.636</td>\n",
       "    </tr>\n",
       "    <tr>\n",
       "      <th>Relevance threshold = 0.6</th>\n",
       "      <td>3003</td>\n",
       "      <td>18985</td>\n",
       "      <td>6355</td>\n",
       "      <td>1537</td>\n",
       "      <td>0.736</td>\n",
       "      <td>0.432</td>\n",
       "      <td>0.321</td>\n",
       "      <td>0.661</td>\n",
       "    </tr>\n",
       "    <tr>\n",
       "      <th>Relevance threshold = 0.5</th>\n",
       "      <td>3092</td>\n",
       "      <td>18675</td>\n",
       "      <td>6665</td>\n",
       "      <td>1448</td>\n",
       "      <td>0.728</td>\n",
       "      <td>0.433</td>\n",
       "      <td>0.317</td>\n",
       "      <td>0.681</td>\n",
       "    </tr>\n",
       "  </tbody>\n",
       "</table>\n",
       "</div>"
      ],
      "text/plain": [
       "                             TP     TN    FP    FN  accuracy     f1  \\\n",
       "Prediction                 2481  21252  4088  2059     0.794  0.447   \n",
       "Relevance threshold = 0.9  2853  19510  5830  1687     0.748  0.432   \n",
       "Relevance threshold = 0.8  2855  19499  5841  1685     0.748  0.431   \n",
       "Relevance threshold = 0.7  2887  19410  5930  1653     0.746  0.432   \n",
       "Relevance threshold = 0.6  3003  18985  6355  1537     0.736  0.432   \n",
       "Relevance threshold = 0.5  3092  18675  6665  1448     0.728  0.433   \n",
       "\n",
       "                           precision  recall  \n",
       "Prediction                     0.378   0.546  \n",
       "Relevance threshold = 0.9      0.329   0.628  \n",
       "Relevance threshold = 0.8      0.328   0.629  \n",
       "Relevance threshold = 0.7      0.327   0.636  \n",
       "Relevance threshold = 0.6      0.321   0.661  \n",
       "Relevance threshold = 0.5      0.317   0.681  "
      ]
     },
     "execution_count": 13,
     "metadata": {},
     "output_type": "execute_result"
    }
   ],
   "source": [
    "comparison_normalised_aal"
   ]
  },
  {
   "cell_type": "markdown",
   "metadata": {},
   "source": [
    "Down below we show the **effect that the application of rules have over the predicted brain map**."
   ]
  },
  {
   "cell_type": "code",
   "execution_count": 14,
   "metadata": {},
   "outputs": [
    {
     "name": "stdout",
     "output_type": "stream",
     "text": [
      "With a relevance threshold of 0.9, 2114 regions were marked as hypometabolic: 372 correctly (17.6 %) and 1742 incorrectly\n",
      "With a relevance threshold of 0.8, 2127 regions were marked as hypometabolic: 374 correctly (17.58 %) and 1753 incorrectly\n",
      "With a relevance threshold of 0.7, 2248 regions were marked as hypometabolic: 406 correctly (18.06 %) and 1842 incorrectly\n",
      "With a relevance threshold of 0.6, 2789 regions were marked as hypometabolic: 522 correctly (18.72 %) and 2267 incorrectly\n",
      "With a relevance threshold of 0.5, 3188 regions were marked as hypometabolic: 611 correctly (19.17 %) and 2577 incorrectly\n"
     ]
    }
   ],
   "source": [
    "for i in added_normalised_aal: print(i)"
   ]
  },
  {
   "cell_type": "markdown",
   "metadata": {},
   "source": [
    "#### Brodmann atlas (47 regions)"
   ]
  },
  {
   "cell_type": "markdown",
   "metadata": {},
   "source": [
    "##### Using random corrector"
   ]
  },
  {
   "cell_type": "markdown",
   "metadata": {},
   "source": [
    "A program that randomly changes negative labels to positive labels in our predicted dataset would label correctly what percentage of values?"
   ]
  },
  {
   "cell_type": "code",
   "execution_count": 15,
   "metadata": {},
   "outputs": [
    {
     "name": "stdout",
     "output_type": "stream",
     "text": [
      "7.51 %\n"
     ]
    }
   ],
   "source": [
    "print(random_brodmann)"
   ]
  },
  {
   "cell_type": "markdown",
   "metadata": {},
   "source": [
    "##### Using absolute rules"
   ]
  },
  {
   "cell_type": "markdown",
   "metadata": {},
   "source": [
    "Down below we show the **metrics associated to both the predictions and later corrections through probabilistic rules**."
   ]
  },
  {
   "cell_type": "code",
   "execution_count": 16,
   "metadata": {},
   "outputs": [
    {
     "data": {
      "text/html": [
       "<div>\n",
       "<style scoped>\n",
       "    .dataframe tbody tr th:only-of-type {\n",
       "        vertical-align: middle;\n",
       "    }\n",
       "\n",
       "    .dataframe tbody tr th {\n",
       "        vertical-align: top;\n",
       "    }\n",
       "\n",
       "    .dataframe thead th {\n",
       "        text-align: right;\n",
       "    }\n",
       "</style>\n",
       "<table border=\"1\" class=\"dataframe\">\n",
       "  <thead>\n",
       "    <tr style=\"text-align: right;\">\n",
       "      <th></th>\n",
       "      <th>TP</th>\n",
       "      <th>TN</th>\n",
       "      <th>FP</th>\n",
       "      <th>FN</th>\n",
       "      <th>accuracy</th>\n",
       "      <th>f1</th>\n",
       "      <th>precision</th>\n",
       "      <th>recall</th>\n",
       "    </tr>\n",
       "  </thead>\n",
       "  <tbody>\n",
       "    <tr>\n",
       "      <th>Prediction</th>\n",
       "      <td>1347</td>\n",
       "      <td>11588</td>\n",
       "      <td>1728</td>\n",
       "      <td>941</td>\n",
       "      <td>0.829</td>\n",
       "      <td>0.502</td>\n",
       "      <td>0.438</td>\n",
       "      <td>0.589</td>\n",
       "    </tr>\n",
       "    <tr>\n",
       "      <th>Relevance threshold = 1</th>\n",
       "      <td>1510</td>\n",
       "      <td>11019</td>\n",
       "      <td>2297</td>\n",
       "      <td>778</td>\n",
       "      <td>0.803</td>\n",
       "      <td>0.495</td>\n",
       "      <td>0.397</td>\n",
       "      <td>0.660</td>\n",
       "    </tr>\n",
       "    <tr>\n",
       "      <th>Relevance threshold = 0.975</th>\n",
       "      <td>1629</td>\n",
       "      <td>10640</td>\n",
       "      <td>2676</td>\n",
       "      <td>659</td>\n",
       "      <td>0.786</td>\n",
       "      <td>0.494</td>\n",
       "      <td>0.378</td>\n",
       "      <td>0.712</td>\n",
       "    </tr>\n",
       "    <tr>\n",
       "      <th>Relevance threshold = 0.95</th>\n",
       "      <td>1629</td>\n",
       "      <td>10637</td>\n",
       "      <td>2679</td>\n",
       "      <td>659</td>\n",
       "      <td>0.786</td>\n",
       "      <td>0.494</td>\n",
       "      <td>0.378</td>\n",
       "      <td>0.712</td>\n",
       "    </tr>\n",
       "    <tr>\n",
       "      <th>Relevance threshold = 0.925</th>\n",
       "      <td>1642</td>\n",
       "      <td>10576</td>\n",
       "      <td>2740</td>\n",
       "      <td>646</td>\n",
       "      <td>0.783</td>\n",
       "      <td>0.492</td>\n",
       "      <td>0.375</td>\n",
       "      <td>0.718</td>\n",
       "    </tr>\n",
       "    <tr>\n",
       "      <th>Relevance threshold = 0.9</th>\n",
       "      <td>1654</td>\n",
       "      <td>10538</td>\n",
       "      <td>2778</td>\n",
       "      <td>634</td>\n",
       "      <td>0.781</td>\n",
       "      <td>0.492</td>\n",
       "      <td>0.373</td>\n",
       "      <td>0.723</td>\n",
       "    </tr>\n",
       "    <tr>\n",
       "      <th>Relevance threshold = 0.8</th>\n",
       "      <td>1731</td>\n",
       "      <td>10243</td>\n",
       "      <td>3073</td>\n",
       "      <td>557</td>\n",
       "      <td>0.767</td>\n",
       "      <td>0.488</td>\n",
       "      <td>0.360</td>\n",
       "      <td>0.757</td>\n",
       "    </tr>\n",
       "    <tr>\n",
       "      <th>Relevance threshold = 0.7</th>\n",
       "      <td>1797</td>\n",
       "      <td>9930</td>\n",
       "      <td>3386</td>\n",
       "      <td>491</td>\n",
       "      <td>0.752</td>\n",
       "      <td>0.481</td>\n",
       "      <td>0.347</td>\n",
       "      <td>0.785</td>\n",
       "    </tr>\n",
       "    <tr>\n",
       "      <th>Relevance threshold = 0.6</th>\n",
       "      <td>1845</td>\n",
       "      <td>9640</td>\n",
       "      <td>3676</td>\n",
       "      <td>443</td>\n",
       "      <td>0.736</td>\n",
       "      <td>0.473</td>\n",
       "      <td>0.334</td>\n",
       "      <td>0.806</td>\n",
       "    </tr>\n",
       "    <tr>\n",
       "      <th>Relevance threshold = 0.5</th>\n",
       "      <td>1868</td>\n",
       "      <td>9461</td>\n",
       "      <td>3855</td>\n",
       "      <td>420</td>\n",
       "      <td>0.726</td>\n",
       "      <td>0.466</td>\n",
       "      <td>0.326</td>\n",
       "      <td>0.816</td>\n",
       "    </tr>\n",
       "  </tbody>\n",
       "</table>\n",
       "</div>"
      ],
      "text/plain": [
       "                               TP     TN    FP   FN  accuracy     f1  \\\n",
       "Prediction                   1347  11588  1728  941     0.829  0.502   \n",
       "Relevance threshold = 1      1510  11019  2297  778     0.803  0.495   \n",
       "Relevance threshold = 0.975  1629  10640  2676  659     0.786  0.494   \n",
       "Relevance threshold = 0.95   1629  10637  2679  659     0.786  0.494   \n",
       "Relevance threshold = 0.925  1642  10576  2740  646     0.783  0.492   \n",
       "Relevance threshold = 0.9    1654  10538  2778  634     0.781  0.492   \n",
       "Relevance threshold = 0.8    1731  10243  3073  557     0.767  0.488   \n",
       "Relevance threshold = 0.7    1797   9930  3386  491     0.752  0.481   \n",
       "Relevance threshold = 0.6    1845   9640  3676  443     0.736  0.473   \n",
       "Relevance threshold = 0.5    1868   9461  3855  420     0.726  0.466   \n",
       "\n",
       "                             precision  recall  \n",
       "Prediction                       0.438   0.589  \n",
       "Relevance threshold = 1          0.397   0.660  \n",
       "Relevance threshold = 0.975      0.378   0.712  \n",
       "Relevance threshold = 0.95       0.378   0.712  \n",
       "Relevance threshold = 0.925      0.375   0.718  \n",
       "Relevance threshold = 0.9        0.373   0.723  \n",
       "Relevance threshold = 0.8        0.360   0.757  \n",
       "Relevance threshold = 0.7        0.347   0.785  \n",
       "Relevance threshold = 0.6        0.334   0.806  \n",
       "Relevance threshold = 0.5        0.326   0.816  "
      ]
     },
     "execution_count": 16,
     "metadata": {},
     "output_type": "execute_result"
    }
   ],
   "source": [
    "comparison_absolute_brodmann"
   ]
  },
  {
   "cell_type": "markdown",
   "metadata": {},
   "source": [
    "Down below we show the **effect that the application of rules have over the predicted brain map**."
   ]
  },
  {
   "cell_type": "code",
   "execution_count": 17,
   "metadata": {},
   "outputs": [
    {
     "name": "stdout",
     "output_type": "stream",
     "text": [
      "With a relevance threshold of 1, 732 regions were marked as hypometabolic: 163 correctly (22.27 %) and 569 incorrectly\n",
      "With a relevance threshold of 0.975, 1230 regions were marked as hypometabolic: 282 correctly (22.93 %) and 948 incorrectly\n",
      "With a relevance threshold of 0.95, 1233 regions were marked as hypometabolic: 282 correctly (22.87 %) and 951 incorrectly\n",
      "With a relevance threshold of 0.925, 1307 regions were marked as hypometabolic: 295 correctly (22.57 %) and 1012 incorrectly\n",
      "With a relevance threshold of 0.9, 1357 regions were marked as hypometabolic: 307 correctly (22.62 %) and 1050 incorrectly\n",
      "With a relevance threshold of 0.8, 1729 regions were marked as hypometabolic: 384 correctly (22.21 %) and 1345 incorrectly\n",
      "With a relevance threshold of 0.7, 2108 regions were marked as hypometabolic: 450 correctly (21.35 %) and 1658 incorrectly\n",
      "With a relevance threshold of 0.6, 2446 regions were marked as hypometabolic: 498 correctly (20.36 %) and 1948 incorrectly\n",
      "With a relevance threshold of 0.5, 2648 regions were marked as hypometabolic: 521 correctly (19.68 %) and 2127 incorrectly\n"
     ]
    }
   ],
   "source": [
    "for i in added_absolute_brodmann: print(i)"
   ]
  },
  {
   "cell_type": "markdown",
   "metadata": {},
   "source": [
    "##### Using normalised rules"
   ]
  },
  {
   "cell_type": "markdown",
   "metadata": {},
   "source": [
    "Down below we show the **metrics associated to both the predictions and later corrections through probabilistic rules**."
   ]
  },
  {
   "cell_type": "code",
   "execution_count": 18,
   "metadata": {},
   "outputs": [
    {
     "data": {
      "text/html": [
       "<div>\n",
       "<style scoped>\n",
       "    .dataframe tbody tr th:only-of-type {\n",
       "        vertical-align: middle;\n",
       "    }\n",
       "\n",
       "    .dataframe tbody tr th {\n",
       "        vertical-align: top;\n",
       "    }\n",
       "\n",
       "    .dataframe thead th {\n",
       "        text-align: right;\n",
       "    }\n",
       "</style>\n",
       "<table border=\"1\" class=\"dataframe\">\n",
       "  <thead>\n",
       "    <tr style=\"text-align: right;\">\n",
       "      <th></th>\n",
       "      <th>TP</th>\n",
       "      <th>TN</th>\n",
       "      <th>FP</th>\n",
       "      <th>FN</th>\n",
       "      <th>accuracy</th>\n",
       "      <th>f1</th>\n",
       "      <th>precision</th>\n",
       "      <th>recall</th>\n",
       "    </tr>\n",
       "  </thead>\n",
       "  <tbody>\n",
       "    <tr>\n",
       "      <th>Prediction</th>\n",
       "      <td>1347</td>\n",
       "      <td>11588</td>\n",
       "      <td>1728</td>\n",
       "      <td>941</td>\n",
       "      <td>0.829</td>\n",
       "      <td>0.502</td>\n",
       "      <td>0.438</td>\n",
       "      <td>0.589</td>\n",
       "    </tr>\n",
       "    <tr>\n",
       "      <th>Relevance threshold = 0.9</th>\n",
       "      <td>1510</td>\n",
       "      <td>11016</td>\n",
       "      <td>2300</td>\n",
       "      <td>778</td>\n",
       "      <td>0.803</td>\n",
       "      <td>0.495</td>\n",
       "      <td>0.396</td>\n",
       "      <td>0.660</td>\n",
       "    </tr>\n",
       "    <tr>\n",
       "      <th>Relevance threshold = 0.8</th>\n",
       "      <td>1515</td>\n",
       "      <td>10970</td>\n",
       "      <td>2346</td>\n",
       "      <td>773</td>\n",
       "      <td>0.800</td>\n",
       "      <td>0.493</td>\n",
       "      <td>0.392</td>\n",
       "      <td>0.662</td>\n",
       "    </tr>\n",
       "    <tr>\n",
       "      <th>Relevance threshold = 0.7</th>\n",
       "      <td>1570</td>\n",
       "      <td>10831</td>\n",
       "      <td>2485</td>\n",
       "      <td>718</td>\n",
       "      <td>0.795</td>\n",
       "      <td>0.495</td>\n",
       "      <td>0.387</td>\n",
       "      <td>0.686</td>\n",
       "    </tr>\n",
       "    <tr>\n",
       "      <th>Relevance threshold = 0.6</th>\n",
       "      <td>1614</td>\n",
       "      <td>10707</td>\n",
       "      <td>2609</td>\n",
       "      <td>674</td>\n",
       "      <td>0.790</td>\n",
       "      <td>0.496</td>\n",
       "      <td>0.382</td>\n",
       "      <td>0.705</td>\n",
       "    </tr>\n",
       "    <tr>\n",
       "      <th>Relevance threshold = 0.5</th>\n",
       "      <td>1645</td>\n",
       "      <td>10569</td>\n",
       "      <td>2747</td>\n",
       "      <td>643</td>\n",
       "      <td>0.783</td>\n",
       "      <td>0.493</td>\n",
       "      <td>0.375</td>\n",
       "      <td>0.719</td>\n",
       "    </tr>\n",
       "  </tbody>\n",
       "</table>\n",
       "</div>"
      ],
      "text/plain": [
       "                             TP     TN    FP   FN  accuracy     f1  precision  \\\n",
       "Prediction                 1347  11588  1728  941     0.829  0.502      0.438   \n",
       "Relevance threshold = 0.9  1510  11016  2300  778     0.803  0.495      0.396   \n",
       "Relevance threshold = 0.8  1515  10970  2346  773     0.800  0.493      0.392   \n",
       "Relevance threshold = 0.7  1570  10831  2485  718     0.795  0.495      0.387   \n",
       "Relevance threshold = 0.6  1614  10707  2609  674     0.790  0.496      0.382   \n",
       "Relevance threshold = 0.5  1645  10569  2747  643     0.783  0.493      0.375   \n",
       "\n",
       "                           recall  \n",
       "Prediction                  0.589  \n",
       "Relevance threshold = 0.9   0.660  \n",
       "Relevance threshold = 0.8   0.662  \n",
       "Relevance threshold = 0.7   0.686  \n",
       "Relevance threshold = 0.6   0.705  \n",
       "Relevance threshold = 0.5   0.719  "
      ]
     },
     "execution_count": 18,
     "metadata": {},
     "output_type": "execute_result"
    }
   ],
   "source": [
    "comparison_normalised_brodmann"
   ]
  },
  {
   "cell_type": "markdown",
   "metadata": {},
   "source": [
    "Down below we show the **effect that the application of rules have over the predicted brain map**."
   ]
  },
  {
   "cell_type": "code",
   "execution_count": 19,
   "metadata": {},
   "outputs": [
    {
     "name": "stdout",
     "output_type": "stream",
     "text": [
      "With a relevance threshold of 0.9, 735 regions were marked as hypometabolic: 163 correctly (22.18 %) and 572 incorrectly\n",
      "With a relevance threshold of 0.8, 786 regions were marked as hypometabolic: 168 correctly (21.37 %) and 618 incorrectly\n",
      "With a relevance threshold of 0.7, 980 regions were marked as hypometabolic: 223 correctly (22.76 %) and 757 incorrectly\n",
      "With a relevance threshold of 0.6, 1148 regions were marked as hypometabolic: 267 correctly (23.26 %) and 881 incorrectly\n",
      "With a relevance threshold of 0.5, 1317 regions were marked as hypometabolic: 298 correctly (22.63 %) and 1019 incorrectly\n"
     ]
    }
   ],
   "source": [
    "for i in added_normalised_brodmann: print(i)"
   ]
  },
  {
   "cell_type": "markdown",
   "metadata": {},
   "source": [
    "### Conclusions"
   ]
  },
  {
   "cell_type": "markdown",
   "metadata": {},
   "source": [
    "In order to measure the validity of our rules, it is important to know what result should we expect if we did random changes from negative labels to positive labels in our predicted datasets. As we have seen, it would be expected that only 5-6% of values are correctly labelled. This low percentage can be explained by two facts. First, the percentage of positive labels is by itself very low in the real dataset (15%). Second, our models have already predicted correctly part of this positive labels, which mean that only very few remain available for correction. Taking this into consideration, it is evident that **our rules perform better than a random generator would do**. Even so, **incorrect modifications are more common than correct modifications**, which explains why accuracy and precision always fall. Recall, on the other hand, can only improve. \n",
    "\n",
    "**As we consider lower relevance thresholds**, we allow more rules and more modifications to be considered. When the number of modifications is low, they tend to be more accurate; when the number of modifications is high, they tend to be less accurate. The consequence is that **recall increase while accuracy and precision decrease**. **As for the two different type of rules**, normalised rules result in less changes being made, which makes sense because we are being more strict. However, **absolute rules usually perform better at similar magnitudes**. The explanation is that normalised rules are very useful from the clinical point of view, but a pure data driven mechanism is expected to yield better metrics.\n",
    "\n",
    "So, why are we struggling with correctly modifying non-hipometabolism to hipometabolism? \n",
    "\n",
    "- **Rules are very simple, which brings uncertainty**: in the rule '*if A is hypometabolic, then B is hypometabolic with a probability of 0.6*' we know the rule can be applied in 60% of cases but we don't know which cases they are; therefore, we may apply it when not needed or not apply it when needed.\n",
    "- **We are in a very difficult scenario**: many positive labels have already been predicted correctly with our models, so what is left are the difficult cases.\n",
    "- **We are in a very unstable scenario**: the models predicted wrongly in some cases, so the rules are acting over uncertain prior knowledge. With neural networks, the prediction is worse than with genetic algorithm. This explains why the rules perform worst even when the scenario is easier (not so many positive labels have been predicted correctly)."
   ]
  }
 ],
 "metadata": {
  "kernelspec": {
   "display_name": "Python 3",
   "language": "python",
   "name": "python3"
  },
  "language_info": {
   "codemirror_mode": {
    "name": "ipython",
    "version": 3
   },
   "file_extension": ".py",
   "mimetype": "text/x-python",
   "name": "python",
   "nbconvert_exporter": "python",
   "pygments_lexer": "ipython3",
   "version": "3.7.6"
  }
 },
 "nbformat": 4,
 "nbformat_minor": 4
}
